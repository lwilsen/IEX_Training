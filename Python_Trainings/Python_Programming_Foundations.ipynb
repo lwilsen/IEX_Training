{
 "cells": [
  {
   "cell_type": "markdown",
   "id": "e931ef3b-7192-43b5-8e94-49caa302aec8",
   "metadata": {},
   "source": [
    "Loops"
   ]
  },
  {
   "cell_type": "code",
   "execution_count": null,
   "id": "bbfe9082-d775-4576-a134-57be65f206ea",
   "metadata": {},
   "outputs": [],
   "source": []
  },
  {
   "cell_type": "code",
   "execution_count": 2,
   "id": "fe138857-69f1-48fd-99d6-439b2bc886a9",
   "metadata": {
    "tags": []
   },
   "outputs": [
    {
     "name": "stdout",
     "output_type": "stream",
     "text": [
      "Benz\n",
      "BMW\n",
      "Audi\n"
     ]
    }
   ],
   "source": [
    "cars = [\"Benz\", \"BMW\", \"Audi\"]\n",
    "\n",
    "for makes in cars:\n",
    "    print(makes)"
   ]
  },
  {
   "cell_type": "markdown",
   "id": "155a90e8-32f1-429c-93cf-2e31023e2d37",
   "metadata": {},
   "source": [
    "Nesting loops"
   ]
  },
  {
   "cell_type": "code",
   "execution_count": 3,
   "id": "ae1034d8-4a2d-4f14-bb8a-89b5b4bbac06",
   "metadata": {
    "tags": []
   },
   "outputs": [
    {
     "name": "stdout",
     "output_type": "stream",
     "text": [
      "Benz\n",
      "BMW\n",
      "Audi\n",
      "Ford\n",
      "Dodge\n",
      "Chrysler\n",
      "Toyota\n",
      "Hyundai\n"
     ]
    }
   ],
   "source": [
    "cars = [[\"Benz\", \"BMW\", \"Audi\"], [\"Ford\", \"Dodge\", \"Chrysler\"], [\"Toyota\", \"Hyundai\"]]\n",
    "\n",
    "for lists in cars:\n",
    "    for models in lists:\n",
    "        print(models)"
   ]
  },
  {
   "cell_type": "markdown",
   "id": "12712ef5-d3f4-4de6-895d-fe3736984fd9",
   "metadata": {},
   "source": [
    "CONTROL STATEMENTS"
   ]
  },
  {
   "cell_type": "code",
   "execution_count": 7,
   "id": "d2de412f-a63d-48a6-8874-def121da0c19",
   "metadata": {
    "tags": []
   },
   "outputs": [
    {
     "name": "stdout",
     "output_type": "stream",
     "text": [
      "1\n",
      "2\n",
      "4\n",
      "5\n",
      "6\n"
     ]
    }
   ],
   "source": [
    "### Continue\n",
    "numbers = [1, 2, 3, 4, 5, 6]\n",
    "\n",
    "for i in numbers:\n",
    "    if i == 3:\n",
    "        continue\n",
    "    print(i)\n",
    "# continue skips whatever meets the above condition\n",
    "# pass is for functions"
   ]
  },
  {
   "cell_type": "code",
   "execution_count": null,
   "id": "75490e2b-ee3c-4823-9961-5281c973440c",
   "metadata": {},
   "outputs": [],
   "source": [
    "### Break stops the while iteration once a condition is met"
   ]
  },
  {
   "cell_type": "code",
   "execution_count": 6,
   "id": "2bb58448-189f-4604-97f5-927b0e74e8d9",
   "metadata": {},
   "outputs": [
    {
     "name": "stdout",
     "output_type": "stream",
     "text": [
      "\n",
      "        Menu\n",
      "        1. Add two numbers\n",
      "        2. subtract two numbers\n",
      "        3. divide two numbers\n",
      "        4. multiply two numbers\n",
      "        5. calculate 8% tax on a value\n",
      "        6. calculate monthly payments, given a total amount and anumber of years\n",
      "        7. Quit\n",
      "        \n"
     ]
    },
    {
     "name": "stdin",
     "output_type": "stream",
     "text": [
      "Enter menu choice between 1 and 6:  1\n"
     ]
    },
    {
     "name": "stdout",
     "output_type": "stream",
     "text": [
      "1\n"
     ]
    },
    {
     "name": "stdin",
     "output_type": "stream",
     "text": [
      "1st number:  456382\n",
      "2nd number:  485738321\n"
     ]
    },
    {
     "name": "stdout",
     "output_type": "stream",
     "text": [
      "OUTPUT: 486194703\n",
      "\n",
      "        Menu\n",
      "        1. Add two numbers\n",
      "        2. subtract two numbers\n",
      "        3. divide two numbers\n",
      "        4. multiply two numbers\n",
      "        5. calculate 8% tax on a value\n",
      "        6. calculate monthly payments, given a total amount and anumber of years\n",
      "        7. Quit\n",
      "        \n"
     ]
    },
    {
     "name": "stdin",
     "output_type": "stream",
     "text": [
      "Enter menu choice between 1 and 6:  7\n"
     ]
    },
    {
     "name": "stdout",
     "output_type": "stream",
     "text": [
      "7\n"
     ]
    }
   ],
   "source": [
    "# Python calculator program\n",
    "while True:\n",
    "    # Print menu\n",
    "    print(\n",
    "        \"\"\"\n",
    "        Menu\n",
    "        1. Add two numbers\n",
    "        2. subtract two numbers\n",
    "        3. divide two numbers\n",
    "        4. multiply two numbers\n",
    "        5. calculate 8% tax on a value\n",
    "        6. calculate monthly payments, given a total amount and anumber of years\n",
    "        7. Quit\n",
    "        \"\"\"\n",
    "    )\n",
    "\n",
    "    user_input = int(input(\"Enter menu choice between 1 and 6: \"))\n",
    "    print(user_input)\n",
    "\n",
    "    if user_input == 1:\n",
    "        num_1 = int(input(\"1st number: \"))\n",
    "        num_2 = int(input(\"2nd number: \"))\n",
    "        output = num_1 + num_2\n",
    "        print(\"OUTPUT: \" + str(output))\n",
    "\n",
    "    if user_input == 7:\n",
    "        break"
   ]
  },
  {
   "cell_type": "code",
   "execution_count": 10,
   "id": "2489b2f8-5448-49f8-a6bc-83e1cf9d32da",
   "metadata": {
    "tags": []
   },
   "outputs": [
    {
     "name": "stdin",
     "output_type": "stream",
     "text": [
      "Enter your name luke\n",
      "Enter your height 1700\n",
      "Enter your hair color RED\n"
     ]
    },
    {
     "name": "stdout",
     "output_type": "stream",
     "text": [
      "Hello Luke, you are 1700 cm!\n",
      "We hear your hair color is red\n"
     ]
    }
   ],
   "source": [
    "### Function Exercise\n",
    "\n",
    "\n",
    "def introduction(name, height=165, hair_color=\"red\"):\n",
    "    name = name.capitalize()\n",
    "    print(f\"Hello {name}, you are \" + str(height) + \" cm!\")\n",
    "    hair_color = hair_color.lower()\n",
    "    print(f\"We hear your hair color is {hair_color}\")\n",
    "\n",
    "\n",
    "name = input(\"Enter your name\")\n",
    "height = input(\"Enter your height\")\n",
    "hair_color = input(\"Enter your hair color\")\n",
    "introduction(name, height, hair_color)"
   ]
  },
  {
   "cell_type": "markdown",
   "id": "4977010e-857f-4e15-8158-d7d66d6bc22c",
   "metadata": {},
   "source": [
    "MODULES\n",
    "\n",
    "IMPORTING\n",
    "\n",
    "LOCATION\n",
    "\n",
    "CREATION"
   ]
  },
  {
   "cell_type": "markdown",
   "id": "04dbec91-7292-476f-aa14-0c6e932ecaff",
   "metadata": {
    "tags": []
   },
   "source": [
    "import introduction as intro"
   ]
  },
  {
   "cell_type": "code",
   "execution_count": 17,
   "id": "80d43372-c074-46fe-81d3-3a8a2888124d",
   "metadata": {
    "tags": []
   },
   "outputs": [],
   "source": [
    "from introduction import introduction as intro"
   ]
  },
  {
   "cell_type": "code",
   "execution_count": 18,
   "id": "69400774-98a2-46a9-8cdb-7cf633755e7d",
   "metadata": {
    "tags": []
   },
   "outputs": [
    {
     "name": "stdout",
     "output_type": "stream",
     "text": [
      "Hello Luke, you are 132 cm!\n",
      "We hear your hair color is brown\n"
     ]
    }
   ],
   "source": [
    "intro(\"luke\", 132, \"brown\")"
   ]
  },
  {
   "cell_type": "code",
   "execution_count": 19,
   "id": "cb1746e8-288c-4b7b-8f88-f9ab6b664f72",
   "metadata": {
    "tags": []
   },
   "outputs": [
    {
     "data": {
      "text/plain": [
       "'/Users/lukewilsen/Desktop/introduction.py'"
      ]
     },
     "execution_count": 19,
     "metadata": {},
     "output_type": "execute_result"
    }
   ],
   "source": [
    "introduction.__file__  # gives path of module"
   ]
  },
  {
   "cell_type": "code",
   "execution_count": 28,
   "id": "dc625e86-66a5-4627-88b7-efdb3736a068",
   "metadata": {
    "tags": []
   },
   "outputs": [],
   "source": [
    "# Time\n",
    "\n",
    "### Epoch (beginning of time for unix systems: Midnight January 1, 1970 UTC)\n",
    "\n",
    "import time as t"
   ]
  },
  {
   "cell_type": "code",
   "execution_count": 48,
   "id": "13d0d48d-9c16-4a27-9c6a-d728481ea8fb",
   "metadata": {
    "tags": []
   },
   "outputs": [
    {
     "name": "stdout",
     "output_type": "stream",
     "text": [
      "local time at Wed Feb  7 09:15:59 2024\n"
     ]
    }
   ],
   "source": [
    "seconds = t.time()\n",
    "\n",
    "local_time = t.ctime(seconds)\n",
    "\n",
    "print(f\"local time at {local_time}\")"
   ]
  },
  {
   "cell_type": "code",
   "execution_count": 53,
   "id": "c8bce8bf-1b91-4055-b3bd-2f8d21aba5d7",
   "metadata": {
    "tags": []
   },
   "outputs": [
    {
     "name": "stdout",
     "output_type": "stream",
     "text": [
      "going to sleep\n",
      "awake!\n"
     ]
    }
   ],
   "source": [
    "### sleep()\n",
    "print(\"going to sleep\")\n",
    "t.sleep(5)\n",
    "print(\"awake!\")\n",
    "\n",
    "# useful for api calls when you can't continuously query a dataset, and need to wait a certain amount of time\n",
    "# before querying again"
   ]
  },
  {
   "cell_type": "code",
   "execution_count": 54,
   "id": "7d765bfa-32fb-47da-9779-dec68197657e",
   "metadata": {
    "tags": []
   },
   "outputs": [
    {
     "data": {
      "text/plain": [
       "time.struct_time"
      ]
     },
     "execution_count": 54,
     "metadata": {},
     "output_type": "execute_result"
    }
   ],
   "source": [
    "### time.struct_time CLASS"
   ]
  },
  {
   "cell_type": "code",
   "execution_count": 57,
   "id": "0ef14f32-1f88-4af7-b259-d023f32fd9c3",
   "metadata": {
    "tags": []
   },
   "outputs": [
    {
     "data": {
      "text/plain": [
       "21"
      ]
     },
     "execution_count": 57,
     "metadata": {},
     "output_type": "execute_result"
    }
   ],
   "source": [
    "# localtime()\n",
    "\n",
    "local_time_struct = t.localtime()"
   ]
  },
  {
   "cell_type": "code",
   "execution_count": 62,
   "id": "2348baf2-39cf-4e3f-92f6-bd73f55d5622",
   "metadata": {
    "tags": []
   },
   "outputs": [],
   "source": [
    "import calendar as ca"
   ]
  },
  {
   "cell_type": "code",
   "execution_count": 69,
   "id": "2fd6ebaa-56a7-4f73-82ed-fa1e8768564d",
   "metadata": {
    "tags": []
   },
   "outputs": [
    {
     "name": "stdout",
     "output_type": "stream",
     "text": [
      "0\n",
      "1\n",
      "2\n",
      "3\n",
      "4\n",
      "5\n",
      "6\n",
      "2024-01-29\n",
      "2024-01-30\n",
      "2024-01-31\n",
      "2024-02-01\n",
      "2024-02-02\n",
      "2024-02-03\n",
      "2024-02-04\n",
      "2024-02-05\n",
      "2024-02-06\n",
      "2024-02-07\n",
      "2024-02-08\n",
      "2024-02-09\n",
      "2024-02-10\n",
      "2024-02-11\n",
      "2024-02-12\n",
      "2024-02-13\n",
      "2024-02-14\n",
      "2024-02-15\n",
      "2024-02-16\n",
      "2024-02-17\n",
      "2024-02-18\n",
      "2024-02-19\n",
      "2024-02-20\n",
      "2024-02-21\n",
      "2024-02-22\n",
      "2024-02-23\n",
      "2024-02-24\n",
      "2024-02-25\n",
      "2024-02-26\n",
      "2024-02-27\n",
      "2024-02-28\n",
      "2024-02-29\n",
      "2024-03-01\n",
      "2024-03-02\n",
      "2024-03-03\n",
      "   February 2024\n",
      "Mo Tu We Th Fr Sa Su\n",
      "          1  2  3  4\n",
      " 5  6  7  8  9 10 11\n",
      "12 13 14 15 16 17 18\n",
      "19 20 21 22 23 24 25\n",
      "26 27 28 29\n",
      "\n"
     ]
    }
   ],
   "source": [
    "# 0 - Monday\n",
    "# 6 - Sunday\n",
    "\n",
    "cal = ca.Calendar(firstweekday=0)\n",
    "\n",
    "for x in cal.iterweekdays():\n",
    "    print(x)\n",
    "\n",
    "cal2 = ca.Calendar()\n",
    "\n",
    "for x in cal2.itermonthdates(2024, 2):\n",
    "    print(x)\n",
    "\n",
    "print(ca.month(2024, 2))"
   ]
  },
  {
   "cell_type": "code",
   "execution_count": 76,
   "id": "916a766b-4cb2-4d5b-848a-f91639dd7529",
   "metadata": {
    "tags": []
   },
   "outputs": [
    {
     "name": "stdout",
     "output_type": "stream",
     "text": [
      "time.struct_time(tm_year=2024, tm_mon=2, tm_mday=7, tm_hour=9, tm_min=30, tm_sec=24, tm_wday=2, tm_yday=38, tm_isdst=-1)\n"
     ]
    }
   ],
   "source": [
    "# timetuple\n",
    "\n",
    "import datetime\n",
    "\n",
    "now_object = datetime.datetime.today()\n",
    "\n",
    "obj_timetup = now_object.timetuple()\n",
    "\n",
    "print(obj_timetup)\n",
    "# similar to previous struct_time class"
   ]
  },
  {
   "cell_type": "code",
   "execution_count": 78,
   "id": "cdf67d12-f4b5-4c12-a5c1-9c6101f03f9e",
   "metadata": {
    "tags": []
   },
   "outputs": [
    {
     "name": "stdout",
     "output_type": "stream",
     "text": [
      "Year: 2024\n",
      "Month: 2\n",
      "Day: 7\n"
     ]
    }
   ],
   "source": [
    "print(\"Year:\", now_object.timetuple()[0])\n",
    "print(\"Month:\", now_object.timetuple()[1])\n",
    "print(\"Day:\", now_object.timetuple()[2])"
   ]
  },
  {
   "cell_type": "code",
   "execution_count": 3,
   "id": "ffcc00c9-d949-4266-bc78-ef769352e280",
   "metadata": {
    "tags": []
   },
   "outputs": [
    {
     "name": "stdout",
     "output_type": "stream",
     "text": [
      "17:21:13\n"
     ]
    }
   ],
   "source": [
    "### Getting current time\n",
    "\n",
    "from datetime import datetime\n",
    "\n",
    "now = datetime.now()\n",
    "\n",
    "current_time = now.strftime(\"%H:%M:%S\")\n",
    "print(current_time)"
   ]
  },
  {
   "cell_type": "code",
   "execution_count": 5,
   "id": "aad40fea-b6f3-45da-9531-2f1b2da434d8",
   "metadata": {
    "tags": []
   },
   "outputs": [
    {
     "name": "stdout",
     "output_type": "stream",
     "text": [
      "2024\n",
      "02\n"
     ]
    }
   ],
   "source": [
    "### Getting formatted time\n",
    "\n",
    "year = now.strftime(\"%Y\")\n",
    "print(year)\n",
    "\n",
    "month = now.strftime(\"%m\")  # month is a small m, Minute is a big M\n",
    "print(month)"
   ]
  },
  {
   "cell_type": "code",
   "execution_count": 10,
   "id": "910cc0a1-5a13-4697-9063-f988edca1098",
   "metadata": {
    "tags": []
   },
   "outputs": [
    {
     "name": "stdout",
     "output_type": "stream",
     "text": [
      "4\n"
     ]
    }
   ],
   "source": [
    "### Classes and Objects\n",
    "\n",
    "\n",
    "class Car:\n",
    "    number_of_wheels = 4\n",
    "\n",
    "\n",
    "ford = Car()\n",
    "print(ford.number_of_wheels)"
   ]
  },
  {
   "cell_type": "code",
   "execution_count": 16,
   "id": "06c8c3d1-17b7-411d-80e8-151b50961acf",
   "metadata": {
    "tags": []
   },
   "outputs": [
    {
     "name": "stdout",
     "output_type": "stream",
     "text": [
      "Ford\n",
      "C-300\n"
     ]
    }
   ],
   "source": [
    "# the __init__ function\n",
    "\n",
    "\n",
    "class Car:\n",
    "    def __init__(self, make, model):\n",
    "        self.make = make\n",
    "        self.model = model\n",
    "\n",
    "\n",
    "brand_1 = Car(\"Ford\", \"Edge\")\n",
    "brand_2 = Car(\"Benz\", \"C-300\")\n",
    "brand_3 = Car(\"Toyota\", \"Corolla\")\n",
    "\n",
    "print(brand_1.make)\n",
    "print(brand_2.model)"
   ]
  },
  {
   "cell_type": "markdown",
   "id": "47b18ef3-ffa4-48bd-b49d-7b5ff94cf85a",
   "metadata": {},
   "source": [
    "### Object Methods"
   ]
  },
  {
   "cell_type": "code",
   "execution_count": 20,
   "id": "d7e14a14-5bed-4299-bbc9-5f49c992b905",
   "metadata": {
    "tags": []
   },
   "outputs": [
    {
     "name": "stdout",
     "output_type": "stream",
     "text": [
      "I am a Toyota Corolla and I drive at a max speed of 180 mph\n"
     ]
    }
   ],
   "source": [
    "class Car:\n",
    "    def __init__(self, make, model, max_speed):\n",
    "        self.make = make\n",
    "        self.model = model\n",
    "        self.max_speed = max_speed\n",
    "\n",
    "    def drive(self):\n",
    "        print(\n",
    "            f\"I am a {self.make} {self.model} and I drive at a max speed of {self.max_speed} mph\"\n",
    "        )\n",
    "\n",
    "\n",
    "brand_1 = Car(\"Ford\", \"Edge\", 200)\n",
    "brand_2 = Car(\"Benz\", \"C-300\", 260)\n",
    "brand_3 = Car(\"Toyota\", \"Corolla\", 180)\n",
    "\n",
    "brand_3.drive()"
   ]
  },
  {
   "cell_type": "markdown",
   "id": "2dc0ab1e-fce5-4e53-9be2-0175306484fd",
   "metadata": {},
   "source": [
    "## Garbage Collection"
   ]
  },
  {
   "cell_type": "code",
   "execution_count": 1,
   "id": "e7e2c0c4-43dc-486e-bbd7-ab2a02adc8f8",
   "metadata": {},
   "outputs": [],
   "source": [
    "boys = [\"Tom\", \"Harry\", \"Will\"]\n",
    "\n",
    "girls = [\"Anna\", \"Becky\", \"Vanessa\"]"
   ]
  },
  {
   "cell_type": "code",
   "execution_count": 4,
   "id": "3c731fc6-2571-4cc4-b179-f7c30d4abceb",
   "metadata": {},
   "outputs": [
    {
     "name": "stdout",
     "output_type": "stream",
     "text": [
      "Tom is married to Anna\n",
      "Harry is married to Becky\n",
      "Will is married to Vanessa\n"
     ]
    }
   ],
   "source": [
    "for i, j in zip(boys, girls):\n",
    "    print(f\"{i} is married to {j}\")"
   ]
  },
  {
   "cell_type": "code",
   "execution_count": 6,
   "id": "1bd55491-19b4-452a-a885-c3e384031173",
   "metadata": {},
   "outputs": [
    {
     "name": "stdout",
     "output_type": "stream",
     "text": [
      "['George', 'Sam', 'Jim']\n"
     ]
    }
   ],
   "source": [
    "boys = [\"George\", \"Sam\", \"Jim\"]\n",
    "print(boys)"
   ]
  },
  {
   "cell_type": "code",
   "execution_count": 11,
   "id": "c8435c9e-1f11-4269-864c-fdee62058b80",
   "metadata": {},
   "outputs": [
    {
     "ename": "NameError",
     "evalue": "name 'x' is not defined",
     "output_type": "error",
     "traceback": [
      "\u001b[0;31m---------------------------------------------------------------------------\u001b[0m",
      "\u001b[0;31mNameError\u001b[0m                                 Traceback (most recent call last)",
      "Cell \u001b[0;32mIn[11], line 3\u001b[0m\n\u001b[1;32m      1\u001b[0m \u001b[38;5;28;01mimport\u001b[39;00m \u001b[38;5;21;01msys\u001b[39;00m\n\u001b[0;32m----> 3\u001b[0m sys\u001b[38;5;241m.\u001b[39mgetrefcount(x)\n",
      "\u001b[0;31mNameError\u001b[0m: name 'x' is not defined"
     ]
    }
   ],
   "source": [
    "import sys\n",
    "\n",
    "sys.getrefcount(x)"
   ]
  },
  {
   "cell_type": "markdown",
   "id": "085b3da5-424c-4205-a2db-cd3b4ae6fbc9",
   "metadata": {},
   "source": [
    "## Inheritance"
   ]
  },
  {
   "cell_type": "code",
   "execution_count": 18,
   "id": "05e9ea20-98a9-4287-a0a0-539da6f269a3",
   "metadata": {},
   "outputs": [],
   "source": [
    "class person:\n",
    "    def __init__(self, first_name, last_name):\n",
    "        self.first_name = first_name\n",
    "        self.last_name = last_name\n",
    "\n",
    "    def print_name(self):\n",
    "        print(f\"My name is {self.first_name} {self.last_name}\")\n",
    "\n",
    "\n",
    "sam = person(\"Sam\", \"Thompson\")"
   ]
  },
  {
   "cell_type": "code",
   "execution_count": 19,
   "id": "e10eced8-ceb6-4016-9c31-9a4973e35f78",
   "metadata": {},
   "outputs": [
    {
     "name": "stdout",
     "output_type": "stream",
     "text": [
      "My name is Sam Thompson\n"
     ]
    }
   ],
   "source": [
    "sam.print_name()"
   ]
  },
  {
   "cell_type": "code",
   "execution_count": 43,
   "id": "b9ab8c40-d62c-4fda-8366-6e79f12f00e3",
   "metadata": {},
   "outputs": [
    {
     "name": "stdout",
     "output_type": "stream",
     "text": [
      "My major is being a god and I LOVE it!\n",
      "My major is tending maester aemon and I hate it.\n"
     ]
    }
   ],
   "source": [
    "class student(person):\n",
    "    def __init__(self, first_name, last_name, major, mood):\n",
    "        super().__init__(first_name, last_name)\n",
    "        self.major = major\n",
    "        self.mood = mood\n",
    "\n",
    "    def print_major(self):\n",
    "        if self.mood == \"happy\":\n",
    "            expression = \"LOVE\"\n",
    "            end = \"!\"\n",
    "        elif self.mood == \"sad\":\n",
    "            expression = \"hate\"\n",
    "            end = \".\"\n",
    "        else:\n",
    "            print(\"Mood entered is invalid\")\n",
    "\n",
    "        print(f\"My major is {self.major} and I {expression} it{end}\")\n",
    "\n",
    "\n",
    "student1 = student(\"Jon\", \"Snow\", \"being a god\", \"happy\")\n",
    "student1.print_major()\n",
    "\n",
    "student2 = student(\"Samwell\", \"Tarly\", \"tending maester aemon\", \"sad\")\n",
    "student2.print_major()"
   ]
  },
  {
   "cell_type": "markdown",
   "id": "21631784-43cb-4684-87b6-e87c5b2475bf",
   "metadata": {},
   "source": [
    "## Sets\n",
    "\n",
    "List with no duplicates. Same brackets as dictionaries, but without the key:value pair structure. No order/index in sets."
   ]
  },
  {
   "cell_type": "code",
   "execution_count": 1,
   "id": "3600825f-341e-4057-a6cc-e67e44edb32a",
   "metadata": {
    "tags": []
   },
   "outputs": [],
   "source": [
    "my_set = {\"orange\", \"kiwi\", \"apple\", \"banana\"}"
   ]
  },
  {
   "cell_type": "code",
   "execution_count": 7,
   "id": "83f08da8-cdbc-496d-ade8-d65d7a66b3a9",
   "metadata": {
    "tags": []
   },
   "outputs": [
    {
     "data": {
      "text/plain": [
       "{'apple', 'banana', 'grapes', 'kiwi', 'orange'}"
      ]
     },
     "execution_count": 7,
     "metadata": {},
     "output_type": "execute_result"
    }
   ],
   "source": [
    "my_set.add(\"grapes\")\n",
    "my_set\n",
    "# Added to the middle of the list"
   ]
  },
  {
   "cell_type": "code",
   "execution_count": 8,
   "id": "322974e3-f702-4374-aee9-b6b7d2ec46c8",
   "metadata": {
    "tags": []
   },
   "outputs": [
    {
     "data": {
      "text/plain": [
       "{'apple', 'banana', 'kiwi', 'orange'}"
      ]
     },
     "execution_count": 8,
     "metadata": {},
     "output_type": "execute_result"
    }
   ],
   "source": [
    "my_set.remove(\"grapes\")\n",
    "my_set"
   ]
  },
  {
   "cell_type": "code",
   "execution_count": 17,
   "id": "e245c52c-92e0-4007-8aa8-0c8fc75e04d5",
   "metadata": {
    "tags": []
   },
   "outputs": [
    {
     "data": {
      "text/plain": [
       "[1, 2, 3, 4, 5, 6, 2, 2, 2, 2]"
      ]
     },
     "execution_count": 17,
     "metadata": {},
     "output_type": "execute_result"
    }
   ],
   "source": [
    "list_1 = [1, 2, 3, 4, 5, 6, 2, 2, 2, 2]\n",
    "list_1"
   ]
  },
  {
   "cell_type": "code",
   "execution_count": 16,
   "id": "fb8ecfb2-c1a2-4234-8fbd-18823302a234",
   "metadata": {
    "tags": []
   },
   "outputs": [
    {
     "data": {
      "text/plain": [
       "{1, 2, 3, 4, 5, 6}"
      ]
     },
     "execution_count": 16,
     "metadata": {},
     "output_type": "execute_result"
    }
   ],
   "source": [
    "list_to_set = set(list_1)\n",
    "type(list_to_set)\n",
    "list_to_set"
   ]
  },
  {
   "cell_type": "code",
   "execution_count": 19,
   "id": "32886a05-3598-4b5d-9705-eb4db29d149d",
   "metadata": {
    "tags": []
   },
   "outputs": [],
   "source": [
    "import tkinter as tk\n",
    "from tkinter import *"
   ]
  },
  {
   "cell_type": "code",
   "execution_count": 37,
   "id": "90591f35-e74a-4a84-a7dc-958c6289a8c3",
   "metadata": {
    "tags": []
   },
   "outputs": [],
   "source": [
    "# creating window with tkinter (GUI) (structure needs to be the same as below)\n",
    "\n",
    "window = tk.Tk()\n",
    "\n",
    "\n",
    "def click():\n",
    "    entered_text = textentry.get()  # collect the text from the entry box\n",
    "\n",
    "\n",
    "window.title(\"A simple login window\")\n",
    "\n",
    "# creating label\n",
    "label_1 = Label(\n",
    "    window, text=\"Enter username\", bg=\"black\", fg=\"white\", font=\"none 12 bold\"\n",
    ")\n",
    "label_1.grid(row=0, column=0, sticky=W)\n",
    "\n",
    "# password label\n",
    "password_label = Label(\n",
    "    window, text=\"Enter Password\", bg=\"black\", fg=\"white\", font=\"none 12 bold\"\n",
    ")\n",
    "password_label.grid(row=0, column=1, sticky=W)\n",
    "\n",
    "# creating text entry box\n",
    "textentry = Entry(window, width=20, bg=\"white\")\n",
    "textentry.grid(row=1, column=0, sticky=W)\n",
    "\n",
    "# pwd text entry box\n",
    "textentry2 = Entry(window, width=20, bg=\"white\")\n",
    "textentry2.grid(row=1, column=1, sticky=W)\n",
    "\n",
    "# add submit button\n",
    "button = Button(window, text=\"Submit\", width=7, command=click)\n",
    "button.grid(row=3, column=1, sticky=W)\n",
    "\n",
    "\n",
    "window.mainloop()"
   ]
  },
  {
   "cell_type": "code",
   "execution_count": null,
   "id": "6a29b7bd-a522-4af1-ac67-6f297b42ad86",
   "metadata": {},
   "outputs": [],
   "source": []
  }
 ],
 "metadata": {
  "kernelspec": {
   "display_name": "Python 3 (ipykernel)",
   "language": "python",
   "name": "python3"
  },
  "language_info": {
   "codemirror_mode": {
    "name": "ipython",
    "version": 3
   },
   "file_extension": ".py",
   "mimetype": "text/x-python",
   "name": "python",
   "nbconvert_exporter": "python",
   "pygments_lexer": "ipython3",
   "version": "3.11.5"
  }
 },
 "nbformat": 4,
 "nbformat_minor": 5
}

{
 "cells": [
  {
   "cell_type": "markdown",
   "id": "94eeea8d-47c8-450c-9a0c-fb169a194daa",
   "metadata": {},
   "source": [
    "# List comprehension"
   ]
  },
  {
   "cell_type": "code",
   "execution_count": null,
   "id": "3bf3effd-c010-40b6-995a-b68b70c24f2e",
   "metadata": {},
   "outputs": [],
   "source": [
    "variable = [out_expression for out_expression in input_list if out_expression == 2]"
   ]
  },
  {
   "cell_type": "code",
   "execution_count": 4,
   "id": "5b8fb929-2cbe-41cd-906b-fabfe8f63674",
   "metadata": {
    "tags": []
   },
   "outputs": [
    {
     "data": {
      "text/plain": [
       "[0, 3, 6, 9, 12, 15, 18, 21, 24, 27]"
      ]
     },
     "execution_count": 4,
     "metadata": {},
     "output_type": "execute_result"
    }
   ],
   "source": [
    "multiples_3 = [number for number in range(30) if number % 3 ==0]\n",
    "multiples_3"
   ]
  },
  {
   "cell_type": "markdown",
   "id": "265410da-2f34-47bc-aaac-bdf6093d48de",
   "metadata": {},
   "source": [
    "### Nested List Comprehension"
   ]
  },
  {
   "cell_type": "code",
   "execution_count": 7,
   "id": "e312de62-959e-4460-9898-a14fb7682750",
   "metadata": {
    "tags": []
   },
   "outputs": [
    {
     "data": {
      "text/plain": [
       "[[0, 1, 2, 3, 4, 5, 6, 7, 8, 9], [0, 1, 2, 3, 4, 5, 6, 7, 8, 9]]"
      ]
     },
     "execution_count": 7,
     "metadata": {},
     "output_type": "execute_result"
    }
   ],
   "source": [
    "matrix = [[number for number in range(10)] for col in range(2)]\n",
    "#you can reference a list comprehension, as you would reference a variable\n",
    "\n",
    "matrix"
   ]
  },
  {
   "cell_type": "markdown",
   "id": "218ff43a-770b-46d3-8098-b3dc590297a4",
   "metadata": {
    "tags": []
   },
   "source": [
    "### Multiple list"
   ]
  },
  {
   "cell_type": "code",
   "execution_count": 9,
   "id": "f52d5295-4e72-4f91-8bde-048784f1c37d",
   "metadata": {
    "tags": []
   },
   "outputs": [],
   "source": [
    "list_1 = ['A', 'B', 'C', 'D', 'E']\n",
    "list_2 = [1,2,3,4,5]\n",
    "list_3 = ['v', 'w','x','y','z']\n",
    "\n",
    "# expected output = [('A', 10, 'v'),( ... etc.)]"
   ]
  },
  {
   "cell_type": "code",
   "execution_count": 11,
   "id": "fc72f026-7e60-4398-bb55-aa7ea334efc7",
   "metadata": {
    "tags": []
   },
   "outputs": [
    {
     "data": {
      "text/plain": [
       "[('A', 1, 'v'), ('B', 2, 'w'), ('C', 3, 'x'), ('D', 4, 'y'), ('E', 5, 'z')]"
      ]
     },
     "execution_count": 11,
     "metadata": {},
     "output_type": "execute_result"
    }
   ],
   "source": [
    "final = [(a,b,c) for a,b,c in zip(list_1,list_2,list_3)]\n",
    "final"
   ]
  },
  {
   "cell_type": "code",
   "execution_count": 14,
   "id": "6f958922-df25-431d-b9f5-ad4ba273375a",
   "metadata": {
    "tags": []
   },
   "outputs": [
    {
     "name": "stdout",
     "output_type": "stream",
     "text": [
      "[('A', 1, 'v'), ('B', 2, 'w'), ('C', 3, 'x'), ('D', 4, 'y'), ('E', 5, 'z')]\n"
     ]
    }
   ],
   "source": [
    "print(list(zip(list_1,list_2,list_3)))"
   ]
  },
  {
   "cell_type": "code",
   "execution_count": 27,
   "id": "a9289e1d-f75f-4184-87f8-7abea66cb331",
   "metadata": {
    "tags": []
   },
   "outputs": [
    {
     "data": {
      "text/plain": [
       "{68: 'a', 26: 'b', 7: 'f'}"
      ]
     },
     "execution_count": 27,
     "metadata": {},
     "output_type": "execute_result"
    }
   ],
   "source": [
    "case_freq = {'a':68, 'b':26, 'f':7}\n",
    "\n",
    "case_swap = {oldval:oldkey for oldkey,oldval in case_freq.items()}\n",
    "#This ordering of oldkey,oldval matters\n",
    "case_swap"
   ]
  },
  {
   "cell_type": "markdown",
   "id": "56f333d1-c025-4118-a2fc-00e5d805b8ec",
   "metadata": {},
   "source": [
    "## Args and Kwargs"
   ]
  },
  {
   "cell_type": "code",
   "execution_count": 28,
   "id": "0a1de697-1254-4408-936e-fd75bbc84952",
   "metadata": {
    "tags": []
   },
   "outputs": [],
   "source": [
    "def test(arg1, arg2, arg3):\n",
    "    print('arg1: ', arg1)\n",
    "    print('arg2: ', arg2)\n",
    "    print('arg3: ', arg3)\n"
   ]
  },
  {
   "cell_type": "code",
   "execution_count": 32,
   "id": "f883555b-797d-486a-84bf-75d1abb1d9bc",
   "metadata": {
    "tags": []
   },
   "outputs": [],
   "source": [
    "args = ('one',2,'three')"
   ]
  },
  {
   "cell_type": "code",
   "execution_count": 33,
   "id": "ebcc3f9d-6463-43f6-a55a-20e483057976",
   "metadata": {
    "tags": []
   },
   "outputs": [
    {
     "name": "stdout",
     "output_type": "stream",
     "text": [
      "arg1:  one\n",
      "arg2:  2\n",
      "arg3:  three\n"
     ]
    }
   ],
   "source": [
    "test(*args)"
   ]
  },
  {
   "cell_type": "code",
   "execution_count": 44,
   "id": "fa8bf906-24c3-4cef-8463-1026f60b0c20",
   "metadata": {
    "tags": []
   },
   "outputs": [],
   "source": [
    "kwargs = {'arg3':'football', 'arg2':'soccer', 'arg1':'Rugby'}"
   ]
  },
  {
   "cell_type": "code",
   "execution_count": 45,
   "id": "ff22c14b-bf3d-47c7-aed1-ec11ac9b0bea",
   "metadata": {
    "tags": []
   },
   "outputs": [
    {
     "name": "stdout",
     "output_type": "stream",
     "text": [
      "arg1:  Rugby\n",
      "arg2:  soccer\n",
      "arg3:  football\n"
     ]
    }
   ],
   "source": [
    "test(**kwargs)"
   ]
  },
  {
   "cell_type": "code",
   "execution_count": 58,
   "id": "d946c914-8afc-4559-b8c5-9045f1d9c592",
   "metadata": {
    "tags": []
   },
   "outputs": [
    {
     "name": "stdout",
     "output_type": "stream",
     "text": [
      "<class 'dict_items'>\n",
      "Hello my name is Luke\n",
      "Hello my hair is brown\n",
      "Hello my shoes is white\n"
     ]
    }
   ],
   "source": [
    "def greeting(**kwargs):\n",
    "    print(type(kwargs.items()))\n",
    "    for key, value in kwargs.items():\n",
    "        print(\"Hello my {0} is {1}\".format(key,value))\n",
    "        \n",
    "greeting(name = 'Luke', hair = \"brown\", shoes = \"white\")"
   ]
  },
  {
   "cell_type": "markdown",
   "id": "e72fede8-fa1a-46fc-80f0-c38b5249498a",
   "metadata": {},
   "source": [
    "# Local Functions"
   ]
  },
  {
   "cell_type": "code",
   "execution_count": 60,
   "id": "3202ce01-fe0d-4b44-8ec7-40d8f72e3100",
   "metadata": {
    "tags": []
   },
   "outputs": [
    {
     "data": {
      "text/plain": [
       "9"
      ]
     },
     "execution_count": 60,
     "metadata": {},
     "output_type": "execute_result"
    }
   ],
   "source": [
    "total = 100\n",
    "\n",
    "def addition(a,b):\n",
    "    total = a+b\n",
    "    return total\n",
    "\n",
    "addition(4,5)\n",
    "\n",
    "#Global variable total vs local total inside the function aren't the same\n",
    "#total inside the function isn't affected by global total"
   ]
  },
  {
   "cell_type": "code",
   "execution_count": 65,
   "id": "c092a614-b0bc-4e85-a845-d0c282f845d2",
   "metadata": {
    "tags": []
   },
   "outputs": [
    {
     "name": "stdout",
     "output_type": "stream",
     "text": [
      "3 5\n"
     ]
    },
    {
     "ename": "NameError",
     "evalue": "name 'inner' is not defined",
     "output_type": "error",
     "traceback": [
      "\u001b[0;31m---------------------------------------------------------------------------\u001b[0m",
      "\u001b[0;31mNameError\u001b[0m                                 Traceback (most recent call last)",
      "Cell \u001b[0;32mIn[65], line 12\u001b[0m\n\u001b[1;32m      8\u001b[0m     \u001b[38;5;28mprint\u001b[39m(num1, num2)\n\u001b[1;32m     10\u001b[0m outer(\u001b[38;5;241m3\u001b[39m)\n\u001b[0;32m---> 12\u001b[0m inner(\u001b[38;5;241m3\u001b[39m)\n",
      "\u001b[0;31mNameError\u001b[0m: name 'inner' is not defined"
     ]
    }
   ],
   "source": [
    "def outer(num1):\n",
    "    \n",
    "    def inner(num1):\n",
    "        \n",
    "        return num1 + 2\n",
    "    num2 = inner(num1)\n",
    "    \n",
    "    print(num1, num2)\n",
    "    \n",
    "outer(3)\n",
    "\n",
    "#inner(3) <-- not defined in the global environment, so you can't call it"
   ]
  },
  {
   "cell_type": "code",
   "execution_count": 67,
   "id": "9e489272-72a5-4ed0-8f3d-8651b590c965",
   "metadata": {
    "tags": []
   },
   "outputs": [],
   "source": [
    "class Counter:\n",
    "    def __init__(self):\n",
    "        self.current = 0\n",
    "        \n",
    "    def increment(self):\n",
    "        self.current += 1\n",
    "    \n",
    "    def value(self):\n",
    "        return self.current\n",
    "    \n",
    "    def reset(self):\n",
    "        self.current = 0"
   ]
  },
  {
   "cell_type": "code",
   "execution_count": 75,
   "id": "7825c22e-1717-46eb-a0e4-e15d6001fab6",
   "metadata": {
    "tags": []
   },
   "outputs": [],
   "source": [
    "counter = Counter()\n",
    "\n",
    "counter.value()\n",
    "\n",
    "counter.increment()\n",
    "\n",
    "counter.value()\n",
    "\n",
    "counter.reset()"
   ]
  },
  {
   "cell_type": "code",
   "execution_count": 76,
   "id": "989290c9-0350-4f7e-88e3-6cbe06e92200",
   "metadata": {
    "tags": []
   },
   "outputs": [
    {
     "data": {
      "text/plain": [
       "1000"
      ]
     },
     "execution_count": 76,
     "metadata": {},
     "output_type": "execute_result"
    }
   ],
   "source": [
    "counter.current = 1000\n",
    "\n",
    "counter.value()"
   ]
  },
  {
   "cell_type": "markdown",
   "id": "2f48ff41-54dd-4b1a-a155-1cc55c638144",
   "metadata": {},
   "source": [
    "## Private attribute"
   ]
  },
  {
   "cell_type": "code",
   "execution_count": null,
   "id": "1b286cca-2d94-4302-9a0b-49eefa147e41",
   "metadata": {},
   "outputs": [],
   "source": [
    "#_attribute is the convention"
   ]
  },
  {
   "cell_type": "code",
   "execution_count": 84,
   "id": "900e8d74-2e6e-4f16-b82f-e285c73a6b1b",
   "metadata": {
    "tags": []
   },
   "outputs": [],
   "source": [
    "class Counter:\n",
    "    def __init__(self):\n",
    "        self._current = 0\n",
    "        \n",
    "    def increment(self):\n",
    "        self._current += 1\n",
    "    \n",
    "    def value(self):\n",
    "        return self._current\n",
    "    \n",
    "    def reset(self):\n",
    "        self._current = 0"
   ]
  },
  {
   "cell_type": "code",
   "execution_count": 87,
   "id": "49bf6d27-305b-449c-80cb-5c6b93aa75f5",
   "metadata": {
    "tags": []
   },
   "outputs": [
    {
     "data": {
      "text/plain": [
       "0"
      ]
     },
     "execution_count": 87,
     "metadata": {},
     "output_type": "execute_result"
    }
   ],
   "source": [
    "counter2 = Counter()\n",
    "\n",
    "counter2.value() #underscore didn't change anything with class functions, it just tells the user not to mess with the \"current\" attribute"
   ]
  },
  {
   "cell_type": "markdown",
   "id": "05d1b0eb-fa7f-4f15-859f-78c3cd3f9cae",
   "metadata": {},
   "source": [
    "## Name MangLing"
   ]
  },
  {
   "cell_type": "code",
   "execution_count": 88,
   "id": "4eae10c4-31b4-4033-bc6b-47994fae6144",
   "metadata": {
    "tags": []
   },
   "outputs": [],
   "source": [
    "#__attribute\n",
    "\n",
    "#_class__attribute\n",
    "\n",
    "#so to modify the above attribute, user would have to use instance._class__attribute\n",
    "\n",
    "class Counter:\n",
    "    def __init__(self):\n",
    "        self.__current = 0\n",
    "        \n",
    "    def increment(self):\n",
    "        self.__current += 1\n",
    "    \n",
    "    def value(self):\n",
    "        return self.__current\n",
    "    \n",
    "    def reset(self):\n",
    "        self.__current = 0"
   ]
  },
  {
   "cell_type": "code",
   "execution_count": 89,
   "id": "d9d8e40a-5212-4480-b233-abca447ca51e",
   "metadata": {
    "tags": []
   },
   "outputs": [],
   "source": [
    "counter3 = Counter()"
   ]
  },
  {
   "cell_type": "code",
   "execution_count": 93,
   "id": "b44c6d97-0f4f-4a5b-84bb-c8a59a7b0319",
   "metadata": {
    "tags": []
   },
   "outputs": [
    {
     "data": {
      "text/plain": [
       "0"
      ]
     },
     "execution_count": 93,
     "metadata": {},
     "output_type": "execute_result"
    }
   ],
   "source": [
    "counter3.value()\n",
    "\n",
    "counter3.current = 3 #This won't alter the current attribute\n",
    "\n",
    "counter3.value()"
   ]
  },
  {
   "cell_type": "code",
   "execution_count": 94,
   "id": "366521b4-f4af-4fc8-b4de-c8b820d59058",
   "metadata": {
    "tags": []
   },
   "outputs": [],
   "source": [
    "counter3._Counter__current = 100 #This specific syntax alters the current attribute"
   ]
  },
  {
   "cell_type": "code",
   "execution_count": 95,
   "id": "d560996d-1f15-4931-8a67-e958e941ec03",
   "metadata": {
    "tags": []
   },
   "outputs": [
    {
     "data": {
      "text/plain": [
       "100"
      ]
     },
     "execution_count": 95,
     "metadata": {},
     "output_type": "execute_result"
    }
   ],
   "source": [
    "counter3.value()"
   ]
  },
  {
   "cell_type": "code",
   "execution_count": 97,
   "id": "5573d436-356e-4c71-8cd8-a38b82d48c00",
   "metadata": {
    "tags": []
   },
   "outputs": [
    {
     "data": {
      "text/plain": [
       "0"
      ]
     },
     "execution_count": 97,
     "metadata": {},
     "output_type": "execute_result"
    }
   ],
   "source": [
    "counter3.reset()\n",
    "counter3.value()"
   ]
  }
 ],
 "metadata": {
  "kernelspec": {
   "display_name": "Python 3 (ipykernel)",
   "language": "python",
   "name": "python3"
  },
  "language_info": {
   "codemirror_mode": {
    "name": "ipython",
    "version": 3
   },
   "file_extension": ".py",
   "mimetype": "text/x-python",
   "name": "python",
   "nbconvert_exporter": "python",
   "pygments_lexer": "ipython3",
   "version": "3.11.5"
  }
 },
 "nbformat": 4,
 "nbformat_minor": 5
}

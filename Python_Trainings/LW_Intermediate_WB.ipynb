{
 "cells": [
  {
   "cell_type": "markdown",
   "id": "94eeea8d-47c8-450c-9a0c-fb169a194daa",
   "metadata": {},
   "source": [
    "# List comprehension"
   ]
  },
  {
   "cell_type": "code",
   "execution_count": null,
   "id": "3bf3effd-c010-40b6-995a-b68b70c24f2e",
   "metadata": {},
   "outputs": [],
   "source": [
    "variable = [out_expression for out_expression in input_list if out_expression == 2]"
   ]
  },
  {
   "cell_type": "code",
   "execution_count": 4,
   "id": "5b8fb929-2cbe-41cd-906b-fabfe8f63674",
   "metadata": {
    "tags": []
   },
   "outputs": [
    {
     "data": {
      "text/plain": [
       "[0, 3, 6, 9, 12, 15, 18, 21, 24, 27]"
      ]
     },
     "execution_count": 4,
     "metadata": {},
     "output_type": "execute_result"
    }
   ],
   "source": [
    "multiples_3 = [number for number in range(30) if number % 3 ==0]\n",
    "multiples_3"
   ]
  },
  {
   "cell_type": "markdown",
   "id": "265410da-2f34-47bc-aaac-bdf6093d48de",
   "metadata": {},
   "source": [
    "### Nested List Comprehension"
   ]
  },
  {
   "cell_type": "code",
   "execution_count": 7,
   "id": "e312de62-959e-4460-9898-a14fb7682750",
   "metadata": {
    "tags": []
   },
   "outputs": [
    {
     "data": {
      "text/plain": [
       "[[0, 1, 2, 3, 4, 5, 6, 7, 8, 9], [0, 1, 2, 3, 4, 5, 6, 7, 8, 9]]"
      ]
     },
     "execution_count": 7,
     "metadata": {},
     "output_type": "execute_result"
    }
   ],
   "source": [
    "matrix = [[number for number in range(10)] for col in range(2)]\n",
    "#you can reference a list comprehension, as you would reference a variable\n",
    "\n",
    "matrix"
   ]
  },
  {
   "cell_type": "markdown",
   "id": "218ff43a-770b-46d3-8098-b3dc590297a4",
   "metadata": {
    "tags": []
   },
   "source": [
    "### Multiple list"
   ]
  },
  {
   "cell_type": "code",
   "execution_count": 9,
   "id": "f52d5295-4e72-4f91-8bde-048784f1c37d",
   "metadata": {
    "tags": []
   },
   "outputs": [],
   "source": [
    "list_1 = ['A', 'B', 'C', 'D', 'E']\n",
    "list_2 = [1,2,3,4,5]\n",
    "list_3 = ['v', 'w','x','y','z']\n",
    "\n",
    "# expected output = [('A', 10, 'v'),( ... etc.)]"
   ]
  },
  {
   "cell_type": "code",
   "execution_count": 11,
   "id": "fc72f026-7e60-4398-bb55-aa7ea334efc7",
   "metadata": {
    "tags": []
   },
   "outputs": [
    {
     "data": {
      "text/plain": [
       "[('A', 1, 'v'), ('B', 2, 'w'), ('C', 3, 'x'), ('D', 4, 'y'), ('E', 5, 'z')]"
      ]
     },
     "execution_count": 11,
     "metadata": {},
     "output_type": "execute_result"
    }
   ],
   "source": [
    "final = [(a,b,c) for a,b,c in zip(list_1,list_2,list_3)]\n",
    "final"
   ]
  },
  {
   "cell_type": "code",
   "execution_count": 14,
   "id": "6f958922-df25-431d-b9f5-ad4ba273375a",
   "metadata": {
    "tags": []
   },
   "outputs": [
    {
     "name": "stdout",
     "output_type": "stream",
     "text": [
      "[('A', 1, 'v'), ('B', 2, 'w'), ('C', 3, 'x'), ('D', 4, 'y'), ('E', 5, 'z')]\n"
     ]
    }
   ],
   "source": [
    "print(list(zip(list_1,list_2,list_3)))"
   ]
  },
  {
   "cell_type": "code",
   "execution_count": 27,
   "id": "a9289e1d-f75f-4184-87f8-7abea66cb331",
   "metadata": {
    "tags": []
   },
   "outputs": [
    {
     "data": {
      "text/plain": [
       "{68: 'a', 26: 'b', 7: 'f'}"
      ]
     },
     "execution_count": 27,
     "metadata": {},
     "output_type": "execute_result"
    }
   ],
   "source": [
    "case_freq = {'a':68, 'b':26, 'f':7}\n",
    "\n",
    "case_swap = {oldval:oldkey for oldkey,oldval in case_freq.items()}\n",
    "#This ordering of oldkey,oldval matters\n",
    "case_swap"
   ]
  },
  {
   "cell_type": "markdown",
   "id": "56f333d1-c025-4118-a2fc-00e5d805b8ec",
   "metadata": {},
   "source": [
    "## Args and Kwargs"
   ]
  },
  {
   "cell_type": "code",
   "execution_count": 28,
   "id": "0a1de697-1254-4408-936e-fd75bbc84952",
   "metadata": {
    "tags": []
   },
   "outputs": [],
   "source": [
    "def test(arg1, arg2, arg3):\n",
    "    print('arg1: ', arg1)\n",
    "    print('arg2: ', arg2)\n",
    "    print('arg3: ', arg3)\n"
   ]
  },
  {
   "cell_type": "code",
   "execution_count": 32,
   "id": "f883555b-797d-486a-84bf-75d1abb1d9bc",
   "metadata": {
    "tags": []
   },
   "outputs": [],
   "source": [
    "args = ('one',2,'three')"
   ]
  },
  {
   "cell_type": "code",
   "execution_count": 33,
   "id": "ebcc3f9d-6463-43f6-a55a-20e483057976",
   "metadata": {
    "tags": []
   },
   "outputs": [
    {
     "name": "stdout",
     "output_type": "stream",
     "text": [
      "arg1:  one\n",
      "arg2:  2\n",
      "arg3:  three\n"
     ]
    }
   ],
   "source": [
    "test(*args)"
   ]
  },
  {
   "cell_type": "code",
   "execution_count": 44,
   "id": "fa8bf906-24c3-4cef-8463-1026f60b0c20",
   "metadata": {
    "tags": []
   },
   "outputs": [],
   "source": [
    "kwargs = {'arg3':'football', 'arg2':'soccer', 'arg1':'Rugby'}"
   ]
  },
  {
   "cell_type": "code",
   "execution_count": 45,
   "id": "ff22c14b-bf3d-47c7-aed1-ec11ac9b0bea",
   "metadata": {
    "tags": []
   },
   "outputs": [
    {
     "name": "stdout",
     "output_type": "stream",
     "text": [
      "arg1:  Rugby\n",
      "arg2:  soccer\n",
      "arg3:  football\n"
     ]
    }
   ],
   "source": [
    "test(**kwargs)"
   ]
  },
  {
   "cell_type": "code",
   "execution_count": 58,
   "id": "d946c914-8afc-4559-b8c5-9045f1d9c592",
   "metadata": {
    "tags": []
   },
   "outputs": [
    {
     "name": "stdout",
     "output_type": "stream",
     "text": [
      "<class 'dict_items'>\n",
      "Hello my name is Luke\n",
      "Hello my hair is brown\n",
      "Hello my shoes is white\n"
     ]
    }
   ],
   "source": [
    "def greeting(**kwargs):\n",
    "    print(type(kwargs.items()))\n",
    "    for key, value in kwargs.items():\n",
    "        print(\"Hello my {0} is {1}\".format(key,value))\n",
    "        \n",
    "greeting(name = 'Luke', hair = \"brown\", shoes = \"white\")"
   ]
  },
  {
   "cell_type": "markdown",
   "id": "e72fede8-fa1a-46fc-80f0-c38b5249498a",
   "metadata": {},
   "source": [
    "# Local Functions"
   ]
  },
  {
   "cell_type": "code",
   "execution_count": 60,
   "id": "3202ce01-fe0d-4b44-8ec7-40d8f72e3100",
   "metadata": {
    "tags": []
   },
   "outputs": [
    {
     "data": {
      "text/plain": [
       "9"
      ]
     },
     "execution_count": 60,
     "metadata": {},
     "output_type": "execute_result"
    }
   ],
   "source": [
    "total = 100\n",
    "\n",
    "def addition(a,b):\n",
    "    total = a+b\n",
    "    return total\n",
    "\n",
    "addition(4,5)\n",
    "\n",
    "#Global variable total vs local total inside the function aren't the same\n",
    "#total inside the function isn't affected by global total"
   ]
  },
  {
   "cell_type": "code",
   "execution_count": 65,
   "id": "c092a614-b0bc-4e85-a845-d0c282f845d2",
   "metadata": {
    "tags": []
   },
   "outputs": [
    {
     "name": "stdout",
     "output_type": "stream",
     "text": [
      "3 5\n"
     ]
    },
    {
     "ename": "NameError",
     "evalue": "name 'inner' is not defined",
     "output_type": "error",
     "traceback": [
      "\u001b[0;31m---------------------------------------------------------------------------\u001b[0m",
      "\u001b[0;31mNameError\u001b[0m                                 Traceback (most recent call last)",
      "Cell \u001b[0;32mIn[65], line 12\u001b[0m\n\u001b[1;32m      8\u001b[0m     \u001b[38;5;28mprint\u001b[39m(num1, num2)\n\u001b[1;32m     10\u001b[0m outer(\u001b[38;5;241m3\u001b[39m)\n\u001b[0;32m---> 12\u001b[0m inner(\u001b[38;5;241m3\u001b[39m)\n",
      "\u001b[0;31mNameError\u001b[0m: name 'inner' is not defined"
     ]
    }
   ],
   "source": [
    "def outer(num1):\n",
    "    \n",
    "    def inner(num1):\n",
    "        \n",
    "        return num1 + 2\n",
    "    num2 = inner(num1)\n",
    "    \n",
    "    print(num1, num2)\n",
    "    \n",
    "outer(3)\n",
    "\n",
    "#inner(3) <-- not defined in the global environment, so you can't call it"
   ]
  },
  {
   "cell_type": "code",
   "execution_count": 67,
   "id": "9e489272-72a5-4ed0-8f3d-8651b590c965",
   "metadata": {
    "tags": []
   },
   "outputs": [],
   "source": [
    "class Counter:\n",
    "    def __init__(self):\n",
    "        self.current = 0\n",
    "        \n",
    "    def increment(self):\n",
    "        self.current += 1\n",
    "    \n",
    "    def value(self):\n",
    "        return self.current\n",
    "    \n",
    "    def reset(self):\n",
    "        self.current = 0"
   ]
  },
  {
   "cell_type": "code",
   "execution_count": 75,
   "id": "7825c22e-1717-46eb-a0e4-e15d6001fab6",
   "metadata": {
    "tags": []
   },
   "outputs": [],
   "source": [
    "counter = Counter()\n",
    "\n",
    "counter.value()\n",
    "\n",
    "counter.increment()\n",
    "\n",
    "counter.value()\n",
    "\n",
    "counter.reset()"
   ]
  },
  {
   "cell_type": "code",
   "execution_count": 76,
   "id": "989290c9-0350-4f7e-88e3-6cbe06e92200",
   "metadata": {
    "tags": []
   },
   "outputs": [
    {
     "data": {
      "text/plain": [
       "1000"
      ]
     },
     "execution_count": 76,
     "metadata": {},
     "output_type": "execute_result"
    }
   ],
   "source": [
    "counter.current = 1000\n",
    "\n",
    "counter.value()"
   ]
  },
  {
   "cell_type": "markdown",
   "id": "2f48ff41-54dd-4b1a-a155-1cc55c638144",
   "metadata": {},
   "source": [
    "## Private attribute"
   ]
  },
  {
   "cell_type": "code",
   "execution_count": null,
   "id": "1b286cca-2d94-4302-9a0b-49eefa147e41",
   "metadata": {},
   "outputs": [],
   "source": [
    "#_attribute is the convention"
   ]
  },
  {
   "cell_type": "code",
   "execution_count": 84,
   "id": "900e8d74-2e6e-4f16-b82f-e285c73a6b1b",
   "metadata": {
    "tags": []
   },
   "outputs": [],
   "source": [
    "class Counter:\n",
    "    def __init__(self):\n",
    "        self._current = 0\n",
    "        \n",
    "    def increment(self):\n",
    "        self._current += 1\n",
    "    \n",
    "    def value(self):\n",
    "        return self._current\n",
    "    \n",
    "    def reset(self):\n",
    "        self._current = 0"
   ]
  },
  {
   "cell_type": "code",
   "execution_count": 87,
   "id": "49bf6d27-305b-449c-80cb-5c6b93aa75f5",
   "metadata": {
    "tags": []
   },
   "outputs": [
    {
     "data": {
      "text/plain": [
       "0"
      ]
     },
     "execution_count": 87,
     "metadata": {},
     "output_type": "execute_result"
    }
   ],
   "source": [
    "counter2 = Counter()\n",
    "\n",
    "counter2.value() #underscore didn't change anything with class functions, it just tells the user not to mess with the \"current\" attribute"
   ]
  },
  {
   "cell_type": "markdown",
   "id": "05d1b0eb-fa7f-4f15-859f-78c3cd3f9cae",
   "metadata": {},
   "source": [
    "## Name MangLing"
   ]
  },
  {
   "cell_type": "code",
   "execution_count": 88,
   "id": "4eae10c4-31b4-4033-bc6b-47994fae6144",
   "metadata": {
    "tags": []
   },
   "outputs": [],
   "source": [
    "#__attribute\n",
    "\n",
    "#_class__attribute\n",
    "\n",
    "#so to modify the above attribute, user would have to use instance._class__attribute\n",
    "\n",
    "class Counter:\n",
    "    def __init__(self):\n",
    "        self.__current = 0\n",
    "        \n",
    "    def increment(self):\n",
    "        self.__current += 1\n",
    "    \n",
    "    def value(self):\n",
    "        return self.__current\n",
    "    \n",
    "    def reset(self):\n",
    "        self.__current = 0"
   ]
  },
  {
   "cell_type": "code",
   "execution_count": 89,
   "id": "d9d8e40a-5212-4480-b233-abca447ca51e",
   "metadata": {
    "tags": []
   },
   "outputs": [],
   "source": [
    "counter3 = Counter()"
   ]
  },
  {
   "cell_type": "code",
   "execution_count": 93,
   "id": "b44c6d97-0f4f-4a5b-84bb-c8a59a7b0319",
   "metadata": {
    "tags": []
   },
   "outputs": [
    {
     "data": {
      "text/plain": [
       "0"
      ]
     },
     "execution_count": 93,
     "metadata": {},
     "output_type": "execute_result"
    }
   ],
   "source": [
    "counter3.value()\n",
    "\n",
    "counter3.current = 3 #This won't alter the current attribute\n",
    "\n",
    "counter3.value()"
   ]
  },
  {
   "cell_type": "code",
   "execution_count": 94,
   "id": "366521b4-f4af-4fc8-b4de-c8b820d59058",
   "metadata": {
    "tags": []
   },
   "outputs": [],
   "source": [
    "counter3._Counter__current = 100 #This specific syntax alters the current attribute"
   ]
  },
  {
   "cell_type": "code",
   "execution_count": 95,
   "id": "d560996d-1f15-4931-8a67-e958e941ec03",
   "metadata": {
    "tags": []
   },
   "outputs": [
    {
     "data": {
      "text/plain": [
       "100"
      ]
     },
     "execution_count": 95,
     "metadata": {},
     "output_type": "execute_result"
    }
   ],
   "source": [
    "counter3.value()"
   ]
  },
  {
   "cell_type": "code",
   "execution_count": 97,
   "id": "5573d436-356e-4c71-8cd8-a38b82d48c00",
   "metadata": {
    "tags": []
   },
   "outputs": [
    {
     "data": {
      "text/plain": [
       "0"
      ]
     },
     "execution_count": 97,
     "metadata": {},
     "output_type": "execute_result"
    }
   ],
   "source": [
    "counter3.reset()\n",
    "counter3.value()"
   ]
  },
  {
   "cell_type": "markdown",
   "id": "e13064fa-443a-49d9-b4f5-f506c86901df",
   "metadata": {},
   "source": [
    "## Closure"
   ]
  },
  {
   "cell_type": "code",
   "execution_count": 98,
   "id": "a656a8a1-5e10-4d88-b53c-281070ca98a2",
   "metadata": {
    "tags": []
   },
   "outputs": [],
   "source": [
    "def say_msg(msg):\n",
    "    #outer function\n",
    "    \n",
    "    def printer():\n",
    "        #inner function\n",
    "        \n",
    "        print(msg)\n",
    "        \n",
    "    printer()"
   ]
  },
  {
   "cell_type": "code",
   "execution_count": 99,
   "id": "874232a2-2e14-4c4a-9ed6-085b4f357cfa",
   "metadata": {
    "tags": []
   },
   "outputs": [
    {
     "name": "stdout",
     "output_type": "stream",
     "text": [
      "Hello\n"
     ]
    }
   ],
   "source": [
    "say_msg(\"Hello\")"
   ]
  },
  {
   "cell_type": "code",
   "execution_count": 100,
   "id": "f2347009-11e1-4fb4-8ce6-2d7a0b427299",
   "metadata": {
    "tags": []
   },
   "outputs": [],
   "source": [
    "def say_msg2(msg):\n",
    "    #outer function\n",
    "    \n",
    "    def printer():\n",
    "        #inner function\n",
    "        \n",
    "        print(msg)\n",
    "    \n",
    "    return printer"
   ]
  },
  {
   "cell_type": "code",
   "execution_count": 102,
   "id": "10d4e6a4-f98f-48dd-b986-44398516fef6",
   "metadata": {
    "tags": []
   },
   "outputs": [
    {
     "data": {
      "text/plain": [
       "<function __main__.say_msg2.<locals>.printer()>"
      ]
     },
     "execution_count": 102,
     "metadata": {},
     "output_type": "execute_result"
    }
   ],
   "source": [
    "say_msg2(\"Hello\") #This returnns a funcntion object"
   ]
  },
  {
   "cell_type": "code",
   "execution_count": 103,
   "id": "796f2234-371e-4d1c-9596-91e7836f548d",
   "metadata": {
    "tags": []
   },
   "outputs": [],
   "source": [
    "greetings = say_msg2(\"Greetings\") #This assigns a the function ALONG WITH SPECIFIC DATA to a variable (basically creates an instance of a function)"
   ]
  },
  {
   "cell_type": "code",
   "execution_count": 105,
   "id": "24096be7-4959-49e7-bb32-cd34a35181ce",
   "metadata": {
    "tags": []
   },
   "outputs": [
    {
     "name": "stdout",
     "output_type": "stream",
     "text": [
      "Greetings\n"
     ]
    }
   ],
   "source": [
    "greetings()"
   ]
  },
  {
   "cell_type": "code",
   "execution_count": 108,
   "id": "ff9e223b-0334-4e6f-9633-d82a4c4e3f1c",
   "metadata": {
    "tags": []
   },
   "outputs": [
    {
     "ename": "NameError",
     "evalue": "name 'say_msg2' is not defined",
     "output_type": "error",
     "traceback": [
      "\u001b[0;31m---------------------------------------------------------------------------\u001b[0m",
      "\u001b[0;31mNameError\u001b[0m                                 Traceback (most recent call last)",
      "Cell \u001b[0;32mIn[108], line 1\u001b[0m\n\u001b[0;32m----> 1\u001b[0m \u001b[38;5;28;01mdel\u001b[39;00m say_msg2\n\u001b[1;32m      3\u001b[0m say_msg2(\u001b[38;5;124m\"\u001b[39m\u001b[38;5;124mHi\u001b[39m\u001b[38;5;124m\"\u001b[39m)\n",
      "\u001b[0;31mNameError\u001b[0m: name 'say_msg2' is not defined"
     ]
    }
   ],
   "source": [
    "del say_msg2\n",
    "\n",
    "#say_msg2(\"Hi\") Returns an error"
   ]
  },
  {
   "cell_type": "code",
   "execution_count": 110,
   "id": "32943c0d-3b2b-42e8-a1cb-246504c7f3eb",
   "metadata": {
    "tags": []
   },
   "outputs": [
    {
     "name": "stdout",
     "output_type": "stream",
     "text": [
      "Greetings\n"
     ]
    }
   ],
   "source": [
    "greetings() #This still works even tho say_msg2 that it relies has been deleted\n",
    "            #The data stored in greetings (function + data) is still there!"
   ]
  },
  {
   "cell_type": "markdown",
   "id": "0907dbdc-480b-45d6-97d9-0fff64f7ad8e",
   "metadata": {},
   "source": [
    "## Logging\n",
    "\n",
    "\n",
    "Levels\n",
    "\n",
    "DEBUG --> Detailed information, only of interest when diagnosing a problem\n",
    "INFO  --> Confirms that things are working as expected\n",
    "WARNING --> Indicates that something unexpected has happened, or that there would be a problem in the near future eg low disk space\n",
    "ERROR --> Due to a more serious problem\n",
    "CRITICAL --> A serious error has occurred and the program may not be able to continue running"
   ]
  },
  {
   "cell_type": "code",
   "execution_count": 112,
   "id": "fb57c928-7bf9-48da-9b5f-9a058cec6e76",
   "metadata": {
    "tags": []
   },
   "outputs": [],
   "source": [
    "import logging\n",
    "\n",
    "logging.info(\"Things are working fine\")"
   ]
  },
  {
   "cell_type": "code",
   "execution_count": 117,
   "id": "ea778816-3214-4e81-bc99-e7304492e580",
   "metadata": {
    "tags": []
   },
   "outputs": [
    {
     "name": "stderr",
     "output_type": "stream",
     "text": [
      "WARNING:root:Disk space is running low\n"
     ]
    }
   ],
   "source": [
    "logging.warning('Disk space is running low')"
   ]
  },
  {
   "cell_type": "code",
   "execution_count": 114,
   "id": "6895d0cc-ffc3-4989-869b-d6c77bc80e9e",
   "metadata": {
    "tags": []
   },
   "outputs": [
    {
     "name": "stderr",
     "output_type": "stream",
     "text": [
      "ERROR:root:something serious has happened\n"
     ]
    }
   ],
   "source": [
    "logging.error('something serious has happened')"
   ]
  },
  {
   "cell_type": "code",
   "execution_count": 115,
   "id": "fad6950a-477c-4d18-9f34-5950914b2696",
   "metadata": {
    "tags": []
   },
   "outputs": [
    {
     "name": "stderr",
     "output_type": "stream",
     "text": [
      "CRITICAL:root:CRITICAL!\n"
     ]
    }
   ],
   "source": [
    "logging.critical('CRITICAL!')"
   ]
  },
  {
   "cell_type": "code",
   "execution_count": 116,
   "id": "b3543e86-ad85-4632-b694-f4a464a111d6",
   "metadata": {
    "tags": []
   },
   "outputs": [],
   "source": [
    "logging.debug('Where are the bugs?')"
   ]
  },
  {
   "cell_type": "code",
   "execution_count": 118,
   "id": "9e69545e-a97b-4384-b84e-e6a9bef609ac",
   "metadata": {
    "tags": []
   },
   "outputs": [],
   "source": [
    "#Creating logging file\n",
    "\n",
    "import logging\n",
    "\n",
    "logging.basicConfig(filename = 'example.log', level = logging.DEBUG, force = True)\n",
    "\n",
    "logging.debug('Where are the bugs?')\n",
    "logging.info(\"Things are working fine\")\n",
    "logging.warning('Disk space is running low')\n",
    "logging.error('something serious has happened')\n",
    "logging.critical('CRITICAL!')"
   ]
  },
  {
   "cell_type": "code",
   "execution_count": 130,
   "id": "3f11cb68-86f7-4055-beb1-bef00da7c51d",
   "metadata": {
    "tags": []
   },
   "outputs": [],
   "source": [
    "def logger(func):\n",
    "    \n",
    "    def log_func(*args):\n",
    "        logging.info(f'Running \"{func.__name__}\" with arguments {args} with result {func(*args)}')\n",
    "        print(func(*args))\n",
    "        \n",
    "    return log_func\n",
    "\n",
    "def add(x,y):\n",
    "    return x + y\n",
    "\n",
    "def sub(x,y):\n",
    "    return x - y"
   ]
  },
  {
   "cell_type": "code",
   "execution_count": 131,
   "id": "0abcfa02-df6d-4109-b4e7-6522f1d1f675",
   "metadata": {
    "tags": []
   },
   "outputs": [],
   "source": [
    "add_logger = logger(add)"
   ]
  },
  {
   "cell_type": "code",
   "execution_count": 122,
   "id": "3bc88f50-85fe-443c-a855-b2546378a98b",
   "metadata": {
    "tags": []
   },
   "outputs": [
    {
     "name": "stdout",
     "output_type": "stream",
     "text": [
      "3\n"
     ]
    }
   ],
   "source": [
    "add_logger(2,1)"
   ]
  },
  {
   "cell_type": "code",
   "execution_count": 132,
   "id": "0dd1c0f5-48d7-41cd-88b2-df8296ed9b2a",
   "metadata": {
    "tags": []
   },
   "outputs": [],
   "source": [
    "sub_logger = logger(sub)"
   ]
  },
  {
   "cell_type": "code",
   "execution_count": 124,
   "id": "d2346b7d-da43-4472-838c-7c01e9f0782a",
   "metadata": {
    "tags": []
   },
   "outputs": [
    {
     "name": "stdout",
     "output_type": "stream",
     "text": [
      "1\n"
     ]
    }
   ],
   "source": [
    "sub_logger(2,1)"
   ]
  },
  {
   "cell_type": "code",
   "execution_count": 128,
   "id": "662c8e2b-3281-4905-8c11-21e3fcc0e30d",
   "metadata": {
    "tags": []
   },
   "outputs": [
    {
     "name": "stdout",
     "output_type": "stream",
     "text": [
      "-8\n"
     ]
    }
   ],
   "source": [
    "sub_logger(8,16)"
   ]
  },
  {
   "cell_type": "code",
   "execution_count": 133,
   "id": "ed05dd35-821f-4e57-be5d-7c5299556cbf",
   "metadata": {
    "tags": []
   },
   "outputs": [
    {
     "name": "stdout",
     "output_type": "stream",
     "text": [
      "18\n"
     ]
    }
   ],
   "source": [
    "add_logger(8,10)"
   ]
  },
  {
   "cell_type": "code",
   "execution_count": 134,
   "id": "16ea0fd8-38e6-4c69-ade2-722a0099f937",
   "metadata": {
    "tags": []
   },
   "outputs": [],
   "source": [
    "del logger\n",
    "del add\n",
    "del sub"
   ]
  },
  {
   "cell_type": "code",
   "execution_count": 138,
   "id": "8f228f9d-f36f-4903-a4d6-01cb9671e0df",
   "metadata": {
    "tags": []
   },
   "outputs": [
    {
     "ename": "NameError",
     "evalue": "name 'logger' is not defined",
     "output_type": "error",
     "traceback": [
      "\u001b[0;31m---------------------------------------------------------------------------\u001b[0m",
      "\u001b[0;31mNameError\u001b[0m                                 Traceback (most recent call last)",
      "Cell \u001b[0;32mIn[138], line 1\u001b[0m\n\u001b[0;32m----> 1\u001b[0m logger(add) \u001b[38;5;66;03m#error\u001b[39;00m\n\u001b[1;32m      2\u001b[0m add(\u001b[38;5;241m2\u001b[39m,\u001b[38;5;241m1\u001b[39m) \u001b[38;5;66;03m#error\u001b[39;00m\n\u001b[1;32m      3\u001b[0m sub(\u001b[38;5;241m2\u001b[39m,\u001b[38;5;241m1\u001b[39m)\n",
      "\u001b[0;31mNameError\u001b[0m: name 'logger' is not defined"
     ]
    }
   ],
   "source": [
    "logger(add) #error\n",
    "add(2,1) #error\n",
    "sub(2,1) #error"
   ]
  },
  {
   "cell_type": "code",
   "execution_count": 141,
   "id": "f9e82ed2-ba24-4e6a-8510-a7bfaaa8f247",
   "metadata": {
    "tags": []
   },
   "outputs": [
    {
     "name": "stdout",
     "output_type": "stream",
     "text": [
      "orangejuice\n"
     ]
    }
   ],
   "source": [
    "add_logger('orange','juice')"
   ]
  },
  {
   "cell_type": "markdown",
   "id": "57177f4f-ba8e-4c86-bcc2-db9a280697cc",
   "metadata": {},
   "source": [
    "## Decorators"
   ]
  },
  {
   "cell_type": "code",
   "execution_count": 2,
   "id": "89083295-ba0b-4949-97e8-3c39875ebcd1",
   "metadata": {
    "tags": []
   },
   "outputs": [],
   "source": [
    "def StormExample(func):\n",
    "    \n",
    "    def wrapperfunc(*args):\n",
    "        print('Pre Func Exection')\n",
    "        func()\n",
    "        print('Post func execution')\n",
    "        \n",
    "    return wrapperfunc"
   ]
  },
  {
   "cell_type": "code",
   "execution_count": 3,
   "id": "55cce81a-dbcf-4646-9f4d-6169cd0e57df",
   "metadata": {
    "tags": []
   },
   "outputs": [],
   "source": [
    "def function_add():\n",
    "    print('Inside Func')"
   ]
  },
  {
   "cell_type": "code",
   "execution_count": 4,
   "id": "af87ac2c-9473-4398-9faf-bf511204fc26",
   "metadata": {
    "tags": []
   },
   "outputs": [],
   "source": [
    "function_add = StormExample(function_add)"
   ]
  },
  {
   "cell_type": "code",
   "execution_count": 7,
   "id": "9d1e6d5b-b997-4891-882b-6ff0505a21c3",
   "metadata": {
    "tags": []
   },
   "outputs": [
    {
     "name": "stdout",
     "output_type": "stream",
     "text": [
      "Pre Func Exection\n",
      "Inside Func\n",
      "Post func execution\n"
     ]
    }
   ],
   "source": [
    "function_add() #You can see that the new function_add (using stormexample) is the same thing, but wrapped with string"
   ]
  },
  {
   "cell_type": "code",
   "execution_count": 8,
   "id": "22af221f-c772-40c3-a416-401ac09217cb",
   "metadata": {
    "tags": []
   },
   "outputs": [],
   "source": [
    "def make_extraordinary(func):\n",
    "    \n",
    "    def wrapper():\n",
    "        func()\n",
    "        print('but now, I am extra ordinary!')\n",
    "    \n",
    "    return wrapper"
   ]
  },
  {
   "cell_type": "code",
   "execution_count": 9,
   "id": "7b82a6a4-b425-46bb-8fe0-9abf5e16ed69",
   "metadata": {
    "tags": []
   },
   "outputs": [],
   "source": [
    "def ordinary():\n",
    "    print('I am ordinary')"
   ]
  },
  {
   "cell_type": "code",
   "execution_count": 10,
   "id": "22ce06b5-9fbf-42c3-9a92-fb28a450ad72",
   "metadata": {
    "tags": []
   },
   "outputs": [
    {
     "name": "stdout",
     "output_type": "stream",
     "text": [
      "I am ordinary\n"
     ]
    }
   ],
   "source": [
    "ordinary()"
   ]
  },
  {
   "cell_type": "code",
   "execution_count": 11,
   "id": "7810c678-fdd9-49cc-867a-77aa59ee73ab",
   "metadata": {
    "tags": []
   },
   "outputs": [],
   "source": [
    "EO = make_extraordinary(ordinary)"
   ]
  },
  {
   "cell_type": "code",
   "execution_count": 13,
   "id": "13c30e6e-33d5-46c5-b8d6-c8d6a1036b02",
   "metadata": {
    "tags": []
   },
   "outputs": [
    {
     "name": "stdout",
     "output_type": "stream",
     "text": [
      "I am ordinary\n",
      "but now, I am extra ordinary!\n"
     ]
    }
   ],
   "source": [
    "EO()"
   ]
  },
  {
   "cell_type": "code",
   "execution_count": 14,
   "id": "8bb8adbc-9ebb-4b7d-b5d1-794eae24dac2",
   "metadata": {
    "tags": []
   },
   "outputs": [],
   "source": [
    "@make_extraordinary #This syntax automatically decorates the below function\n",
    "def another_ordinary():\n",
    "    print('I too used to be ordinary')"
   ]
  },
  {
   "cell_type": "code",
   "execution_count": 15,
   "id": "92a3ce75-481e-49ec-862b-2cf6279761bd",
   "metadata": {
    "tags": []
   },
   "outputs": [
    {
     "name": "stdout",
     "output_type": "stream",
     "text": [
      "I too used to be ordinary\n",
      "but now, I am extra ordinary!\n"
     ]
    }
   ],
   "source": [
    "another_ordinary()"
   ]
  },
  {
   "cell_type": "markdown",
   "id": "3c2f5613-bbf7-4040-b75c-3175905047bb",
   "metadata": {
    "tags": []
   },
   "source": [
    "## Decorating Functions with Parameters"
   ]
  },
  {
   "cell_type": "code",
   "execution_count": 17,
   "id": "280a9dee-dc5b-4df5-a479-eeb90a21e841",
   "metadata": {
    "tags": []
   },
   "outputs": [],
   "source": [
    "def divide(x,y):\n",
    "    return x/y"
   ]
  },
  {
   "cell_type": "code",
   "execution_count": 18,
   "id": "ed63ad10-ece3-458c-a26e-c3cf276293d1",
   "metadata": {
    "tags": []
   },
   "outputs": [],
   "source": [
    "def div_check(func):\n",
    "    \n",
    "    def wrap(a,b):\n",
    "        print(f'I will divide {a} and {b}.')\n",
    "        \n",
    "        if b == 0:\n",
    "            print(\"You can't divide by 0\")\n",
    "            return\n",
    "        \n",
    "        return func(a,b)\n",
    "    \n",
    "    return wrap"
   ]
  },
  {
   "cell_type": "code",
   "execution_count": 19,
   "id": "99d995d5-655d-4707-907e-57ef7f41d285",
   "metadata": {
    "tags": []
   },
   "outputs": [],
   "source": [
    "@div_check #Concise way of implementing decorator functions\n",
    "def division(x,y):\n",
    "    print(x/y)"
   ]
  },
  {
   "cell_type": "code",
   "execution_count": 21,
   "id": "342f87de-f9e3-4bcb-8051-2a0006617456",
   "metadata": {
    "tags": []
   },
   "outputs": [
    {
     "name": "stdout",
     "output_type": "stream",
     "text": [
      "I will divide 1 and 2.\n",
      "0.5\n"
     ]
    }
   ],
   "source": [
    "division(1,2)"
   ]
  },
  {
   "cell_type": "code",
   "execution_count": 22,
   "id": "fd369530-5b39-448d-b3b4-34b546b1b264",
   "metadata": {
    "tags": []
   },
   "outputs": [
    {
     "name": "stdout",
     "output_type": "stream",
     "text": [
      "I will divide 4 and 0.\n",
      "You can't divide by 0\n"
     ]
    }
   ],
   "source": [
    "division(4,0)"
   ]
  },
  {
   "cell_type": "code",
   "execution_count": 24,
   "id": "00a3a47f-78ca-4061-b248-5f6966bcafb5",
   "metadata": {
    "tags": []
   },
   "outputs": [],
   "source": [
    "def deco_w_params(func):\n",
    "    \n",
    "    def wrap(*args, **kwargs):\n",
    "        print('I can decorate functions with any number of parameters')\n",
    "        return func(*args,**kwargs)\n",
    "    \n",
    "    return inner"
   ]
  },
  {
   "cell_type": "code",
   "execution_count": null,
   "id": "8f18b66a-5e2b-4696-96d1-4a32f88c75ec",
   "metadata": {},
   "outputs": [],
   "source": []
  },
  {
   "cell_type": "markdown",
   "id": "baaae58c-0e04-498d-9edb-6af3c2fc0b3c",
   "metadata": {},
   "source": [
    "### Chaining decorators"
   ]
  },
  {
   "cell_type": "code",
   "execution_count": 40,
   "id": "655ea153-d60b-4fe4-b4f2-c0f378f26960",
   "metadata": {
    "tags": []
   },
   "outputs": [],
   "source": [
    "# A function can be decorated by multiple different decorator functions\n",
    "def star_func(func):\n",
    "    def inner(*args, **kwargs):\n",
    "        print('*'*30)\n",
    "        func(*args,**kwargs)\n",
    "        print('*'*30)\n",
    "        \n",
    "    return inner\n",
    "\n",
    "def dollar_func(func):\n",
    "    def inner(*args,**kwargs):\n",
    "        print('$'*30)\n",
    "        print('\\n')\n",
    "        func(*args,**kwargs)\n",
    "        print('\\n')\n",
    "        print('$'*30)\n",
    "        \n",
    "    return inner"
   ]
  },
  {
   "cell_type": "code",
   "execution_count": 41,
   "id": "d4ddec1e-efc6-4398-821e-7adc519fcbf5",
   "metadata": {
    "tags": []
   },
   "outputs": [],
   "source": [
    "@star_func\n",
    "@dollar_func\n",
    "\n",
    "def message(msg):\n",
    "    print(msg)\n"
   ]
  },
  {
   "cell_type": "code",
   "execution_count": 42,
   "id": "d4de7f0a-dc02-4d22-913e-004966247062",
   "metadata": {
    "tags": []
   },
   "outputs": [
    {
     "name": "stdout",
     "output_type": "stream",
     "text": [
      "******************************\n",
      "$$$$$$$$$$$$$$$$$$$$$$$$$$$$$$\n",
      "\n",
      "\n",
      "I love money and stars\n",
      "\n",
      "\n",
      "$$$$$$$$$$$$$$$$$$$$$$$$$$$$$$\n",
      "******************************\n"
     ]
    }
   ],
   "source": [
    "message('I love money and stars')"
   ]
  },
  {
   "cell_type": "markdown",
   "id": "13f749b9-84e9-49f3-a77d-0887586bc3b9",
   "metadata": {},
   "source": [
    "# Scopes and stuff"
   ]
  },
  {
   "cell_type": "code",
   "execution_count": 61,
   "id": "31db0303-e67f-4527-8be8-eecd601f387f",
   "metadata": {
    "tags": []
   },
   "outputs": [],
   "source": [
    "st_example = 'StormWind Python'\n",
    "\n",
    "def print_pi():\n",
    "    example = 'Stormwind Python Intermediate'\n",
    "    return example"
   ]
  },
  {
   "cell_type": "code",
   "execution_count": 48,
   "id": "6595a016-f26c-434f-82ec-a899cd3025dc",
   "metadata": {
    "tags": []
   },
   "outputs": [
    {
     "name": "stdout",
     "output_type": "stream",
     "text": [
      "StormWind Python\n"
     ]
    }
   ],
   "source": [
    "print(st_example)"
   ]
  },
  {
   "cell_type": "code",
   "execution_count": 62,
   "id": "e87536fe-6d0b-4775-9380-41c25a279810",
   "metadata": {
    "tags": []
   },
   "outputs": [
    {
     "data": {
      "text/plain": [
       "'Stormwind Python Intermediate'"
      ]
     },
     "execution_count": 62,
     "metadata": {},
     "output_type": "execute_result"
    }
   ],
   "source": [
    "print_pi()"
   ]
  },
  {
   "cell_type": "code",
   "execution_count": 78,
   "id": "6f28c904-a307-4e56-b5d2-2473a90aa4f2",
   "metadata": {
    "tags": []
   },
   "outputs": [],
   "source": [
    "x = 'this is the global x'\n",
    "\n",
    "def out_func():\n",
    "    x = 'enclosing x'\n",
    "    \n",
    "    def in_func():\n",
    "        x = 'inner x'\n",
    "        print(x)\n",
    "    \n",
    "    print(x)\n",
    "    return in_func()"
   ]
  },
  {
   "cell_type": "code",
   "execution_count": 80,
   "id": "38bd833d-61b6-45c3-a11f-8efe1e873df8",
   "metadata": {
    "tags": []
   },
   "outputs": [
    {
     "name": "stdout",
     "output_type": "stream",
     "text": [
      "this is the global x\n",
      "enclosing x\n",
      "inner x\n"
     ]
    }
   ],
   "source": [
    "print(x)\n",
    "out_func()"
   ]
  },
  {
   "cell_type": "code",
   "execution_count": 82,
   "id": "bccbe46b-0a0e-4026-819b-4fcfa3da3218",
   "metadata": {
    "tags": []
   },
   "outputs": [
    {
     "ename": "NameError",
     "evalue": "name 'in_func' is not defined",
     "output_type": "error",
     "traceback": [
      "\u001b[0;31m---------------------------------------------------------------------------\u001b[0m",
      "\u001b[0;31mNameError\u001b[0m                                 Traceback (most recent call last)",
      "Cell \u001b[0;32mIn[82], line 1\u001b[0m\n\u001b[0;32m----> 1\u001b[0m in_func()\n",
      "\u001b[0;31mNameError\u001b[0m: name 'in_func' is not defined"
     ]
    }
   ],
   "source": [
    "in_func() #in_func wasn't defined in the global scope of the program"
   ]
  },
  {
   "cell_type": "code",
   "execution_count": 84,
   "id": "e0640f2e-8a64-4eb7-a33a-38345173bfe7",
   "metadata": {
    "tags": []
   },
   "outputs": [],
   "source": [
    "def square(base):\n",
    "    result = base**2\n",
    "    print(f'The square of {base} is: {result}')\n",
    "    return\n",
    "\n",
    "def cube(base):\n",
    "    result = base**3\n",
    "    print(f'The cube of {base} is: {result}')\n",
    "    return"
   ]
  },
  {
   "cell_type": "code",
   "execution_count": 86,
   "id": "760b3dfe-a9a2-4587-b459-e886f4fc6f78",
   "metadata": {
    "tags": []
   },
   "outputs": [
    {
     "data": {
      "text/plain": [
       "('base', 'result')"
      ]
     },
     "execution_count": 86,
     "metadata": {},
     "output_type": "execute_result"
    }
   ],
   "source": [
    "square.__code__.co_varnames\n",
    "cube.__code__.co_varnames #Syntax for finding local variables in a function"
   ]
  },
  {
   "cell_type": "code",
   "execution_count": 87,
   "id": "bb873bc2-6a6f-45fe-b6a3-20dda79862b9",
   "metadata": {
    "tags": []
   },
   "outputs": [],
   "source": [
    "def outer():\n",
    "    var = 100\n",
    "    def inner():\n",
    "        print(f'we are printing from inner: {var}')\n",
    "        \n",
    "    inner()\n",
    "    print(f'we are printing from outer: {var}')\n",
    "    return"
   ]
  },
  {
   "cell_type": "code",
   "execution_count": 88,
   "id": "34371a29-6c9e-4679-9db7-fb5f1847c921",
   "metadata": {
    "tags": []
   },
   "outputs": [
    {
     "name": "stdout",
     "output_type": "stream",
     "text": [
      "we are printing from inner: 100\n",
      "we are printing from outer: 100\n"
     ]
    }
   ],
   "source": [
    "outer() #You can see that the inner function can still \"see\" the variables enclosed \n",
    "        #in the outer scope (even though technically they're not in the same scope)"
   ]
  },
  {
   "cell_type": "code",
   "execution_count": 89,
   "id": "bf718197-24a6-44a1-b7cb-2b29d6630925",
   "metadata": {
    "tags": []
   },
   "outputs": [],
   "source": [
    "def outer():\n",
    "    \n",
    "    def inner():\n",
    "        var = 100\n",
    "        print(f'we are printing from inner: {var}')\n",
    "    inner()\n",
    "    print(f'we are printing from outer: {var}')\n",
    "    return"
   ]
  },
  {
   "cell_type": "code",
   "execution_count": 93,
   "id": "a04d0ca0-e596-4aa1-9e2d-722cdf082ec8",
   "metadata": {
    "tags": []
   },
   "outputs": [
    {
     "name": "stdout",
     "output_type": "stream",
     "text": [
      "we are printing from inner: 100\n"
     ]
    },
    {
     "ename": "NameError",
     "evalue": "name 'var' is not defined",
     "output_type": "error",
     "traceback": [
      "\u001b[0;31m---------------------------------------------------------------------------\u001b[0m",
      "\u001b[0;31mNameError\u001b[0m                                 Traceback (most recent call last)",
      "Cell \u001b[0;32mIn[93], line 1\u001b[0m\n\u001b[0;32m----> 1\u001b[0m outer()\n",
      "Cell \u001b[0;32mIn[89], line 7\u001b[0m, in \u001b[0;36mouter\u001b[0;34m()\u001b[0m\n\u001b[1;32m      5\u001b[0m     \u001b[38;5;28mprint\u001b[39m(\u001b[38;5;124mf\u001b[39m\u001b[38;5;124m'\u001b[39m\u001b[38;5;124mwe are printing from inner: \u001b[39m\u001b[38;5;132;01m{\u001b[39;00mvar\u001b[38;5;132;01m}\u001b[39;00m\u001b[38;5;124m'\u001b[39m)\n\u001b[1;32m      6\u001b[0m inner()\n\u001b[0;32m----> 7\u001b[0m \u001b[38;5;28mprint\u001b[39m(\u001b[38;5;124mf\u001b[39m\u001b[38;5;124m'\u001b[39m\u001b[38;5;124mwe are printing from outer: \u001b[39m\u001b[38;5;132;01m{\u001b[39;00mvar\u001b[38;5;132;01m}\u001b[39;00m\u001b[38;5;124m'\u001b[39m)\n\u001b[1;32m      8\u001b[0m \u001b[38;5;28;01mreturn\u001b[39;00m\n",
      "\u001b[0;31mNameError\u001b[0m: name 'var' is not defined"
     ]
    }
   ],
   "source": [
    "outer() #However, outer function can't recognize variables in the inner function"
   ]
  },
  {
   "cell_type": "code",
   "execution_count": 94,
   "id": "2da2d594-0349-4e4e-9694-8e91c48a4cc5",
   "metadata": {
    "tags": []
   },
   "outputs": [],
   "source": [
    "base = 3\n",
    "\n",
    "def cube():\n",
    "    result = base**3\n",
    "    print(f'The cube of {base} is: {result}')\n",
    "    return"
   ]
  },
  {
   "cell_type": "code",
   "execution_count": 96,
   "id": "306c580d-ef6d-4f0b-bbc9-3c1d5cde2b44",
   "metadata": {
    "tags": []
   },
   "outputs": [
    {
     "name": "stdout",
     "output_type": "stream",
     "text": [
      "The cube of 3 is: 27\n"
     ]
    }
   ],
   "source": [
    "cube()"
   ]
  },
  {
   "cell_type": "code",
   "execution_count": 97,
   "id": "0aabcf68-4ed3-414d-aca1-0eafd572e3ef",
   "metadata": {
    "tags": []
   },
   "outputs": [
    {
     "ename": "TypeError",
     "evalue": "cube() takes 0 positional arguments but 1 was given",
     "output_type": "error",
     "traceback": [
      "\u001b[0;31m---------------------------------------------------------------------------\u001b[0m",
      "\u001b[0;31mTypeError\u001b[0m                                 Traceback (most recent call last)",
      "Cell \u001b[0;32mIn[97], line 1\u001b[0m\n\u001b[0;32m----> 1\u001b[0m cube(\u001b[38;5;241m4\u001b[39m)\n",
      "\u001b[0;31mTypeError\u001b[0m: cube() takes 0 positional arguments but 1 was given"
     ]
    }
   ],
   "source": [
    "cube(4)"
   ]
  },
  {
   "cell_type": "code",
   "execution_count": 98,
   "id": "bf3eb15d-c26d-491a-8d65-6a2a0cb19be3",
   "metadata": {
    "tags": []
   },
   "outputs": [],
   "source": [
    "def cube(base = 3):\n",
    "    result = base**3\n",
    "    print(f'The cube of {base} is: {result}')\n",
    "    return"
   ]
  },
  {
   "cell_type": "code",
   "execution_count": 101,
   "id": "a560bc31-f942-4f9f-b84b-856421fcbd81",
   "metadata": {
    "tags": []
   },
   "outputs": [
    {
     "name": "stdout",
     "output_type": "stream",
     "text": [
      "The cube of 3 is: 27\n",
      "The cube of 4 is: 64\n"
     ]
    }
   ],
   "source": [
    "cube()\n",
    "cube(4)"
   ]
  },
  {
   "cell_type": "markdown",
   "id": "0bdb643d-3f40-4533-8321-2ba8b3638849",
   "metadata": {},
   "source": [
    "## Global Scope (Module scope)"
   ]
  },
  {
   "cell_type": "code",
   "execution_count": 117,
   "id": "8c9da7a9-8eba-40e3-abf2-33b7c4e01228",
   "metadata": {
    "tags": []
   },
   "outputs": [],
   "source": [
    "var = 1\n",
    "\n",
    "def func():\n",
    "    print(var)\n",
    "    #var = var + 1\n",
    "    print(var)\n",
    "    "
   ]
  },
  {
   "cell_type": "code",
   "execution_count": 121,
   "id": "583c4263-c75e-4655-820b-5f77082a63b7",
   "metadata": {
    "tags": []
   },
   "outputs": [
    {
     "name": "stdout",
     "output_type": "stream",
     "text": [
      "1\n",
      "1\n"
     ]
    }
   ],
   "source": [
    "func() #when var isn't reassigned or assigned a value, the function uses the value found in the global scope"
   ]
  },
  {
   "cell_type": "code",
   "execution_count": 149,
   "id": "e08ad655-fa39-4602-88bb-8fb4d53d67c4",
   "metadata": {
    "tags": []
   },
   "outputs": [],
   "source": [
    "def func2():\n",
    "    print(var)\n",
    "    var = var + 1"
   ]
  },
  {
   "cell_type": "code",
   "execution_count": 148,
   "id": "d21cb488-4356-42d7-a749-817e58221144",
   "metadata": {
    "tags": []
   },
   "outputs": [
    {
     "ename": "UnboundLocalError",
     "evalue": "cannot access local variable 'var' where it is not associated with a value",
     "output_type": "error",
     "traceback": [
      "\u001b[0;31m---------------------------------------------------------------------------\u001b[0m",
      "\u001b[0;31mUnboundLocalError\u001b[0m                         Traceback (most recent call last)",
      "Cell \u001b[0;32mIn[148], line 1\u001b[0m\n\u001b[0;32m----> 1\u001b[0m func2()\n",
      "Cell \u001b[0;32mIn[119], line 2\u001b[0m, in \u001b[0;36mfunc2\u001b[0;34m()\u001b[0m\n\u001b[1;32m      1\u001b[0m \u001b[38;5;28;01mdef\u001b[39;00m \u001b[38;5;21mfunc2\u001b[39m():\n\u001b[0;32m----> 2\u001b[0m     \u001b[38;5;28mprint\u001b[39m(var)\n\u001b[1;32m      3\u001b[0m     var \u001b[38;5;241m=\u001b[39m var \u001b[38;5;241m+\u001b[39m \u001b[38;5;241m1\u001b[39m\n",
      "\u001b[0;31mUnboundLocalError\u001b[0m: cannot access local variable 'var' where it is not associated with a value"
     ]
    }
   ],
   "source": [
    "func2() #However, once var is reassigned or assigned a value, the function only looks at variables in the local scope, and so doesn't work in this case"
   ]
  },
  {
   "cell_type": "code",
   "execution_count": 150,
   "id": "adc539d1-6b6c-441b-a23f-71ef133e6931",
   "metadata": {
    "tags": []
   },
   "outputs": [
    {
     "name": "stdout",
     "output_type": "stream",
     "text": [
      "11\n"
     ]
    }
   ],
   "source": [
    "def func3():\n",
    "    var = 10\n",
    "    var += 1\n",
    "    print(var)\n",
    "    return\n",
    "\n",
    "func3()"
   ]
  },
  {
   "cell_type": "markdown",
   "id": "84e5d259-507a-4694-8eae-4e02013d8df2",
   "metadata": {},
   "source": [
    "## LEGB Rule"
   ]
  },
  {
   "cell_type": "code",
   "execution_count": 154,
   "id": "b57ed734-5214-43a6-95f4-4094d8abdda5",
   "metadata": {
    "tags": []
   },
   "outputs": [],
   "source": [
    "num = 100 #Global scope\n",
    "\n",
    "def outer():\n",
    "    '''This is the local scope of outer'''\n",
    "    '''This is also the enclosing scope of inner'''\n",
    "    \n",
    "    def inner():\n",
    "        '''Local scope of inner'''\n",
    "        \n",
    "        print(num)\n",
    "        \n",
    "    return inner()"
   ]
  },
  {
   "cell_type": "markdown",
   "id": "5f0baa0c-f6ab-4722-abd3-ca028b1549d5",
   "metadata": {},
   "source": [
    "Python first looks at local scope, then enclosing scope, then global scope and then built in scope and uses the first instance of the variable that it finds"
   ]
  },
  {
   "cell_type": "code",
   "execution_count": 153,
   "id": "77a3d974-45fb-4203-b483-fce2e8c2eeb2",
   "metadata": {
    "tags": []
   },
   "outputs": [
    {
     "name": "stdout",
     "output_type": "stream",
     "text": [
      "100\n"
     ]
    }
   ],
   "source": [
    "outer()"
   ]
  },
  {
   "cell_type": "markdown",
   "id": "e81e094c-3220-4d3f-8542-907be3970baa",
   "metadata": {},
   "source": [
    "### Builtin Scope"
   ]
  },
  {
   "cell_type": "code",
   "execution_count": 155,
   "id": "27b57d22-b672-4cb8-88f5-331be538eed5",
   "metadata": {
    "tags": []
   },
   "outputs": [
    {
     "data": {
      "text/plain": [
       "['ArithmeticError',\n",
       " 'AssertionError',\n",
       " 'AttributeError',\n",
       " 'BaseException',\n",
       " 'BaseExceptionGroup',\n",
       " 'BlockingIOError',\n",
       " 'BrokenPipeError',\n",
       " 'BufferError',\n",
       " 'BytesWarning',\n",
       " 'ChildProcessError',\n",
       " 'ConnectionAbortedError',\n",
       " 'ConnectionError',\n",
       " 'ConnectionRefusedError',\n",
       " 'ConnectionResetError',\n",
       " 'DeprecationWarning',\n",
       " 'EOFError',\n",
       " 'Ellipsis',\n",
       " 'EncodingWarning',\n",
       " 'EnvironmentError',\n",
       " 'Exception',\n",
       " 'ExceptionGroup',\n",
       " 'False',\n",
       " 'FileExistsError',\n",
       " 'FileNotFoundError',\n",
       " 'FloatingPointError',\n",
       " 'FutureWarning',\n",
       " 'GeneratorExit',\n",
       " 'IOError',\n",
       " 'ImportError',\n",
       " 'ImportWarning',\n",
       " 'IndentationError',\n",
       " 'IndexError',\n",
       " 'InterruptedError',\n",
       " 'IsADirectoryError',\n",
       " 'KeyError',\n",
       " 'KeyboardInterrupt',\n",
       " 'LookupError',\n",
       " 'MemoryError',\n",
       " 'ModuleNotFoundError',\n",
       " 'NameError',\n",
       " 'None',\n",
       " 'NotADirectoryError',\n",
       " 'NotImplemented',\n",
       " 'NotImplementedError',\n",
       " 'OSError',\n",
       " 'OverflowError',\n",
       " 'PendingDeprecationWarning',\n",
       " 'PermissionError',\n",
       " 'ProcessLookupError',\n",
       " 'RecursionError',\n",
       " 'ReferenceError',\n",
       " 'ResourceWarning',\n",
       " 'RuntimeError',\n",
       " 'RuntimeWarning',\n",
       " 'StopAsyncIteration',\n",
       " 'StopIteration',\n",
       " 'SyntaxError',\n",
       " 'SyntaxWarning',\n",
       " 'SystemError',\n",
       " 'SystemExit',\n",
       " 'TabError',\n",
       " 'TimeoutError',\n",
       " 'True',\n",
       " 'TypeError',\n",
       " 'UnboundLocalError',\n",
       " 'UnicodeDecodeError',\n",
       " 'UnicodeEncodeError',\n",
       " 'UnicodeError',\n",
       " 'UnicodeTranslateError',\n",
       " 'UnicodeWarning',\n",
       " 'UserWarning',\n",
       " 'ValueError',\n",
       " 'Warning',\n",
       " 'ZeroDivisionError',\n",
       " '__IPYTHON__',\n",
       " '__build_class__',\n",
       " '__debug__',\n",
       " '__doc__',\n",
       " '__import__',\n",
       " '__loader__',\n",
       " '__name__',\n",
       " '__package__',\n",
       " '__spec__',\n",
       " 'abs',\n",
       " 'aiter',\n",
       " 'all',\n",
       " 'anext',\n",
       " 'any',\n",
       " 'ascii',\n",
       " 'bin',\n",
       " 'bool',\n",
       " 'breakpoint',\n",
       " 'bytearray',\n",
       " 'bytes',\n",
       " 'callable',\n",
       " 'chr',\n",
       " 'classmethod',\n",
       " 'compile',\n",
       " 'complex',\n",
       " 'copyright',\n",
       " 'credits',\n",
       " 'delattr',\n",
       " 'dict',\n",
       " 'dir',\n",
       " 'display',\n",
       " 'divmod',\n",
       " 'enumerate',\n",
       " 'eval',\n",
       " 'exec',\n",
       " 'execfile',\n",
       " 'filter',\n",
       " 'float',\n",
       " 'format',\n",
       " 'frozenset',\n",
       " 'get_ipython',\n",
       " 'getattr',\n",
       " 'globals',\n",
       " 'hasattr',\n",
       " 'hash',\n",
       " 'help',\n",
       " 'hex',\n",
       " 'id',\n",
       " 'input',\n",
       " 'int',\n",
       " 'isinstance',\n",
       " 'issubclass',\n",
       " 'iter',\n",
       " 'len',\n",
       " 'license',\n",
       " 'list',\n",
       " 'locals',\n",
       " 'map',\n",
       " 'max',\n",
       " 'memoryview',\n",
       " 'min',\n",
       " 'next',\n",
       " 'object',\n",
       " 'oct',\n",
       " 'open',\n",
       " 'ord',\n",
       " 'pow',\n",
       " 'print',\n",
       " 'property',\n",
       " 'range',\n",
       " 'repr',\n",
       " 'reversed',\n",
       " 'round',\n",
       " 'runfile',\n",
       " 'set',\n",
       " 'setattr',\n",
       " 'slice',\n",
       " 'sorted',\n",
       " 'staticmethod',\n",
       " 'str',\n",
       " 'sum',\n",
       " 'super',\n",
       " 'tuple',\n",
       " 'type',\n",
       " 'vars',\n",
       " 'zip']"
      ]
     },
     "execution_count": 155,
     "metadata": {},
     "output_type": "execute_result"
    }
   ],
   "source": [
    "dir(__builtins__)"
   ]
  },
  {
   "cell_type": "code",
   "execution_count": 156,
   "id": "6f857c32-bc5d-4c2b-a091-59f4b07c48b1",
   "metadata": {
    "tags": []
   },
   "outputs": [
    {
     "data": {
      "text/plain": [
       "15"
      ]
     },
     "execution_count": 156,
     "metadata": {},
     "output_type": "execute_result"
    }
   ],
   "source": [
    "sum([1,2,3,4,5])"
   ]
  },
  {
   "cell_type": "code",
   "execution_count": 157,
   "id": "6d438ebd-c809-4db2-8974-5e1bfb9b7301",
   "metadata": {
    "tags": []
   },
   "outputs": [
    {
     "data": {
      "text/plain": [
       "15"
      ]
     },
     "execution_count": 157,
     "metadata": {},
     "output_type": "execute_result"
    }
   ],
   "source": [
    "import builtins\n",
    "\n",
    "builtins.sum([1,2,3,4,5])"
   ]
  },
  {
   "cell_type": "markdown",
   "id": "e38400ed-4bf6-4781-ae92-833f030367e1",
   "metadata": {},
   "source": [
    "### Overriding builtins"
   ]
  },
  {
   "cell_type": "code",
   "execution_count": 165,
   "id": "3db30129-05bb-4d07-96a1-b34a30ac6a58",
   "metadata": {
    "tags": []
   },
   "outputs": [
    {
     "data": {
      "text/plain": [
       "100"
      ]
     },
     "execution_count": 165,
     "metadata": {},
     "output_type": "execute_result"
    }
   ],
   "source": [
    "abs(-100)"
   ]
  },
  {
   "cell_type": "code",
   "execution_count": 166,
   "id": "a3b254ef-5e35-4d84-86d5-9624e9d3d62e",
   "metadata": {
    "tags": []
   },
   "outputs": [],
   "source": [
    "abs = 100"
   ]
  },
  {
   "cell_type": "code",
   "execution_count": 167,
   "id": "98bbea1b-4382-4cd1-8bac-64a723ea2ab3",
   "metadata": {
    "tags": []
   },
   "outputs": [
    {
     "ename": "TypeError",
     "evalue": "'int' object is not callable",
     "output_type": "error",
     "traceback": [
      "\u001b[0;31m---------------------------------------------------------------------------\u001b[0m",
      "\u001b[0;31mTypeError\u001b[0m                                 Traceback (most recent call last)",
      "Cell \u001b[0;32mIn[167], line 1\u001b[0m\n\u001b[0;32m----> 1\u001b[0m \u001b[38;5;28mabs\u001b[39m(\u001b[38;5;241m-\u001b[39m\u001b[38;5;241m100\u001b[39m)\n",
      "\u001b[0;31mTypeError\u001b[0m: 'int' object is not callable"
     ]
    }
   ],
   "source": [
    "abs(-100)"
   ]
  },
  {
   "cell_type": "code",
   "execution_count": 168,
   "id": "ba46af29-5a29-4711-a142-cdf667ad6fd3",
   "metadata": {
    "tags": []
   },
   "outputs": [
    {
     "data": {
      "text/plain": [
       "100"
      ]
     },
     "execution_count": 168,
     "metadata": {},
     "output_type": "execute_result"
    }
   ],
   "source": [
    "abs"
   ]
  },
  {
   "cell_type": "code",
   "execution_count": 169,
   "id": "3ffc93c3-06c8-44a3-851d-32a14766e831",
   "metadata": {
    "tags": []
   },
   "outputs": [],
   "source": [
    "abs = builtins.abs"
   ]
  },
  {
   "cell_type": "code",
   "execution_count": 170,
   "id": "a7104c5f-f073-4647-91d4-65057f68dd04",
   "metadata": {
    "tags": []
   },
   "outputs": [
    {
     "data": {
      "text/plain": [
       "100"
      ]
     },
     "execution_count": 170,
     "metadata": {},
     "output_type": "execute_result"
    }
   ],
   "source": [
    "abs(-100)"
   ]
  },
  {
   "cell_type": "markdown",
   "id": "36899076-4ead-40f7-b3a3-e0fc2cf2402f",
   "metadata": {},
   "source": [
    "### Modifying the behavior of a python scope"
   ]
  },
  {
   "cell_type": "code",
   "execution_count": 171,
   "id": "93866650-3540-4e5b-9593-1d8b10157478",
   "metadata": {
    "tags": []
   },
   "outputs": [],
   "source": [
    "counter = 0\n",
    "\n",
    "def increment_counter():\n",
    "    counter = counter + 1"
   ]
  },
  {
   "cell_type": "code",
   "execution_count": 172,
   "id": "2f8f6a2b-0adc-49b5-bdcc-1755d0fd605f",
   "metadata": {
    "tags": []
   },
   "outputs": [
    {
     "ename": "UnboundLocalError",
     "evalue": "cannot access local variable 'counter' where it is not associated with a value",
     "output_type": "error",
     "traceback": [
      "\u001b[0;31m---------------------------------------------------------------------------\u001b[0m",
      "\u001b[0;31mUnboundLocalError\u001b[0m                         Traceback (most recent call last)",
      "Cell \u001b[0;32mIn[172], line 1\u001b[0m\n\u001b[0;32m----> 1\u001b[0m increment_counter()\n",
      "Cell \u001b[0;32mIn[171], line 4\u001b[0m, in \u001b[0;36mincrement_counter\u001b[0;34m()\u001b[0m\n\u001b[1;32m      3\u001b[0m \u001b[38;5;28;01mdef\u001b[39;00m \u001b[38;5;21mincrement_counter\u001b[39m():\n\u001b[0;32m----> 4\u001b[0m     counter \u001b[38;5;241m=\u001b[39m counter \u001b[38;5;241m+\u001b[39m \u001b[38;5;241m1\u001b[39m\n",
      "\u001b[0;31mUnboundLocalError\u001b[0m: cannot access local variable 'counter' where it is not associated with a value"
     ]
    }
   ],
   "source": [
    "increment_counter()"
   ]
  },
  {
   "cell_type": "code",
   "execution_count": 178,
   "id": "d07c2e5a-6e55-469b-90f8-8d7c251d7991",
   "metadata": {
    "tags": []
   },
   "outputs": [],
   "source": [
    "def increment_counter():\n",
    "    global counter      #This brings the global counter variable into the function\n",
    "    counter = counter + 1\n",
    "    print(counter)"
   ]
  },
  {
   "cell_type": "code",
   "execution_count": 180,
   "id": "24dbecd1-9d45-4692-a20c-3ae806f28c52",
   "metadata": {
    "tags": []
   },
   "outputs": [
    {
     "name": "stdout",
     "output_type": "stream",
     "text": [
      "5\n"
     ]
    },
    {
     "data": {
      "text/plain": [
       "5"
      ]
     },
     "execution_count": 180,
     "metadata": {},
     "output_type": "execute_result"
    }
   ],
   "source": [
    "increment_counter()\n",
    "counter"
   ]
  },
  {
   "cell_type": "code",
   "execution_count": 201,
   "id": "e804ee7c-d126-402e-acf0-d6ba6737cee3",
   "metadata": {
    "tags": []
   },
   "outputs": [],
   "source": [
    "global_counter = 0\n",
    "\n",
    "def increment_global_counter(counter):\n",
    "    return counter + 1"
   ]
  },
  {
   "cell_type": "code",
   "execution_count": 202,
   "id": "5a6b08f8-8443-4c89-b482-56f3a16e671e",
   "metadata": {
    "tags": []
   },
   "outputs": [
    {
     "data": {
      "text/plain": [
       "1"
      ]
     },
     "execution_count": 202,
     "metadata": {},
     "output_type": "execute_result"
    }
   ],
   "source": [
    "global_counter = increment_global_counter(global_counter)\n",
    "global_counter"
   ]
  },
  {
   "cell_type": "code",
   "execution_count": 203,
   "id": "0f26e4a3-181f-4f98-9ee8-3fc4f6381c11",
   "metadata": {
    "tags": []
   },
   "outputs": [],
   "source": [
    "def global_var_creation():\n",
    "    global new_var\n",
    "    new_var = \"I was just created inside of a function!\"\n",
    "    return new_var\n"
   ]
  },
  {
   "cell_type": "code",
   "execution_count": 206,
   "id": "164b38b2-cdcb-45e9-97d5-887468b34ab3",
   "metadata": {
    "tags": []
   },
   "outputs": [
    {
     "data": {
      "text/plain": [
       "'I was just created inside of a function!'"
      ]
     },
     "execution_count": 206,
     "metadata": {},
     "output_type": "execute_result"
    }
   ],
   "source": [
    "global_var_creation()"
   ]
  },
  {
   "cell_type": "code",
   "execution_count": 207,
   "id": "5ab544b9-f830-4c22-b2c6-8c8f28a1359a",
   "metadata": {
    "tags": []
   },
   "outputs": [
    {
     "data": {
      "text/plain": [
       "'I was just created inside of a function!'"
      ]
     },
     "execution_count": 207,
     "metadata": {},
     "output_type": "execute_result"
    }
   ],
   "source": [
    "new_var"
   ]
  },
  {
   "cell_type": "markdown",
   "id": "674012c2-bd1c-4cfb-b991-7e0b76c41664",
   "metadata": {},
   "source": [
    "### \"Nonlocal\" Keyword"
   ]
  },
  {
   "cell_type": "code",
   "execution_count": 236,
   "id": "6a201c6a-7828-420a-be0d-c1da57fdc57f",
   "metadata": {
    "tags": []
   },
   "outputs": [],
   "source": [
    "var2 = 200\n",
    "def my_function():\n",
    "    my_var = 100\n",
    "    var2 = 3\n",
    "    def nested():\n",
    "        nonlocal my_var\n",
    "        my_var += 100\n",
    "        print(my_var)\n",
    "        print(var2)\n",
    "        \n",
    "    nested()\n",
    "    print(my_var)"
   ]
  },
  {
   "cell_type": "code",
   "execution_count": 237,
   "id": "72c3c595-5f5d-4724-bcd3-da64b33f933b",
   "metadata": {
    "tags": []
   },
   "outputs": [
    {
     "name": "stdout",
     "output_type": "stream",
     "text": [
      "200\n",
      "3\n",
      "200\n"
     ]
    }
   ],
   "source": [
    "my_function()"
   ]
  },
  {
   "cell_type": "code",
   "execution_count": 241,
   "id": "f5ba7e43-722e-4d74-99ea-c1fa611e5c2a",
   "metadata": {
    "tags": []
   },
   "outputs": [
    {
     "ename": "NameError",
     "evalue": "name 'my_var' is not defined",
     "output_type": "error",
     "traceback": [
      "\u001b[0;31m---------------------------------------------------------------------------\u001b[0m",
      "\u001b[0;31mNameError\u001b[0m                                 Traceback (most recent call last)",
      "Cell \u001b[0;32mIn[241], line 1\u001b[0m\n\u001b[0;32m----> 1\u001b[0m my_var\n",
      "\u001b[0;31mNameError\u001b[0m: name 'my_var' is not defined"
     ]
    }
   ],
   "source": [
    "my_var #Doesn't work because it wasn't created globally, it was only created \"nonlocally\""
   ]
  },
  {
   "cell_type": "code",
   "execution_count": 240,
   "id": "3599d6e9-0009-4d46-bef6-8401fad347c2",
   "metadata": {
    "tags": []
   },
   "outputs": [
    {
     "ename": "SyntaxError",
     "evalue": "nonlocal declaration not allowed at module level (1611848725.py, line 1)",
     "output_type": "error",
     "traceback": [
      "\u001b[0;36m  Cell \u001b[0;32mIn[240], line 1\u001b[0;36m\u001b[0m\n\u001b[0;31m    nonlocal my_var #can only use nonlocal within a function\u001b[0m\n\u001b[0m    ^\u001b[0m\n\u001b[0;31mSyntaxError\u001b[0m\u001b[0;31m:\u001b[0m nonlocal declaration not allowed at module level\n"
     ]
    }
   ],
   "source": [
    "nonlocal my_var #can only use nonlocal within a function"
   ]
  },
  {
   "cell_type": "code",
   "execution_count": 242,
   "id": "e1953f4d-15d4-49f5-b164-06dd648457b9",
   "metadata": {
    "tags": []
   },
   "outputs": [
    {
     "ename": "SyntaxError",
     "evalue": "no binding for nonlocal 'var' found (2083682007.py, line 2)",
     "output_type": "error",
     "traceback": [
      "\u001b[0;36m  Cell \u001b[0;32mIn[242], line 2\u001b[0;36m\u001b[0m\n\u001b[0;31m    nonlocal var\u001b[0m\n\u001b[0m    ^\u001b[0m\n\u001b[0;31mSyntaxError\u001b[0m\u001b[0;31m:\u001b[0m no binding for nonlocal 'var' found\n"
     ]
    }
   ],
   "source": [
    "def a_func():\n",
    "    nonlocal var #Can't use it in the local scope either, can only use it when nesting functions\n",
    "    print(var)"
   ]
  },
  {
   "cell_type": "code",
   "execution_count": 243,
   "id": "a6c7ab8b-3e21-48b5-a48b-3480dc50799d",
   "metadata": {
    "tags": []
   },
   "outputs": [
    {
     "ename": "SyntaxError",
     "evalue": "no binding for nonlocal 'my_var' found (3409949774.py, line 4)",
     "output_type": "error",
     "traceback": [
      "\u001b[0;36m  Cell \u001b[0;32mIn[243], line 4\u001b[0;36m\u001b[0m\n\u001b[0;31m    nonlocal my_var\u001b[0m\n\u001b[0m    ^\u001b[0m\n\u001b[0;31mSyntaxError\u001b[0m\u001b[0;31m:\u001b[0m no binding for nonlocal 'my_var' found\n"
     ]
    }
   ],
   "source": [
    "def b_func():\n",
    "    \n",
    "    def nested():\n",
    "        nonlocal my_var #my_var already needs to be defined in the enclosing scope before it can be reference with nonlocal\n",
    "        my_var = 10\n",
    "        "
   ]
  }
 ],
 "metadata": {
  "kernelspec": {
   "display_name": "Python 3 (ipykernel)",
   "language": "python",
   "name": "python3"
  },
  "language_info": {
   "codemirror_mode": {
    "name": "ipython",
    "version": 3
   },
   "file_extension": ".py",
   "mimetype": "text/x-python",
   "name": "python",
   "nbconvert_exporter": "python",
   "pygments_lexer": "ipython3",
   "version": "3.11.5"
  }
 },
 "nbformat": 4,
 "nbformat_minor": 5
}

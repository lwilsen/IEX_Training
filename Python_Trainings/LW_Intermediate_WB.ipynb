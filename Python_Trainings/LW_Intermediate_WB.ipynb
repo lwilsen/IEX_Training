{
 "cells": [
  {
   "cell_type": "markdown",
   "id": "94eeea8d-47c8-450c-9a0c-fb169a194daa",
   "metadata": {},
   "source": [
    "# List comprehension"
   ]
  },
  {
   "cell_type": "code",
   "execution_count": null,
   "id": "3bf3effd-c010-40b6-995a-b68b70c24f2e",
   "metadata": {},
   "outputs": [],
   "source": [
    "variable = [out_expression for out_expression in input_list if out_expression == 2]"
   ]
  },
  {
   "cell_type": "code",
   "execution_count": 4,
   "id": "5b8fb929-2cbe-41cd-906b-fabfe8f63674",
   "metadata": {
    "tags": []
   },
   "outputs": [
    {
     "data": {
      "text/plain": [
       "[0, 3, 6, 9, 12, 15, 18, 21, 24, 27]"
      ]
     },
     "execution_count": 4,
     "metadata": {},
     "output_type": "execute_result"
    }
   ],
   "source": [
    "multiples_3 = [number for number in range(30) if number % 3 ==0]\n",
    "multiples_3"
   ]
  },
  {
   "cell_type": "markdown",
   "id": "265410da-2f34-47bc-aaac-bdf6093d48de",
   "metadata": {},
   "source": [
    "### Nested List Comprehension"
   ]
  },
  {
   "cell_type": "code",
   "execution_count": 7,
   "id": "e312de62-959e-4460-9898-a14fb7682750",
   "metadata": {
    "tags": []
   },
   "outputs": [
    {
     "data": {
      "text/plain": [
       "[[0, 1, 2, 3, 4, 5, 6, 7, 8, 9], [0, 1, 2, 3, 4, 5, 6, 7, 8, 9]]"
      ]
     },
     "execution_count": 7,
     "metadata": {},
     "output_type": "execute_result"
    }
   ],
   "source": [
    "matrix = [[number for number in range(10)] for col in range(2)]\n",
    "#you can reference a list comprehension, as you would reference a variable\n",
    "\n",
    "matrix"
   ]
  },
  {
   "cell_type": "markdown",
   "id": "218ff43a-770b-46d3-8098-b3dc590297a4",
   "metadata": {
    "tags": []
   },
   "source": [
    "### Multiple list"
   ]
  },
  {
   "cell_type": "code",
   "execution_count": 9,
   "id": "f52d5295-4e72-4f91-8bde-048784f1c37d",
   "metadata": {
    "tags": []
   },
   "outputs": [],
   "source": [
    "list_1 = ['A', 'B', 'C', 'D', 'E']\n",
    "list_2 = [1,2,3,4,5]\n",
    "list_3 = ['v', 'w','x','y','z']\n",
    "\n",
    "# expected output = [('A', 10, 'v'),( ... etc.)]"
   ]
  },
  {
   "cell_type": "code",
   "execution_count": 11,
   "id": "fc72f026-7e60-4398-bb55-aa7ea334efc7",
   "metadata": {
    "tags": []
   },
   "outputs": [
    {
     "data": {
      "text/plain": [
       "[('A', 1, 'v'), ('B', 2, 'w'), ('C', 3, 'x'), ('D', 4, 'y'), ('E', 5, 'z')]"
      ]
     },
     "execution_count": 11,
     "metadata": {},
     "output_type": "execute_result"
    }
   ],
   "source": [
    "final = [(a,b,c) for a,b,c in zip(list_1,list_2,list_3)]\n",
    "final"
   ]
  },
  {
   "cell_type": "code",
   "execution_count": 14,
   "id": "6f958922-df25-431d-b9f5-ad4ba273375a",
   "metadata": {
    "tags": []
   },
   "outputs": [
    {
     "name": "stdout",
     "output_type": "stream",
     "text": [
      "[('A', 1, 'v'), ('B', 2, 'w'), ('C', 3, 'x'), ('D', 4, 'y'), ('E', 5, 'z')]\n"
     ]
    }
   ],
   "source": [
    "print(list(zip(list_1,list_2,list_3)))"
   ]
  },
  {
   "cell_type": "code",
   "execution_count": 27,
   "id": "a9289e1d-f75f-4184-87f8-7abea66cb331",
   "metadata": {
    "tags": []
   },
   "outputs": [
    {
     "data": {
      "text/plain": [
       "{68: 'a', 26: 'b', 7: 'f'}"
      ]
     },
     "execution_count": 27,
     "metadata": {},
     "output_type": "execute_result"
    }
   ],
   "source": [
    "case_freq = {'a':68, 'b':26, 'f':7}\n",
    "\n",
    "case_swap = {oldval:oldkey for oldkey,oldval in case_freq.items()}\n",
    "#This ordering of oldkey,oldval matters\n",
    "case_swap"
   ]
  }
 ],
 "metadata": {
  "kernelspec": {
   "display_name": "Python 3 (ipykernel)",
   "language": "python",
   "name": "python3"
  },
  "language_info": {
   "codemirror_mode": {
    "name": "ipython",
    "version": 3
   },
   "file_extension": ".py",
   "mimetype": "text/x-python",
   "name": "python",
   "nbconvert_exporter": "python",
   "pygments_lexer": "ipython3",
   "version": "3.11.5"
  }
 },
 "nbformat": 4,
 "nbformat_minor": 5
}

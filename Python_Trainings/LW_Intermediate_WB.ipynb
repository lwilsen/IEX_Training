{
 "cells": [
  {
   "cell_type": "markdown",
   "id": "94eeea8d-47c8-450c-9a0c-fb169a194daa",
   "metadata": {},
   "source": [
    "# List comprehension"
   ]
  },
  {
   "cell_type": "code",
   "execution_count": null,
   "id": "3bf3effd-c010-40b6-995a-b68b70c24f2e",
   "metadata": {},
   "outputs": [],
   "source": [
    "variable = [out_expression for out_expression in input_list if out_expression == 2]"
   ]
  },
  {
   "cell_type": "code",
   "execution_count": 4,
   "id": "5b8fb929-2cbe-41cd-906b-fabfe8f63674",
   "metadata": {
    "tags": []
   },
   "outputs": [
    {
     "data": {
      "text/plain": [
       "[0, 3, 6, 9, 12, 15, 18, 21, 24, 27]"
      ]
     },
     "execution_count": 4,
     "metadata": {},
     "output_type": "execute_result"
    }
   ],
   "source": [
    "multiples_3 = [number for number in range(30) if number % 3 ==0]\n",
    "multiples_3"
   ]
  },
  {
   "cell_type": "markdown",
   "id": "265410da-2f34-47bc-aaac-bdf6093d48de",
   "metadata": {},
   "source": [
    "### Nested List Comprehension"
   ]
  },
  {
   "cell_type": "code",
   "execution_count": 7,
   "id": "e312de62-959e-4460-9898-a14fb7682750",
   "metadata": {
    "tags": []
   },
   "outputs": [
    {
     "data": {
      "text/plain": [
       "[[0, 1, 2, 3, 4, 5, 6, 7, 8, 9], [0, 1, 2, 3, 4, 5, 6, 7, 8, 9]]"
      ]
     },
     "execution_count": 7,
     "metadata": {},
     "output_type": "execute_result"
    }
   ],
   "source": [
    "matrix = [[number for number in range(10)] for col in range(2)]\n",
    "#you can reference a list comprehension, as you would reference a variable\n",
    "\n",
    "matrix"
   ]
  },
  {
   "cell_type": "markdown",
   "id": "218ff43a-770b-46d3-8098-b3dc590297a4",
   "metadata": {
    "tags": []
   },
   "source": [
    "### Multiple list"
   ]
  },
  {
   "cell_type": "code",
   "execution_count": 9,
   "id": "f52d5295-4e72-4f91-8bde-048784f1c37d",
   "metadata": {
    "tags": []
   },
   "outputs": [],
   "source": [
    "list_1 = ['A', 'B', 'C', 'D', 'E']\n",
    "list_2 = [1,2,3,4,5]\n",
    "list_3 = ['v', 'w','x','y','z']\n",
    "\n",
    "# expected output = [('A', 10, 'v'),( ... etc.)]"
   ]
  },
  {
   "cell_type": "code",
   "execution_count": 11,
   "id": "fc72f026-7e60-4398-bb55-aa7ea334efc7",
   "metadata": {
    "tags": []
   },
   "outputs": [
    {
     "data": {
      "text/plain": [
       "[('A', 1, 'v'), ('B', 2, 'w'), ('C', 3, 'x'), ('D', 4, 'y'), ('E', 5, 'z')]"
      ]
     },
     "execution_count": 11,
     "metadata": {},
     "output_type": "execute_result"
    }
   ],
   "source": [
    "final = [(a,b,c) for a,b,c in zip(list_1,list_2,list_3)]\n",
    "final"
   ]
  },
  {
   "cell_type": "code",
   "execution_count": 14,
   "id": "6f958922-df25-431d-b9f5-ad4ba273375a",
   "metadata": {
    "tags": []
   },
   "outputs": [
    {
     "name": "stdout",
     "output_type": "stream",
     "text": [
      "[('A', 1, 'v'), ('B', 2, 'w'), ('C', 3, 'x'), ('D', 4, 'y'), ('E', 5, 'z')]\n"
     ]
    }
   ],
   "source": [
    "print(list(zip(list_1,list_2,list_3)))"
   ]
  },
  {
   "cell_type": "code",
   "execution_count": 27,
   "id": "a9289e1d-f75f-4184-87f8-7abea66cb331",
   "metadata": {
    "tags": []
   },
   "outputs": [
    {
     "data": {
      "text/plain": [
       "{68: 'a', 26: 'b', 7: 'f'}"
      ]
     },
     "execution_count": 27,
     "metadata": {},
     "output_type": "execute_result"
    }
   ],
   "source": [
    "case_freq = {'a':68, 'b':26, 'f':7}\n",
    "\n",
    "case_swap = {oldval:oldkey for oldkey,oldval in case_freq.items()}\n",
    "#This ordering of oldkey,oldval matters\n",
    "case_swap"
   ]
  },
  {
   "cell_type": "markdown",
   "id": "56f333d1-c025-4118-a2fc-00e5d805b8ec",
   "metadata": {},
   "source": [
    "## Args and Kwargs"
   ]
  },
  {
   "cell_type": "code",
   "execution_count": 28,
   "id": "0a1de697-1254-4408-936e-fd75bbc84952",
   "metadata": {
    "tags": []
   },
   "outputs": [],
   "source": [
    "def test(arg1, arg2, arg3):\n",
    "    print('arg1: ', arg1)\n",
    "    print('arg2: ', arg2)\n",
    "    print('arg3: ', arg3)\n"
   ]
  },
  {
   "cell_type": "code",
   "execution_count": 32,
   "id": "f883555b-797d-486a-84bf-75d1abb1d9bc",
   "metadata": {
    "tags": []
   },
   "outputs": [],
   "source": [
    "args = ('one',2,'three')"
   ]
  },
  {
   "cell_type": "code",
   "execution_count": 33,
   "id": "ebcc3f9d-6463-43f6-a55a-20e483057976",
   "metadata": {
    "tags": []
   },
   "outputs": [
    {
     "name": "stdout",
     "output_type": "stream",
     "text": [
      "arg1:  one\n",
      "arg2:  2\n",
      "arg3:  three\n"
     ]
    }
   ],
   "source": [
    "test(*args)"
   ]
  },
  {
   "cell_type": "code",
   "execution_count": 44,
   "id": "fa8bf906-24c3-4cef-8463-1026f60b0c20",
   "metadata": {
    "tags": []
   },
   "outputs": [],
   "source": [
    "kwargs = {'arg3':'football', 'arg2':'soccer', 'arg1':'Rugby'}"
   ]
  },
  {
   "cell_type": "code",
   "execution_count": 45,
   "id": "ff22c14b-bf3d-47c7-aed1-ec11ac9b0bea",
   "metadata": {
    "tags": []
   },
   "outputs": [
    {
     "name": "stdout",
     "output_type": "stream",
     "text": [
      "arg1:  Rugby\n",
      "arg2:  soccer\n",
      "arg3:  football\n"
     ]
    }
   ],
   "source": [
    "test(**kwargs)"
   ]
  },
  {
   "cell_type": "code",
   "execution_count": 58,
   "id": "d946c914-8afc-4559-b8c5-9045f1d9c592",
   "metadata": {
    "tags": []
   },
   "outputs": [
    {
     "name": "stdout",
     "output_type": "stream",
     "text": [
      "<class 'dict_items'>\n",
      "Hello my name is Luke\n",
      "Hello my hair is brown\n",
      "Hello my shoes is white\n"
     ]
    }
   ],
   "source": [
    "def greeting(**kwargs):\n",
    "    print(type(kwargs.items()))\n",
    "    for key, value in kwargs.items():\n",
    "        print(\"Hello my {0} is {1}\".format(key,value))\n",
    "        \n",
    "greeting(name = 'Luke', hair = \"brown\", shoes = \"white\")"
   ]
  },
  {
   "cell_type": "markdown",
   "id": "e72fede8-fa1a-46fc-80f0-c38b5249498a",
   "metadata": {},
   "source": [
    "# Local Functions"
   ]
  },
  {
   "cell_type": "code",
   "execution_count": 60,
   "id": "3202ce01-fe0d-4b44-8ec7-40d8f72e3100",
   "metadata": {
    "tags": []
   },
   "outputs": [
    {
     "data": {
      "text/plain": [
       "9"
      ]
     },
     "execution_count": 60,
     "metadata": {},
     "output_type": "execute_result"
    }
   ],
   "source": [
    "total = 100\n",
    "\n",
    "def addition(a,b):\n",
    "    total = a+b\n",
    "    return total\n",
    "\n",
    "addition(4,5)\n",
    "\n",
    "#Global variable total vs local total inside the function aren't the same\n",
    "#total inside the function isn't affected by global total"
   ]
  },
  {
   "cell_type": "code",
   "execution_count": 65,
   "id": "c092a614-b0bc-4e85-a845-d0c282f845d2",
   "metadata": {
    "tags": []
   },
   "outputs": [
    {
     "name": "stdout",
     "output_type": "stream",
     "text": [
      "3 5\n"
     ]
    },
    {
     "ename": "NameError",
     "evalue": "name 'inner' is not defined",
     "output_type": "error",
     "traceback": [
      "\u001b[0;31m---------------------------------------------------------------------------\u001b[0m",
      "\u001b[0;31mNameError\u001b[0m                                 Traceback (most recent call last)",
      "Cell \u001b[0;32mIn[65], line 12\u001b[0m\n\u001b[1;32m      8\u001b[0m     \u001b[38;5;28mprint\u001b[39m(num1, num2)\n\u001b[1;32m     10\u001b[0m outer(\u001b[38;5;241m3\u001b[39m)\n\u001b[0;32m---> 12\u001b[0m inner(\u001b[38;5;241m3\u001b[39m)\n",
      "\u001b[0;31mNameError\u001b[0m: name 'inner' is not defined"
     ]
    }
   ],
   "source": [
    "def outer(num1):\n",
    "    \n",
    "    def inner(num1):\n",
    "        \n",
    "        return num1 + 2\n",
    "    num2 = inner(num1)\n",
    "    \n",
    "    print(num1, num2)\n",
    "    \n",
    "outer(3)\n",
    "\n",
    "#inner(3) <-- not defined in the global environment, so you can't call it"
   ]
  },
  {
   "cell_type": "code",
   "execution_count": 67,
   "id": "9e489272-72a5-4ed0-8f3d-8651b590c965",
   "metadata": {
    "tags": []
   },
   "outputs": [],
   "source": [
    "class Counter:\n",
    "    def __init__(self):\n",
    "        self.current = 0\n",
    "        \n",
    "    def increment(self):\n",
    "        self.current += 1\n",
    "    \n",
    "    def value(self):\n",
    "        return self.current\n",
    "    \n",
    "    def reset(self):\n",
    "        self.current = 0"
   ]
  },
  {
   "cell_type": "code",
   "execution_count": 75,
   "id": "7825c22e-1717-46eb-a0e4-e15d6001fab6",
   "metadata": {
    "tags": []
   },
   "outputs": [],
   "source": [
    "counter = Counter()\n",
    "\n",
    "counter.value()\n",
    "\n",
    "counter.increment()\n",
    "\n",
    "counter.value()\n",
    "\n",
    "counter.reset()"
   ]
  },
  {
   "cell_type": "code",
   "execution_count": 76,
   "id": "989290c9-0350-4f7e-88e3-6cbe06e92200",
   "metadata": {
    "tags": []
   },
   "outputs": [
    {
     "data": {
      "text/plain": [
       "1000"
      ]
     },
     "execution_count": 76,
     "metadata": {},
     "output_type": "execute_result"
    }
   ],
   "source": [
    "counter.current = 1000\n",
    "\n",
    "counter.value()"
   ]
  },
  {
   "cell_type": "markdown",
   "id": "2f48ff41-54dd-4b1a-a155-1cc55c638144",
   "metadata": {},
   "source": [
    "## Private attribute"
   ]
  },
  {
   "cell_type": "code",
   "execution_count": null,
   "id": "1b286cca-2d94-4302-9a0b-49eefa147e41",
   "metadata": {},
   "outputs": [],
   "source": [
    "#_attribute is the convention"
   ]
  },
  {
   "cell_type": "code",
   "execution_count": 84,
   "id": "900e8d74-2e6e-4f16-b82f-e285c73a6b1b",
   "metadata": {
    "tags": []
   },
   "outputs": [],
   "source": [
    "class Counter:\n",
    "    def __init__(self):\n",
    "        self._current = 0\n",
    "        \n",
    "    def increment(self):\n",
    "        self._current += 1\n",
    "    \n",
    "    def value(self):\n",
    "        return self._current\n",
    "    \n",
    "    def reset(self):\n",
    "        self._current = 0"
   ]
  },
  {
   "cell_type": "code",
   "execution_count": 87,
   "id": "49bf6d27-305b-449c-80cb-5c6b93aa75f5",
   "metadata": {
    "tags": []
   },
   "outputs": [
    {
     "data": {
      "text/plain": [
       "0"
      ]
     },
     "execution_count": 87,
     "metadata": {},
     "output_type": "execute_result"
    }
   ],
   "source": [
    "counter2 = Counter()\n",
    "\n",
    "counter2.value() #underscore didn't change anything with class functions, it just tells the user not to mess with the \"current\" attribute"
   ]
  },
  {
   "cell_type": "markdown",
   "id": "05d1b0eb-fa7f-4f15-859f-78c3cd3f9cae",
   "metadata": {},
   "source": [
    "## Name MangLing"
   ]
  },
  {
   "cell_type": "code",
   "execution_count": 88,
   "id": "4eae10c4-31b4-4033-bc6b-47994fae6144",
   "metadata": {
    "tags": []
   },
   "outputs": [],
   "source": [
    "#__attribute\n",
    "\n",
    "#_class__attribute\n",
    "\n",
    "#so to modify the above attribute, user would have to use instance._class__attribute\n",
    "\n",
    "class Counter:\n",
    "    def __init__(self):\n",
    "        self.__current = 0\n",
    "        \n",
    "    def increment(self):\n",
    "        self.__current += 1\n",
    "    \n",
    "    def value(self):\n",
    "        return self.__current\n",
    "    \n",
    "    def reset(self):\n",
    "        self.__current = 0"
   ]
  },
  {
   "cell_type": "code",
   "execution_count": 89,
   "id": "d9d8e40a-5212-4480-b233-abca447ca51e",
   "metadata": {
    "tags": []
   },
   "outputs": [],
   "source": [
    "counter3 = Counter()"
   ]
  },
  {
   "cell_type": "code",
   "execution_count": 93,
   "id": "b44c6d97-0f4f-4a5b-84bb-c8a59a7b0319",
   "metadata": {
    "tags": []
   },
   "outputs": [
    {
     "data": {
      "text/plain": [
       "0"
      ]
     },
     "execution_count": 93,
     "metadata": {},
     "output_type": "execute_result"
    }
   ],
   "source": [
    "counter3.value()\n",
    "\n",
    "counter3.current = 3 #This won't alter the current attribute\n",
    "\n",
    "counter3.value()"
   ]
  },
  {
   "cell_type": "code",
   "execution_count": 94,
   "id": "366521b4-f4af-4fc8-b4de-c8b820d59058",
   "metadata": {
    "tags": []
   },
   "outputs": [],
   "source": [
    "counter3._Counter__current = 100 #This specific syntax alters the current attribute"
   ]
  },
  {
   "cell_type": "code",
   "execution_count": 95,
   "id": "d560996d-1f15-4931-8a67-e958e941ec03",
   "metadata": {
    "tags": []
   },
   "outputs": [
    {
     "data": {
      "text/plain": [
       "100"
      ]
     },
     "execution_count": 95,
     "metadata": {},
     "output_type": "execute_result"
    }
   ],
   "source": [
    "counter3.value()"
   ]
  },
  {
   "cell_type": "code",
   "execution_count": 97,
   "id": "5573d436-356e-4c71-8cd8-a38b82d48c00",
   "metadata": {
    "tags": []
   },
   "outputs": [
    {
     "data": {
      "text/plain": [
       "0"
      ]
     },
     "execution_count": 97,
     "metadata": {},
     "output_type": "execute_result"
    }
   ],
   "source": [
    "counter3.reset()\n",
    "counter3.value()"
   ]
  },
  {
   "cell_type": "markdown",
   "id": "e13064fa-443a-49d9-b4f5-f506c86901df",
   "metadata": {},
   "source": [
    "## Closure"
   ]
  },
  {
   "cell_type": "code",
   "execution_count": 98,
   "id": "a656a8a1-5e10-4d88-b53c-281070ca98a2",
   "metadata": {
    "tags": []
   },
   "outputs": [],
   "source": [
    "def say_msg(msg):\n",
    "    #outer function\n",
    "    \n",
    "    def printer():\n",
    "        #inner function\n",
    "        \n",
    "        print(msg)\n",
    "        \n",
    "    printer()"
   ]
  },
  {
   "cell_type": "code",
   "execution_count": 99,
   "id": "874232a2-2e14-4c4a-9ed6-085b4f357cfa",
   "metadata": {
    "tags": []
   },
   "outputs": [
    {
     "name": "stdout",
     "output_type": "stream",
     "text": [
      "Hello\n"
     ]
    }
   ],
   "source": [
    "say_msg(\"Hello\")"
   ]
  },
  {
   "cell_type": "code",
   "execution_count": 100,
   "id": "f2347009-11e1-4fb4-8ce6-2d7a0b427299",
   "metadata": {
    "tags": []
   },
   "outputs": [],
   "source": [
    "def say_msg2(msg):\n",
    "    #outer function\n",
    "    \n",
    "    def printer():\n",
    "        #inner function\n",
    "        \n",
    "        print(msg)\n",
    "    \n",
    "    return printer"
   ]
  },
  {
   "cell_type": "code",
   "execution_count": 102,
   "id": "10d4e6a4-f98f-48dd-b986-44398516fef6",
   "metadata": {
    "tags": []
   },
   "outputs": [
    {
     "data": {
      "text/plain": [
       "<function __main__.say_msg2.<locals>.printer()>"
      ]
     },
     "execution_count": 102,
     "metadata": {},
     "output_type": "execute_result"
    }
   ],
   "source": [
    "say_msg2(\"Hello\") #This returnns a funcntion object"
   ]
  },
  {
   "cell_type": "code",
   "execution_count": 103,
   "id": "796f2234-371e-4d1c-9596-91e7836f548d",
   "metadata": {
    "tags": []
   },
   "outputs": [],
   "source": [
    "greetings = say_msg2(\"Greetings\") #This assigns a the function ALONG WITH SPECIFIC DATA to a variable (basically creates an instance of a function)"
   ]
  },
  {
   "cell_type": "code",
   "execution_count": 105,
   "id": "24096be7-4959-49e7-bb32-cd34a35181ce",
   "metadata": {
    "tags": []
   },
   "outputs": [
    {
     "name": "stdout",
     "output_type": "stream",
     "text": [
      "Greetings\n"
     ]
    }
   ],
   "source": [
    "greetings()"
   ]
  },
  {
   "cell_type": "code",
   "execution_count": 108,
   "id": "ff9e223b-0334-4e6f-9633-d82a4c4e3f1c",
   "metadata": {
    "tags": []
   },
   "outputs": [
    {
     "ename": "NameError",
     "evalue": "name 'say_msg2' is not defined",
     "output_type": "error",
     "traceback": [
      "\u001b[0;31m---------------------------------------------------------------------------\u001b[0m",
      "\u001b[0;31mNameError\u001b[0m                                 Traceback (most recent call last)",
      "Cell \u001b[0;32mIn[108], line 1\u001b[0m\n\u001b[0;32m----> 1\u001b[0m \u001b[38;5;28;01mdel\u001b[39;00m say_msg2\n\u001b[1;32m      3\u001b[0m say_msg2(\u001b[38;5;124m\"\u001b[39m\u001b[38;5;124mHi\u001b[39m\u001b[38;5;124m\"\u001b[39m)\n",
      "\u001b[0;31mNameError\u001b[0m: name 'say_msg2' is not defined"
     ]
    }
   ],
   "source": [
    "del say_msg2\n",
    "\n",
    "#say_msg2(\"Hi\") Returns an error"
   ]
  },
  {
   "cell_type": "code",
   "execution_count": 110,
   "id": "32943c0d-3b2b-42e8-a1cb-246504c7f3eb",
   "metadata": {
    "tags": []
   },
   "outputs": [
    {
     "name": "stdout",
     "output_type": "stream",
     "text": [
      "Greetings\n"
     ]
    }
   ],
   "source": [
    "greetings() #This still works even tho say_msg2 that it relies has been deleted\n",
    "            #The data stored in greetings (function + data) is still there!"
   ]
  },
  {
   "cell_type": "markdown",
   "id": "0907dbdc-480b-45d6-97d9-0fff64f7ad8e",
   "metadata": {},
   "source": [
    "## Logging\n",
    "\n",
    "\n",
    "Levels\n",
    "\n",
    "DEBUG --> Detailed information, only of interest when diagnosing a problem\n",
    "INFO  --> Confirms that things are working as expected\n",
    "WARNING --> Indicates that something unexpected has happened, or that there would be a problem in the near future eg low disk space\n",
    "ERROR --> Due to a more serious problem\n",
    "CRITICAL --> A serious error has occurred and the program may not be able to continue running"
   ]
  },
  {
   "cell_type": "code",
   "execution_count": 112,
   "id": "fb57c928-7bf9-48da-9b5f-9a058cec6e76",
   "metadata": {
    "tags": []
   },
   "outputs": [],
   "source": [
    "import logging\n",
    "\n",
    "logging.info(\"Things are working fine\")"
   ]
  },
  {
   "cell_type": "code",
   "execution_count": 117,
   "id": "ea778816-3214-4e81-bc99-e7304492e580",
   "metadata": {
    "tags": []
   },
   "outputs": [
    {
     "name": "stderr",
     "output_type": "stream",
     "text": [
      "WARNING:root:Disk space is running low\n"
     ]
    }
   ],
   "source": [
    "logging.warning('Disk space is running low')"
   ]
  },
  {
   "cell_type": "code",
   "execution_count": 114,
   "id": "6895d0cc-ffc3-4989-869b-d6c77bc80e9e",
   "metadata": {
    "tags": []
   },
   "outputs": [
    {
     "name": "stderr",
     "output_type": "stream",
     "text": [
      "ERROR:root:something serious has happened\n"
     ]
    }
   ],
   "source": [
    "logging.error('something serious has happened')"
   ]
  },
  {
   "cell_type": "code",
   "execution_count": 115,
   "id": "fad6950a-477c-4d18-9f34-5950914b2696",
   "metadata": {
    "tags": []
   },
   "outputs": [
    {
     "name": "stderr",
     "output_type": "stream",
     "text": [
      "CRITICAL:root:CRITICAL!\n"
     ]
    }
   ],
   "source": [
    "logging.critical('CRITICAL!')"
   ]
  },
  {
   "cell_type": "code",
   "execution_count": 116,
   "id": "b3543e86-ad85-4632-b694-f4a464a111d6",
   "metadata": {
    "tags": []
   },
   "outputs": [],
   "source": [
    "logging.debug('Where are the bugs?')"
   ]
  },
  {
   "cell_type": "code",
   "execution_count": 118,
   "id": "9e69545e-a97b-4384-b84e-e6a9bef609ac",
   "metadata": {
    "tags": []
   },
   "outputs": [],
   "source": [
    "#Creating logging file\n",
    "\n",
    "import logging\n",
    "\n",
    "logging.basicConfig(filename = 'example.log', level = logging.DEBUG, force = True)\n",
    "\n",
    "logging.debug('Where are the bugs?')\n",
    "logging.info(\"Things are working fine\")\n",
    "logging.warning('Disk space is running low')\n",
    "logging.error('something serious has happened')\n",
    "logging.critical('CRITICAL!')"
   ]
  },
  {
   "cell_type": "code",
   "execution_count": 130,
   "id": "3f11cb68-86f7-4055-beb1-bef00da7c51d",
   "metadata": {
    "tags": []
   },
   "outputs": [],
   "source": [
    "def logger(func):\n",
    "    \n",
    "    def log_func(*args):\n",
    "        logging.info(f'Running \"{func.__name__}\" with arguments {args} with result {func(*args)}')\n",
    "        print(func(*args))\n",
    "        \n",
    "    return log_func\n",
    "\n",
    "def add(x,y):\n",
    "    return x + y\n",
    "\n",
    "def sub(x,y):\n",
    "    return x - y"
   ]
  },
  {
   "cell_type": "code",
   "execution_count": 131,
   "id": "0abcfa02-df6d-4109-b4e7-6522f1d1f675",
   "metadata": {
    "tags": []
   },
   "outputs": [],
   "source": [
    "add_logger = logger(add)"
   ]
  },
  {
   "cell_type": "code",
   "execution_count": 122,
   "id": "3bc88f50-85fe-443c-a855-b2546378a98b",
   "metadata": {
    "tags": []
   },
   "outputs": [
    {
     "name": "stdout",
     "output_type": "stream",
     "text": [
      "3\n"
     ]
    }
   ],
   "source": [
    "add_logger(2,1)"
   ]
  },
  {
   "cell_type": "code",
   "execution_count": 132,
   "id": "0dd1c0f5-48d7-41cd-88b2-df8296ed9b2a",
   "metadata": {
    "tags": []
   },
   "outputs": [],
   "source": [
    "sub_logger = logger(sub)"
   ]
  },
  {
   "cell_type": "code",
   "execution_count": 124,
   "id": "d2346b7d-da43-4472-838c-7c01e9f0782a",
   "metadata": {
    "tags": []
   },
   "outputs": [
    {
     "name": "stdout",
     "output_type": "stream",
     "text": [
      "1\n"
     ]
    }
   ],
   "source": [
    "sub_logger(2,1)"
   ]
  },
  {
   "cell_type": "code",
   "execution_count": 128,
   "id": "662c8e2b-3281-4905-8c11-21e3fcc0e30d",
   "metadata": {
    "tags": []
   },
   "outputs": [
    {
     "name": "stdout",
     "output_type": "stream",
     "text": [
      "-8\n"
     ]
    }
   ],
   "source": [
    "sub_logger(8,16)"
   ]
  },
  {
   "cell_type": "code",
   "execution_count": 133,
   "id": "ed05dd35-821f-4e57-be5d-7c5299556cbf",
   "metadata": {
    "tags": []
   },
   "outputs": [
    {
     "name": "stdout",
     "output_type": "stream",
     "text": [
      "18\n"
     ]
    }
   ],
   "source": [
    "add_logger(8,10)"
   ]
  },
  {
   "cell_type": "code",
   "execution_count": 134,
   "id": "16ea0fd8-38e6-4c69-ade2-722a0099f937",
   "metadata": {
    "tags": []
   },
   "outputs": [],
   "source": [
    "del logger\n",
    "del add\n",
    "del sub"
   ]
  },
  {
   "cell_type": "code",
   "execution_count": 138,
   "id": "8f228f9d-f36f-4903-a4d6-01cb9671e0df",
   "metadata": {
    "tags": []
   },
   "outputs": [
    {
     "ename": "NameError",
     "evalue": "name 'logger' is not defined",
     "output_type": "error",
     "traceback": [
      "\u001b[0;31m---------------------------------------------------------------------------\u001b[0m",
      "\u001b[0;31mNameError\u001b[0m                                 Traceback (most recent call last)",
      "Cell \u001b[0;32mIn[138], line 1\u001b[0m\n\u001b[0;32m----> 1\u001b[0m logger(add) \u001b[38;5;66;03m#error\u001b[39;00m\n\u001b[1;32m      2\u001b[0m add(\u001b[38;5;241m2\u001b[39m,\u001b[38;5;241m1\u001b[39m) \u001b[38;5;66;03m#error\u001b[39;00m\n\u001b[1;32m      3\u001b[0m sub(\u001b[38;5;241m2\u001b[39m,\u001b[38;5;241m1\u001b[39m)\n",
      "\u001b[0;31mNameError\u001b[0m: name 'logger' is not defined"
     ]
    }
   ],
   "source": [
    "logger(add) #error\n",
    "add(2,1) #error\n",
    "sub(2,1) #error"
   ]
  },
  {
   "cell_type": "code",
   "execution_count": 141,
   "id": "f9e82ed2-ba24-4e6a-8510-a7bfaaa8f247",
   "metadata": {
    "tags": []
   },
   "outputs": [
    {
     "name": "stdout",
     "output_type": "stream",
     "text": [
      "orangejuice\n"
     ]
    }
   ],
   "source": [
    "add_logger('orange','juice')"
   ]
  },
  {
   "cell_type": "markdown",
   "id": "57177f4f-ba8e-4c86-bcc2-db9a280697cc",
   "metadata": {},
   "source": [
    "## Decorators"
   ]
  },
  {
   "cell_type": "code",
   "execution_count": 2,
   "id": "89083295-ba0b-4949-97e8-3c39875ebcd1",
   "metadata": {
    "tags": []
   },
   "outputs": [],
   "source": [
    "def StormExample(func):\n",
    "    \n",
    "    def wrapperfunc(*args):\n",
    "        print('Pre Func Exection')\n",
    "        func()\n",
    "        print('Post func execution')\n",
    "        \n",
    "    return wrapperfunc"
   ]
  },
  {
   "cell_type": "code",
   "execution_count": 3,
   "id": "55cce81a-dbcf-4646-9f4d-6169cd0e57df",
   "metadata": {
    "tags": []
   },
   "outputs": [],
   "source": [
    "def function_add():\n",
    "    print('Inside Func')"
   ]
  },
  {
   "cell_type": "code",
   "execution_count": 4,
   "id": "af87ac2c-9473-4398-9faf-bf511204fc26",
   "metadata": {
    "tags": []
   },
   "outputs": [],
   "source": [
    "function_add = StormExample(function_add)"
   ]
  },
  {
   "cell_type": "code",
   "execution_count": 7,
   "id": "9d1e6d5b-b997-4891-882b-6ff0505a21c3",
   "metadata": {
    "tags": []
   },
   "outputs": [
    {
     "name": "stdout",
     "output_type": "stream",
     "text": [
      "Pre Func Exection\n",
      "Inside Func\n",
      "Post func execution\n"
     ]
    }
   ],
   "source": [
    "function_add() #You can see that the new function_add (using stormexample) is the same thing, but wrapped with string"
   ]
  },
  {
   "cell_type": "code",
   "execution_count": 8,
   "id": "22af221f-c772-40c3-a416-401ac09217cb",
   "metadata": {
    "tags": []
   },
   "outputs": [],
   "source": [
    "def make_extraordinary(func):\n",
    "    \n",
    "    def wrapper():\n",
    "        func()\n",
    "        print('but now, I am extra ordinary!')\n",
    "    \n",
    "    return wrapper"
   ]
  },
  {
   "cell_type": "code",
   "execution_count": 9,
   "id": "7b82a6a4-b425-46bb-8fe0-9abf5e16ed69",
   "metadata": {
    "tags": []
   },
   "outputs": [],
   "source": [
    "def ordinary():\n",
    "    print('I am ordinary')"
   ]
  },
  {
   "cell_type": "code",
   "execution_count": 10,
   "id": "22ce06b5-9fbf-42c3-9a92-fb28a450ad72",
   "metadata": {
    "tags": []
   },
   "outputs": [
    {
     "name": "stdout",
     "output_type": "stream",
     "text": [
      "I am ordinary\n"
     ]
    }
   ],
   "source": [
    "ordinary()"
   ]
  },
  {
   "cell_type": "code",
   "execution_count": 11,
   "id": "7810c678-fdd9-49cc-867a-77aa59ee73ab",
   "metadata": {
    "tags": []
   },
   "outputs": [],
   "source": [
    "EO = make_extraordinary(ordinary)"
   ]
  },
  {
   "cell_type": "code",
   "execution_count": 13,
   "id": "13c30e6e-33d5-46c5-b8d6-c8d6a1036b02",
   "metadata": {
    "tags": []
   },
   "outputs": [
    {
     "name": "stdout",
     "output_type": "stream",
     "text": [
      "I am ordinary\n",
      "but now, I am extra ordinary!\n"
     ]
    }
   ],
   "source": [
    "EO()"
   ]
  },
  {
   "cell_type": "code",
   "execution_count": 14,
   "id": "8bb8adbc-9ebb-4b7d-b5d1-794eae24dac2",
   "metadata": {
    "tags": []
   },
   "outputs": [],
   "source": [
    "@make_extraordinary #This syntax automatically decorates the below function\n",
    "def another_ordinary():\n",
    "    print('I too used to be ordinary')"
   ]
  },
  {
   "cell_type": "code",
   "execution_count": 15,
   "id": "92a3ce75-481e-49ec-862b-2cf6279761bd",
   "metadata": {
    "tags": []
   },
   "outputs": [
    {
     "name": "stdout",
     "output_type": "stream",
     "text": [
      "I too used to be ordinary\n",
      "but now, I am extra ordinary!\n"
     ]
    }
   ],
   "source": [
    "another_ordinary()"
   ]
  },
  {
   "cell_type": "markdown",
   "id": "3c2f5613-bbf7-4040-b75c-3175905047bb",
   "metadata": {
    "tags": []
   },
   "source": [
    "## Decorating Functions with Parameters"
   ]
  },
  {
   "cell_type": "code",
   "execution_count": 17,
   "id": "280a9dee-dc5b-4df5-a479-eeb90a21e841",
   "metadata": {
    "tags": []
   },
   "outputs": [],
   "source": [
    "def divide(x,y):\n",
    "    return x/y"
   ]
  },
  {
   "cell_type": "code",
   "execution_count": 18,
   "id": "ed63ad10-ece3-458c-a26e-c3cf276293d1",
   "metadata": {
    "tags": []
   },
   "outputs": [],
   "source": [
    "def div_check(func):\n",
    "    \n",
    "    def wrap(a,b):\n",
    "        print(f'I will divide {a} and {b}.')\n",
    "        \n",
    "        if b == 0:\n",
    "            print(\"You can't divide by 0\")\n",
    "            return\n",
    "        \n",
    "        return func(a,b)\n",
    "    \n",
    "    return wrap"
   ]
  },
  {
   "cell_type": "code",
   "execution_count": 19,
   "id": "99d995d5-655d-4707-907e-57ef7f41d285",
   "metadata": {
    "tags": []
   },
   "outputs": [],
   "source": [
    "@div_check #Concise way of implementing decorator functions\n",
    "def division(x,y):\n",
    "    print(x/y)"
   ]
  },
  {
   "cell_type": "code",
   "execution_count": 21,
   "id": "342f87de-f9e3-4bcb-8051-2a0006617456",
   "metadata": {
    "tags": []
   },
   "outputs": [
    {
     "name": "stdout",
     "output_type": "stream",
     "text": [
      "I will divide 1 and 2.\n",
      "0.5\n"
     ]
    }
   ],
   "source": [
    "division(1,2)"
   ]
  },
  {
   "cell_type": "code",
   "execution_count": 22,
   "id": "fd369530-5b39-448d-b3b4-34b546b1b264",
   "metadata": {
    "tags": []
   },
   "outputs": [
    {
     "name": "stdout",
     "output_type": "stream",
     "text": [
      "I will divide 4 and 0.\n",
      "You can't divide by 0\n"
     ]
    }
   ],
   "source": [
    "division(4,0)"
   ]
  },
  {
   "cell_type": "code",
   "execution_count": 24,
   "id": "00a3a47f-78ca-4061-b248-5f6966bcafb5",
   "metadata": {
    "tags": []
   },
   "outputs": [],
   "source": [
    "def deco_w_params(func):\n",
    "    \n",
    "    def wrap(*args, **kwargs):\n",
    "        print('I can decorate functions with any number of parameters')\n",
    "        return func(*args,**kwargs)\n",
    "    \n",
    "    return inner"
   ]
  },
  {
   "cell_type": "code",
   "execution_count": null,
   "id": "8f18b66a-5e2b-4696-96d1-4a32f88c75ec",
   "metadata": {},
   "outputs": [],
   "source": []
  },
  {
   "cell_type": "markdown",
   "id": "baaae58c-0e04-498d-9edb-6af3c2fc0b3c",
   "metadata": {},
   "source": [
    "### Chaining decorators"
   ]
  },
  {
   "cell_type": "code",
   "execution_count": 40,
   "id": "655ea153-d60b-4fe4-b4f2-c0f378f26960",
   "metadata": {
    "tags": []
   },
   "outputs": [],
   "source": [
    "# A function can be decorated by multiple different decorator functions\n",
    "def star_func(func):\n",
    "    def inner(*args, **kwargs):\n",
    "        print('*'*30)\n",
    "        func(*args,**kwargs)\n",
    "        print('*'*30)\n",
    "        \n",
    "    return inner\n",
    "\n",
    "def dollar_func(func):\n",
    "    def inner(*args,**kwargs):\n",
    "        print('$'*30)\n",
    "        print('\\n')\n",
    "        func(*args,**kwargs)\n",
    "        print('\\n')\n",
    "        print('$'*30)\n",
    "        \n",
    "    return inner"
   ]
  },
  {
   "cell_type": "code",
   "execution_count": 41,
   "id": "d4ddec1e-efc6-4398-821e-7adc519fcbf5",
   "metadata": {
    "tags": []
   },
   "outputs": [],
   "source": [
    "@star_func\n",
    "@dollar_func\n",
    "\n",
    "def message(msg):\n",
    "    print(msg)\n"
   ]
  },
  {
   "cell_type": "code",
   "execution_count": 42,
   "id": "d4de7f0a-dc02-4d22-913e-004966247062",
   "metadata": {
    "tags": []
   },
   "outputs": [
    {
     "name": "stdout",
     "output_type": "stream",
     "text": [
      "******************************\n",
      "$$$$$$$$$$$$$$$$$$$$$$$$$$$$$$\n",
      "\n",
      "\n",
      "I love money and stars\n",
      "\n",
      "\n",
      "$$$$$$$$$$$$$$$$$$$$$$$$$$$$$$\n",
      "******************************\n"
     ]
    }
   ],
   "source": [
    "message('I love money and stars')"
   ]
  },
  {
   "cell_type": "markdown",
   "id": "13f749b9-84e9-49f3-a77d-0887586bc3b9",
   "metadata": {},
   "source": [
    "# Scopes and stuff"
   ]
  },
  {
   "cell_type": "code",
   "execution_count": 61,
   "id": "31db0303-e67f-4527-8be8-eecd601f387f",
   "metadata": {
    "tags": []
   },
   "outputs": [],
   "source": [
    "st_example = 'StormWind Python'\n",
    "\n",
    "def print_pi():\n",
    "    example = 'Stormwind Python Intermediate'\n",
    "    return example"
   ]
  },
  {
   "cell_type": "code",
   "execution_count": 48,
   "id": "6595a016-f26c-434f-82ec-a899cd3025dc",
   "metadata": {
    "tags": []
   },
   "outputs": [
    {
     "name": "stdout",
     "output_type": "stream",
     "text": [
      "StormWind Python\n"
     ]
    }
   ],
   "source": [
    "print(st_example)"
   ]
  },
  {
   "cell_type": "code",
   "execution_count": 62,
   "id": "e87536fe-6d0b-4775-9380-41c25a279810",
   "metadata": {
    "tags": []
   },
   "outputs": [
    {
     "data": {
      "text/plain": [
       "'Stormwind Python Intermediate'"
      ]
     },
     "execution_count": 62,
     "metadata": {},
     "output_type": "execute_result"
    }
   ],
   "source": [
    "print_pi()"
   ]
  },
  {
   "cell_type": "code",
   "execution_count": 78,
   "id": "6f28c904-a307-4e56-b5d2-2473a90aa4f2",
   "metadata": {
    "tags": []
   },
   "outputs": [],
   "source": [
    "x = 'this is the global x'\n",
    "\n",
    "def out_func():\n",
    "    x = 'enclosing x'\n",
    "    \n",
    "    def in_func():\n",
    "        x = 'inner x'\n",
    "        print(x)\n",
    "    \n",
    "    print(x)\n",
    "    return in_func()"
   ]
  },
  {
   "cell_type": "code",
   "execution_count": 80,
   "id": "38bd833d-61b6-45c3-a11f-8efe1e873df8",
   "metadata": {
    "tags": []
   },
   "outputs": [
    {
     "name": "stdout",
     "output_type": "stream",
     "text": [
      "this is the global x\n",
      "enclosing x\n",
      "inner x\n"
     ]
    }
   ],
   "source": [
    "print(x)\n",
    "out_func()"
   ]
  },
  {
   "cell_type": "code",
   "execution_count": 82,
   "id": "bccbe46b-0a0e-4026-819b-4fcfa3da3218",
   "metadata": {
    "tags": []
   },
   "outputs": [
    {
     "ename": "NameError",
     "evalue": "name 'in_func' is not defined",
     "output_type": "error",
     "traceback": [
      "\u001b[0;31m---------------------------------------------------------------------------\u001b[0m",
      "\u001b[0;31mNameError\u001b[0m                                 Traceback (most recent call last)",
      "Cell \u001b[0;32mIn[82], line 1\u001b[0m\n\u001b[0;32m----> 1\u001b[0m in_func()\n",
      "\u001b[0;31mNameError\u001b[0m: name 'in_func' is not defined"
     ]
    }
   ],
   "source": [
    "in_func() #in_func wasn't defined in the global scope of the program"
   ]
  },
  {
   "cell_type": "code",
   "execution_count": 84,
   "id": "e0640f2e-8a64-4eb7-a33a-38345173bfe7",
   "metadata": {
    "tags": []
   },
   "outputs": [],
   "source": [
    "def square(base):\n",
    "    result = base**2\n",
    "    print(f'The square of {base} is: {result}')\n",
    "    return\n",
    "\n",
    "def cube(base):\n",
    "    result = base**3\n",
    "    print(f'The cube of {base} is: {result}')\n",
    "    return"
   ]
  },
  {
   "cell_type": "code",
   "execution_count": 86,
   "id": "760b3dfe-a9a2-4587-b459-e886f4fc6f78",
   "metadata": {
    "tags": []
   },
   "outputs": [
    {
     "data": {
      "text/plain": [
       "('base', 'result')"
      ]
     },
     "execution_count": 86,
     "metadata": {},
     "output_type": "execute_result"
    }
   ],
   "source": [
    "square.__code__.co_varnames\n",
    "cube.__code__.co_varnames #Syntax for finding local variables in a function"
   ]
  },
  {
   "cell_type": "code",
   "execution_count": 87,
   "id": "bb873bc2-6a6f-45fe-b6a3-20dda79862b9",
   "metadata": {
    "tags": []
   },
   "outputs": [],
   "source": [
    "def outer():\n",
    "    var = 100\n",
    "    def inner():\n",
    "        print(f'we are printing from inner: {var}')\n",
    "        \n",
    "    inner()\n",
    "    print(f'we are printing from outer: {var}')\n",
    "    return"
   ]
  },
  {
   "cell_type": "code",
   "execution_count": 88,
   "id": "34371a29-6c9e-4679-9db7-fb5f1847c921",
   "metadata": {
    "tags": []
   },
   "outputs": [
    {
     "name": "stdout",
     "output_type": "stream",
     "text": [
      "we are printing from inner: 100\n",
      "we are printing from outer: 100\n"
     ]
    }
   ],
   "source": [
    "outer() #You can see that the inner function can still \"see\" the variables enclosed \n",
    "        #in the outer scope (even though technically they're not in the same scope)"
   ]
  },
  {
   "cell_type": "code",
   "execution_count": 89,
   "id": "bf718197-24a6-44a1-b7cb-2b29d6630925",
   "metadata": {
    "tags": []
   },
   "outputs": [],
   "source": [
    "def outer():\n",
    "    \n",
    "    def inner():\n",
    "        var = 100\n",
    "        print(f'we are printing from inner: {var}')\n",
    "    inner()\n",
    "    print(f'we are printing from outer: {var}')\n",
    "    return"
   ]
  },
  {
   "cell_type": "code",
   "execution_count": 93,
   "id": "a04d0ca0-e596-4aa1-9e2d-722cdf082ec8",
   "metadata": {
    "tags": []
   },
   "outputs": [
    {
     "name": "stdout",
     "output_type": "stream",
     "text": [
      "we are printing from inner: 100\n"
     ]
    },
    {
     "ename": "NameError",
     "evalue": "name 'var' is not defined",
     "output_type": "error",
     "traceback": [
      "\u001b[0;31m---------------------------------------------------------------------------\u001b[0m",
      "\u001b[0;31mNameError\u001b[0m                                 Traceback (most recent call last)",
      "Cell \u001b[0;32mIn[93], line 1\u001b[0m\n\u001b[0;32m----> 1\u001b[0m outer()\n",
      "Cell \u001b[0;32mIn[89], line 7\u001b[0m, in \u001b[0;36mouter\u001b[0;34m()\u001b[0m\n\u001b[1;32m      5\u001b[0m     \u001b[38;5;28mprint\u001b[39m(\u001b[38;5;124mf\u001b[39m\u001b[38;5;124m'\u001b[39m\u001b[38;5;124mwe are printing from inner: \u001b[39m\u001b[38;5;132;01m{\u001b[39;00mvar\u001b[38;5;132;01m}\u001b[39;00m\u001b[38;5;124m'\u001b[39m)\n\u001b[1;32m      6\u001b[0m inner()\n\u001b[0;32m----> 7\u001b[0m \u001b[38;5;28mprint\u001b[39m(\u001b[38;5;124mf\u001b[39m\u001b[38;5;124m'\u001b[39m\u001b[38;5;124mwe are printing from outer: \u001b[39m\u001b[38;5;132;01m{\u001b[39;00mvar\u001b[38;5;132;01m}\u001b[39;00m\u001b[38;5;124m'\u001b[39m)\n\u001b[1;32m      8\u001b[0m \u001b[38;5;28;01mreturn\u001b[39;00m\n",
      "\u001b[0;31mNameError\u001b[0m: name 'var' is not defined"
     ]
    }
   ],
   "source": [
    "outer() #However, outer function can't recognize variables in the inner function"
   ]
  },
  {
   "cell_type": "code",
   "execution_count": 94,
   "id": "2da2d594-0349-4e4e-9694-8e91c48a4cc5",
   "metadata": {
    "tags": []
   },
   "outputs": [],
   "source": [
    "base = 3\n",
    "\n",
    "def cube():\n",
    "    result = base**3\n",
    "    print(f'The cube of {base} is: {result}')\n",
    "    return"
   ]
  },
  {
   "cell_type": "code",
   "execution_count": 96,
   "id": "306c580d-ef6d-4f0b-bbc9-3c1d5cde2b44",
   "metadata": {
    "tags": []
   },
   "outputs": [
    {
     "name": "stdout",
     "output_type": "stream",
     "text": [
      "The cube of 3 is: 27\n"
     ]
    }
   ],
   "source": [
    "cube()"
   ]
  },
  {
   "cell_type": "code",
   "execution_count": 97,
   "id": "0aabcf68-4ed3-414d-aca1-0eafd572e3ef",
   "metadata": {
    "tags": []
   },
   "outputs": [
    {
     "ename": "TypeError",
     "evalue": "cube() takes 0 positional arguments but 1 was given",
     "output_type": "error",
     "traceback": [
      "\u001b[0;31m---------------------------------------------------------------------------\u001b[0m",
      "\u001b[0;31mTypeError\u001b[0m                                 Traceback (most recent call last)",
      "Cell \u001b[0;32mIn[97], line 1\u001b[0m\n\u001b[0;32m----> 1\u001b[0m cube(\u001b[38;5;241m4\u001b[39m)\n",
      "\u001b[0;31mTypeError\u001b[0m: cube() takes 0 positional arguments but 1 was given"
     ]
    }
   ],
   "source": [
    "cube(4)"
   ]
  },
  {
   "cell_type": "code",
   "execution_count": 98,
   "id": "bf3eb15d-c26d-491a-8d65-6a2a0cb19be3",
   "metadata": {
    "tags": []
   },
   "outputs": [],
   "source": [
    "def cube(base = 3):\n",
    "    result = base**3\n",
    "    print(f'The cube of {base} is: {result}')\n",
    "    return"
   ]
  },
  {
   "cell_type": "code",
   "execution_count": 101,
   "id": "a560bc31-f942-4f9f-b84b-856421fcbd81",
   "metadata": {
    "tags": []
   },
   "outputs": [
    {
     "name": "stdout",
     "output_type": "stream",
     "text": [
      "The cube of 3 is: 27\n",
      "The cube of 4 is: 64\n"
     ]
    }
   ],
   "source": [
    "cube()\n",
    "cube(4)"
   ]
  },
  {
   "cell_type": "markdown",
   "id": "0bdb643d-3f40-4533-8321-2ba8b3638849",
   "metadata": {},
   "source": [
    "## Global Scope (Module scope)"
   ]
  },
  {
   "cell_type": "code",
   "execution_count": 117,
   "id": "8c9da7a9-8eba-40e3-abf2-33b7c4e01228",
   "metadata": {
    "tags": []
   },
   "outputs": [],
   "source": [
    "var = 1\n",
    "\n",
    "def func():\n",
    "    print(var)\n",
    "    #var = var + 1\n",
    "    print(var)\n",
    "    "
   ]
  },
  {
   "cell_type": "code",
   "execution_count": 121,
   "id": "583c4263-c75e-4655-820b-5f77082a63b7",
   "metadata": {
    "tags": []
   },
   "outputs": [
    {
     "name": "stdout",
     "output_type": "stream",
     "text": [
      "1\n",
      "1\n"
     ]
    }
   ],
   "source": [
    "func() #when var isn't reassigned or assigned a value, the function uses the value found in the global scope"
   ]
  },
  {
   "cell_type": "code",
   "execution_count": 149,
   "id": "e08ad655-fa39-4602-88bb-8fb4d53d67c4",
   "metadata": {
    "tags": []
   },
   "outputs": [],
   "source": [
    "def func2():\n",
    "    print(var)\n",
    "    var = var + 1"
   ]
  },
  {
   "cell_type": "code",
   "execution_count": 148,
   "id": "d21cb488-4356-42d7-a749-817e58221144",
   "metadata": {
    "tags": []
   },
   "outputs": [
    {
     "ename": "UnboundLocalError",
     "evalue": "cannot access local variable 'var' where it is not associated with a value",
     "output_type": "error",
     "traceback": [
      "\u001b[0;31m---------------------------------------------------------------------------\u001b[0m",
      "\u001b[0;31mUnboundLocalError\u001b[0m                         Traceback (most recent call last)",
      "Cell \u001b[0;32mIn[148], line 1\u001b[0m\n\u001b[0;32m----> 1\u001b[0m func2()\n",
      "Cell \u001b[0;32mIn[119], line 2\u001b[0m, in \u001b[0;36mfunc2\u001b[0;34m()\u001b[0m\n\u001b[1;32m      1\u001b[0m \u001b[38;5;28;01mdef\u001b[39;00m \u001b[38;5;21mfunc2\u001b[39m():\n\u001b[0;32m----> 2\u001b[0m     \u001b[38;5;28mprint\u001b[39m(var)\n\u001b[1;32m      3\u001b[0m     var \u001b[38;5;241m=\u001b[39m var \u001b[38;5;241m+\u001b[39m \u001b[38;5;241m1\u001b[39m\n",
      "\u001b[0;31mUnboundLocalError\u001b[0m: cannot access local variable 'var' where it is not associated with a value"
     ]
    }
   ],
   "source": [
    "func2() #However, once var is reassigned or assigned a value, the function only looks at variables in the local scope, and so doesn't work in this case"
   ]
  },
  {
   "cell_type": "code",
   "execution_count": 150,
   "id": "adc539d1-6b6c-441b-a23f-71ef133e6931",
   "metadata": {
    "tags": []
   },
   "outputs": [
    {
     "name": "stdout",
     "output_type": "stream",
     "text": [
      "11\n"
     ]
    }
   ],
   "source": [
    "def func3():\n",
    "    var = 10\n",
    "    var += 1\n",
    "    print(var)\n",
    "    return\n",
    "\n",
    "func3()"
   ]
  },
  {
   "cell_type": "markdown",
   "id": "84e5d259-507a-4694-8eae-4e02013d8df2",
   "metadata": {},
   "source": [
    "## LEGB Rule"
   ]
  },
  {
   "cell_type": "code",
   "execution_count": 154,
   "id": "b57ed734-5214-43a6-95f4-4094d8abdda5",
   "metadata": {
    "tags": []
   },
   "outputs": [],
   "source": [
    "num = 100 #Global scope\n",
    "\n",
    "def outer():\n",
    "    '''This is the local scope of outer'''\n",
    "    '''This is also the enclosing scope of inner'''\n",
    "    \n",
    "    def inner():\n",
    "        '''Local scope of inner'''\n",
    "        \n",
    "        print(num)\n",
    "        \n",
    "    return inner()"
   ]
  },
  {
   "cell_type": "markdown",
   "id": "5f0baa0c-f6ab-4722-abd3-ca028b1549d5",
   "metadata": {},
   "source": [
    "Python first looks at local scope, then enclosing scope, then global scope and then built in scope and uses the first instance of the variable that it finds"
   ]
  },
  {
   "cell_type": "code",
   "execution_count": 153,
   "id": "77a3d974-45fb-4203-b483-fce2e8c2eeb2",
   "metadata": {
    "tags": []
   },
   "outputs": [
    {
     "name": "stdout",
     "output_type": "stream",
     "text": [
      "100\n"
     ]
    }
   ],
   "source": [
    "outer()"
   ]
  },
  {
   "cell_type": "markdown",
   "id": "e81e094c-3220-4d3f-8542-907be3970baa",
   "metadata": {},
   "source": [
    "### Builtin Scope"
   ]
  },
  {
   "cell_type": "code",
   "execution_count": 155,
   "id": "27b57d22-b672-4cb8-88f5-331be538eed5",
   "metadata": {
    "tags": []
   },
   "outputs": [
    {
     "data": {
      "text/plain": [
       "['ArithmeticError',\n",
       " 'AssertionError',\n",
       " 'AttributeError',\n",
       " 'BaseException',\n",
       " 'BaseExceptionGroup',\n",
       " 'BlockingIOError',\n",
       " 'BrokenPipeError',\n",
       " 'BufferError',\n",
       " 'BytesWarning',\n",
       " 'ChildProcessError',\n",
       " 'ConnectionAbortedError',\n",
       " 'ConnectionError',\n",
       " 'ConnectionRefusedError',\n",
       " 'ConnectionResetError',\n",
       " 'DeprecationWarning',\n",
       " 'EOFError',\n",
       " 'Ellipsis',\n",
       " 'EncodingWarning',\n",
       " 'EnvironmentError',\n",
       " 'Exception',\n",
       " 'ExceptionGroup',\n",
       " 'False',\n",
       " 'FileExistsError',\n",
       " 'FileNotFoundError',\n",
       " 'FloatingPointError',\n",
       " 'FutureWarning',\n",
       " 'GeneratorExit',\n",
       " 'IOError',\n",
       " 'ImportError',\n",
       " 'ImportWarning',\n",
       " 'IndentationError',\n",
       " 'IndexError',\n",
       " 'InterruptedError',\n",
       " 'IsADirectoryError',\n",
       " 'KeyError',\n",
       " 'KeyboardInterrupt',\n",
       " 'LookupError',\n",
       " 'MemoryError',\n",
       " 'ModuleNotFoundError',\n",
       " 'NameError',\n",
       " 'None',\n",
       " 'NotADirectoryError',\n",
       " 'NotImplemented',\n",
       " 'NotImplementedError',\n",
       " 'OSError',\n",
       " 'OverflowError',\n",
       " 'PendingDeprecationWarning',\n",
       " 'PermissionError',\n",
       " 'ProcessLookupError',\n",
       " 'RecursionError',\n",
       " 'ReferenceError',\n",
       " 'ResourceWarning',\n",
       " 'RuntimeError',\n",
       " 'RuntimeWarning',\n",
       " 'StopAsyncIteration',\n",
       " 'StopIteration',\n",
       " 'SyntaxError',\n",
       " 'SyntaxWarning',\n",
       " 'SystemError',\n",
       " 'SystemExit',\n",
       " 'TabError',\n",
       " 'TimeoutError',\n",
       " 'True',\n",
       " 'TypeError',\n",
       " 'UnboundLocalError',\n",
       " 'UnicodeDecodeError',\n",
       " 'UnicodeEncodeError',\n",
       " 'UnicodeError',\n",
       " 'UnicodeTranslateError',\n",
       " 'UnicodeWarning',\n",
       " 'UserWarning',\n",
       " 'ValueError',\n",
       " 'Warning',\n",
       " 'ZeroDivisionError',\n",
       " '__IPYTHON__',\n",
       " '__build_class__',\n",
       " '__debug__',\n",
       " '__doc__',\n",
       " '__import__',\n",
       " '__loader__',\n",
       " '__name__',\n",
       " '__package__',\n",
       " '__spec__',\n",
       " 'abs',\n",
       " 'aiter',\n",
       " 'all',\n",
       " 'anext',\n",
       " 'any',\n",
       " 'ascii',\n",
       " 'bin',\n",
       " 'bool',\n",
       " 'breakpoint',\n",
       " 'bytearray',\n",
       " 'bytes',\n",
       " 'callable',\n",
       " 'chr',\n",
       " 'classmethod',\n",
       " 'compile',\n",
       " 'complex',\n",
       " 'copyright',\n",
       " 'credits',\n",
       " 'delattr',\n",
       " 'dict',\n",
       " 'dir',\n",
       " 'display',\n",
       " 'divmod',\n",
       " 'enumerate',\n",
       " 'eval',\n",
       " 'exec',\n",
       " 'execfile',\n",
       " 'filter',\n",
       " 'float',\n",
       " 'format',\n",
       " 'frozenset',\n",
       " 'get_ipython',\n",
       " 'getattr',\n",
       " 'globals',\n",
       " 'hasattr',\n",
       " 'hash',\n",
       " 'help',\n",
       " 'hex',\n",
       " 'id',\n",
       " 'input',\n",
       " 'int',\n",
       " 'isinstance',\n",
       " 'issubclass',\n",
       " 'iter',\n",
       " 'len',\n",
       " 'license',\n",
       " 'list',\n",
       " 'locals',\n",
       " 'map',\n",
       " 'max',\n",
       " 'memoryview',\n",
       " 'min',\n",
       " 'next',\n",
       " 'object',\n",
       " 'oct',\n",
       " 'open',\n",
       " 'ord',\n",
       " 'pow',\n",
       " 'print',\n",
       " 'property',\n",
       " 'range',\n",
       " 'repr',\n",
       " 'reversed',\n",
       " 'round',\n",
       " 'runfile',\n",
       " 'set',\n",
       " 'setattr',\n",
       " 'slice',\n",
       " 'sorted',\n",
       " 'staticmethod',\n",
       " 'str',\n",
       " 'sum',\n",
       " 'super',\n",
       " 'tuple',\n",
       " 'type',\n",
       " 'vars',\n",
       " 'zip']"
      ]
     },
     "execution_count": 155,
     "metadata": {},
     "output_type": "execute_result"
    }
   ],
   "source": [
    "dir(__builtins__)"
   ]
  },
  {
   "cell_type": "code",
   "execution_count": 156,
   "id": "6f857c32-bc5d-4c2b-a091-59f4b07c48b1",
   "metadata": {
    "tags": []
   },
   "outputs": [
    {
     "data": {
      "text/plain": [
       "15"
      ]
     },
     "execution_count": 156,
     "metadata": {},
     "output_type": "execute_result"
    }
   ],
   "source": [
    "sum([1,2,3,4,5])"
   ]
  },
  {
   "cell_type": "code",
   "execution_count": 157,
   "id": "6d438ebd-c809-4db2-8974-5e1bfb9b7301",
   "metadata": {
    "tags": []
   },
   "outputs": [
    {
     "data": {
      "text/plain": [
       "15"
      ]
     },
     "execution_count": 157,
     "metadata": {},
     "output_type": "execute_result"
    }
   ],
   "source": [
    "import builtins\n",
    "\n",
    "builtins.sum([1,2,3,4,5])"
   ]
  },
  {
   "cell_type": "markdown",
   "id": "e38400ed-4bf6-4781-ae92-833f030367e1",
   "metadata": {},
   "source": [
    "### Overriding builtins"
   ]
  },
  {
   "cell_type": "code",
   "execution_count": 165,
   "id": "3db30129-05bb-4d07-96a1-b34a30ac6a58",
   "metadata": {
    "tags": []
   },
   "outputs": [
    {
     "data": {
      "text/plain": [
       "100"
      ]
     },
     "execution_count": 165,
     "metadata": {},
     "output_type": "execute_result"
    }
   ],
   "source": [
    "abs(-100)"
   ]
  },
  {
   "cell_type": "code",
   "execution_count": 166,
   "id": "a3b254ef-5e35-4d84-86d5-9624e9d3d62e",
   "metadata": {
    "tags": []
   },
   "outputs": [],
   "source": [
    "abs = 100"
   ]
  },
  {
   "cell_type": "code",
   "execution_count": 167,
   "id": "98bbea1b-4382-4cd1-8bac-64a723ea2ab3",
   "metadata": {
    "tags": []
   },
   "outputs": [
    {
     "ename": "TypeError",
     "evalue": "'int' object is not callable",
     "output_type": "error",
     "traceback": [
      "\u001b[0;31m---------------------------------------------------------------------------\u001b[0m",
      "\u001b[0;31mTypeError\u001b[0m                                 Traceback (most recent call last)",
      "Cell \u001b[0;32mIn[167], line 1\u001b[0m\n\u001b[0;32m----> 1\u001b[0m \u001b[38;5;28mabs\u001b[39m(\u001b[38;5;241m-\u001b[39m\u001b[38;5;241m100\u001b[39m)\n",
      "\u001b[0;31mTypeError\u001b[0m: 'int' object is not callable"
     ]
    }
   ],
   "source": [
    "abs(-100)"
   ]
  },
  {
   "cell_type": "code",
   "execution_count": 168,
   "id": "ba46af29-5a29-4711-a142-cdf667ad6fd3",
   "metadata": {
    "tags": []
   },
   "outputs": [
    {
     "data": {
      "text/plain": [
       "100"
      ]
     },
     "execution_count": 168,
     "metadata": {},
     "output_type": "execute_result"
    }
   ],
   "source": [
    "abs"
   ]
  },
  {
   "cell_type": "code",
   "execution_count": 169,
   "id": "3ffc93c3-06c8-44a3-851d-32a14766e831",
   "metadata": {
    "tags": []
   },
   "outputs": [],
   "source": [
    "abs = builtins.abs"
   ]
  },
  {
   "cell_type": "code",
   "execution_count": 170,
   "id": "a7104c5f-f073-4647-91d4-65057f68dd04",
   "metadata": {
    "tags": []
   },
   "outputs": [
    {
     "data": {
      "text/plain": [
       "100"
      ]
     },
     "execution_count": 170,
     "metadata": {},
     "output_type": "execute_result"
    }
   ],
   "source": [
    "abs(-100)"
   ]
  },
  {
   "cell_type": "markdown",
   "id": "36899076-4ead-40f7-b3a3-e0fc2cf2402f",
   "metadata": {},
   "source": [
    "### Modifying the behavior of a python scope"
   ]
  },
  {
   "cell_type": "code",
   "execution_count": 171,
   "id": "93866650-3540-4e5b-9593-1d8b10157478",
   "metadata": {
    "tags": []
   },
   "outputs": [],
   "source": [
    "counter = 0\n",
    "\n",
    "def increment_counter():\n",
    "    counter = counter + 1"
   ]
  },
  {
   "cell_type": "code",
   "execution_count": 172,
   "id": "2f8f6a2b-0adc-49b5-bdcc-1755d0fd605f",
   "metadata": {
    "tags": []
   },
   "outputs": [
    {
     "ename": "UnboundLocalError",
     "evalue": "cannot access local variable 'counter' where it is not associated with a value",
     "output_type": "error",
     "traceback": [
      "\u001b[0;31m---------------------------------------------------------------------------\u001b[0m",
      "\u001b[0;31mUnboundLocalError\u001b[0m                         Traceback (most recent call last)",
      "Cell \u001b[0;32mIn[172], line 1\u001b[0m\n\u001b[0;32m----> 1\u001b[0m increment_counter()\n",
      "Cell \u001b[0;32mIn[171], line 4\u001b[0m, in \u001b[0;36mincrement_counter\u001b[0;34m()\u001b[0m\n\u001b[1;32m      3\u001b[0m \u001b[38;5;28;01mdef\u001b[39;00m \u001b[38;5;21mincrement_counter\u001b[39m():\n\u001b[0;32m----> 4\u001b[0m     counter \u001b[38;5;241m=\u001b[39m counter \u001b[38;5;241m+\u001b[39m \u001b[38;5;241m1\u001b[39m\n",
      "\u001b[0;31mUnboundLocalError\u001b[0m: cannot access local variable 'counter' where it is not associated with a value"
     ]
    }
   ],
   "source": [
    "increment_counter()"
   ]
  },
  {
   "cell_type": "code",
   "execution_count": 178,
   "id": "d07c2e5a-6e55-469b-90f8-8d7c251d7991",
   "metadata": {
    "tags": []
   },
   "outputs": [],
   "source": [
    "def increment_counter():\n",
    "    global counter      #This brings the global counter variable into the function\n",
    "    counter = counter + 1\n",
    "    print(counter)"
   ]
  },
  {
   "cell_type": "code",
   "execution_count": 180,
   "id": "24dbecd1-9d45-4692-a20c-3ae806f28c52",
   "metadata": {
    "tags": []
   },
   "outputs": [
    {
     "name": "stdout",
     "output_type": "stream",
     "text": [
      "5\n"
     ]
    },
    {
     "data": {
      "text/plain": [
       "5"
      ]
     },
     "execution_count": 180,
     "metadata": {},
     "output_type": "execute_result"
    }
   ],
   "source": [
    "increment_counter()\n",
    "counter"
   ]
  },
  {
   "cell_type": "code",
   "execution_count": 201,
   "id": "e804ee7c-d126-402e-acf0-d6ba6737cee3",
   "metadata": {
    "tags": []
   },
   "outputs": [],
   "source": [
    "global_counter = 0\n",
    "\n",
    "def increment_global_counter(counter):\n",
    "    return counter + 1"
   ]
  },
  {
   "cell_type": "code",
   "execution_count": 202,
   "id": "5a6b08f8-8443-4c89-b482-56f3a16e671e",
   "metadata": {
    "tags": []
   },
   "outputs": [
    {
     "data": {
      "text/plain": [
       "1"
      ]
     },
     "execution_count": 202,
     "metadata": {},
     "output_type": "execute_result"
    }
   ],
   "source": [
    "global_counter = increment_global_counter(global_counter)\n",
    "global_counter"
   ]
  },
  {
   "cell_type": "code",
   "execution_count": 203,
   "id": "0f26e4a3-181f-4f98-9ee8-3fc4f6381c11",
   "metadata": {
    "tags": []
   },
   "outputs": [],
   "source": [
    "def global_var_creation():\n",
    "    global new_var\n",
    "    new_var = \"I was just created inside of a function!\"\n",
    "    return new_var\n"
   ]
  },
  {
   "cell_type": "code",
   "execution_count": 206,
   "id": "164b38b2-cdcb-45e9-97d5-887468b34ab3",
   "metadata": {
    "tags": []
   },
   "outputs": [
    {
     "data": {
      "text/plain": [
       "'I was just created inside of a function!'"
      ]
     },
     "execution_count": 206,
     "metadata": {},
     "output_type": "execute_result"
    }
   ],
   "source": [
    "global_var_creation()"
   ]
  },
  {
   "cell_type": "code",
   "execution_count": 207,
   "id": "5ab544b9-f830-4c22-b2c6-8c8f28a1359a",
   "metadata": {
    "tags": []
   },
   "outputs": [
    {
     "data": {
      "text/plain": [
       "'I was just created inside of a function!'"
      ]
     },
     "execution_count": 207,
     "metadata": {},
     "output_type": "execute_result"
    }
   ],
   "source": [
    "new_var"
   ]
  },
  {
   "cell_type": "markdown",
   "id": "674012c2-bd1c-4cfb-b991-7e0b76c41664",
   "metadata": {},
   "source": [
    "### \"Nonlocal\" Keyword"
   ]
  },
  {
   "cell_type": "code",
   "execution_count": 236,
   "id": "6a201c6a-7828-420a-be0d-c1da57fdc57f",
   "metadata": {
    "tags": []
   },
   "outputs": [],
   "source": [
    "var2 = 200\n",
    "def my_function():\n",
    "    my_var = 100\n",
    "    var2 = 3\n",
    "    def nested():\n",
    "        nonlocal my_var\n",
    "        my_var += 100\n",
    "        print(my_var)\n",
    "        print(var2)\n",
    "        \n",
    "    nested()\n",
    "    print(my_var)"
   ]
  },
  {
   "cell_type": "code",
   "execution_count": 237,
   "id": "72c3c595-5f5d-4724-bcd3-da64b33f933b",
   "metadata": {
    "tags": []
   },
   "outputs": [
    {
     "name": "stdout",
     "output_type": "stream",
     "text": [
      "200\n",
      "3\n",
      "200\n"
     ]
    }
   ],
   "source": [
    "my_function()"
   ]
  },
  {
   "cell_type": "code",
   "execution_count": 241,
   "id": "f5ba7e43-722e-4d74-99ea-c1fa611e5c2a",
   "metadata": {
    "tags": []
   },
   "outputs": [
    {
     "ename": "NameError",
     "evalue": "name 'my_var' is not defined",
     "output_type": "error",
     "traceback": [
      "\u001b[0;31m---------------------------------------------------------------------------\u001b[0m",
      "\u001b[0;31mNameError\u001b[0m                                 Traceback (most recent call last)",
      "Cell \u001b[0;32mIn[241], line 1\u001b[0m\n\u001b[0;32m----> 1\u001b[0m my_var\n",
      "\u001b[0;31mNameError\u001b[0m: name 'my_var' is not defined"
     ]
    }
   ],
   "source": [
    "my_var #Doesn't work because it wasn't created globally, it was only created \"nonlocally\""
   ]
  },
  {
   "cell_type": "code",
   "execution_count": 240,
   "id": "3599d6e9-0009-4d46-bef6-8401fad347c2",
   "metadata": {
    "tags": []
   },
   "outputs": [
    {
     "ename": "SyntaxError",
     "evalue": "nonlocal declaration not allowed at module level (1611848725.py, line 1)",
     "output_type": "error",
     "traceback": [
      "\u001b[0;36m  Cell \u001b[0;32mIn[240], line 1\u001b[0;36m\u001b[0m\n\u001b[0;31m    nonlocal my_var #can only use nonlocal within a function\u001b[0m\n\u001b[0m    ^\u001b[0m\n\u001b[0;31mSyntaxError\u001b[0m\u001b[0;31m:\u001b[0m nonlocal declaration not allowed at module level\n"
     ]
    }
   ],
   "source": [
    "nonlocal my_var #can only use nonlocal within a function"
   ]
  },
  {
   "cell_type": "code",
   "execution_count": 242,
   "id": "e1953f4d-15d4-49f5-b164-06dd648457b9",
   "metadata": {
    "tags": []
   },
   "outputs": [
    {
     "ename": "SyntaxError",
     "evalue": "no binding for nonlocal 'var' found (2083682007.py, line 2)",
     "output_type": "error",
     "traceback": [
      "\u001b[0;36m  Cell \u001b[0;32mIn[242], line 2\u001b[0;36m\u001b[0m\n\u001b[0;31m    nonlocal var\u001b[0m\n\u001b[0m    ^\u001b[0m\n\u001b[0;31mSyntaxError\u001b[0m\u001b[0;31m:\u001b[0m no binding for nonlocal 'var' found\n"
     ]
    }
   ],
   "source": [
    "def a_func():\n",
    "    nonlocal var #Can't use it in the local scope either, can only use it when nesting functions\n",
    "    print(var)"
   ]
  },
  {
   "cell_type": "code",
   "execution_count": 243,
   "id": "a6c7ab8b-3e21-48b5-a48b-3480dc50799d",
   "metadata": {
    "tags": []
   },
   "outputs": [
    {
     "ename": "SyntaxError",
     "evalue": "no binding for nonlocal 'my_var' found (3409949774.py, line 4)",
     "output_type": "error",
     "traceback": [
      "\u001b[0;36m  Cell \u001b[0;32mIn[243], line 4\u001b[0;36m\u001b[0m\n\u001b[0;31m    nonlocal my_var\u001b[0m\n\u001b[0m    ^\u001b[0m\n\u001b[0;31mSyntaxError\u001b[0m\u001b[0;31m:\u001b[0m no binding for nonlocal 'my_var' found\n"
     ]
    }
   ],
   "source": [
    "def b_func():\n",
    "    \n",
    "    def nested():\n",
    "        nonlocal my_var #my_var already needs to be defined in the enclosing scope before it can be reference with nonlocal\n",
    "        my_var = 10\n",
    "        "
   ]
  },
  {
   "cell_type": "markdown",
   "id": "b92a2a89-898d-47d4-a398-ac408b85b3d2",
   "metadata": {},
   "source": [
    "### Passing a function in an argument"
   ]
  },
  {
   "cell_type": "code",
   "execution_count": 2,
   "id": "b25f55e6-8dbc-404b-974c-b0e36bfab0a1",
   "metadata": {
    "tags": []
   },
   "outputs": [],
   "source": [
    "def all_caps(text):\n",
    "    return text.upper()\n",
    "\n",
    "def speak(function):\n",
    "    greeting = function(\"Hello, how are you?\")\n",
    "    return greeting"
   ]
  },
  {
   "cell_type": "code",
   "execution_count": 3,
   "id": "dbba50f8-3898-4d0d-99c7-780a35ecac9d",
   "metadata": {
    "tags": []
   },
   "outputs": [
    {
     "data": {
      "text/plain": [
       "'HELLO, HOW ARE YOU?'"
      ]
     },
     "execution_count": 3,
     "metadata": {},
     "output_type": "execute_result"
    }
   ],
   "source": [
    "speak(all_caps)"
   ]
  },
  {
   "cell_type": "markdown",
   "id": "a425589e-c063-4ab4-a9cf-65a561b73946",
   "metadata": {},
   "source": [
    "### Higher order function"
   ]
  },
  {
   "cell_type": "code",
   "execution_count": 6,
   "id": "5df772bb-3ba8-46f5-9253-23da204849a7",
   "metadata": {
    "tags": []
   },
   "outputs": [
    {
     "data": {
      "text/plain": [
       "[0, 1, 4, 9, 16]"
      ]
     },
     "execution_count": 6,
     "metadata": {},
     "output_type": "execute_result"
    }
   ],
   "source": [
    "#map: applies a function to each member of a collection\n",
    "def square(x):\n",
    "    return x**2"
   ]
  },
  {
   "cell_type": "code",
   "execution_count": 7,
   "id": "eae913cb-901d-4183-9abe-de7a70db5fe3",
   "metadata": {
    "tags": []
   },
   "outputs": [
    {
     "data": {
      "text/plain": [
       "<map at 0x1068413f0>"
      ]
     },
     "execution_count": 7,
     "metadata": {},
     "output_type": "execute_result"
    }
   ],
   "source": [
    "map(square, [i for i in range(5)])# have to unpack the map object too"
   ]
  },
  {
   "cell_type": "code",
   "execution_count": 8,
   "id": "1b02f1b2-4dba-4db6-a081-490e00662342",
   "metadata": {
    "tags": []
   },
   "outputs": [
    {
     "data": {
      "text/plain": [
       "[0, 1, 4, 9, 16]"
      ]
     },
     "execution_count": 8,
     "metadata": {},
     "output_type": "execute_result"
    }
   ],
   "source": [
    "[i for i in map(square, [i for i in range(5)])]"
   ]
  },
  {
   "cell_type": "code",
   "execution_count": 9,
   "id": "febbb102-e658-4c78-89ed-ee06add7c389",
   "metadata": {
    "tags": []
   },
   "outputs": [],
   "source": [
    "#filter: applies a predicate to each member of a collection, it retains only members where the predicate is true\n",
    "\n",
    "def is_even(x):\n",
    "    return x%2 == 0"
   ]
  },
  {
   "cell_type": "code",
   "execution_count": 10,
   "id": "0368e456-b0f9-4a31-96b3-27fd49e27625",
   "metadata": {
    "tags": []
   },
   "outputs": [
    {
     "data": {
      "text/plain": [
       "False"
      ]
     },
     "execution_count": 10,
     "metadata": {},
     "output_type": "execute_result"
    }
   ],
   "source": [
    "is_even(29)"
   ]
  },
  {
   "cell_type": "code",
   "execution_count": 11,
   "id": "dde7d725-7eab-40c2-b505-fe042730e01c",
   "metadata": {
    "tags": []
   },
   "outputs": [
    {
     "data": {
      "text/plain": [
       "<filter at 0x106841420>"
      ]
     },
     "execution_count": 11,
     "metadata": {},
     "output_type": "execute_result"
    }
   ],
   "source": [
    "filter(is_even, range(10))"
   ]
  },
  {
   "cell_type": "code",
   "execution_count": 14,
   "id": "1deb7f4f-e6fa-4cfd-84ca-04f5e4d3e43d",
   "metadata": {
    "tags": []
   },
   "outputs": [
    {
     "data": {
      "text/plain": [
       "[0, 2, 4, 6, 8]"
      ]
     },
     "execution_count": 14,
     "metadata": {},
     "output_type": "execute_result"
    }
   ],
   "source": [
    "[i for i in filter(is_even, range(10))]"
   ]
  },
  {
   "cell_type": "code",
   "execution_count": 15,
   "id": "631e8886-4403-4020-a492-07761a2cbfc5",
   "metadata": {
    "tags": []
   },
   "outputs": [
    {
     "data": {
      "text/plain": [
       "[0, 2, 4, 6, 8]"
      ]
     },
     "execution_count": 15,
     "metadata": {},
     "output_type": "execute_result"
    }
   ],
   "source": [
    "[i for i in filter(is_even, [i for i in range(10)])]"
   ]
  },
  {
   "cell_type": "code",
   "execution_count": 16,
   "id": "1d30d6a6-d862-4398-aafc-b84612e3df7f",
   "metadata": {
    "tags": []
   },
   "outputs": [
    {
     "data": {
      "text/plain": [
       "[0, 4, 16, 36, 64]"
      ]
     },
     "execution_count": 16,
     "metadata": {},
     "output_type": "execute_result"
    }
   ],
   "source": [
    "[i for i in map(square, [i for i in filter(is_even, range(10))])]"
   ]
  },
  {
   "cell_type": "code",
   "execution_count": 17,
   "id": "e724ed34-5068-4c88-b3a4-91dbb70659ab",
   "metadata": {
    "tags": []
   },
   "outputs": [],
   "source": [
    "# Custom Higher order function\n",
    "def custom_sum(my_list, function):\n",
    "    return sum(map(function, my_list))"
   ]
  },
  {
   "cell_type": "code",
   "execution_count": 18,
   "id": "e0474b12-aeb3-4dde-896a-e77c411cc46e",
   "metadata": {
    "tags": []
   },
   "outputs": [
    {
     "data": {
      "text/plain": [
       "2470"
      ]
     },
     "execution_count": 18,
     "metadata": {},
     "output_type": "execute_result"
    }
   ],
   "source": [
    "custom_sum(range(20),square)"
   ]
  },
  {
   "cell_type": "markdown",
   "id": "9dcc7fe9-e829-4f39-bacd-f473e7ee8c71",
   "metadata": {},
   "source": [
    "### Anonymous function (lambda functions)"
   ]
  },
  {
   "cell_type": "code",
   "execution_count": 21,
   "id": "6ea57c90-0414-4df9-8a79-543e7dedea32",
   "metadata": {
    "tags": []
   },
   "outputs": [
    {
     "data": {
      "text/plain": [
       "25"
      ]
     },
     "execution_count": 21,
     "metadata": {},
     "output_type": "execute_result"
    }
   ],
   "source": [
    "square = lambda x: x**2"
   ]
  },
  {
   "cell_type": "code",
   "execution_count": 22,
   "id": "ba24f88b-b440-4c36-b5bf-554256573477",
   "metadata": {
    "tags": []
   },
   "outputs": [
    {
     "data": {
      "text/plain": [
       "[0, 1, 4, 9, 16]"
      ]
     },
     "execution_count": 22,
     "metadata": {},
     "output_type": "execute_result"
    }
   ],
   "source": [
    "[i for i in map(square, [i for i in range(5)])]"
   ]
  },
  {
   "cell_type": "code",
   "execution_count": 24,
   "id": "dc3e5143-13ef-48a4-9bbf-ed123802494c",
   "metadata": {
    "tags": []
   },
   "outputs": [
    {
     "data": {
      "text/plain": [
       "[0, 1, 4, 9, 16]"
      ]
     },
     "execution_count": 24,
     "metadata": {},
     "output_type": "execute_result"
    }
   ],
   "source": [
    "[i for i in map(lambda x: x**2, range(5))]"
   ]
  },
  {
   "cell_type": "code",
   "execution_count": null,
   "id": "38fb3ab3-08ad-4828-86f9-60c997365e21",
   "metadata": {},
   "outputs": [],
   "source": [
    "#reduce: "
   ]
  },
  {
   "cell_type": "code",
   "execution_count": 25,
   "id": "e9e59200-40bc-4c80-9979-3ae47a70ff48",
   "metadata": {
    "tags": []
   },
   "outputs": [],
   "source": [
    "from functools import reduce"
   ]
  },
  {
   "cell_type": "code",
   "execution_count": 27,
   "id": "cc62f544-f652-445a-b90c-e234a7c8434a",
   "metadata": {
    "tags": []
   },
   "outputs": [
    {
     "data": {
      "text/plain": [
       "[1, 2, 3, 4, 5, 6, 7, 8, 9]"
      ]
     },
     "execution_count": 27,
     "metadata": {},
     "output_type": "execute_result"
    }
   ],
   "source": [
    "a_list = [i for i in range(1,10)]\n",
    "a_list"
   ]
  },
  {
   "cell_type": "code",
   "execution_count": 29,
   "id": "085d157d-236a-4035-a8b0-1f647aac31f0",
   "metadata": {
    "tags": []
   },
   "outputs": [
    {
     "data": {
      "text/plain": [
       "362880"
      ]
     },
     "execution_count": 29,
     "metadata": {},
     "output_type": "execute_result"
    }
   ],
   "source": [
    "product = 1\n",
    "\n",
    "for i in a_list:\n",
    "    product = product * i\n",
    "    \n",
    "product"
   ]
  },
  {
   "cell_type": "code",
   "execution_count": 33,
   "id": "34dffcfc-7437-40e4-97e5-ae29a120b505",
   "metadata": {
    "tags": []
   },
   "outputs": [
    {
     "data": {
      "text/plain": [
       "362880"
      ]
     },
     "execution_count": 33,
     "metadata": {},
     "output_type": "execute_result"
    }
   ],
   "source": [
    "reduce(lambda x,y: x*y, a_list)"
   ]
  },
  {
   "cell_type": "code",
   "execution_count": 34,
   "id": "df49391b-9193-46f9-8380-aa30915accfd",
   "metadata": {
    "tags": []
   },
   "outputs": [],
   "source": [
    "some_var = reduce(lambda x,y: x + y ,map(lambda x: x**2, range(1,10)))"
   ]
  },
  {
   "cell_type": "code",
   "execution_count": 35,
   "id": "abf6a8a6-9333-4708-b04a-00a34503195a",
   "metadata": {
    "tags": []
   },
   "outputs": [
    {
     "data": {
      "text/plain": [
       "285"
      ]
     },
     "execution_count": 35,
     "metadata": {},
     "output_type": "execute_result"
    }
   ],
   "source": [
    "some_var"
   ]
  },
  {
   "cell_type": "code",
   "execution_count": 36,
   "id": "3ac1ebe8-438e-4047-890f-6d6cf23a9bac",
   "metadata": {
    "tags": []
   },
   "outputs": [
    {
     "data": {
      "text/plain": [
       "285"
      ]
     },
     "execution_count": 36,
     "metadata": {},
     "output_type": "execute_result"
    }
   ],
   "source": [
    "sum(map(lambda x: x**2, range(1,10))) #Reduce is used with heavy computations"
   ]
  },
  {
   "cell_type": "markdown",
   "id": "ff355235-7800-4651-b75d-2920ac2cf69b",
   "metadata": {},
   "source": [
    "### Iterables"
   ]
  },
  {
   "cell_type": "code",
   "execution_count": 60,
   "id": "b5e0429e-5ff8-4fcf-b693-6d3ceac5a420",
   "metadata": {
    "tags": []
   },
   "outputs": [
    {
     "name": "stdout",
     "output_type": "stream",
     "text": [
      "<list_iterator object at 0x10673ecb0>\n"
     ]
    }
   ],
   "source": [
    "my_list = list(range(1,10))\n",
    "\n",
    "print(iter(my_list))"
   ]
  },
  {
   "cell_type": "code",
   "execution_count": 67,
   "id": "25bb3b69-1e39-4c77-add0-603db31e0da9",
   "metadata": {
    "tags": []
   },
   "outputs": [],
   "source": [
    "#next()\n",
    "my_iter_list = iter(my_list)"
   ]
  },
  {
   "cell_type": "code",
   "execution_count": 62,
   "id": "a38bb675-abfb-4023-88e2-6606f4500328",
   "metadata": {
    "tags": []
   },
   "outputs": [
    {
     "data": {
      "text/plain": [
       "1"
      ]
     },
     "execution_count": 62,
     "metadata": {},
     "output_type": "execute_result"
    }
   ],
   "source": [
    "next(my_iter_list)"
   ]
  },
  {
   "cell_type": "code",
   "execution_count": 68,
   "id": "4529d727-ad3e-4cb0-861f-43b1fe78acc5",
   "metadata": {
    "tags": []
   },
   "outputs": [],
   "source": [
    "def cust_forloop(collection):\n",
    "    ''' this is a custom for loop function'''\n",
    "    \n",
    "    iterator = iter(collection)\n",
    "    \n",
    "    completed_iteration = False\n",
    "    \n",
    "    while not completed_iteration:\n",
    "        try:\n",
    "            print(next(iterator))\n",
    "        except StopIteration:\n",
    "            completed_iteration = True\n",
    "    "
   ]
  },
  {
   "cell_type": "code",
   "execution_count": 69,
   "id": "0fb48c44-9674-4022-8aa2-4db02b166837",
   "metadata": {
    "tags": []
   },
   "outputs": [
    {
     "name": "stdout",
     "output_type": "stream",
     "text": [
      "1\n",
      "2\n",
      "3\n",
      "4\n",
      "5\n",
      "6\n",
      "7\n",
      "8\n",
      "9\n"
     ]
    }
   ],
   "source": [
    "cust_forloop(my_iter_list)"
   ]
  },
  {
   "cell_type": "markdown",
   "id": "fe330620-4baf-42a9-8593-0da4c72bd285",
   "metadata": {},
   "source": [
    "### Unpacking"
   ]
  },
  {
   "cell_type": "code",
   "execution_count": 70,
   "id": "bcda4b48-a322-4a1f-a308-05295f4f3194",
   "metadata": {
    "tags": []
   },
   "outputs": [],
   "source": [
    "x,y,z = (8,9,10)"
   ]
  },
  {
   "cell_type": "code",
   "execution_count": 74,
   "id": "a91375f5-7c3b-43cb-b8a3-0f4c809ba0ae",
   "metadata": {
    "tags": []
   },
   "outputs": [
    {
     "name": "stdout",
     "output_type": "stream",
     "text": [
      "8\n",
      "9\n",
      "10\n"
     ]
    }
   ],
   "source": [
    "print(x)\n",
    "print(y)\n",
    "print(z)"
   ]
  },
  {
   "cell_type": "code",
   "execution_count": 75,
   "id": "12eece32-0d7f-4892-beeb-d9847ac48ed5",
   "metadata": {
    "tags": []
   },
   "outputs": [],
   "source": [
    "dict_1 = {'storm':1, 'wind':2, 'labs': 3}"
   ]
  },
  {
   "cell_type": "code",
   "execution_count": 76,
   "id": "12ddbea8-56f8-48f4-babd-cb7fd3124fc7",
   "metadata": {
    "tags": []
   },
   "outputs": [],
   "source": [
    "a,b,c = dict_1"
   ]
  },
  {
   "cell_type": "code",
   "execution_count": 78,
   "id": "5a5ef64a-a414-453a-ad48-ddcb9c3d12ce",
   "metadata": {
    "tags": []
   },
   "outputs": [
    {
     "name": "stdout",
     "output_type": "stream",
     "text": [
      "storm\n",
      "wind\n",
      "labs\n"
     ]
    }
   ],
   "source": [
    "print(a)\n",
    "print(b)\n",
    "print(c)"
   ]
  },
  {
   "cell_type": "markdown",
   "id": "1f67944d-f415-4d10-b166-0629f88a11a0",
   "metadata": {},
   "source": [
    "### Enumerate"
   ]
  },
  {
   "cell_type": "code",
   "execution_count": 82,
   "id": "bac05ded-f7ae-4d35-9c92-886be3e80782",
   "metadata": {
    "tags": []
   },
   "outputs": [
    {
     "name": "stdout",
     "output_type": "stream",
     "text": [
      "(0, 'study')\n",
      "(1, 'learn')\n",
      "(2, 'pass!')\n"
     ]
    }
   ],
   "source": [
    "#enumerate()\n",
    "stormlist = ['study', 'learn', 'pass!']\n",
    "\n",
    "for element in enumerate(stormlist):\n",
    "    print(element)"
   ]
  },
  {
   "cell_type": "code",
   "execution_count": 84,
   "id": "13785c1b-d245-43af-97e5-0bdb74bb3f55",
   "metadata": {
    "tags": []
   },
   "outputs": [
    {
     "name": "stdout",
     "output_type": "stream",
     "text": [
      "1 study\n",
      "2 learn\n",
      "3 pass!\n"
     ]
    }
   ],
   "source": [
    "for count, element in enumerate(stormlist,1):\n",
    "    print(count, element)"
   ]
  },
  {
   "cell_type": "markdown",
   "id": "7dfc5110-9985-458f-afd9-99e7ff13c017",
   "metadata": {
    "tags": []
   },
   "source": [
    "### Generators"
   ]
  },
  {
   "cell_type": "code",
   "execution_count": 123,
   "id": "65bc370b-d55e-4758-970a-46423ba0cc11",
   "metadata": {
    "tags": []
   },
   "outputs": [],
   "source": [
    "def my_generator():\n",
    "    n = 1\n",
    "    print('this is printed first')\n",
    "    yield n\n",
    "\n",
    "    n+= 1\n",
    "    print('this is printed second')\n",
    "    yield n\n",
    "\n",
    "    n+=1\n",
    "    print('this is printed last')\n",
    "    yield n\n",
    "    \n",
    "        \n",
    "        \n",
    "  "
   ]
  },
  {
   "cell_type": "code",
   "execution_count": 93,
   "id": "fd5f2ca3-ccef-4158-b2cc-f07a22d5923c",
   "metadata": {
    "tags": []
   },
   "outputs": [
    {
     "data": {
      "text/plain": [
       "generator"
      ]
     },
     "execution_count": 93,
     "metadata": {},
     "output_type": "execute_result"
    }
   ],
   "source": [
    "type(my_generator())"
   ]
  },
  {
   "cell_type": "code",
   "execution_count": 94,
   "id": "df886baf-f3c6-4a98-96ed-f8796d10b527",
   "metadata": {
    "tags": []
   },
   "outputs": [
    {
     "data": {
      "text/plain": [
       "<generator object my_generator at 0x1059fa740>"
      ]
     },
     "execution_count": 94,
     "metadata": {},
     "output_type": "execute_result"
    }
   ],
   "source": [
    "my_generator()"
   ]
  },
  {
   "cell_type": "code",
   "execution_count": 118,
   "id": "67f29c0c-3e9b-4f85-9134-4bae64f37036",
   "metadata": {
    "tags": []
   },
   "outputs": [],
   "source": [
    "my_gen = my_generator()"
   ]
  },
  {
   "cell_type": "code",
   "execution_count": 122,
   "id": "a93f75f9-a95e-4e04-a43a-cb56d40d3194",
   "metadata": {
    "tags": []
   },
   "outputs": [
    {
     "ename": "StopIteration",
     "evalue": "",
     "output_type": "error",
     "traceback": [
      "\u001b[0;31m---------------------------------------------------------------------------\u001b[0m",
      "\u001b[0;31mStopIteration\u001b[0m                             Traceback (most recent call last)",
      "Cell \u001b[0;32mIn[122], line 1\u001b[0m\n\u001b[0;32m----> 1\u001b[0m \u001b[38;5;28mnext\u001b[39m(my_gen)\n",
      "\u001b[0;31mStopIteration\u001b[0m: "
     ]
    }
   ],
   "source": [
    "next(my_gen)"
   ]
  },
  {
   "cell_type": "code",
   "execution_count": 108,
   "id": "e663fcd4-220d-4e1c-aa5c-d41fef1ec97b",
   "metadata": {
    "tags": []
   },
   "outputs": [
    {
     "name": "stdout",
     "output_type": "stream",
     "text": [
      "this is printed second\n"
     ]
    },
    {
     "data": {
      "text/plain": [
       "2"
      ]
     },
     "execution_count": 108,
     "metadata": {},
     "output_type": "execute_result"
    }
   ],
   "source": [
    "next(my_gen)"
   ]
  },
  {
   "cell_type": "code",
   "execution_count": 109,
   "id": "cc71600a-aa06-4452-a52b-bce0efff8f0a",
   "metadata": {
    "tags": []
   },
   "outputs": [
    {
     "name": "stdout",
     "output_type": "stream",
     "text": [
      "this is printed last\n"
     ]
    },
    {
     "data": {
      "text/plain": [
       "3"
      ]
     },
     "execution_count": 109,
     "metadata": {},
     "output_type": "execute_result"
    }
   ],
   "source": [
    "next(my_gen)"
   ]
  },
  {
   "cell_type": "code",
   "execution_count": 313,
   "id": "6a13964b-5939-4781-bda2-1f9652b55f7b",
   "metadata": {
    "tags": []
   },
   "outputs": [],
   "source": [
    "### Infinite stream\n",
    "\n",
    "def all_even():\n",
    "    n = 0\n",
    "    while True:\n",
    "        yield n #putting a return or print statement here would result in an infinite loop\n",
    "        n+=2"
   ]
  },
  {
   "cell_type": "code",
   "execution_count": 314,
   "id": "b268f4d6-735c-43b0-9f41-99d1d5814988",
   "metadata": {
    "tags": []
   },
   "outputs": [],
   "source": [
    "even = all_even()"
   ]
  },
  {
   "cell_type": "code",
   "execution_count": 315,
   "id": "6b90420b-d78a-4979-b714-3645db5d765b",
   "metadata": {
    "tags": []
   },
   "outputs": [
    {
     "data": {
      "text/plain": [
       "0"
      ]
     },
     "execution_count": 315,
     "metadata": {},
     "output_type": "execute_result"
    }
   ],
   "source": [
    "next(even)"
   ]
  },
  {
   "cell_type": "markdown",
   "id": "f2f22971-c8ad-4342-be96-c949befc5819",
   "metadata": {},
   "source": [
    "### Comprehension with generators"
   ]
  },
  {
   "cell_type": "code",
   "execution_count": 327,
   "id": "bc903b53-e8ec-4285-a61c-7ca24346fc8b",
   "metadata": {
    "tags": []
   },
   "outputs": [],
   "source": [
    "input_list = [1,2,3,4,5,6,7,8,9,10,11,12,13,14,15,16]"
   ]
  },
  {
   "cell_type": "code",
   "execution_count": 328,
   "id": "a11ece69-9a8a-4f86-a8bb-bf3b3b1d6068",
   "metadata": {
    "tags": []
   },
   "outputs": [],
   "source": [
    "multiples_four = (var for var in input_list if var % 4 == 0)"
   ]
  },
  {
   "cell_type": "code",
   "execution_count": 323,
   "id": "faafd291-8d10-49f5-930b-827c53edacc7",
   "metadata": {
    "tags": []
   },
   "outputs": [
    {
     "data": {
      "text/plain": [
       "generator"
      ]
     },
     "execution_count": 323,
     "metadata": {},
     "output_type": "execute_result"
    }
   ],
   "source": [
    "type(multiples_four)"
   ]
  },
  {
   "cell_type": "code",
   "execution_count": 320,
   "id": "eedbf389-5ac3-44f4-97a1-a44a957ef38c",
   "metadata": {
    "tags": []
   },
   "outputs": [
    {
     "data": {
      "text/plain": [
       "(4, 8, 12, 16)"
      ]
     },
     "execution_count": 320,
     "metadata": {},
     "output_type": "execute_result"
    }
   ],
   "source": [
    "tuple(multiples_four)"
   ]
  },
  {
   "cell_type": "code",
   "execution_count": 325,
   "id": "c10a9c3f-4dc2-4994-b985-40ca94b03c9d",
   "metadata": {
    "tags": []
   },
   "outputs": [
    {
     "data": {
      "text/plain": [
       "8"
      ]
     },
     "execution_count": 325,
     "metadata": {},
     "output_type": "execute_result"
    }
   ],
   "source": [
    "next(multiples_four)"
   ]
  },
  {
   "cell_type": "code",
   "execution_count": 330,
   "id": "d053dfa6-c55c-4188-8de3-09648007efcf",
   "metadata": {
    "tags": []
   },
   "outputs": [
    {
     "name": "stdout",
     "output_type": "stream",
     "text": [
      "using generator comprehension:  "
     ]
    }
   ],
   "source": [
    "print('using generator comprehension: ', end = ' ') \n",
    "\n",
    "for var in multiples_four: #running this twice ends up outputting nothing because the for loop handles the stop iteration error\n",
    "    print(var, end=' ')"
   ]
  },
  {
   "cell_type": "markdown",
   "id": "603f1ed0-ba14-4862-bc74-df6b98f66e5c",
   "metadata": {},
   "source": [
    "# Databases w/ sql"
   ]
  },
  {
   "cell_type": "code",
   "execution_count": 355,
   "id": "594f8167-d59e-4265-ba23-8243cfb8ff75",
   "metadata": {
    "tags": []
   },
   "outputs": [],
   "source": [
    "import mysql.connector as sql"
   ]
  },
  {
   "cell_type": "code",
   "execution_count": 356,
   "id": "224d56b4-6500-48b8-8265-7459f543574c",
   "metadata": {
    "tags": []
   },
   "outputs": [],
   "source": [
    "connection = sql.connect(\n",
    "    host = 'localhost',\n",
    "    user = 'root',\n",
    "    password = 'aayaPihl2001$',\n",
    "    #database = 'mydatabase'\n",
    ") "
   ]
  },
  {
   "cell_type": "code",
   "execution_count": 357,
   "id": "1a8e517c-893e-4b47-9eb9-e69c294f7280",
   "metadata": {
    "tags": []
   },
   "outputs": [
    {
     "name": "stdout",
     "output_type": "stream",
     "text": [
      "Connected to mysql server version:  8.0.36\n"
     ]
    }
   ],
   "source": [
    "print('Connected to mysql server version: ', connection.get_server_info())"
   ]
  },
  {
   "cell_type": "code",
   "execution_count": 358,
   "id": "aee10869-6653-44df-8931-ff2986624b2f",
   "metadata": {
    "tags": []
   },
   "outputs": [],
   "source": [
    "mycursor = connection.cursor()"
   ]
  },
  {
   "cell_type": "code",
   "execution_count": 352,
   "id": "01f656df-70e3-4078-ae90-553c048c66a2",
   "metadata": {
    "tags": []
   },
   "outputs": [
    {
     "ename": "DatabaseError",
     "evalue": "1007 (HY000): Can't create database 'newdb'; database exists",
     "output_type": "error",
     "traceback": [
      "\u001b[0;31m---------------------------------------------------------------------------\u001b[0m",
      "\u001b[0;31mDatabaseError\u001b[0m                             Traceback (most recent call last)",
      "Cell \u001b[0;32mIn[352], line 1\u001b[0m\n\u001b[0;32m----> 1\u001b[0m mycursor\u001b[38;5;241m.\u001b[39mexecute(\u001b[38;5;124m\"\u001b[39m\u001b[38;5;124mCREATE DATABASE newdb\u001b[39m\u001b[38;5;124m\"\u001b[39m)\n",
      "File \u001b[0;32m~/anaconda3/lib/python3.11/site-packages/mysql/connector/cursor.py:748\u001b[0m, in \u001b[0;36mMySQLCursor.execute\u001b[0;34m(self, operation, params, multi)\u001b[0m\n\u001b[1;32m    745\u001b[0m     \u001b[38;5;28;01mreturn\u001b[39;00m \u001b[38;5;28mself\u001b[39m\u001b[38;5;241m.\u001b[39m_execute_iter(\u001b[38;5;28mself\u001b[39m\u001b[38;5;241m.\u001b[39m_connection\u001b[38;5;241m.\u001b[39mcmd_query_iter(stmt))\n\u001b[1;32m    747\u001b[0m \u001b[38;5;28;01mtry\u001b[39;00m:\n\u001b[0;32m--> 748\u001b[0m     \u001b[38;5;28mself\u001b[39m\u001b[38;5;241m.\u001b[39m_handle_result(\u001b[38;5;28mself\u001b[39m\u001b[38;5;241m.\u001b[39m_connection\u001b[38;5;241m.\u001b[39mcmd_query(stmt))\n\u001b[1;32m    749\u001b[0m \u001b[38;5;28;01mexcept\u001b[39;00m InterfaceError \u001b[38;5;28;01mas\u001b[39;00m err:\n\u001b[1;32m    750\u001b[0m     \u001b[38;5;28;01mif\u001b[39;00m \u001b[38;5;28mself\u001b[39m\u001b[38;5;241m.\u001b[39m_connection\u001b[38;5;241m.\u001b[39mhave_next_result:\n",
      "File \u001b[0;32m~/anaconda3/lib/python3.11/site-packages/mysql/connector/opentelemetry/context_propagation.py:74\u001b[0m, in \u001b[0;36mwith_context_propagation.<locals>.wrapper\u001b[0;34m(cnx, *args, **kwargs)\u001b[0m\n\u001b[1;32m     72\u001b[0m \u001b[38;5;250m\u001b[39m\u001b[38;5;124;03m\"\"\"Context propagation decorator.\"\"\"\u001b[39;00m\n\u001b[1;32m     73\u001b[0m \u001b[38;5;28;01mif\u001b[39;00m \u001b[38;5;129;01mnot\u001b[39;00m OTEL_ENABLED \u001b[38;5;129;01mor\u001b[39;00m \u001b[38;5;129;01mnot\u001b[39;00m cnx\u001b[38;5;241m.\u001b[39motel_context_propagation:\n\u001b[0;32m---> 74\u001b[0m     \u001b[38;5;28;01mreturn\u001b[39;00m method(cnx, \u001b[38;5;241m*\u001b[39margs, \u001b[38;5;241m*\u001b[39m\u001b[38;5;241m*\u001b[39mkwargs)\n\u001b[1;32m     76\u001b[0m current_span \u001b[38;5;241m=\u001b[39m trace\u001b[38;5;241m.\u001b[39mget_current_span()\n\u001b[1;32m     77\u001b[0m tp_header \u001b[38;5;241m=\u001b[39m \u001b[38;5;28;01mNone\u001b[39;00m\n",
      "File \u001b[0;32m~/anaconda3/lib/python3.11/site-packages/mysql/connector/connection.py:855\u001b[0m, in \u001b[0;36mMySQLConnection.cmd_query\u001b[0;34m(self, query, raw, buffered, raw_as_string)\u001b[0m\n\u001b[1;32m    853\u001b[0m query \u001b[38;5;241m=\u001b[39m \u001b[38;5;28mbytes\u001b[39m(packet)\n\u001b[1;32m    854\u001b[0m \u001b[38;5;28;01mtry\u001b[39;00m:\n\u001b[0;32m--> 855\u001b[0m     result \u001b[38;5;241m=\u001b[39m \u001b[38;5;28mself\u001b[39m\u001b[38;5;241m.\u001b[39m_handle_result(\u001b[38;5;28mself\u001b[39m\u001b[38;5;241m.\u001b[39m_send_cmd(ServerCmd\u001b[38;5;241m.\u001b[39mQUERY, query))\n\u001b[1;32m    856\u001b[0m \u001b[38;5;28;01mexcept\u001b[39;00m ProgrammingError \u001b[38;5;28;01mas\u001b[39;00m err:\n\u001b[1;32m    857\u001b[0m     \u001b[38;5;28;01mif\u001b[39;00m err\u001b[38;5;241m.\u001b[39merrno \u001b[38;5;241m==\u001b[39m \u001b[38;5;241m3948\u001b[39m \u001b[38;5;129;01mand\u001b[39;00m \u001b[38;5;124m\"\u001b[39m\u001b[38;5;124mLoading local data is disabled\u001b[39m\u001b[38;5;124m\"\u001b[39m \u001b[38;5;129;01min\u001b[39;00m err\u001b[38;5;241m.\u001b[39mmsg:\n",
      "File \u001b[0;32m~/anaconda3/lib/python3.11/site-packages/mysql/connector/connection.py:631\u001b[0m, in \u001b[0;36mMySQLConnection._handle_result\u001b[0;34m(self, packet)\u001b[0m\n\u001b[1;32m    629\u001b[0m     \u001b[38;5;28;01mreturn\u001b[39;00m \u001b[38;5;28mself\u001b[39m\u001b[38;5;241m.\u001b[39m_handle_eof(packet)\n\u001b[1;32m    630\u001b[0m \u001b[38;5;28;01mif\u001b[39;00m packet[\u001b[38;5;241m4\u001b[39m] \u001b[38;5;241m==\u001b[39m \u001b[38;5;241m255\u001b[39m:\n\u001b[0;32m--> 631\u001b[0m     \u001b[38;5;28;01mraise\u001b[39;00m get_exception(packet)\n\u001b[1;32m    633\u001b[0m \u001b[38;5;66;03m# We have a text result set\u001b[39;00m\n\u001b[1;32m    634\u001b[0m column_count \u001b[38;5;241m=\u001b[39m \u001b[38;5;28mself\u001b[39m\u001b[38;5;241m.\u001b[39m_protocol\u001b[38;5;241m.\u001b[39mparse_column_count(packet)\n",
      "\u001b[0;31mDatabaseError\u001b[0m: 1007 (HY000): Can't create database 'newdb'; database exists"
     ]
    }
   ],
   "source": [
    "mycursor.execute(\"CREATE DATABASE newdb\")"
   ]
  },
  {
   "cell_type": "code",
   "execution_count": 367,
   "id": "218718d9-5b51-4f4c-af1c-fcd7a290a379",
   "metadata": {
    "tags": []
   },
   "outputs": [
    {
     "name": "stdout",
     "output_type": "stream",
     "text": [
      "('information_schema',)\n",
      "('mysql',)\n",
      "('newdb',)\n",
      "('performance_schema',)\n",
      "('sys',)\n"
     ]
    }
   ],
   "source": [
    "connection = sql.connect(\n",
    "    host = 'localhost',\n",
    "    user = 'root',\n",
    "    password = 'aayaPihl2001$',\n",
    "    database = 'newdb'\n",
    ") \n",
    "\n",
    "mycursor = connection.cursor()\n",
    "\n",
    "mycursor.execute(\"SHOW DATABASES\")\n",
    "\n",
    "for x in mycursor:\n",
    "    print(x)"
   ]
  },
  {
   "cell_type": "markdown",
   "id": "7208547f-72ed-499f-976c-ece76c84c48a",
   "metadata": {},
   "source": [
    "### Create a table within a database"
   ]
  },
  {
   "cell_type": "code",
   "execution_count": 368,
   "id": "9a158eec-6660-4d84-af11-e3891e8b4ca1",
   "metadata": {
    "tags": []
   },
   "outputs": [
    {
     "ename": "ProgrammingError",
     "evalue": "1050 (42S01): Table 'customer' already exists",
     "output_type": "error",
     "traceback": [
      "\u001b[0;31m---------------------------------------------------------------------------\u001b[0m",
      "\u001b[0;31mProgrammingError\u001b[0m                          Traceback (most recent call last)",
      "Cell \u001b[0;32mIn[368], line 1\u001b[0m\n\u001b[0;32m----> 1\u001b[0m mycursor\u001b[38;5;241m.\u001b[39mexecute(\u001b[38;5;124m'''\u001b[39m\u001b[38;5;124mCREATE TABLE customer(id INT(11) NOT NULL PRIMARY KEY, \u001b[39m\n\u001b[1;32m      2\u001b[0m \u001b[38;5;124m                 Name VARCHAR(250) NOT NULL, \u001b[39m\n\u001b[1;32m      3\u001b[0m \u001b[38;5;124m                 Address VARCHAR(2000) NOT NULL)\u001b[39m\u001b[38;5;124m'''\u001b[39m)\n",
      "File \u001b[0;32m~/anaconda3/lib/python3.11/site-packages/mysql/connector/cursor.py:748\u001b[0m, in \u001b[0;36mMySQLCursor.execute\u001b[0;34m(self, operation, params, multi)\u001b[0m\n\u001b[1;32m    745\u001b[0m     \u001b[38;5;28;01mreturn\u001b[39;00m \u001b[38;5;28mself\u001b[39m\u001b[38;5;241m.\u001b[39m_execute_iter(\u001b[38;5;28mself\u001b[39m\u001b[38;5;241m.\u001b[39m_connection\u001b[38;5;241m.\u001b[39mcmd_query_iter(stmt))\n\u001b[1;32m    747\u001b[0m \u001b[38;5;28;01mtry\u001b[39;00m:\n\u001b[0;32m--> 748\u001b[0m     \u001b[38;5;28mself\u001b[39m\u001b[38;5;241m.\u001b[39m_handle_result(\u001b[38;5;28mself\u001b[39m\u001b[38;5;241m.\u001b[39m_connection\u001b[38;5;241m.\u001b[39mcmd_query(stmt))\n\u001b[1;32m    749\u001b[0m \u001b[38;5;28;01mexcept\u001b[39;00m InterfaceError \u001b[38;5;28;01mas\u001b[39;00m err:\n\u001b[1;32m    750\u001b[0m     \u001b[38;5;28;01mif\u001b[39;00m \u001b[38;5;28mself\u001b[39m\u001b[38;5;241m.\u001b[39m_connection\u001b[38;5;241m.\u001b[39mhave_next_result:\n",
      "File \u001b[0;32m~/anaconda3/lib/python3.11/site-packages/mysql/connector/opentelemetry/context_propagation.py:74\u001b[0m, in \u001b[0;36mwith_context_propagation.<locals>.wrapper\u001b[0;34m(cnx, *args, **kwargs)\u001b[0m\n\u001b[1;32m     72\u001b[0m \u001b[38;5;250m\u001b[39m\u001b[38;5;124;03m\"\"\"Context propagation decorator.\"\"\"\u001b[39;00m\n\u001b[1;32m     73\u001b[0m \u001b[38;5;28;01mif\u001b[39;00m \u001b[38;5;129;01mnot\u001b[39;00m OTEL_ENABLED \u001b[38;5;129;01mor\u001b[39;00m \u001b[38;5;129;01mnot\u001b[39;00m cnx\u001b[38;5;241m.\u001b[39motel_context_propagation:\n\u001b[0;32m---> 74\u001b[0m     \u001b[38;5;28;01mreturn\u001b[39;00m method(cnx, \u001b[38;5;241m*\u001b[39margs, \u001b[38;5;241m*\u001b[39m\u001b[38;5;241m*\u001b[39mkwargs)\n\u001b[1;32m     76\u001b[0m current_span \u001b[38;5;241m=\u001b[39m trace\u001b[38;5;241m.\u001b[39mget_current_span()\n\u001b[1;32m     77\u001b[0m tp_header \u001b[38;5;241m=\u001b[39m \u001b[38;5;28;01mNone\u001b[39;00m\n",
      "File \u001b[0;32m~/anaconda3/lib/python3.11/site-packages/mysql/connector/connection.py:855\u001b[0m, in \u001b[0;36mMySQLConnection.cmd_query\u001b[0;34m(self, query, raw, buffered, raw_as_string)\u001b[0m\n\u001b[1;32m    853\u001b[0m query \u001b[38;5;241m=\u001b[39m \u001b[38;5;28mbytes\u001b[39m(packet)\n\u001b[1;32m    854\u001b[0m \u001b[38;5;28;01mtry\u001b[39;00m:\n\u001b[0;32m--> 855\u001b[0m     result \u001b[38;5;241m=\u001b[39m \u001b[38;5;28mself\u001b[39m\u001b[38;5;241m.\u001b[39m_handle_result(\u001b[38;5;28mself\u001b[39m\u001b[38;5;241m.\u001b[39m_send_cmd(ServerCmd\u001b[38;5;241m.\u001b[39mQUERY, query))\n\u001b[1;32m    856\u001b[0m \u001b[38;5;28;01mexcept\u001b[39;00m ProgrammingError \u001b[38;5;28;01mas\u001b[39;00m err:\n\u001b[1;32m    857\u001b[0m     \u001b[38;5;28;01mif\u001b[39;00m err\u001b[38;5;241m.\u001b[39merrno \u001b[38;5;241m==\u001b[39m \u001b[38;5;241m3948\u001b[39m \u001b[38;5;129;01mand\u001b[39;00m \u001b[38;5;124m\"\u001b[39m\u001b[38;5;124mLoading local data is disabled\u001b[39m\u001b[38;5;124m\"\u001b[39m \u001b[38;5;129;01min\u001b[39;00m err\u001b[38;5;241m.\u001b[39mmsg:\n",
      "File \u001b[0;32m~/anaconda3/lib/python3.11/site-packages/mysql/connector/connection.py:631\u001b[0m, in \u001b[0;36mMySQLConnection._handle_result\u001b[0;34m(self, packet)\u001b[0m\n\u001b[1;32m    629\u001b[0m     \u001b[38;5;28;01mreturn\u001b[39;00m \u001b[38;5;28mself\u001b[39m\u001b[38;5;241m.\u001b[39m_handle_eof(packet)\n\u001b[1;32m    630\u001b[0m \u001b[38;5;28;01mif\u001b[39;00m packet[\u001b[38;5;241m4\u001b[39m] \u001b[38;5;241m==\u001b[39m \u001b[38;5;241m255\u001b[39m:\n\u001b[0;32m--> 631\u001b[0m     \u001b[38;5;28;01mraise\u001b[39;00m get_exception(packet)\n\u001b[1;32m    633\u001b[0m \u001b[38;5;66;03m# We have a text result set\u001b[39;00m\n\u001b[1;32m    634\u001b[0m column_count \u001b[38;5;241m=\u001b[39m \u001b[38;5;28mself\u001b[39m\u001b[38;5;241m.\u001b[39m_protocol\u001b[38;5;241m.\u001b[39mparse_column_count(packet)\n",
      "\u001b[0;31mProgrammingError\u001b[0m: 1050 (42S01): Table 'customer' already exists"
     ]
    }
   ],
   "source": [
    "mycursor.execute('''CREATE TABLE customer(id INT(11) NOT NULL PRIMARY KEY, \n",
    "                 Name VARCHAR(250) NOT NULL, \n",
    "                 Address VARCHAR(2000) NOT NULL)''')"
   ]
  },
  {
   "cell_type": "code",
   "execution_count": 369,
   "id": "46a512cd-cdd2-49fd-b1c3-180fb917a626",
   "metadata": {
    "tags": []
   },
   "outputs": [
    {
     "name": "stdout",
     "output_type": "stream",
     "text": [
      "('customer',)\n"
     ]
    }
   ],
   "source": [
    "mycursor.execute(\"SHOW TABLES\")\n",
    "\n",
    "for tables in mycursor:\n",
    "    print(tables)"
   ]
  },
  {
   "cell_type": "markdown",
   "id": "dee66c1c-d8fa-4439-a180-8a237d5243fd",
   "metadata": {},
   "source": [
    "### Insert Data"
   ]
  },
  {
   "cell_type": "code",
   "execution_count": 377,
   "id": "f19b3d3b-88cd-4fde-9821-996c4108a1be",
   "metadata": {
    "tags": []
   },
   "outputs": [
    {
     "name": "stdout",
     "output_type": "stream",
     "text": [
      "1  records inserted\n"
     ]
    }
   ],
   "source": [
    "query = \"INSERT INTO customer(id, Name, Address) VALUES(%s, %s, %s)\" #%s is string formatting\n",
    "val = (\"6960\", 'Gerald', \"Highway 22\")\n",
    "  \n",
    "mycursor.execute(query, val)\n",
    "\n",
    "connection.commit() #have to commit changes otherwise they won't take effect\n",
    "\n",
    "print(mycursor.rowcount, \" records inserted\")"
   ]
  },
  {
   "cell_type": "code",
   "execution_count": 378,
   "id": "fd20a995-e0c0-4f28-a4e9-9fcd5326cf50",
   "metadata": {
    "tags": []
   },
   "outputs": [
    {
     "name": "stdout",
     "output_type": "stream",
     "text": [
      "(999, 'John', 'Highway 21')\n",
      "(1000, 'John', 'Highway 21')\n",
      "(6960, 'Gerald', 'Highway 22')\n",
      "(6969, 'John', 'Highway 21')\n"
     ]
    }
   ],
   "source": [
    "mycursor.execute('SELECT * FROM customer')\n",
    "\n",
    "result = mycursor.fetchall()\n",
    "\n",
    "for x in result:\n",
    "    print(x)"
   ]
  },
  {
   "cell_type": "code",
   "execution_count": 383,
   "id": "cd8aa6ee-8d73-4bc6-9f9e-ff08c6e7b1e5",
   "metadata": {
    "tags": []
   },
   "outputs": [
    {
     "name": "stdout",
     "output_type": "stream",
     "text": [
      "3 records inserted\n"
     ]
    }
   ],
   "source": [
    "query = \"INSERT INTO customer(id, Name, Address) VALUES(%s, %s, %s)\" #%s is string formatting\n",
    "\n",
    "val = (\n",
    "    ('7','Dave', '82 Triangle St'),\n",
    "    ('8', 'Colin', '82 Triangle St'),\n",
    "    ('9', 'Sean', '82 Triangle St')\n",
    ")\n",
    "\n",
    "mycursor.executemany(query, val)\n",
    "\n",
    "connection.commit()\n",
    "\n",
    "print(mycursor.rowcount, 'records inserted')"
   ]
  },
  {
   "cell_type": "code",
   "execution_count": 384,
   "id": "d8ddb187-c285-4473-8eba-e76d1176431a",
   "metadata": {
    "tags": []
   },
   "outputs": [
    {
     "name": "stdout",
     "output_type": "stream",
     "text": [
      "(1, 'Chris', '82 Triangle St')\n",
      "(2, 'Simon', '82 Triangle St')\n",
      "(3, 'Gio', '82 Triangle St')\n",
      "(4, 'Chris', '82 Triangle St')\n",
      "(5, 'Simon', '82 Triangle St')\n",
      "(6, 'Gio', '82 Triangle St')\n",
      "(7, 'Dave', '82 Triangle St')\n",
      "(8, 'Colin', '82 Triangle St')\n",
      "(9, 'Sean', '82 Triangle St')\n",
      "(999, 'John', 'Highway 21')\n",
      "(1000, 'John', 'Highway 21')\n",
      "(6960, 'Gerald', 'Highway 22')\n",
      "(6969, 'John', 'Highway 21')\n"
     ]
    }
   ],
   "source": [
    "mycursor.execute('SELECT * FROM customer')\n",
    "\n",
    "result = mycursor.fetchall()\n",
    "\n",
    "for x in result:\n",
    "    print(x)"
   ]
  },
  {
   "cell_type": "code",
   "execution_count": 385,
   "id": "93ad1005-7251-4ed6-a559-bbf5ab0649b2",
   "metadata": {
    "tags": []
   },
   "outputs": [],
   "source": [
    "query = '''\n",
    "    CREATE TABLE product (p_id INT(11) NOT NULL PRIMARY KEY,\n",
    "    p_name VARCHAR(50) NOT NULL,\n",
    "    category VARCHAR(2000) NOT NULL,\n",
    "    cust_id INT(11) NOT NULL,\n",
    "    FOREIGN KEY(cust_id) REFERENCES customer(id))\n",
    "'''\n",
    "\n",
    "mycursor.execute(query)"
   ]
  },
  {
   "cell_type": "code",
   "execution_count": 386,
   "id": "f87fd954-01af-4727-b220-9473e4669991",
   "metadata": {
    "tags": []
   },
   "outputs": [
    {
     "name": "stdout",
     "output_type": "stream",
     "text": [
      "('customer',)\n",
      "('product',)\n"
     ]
    }
   ],
   "source": [
    "mycursor.execute('SHOW TABLES')\n",
    "\n",
    "for tables in mycursor:\n",
    "    print(tables)"
   ]
  },
  {
   "cell_type": "code",
   "execution_count": 387,
   "id": "955ad577-a40c-485e-9e15-5157df830c01",
   "metadata": {
    "tags": []
   },
   "outputs": [],
   "source": [
    "query = \"INSERT INTO product(p_id, p_name, category, cust_id) VALUES(%s, %s, %s, %s)\" #%s is string formatting\n",
    "\n",
    "val = (\n",
    "    ('1','cheerios','food','1'),\n",
    "    ('2','chili cheese fries', 'food', '2'),\n",
    "    ('3', 'corn dogs', 'food', '9'),\n",
    "    ('4', 'legos', 'toys', '7')\n",
    ")\n",
    "\n",
    "mycursor.executemany(query, val)"
   ]
  },
  {
   "cell_type": "code",
   "execution_count": 388,
   "id": "0a87eb77-4777-4de9-a53a-fd62119b459b",
   "metadata": {
    "tags": []
   },
   "outputs": [],
   "source": [
    "connection.commit()"
   ]
  },
  {
   "cell_type": "code",
   "execution_count": 389,
   "id": "60a9397b-3016-47c8-b519-00f702a3d4e5",
   "metadata": {
    "tags": []
   },
   "outputs": [
    {
     "name": "stdout",
     "output_type": "stream",
     "text": [
      "(1, 'cheerios', 'food', 1)\n",
      "(2, 'chili cheese fries', 'food', 2)\n",
      "(3, 'corn dogs', 'food', 9)\n",
      "(4, 'legos', 'toys', 7)\n"
     ]
    }
   ],
   "source": [
    "mycursor.execute('SELECT * FROM product')\n",
    "\n",
    "result = mycursor.fetchall()\n",
    "\n",
    "for x in result:\n",
    "    print(x)"
   ]
  },
  {
   "cell_type": "code",
   "execution_count": 394,
   "id": "965d6c2f-efef-454e-a233-55ea4ad07503",
   "metadata": {
    "tags": []
   },
   "outputs": [
    {
     "ename": "ProgrammingError",
     "evalue": "Cursor is not connected",
     "output_type": "error",
     "traceback": [
      "\u001b[0;31m---------------------------------------------------------------------------\u001b[0m",
      "\u001b[0;31mProgrammingError\u001b[0m                          Traceback (most recent call last)",
      "File \u001b[0;32m~/anaconda3/lib/python3.11/site-packages/mysql/connector/cursor.py:709\u001b[0m, in \u001b[0;36mMySQLCursor.execute\u001b[0;34m(self, operation, params, multi)\u001b[0m\n\u001b[1;32m    708\u001b[0m     \u001b[38;5;28;01mif\u001b[39;00m \u001b[38;5;129;01mnot\u001b[39;00m \u001b[38;5;28mself\u001b[39m\u001b[38;5;241m.\u001b[39m_connection:\n\u001b[0;32m--> 709\u001b[0m         \u001b[38;5;28;01mraise\u001b[39;00m ProgrammingError\n\u001b[1;32m    710\u001b[0m \u001b[38;5;28;01mexcept\u001b[39;00m (ProgrammingError, \u001b[38;5;167;01mReferenceError\u001b[39;00m) \u001b[38;5;28;01mas\u001b[39;00m err:\n",
      "\u001b[0;31mProgrammingError\u001b[0m: Unknown error",
      "\nThe above exception was the direct cause of the following exception:\n",
      "\u001b[0;31mProgrammingError\u001b[0m                          Traceback (most recent call last)",
      "Cell \u001b[0;32mIn[394], line 7\u001b[0m\n\u001b[1;32m      1\u001b[0m query \u001b[38;5;241m=\u001b[39m \u001b[38;5;124m'''\u001b[39m\n\u001b[1;32m      2\u001b[0m \u001b[38;5;124m    SELECT customer.name AS user, product.p_name AS favorite\u001b[39m\n\u001b[1;32m      3\u001b[0m \u001b[38;5;124m    FROM customer\u001b[39m\n\u001b[1;32m      4\u001b[0m \u001b[38;5;124m    INNER JOIN product ON customer.id = product.cust_id\u001b[39m\n\u001b[1;32m      5\u001b[0m \u001b[38;5;124m'''\u001b[39m\n\u001b[0;32m----> 7\u001b[0m mycursor\u001b[38;5;241m.\u001b[39mexecute(query)\n\u001b[1;32m      9\u001b[0m result \u001b[38;5;241m=\u001b[39m mycursor\u001b[38;5;241m.\u001b[39mfetchall()\n\u001b[1;32m     11\u001b[0m \u001b[38;5;28;01mfor\u001b[39;00m x \u001b[38;5;129;01min\u001b[39;00m result:\n",
      "File \u001b[0;32m~/anaconda3/lib/python3.11/site-packages/mysql/connector/cursor.py:711\u001b[0m, in \u001b[0;36mMySQLCursor.execute\u001b[0;34m(self, operation, params, multi)\u001b[0m\n\u001b[1;32m    709\u001b[0m         \u001b[38;5;28;01mraise\u001b[39;00m ProgrammingError\n\u001b[1;32m    710\u001b[0m \u001b[38;5;28;01mexcept\u001b[39;00m (ProgrammingError, \u001b[38;5;167;01mReferenceError\u001b[39;00m) \u001b[38;5;28;01mas\u001b[39;00m err:\n\u001b[0;32m--> 711\u001b[0m     \u001b[38;5;28;01mraise\u001b[39;00m ProgrammingError(\u001b[38;5;124m\"\u001b[39m\u001b[38;5;124mCursor is not connected\u001b[39m\u001b[38;5;124m\"\u001b[39m) \u001b[38;5;28;01mfrom\u001b[39;00m \u001b[38;5;21;01merr\u001b[39;00m\n\u001b[1;32m    713\u001b[0m \u001b[38;5;28mself\u001b[39m\u001b[38;5;241m.\u001b[39m_connection\u001b[38;5;241m.\u001b[39mhandle_unread_result()\n\u001b[1;32m    715\u001b[0m \u001b[38;5;28mself\u001b[39m\u001b[38;5;241m.\u001b[39m_reset_result()\n",
      "\u001b[0;31mProgrammingError\u001b[0m: Cursor is not connected"
     ]
    }
   ],
   "source": [
    "query = '''\n",
    "    SELECT customer.name AS user, product.p_name AS favorite\n",
    "    FROM customer\n",
    "    INNER JOIN product ON customer.id = product.cust_id\n",
    "'''\n",
    "\n",
    "mycursor.execute(query)\n",
    "\n",
    "result = mycursor.fetchall()\n",
    "\n",
    "for x in result:\n",
    "    print(x)"
   ]
  },
  {
   "cell_type": "code",
   "execution_count": 393,
   "id": "cce695bc-69f4-4ed6-bc7b-d712f1a75f7f",
   "metadata": {
    "tags": []
   },
   "outputs": [],
   "source": [
    "mycursor.close()\n",
    "connection.close()"
   ]
  },
  {
   "cell_type": "markdown",
   "id": "2a4fcb6a-b872-4089-88dc-c9a50519be8b",
   "metadata": {},
   "source": [
    "### Regular Expressions"
   ]
  },
  {
   "cell_type": "code",
   "execution_count": 3,
   "id": "355def5f-3d75-4917-a6d2-b3033c6ca0bc",
   "metadata": {
    "tags": []
   },
   "outputs": [
    {
     "name": "stdout",
     "output_type": "stream",
     "text": [
      "Hello\tkitty\n",
      "Hello\\tkitty\n"
     ]
    }
   ],
   "source": [
    "print('Hello\\tkitty')\n",
    "\n",
    "print(r'Hello\\tkitty') #r'' displays whatever is in the quotes as the raw string"
   ]
  },
  {
   "cell_type": "markdown",
   "id": "e58993bd-20f6-4b70-887f-1b5d688783e7",
   "metadata": {},
   "source": [
    "### Match function"
   ]
  },
  {
   "cell_type": "code",
   "execution_count": 4,
   "id": "e5c1d344-1ada-4244-9746-cb8e1fca517a",
   "metadata": {
    "tags": []
   },
   "outputs": [],
   "source": [
    "import re"
   ]
  },
  {
   "cell_type": "code",
   "execution_count": 7,
   "id": "4265bbd0-06e7-48a7-ba5a-4fc97b15018e",
   "metadata": {
    "tags": []
   },
   "outputs": [
    {
     "data": {
      "text/plain": [
       "<re.Match object; span=(0, 3), match='Tom'>"
      ]
     },
     "execution_count": 7,
     "metadata": {},
     "output_type": "execute_result"
    }
   ],
   "source": [
    "#syntax ===> re.match(pattern, string, flags = 0)\n",
    "\n",
    "re.match('Tom', 'Tom Henry')"
   ]
  },
  {
   "cell_type": "code",
   "execution_count": 9,
   "id": "cb1f4d93-ce28-4118-90d7-05020aeb79ea",
   "metadata": {
    "tags": []
   },
   "outputs": [],
   "source": [
    "re.match('Hen', 'Tom Hen') #nothing found"
   ]
  },
  {
   "cell_type": "markdown",
   "id": "148bfbdd-a22c-41f7-b33a-70b969a35c15",
   "metadata": {},
   "source": [
    "### Compile()"
   ]
  },
  {
   "cell_type": "code",
   "execution_count": null,
   "id": "d307a4d5-5a81-42b1-82df-88f89542e6d9",
   "metadata": {},
   "outputs": [],
   "source": [
    "#syntax re.compile(pattern, flags = 0)"
   ]
  },
  {
   "cell_type": "code",
   "execution_count": null,
   "id": "338cb450-7a55-462e-a9d5-68f68023d4f2",
   "metadata": {
    "tags": []
   },
   "outputs": [],
   "source": [
    "pattern = 'Li'\n",
    "comp = re.compile(pattern) #this has to be done because pattern needs to be a regular expression before it can be used with match or other functions\n",
    "\n",
    "string = 'Liam Thomas'"
   ]
  },
  {
   "cell_type": "code",
   "execution_count": 12,
   "id": "8128dad2-7b14-4c39-8fa5-ee8029857db0",
   "metadata": {
    "tags": []
   },
   "outputs": [
    {
     "data": {
      "text/plain": [
       "<re.Match object; span=(0, 2), match='Li'>"
      ]
     },
     "execution_count": 12,
     "metadata": {},
     "output_type": "execute_result"
    }
   ],
   "source": [
    "first_match = comp.match(string)\n",
    "first_match"
   ]
  },
  {
   "cell_type": "code",
   "execution_count": 15,
   "id": "db41171b-fc27-4df8-81cb-3559311ede4d",
   "metadata": {
    "tags": []
   },
   "outputs": [],
   "source": [
    "string_2 = 'This is fun, Liam'\n",
    "\n",
    "second_match = comp.match(string_2) #Match only looks for Li in the beginning of the string"
   ]
  },
  {
   "cell_type": "markdown",
   "id": "86113fae-233a-4e04-9c9f-5851e1d4cc62",
   "metadata": {},
   "source": [
    "### finditer()"
   ]
  },
  {
   "cell_type": "code",
   "execution_count": 16,
   "id": "c2990196-3915-4eaf-afa1-97f40d0d149d",
   "metadata": {
    "tags": []
   },
   "outputs": [],
   "source": [
    "sentence = \"start a sentence and bring it to an end\"\n",
    "\n",
    "pattern = re.compile('art')"
   ]
  },
  {
   "cell_type": "code",
   "execution_count": 23,
   "id": "e235bf90-30ee-4b92-ba7f-c46fed84b2c2",
   "metadata": {
    "tags": []
   },
   "outputs": [
    {
     "name": "stdout",
     "output_type": "stream",
     "text": [
      "<re.Match object; span=(2, 5), match='art'>\n"
     ]
    }
   ],
   "source": [
    "matches = pattern.finditer(sentence)\n",
    "\n",
    "for x in matches:\n",
    "    print(x)"
   ]
  },
  {
   "cell_type": "markdown",
   "id": "cac23a92-6abe-47f8-b0bd-37c539e01b75",
   "metadata": {},
   "source": [
    "### Search()"
   ]
  },
  {
   "cell_type": "code",
   "execution_count": 25,
   "id": "f3ec4904-5906-49a8-94b0-bb41d74735ae",
   "metadata": {
    "tags": []
   },
   "outputs": [
    {
     "data": {
      "text/plain": [
       "<re.Match object; span=(2, 5), match='art'>"
      ]
     },
     "execution_count": 25,
     "metadata": {},
     "output_type": "execute_result"
    }
   ],
   "source": [
    "result = re.search(pattern, sentence)\n",
    "\n",
    "result"
   ]
  },
  {
   "cell_type": "markdown",
   "id": "773c1feb-b59f-4fb1-b88d-70dfcd5a8c8f",
   "metadata": {},
   "source": [
    "### modifiers"
   ]
  },
  {
   "cell_type": "code",
   "execution_count": 29,
   "id": "3b08abfd-73a7-4edc-8532-9333487688bb",
   "metadata": {
    "tags": []
   },
   "outputs": [],
   "source": [
    "modifier = '''\n",
    "    .     -   Any Character Except New Line\n",
    "\\d  -   Digit (0-9) \n",
    "\\D  -   Not a Digit (0-9) \n",
    "\\w  -   Word Character (a-z, A-Z, 0-9, _) \n",
    "\\W -   Not a Word Character \n",
    "\\s   -   Whitespace (space, tab, newline) \n",
    "\\S   -   Not Whitespace (space, tab, newline) \n",
    "\\b   -   Word Boundary \n",
    "\\B   -   Not a Word Boundary\n",
    "^     -   Beginning of a String \n",
    "$     -   End of a String \n",
    "[]     -   Matches Characters in brackets \n",
    "[^ ]  -   Matches Characters NOT in brackets\n",
    "|   -   Either Or \n",
    "( )  -  Group \n",
    "\n",
    "*  -  0 or More \n",
    "+  -  1 or More \n",
    "?   -  0 or One \n",
    "{3} -  Exact Number \n",
    "{3,4} - Range of Numbers (Minimum, Maximum) \n",
    "\n",
    "'''"
   ]
  },
  {
   "cell_type": "code",
   "execution_count": 33,
   "id": "f91bba3c-ed90-4ab5-8409-bb0b90772530",
   "metadata": {
    "tags": []
   },
   "outputs": [],
   "source": [
    "m = re.match(r\"(\\w+) (\\w+)\", \"Isaac Newton, physicist\") #\\w+ refers to  \"1 or more word characters\"\n",
    "\n",
    "#The above match is lookinng for one or more word characters, then a space, and then 1 or more word characters, which is why the match ends at the comma"
   ]
  },
  {
   "cell_type": "code",
   "execution_count": 41,
   "id": "b0b6f307-58a0-4171-8402-65cc02b88ef6",
   "metadata": {
    "tags": []
   },
   "outputs": [
    {
     "data": {
      "text/plain": [
       "'Isaac Newton'"
      ]
     },
     "execution_count": 41,
     "metadata": {},
     "output_type": "execute_result"
    }
   ],
   "source": [
    "m.group()"
   ]
  },
  {
   "cell_type": "markdown",
   "id": "c81fa6ac-95c6-40dd-ba21-5fd50d21695a",
   "metadata": {},
   "source": [
    "### Greedy modifier"
   ]
  },
  {
   "cell_type": "code",
   "execution_count": null,
   "id": "ca90b798-1a69-4531-95cd-bf351dfdb8e6",
   "metadata": {},
   "outputs": [],
   "source": [
    "#Greedy modifier ==> '?', '*', '+' and {m,n} will find the maximum number of matches"
   ]
  },
  {
   "cell_type": "code",
   "execution_count": 43,
   "id": "ff3de60b-09d5-4e2b-85e9-b4c43da5ac6c",
   "metadata": {
    "tags": []
   },
   "outputs": [
    {
     "data": {
      "text/plain": [
       "['aaaaaaa', '', 'aa', '']"
      ]
     },
     "execution_count": 43,
     "metadata": {},
     "output_type": "execute_result"
    }
   ],
   "source": [
    "re.findall('a*', 'aaaaaaabaa')"
   ]
  },
  {
   "cell_type": "code",
   "execution_count": 44,
   "id": "97d25da8-4126-4659-a711-f0e7ce0aaa93",
   "metadata": {
    "tags": []
   },
   "outputs": [
    {
     "data": {
      "text/plain": [
       "['a', 'a', 'a', 'a', 'a', '']"
      ]
     },
     "execution_count": 44,
     "metadata": {},
     "output_type": "execute_result"
    }
   ],
   "source": [
    "re.findall('a?','aaaaa')"
   ]
  },
  {
   "cell_type": "code",
   "execution_count": 45,
   "id": "be6707d0-bb7a-4598-a931-fdfe9f4cd54b",
   "metadata": {
    "tags": []
   },
   "outputs": [
    {
     "data": {
      "text/plain": [
       "['aaaaa']"
      ]
     },
     "execution_count": 45,
     "metadata": {},
     "output_type": "execute_result"
    }
   ],
   "source": [
    "re.findall('a+','aaaaa')"
   ]
  },
  {
   "cell_type": "code",
   "execution_count": 56,
   "id": "5f26dda2-f292-4012-aef4-526a243c727a",
   "metadata": {
    "tags": []
   },
   "outputs": [
    {
     "data": {
      "text/plain": [
       "['aaaa', 'aaaa', 'aaa']"
      ]
     },
     "execution_count": 56,
     "metadata": {},
     "output_type": "execute_result"
    }
   ],
   "source": [
    "re.findall('a{3,4}','aaaaaaaaaaa') # finds at most 4 a's or at least 3 a's per group (defaults to max)"
   ]
  },
  {
   "cell_type": "markdown",
   "id": "7a7c625f-9388-41f2-934c-7cfb684ddce2",
   "metadata": {},
   "source": [
    "### Non-greedy Repetitions"
   ]
  },
  {
   "cell_type": "code",
   "execution_count": null,
   "id": "a9ea9519-35ca-4993-abf3-e08e77613d51",
   "metadata": {},
   "outputs": [],
   "source": [
    "#non-greedy mods ==> '??', '*?','+?', and {m,n}?"
   ]
  },
  {
   "cell_type": "code",
   "execution_count": 54,
   "id": "fcb01532-ba60-4206-a95c-d3cb6b15107e",
   "metadata": {
    "tags": []
   },
   "outputs": [
    {
     "data": {
      "text/plain": [
       "['', 'a', '', 'a', '', 'a', '', 'a', '', 'a', '']"
      ]
     },
     "execution_count": 54,
     "metadata": {},
     "output_type": "execute_result"
    }
   ],
   "source": [
    "re.findall('a*?','aaaaa') #reluctant to group all the a's together, it \"shares the a's between all the groups\""
   ]
  },
  {
   "cell_type": "code",
   "execution_count": 51,
   "id": "ab40759a-98a4-488b-a4d9-3200e496a737",
   "metadata": {
    "tags": []
   },
   "outputs": [
    {
     "data": {
      "text/plain": [
       "['', 'a', '', 'a', '', 'a', '', 'a', '', 'a', '']"
      ]
     },
     "execution_count": 51,
     "metadata": {},
     "output_type": "execute_result"
    }
   ],
   "source": [
    "re.findall('a??','aaaaa')"
   ]
  },
  {
   "cell_type": "code",
   "execution_count": 52,
   "id": "f9cf4e84-946b-4263-b0e5-aea2031caca1",
   "metadata": {
    "tags": []
   },
   "outputs": [
    {
     "data": {
      "text/plain": [
       "['a', 'a', 'a', 'a', 'a']"
      ]
     },
     "execution_count": 52,
     "metadata": {},
     "output_type": "execute_result"
    }
   ],
   "source": [
    "re.findall('a+?','aaaaa')"
   ]
  },
  {
   "cell_type": "code",
   "execution_count": 55,
   "id": "a901a24e-eff5-4bc9-b116-65747f71e227",
   "metadata": {
    "tags": []
   },
   "outputs": [
    {
     "data": {
      "text/plain": [
       "['aaa', 'aaa', 'aaa']"
      ]
     },
     "execution_count": 55,
     "metadata": {},
     "output_type": "execute_result"
    }
   ],
   "source": [
    "re.findall('a{3,4}?','aaaaaaaaaaa') # finds at most 4 a's or at least 3 a's per group (defaults to the minimum)"
   ]
  },
  {
   "cell_type": "markdown",
   "id": "74b102f6-2171-4ded-b8f8-fef74a092b4b",
   "metadata": {},
   "source": [
    "### More Regular Expressions"
   ]
  },
  {
   "cell_type": "code",
   "execution_count": 1,
   "id": "10e3aa5b-299c-47d7-8c97-bfe24c955997",
   "metadata": {
    "tags": []
   },
   "outputs": [],
   "source": [
    "import re"
   ]
  },
  {
   "cell_type": "code",
   "execution_count": 4,
   "id": "b2af2a66-a785-43fd-8de6-db17bae102a3",
   "metadata": {
    "tags": []
   },
   "outputs": [],
   "source": [
    "target_string = 'The price of VANILLA icecream is 20 dollars' # want to put all caps, and digits in two seperate groups"
   ]
  },
  {
   "cell_type": "code",
   "execution_count": 6,
   "id": "ad14a08b-a69a-4fe4-945e-1ac3d13c6742",
   "metadata": {
    "tags": []
   },
   "outputs": [],
   "source": [
    "result = re.search(r'(\\b[A-Z]+\\b).+(\\b\\d+)', target_string)\n",
    "#\\b is a word boundary\n",
    "#[A-Z] searches for any uppercase letter\n",
    "#[A-Z]+ searches for all uppercase letters in a word\n",
    "#\\d searches for digits"
   ]
  },
  {
   "cell_type": "code",
   "execution_count": 8,
   "id": "f18e3478-e102-4a20-9e3a-59a8483fb407",
   "metadata": {
    "tags": []
   },
   "outputs": [
    {
     "name": "stdout",
     "output_type": "stream",
     "text": [
      "tom \n",
      " jerry\n",
      "tom \\n jerry\n"
     ]
    }
   ],
   "source": [
    "print('tom \\n jerry')\n",
    "print(r'tom \\n jerry') #Have to use the r'' raw string in the search function so that the backslash \"letter\"s aren't interpreted as special functions if that could happen"
   ]
  },
  {
   "cell_type": "code",
   "execution_count": 10,
   "id": "e220dbe7-16e7-4407-bf35-fee9660ad487",
   "metadata": {
    "tags": []
   },
   "outputs": [
    {
     "data": {
      "text/plain": [
       "('VANILLA', '20')"
      ]
     },
     "execution_count": 10,
     "metadata": {},
     "output_type": "execute_result"
    }
   ],
   "source": [
    "result.groups()"
   ]
  },
  {
   "cell_type": "code",
   "execution_count": 13,
   "id": "6b12b2c4-94a8-4f01-bb29-aa3f99a6dd43",
   "metadata": {
    "tags": []
   },
   "outputs": [
    {
     "data": {
      "text/plain": [
       "'VANILLA'"
      ]
     },
     "execution_count": 13,
     "metadata": {},
     "output_type": "execute_result"
    }
   ],
   "source": [
    "result.group(1)"
   ]
  },
  {
   "cell_type": "code",
   "execution_count": 14,
   "id": "50bbc523-04e5-4277-9051-4cbd56ccfde0",
   "metadata": {
    "tags": []
   },
   "outputs": [
    {
     "data": {
      "text/plain": [
       "'20'"
      ]
     },
     "execution_count": 14,
     "metadata": {},
     "output_type": "execute_result"
    }
   ],
   "source": [
    "result.group(2)"
   ]
  },
  {
   "cell_type": "code",
   "execution_count": 15,
   "id": "db8f5a7c-95e1-415e-87a6-d34ea5fd817f",
   "metadata": {
    "tags": []
   },
   "outputs": [
    {
     "data": {
      "text/plain": [
       "'VANILLA icecream is 20'"
      ]
     },
     "execution_count": 15,
     "metadata": {},
     "output_type": "execute_result"
    }
   ],
   "source": [
    "result.group()"
   ]
  },
  {
   "cell_type": "code",
   "execution_count": 16,
   "id": "ff35cba9-49a1-4675-b8b3-ed5f0c191b8f",
   "metadata": {
    "tags": []
   },
   "outputs": [
    {
     "data": {
      "text/plain": [
       "'VANILLA icecream is 20'"
      ]
     },
     "execution_count": 16,
     "metadata": {},
     "output_type": "execute_result"
    }
   ],
   "source": [
    "result.group(0)"
   ]
  },
  {
   "cell_type": "code",
   "execution_count": 17,
   "id": "367a1a78-a2c7-411c-8fb6-c2b77ab9c3ac",
   "metadata": {
    "tags": []
   },
   "outputs": [],
   "source": [
    "ph_number = '978-489-4234 is a phone number'"
   ]
  },
  {
   "cell_type": "code",
   "execution_count": 25,
   "id": "e2d0c532-9478-4e63-b041-57697a752042",
   "metadata": {
    "tags": []
   },
   "outputs": [],
   "source": [
    "ph_regex = re.compile(r'\\d\\d\\d-\\d\\d\\d-\\d\\d\\d\\d')"
   ]
  },
  {
   "cell_type": "code",
   "execution_count": 26,
   "id": "3f760ef9-62ad-42c1-bcc1-ecc6c5d6d37e",
   "metadata": {
    "tags": []
   },
   "outputs": [],
   "source": [
    "match = ph_regex.search(ph_number)"
   ]
  },
  {
   "cell_type": "code",
   "execution_count": 29,
   "id": "aee0b49e-c26d-4cd6-b814-423de42a2948",
   "metadata": {
    "tags": []
   },
   "outputs": [
    {
     "data": {
      "text/plain": [
       "'978-489-4234'"
      ]
     },
     "execution_count": 29,
     "metadata": {},
     "output_type": "execute_result"
    }
   ],
   "source": [
    "match.group()"
   ]
  },
  {
   "cell_type": "code",
   "execution_count": 33,
   "id": "d7743231-1da1-4a71-b084-8ac09a423d54",
   "metadata": {
    "tags": []
   },
   "outputs": [
    {
     "data": {
      "text/plain": [
       "('978', '489-4234')"
      ]
     },
     "execution_count": 33,
     "metadata": {},
     "output_type": "execute_result"
    }
   ],
   "source": [
    "ph_regex_group = re.compile(r'(\\d\\d\\d)-(\\d\\d\\d-\\d\\d\\d\\d)')\n",
    "match2 = ph_regex_group.search(ph_number)\n",
    "match2.groups()"
   ]
  },
  {
   "cell_type": "code",
   "execution_count": 35,
   "id": "aa4ff522-bea5-4806-966a-821fc06492e9",
   "metadata": {
    "tags": []
   },
   "outputs": [
    {
     "name": "stdout",
     "output_type": "stream",
     "text": [
      "978\n",
      "489-4234\n"
     ]
    }
   ],
   "source": [
    "print(match2.group(1))\n",
    "print(match2.group(2))"
   ]
  },
  {
   "cell_type": "code",
   "execution_count": 42,
   "id": "791b8031-3e70-4ae9-bd08-be54272d72b0",
   "metadata": {
    "tags": []
   },
   "outputs": [
    {
     "data": {
      "text/plain": [
       "('(978)', '489-4234')"
      ]
     },
     "execution_count": 42,
     "metadata": {},
     "output_type": "execute_result"
    }
   ],
   "source": [
    "ph_number2 = '(978)-489-4234 is a phone number'\n",
    "\n",
    "ph_regex_group2 = re.compile(r'(\\(\\d\\d\\d\\))-(\\d\\d\\d-\\d\\d\\d\\d)')\n",
    "#extra two backslashs in the first parenthesis causes the inner parenthesis to be recognized as a string\n",
    "\n",
    "match_3 = ph_regex_group2.search(ph_number2)\n",
    "match_3.groups()"
   ]
  },
  {
   "cell_type": "code",
   "execution_count": 48,
   "id": "116cd4bc-3ccd-400b-8097-2e3140d8f448",
   "metadata": {
    "tags": []
   },
   "outputs": [
    {
     "data": {
      "text/plain": [
       "('(978)', '489-4234')"
      ]
     },
     "execution_count": 48,
     "metadata": {},
     "output_type": "execute_result"
    }
   ],
   "source": [
    "ph_regex_alt = re.compile(r'(\\(\\d{3}\\))-(\\d{3}-\\d{4})')\n",
    "\n",
    "match_4 = ph_regex_alt.search(ph_number2)\n",
    "\n",
    "match_4.groups()"
   ]
  },
  {
   "cell_type": "markdown",
   "id": "f9369c21-3987-4ebf-b456-f64a3e456cc6",
   "metadata": {},
   "source": [
    "## Backreferences"
   ]
  },
  {
   "cell_type": "code",
   "execution_count": 62,
   "id": "941964ce-f726-41a8-b9cd-22606f2ef2f7",
   "metadata": {
    "tags": []
   },
   "outputs": [
    {
     "data": {
      "text/plain": [
       "<re.Match object; span=(0, 13), match='Python Python'>"
      ]
     },
     "execution_count": 62,
     "metadata": {},
     "output_type": "execute_result"
    }
   ],
   "source": [
    "ss = 'Python Python is awesome awesome! I I can do do this all all day!'\n",
    "\n",
    "back_ref = re.compile(r'(\\w+)\\s+\\1\\b')\n",
    "#\\1 backreferences the string captured by the code before it\n",
    "\n",
    "match = back_ref.search(ss)\n",
    "\n",
    "match\n",
    "#only captures the first duplicate"
   ]
  },
  {
   "cell_type": "code",
   "execution_count": 63,
   "id": "5fe833e7-63c8-41c3-83f2-6a937b26f3b1",
   "metadata": {
    "tags": []
   },
   "outputs": [
    {
     "data": {
      "text/plain": [
       "['Python', 'awesome', 'I', 'do', 'all']"
      ]
     },
     "execution_count": 63,
     "metadata": {},
     "output_type": "execute_result"
    }
   ],
   "source": [
    "back_ref.findall(ss)"
   ]
  },
  {
   "cell_type": "code",
   "execution_count": 64,
   "id": "e5418dea-bd28-4c33-a1f4-505f097d260d",
   "metadata": {
    "tags": []
   },
   "outputs": [],
   "source": [
    "### Highlight function\n",
    "\n",
    "import re\n",
    "from colorama import Back, Style\n",
    "\n",
    "\n",
    "def highlight_regex_matches(pattern, text, print_output=True):\n",
    "\toutput = text\n",
    "\tlen_inc = 0\n",
    "\tfor match in pattern.finditer(text):\n",
    "\t\tstart, end = match.start() + len_inc, match.end() + len_inc\n",
    "\t\toutput = output[:start] + Back.YELLOW + Style.BRIGHT + output[start:end] + Style.RESET_ALL + output[end:]\n",
    "\t\tlen_inc = len(output) - len(text)  \n",
    "\n",
    "\tif print_output:\n",
    "\t\tprint(output)\n",
    "\telse:\n",
    "\t\treturn output"
   ]
  },
  {
   "cell_type": "code",
   "execution_count": 65,
   "id": "9ad2f9b9-7f1d-4604-84ac-33788ad272a7",
   "metadata": {
    "tags": []
   },
   "outputs": [
    {
     "name": "stdout",
     "output_type": "stream",
     "text": [
      "\u001b[43m\u001b[1mPython Python\u001b[0m is \u001b[43m\u001b[1mawesome awesome\u001b[0m! \u001b[43m\u001b[1mI I\u001b[0m can \u001b[43m\u001b[1mdo do\u001b[0m this \u001b[43m\u001b[1mall all\u001b[0m day!\n"
     ]
    }
   ],
   "source": [
    "highlight_regex_matches(back_ref, ss)"
   ]
  },
  {
   "cell_type": "code",
   "execution_count": 69,
   "id": "3ab7a9ba-e65a-4069-898b-3d308d5cc8c1",
   "metadata": {
    "tags": []
   },
   "outputs": [
    {
     "name": "stdout",
     "output_type": "stream",
     "text": [
      "Python is awesome! I can do this all day!\n"
     ]
    }
   ],
   "source": [
    "correction = re.sub(r'(\\w+)\\s+\\1\\b', r'\\1', ss)\n",
    "print(correction)"
   ]
  },
  {
   "cell_type": "code",
   "execution_count": 70,
   "id": "c4ecc930-cf8b-4773-bd10-8e788965a731",
   "metadata": {
    "tags": []
   },
   "outputs": [],
   "source": [
    "german_proverb = 'Fear makes the wolf bigger than he is.'\n",
    "\n",
    "#Finding 'Fear' and 'wolf'\n",
    "\n",
    "pattern = re.compile('Fear|wolf')"
   ]
  },
  {
   "cell_type": "code",
   "execution_count": 71,
   "id": "a63ab3a9-faa9-4fe8-89bc-960ae61cc0a7",
   "metadata": {
    "tags": []
   },
   "outputs": [
    {
     "data": {
      "text/plain": [
       "['Fear', 'wolf']"
      ]
     },
     "execution_count": 71,
     "metadata": {},
     "output_type": "execute_result"
    }
   ],
   "source": [
    "pattern.findall(german_proverb)"
   ]
  },
  {
   "cell_type": "code",
   "execution_count": 72,
   "id": "aa9dd66f-3249-44a6-b373-9755d376e3ea",
   "metadata": {
    "tags": []
   },
   "outputs": [
    {
     "name": "stdout",
     "output_type": "stream",
     "text": [
      "\u001b[43m\u001b[1mFear\u001b[0m makes the \u001b[43m\u001b[1mwolf\u001b[0m bigger than he is.\n"
     ]
    }
   ],
   "source": [
    "highlight_regex_matches(pattern, german_proverb)"
   ]
  },
  {
   "cell_type": "code",
   "execution_count": 74,
   "id": "7438f955-7c40-48dd-b1b8-892a22912039",
   "metadata": {
    "tags": []
   },
   "outputs": [],
   "source": [
    "#finding hot, anger, cook, yams\n",
    "african_proverb = 'No matter how hot your anger is, it cannot cook yams'\n",
    "\n",
    "word_match = re.compile('hot|anger|cook|yams')"
   ]
  },
  {
   "cell_type": "code",
   "execution_count": 75,
   "id": "fef82073-4db9-40eb-9269-4845058330eb",
   "metadata": {
    "tags": []
   },
   "outputs": [
    {
     "name": "stdout",
     "output_type": "stream",
     "text": [
      "No matter how \u001b[43m\u001b[1mhot\u001b[0m your \u001b[43m\u001b[1manger\u001b[0m is, it cannot \u001b[43m\u001b[1mcook\u001b[0m \u001b[43m\u001b[1myams\u001b[0m\n"
     ]
    }
   ],
   "source": [
    "highlight_regex_matches(word_match, african_proverb)"
   ]
  },
  {
   "cell_type": "markdown",
   "id": "7974dac9-19df-41b4-92ee-a6c5e62256b6",
   "metadata": {},
   "source": [
    "## Anchors"
   ]
  },
  {
   "cell_type": "code",
   "execution_count": 93,
   "id": "4d9d8f5a-7927-4af7-a8bf-201f7ce54048",
   "metadata": {
    "tags": []
   },
   "outputs": [
    {
     "data": {
      "text/plain": [
       "<re.Match object; span=(0, 4), match='Only'>"
      ]
     },
     "execution_count": 93,
     "metadata": {},
     "output_type": "execute_result"
    }
   ],
   "source": [
    "# '^' and '$' are used to only find the position of text or words in a string\n",
    "\n",
    "african_proverb_2 = 'Only a fool tests the depth of a river with both feet'\n",
    "\n",
    "match = re.search(r'^\\w+', african_proverb_2)\n",
    "#the ^ indicates that we want to look for the regex at the beginning of the string\n",
    "\n",
    "match"
   ]
  },
  {
   "cell_type": "code",
   "execution_count": 81,
   "id": "dcdb3dd3-08db-49c9-b602-00a984fe7bed",
   "metadata": {
    "tags": []
   },
   "outputs": [
    {
     "data": {
      "text/plain": [
       "<re.Match object; span=(49, 53), match='feet'>"
      ]
     },
     "execution_count": 81,
     "metadata": {},
     "output_type": "execute_result"
    }
   ],
   "source": [
    "match_2 = re.search(r'\\w+$',african_proverb_2)\n",
    "match_2"
   ]
  },
  {
   "cell_type": "code",
   "execution_count": 89,
   "id": "2d6755df-c222-42a7-8f77-4187569bb9e0",
   "metadata": {
    "tags": []
   },
   "outputs": [
    {
     "data": {
      "text/plain": [
       "'barking'"
      ]
     },
     "execution_count": 89,
     "metadata": {},
     "output_type": "execute_result"
    }
   ],
   "source": [
    "pop_proverb = 'barking dogs seldom bite'\n",
    "\n",
    "match_3 = re.search(r'^barking', pop_proverb)\n",
    "\n",
    "match_3.group()"
   ]
  },
  {
   "cell_type": "code",
   "execution_count": 90,
   "id": "f8cdd45e-c467-4b66-9a0b-ea89f88477aa",
   "metadata": {
    "tags": []
   },
   "outputs": [
    {
     "data": {
      "text/plain": [
       "'bite'"
      ]
     },
     "execution_count": 90,
     "metadata": {},
     "output_type": "execute_result"
    }
   ],
   "source": [
    "match_4 = re.search(r'bite$', pop_proverb)\n",
    "\n",
    "match_4.group()"
   ]
  },
  {
   "cell_type": "code",
   "execution_count": 92,
   "id": "cfed34f4-00dd-48c4-bdbb-9950a3fb91e9",
   "metadata": {
    "tags": []
   },
   "outputs": [
    {
     "ename": "AttributeError",
     "evalue": "'NoneType' object has no attribute 'group'",
     "output_type": "error",
     "traceback": [
      "\u001b[0;31m---------------------------------------------------------------------------\u001b[0m",
      "\u001b[0;31mAttributeError\u001b[0m                            Traceback (most recent call last)",
      "Cell \u001b[0;32mIn[92], line 3\u001b[0m\n\u001b[1;32m      1\u001b[0m match_5 \u001b[38;5;241m=\u001b[39m re\u001b[38;5;241m.\u001b[39msearch(\u001b[38;5;124mr\u001b[39m\u001b[38;5;124m'\u001b[39m\u001b[38;5;124mseldom$\u001b[39m\u001b[38;5;124m'\u001b[39m, pop_proverb)\n\u001b[0;32m----> 3\u001b[0m match_5\u001b[38;5;241m.\u001b[39mgroup()\n",
      "\u001b[0;31mAttributeError\u001b[0m: 'NoneType' object has no attribute 'group'"
     ]
    }
   ],
   "source": [
    "match_5 = re.search(r'seldom$', pop_proverb)\n",
    "\n",
    "match_5.group()\n",
    "#returns nonetype because seldom isn't the last word in this string"
   ]
  },
  {
   "cell_type": "markdown",
   "id": "2d08b099-7bba-46bb-831e-e6672de6d6e5",
   "metadata": {},
   "source": [
    "## Slots"
   ]
  },
  {
   "cell_type": "code",
   "execution_count": 94,
   "id": "624639eb-5353-4bb0-9986-838ce631c23d",
   "metadata": {
    "tags": []
   },
   "outputs": [],
   "source": [
    "#normal class\n",
    "\n",
    "class Ford:\n",
    "    pass"
   ]
  },
  {
   "cell_type": "code",
   "execution_count": 96,
   "id": "a170430c-e855-445e-9746-ca420970d5a9",
   "metadata": {
    "tags": []
   },
   "outputs": [
    {
     "data": {
      "text/plain": [
       "{}"
      ]
     },
     "execution_count": 96,
     "metadata": {},
     "output_type": "execute_result"
    }
   ],
   "source": [
    "edge = Ford()\n",
    "\n",
    "edge.__dict__"
   ]
  },
  {
   "cell_type": "code",
   "execution_count": 98,
   "id": "862640ce-f039-4fe1-8515-5e513c74b057",
   "metadata": {
    "tags": []
   },
   "outputs": [
    {
     "data": {
      "text/plain": [
       "{'top_speed': 260, 'color': 'Red'}"
      ]
     },
     "execution_count": 98,
     "metadata": {},
     "output_type": "execute_result"
    }
   ],
   "source": [
    "edge.top_speed = 260\n",
    "edge.color = 'Red'\n",
    "\n",
    "edge.__dict__"
   ]
  },
  {
   "cell_type": "code",
   "execution_count": 108,
   "id": "7114d89b-ef99-4696-a731-223c41d280f7",
   "metadata": {
    "tags": []
   },
   "outputs": [
    {
     "data": {
      "text/plain": [
       "{'top_speed': 260, 'color': 'Red', 'Transmission': 'Automatic'}"
      ]
     },
     "execution_count": 108,
     "metadata": {},
     "output_type": "execute_result"
    }
   ],
   "source": [
    "edge.Transmission = \"Automatic\"\n",
    "\n",
    "edge.__dict__"
   ]
  },
  {
   "cell_type": "code",
   "execution_count": 121,
   "id": "02044a96-cbef-4c2a-ad93-717a312ff10c",
   "metadata": {
    "tags": []
   },
   "outputs": [],
   "source": [
    "class toyota:\n",
    "    __slots__ = ('Transmission', 'Number_of_doors')\n",
    "    \n",
    "corolla = toyota()"
   ]
  },
  {
   "cell_type": "code",
   "execution_count": 102,
   "id": "3d695cf1-9378-4b22-a30f-cfc43762a9b4",
   "metadata": {
    "tags": []
   },
   "outputs": [],
   "source": [
    "corolla.__slots__\n",
    "\n",
    "corolla.Transmission = 'Automatic'\n",
    "corolla.Number_of_doors = 4"
   ]
  },
  {
   "cell_type": "code",
   "execution_count": 109,
   "id": "a4b3793c-27d2-426d-b61f-b292db456f1c",
   "metadata": {
    "tags": []
   },
   "outputs": [
    {
     "ename": "AttributeError",
     "evalue": "'toyota' object has no attribute 'air_conditioning'",
     "output_type": "error",
     "traceback": [
      "\u001b[0;31m---------------------------------------------------------------------------\u001b[0m",
      "\u001b[0;31mAttributeError\u001b[0m                            Traceback (most recent call last)",
      "Cell \u001b[0;32mIn[109], line 1\u001b[0m\n\u001b[0;32m----> 1\u001b[0m corolla\u001b[38;5;241m.\u001b[39mair_conditioning \u001b[38;5;241m=\u001b[39m \u001b[38;5;124m'\u001b[39m\u001b[38;5;124mYes\u001b[39m\u001b[38;5;124m'\u001b[39m\n",
      "\u001b[0;31mAttributeError\u001b[0m: 'toyota' object has no attribute 'air_conditioning'"
     ]
    }
   ],
   "source": [
    "corolla.air_conditioning = 'Yes'\n",
    "#Only attributes instantiated with the slots can be used with this class\n",
    "#Slots prevent the addition of new attributes"
   ]
  },
  {
   "cell_type": "code",
   "execution_count": 110,
   "id": "2df136da-bca9-4760-8349-6b30db42b1a7",
   "metadata": {
    "tags": []
   },
   "outputs": [],
   "source": [
    "class Kia:\n",
    "    __slots__ = ('Transmission', 'Color', 'num_doors', '__dict__')"
   ]
  },
  {
   "cell_type": "code",
   "execution_count": 111,
   "id": "d0b173e8-9898-49fd-bdf2-7d5d6a7ba97d",
   "metadata": {
    "tags": []
   },
   "outputs": [],
   "source": [
    "optima = Kia()"
   ]
  },
  {
   "cell_type": "code",
   "execution_count": 113,
   "id": "58b8e4af-b688-4418-bfc8-4854018b774d",
   "metadata": {
    "tags": []
   },
   "outputs": [
    {
     "data": {
      "text/plain": [
       "('Transmission', 'Color', 'num_doors', '__dict__')"
      ]
     },
     "execution_count": 113,
     "metadata": {},
     "output_type": "execute_result"
    }
   ],
   "source": [
    "optima.__slots__"
   ]
  },
  {
   "cell_type": "code",
   "execution_count": 114,
   "id": "68b1f3a2-e965-41f4-85e6-67f8fdb1d928",
   "metadata": {
    "tags": []
   },
   "outputs": [
    {
     "data": {
      "text/plain": [
       "{}"
      ]
     },
     "execution_count": 114,
     "metadata": {},
     "output_type": "execute_result"
    }
   ],
   "source": [
    "optima.__dict__"
   ]
  },
  {
   "cell_type": "code",
   "execution_count": 119,
   "id": "9d2929b6-8ce1-4366-b5cd-d8bd4c3ba5d0",
   "metadata": {
    "tags": []
   },
   "outputs": [],
   "source": [
    "optima.wheels = 4\n",
    "\n",
    "optima.__dict__\n",
    "\n",
    "optima.Color = 'Red'"
   ]
  },
  {
   "cell_type": "code",
   "execution_count": null,
   "id": "6f96c214-caa0-4290-8c7d-88a3bfe0ae77",
   "metadata": {},
   "outputs": [],
   "source": [
    "# Inheritance"
   ]
  },
  {
   "cell_type": "code",
   "execution_count": 123,
   "id": "7582a807-d353-417e-baae-300f6251a1e7",
   "metadata": {
    "tags": []
   },
   "outputs": [],
   "source": [
    "class Lexus(toyota):\n",
    "    pass"
   ]
  },
  {
   "cell_type": "code",
   "execution_count": 124,
   "id": "3cad8b39-8994-431b-b145-fc46556f84a5",
   "metadata": {
    "tags": []
   },
   "outputs": [],
   "source": [
    "is_250 = Lexus()"
   ]
  },
  {
   "cell_type": "code",
   "execution_count": 125,
   "id": "9688bdfe-4081-4e9a-aac4-2635bb0dca09",
   "metadata": {
    "tags": []
   },
   "outputs": [
    {
     "data": {
      "text/plain": [
       "('Transmission', 'Number_of_doors')"
      ]
     },
     "execution_count": 125,
     "metadata": {},
     "output_type": "execute_result"
    }
   ],
   "source": [
    "is_250.__slots__"
   ]
  },
  {
   "cell_type": "code",
   "execution_count": 126,
   "id": "2d1376ff-3b4d-4abe-a716-fd55db90ad96",
   "metadata": {
    "tags": []
   },
   "outputs": [
    {
     "data": {
      "text/plain": [
       "{}"
      ]
     },
     "execution_count": 126,
     "metadata": {},
     "output_type": "execute_result"
    }
   ],
   "source": [
    "is_250.__dict__"
   ]
  },
  {
   "cell_type": "code",
   "execution_count": 127,
   "id": "361eab80-5d46-417e-9677-402a9bfe055b",
   "metadata": {
    "tags": []
   },
   "outputs": [],
   "source": [
    "is_250.transmission = \"manual\"\n",
    "is_250.no_doors = 2"
   ]
  },
  {
   "cell_type": "code",
   "execution_count": 130,
   "id": "27f88b76-b507-468c-ac5f-718224b8b049",
   "metadata": {
    "tags": []
   },
   "outputs": [
    {
     "name": "stdout",
     "output_type": "stream",
     "text": [
      "{'transmission': 'manual', 'no_doors': 2} ('Transmission', 'Number_of_doors')\n"
     ]
    }
   ],
   "source": [
    "print(is_250.__dict__,is_250.__slots__)"
   ]
  },
  {
   "cell_type": "code",
   "execution_count": null,
   "id": "9eb22578-f870-4d0a-8f66-f25004225f1a",
   "metadata": {},
   "outputs": [],
   "source": [
    "#Using slots instead of __dict__ often decreases RAM usage by 50%"
   ]
  },
  {
   "cell_type": "markdown",
   "id": "06520fc3-e219-42c4-9edd-56b2f5c2cc37",
   "metadata": {},
   "source": [
    "## Virtual Env"
   ]
  },
  {
   "cell_type": "code",
   "execution_count": 1,
   "id": "81dd2708-027f-4bf9-a61b-83d30b314488",
   "metadata": {
    "tags": []
   },
   "outputs": [
    {
     "data": {
      "text/plain": [
       "'2.0.3'"
      ]
     },
     "execution_count": 1,
     "metadata": {},
     "output_type": "execute_result"
    }
   ],
   "source": [
    "import pandas as pd\n",
    "\n",
    "pd.__version__"
   ]
  },
  {
   "cell_type": "markdown",
   "id": "f7450538-f347-4c73-bbfe-c8e1171272b8",
   "metadata": {
    "tags": []
   },
   "source": [
    "## Collections"
   ]
  },
  {
   "cell_type": "markdown",
   "id": "188718e5-af2b-4088-bdb1-8a3e12621392",
   "metadata": {},
   "source": [
    "### Default dictionaries"
   ]
  },
  {
   "cell_type": "code",
   "execution_count": 2,
   "id": "3f9dab7b-2fc5-41a1-a8ec-4556f31f0e96",
   "metadata": {
    "tags": []
   },
   "outputs": [],
   "source": [
    "normal_dict = {}"
   ]
  },
  {
   "cell_type": "code",
   "execution_count": 3,
   "id": "d6e56fef-de79-46a4-be96-b6f6101d18b8",
   "metadata": {
    "tags": []
   },
   "outputs": [
    {
     "ename": "KeyError",
     "evalue": "'key'",
     "output_type": "error",
     "traceback": [
      "\u001b[0;31m---------------------------------------------------------------------------\u001b[0m",
      "\u001b[0;31mKeyError\u001b[0m                                  Traceback (most recent call last)",
      "Cell \u001b[0;32mIn[3], line 1\u001b[0m\n\u001b[0;32m----> 1\u001b[0m normal_dict[\u001b[38;5;124m'\u001b[39m\u001b[38;5;124mkey\u001b[39m\u001b[38;5;124m'\u001b[39m]\n",
      "\u001b[0;31mKeyError\u001b[0m: 'key'"
     ]
    }
   ],
   "source": [
    "normal_dict['key']"
   ]
  },
  {
   "cell_type": "code",
   "execution_count": 4,
   "id": "616ef10b-24dd-40cf-b1f3-9e7d338e2782",
   "metadata": {
    "tags": []
   },
   "outputs": [],
   "source": [
    "from collections import defaultdict"
   ]
  },
  {
   "cell_type": "code",
   "execution_count": 5,
   "id": "78a952f0-2d8b-4d1f-8b8a-a20794179f3a",
   "metadata": {
    "tags": []
   },
   "outputs": [],
   "source": [
    "dd_dict = defaultdict(lambda:100)"
   ]
  },
  {
   "cell_type": "code",
   "execution_count": 7,
   "id": "61ab4b47-43ee-4563-b3da-32e88d75eb8c",
   "metadata": {
    "tags": []
   },
   "outputs": [
    {
     "data": {
      "text/plain": [
       "100"
      ]
     },
     "execution_count": 7,
     "metadata": {},
     "output_type": "execute_result"
    }
   ],
   "source": [
    "dd_dict['key']"
   ]
  },
  {
   "cell_type": "code",
   "execution_count": 8,
   "id": "be1e8382-ce9c-4514-882b-b6e3fdc2fa6d",
   "metadata": {
    "tags": []
   },
   "outputs": [
    {
     "data": {
      "text/plain": [
       "100"
      ]
     },
     "execution_count": 8,
     "metadata": {},
     "output_type": "execute_result"
    }
   ],
   "source": [
    "dd_dict['key_1']"
   ]
  },
  {
   "cell_type": "code",
   "execution_count": 9,
   "id": "9dc8f8a7-d39e-411b-99ef-335a83a33893",
   "metadata": {
    "tags": []
   },
   "outputs": [
    {
     "data": {
      "text/plain": [
       "defaultdict(<function __main__.<lambda>()>, {'key': 100, 'key_1': 100})"
      ]
     },
     "execution_count": 9,
     "metadata": {},
     "output_type": "execute_result"
    }
   ],
   "source": [
    "dd_dict"
   ]
  },
  {
   "cell_type": "code",
   "execution_count": null,
   "id": "2b8c2a5b-3f73-42fe-9cde-dfcdde37db1d",
   "metadata": {},
   "outputs": [],
   "source": [
    "## passing builtin types"
   ]
  },
  {
   "cell_type": "code",
   "execution_count": 10,
   "id": "02197ace-a00c-4684-92dc-0d1360ab125b",
   "metadata": {
    "tags": []
   },
   "outputs": [],
   "source": [
    "int_dict = defaultdict(int)\n",
    "\n",
    "f_dict = defaultdict(float)\n",
    "\n",
    "str_dict = defaultdict(str)"
   ]
  },
  {
   "cell_type": "code",
   "execution_count": 15,
   "id": "85dfb063-2523-4651-a738-f546c71c6538",
   "metadata": {
    "tags": []
   },
   "outputs": [
    {
     "data": {
      "text/plain": [
       "defaultdict(int, {'first': 0})"
      ]
     },
     "execution_count": 15,
     "metadata": {},
     "output_type": "execute_result"
    }
   ],
   "source": [
    "int_dict"
   ]
  },
  {
   "cell_type": "code",
   "execution_count": 14,
   "id": "bebadcbb-f5b6-4b75-a9c9-d2cb715bd022",
   "metadata": {
    "tags": []
   },
   "outputs": [
    {
     "data": {
      "text/plain": [
       "0"
      ]
     },
     "execution_count": 14,
     "metadata": {},
     "output_type": "execute_result"
    }
   ],
   "source": [
    "int_dict['first']"
   ]
  },
  {
   "cell_type": "code",
   "execution_count": 18,
   "id": "85df7fc5-c23f-4820-b4f6-57a2b5b3ec64",
   "metadata": {
    "tags": []
   },
   "outputs": [
    {
     "data": {
      "text/plain": [
       "defaultdict(float, {'second': 0.0})"
      ]
     },
     "execution_count": 18,
     "metadata": {},
     "output_type": "execute_result"
    }
   ],
   "source": [
    "f_dict"
   ]
  },
  {
   "cell_type": "code",
   "execution_count": 16,
   "id": "7ea85b5d-fc28-40a8-98f3-bb5926030b39",
   "metadata": {
    "tags": []
   },
   "outputs": [
    {
     "data": {
      "text/plain": [
       "0.0"
      ]
     },
     "execution_count": 16,
     "metadata": {},
     "output_type": "execute_result"
    }
   ],
   "source": [
    "f_dict['second']"
   ]
  },
  {
   "cell_type": "code",
   "execution_count": 27,
   "id": "fd0c0274-967d-4878-8fe9-14ca2ca9c90b",
   "metadata": {
    "tags": []
   },
   "outputs": [
    {
     "data": {
      "text/plain": [
       "defaultdict(str, {'third': 3, 'red': ''})"
      ]
     },
     "execution_count": 27,
     "metadata": {},
     "output_type": "execute_result"
    }
   ],
   "source": [
    "str_dict"
   ]
  },
  {
   "cell_type": "code",
   "execution_count": 26,
   "id": "02e136dc-7ad4-4db2-95f4-77e044dc6909",
   "metadata": {
    "tags": []
   },
   "outputs": [
    {
     "data": {
      "text/plain": [
       "''"
      ]
     },
     "execution_count": 26,
     "metadata": {},
     "output_type": "execute_result"
    }
   ],
   "source": [
    "str_dict['red']"
   ]
  },
  {
   "cell_type": "code",
   "execution_count": null,
   "id": "ee0e06b3-24dd-4ad4-80b6-0c05f090e028",
   "metadata": {},
   "outputs": [],
   "source": [
    "## List default"
   ]
  },
  {
   "cell_type": "code",
   "execution_count": 28,
   "id": "3e37af56-8212-49d1-aaad-31e9736fa1b8",
   "metadata": {
    "tags": []
   },
   "outputs": [],
   "source": [
    "list_dict = defaultdict(list)"
   ]
  },
  {
   "cell_type": "code",
   "execution_count": 29,
   "id": "483f0e9e-63c4-4a32-940d-2ebeb2267b9e",
   "metadata": {
    "tags": []
   },
   "outputs": [
    {
     "data": {
      "text/plain": [
       "defaultdict(list, {})"
      ]
     },
     "execution_count": 29,
     "metadata": {},
     "output_type": "execute_result"
    }
   ],
   "source": [
    "list_dict"
   ]
  },
  {
   "cell_type": "code",
   "execution_count": 30,
   "id": "88ec50ab-feb4-46f5-900b-6af0ad5a92b1",
   "metadata": {
    "tags": []
   },
   "outputs": [
    {
     "data": {
      "text/plain": [
       "[]"
      ]
     },
     "execution_count": 30,
     "metadata": {},
     "output_type": "execute_result"
    }
   ],
   "source": [
    "list_dict['key']"
   ]
  },
  {
   "cell_type": "code",
   "execution_count": 31,
   "id": "60c68685-ef09-49f5-abfc-7aa0b18a06a4",
   "metadata": {
    "tags": []
   },
   "outputs": [
    {
     "data": {
      "text/plain": [
       "defaultdict(list, {'key': []})"
      ]
     },
     "execution_count": 31,
     "metadata": {},
     "output_type": "execute_result"
    }
   ],
   "source": [
    "list_dict"
   ]
  },
  {
   "cell_type": "code",
   "execution_count": 32,
   "id": "86cb035a-ae1c-4fd8-ba2a-ede2e3eafeac",
   "metadata": {
    "tags": []
   },
   "outputs": [],
   "source": [
    "list_dict['key'].append(\"Value 1\")"
   ]
  },
  {
   "cell_type": "code",
   "execution_count": 34,
   "id": "697f1974-4475-45e6-a22f-7c50d4e87077",
   "metadata": {
    "tags": []
   },
   "outputs": [
    {
     "data": {
      "text/plain": [
       "defaultdict(list, {'key': ['Value 1']})"
      ]
     },
     "execution_count": 34,
     "metadata": {},
     "output_type": "execute_result"
    }
   ],
   "source": [
    "list_dict"
   ]
  },
  {
   "cell_type": "code",
   "execution_count": 35,
   "id": "c7329a44-b7ff-4356-ae31-c7c59472fb1e",
   "metadata": {
    "tags": []
   },
   "outputs": [],
   "source": [
    "list_dict['key 2'].append('Value 2')"
   ]
  },
  {
   "cell_type": "code",
   "execution_count": 36,
   "id": "572f0977-4547-444d-b937-31669363cf4e",
   "metadata": {
    "tags": []
   },
   "outputs": [
    {
     "data": {
      "text/plain": [
       "defaultdict(list, {'key': ['Value 1'], 'key 2': ['Value 2']})"
      ]
     },
     "execution_count": 36,
     "metadata": {},
     "output_type": "execute_result"
    }
   ],
   "source": [
    "list_dict"
   ]
  },
  {
   "cell_type": "code",
   "execution_count": 37,
   "id": "96eb8ad0-e9ed-48b1-88e0-a72820e1eed1",
   "metadata": {
    "tags": []
   },
   "outputs": [],
   "source": [
    "colors = (('Anne', \"Blue\"),\n",
    "          (\"Becky\", 'Red'),\n",
    "          ('Charles', \"Green\"))"
   ]
  },
  {
   "cell_type": "code",
   "execution_count": 38,
   "id": "14d5b6df-2b7c-44c2-aee6-8666bc886336",
   "metadata": {
    "tags": []
   },
   "outputs": [],
   "source": [
    "fav_colors = defaultdict(list)"
   ]
  },
  {
   "cell_type": "code",
   "execution_count": 39,
   "id": "f019efe9-26ae-4855-8d5a-692cc1415953",
   "metadata": {
    "tags": []
   },
   "outputs": [],
   "source": [
    "for name, color in colors:\n",
    "    fav_colors[name].append(color)"
   ]
  },
  {
   "cell_type": "code",
   "execution_count": 40,
   "id": "e03088df-79c0-47b3-b9cf-091de838c518",
   "metadata": {
    "tags": []
   },
   "outputs": [
    {
     "data": {
      "text/plain": [
       "defaultdict(list, {'Anne': ['Blue'], 'Becky': ['Red'], 'Charles': ['Green']})"
      ]
     },
     "execution_count": 40,
     "metadata": {},
     "output_type": "execute_result"
    }
   ],
   "source": [
    "fav_colors"
   ]
  },
  {
   "cell_type": "code",
   "execution_count": null,
   "id": "90fd1edd-1dd6-46e7-bb93-3d7ea51a73ae",
   "metadata": {},
   "outputs": [],
   "source": [
    "## tuples"
   ]
  },
  {
   "cell_type": "code",
   "execution_count": 41,
   "id": "196051b9-06cb-4254-b43c-cc3851eea98e",
   "metadata": {
    "tags": []
   },
   "outputs": [
    {
     "data": {
      "text/plain": [
       "()"
      ]
     },
     "execution_count": 41,
     "metadata": {},
     "output_type": "execute_result"
    }
   ],
   "source": [
    "tup_dict = defaultdict(tuple)\n",
    "\n",
    "tup_dict['key']"
   ]
  },
  {
   "cell_type": "code",
   "execution_count": 42,
   "id": "3112ef1f-a195-412c-aeac-13de51e08e04",
   "metadata": {
    "tags": []
   },
   "outputs": [
    {
     "data": {
      "text/plain": [
       "defaultdict(tuple, {'key': ()})"
      ]
     },
     "execution_count": 42,
     "metadata": {},
     "output_type": "execute_result"
    }
   ],
   "source": [
    "tup_dict"
   ]
  },
  {
   "cell_type": "code",
   "execution_count": 43,
   "id": "ccba87ff-2ecc-40db-a50f-b76b8a741372",
   "metadata": {
    "tags": []
   },
   "outputs": [],
   "source": [
    "tup_dict['key'] = (1,2,3,4,5)"
   ]
  },
  {
   "cell_type": "code",
   "execution_count": 44,
   "id": "9e5e1314-3851-43e5-a1ef-daeb2e801dea",
   "metadata": {
    "tags": []
   },
   "outputs": [
    {
     "data": {
      "text/plain": [
       "defaultdict(tuple, {'key': (1, 2, 3, 4, 5)})"
      ]
     },
     "execution_count": 44,
     "metadata": {},
     "output_type": "execute_result"
    }
   ],
   "source": [
    "tup_dict"
   ]
  },
  {
   "cell_type": "code",
   "execution_count": 46,
   "id": "d14bcc72-3cbc-4101-9d13-4f80e1ac8b28",
   "metadata": {
    "tags": []
   },
   "outputs": [],
   "source": [
    "## dictionary\n",
    "\n",
    "d_dict = defaultdict(dict)"
   ]
  },
  {
   "cell_type": "code",
   "execution_count": 47,
   "id": "6eb04c0b-ec07-478d-9ce7-3ac917e5f915",
   "metadata": {
    "tags": []
   },
   "outputs": [
    {
     "data": {
      "text/plain": [
       "{}"
      ]
     },
     "execution_count": 47,
     "metadata": {},
     "output_type": "execute_result"
    }
   ],
   "source": [
    "d_dict['key']"
   ]
  },
  {
   "cell_type": "code",
   "execution_count": 48,
   "id": "c29c4438-f0ee-49fb-af33-d4396376a780",
   "metadata": {
    "tags": []
   },
   "outputs": [],
   "source": [
    "d_dict['key'] = ({'Sam':'Hello'})"
   ]
  },
  {
   "cell_type": "markdown",
   "id": "ada34eac-c559-41ef-950d-bc40208fd7c5",
   "metadata": {
    "tags": []
   },
   "source": [
    "### Ordered dictionaries"
   ]
  },
  {
   "cell_type": "code",
   "execution_count": 53,
   "id": "91c1da35-d5a5-41de-9d50-1ca0d00e4d5d",
   "metadata": {
    "tags": []
   },
   "outputs": [
    {
     "name": "stdout",
     "output_type": "stream",
     "text": [
      "3.11.5 (main, Sep 11 2023, 08:19:27) [Clang 14.0.6 ]\n"
     ]
    }
   ],
   "source": [
    "import sys\n",
    "print(sys.version)\n",
    "#Dictionaries are already ordered bc version > 3.6"
   ]
  },
  {
   "cell_type": "code",
   "execution_count": 54,
   "id": "9ffca5f7-4673-4b10-b579-8d1c45f4a305",
   "metadata": {
    "tags": []
   },
   "outputs": [],
   "source": [
    "colors = {\"red\":100,'blue':200,'Green':300}"
   ]
  },
  {
   "cell_type": "code",
   "execution_count": 57,
   "id": "967e5f13-1327-4922-95ce-2a8dc6c6b623",
   "metadata": {
    "tags": []
   },
   "outputs": [
    {
     "name": "stdout",
     "output_type": "stream",
     "text": [
      "red 100\n",
      "blue 200\n",
      "Green 300\n"
     ]
    }
   ],
   "source": [
    "for key, value in colors.items(): #this is already ordered\n",
    "    print(key, value)"
   ]
  },
  {
   "cell_type": "markdown",
   "id": "b44f698e-7668-4681-a723-b7fc11d4227a",
   "metadata": {},
   "source": [
    "## Counter"
   ]
  },
  {
   "cell_type": "code",
   "execution_count": 2,
   "id": "8477ae77-f8c1-484e-a190-924040bace8b",
   "metadata": {
    "tags": []
   },
   "outputs": [],
   "source": [
    "from collections import Counter"
   ]
  },
  {
   "cell_type": "code",
   "execution_count": 4,
   "id": "3a0e721a-d11d-4248-aa97-143e6a97dcd4",
   "metadata": {
    "tags": []
   },
   "outputs": [],
   "source": [
    "colors = (('Anne', \"Blue\"),\n",
    "          (\"Becky\", 'Red'),\n",
    "          ('Charles', \"Green\"),\n",
    "          ('Anne','Indigo'),\n",
    "          ('Charles', 'Purple'))"
   ]
  },
  {
   "cell_type": "code",
   "execution_count": 5,
   "id": "278fb4ab-ad10-4192-a81f-a53e062fa470",
   "metadata": {
    "tags": []
   },
   "outputs": [],
   "source": [
    "fav = [name for name, color in colors]"
   ]
  },
  {
   "cell_type": "code",
   "execution_count": 6,
   "id": "9efb7a92-5b91-4c23-bdd2-eb34f758acd4",
   "metadata": {
    "tags": []
   },
   "outputs": [
    {
     "data": {
      "text/plain": [
       "['Anne', 'Becky', 'Charles', 'Anne', 'Charles']"
      ]
     },
     "execution_count": 6,
     "metadata": {},
     "output_type": "execute_result"
    }
   ],
   "source": [
    "fav"
   ]
  },
  {
   "cell_type": "code",
   "execution_count": 7,
   "id": "63f801e9-abd4-4873-b427-74a2c1ff1d64",
   "metadata": {
    "tags": []
   },
   "outputs": [
    {
     "data": {
      "text/plain": [
       "Counter({'Anne': 2, 'Charles': 2, 'Becky': 1})"
      ]
     },
     "execution_count": 7,
     "metadata": {},
     "output_type": "execute_result"
    }
   ],
   "source": [
    "Counter(fav)"
   ]
  },
  {
   "cell_type": "markdown",
   "id": "3e90be54-b35c-4355-ba63-e95d45cc78b9",
   "metadata": {},
   "source": [
    "## Deque"
   ]
  },
  {
   "cell_type": "code",
   "execution_count": 8,
   "id": "4aadffc6-4665-4faa-81be-32e42843c256",
   "metadata": {
    "tags": []
   },
   "outputs": [],
   "source": [
    "from collections import deque"
   ]
  },
  {
   "cell_type": "code",
   "execution_count": 11,
   "id": "ae95426e-07fa-4816-8bd8-e7d473ca9d12",
   "metadata": {
    "tags": []
   },
   "outputs": [
    {
     "data": {
      "text/plain": [
       "deque(['H', 'e', 'l', 'l', 'o'])"
      ]
     },
     "execution_count": 11,
     "metadata": {},
     "output_type": "execute_result"
    }
   ],
   "source": [
    "deq = deque(\"Hello\")\n",
    "\n",
    "deq"
   ]
  },
  {
   "cell_type": "code",
   "execution_count": 18,
   "id": "c24655a4-3367-47fe-a3c1-72b7492eb180",
   "metadata": {
    "tags": []
   },
   "outputs": [],
   "source": [
    "#append()\n",
    "deq.append(4)"
   ]
  },
  {
   "cell_type": "code",
   "execution_count": 17,
   "id": "3b9ad703-270f-48c7-bcba-28fc5e8d5f88",
   "metadata": {
    "tags": []
   },
   "outputs": [
    {
     "data": {
      "text/plain": [
       "deque([5, 'H', 'e', 'l', 'l', 'o', 4, 4])"
      ]
     },
     "execution_count": 17,
     "metadata": {},
     "output_type": "execute_result"
    }
   ],
   "source": [
    "deq"
   ]
  },
  {
   "cell_type": "code",
   "execution_count": 15,
   "id": "0eba84ec-bde5-4b06-ae7f-0237f1a1195c",
   "metadata": {
    "tags": []
   },
   "outputs": [],
   "source": [
    "#appendleft()\n",
    "deq.appendleft(5)"
   ]
  },
  {
   "cell_type": "code",
   "execution_count": 19,
   "id": "53666bd7-f36e-4eb2-b4ba-022fc972e873",
   "metadata": {
    "tags": []
   },
   "outputs": [
    {
     "data": {
      "text/plain": [
       "deque([5, 'H', 'e', 'l', 'l', 'o', 4, 4, 4])"
      ]
     },
     "execution_count": 19,
     "metadata": {},
     "output_type": "execute_result"
    }
   ],
   "source": [
    "deq"
   ]
  },
  {
   "cell_type": "code",
   "execution_count": 25,
   "id": "54e76dcb-aba3-4573-9cd2-8781f581df15",
   "metadata": {
    "tags": []
   },
   "outputs": [
    {
     "data": {
      "text/plain": [
       "4"
      ]
     },
     "execution_count": 25,
     "metadata": {},
     "output_type": "execute_result"
    }
   ],
   "source": [
    "#pop()\n",
    "deq.pop()"
   ]
  },
  {
   "cell_type": "code",
   "execution_count": 26,
   "id": "d7c4a5a9-e6d0-4483-bd53-61a2173308b1",
   "metadata": {
    "tags": []
   },
   "outputs": [
    {
     "data": {
      "text/plain": [
       "deque([5, 'H', 'e', 'l', 'l', 'o'])"
      ]
     },
     "execution_count": 26,
     "metadata": {},
     "output_type": "execute_result"
    }
   ],
   "source": [
    "deq"
   ]
  },
  {
   "cell_type": "code",
   "execution_count": null,
   "id": "01d4c3a6-eeb9-4f46-9394-260cf0789d0f",
   "metadata": {},
   "outputs": [],
   "source": [
    "#popleft()"
   ]
  },
  {
   "cell_type": "code",
   "execution_count": 27,
   "id": "e5ad5509-a466-4899-a2a0-d7cf7e9dc378",
   "metadata": {
    "tags": []
   },
   "outputs": [
    {
     "data": {
      "text/plain": [
       "5"
      ]
     },
     "execution_count": 27,
     "metadata": {},
     "output_type": "execute_result"
    }
   ],
   "source": [
    "deq.popleft()"
   ]
  },
  {
   "cell_type": "code",
   "execution_count": 28,
   "id": "c5f3a41e-e3e7-4281-9c0b-b35da141e95f",
   "metadata": {
    "tags": []
   },
   "outputs": [
    {
     "data": {
      "text/plain": [
       "deque(['H', 'e', 'l', 'l', 'o'])"
      ]
     },
     "execution_count": 28,
     "metadata": {},
     "output_type": "execute_result"
    }
   ],
   "source": [
    "deq"
   ]
  },
  {
   "cell_type": "code",
   "execution_count": 30,
   "id": "4eafdc3a-a645-4cf2-a24d-5c7e1c9a6be1",
   "metadata": {
    "tags": []
   },
   "outputs": [],
   "source": [
    "#extend()\n",
    "\n",
    "deq.extend([4,5,6,7,8,100])"
   ]
  },
  {
   "cell_type": "code",
   "execution_count": null,
   "id": "a8978a78-755a-4f45-8c79-2f56733685b3",
   "metadata": {},
   "outputs": [],
   "source": [
    "deq"
   ]
  },
  {
   "cell_type": "code",
   "execution_count": 32,
   "id": "3c03e3d1-3250-4d7c-8489-6d147a9450ae",
   "metadata": {
    "tags": []
   },
   "outputs": [],
   "source": [
    "deq.extend('Hey')"
   ]
  },
  {
   "cell_type": "code",
   "execution_count": 33,
   "id": "9c2daa6c-7518-4c64-8e8e-2a723cbf094f",
   "metadata": {
    "tags": []
   },
   "outputs": [
    {
     "data": {
      "text/plain": [
       "deque(['H', 'e', 'l', 'l', 'o', 4, 5, 6, 7, 8, 100, 'H', 'e', 'y'])"
      ]
     },
     "execution_count": 33,
     "metadata": {},
     "output_type": "execute_result"
    }
   ],
   "source": [
    "deq"
   ]
  },
  {
   "cell_type": "code",
   "execution_count": 34,
   "id": "af0aa5ae-3fa9-49de-8d8a-0af47d22bcfc",
   "metadata": {
    "tags": []
   },
   "outputs": [],
   "source": [
    "deq.extendleft('_____')"
   ]
  },
  {
   "cell_type": "code",
   "execution_count": 38,
   "id": "5307c06b-4772-4415-a6cc-1aef40b13983",
   "metadata": {
    "tags": []
   },
   "outputs": [
    {
     "data": {
      "text/plain": [
       "'_'"
      ]
     },
     "execution_count": 38,
     "metadata": {},
     "output_type": "execute_result"
    }
   ],
   "source": [
    "deq.popleft()"
   ]
  },
  {
   "cell_type": "code",
   "execution_count": 39,
   "id": "628c18be-7151-4ea0-906f-b55df9d20a93",
   "metadata": {
    "tags": []
   },
   "outputs": [
    {
     "data": {
      "text/plain": [
       "deque(['_', '_', 'H', 'e', 'l', 'l', 'o', 4, 5, 6, 7, 8, 100, 'H', 'e', 'y'])"
      ]
     },
     "execution_count": 39,
     "metadata": {},
     "output_type": "execute_result"
    }
   ],
   "source": [
    "deq"
   ]
  },
  {
   "cell_type": "code",
   "execution_count": 40,
   "id": "2f072781-1319-47c8-802c-083304909db0",
   "metadata": {
    "tags": []
   },
   "outputs": [],
   "source": [
    "deq.extendleft(['full_word'])"
   ]
  },
  {
   "cell_type": "code",
   "execution_count": 41,
   "id": "d5f407ed-c8ae-4f0a-b293-ecfcae86f3a7",
   "metadata": {
    "tags": []
   },
   "outputs": [
    {
     "data": {
      "text/plain": [
       "deque(['full_word',\n",
       "       '_',\n",
       "       '_',\n",
       "       'H',\n",
       "       'e',\n",
       "       'l',\n",
       "       'l',\n",
       "       'o',\n",
       "       4,\n",
       "       5,\n",
       "       6,\n",
       "       7,\n",
       "       8,\n",
       "       100,\n",
       "       'H',\n",
       "       'e',\n",
       "       'y'])"
      ]
     },
     "execution_count": 41,
     "metadata": {},
     "output_type": "execute_result"
    }
   ],
   "source": [
    "deq"
   ]
  },
  {
   "cell_type": "code",
   "execution_count": 42,
   "id": "24f14f44-69b8-420f-87cf-5cab24cc8ab7",
   "metadata": {
    "tags": []
   },
   "outputs": [
    {
     "data": {
      "text/plain": [
       "'full_word'"
      ]
     },
     "execution_count": 42,
     "metadata": {},
     "output_type": "execute_result"
    }
   ],
   "source": [
    "deq.popleft()"
   ]
  },
  {
   "cell_type": "code",
   "execution_count": 43,
   "id": "f2877623-6062-4e60-9412-7a7252055a9b",
   "metadata": {
    "tags": []
   },
   "outputs": [
    {
     "data": {
      "text/plain": [
       "deque(['_', '_', 'H', 'e', 'l', 'l', 'o', 4, 5, 6, 7, 8, 100, 'H', 'e', 'y'])"
      ]
     },
     "execution_count": 43,
     "metadata": {},
     "output_type": "execute_result"
    }
   ],
   "source": [
    "deq"
   ]
  },
  {
   "cell_type": "code",
   "execution_count": 46,
   "id": "42379936-f52d-42ff-9d10-5f2d4f6c5041",
   "metadata": {
    "tags": []
   },
   "outputs": [],
   "source": [
    "dq = deque([i for i in range(1,11)])"
   ]
  },
  {
   "cell_type": "code",
   "execution_count": 47,
   "id": "4bd8ad68-3a7a-47e0-b006-b1ad05abfe02",
   "metadata": {
    "tags": []
   },
   "outputs": [
    {
     "data": {
      "text/plain": [
       "deque([1, 2, 3, 4, 5, 6, 7, 8, 9, 10])"
      ]
     },
     "execution_count": 47,
     "metadata": {},
     "output_type": "execute_result"
    }
   ],
   "source": [
    "dq"
   ]
  },
  {
   "cell_type": "code",
   "execution_count": 48,
   "id": "a02c339b-4df6-4966-b8aa-c8913e883732",
   "metadata": {
    "tags": []
   },
   "outputs": [
    {
     "data": {
      "text/plain": [
       "deque([10, 1, 2, 3, 4, 5, 6, 7, 8, 9])"
      ]
     },
     "execution_count": 48,
     "metadata": {},
     "output_type": "execute_result"
    }
   ],
   "source": [
    "#rotate()\n",
    "dq.rotate()\n",
    "\n",
    "dq"
   ]
  },
  {
   "cell_type": "code",
   "execution_count": 49,
   "id": "99329deb-d874-4e74-aad5-17fd72795e35",
   "metadata": {
    "tags": []
   },
   "outputs": [],
   "source": [
    "dq.rotate(2)"
   ]
  },
  {
   "cell_type": "code",
   "execution_count": 50,
   "id": "482fad0b-edcc-4515-88fe-ef97aad1b22f",
   "metadata": {
    "tags": []
   },
   "outputs": [
    {
     "data": {
      "text/plain": [
       "deque([8, 9, 10, 1, 2, 3, 4, 5, 6, 7])"
      ]
     },
     "execution_count": 50,
     "metadata": {},
     "output_type": "execute_result"
    }
   ],
   "source": [
    "dq"
   ]
  },
  {
   "cell_type": "code",
   "execution_count": 51,
   "id": "c1635938-8700-4909-8410-7b6b530cd6ee",
   "metadata": {
    "tags": []
   },
   "outputs": [],
   "source": [
    "dq.rotate(-2)"
   ]
  },
  {
   "cell_type": "code",
   "execution_count": 52,
   "id": "6a8a4d8c-d7e8-4168-9685-bfc42057a636",
   "metadata": {
    "tags": []
   },
   "outputs": [
    {
     "data": {
      "text/plain": [
       "deque([10, 1, 2, 3, 4, 5, 6, 7, 8, 9])"
      ]
     },
     "execution_count": 52,
     "metadata": {},
     "output_type": "execute_result"
    }
   ],
   "source": [
    "dq"
   ]
  },
  {
   "cell_type": "code",
   "execution_count": 54,
   "id": "556b48a1-45b4-44d3-a2bb-0de51ab5b291",
   "metadata": {
    "tags": []
   },
   "outputs": [],
   "source": [
    "#reverse\n",
    "\n",
    "dq.reverse()"
   ]
  },
  {
   "cell_type": "code",
   "execution_count": 55,
   "id": "d2fffbe6-b196-40cd-bf02-c0c79a195672",
   "metadata": {
    "tags": []
   },
   "outputs": [
    {
     "data": {
      "text/plain": [
       "deque([10, 9, 8, 7, 6, 5, 4, 3, 2, 1])"
      ]
     },
     "execution_count": 55,
     "metadata": {},
     "output_type": "execute_result"
    }
   ],
   "source": [
    "dq\n",
    "\n",
    "#deque's do similar things as a list, but much faster, and have access to the functions used above"
   ]
  },
  {
   "cell_type": "markdown",
   "id": "96056906-f4c0-4954-91c0-e5557a8ce9a1",
   "metadata": {},
   "source": [
    "## Named Tuple"
   ]
  },
  {
   "cell_type": "code",
   "execution_count": 57,
   "id": "16359965-f0f3-414a-99ef-c191bd345f45",
   "metadata": {
    "tags": []
   },
   "outputs": [
    {
     "data": {
      "text/plain": [
       "55"
      ]
     },
     "execution_count": 57,
     "metadata": {},
     "output_type": "execute_result"
    }
   ],
   "source": [
    "color = (55,100,8) #RGB\n",
    "\n",
    "color[0]"
   ]
  },
  {
   "cell_type": "code",
   "execution_count": 59,
   "id": "24f8cdd0-9354-4188-a3d4-d03b5e7e9ff3",
   "metadata": {
    "tags": []
   },
   "outputs": [
    {
     "data": {
      "text/plain": [
       "55"
      ]
     },
     "execution_count": 59,
     "metadata": {},
     "output_type": "execute_result"
    }
   ],
   "source": [
    "color_dict = {'red': 55,\n",
    "             'green':100,\n",
    "             'blue':8}\n",
    "\n",
    "color_dict['red']"
   ]
  },
  {
   "cell_type": "code",
   "execution_count": 60,
   "id": "f1b47250-5ee2-4aae-898f-a4355d0e34de",
   "metadata": {
    "tags": []
   },
   "outputs": [],
   "source": [
    "from collections import namedtuple"
   ]
  },
  {
   "cell_type": "code",
   "execution_count": 63,
   "id": "4597bbe7-2963-4d43-a73e-168dab8fe77e",
   "metadata": {
    "tags": []
   },
   "outputs": [],
   "source": [
    "Color = namedtuple('Color', 'red green blue')"
   ]
  },
  {
   "cell_type": "code",
   "execution_count": 64,
   "id": "d00ce053-ba3f-41eb-b522-bd9dcfb2010b",
   "metadata": {
    "tags": []
   },
   "outputs": [],
   "source": [
    "Color_1 = namedtuple('Color', ['red','green','blue'])"
   ]
  },
  {
   "cell_type": "code",
   "execution_count": 65,
   "id": "6f667a38-6c67-4672-a5d1-c54a66a4845a",
   "metadata": {
    "tags": []
   },
   "outputs": [],
   "source": [
    "color = Color(55,100,8)"
   ]
  },
  {
   "cell_type": "code",
   "execution_count": 66,
   "id": "8a016c79-5b08-4f1f-88fa-8e6c5ba77fee",
   "metadata": {
    "tags": []
   },
   "outputs": [
    {
     "data": {
      "text/plain": [
       "Color(red=55, green=100, blue=8)"
      ]
     },
     "execution_count": 66,
     "metadata": {},
     "output_type": "execute_result"
    }
   ],
   "source": [
    "color"
   ]
  },
  {
   "cell_type": "code",
   "execution_count": 67,
   "id": "b8a2b9ea-85dc-4106-b94e-153efdb71f0f",
   "metadata": {
    "tags": []
   },
   "outputs": [
    {
     "data": {
      "text/plain": [
       "55"
      ]
     },
     "execution_count": 67,
     "metadata": {},
     "output_type": "execute_result"
    }
   ],
   "source": [
    "color[0]"
   ]
  },
  {
   "cell_type": "code",
   "execution_count": 69,
   "id": "7871b1df-ad0b-4066-878e-09b7b8ec477b",
   "metadata": {
    "tags": []
   },
   "outputs": [
    {
     "data": {
      "text/plain": [
       "55"
      ]
     },
     "execution_count": 69,
     "metadata": {},
     "output_type": "execute_result"
    }
   ],
   "source": [
    "color.red"
   ]
  },
  {
   "cell_type": "code",
   "execution_count": 70,
   "id": "b8bb3579-065c-4c83-8508-c29e5a9b1072",
   "metadata": {
    "tags": []
   },
   "outputs": [],
   "source": [
    "color = Color(red = 55,green = 100, blue = 8) #same output as above, just more explicit"
   ]
  },
  {
   "cell_type": "markdown",
   "id": "44e3f60e-d0ff-4d8c-a919-80c38eaab07d",
   "metadata": {},
   "source": [
    "## Enum"
   ]
  },
  {
   "cell_type": "code",
   "execution_count": 71,
   "id": "d209bfba-a97b-4c7c-834b-343c6f1364e1",
   "metadata": {
    "tags": []
   },
   "outputs": [],
   "source": [
    "from enum import Enum"
   ]
  },
  {
   "cell_type": "code",
   "execution_count": 77,
   "id": "3b68e63f-0950-47bc-af46-f20f38142a53",
   "metadata": {
    "tags": []
   },
   "outputs": [],
   "source": [
    "class part(Enum):\n",
    "    engine = 1\n",
    "    transmission = 2\n",
    "    clutch = 3\n",
    "    \n",
    "    motor = 1\n",
    "    trans = 2\n",
    "    \n",
    "\n",
    "    \n",
    "    \n",
    "Part_needs = namedtuple(\"Part_needs\",'price type')\n",
    "\n",
    "Nissan = Part_needs(100, part.clutch)\n",
    "Chevrolet = Part_needs(4000, part.motor)\n",
    "ford = Part_needs(3000, part.engine)"
   ]
  },
  {
   "cell_type": "code",
   "execution_count": 79,
   "id": "cd4c4ee5-4a75-4fe6-9fcd-d3f4b687ac23",
   "metadata": {
    "tags": []
   },
   "outputs": [
    {
     "data": {
      "text/plain": [
       "True"
      ]
     },
     "execution_count": 79,
     "metadata": {},
     "output_type": "execute_result"
    }
   ],
   "source": [
    "Chevrolet.type == ford.type #even though the \"user\" entered two different synonyms for engine/motor, the code can recognize they're referring to the same thing\n",
    "                            #In this case, the code knows that both engine and motor refer to the same thing (1 in this case)"
   ]
  },
  {
   "cell_type": "code",
   "execution_count": 80,
   "id": "483e5208-e790-4e36-adc9-c3d35cbf502a",
   "metadata": {
    "tags": []
   },
   "outputs": [
    {
     "data": {
      "text/plain": [
       "<part.engine: 1>"
      ]
     },
     "execution_count": 80,
     "metadata": {},
     "output_type": "execute_result"
    }
   ],
   "source": [
    "Chevrolet.type"
   ]
  },
  {
   "cell_type": "code",
   "execution_count": 81,
   "id": "26e58bc9-bdba-4d87-8c49-617466030c71",
   "metadata": {
    "tags": []
   },
   "outputs": [
    {
     "data": {
      "text/plain": [
       "<part.engine: 1>"
      ]
     },
     "execution_count": 81,
     "metadata": {},
     "output_type": "execute_result"
    }
   ],
   "source": [
    "ford.type"
   ]
  },
  {
   "cell_type": "code",
   "execution_count": 82,
   "id": "8387a55a-e7e7-471f-abcd-d6504b245002",
   "metadata": {
    "tags": []
   },
   "outputs": [],
   "source": [
    "from enum import Enum, unique"
   ]
  },
  {
   "cell_type": "code",
   "execution_count": 84,
   "id": "5af2fa0a-2227-42f7-b108-01ba8d355c19",
   "metadata": {
    "tags": []
   },
   "outputs": [
    {
     "ename": "ValueError",
     "evalue": "duplicate values found in <enum 'part'>: motor -> engine, trans -> transmission",
     "output_type": "error",
     "traceback": [
      "\u001b[0;31m---------------------------------------------------------------------------\u001b[0m",
      "\u001b[0;31mValueError\u001b[0m                                Traceback (most recent call last)",
      "Cell \u001b[0;32mIn[84], line 1\u001b[0m\n\u001b[0;32m----> 1\u001b[0m \u001b[38;5;129m@unique\u001b[39m \u001b[38;5;66;03m#causes the error below, because it specifies that the key values need to be unique\u001b[39;00m\n\u001b[1;32m      2\u001b[0m \u001b[38;5;28;01mclass\u001b[39;00m \u001b[38;5;21;01mpart\u001b[39;00m(Enum):\n\u001b[1;32m      3\u001b[0m     engine \u001b[38;5;241m=\u001b[39m \u001b[38;5;241m1\u001b[39m\n\u001b[1;32m      4\u001b[0m     transmission \u001b[38;5;241m=\u001b[39m \u001b[38;5;241m2\u001b[39m\n",
      "File \u001b[0;32m~/anaconda3/lib/python3.11/enum.py:1565\u001b[0m, in \u001b[0;36munique\u001b[0;34m(enumeration)\u001b[0m\n\u001b[1;32m   1562\u001b[0m \u001b[38;5;28;01mif\u001b[39;00m duplicates:\n\u001b[1;32m   1563\u001b[0m     alias_details \u001b[38;5;241m=\u001b[39m \u001b[38;5;124m'\u001b[39m\u001b[38;5;124m, \u001b[39m\u001b[38;5;124m'\u001b[39m\u001b[38;5;241m.\u001b[39mjoin(\n\u001b[1;32m   1564\u001b[0m             [\u001b[38;5;124m\"\u001b[39m\u001b[38;5;132;01m%s\u001b[39;00m\u001b[38;5;124m -> \u001b[39m\u001b[38;5;132;01m%s\u001b[39;00m\u001b[38;5;124m\"\u001b[39m \u001b[38;5;241m%\u001b[39m (alias, name) \u001b[38;5;28;01mfor\u001b[39;00m (alias, name) \u001b[38;5;129;01min\u001b[39;00m duplicates])\n\u001b[0;32m-> 1565\u001b[0m     \u001b[38;5;28;01mraise\u001b[39;00m \u001b[38;5;167;01mValueError\u001b[39;00m(\u001b[38;5;124m'\u001b[39m\u001b[38;5;124mduplicate values found in \u001b[39m\u001b[38;5;132;01m%r\u001b[39;00m\u001b[38;5;124m: \u001b[39m\u001b[38;5;132;01m%s\u001b[39;00m\u001b[38;5;124m'\u001b[39m \u001b[38;5;241m%\u001b[39m\n\u001b[1;32m   1566\u001b[0m             (enumeration, alias_details))\n\u001b[1;32m   1567\u001b[0m \u001b[38;5;28;01mreturn\u001b[39;00m enumeration\n",
      "\u001b[0;31mValueError\u001b[0m: duplicate values found in <enum 'part'>: motor -> engine, trans -> transmission"
     ]
    }
   ],
   "source": [
    "@unique #causes the error below, because it specifies that the key values need to be unique\n",
    "class part(Enum):\n",
    "    engine = 1\n",
    "    transmission = 2\n",
    "    clutch = 3\n",
    "    \n",
    "    motor = 1\n",
    "    trans = 2\n",
    "    \n",
    "\n",
    "    \n",
    "    \n",
    "Part_needs = namedtuple(\"Part_needs\",'price type')\n",
    "\n",
    "Nissan = Part_needs(100, part.clutch)\n",
    "Chevrolet = Part_needs(4000, part.motor)\n",
    "ford = Part_needs(3000, part.engine)"
   ]
  },
  {
   "cell_type": "markdown",
   "id": "cb0d3c11-5118-4dcc-96bf-18e0367ffe87",
   "metadata": {
    "tags": []
   },
   "source": [
    "## Zip & Unzip"
   ]
  },
  {
   "cell_type": "code",
   "execution_count": 86,
   "id": "8ae2872c-26e7-472e-8a24-f0737851bd12",
   "metadata": {
    "tags": []
   },
   "outputs": [
    {
     "name": "stdout",
     "output_type": "stream",
     "text": [
      "[('Porsche', 'Cayman', 'Black', 2021), ('Mazda', 'Miata', 'Green', 2020), ('Toyota', 'Supra', 'Black', 1994), ('BMW', 'M5', 'Blue', 2006)]\n"
     ]
    }
   ],
   "source": [
    "Make = ['Porsche','Mazda','Toyota',\"BMW\"]\n",
    "\n",
    "Model = ['Cayman','Miata','Supra','M5']\n",
    "\n",
    "Color = ['Black','Green','Black','Blue']\n",
    "\n",
    "Year = [2021,2020,1994,2006]\n",
    "\n",
    "print(list(zip(Make,Model,Color,Year)))"
   ]
  },
  {
   "cell_type": "code",
   "execution_count": 89,
   "id": "9816638f-3e85-4658-8c78-66ef9b5c72b6",
   "metadata": {
    "tags": []
   },
   "outputs": [],
   "source": [
    "car_list = list(zip(Make,Model,Color,Year))"
   ]
  },
  {
   "cell_type": "code",
   "execution_count": 90,
   "id": "b3f88226-383e-4304-90e8-0a5386728c8b",
   "metadata": {
    "tags": []
   },
   "outputs": [
    {
     "data": {
      "text/plain": [
       "[('Porsche', 'Cayman', 'Black', 2021),\n",
       " ('Mazda', 'Miata', 'Green', 2020),\n",
       " ('Toyota', 'Supra', 'Black', 1994),\n",
       " ('BMW', 'M5', 'Blue', 2006)]"
      ]
     },
     "execution_count": 90,
     "metadata": {},
     "output_type": "execute_result"
    }
   ],
   "source": [
    "car_list"
   ]
  },
  {
   "cell_type": "code",
   "execution_count": null,
   "id": "b20ba699-8e77-4de9-a68e-c35c49077e85",
   "metadata": {},
   "outputs": [],
   "source": [
    "Make,Model,Color,Year = list(zip(*car_list))"
   ]
  },
  {
   "cell_type": "code",
   "execution_count": 91,
   "id": "b7490ac7-b806-4724-bd1d-f81919b84665",
   "metadata": {
    "tags": []
   },
   "outputs": [
    {
     "name": "stdout",
     "output_type": "stream",
     "text": [
      "['Porsche', 'Mazda', 'Toyota', 'BMW']\n",
      "['Cayman', 'Miata', 'Supra', 'M5']\n",
      "['Black', 'Green', 'Black', 'Blue']\n",
      "[2021, 2020, 1994, 2006]\n"
     ]
    }
   ],
   "source": [
    "print(Make)\n",
    "print(Model)\n",
    "print(Color)\n",
    "print(Year)"
   ]
  },
  {
   "cell_type": "markdown",
   "id": "dc36087a-6801-4172-98c8-7d40d723367e",
   "metadata": {},
   "source": [
    "## Object Introspection Overview"
   ]
  },
  {
   "cell_type": "markdown",
   "id": "02a04af3-c6f9-4542-8f4b-9316836caf1d",
   "metadata": {},
   "source": [
    "### dir"
   ]
  },
  {
   "cell_type": "code",
   "execution_count": 94,
   "id": "15848b8e-8c24-454d-89ec-bb8b7996636d",
   "metadata": {
    "tags": []
   },
   "outputs": [
    {
     "data": {
      "text/plain": [
       "['__add__',\n",
       " '__class__',\n",
       " '__class_getitem__',\n",
       " '__contains__',\n",
       " '__delattr__',\n",
       " '__delitem__',\n",
       " '__dir__',\n",
       " '__doc__',\n",
       " '__eq__',\n",
       " '__format__',\n",
       " '__ge__',\n",
       " '__getattribute__',\n",
       " '__getitem__',\n",
       " '__getstate__',\n",
       " '__gt__',\n",
       " '__hash__',\n",
       " '__iadd__',\n",
       " '__imul__',\n",
       " '__init__',\n",
       " '__init_subclass__',\n",
       " '__iter__',\n",
       " '__le__',\n",
       " '__len__',\n",
       " '__lt__',\n",
       " '__mul__',\n",
       " '__ne__',\n",
       " '__new__',\n",
       " '__reduce__',\n",
       " '__reduce_ex__',\n",
       " '__repr__',\n",
       " '__reversed__',\n",
       " '__rmul__',\n",
       " '__setattr__',\n",
       " '__setitem__',\n",
       " '__sizeof__',\n",
       " '__str__',\n",
       " '__subclasshook__',\n",
       " 'append',\n",
       " 'clear',\n",
       " 'copy',\n",
       " 'count',\n",
       " 'extend',\n",
       " 'index',\n",
       " 'insert',\n",
       " 'pop',\n",
       " 'remove',\n",
       " 'reverse',\n",
       " 'sort']"
      ]
     },
     "execution_count": 94,
     "metadata": {},
     "output_type": "execute_result"
    }
   ],
   "source": [
    "my_list = [1,2,3,4,5]\n",
    "\n",
    "dir(my_list)"
   ]
  },
  {
   "cell_type": "code",
   "execution_count": 95,
   "id": "614e79a1-277f-4b3f-b263-7f093d4d98c5",
   "metadata": {
    "tags": []
   },
   "outputs": [
    {
     "data": {
      "text/plain": [
       "['__class__',\n",
       " '__class_getitem__',\n",
       " '__contains__',\n",
       " '__delattr__',\n",
       " '__delitem__',\n",
       " '__dir__',\n",
       " '__doc__',\n",
       " '__eq__',\n",
       " '__format__',\n",
       " '__ge__',\n",
       " '__getattribute__',\n",
       " '__getitem__',\n",
       " '__getstate__',\n",
       " '__gt__',\n",
       " '__hash__',\n",
       " '__init__',\n",
       " '__init_subclass__',\n",
       " '__ior__',\n",
       " '__iter__',\n",
       " '__le__',\n",
       " '__len__',\n",
       " '__lt__',\n",
       " '__ne__',\n",
       " '__new__',\n",
       " '__or__',\n",
       " '__reduce__',\n",
       " '__reduce_ex__',\n",
       " '__repr__',\n",
       " '__reversed__',\n",
       " '__ror__',\n",
       " '__setattr__',\n",
       " '__setitem__',\n",
       " '__sizeof__',\n",
       " '__str__',\n",
       " '__subclasshook__',\n",
       " 'clear',\n",
       " 'copy',\n",
       " 'fromkeys',\n",
       " 'get',\n",
       " 'items',\n",
       " 'keys',\n",
       " 'pop',\n",
       " 'popitem',\n",
       " 'setdefault',\n",
       " 'update',\n",
       " 'values']"
      ]
     },
     "execution_count": 95,
     "metadata": {},
     "output_type": "execute_result"
    }
   ],
   "source": [
    "my_dict = {}\n",
    "\n",
    "dir(my_dict)"
   ]
  },
  {
   "cell_type": "code",
   "execution_count": 96,
   "id": "b86dceb7-71eb-4cc0-b16c-380faf1f1b89",
   "metadata": {
    "tags": []
   },
   "outputs": [
    {
     "data": {
      "text/plain": [
       "['Car_List',\n",
       " 'Chevrolet',\n",
       " 'Color',\n",
       " 'Color_1',\n",
       " 'Counter',\n",
       " 'Enum',\n",
       " 'In',\n",
       " 'Make',\n",
       " 'Model',\n",
       " 'Nissan',\n",
       " 'Out',\n",
       " 'Part_needs',\n",
       " 'Year',\n",
       " '_',\n",
       " '_10',\n",
       " '_11',\n",
       " '_13',\n",
       " '_14',\n",
       " '_16',\n",
       " '_17',\n",
       " '_19',\n",
       " '_20',\n",
       " '_22',\n",
       " '_23',\n",
       " '_24',\n",
       " '_25',\n",
       " '_26',\n",
       " '_27',\n",
       " '_28',\n",
       " '_31',\n",
       " '_33',\n",
       " '_35',\n",
       " '_36',\n",
       " '_37',\n",
       " '_38',\n",
       " '_39',\n",
       " '_41',\n",
       " '_42',\n",
       " '_43',\n",
       " '_45',\n",
       " '_47',\n",
       " '_48',\n",
       " '_50',\n",
       " '_52',\n",
       " '_55',\n",
       " '_57',\n",
       " '_59',\n",
       " '_6',\n",
       " '_66',\n",
       " '_67',\n",
       " '_69',\n",
       " '_7',\n",
       " '_74',\n",
       " '_75',\n",
       " '_76',\n",
       " '_78',\n",
       " '_79',\n",
       " '_80',\n",
       " '_81',\n",
       " '_88',\n",
       " '_90',\n",
       " '_94',\n",
       " '_95',\n",
       " '__',\n",
       " '___',\n",
       " '__builtin__',\n",
       " '__builtins__',\n",
       " '__doc__',\n",
       " '__loader__',\n",
       " '__name__',\n",
       " '__package__',\n",
       " '__session__',\n",
       " '__spec__',\n",
       " '_dh',\n",
       " '_i',\n",
       " '_i1',\n",
       " '_i10',\n",
       " '_i11',\n",
       " '_i12',\n",
       " '_i13',\n",
       " '_i14',\n",
       " '_i15',\n",
       " '_i16',\n",
       " '_i17',\n",
       " '_i18',\n",
       " '_i19',\n",
       " '_i2',\n",
       " '_i20',\n",
       " '_i21',\n",
       " '_i22',\n",
       " '_i23',\n",
       " '_i24',\n",
       " '_i25',\n",
       " '_i26',\n",
       " '_i27',\n",
       " '_i28',\n",
       " '_i29',\n",
       " '_i3',\n",
       " '_i30',\n",
       " '_i31',\n",
       " '_i32',\n",
       " '_i33',\n",
       " '_i34',\n",
       " '_i35',\n",
       " '_i36',\n",
       " '_i37',\n",
       " '_i38',\n",
       " '_i39',\n",
       " '_i4',\n",
       " '_i40',\n",
       " '_i41',\n",
       " '_i42',\n",
       " '_i43',\n",
       " '_i44',\n",
       " '_i45',\n",
       " '_i46',\n",
       " '_i47',\n",
       " '_i48',\n",
       " '_i49',\n",
       " '_i5',\n",
       " '_i50',\n",
       " '_i51',\n",
       " '_i52',\n",
       " '_i53',\n",
       " '_i54',\n",
       " '_i55',\n",
       " '_i56',\n",
       " '_i57',\n",
       " '_i58',\n",
       " '_i59',\n",
       " '_i6',\n",
       " '_i60',\n",
       " '_i61',\n",
       " '_i62',\n",
       " '_i63',\n",
       " '_i64',\n",
       " '_i65',\n",
       " '_i66',\n",
       " '_i67',\n",
       " '_i68',\n",
       " '_i69',\n",
       " '_i7',\n",
       " '_i70',\n",
       " '_i71',\n",
       " '_i72',\n",
       " '_i73',\n",
       " '_i74',\n",
       " '_i75',\n",
       " '_i76',\n",
       " '_i77',\n",
       " '_i78',\n",
       " '_i79',\n",
       " '_i8',\n",
       " '_i80',\n",
       " '_i81',\n",
       " '_i82',\n",
       " '_i83',\n",
       " '_i84',\n",
       " '_i85',\n",
       " '_i86',\n",
       " '_i87',\n",
       " '_i88',\n",
       " '_i89',\n",
       " '_i9',\n",
       " '_i90',\n",
       " '_i91',\n",
       " '_i92',\n",
       " '_i93',\n",
       " '_i94',\n",
       " '_i95',\n",
       " '_i96',\n",
       " '_ih',\n",
       " '_ii',\n",
       " '_iii',\n",
       " '_oh',\n",
       " 'car_list',\n",
       " 'color',\n",
       " 'color_1',\n",
       " 'color_dict',\n",
       " 'colors',\n",
       " 'deq',\n",
       " 'deque',\n",
       " 'dq',\n",
       " 'exit',\n",
       " 'fav',\n",
       " 'ford',\n",
       " 'get_ipython',\n",
       " 'my_dict',\n",
       " 'my_list',\n",
       " 'namedtuple',\n",
       " 'open',\n",
       " 'part',\n",
       " 'quit',\n",
       " 'unique']"
      ]
     },
     "execution_count": 96,
     "metadata": {},
     "output_type": "execute_result"
    }
   ],
   "source": [
    "dir()"
   ]
  },
  {
   "cell_type": "markdown",
   "id": "b4eaa40a-159d-4695-84c0-654804666984",
   "metadata": {},
   "source": [
    "### type and & id"
   ]
  },
  {
   "cell_type": "code",
   "execution_count": 97,
   "id": "647e03c6-49b4-4b9b-a761-819ca951871a",
   "metadata": {
    "tags": []
   },
   "outputs": [
    {
     "data": {
      "text/plain": [
       "str"
      ]
     },
     "execution_count": 97,
     "metadata": {},
     "output_type": "execute_result"
    }
   ],
   "source": [
    "type('')"
   ]
  },
  {
   "cell_type": "code",
   "execution_count": 98,
   "id": "708538c4-8d3c-48eb-ac5e-f87575a82e6f",
   "metadata": {
    "tags": []
   },
   "outputs": [
    {
     "data": {
      "text/plain": [
       "list"
      ]
     },
     "execution_count": 98,
     "metadata": {},
     "output_type": "execute_result"
    }
   ],
   "source": [
    "type([])"
   ]
  },
  {
   "cell_type": "code",
   "execution_count": 99,
   "id": "3836891c-eaf6-440a-98b8-4fa5c8b48617",
   "metadata": {
    "tags": []
   },
   "outputs": [
    {
     "data": {
      "text/plain": [
       "dict"
      ]
     },
     "execution_count": 99,
     "metadata": {},
     "output_type": "execute_result"
    }
   ],
   "source": [
    "type({})"
   ]
  },
  {
   "cell_type": "code",
   "execution_count": 100,
   "id": "4764d21a-21ea-4ce4-9b6e-a984cb680abc",
   "metadata": {
    "tags": []
   },
   "outputs": [
    {
     "data": {
      "text/plain": [
       "tuple"
      ]
     },
     "execution_count": 100,
     "metadata": {},
     "output_type": "execute_result"
    }
   ],
   "source": [
    "type(())"
   ]
  },
  {
   "cell_type": "markdown",
   "id": "a3809124-ef57-4584-80e7-e0b92d8e0a6e",
   "metadata": {},
   "source": [
    "#### id"
   ]
  },
  {
   "cell_type": "code",
   "execution_count": 101,
   "id": "1a974371-8878-4e2e-b075-f5e5bad46aa0",
   "metadata": {
    "tags": []
   },
   "outputs": [],
   "source": [
    "name = 'Luke'"
   ]
  },
  {
   "cell_type": "code",
   "execution_count": 103,
   "id": "3c31a837-460b-4917-afdc-091b3b3f936d",
   "metadata": {
    "tags": []
   },
   "outputs": [
    {
     "data": {
      "text/plain": [
       "4549401520"
      ]
     },
     "execution_count": 103,
     "metadata": {},
     "output_type": "execute_result"
    }
   ],
   "source": [
    "id(name)"
   ]
  },
  {
   "cell_type": "code",
   "execution_count": 104,
   "id": "396af374-224b-4ed1-b9bc-0576a632c08f",
   "metadata": {
    "tags": []
   },
   "outputs": [],
   "source": [
    "my_pets = ['dog','cat','parrot']"
   ]
  },
  {
   "cell_type": "code",
   "execution_count": 105,
   "id": "1c019bdb-7bcd-458f-8d7e-e3781e90a7b7",
   "metadata": {
    "tags": []
   },
   "outputs": [
    {
     "data": {
      "text/plain": [
       "4543831744"
      ]
     },
     "execution_count": 105,
     "metadata": {},
     "output_type": "execute_result"
    }
   ],
   "source": [
    "id(my_pets)"
   ]
  },
  {
   "cell_type": "markdown",
   "id": "5031d7bb-1599-4fbb-a465-c9b5cf1cbfc2",
   "metadata": {},
   "source": [
    "### Inspect Module"
   ]
  },
  {
   "cell_type": "code",
   "execution_count": 106,
   "id": "d9c3841c-f489-4688-bd1d-bd138b133db0",
   "metadata": {
    "tags": []
   },
   "outputs": [],
   "source": [
    "import inspect"
   ]
  },
  {
   "cell_type": "code",
   "execution_count": 107,
   "id": "0729c36c-8947-4479-a5e6-8acb7de3ecdd",
   "metadata": {
    "tags": []
   },
   "outputs": [],
   "source": [
    "class car:\n",
    "    pass"
   ]
  },
  {
   "cell_type": "code",
   "execution_count": 109,
   "id": "f9c23625-2277-4367-8bbe-375309de00cc",
   "metadata": {
    "tags": []
   },
   "outputs": [
    {
     "data": {
      "text/plain": [
       "True"
      ]
     },
     "execution_count": 109,
     "metadata": {},
     "output_type": "execute_result"
    }
   ],
   "source": [
    "inspect.isclass(car)"
   ]
  },
  {
   "cell_type": "code",
   "execution_count": 110,
   "id": "b203c0b0-da81-4b34-ae98-3587bb082a81",
   "metadata": {
    "tags": []
   },
   "outputs": [
    {
     "data": {
      "text/plain": [
       "True"
      ]
     },
     "execution_count": 110,
     "metadata": {},
     "output_type": "execute_result"
    }
   ],
   "source": [
    "def some_func():\n",
    "    pass\n",
    "\n",
    "inspect.isfunction(some_func)"
   ]
  },
  {
   "cell_type": "code",
   "execution_count": 111,
   "id": "9a39bad0-9dcd-46fb-9bd1-e7f658b015bf",
   "metadata": {
    "tags": []
   },
   "outputs": [
    {
     "data": {
      "text/plain": [
       "False"
      ]
     },
     "execution_count": 111,
     "metadata": {},
     "output_type": "execute_result"
    }
   ],
   "source": [
    "inspect.isfunction(car)"
   ]
  },
  {
   "cell_type": "code",
   "execution_count": 112,
   "id": "ca22074c-0969-4fcd-b493-f9239f05ab6f",
   "metadata": {
    "tags": []
   },
   "outputs": [
    {
     "data": {
      "text/plain": [
       "True"
      ]
     },
     "execution_count": 112,
     "metadata": {},
     "output_type": "execute_result"
    }
   ],
   "source": [
    "inspect.ismodule(inspect)"
   ]
  },
  {
   "cell_type": "code",
   "execution_count": 113,
   "id": "aff53618-65a7-4666-a72a-4341327aeb8b",
   "metadata": {
    "tags": []
   },
   "outputs": [
    {
     "data": {
      "text/plain": [
       "['ArgInfo',\n",
       " 'Arguments',\n",
       " 'Attribute',\n",
       " 'BlockFinder',\n",
       " 'BoundArguments',\n",
       " 'CORO_CLOSED',\n",
       " 'CORO_CREATED',\n",
       " 'CORO_RUNNING',\n",
       " 'CORO_SUSPENDED',\n",
       " 'CO_ASYNC_GENERATOR',\n",
       " 'CO_COROUTINE',\n",
       " 'CO_GENERATOR',\n",
       " 'CO_ITERABLE_COROUTINE',\n",
       " 'CO_NESTED',\n",
       " 'CO_NEWLOCALS',\n",
       " 'CO_NOFREE',\n",
       " 'CO_OPTIMIZED',\n",
       " 'CO_VARARGS',\n",
       " 'CO_VARKEYWORDS',\n",
       " 'ClassFoundException',\n",
       " 'ClosureVars',\n",
       " 'EndOfBlock',\n",
       " 'FrameInfo',\n",
       " 'FullArgSpec',\n",
       " 'GEN_CLOSED',\n",
       " 'GEN_CREATED',\n",
       " 'GEN_RUNNING',\n",
       " 'GEN_SUSPENDED',\n",
       " 'OrderedDict',\n",
       " 'Parameter',\n",
       " 'Signature',\n",
       " 'TPFLAGS_IS_ABSTRACT',\n",
       " 'Traceback',\n",
       " '_ClassFinder',\n",
       " '_FrameInfo',\n",
       " '_KEYWORD_ONLY',\n",
       " '_NonUserDefinedCallables',\n",
       " '_POSITIONAL_ONLY',\n",
       " '_POSITIONAL_OR_KEYWORD',\n",
       " '_ParameterKind',\n",
       " '_Traceback',\n",
       " '_VAR_KEYWORD',\n",
       " '_VAR_POSITIONAL',\n",
       " '__all__',\n",
       " '__author__',\n",
       " '__builtins__',\n",
       " '__cached__',\n",
       " '__doc__',\n",
       " '__file__',\n",
       " '__loader__',\n",
       " '__name__',\n",
       " '__package__',\n",
       " '__spec__',\n",
       " '_check_class',\n",
       " '_check_instance',\n",
       " '_empty',\n",
       " '_filesbymodname',\n",
       " '_findclass',\n",
       " '_finddoc',\n",
       " '_get_code_position',\n",
       " '_get_code_position_from_tb',\n",
       " '_getmembers',\n",
       " '_has_code_flag',\n",
       " '_is_type',\n",
       " '_main',\n",
       " '_missing_arguments',\n",
       " '_sentinel',\n",
       " '_shadowed_dict',\n",
       " '_signature_bound_method',\n",
       " '_signature_from_builtin',\n",
       " '_signature_from_callable',\n",
       " '_signature_from_function',\n",
       " '_signature_fromstr',\n",
       " '_signature_get_partial',\n",
       " '_signature_get_user_defined_method',\n",
       " '_signature_is_builtin',\n",
       " '_signature_is_functionlike',\n",
       " '_signature_strip_non_python_syntax',\n",
       " '_static_getmro',\n",
       " '_too_many',\n",
       " '_void',\n",
       " 'abc',\n",
       " 'ast',\n",
       " 'attrgetter',\n",
       " 'builtins',\n",
       " 'classify_class_attrs',\n",
       " 'cleandoc',\n",
       " 'collections',\n",
       " 'currentframe',\n",
       " 'dis',\n",
       " 'enum',\n",
       " 'findsource',\n",
       " 'formatannotation',\n",
       " 'formatannotationrelativeto',\n",
       " 'formatargvalues',\n",
       " 'functools',\n",
       " 'get_annotations',\n",
       " 'getabsfile',\n",
       " 'getargs',\n",
       " 'getargvalues',\n",
       " 'getattr_static',\n",
       " 'getblock',\n",
       " 'getcallargs',\n",
       " 'getclasstree',\n",
       " 'getclosurevars',\n",
       " 'getcomments',\n",
       " 'getcoroutinelocals',\n",
       " 'getcoroutinestate',\n",
       " 'getdoc',\n",
       " 'getfile',\n",
       " 'getframeinfo',\n",
       " 'getfullargspec',\n",
       " 'getgeneratorlocals',\n",
       " 'getgeneratorstate',\n",
       " 'getinnerframes',\n",
       " 'getlineno',\n",
       " 'getmembers',\n",
       " 'getmembers_static',\n",
       " 'getmodule',\n",
       " 'getmodulename',\n",
       " 'getmro',\n",
       " 'getouterframes',\n",
       " 'getsource',\n",
       " 'getsourcefile',\n",
       " 'getsourcelines',\n",
       " 'importlib',\n",
       " 'indentsize',\n",
       " 'isabstract',\n",
       " 'isasyncgen',\n",
       " 'isasyncgenfunction',\n",
       " 'isawaitable',\n",
       " 'isbuiltin',\n",
       " 'isclass',\n",
       " 'iscode',\n",
       " 'iscoroutine',\n",
       " 'iscoroutinefunction',\n",
       " 'isdatadescriptor',\n",
       " 'isframe',\n",
       " 'isfunction',\n",
       " 'isgenerator',\n",
       " 'isgeneratorfunction',\n",
       " 'isgetsetdescriptor',\n",
       " 'iskeyword',\n",
       " 'ismemberdescriptor',\n",
       " 'ismethod',\n",
       " 'ismethoddescriptor',\n",
       " 'ismethodwrapper',\n",
       " 'ismodule',\n",
       " 'isroutine',\n",
       " 'istraceback',\n",
       " 'itertools',\n",
       " 'linecache',\n",
       " 'modulesbyfile',\n",
       " 'namedtuple',\n",
       " 'os',\n",
       " 're',\n",
       " 'signature',\n",
       " 'stack',\n",
       " 'sys',\n",
       " 'token',\n",
       " 'tokenize',\n",
       " 'trace',\n",
       " 'types',\n",
       " 'unwrap',\n",
       " 'walktree']"
      ]
     },
     "execution_count": 113,
     "metadata": {},
     "output_type": "execute_result"
    }
   ],
   "source": [
    "dir(inspect)"
   ]
  },
  {
   "cell_type": "markdown",
   "id": "6fff92bc-0627-4892-a6ab-14e4acbee32a",
   "metadata": {},
   "source": [
    "## Handling Multiple Exceptions"
   ]
  },
  {
   "cell_type": "code",
   "execution_count": 114,
   "id": "ca170747-09be-4c23-813c-7339b8fb1af9",
   "metadata": {
    "tags": []
   },
   "outputs": [
    {
     "ename": "ZeroDivisionError",
     "evalue": "division by zero",
     "output_type": "error",
     "traceback": [
      "\u001b[0;31m---------------------------------------------------------------------------\u001b[0m",
      "\u001b[0;31mZeroDivisionError\u001b[0m                         Traceback (most recent call last)",
      "Cell \u001b[0;32mIn[114], line 1\u001b[0m\n\u001b[0;32m----> 1\u001b[0m \u001b[38;5;241m0\u001b[39m\u001b[38;5;241m/\u001b[39m\u001b[38;5;241m0\u001b[39m\n",
      "\u001b[0;31mZeroDivisionError\u001b[0m: division by zero"
     ]
    }
   ],
   "source": [
    "0/0"
   ]
  },
  {
   "cell_type": "code",
   "execution_count": 116,
   "id": "1d5ce566-8630-437b-9144-a8a1727d093d",
   "metadata": {
    "tags": []
   },
   "outputs": [
    {
     "name": "stdout",
     "output_type": "stream",
     "text": [
      "You can not divide by 0\n"
     ]
    }
   ],
   "source": [
    "try:\n",
    "    0/0\n",
    "    \n",
    "except Exception as e:\n",
    "    print('You can not divide by 0')"
   ]
  },
  {
   "cell_type": "code",
   "execution_count": 118,
   "id": "278a7de5-8680-4bb2-88e7-dc16f925d150",
   "metadata": {
    "tags": []
   },
   "outputs": [
    {
     "ename": "FileNotFoundError",
     "evalue": "[Errno 2] No such file or directory: 'try.txt'",
     "output_type": "error",
     "traceback": [
      "\u001b[0;31m---------------------------------------------------------------------------\u001b[0m",
      "\u001b[0;31mFileNotFoundError\u001b[0m                         Traceback (most recent call last)",
      "Cell \u001b[0;32mIn[118], line 1\u001b[0m\n\u001b[0;32m----> 1\u001b[0m file \u001b[38;5;241m=\u001b[39m \u001b[38;5;28mopen\u001b[39m(\u001b[38;5;124m'\u001b[39m\u001b[38;5;124mtry.txt\u001b[39m\u001b[38;5;124m'\u001b[39m,\u001b[38;5;124m'\u001b[39m\u001b[38;5;124mrb\u001b[39m\u001b[38;5;124m'\u001b[39m)\n",
      "File \u001b[0;32m~/anaconda3/lib/python3.11/site-packages/IPython/core/interactiveshell.py:286\u001b[0m, in \u001b[0;36m_modified_open\u001b[0;34m(file, *args, **kwargs)\u001b[0m\n\u001b[1;32m    279\u001b[0m \u001b[38;5;28;01mif\u001b[39;00m file \u001b[38;5;129;01min\u001b[39;00m {\u001b[38;5;241m0\u001b[39m, \u001b[38;5;241m1\u001b[39m, \u001b[38;5;241m2\u001b[39m}:\n\u001b[1;32m    280\u001b[0m     \u001b[38;5;28;01mraise\u001b[39;00m \u001b[38;5;167;01mValueError\u001b[39;00m(\n\u001b[1;32m    281\u001b[0m         \u001b[38;5;124mf\u001b[39m\u001b[38;5;124m\"\u001b[39m\u001b[38;5;124mIPython won\u001b[39m\u001b[38;5;124m'\u001b[39m\u001b[38;5;124mt let you open fd=\u001b[39m\u001b[38;5;132;01m{\u001b[39;00mfile\u001b[38;5;132;01m}\u001b[39;00m\u001b[38;5;124m by default \u001b[39m\u001b[38;5;124m\"\u001b[39m\n\u001b[1;32m    282\u001b[0m         \u001b[38;5;124m\"\u001b[39m\u001b[38;5;124mas it is likely to crash IPython. If you know what you are doing, \u001b[39m\u001b[38;5;124m\"\u001b[39m\n\u001b[1;32m    283\u001b[0m         \u001b[38;5;124m\"\u001b[39m\u001b[38;5;124myou can use builtins\u001b[39m\u001b[38;5;124m'\u001b[39m\u001b[38;5;124m open.\u001b[39m\u001b[38;5;124m\"\u001b[39m\n\u001b[1;32m    284\u001b[0m     )\n\u001b[0;32m--> 286\u001b[0m \u001b[38;5;28;01mreturn\u001b[39;00m io_open(file, \u001b[38;5;241m*\u001b[39margs, \u001b[38;5;241m*\u001b[39m\u001b[38;5;241m*\u001b[39mkwargs)\n",
      "\u001b[0;31mFileNotFoundError\u001b[0m: [Errno 2] No such file or directory: 'try.txt'"
     ]
    }
   ],
   "source": [
    "file = open('try.txt','rb')"
   ]
  },
  {
   "cell_type": "code",
   "execution_count": 121,
   "id": "c66e1a02-d48d-4187-ad7c-c5ebf2d1944d",
   "metadata": {
    "tags": []
   },
   "outputs": [
    {
     "name": "stdout",
     "output_type": "stream",
     "text": [
      "An IO error has occured\n"
     ]
    }
   ],
   "source": [
    "try:\n",
    "    file = open('try.txt','rb')\n",
    "except IOError as e:\n",
    "    print('An IO error has occured')\n",
    "except EOFerror as e:\n",
    "    print('This is the end of ze world')\n",
    "    "
   ]
  },
  {
   "cell_type": "code",
   "execution_count": 125,
   "id": "9b7df1e9-3daf-4a8d-8f1d-0be7d7f8cfc5",
   "metadata": {
    "tags": []
   },
   "outputs": [
    {
     "name": "stdout",
     "output_type": "stream",
     "text": [
      "This is the correct error\n"
     ]
    }
   ],
   "source": [
    "try:\n",
    "    0/0\n",
    "    \n",
    "except IOError as e:\n",
    "    print('go back to kindergarten')\n",
    "    \n",
    "except ZeroDivisionError as e:\n",
    "    print('This is the correct error')"
   ]
  },
  {
   "cell_type": "code",
   "execution_count": 128,
   "id": "8c21e15a-39ce-44c2-bf6d-94b6ab7774de",
   "metadata": {
    "tags": []
   },
   "outputs": [
    {
     "name": "stdout",
     "output_type": "stream",
     "text": [
      "This is the correct error\n",
      "\n",
      "Don't you just love errors!\n"
     ]
    }
   ],
   "source": [
    "#finally\n",
    "\n",
    "try:\n",
    "    0/0\n",
    "    \n",
    "except IOError as e:\n",
    "    print('go back to kindergarten')\n",
    "    \n",
    "except ZeroDivisionError as e:\n",
    "    print('This is the correct error')\n",
    "finally:\n",
    "    print(\"\\nDon't you just love errors!\")"
   ]
  },
  {
   "cell_type": "code",
   "execution_count": 133,
   "id": "02e533ff-0ace-40fb-8ab5-26b280a62e72",
   "metadata": {
    "tags": []
   },
   "outputs": [
    {
     "name": "stdout",
     "output_type": "stream",
     "text": [
      "This is a valid operation\n",
      "\n",
      "error time error time\n"
     ]
    }
   ],
   "source": [
    "#else\n",
    "try:\n",
    "    0/2\n",
    "    \n",
    "except IOError as e:\n",
    "    print('go back to kindergarten')\n",
    "    \n",
    "except ZeroDivisionError as e:\n",
    "    print('This is the correct error')\n",
    "else:\n",
    "    print('This is a valid operation')\n",
    "finally:\n",
    "    print('\\nerror time error time')"
   ]
  },
  {
   "cell_type": "markdown",
   "id": "a5fa0c31-5323-4c03-af38-de77345b5797",
   "metadata": {
    "tags": []
   },
   "source": [
    "# One - Liners"
   ]
  },
  {
   "cell_type": "markdown",
   "id": "11fb938d-e3ff-4d8d-bc2d-545763fd370b",
   "metadata": {},
   "source": [
    "## simple web server"
   ]
  },
  {
   "cell_type": "code",
   "execution_count": null,
   "id": "45e24397-4e77-4016-89c9-6978a9d30b0f",
   "metadata": {},
   "outputs": [],
   "source": [
    "python -m http.server\n",
    "#Navigate to the folder you want to create the server for"
   ]
  },
  {
   "cell_type": "markdown",
   "id": "ef7d026c-1c0b-4a66-97f1-2a1e3c35ac14",
   "metadata": {},
   "source": [
    "## Pretty Printing"
   ]
  },
  {
   "cell_type": "code",
   "execution_count": 135,
   "id": "cfe4ebf1-0b32-4182-9479-cf13c41221f5",
   "metadata": {
    "tags": []
   },
   "outputs": [],
   "source": [
    "from pprint import pprint\n",
    "\n",
    "my_dict = {'name','age','height'}"
   ]
  },
  {
   "cell_type": "code",
   "execution_count": 136,
   "id": "f53028c3-6df8-49f0-878a-272e15367b05",
   "metadata": {
    "tags": []
   },
   "outputs": [
    {
     "name": "stdout",
     "output_type": "stream",
     "text": [
      "['__and__', '__class__', '__class_getitem__', '__contains__', '__delattr__', '__dir__', '__doc__', '__eq__', '__format__', '__ge__', '__getattribute__', '__getstate__', '__gt__', '__hash__', '__iand__', '__init__', '__init_subclass__', '__ior__', '__isub__', '__iter__', '__ixor__', '__le__', '__len__', '__lt__', '__ne__', '__new__', '__or__', '__rand__', '__reduce__', '__reduce_ex__', '__repr__', '__ror__', '__rsub__', '__rxor__', '__setattr__', '__sizeof__', '__str__', '__sub__', '__subclasshook__', '__xor__', 'add', 'clear', 'copy', 'difference', 'difference_update', 'discard', 'intersection', 'intersection_update', 'isdisjoint', 'issubset', 'issuperset', 'pop', 'remove', 'symmetric_difference', 'symmetric_difference_update', 'union', 'update']\n"
     ]
    }
   ],
   "source": [
    "print(dir(my_dict))"
   ]
  },
  {
   "cell_type": "code",
   "execution_count": 137,
   "id": "fd54c93f-0d2d-43d7-9467-86981ec801fa",
   "metadata": {
    "tags": []
   },
   "outputs": [
    {
     "name": "stdout",
     "output_type": "stream",
     "text": [
      "['__and__',\n",
      " '__class__',\n",
      " '__class_getitem__',\n",
      " '__contains__',\n",
      " '__delattr__',\n",
      " '__dir__',\n",
      " '__doc__',\n",
      " '__eq__',\n",
      " '__format__',\n",
      " '__ge__',\n",
      " '__getattribute__',\n",
      " '__getstate__',\n",
      " '__gt__',\n",
      " '__hash__',\n",
      " '__iand__',\n",
      " '__init__',\n",
      " '__init_subclass__',\n",
      " '__ior__',\n",
      " '__isub__',\n",
      " '__iter__',\n",
      " '__ixor__',\n",
      " '__le__',\n",
      " '__len__',\n",
      " '__lt__',\n",
      " '__ne__',\n",
      " '__new__',\n",
      " '__or__',\n",
      " '__rand__',\n",
      " '__reduce__',\n",
      " '__reduce_ex__',\n",
      " '__repr__',\n",
      " '__ror__',\n",
      " '__rsub__',\n",
      " '__rxor__',\n",
      " '__setattr__',\n",
      " '__sizeof__',\n",
      " '__str__',\n",
      " '__sub__',\n",
      " '__subclasshook__',\n",
      " '__xor__',\n",
      " 'add',\n",
      " 'clear',\n",
      " 'copy',\n",
      " 'difference',\n",
      " 'difference_update',\n",
      " 'discard',\n",
      " 'intersection',\n",
      " 'intersection_update',\n",
      " 'isdisjoint',\n",
      " 'issubset',\n",
      " 'issuperset',\n",
      " 'pop',\n",
      " 'remove',\n",
      " 'symmetric_difference',\n",
      " 'symmetric_difference_update',\n",
      " 'union',\n",
      " 'update']\n"
     ]
    }
   ],
   "source": [
    "pprint(dir(my_dict))"
   ]
  },
  {
   "cell_type": "markdown",
   "id": "673c9b3b-f6ba-42c7-ac89-1f466c123ceb",
   "metadata": {},
   "source": [
    "## Profiling a (python) script"
   ]
  },
  {
   "cell_type": "raw",
   "id": "0d0901fa-2644-4512-9349-731824f1e4ce",
   "metadata": {},
   "source": [
    "python -m cProfile <script_name>"
   ]
  },
  {
   "cell_type": "markdown",
   "id": "7ec040fc-2008-4d99-a5be-0b574a13ace2",
   "metadata": {},
   "source": [
    "Checks for bottlenecks in your code, especially useful when you can't run your code cell by cell"
   ]
  },
  {
   "cell_type": "markdown",
   "id": "cf0f04db-d0e5-48d7-90d3-f91b9d847104",
   "metadata": {},
   "source": [
    "## CSV --> JSON"
   ]
  },
  {
   "cell_type": "code",
   "execution_count": null,
   "id": "32fc1255-9198-4f9a-8e07-21485b9da879",
   "metadata": {},
   "outputs": [],
   "source": [
    "NFL Play by Play 2009-2016 (v3).csv\n",
    "\n",
    "python -c \"import csv,json; print(json.dumps(list(csv.reader(open('NFL Play by Play 2009-2016 (v3).csv')))))\"\n",
    "\n",
    "#This gets entered into the terminal"
   ]
  },
  {
   "cell_type": "markdown",
   "id": "511d99d7-3222-41c0-8424-6d8150191ff1",
   "metadata": {},
   "source": [
    "## List Flattening"
   ]
  },
  {
   "cell_type": "code",
   "execution_count": 138,
   "id": "e11811fa-c8b5-4e27-9c55-f83048367843",
   "metadata": {
    "tags": []
   },
   "outputs": [
    {
     "name": "stdout",
     "output_type": "stream",
     "text": [
      "[4, 7, 9, 2, 3, 6]\n"
     ]
    }
   ],
   "source": [
    "import itertools\n",
    "\n",
    "TList = [[4,7],[9,2],[3,6]]\n",
    "\n",
    "print(list(itertools.chain(*TList)))"
   ]
  },
  {
   "cell_type": "markdown",
   "id": "7ac1e674-60fb-4609-be8a-3619bd83bc5e",
   "metadata": {},
   "source": [
    "## One-Line Constructors"
   ]
  },
  {
   "cell_type": "code",
   "execution_count": 139,
   "id": "1baf02e2-6574-4032-8bfe-3624e57b1190",
   "metadata": {
    "tags": []
   },
   "outputs": [],
   "source": [
    "Porsche = type('car', (object,), {'topspeed': 199, 'hp': 572, 'color':'black'}) #creates a class in one line"
   ]
  },
  {
   "cell_type": "code",
   "execution_count": 140,
   "id": "97d6396d-e9e4-469c-b488-fe6d056771d1",
   "metadata": {
    "tags": []
   },
   "outputs": [
    {
     "name": "stdout",
     "output_type": "stream",
     "text": [
      "572\n"
     ]
    }
   ],
   "source": [
    "print(Porsche.hp)"
   ]
  },
  {
   "cell_type": "markdown",
   "id": "b8d3d157-0a40-4727-81b4-46f85935e308",
   "metadata": {},
   "source": [
    "# For / Else"
   ]
  },
  {
   "cell_type": "code",
   "execution_count": 7,
   "id": "93483632-63a1-4e96-bec8-cd8e70d8a057",
   "metadata": {
    "tags": []
   },
   "outputs": [],
   "source": [
    "names = ['patty','puch','George','cbo','chrigga']"
   ]
  },
  {
   "cell_type": "code",
   "execution_count": 8,
   "id": "33fec51e-c54d-4dc1-8c20-4856b59e867d",
   "metadata": {
    "tags": []
   },
   "outputs": [
    {
     "name": "stdout",
     "output_type": "stream",
     "text": [
      "James isn't here!\n",
      "James isn't here!\n",
      "James isn't here!\n",
      "James isn't here!\n",
      "James isn't here!\n"
     ]
    }
   ],
   "source": [
    "for x in names:\n",
    "    if x =='James':\n",
    "        print(f\"James is hiding at position {names.index('James')}\")\n",
    "    else:\n",
    "        print(\"James isn't here!\")"
   ]
  },
  {
   "cell_type": "code",
   "execution_count": 22,
   "id": "01155496-086f-48cf-af34-ac54c8dbf882",
   "metadata": {
    "tags": []
   },
   "outputs": [
    {
     "name": "stdout",
     "output_type": "stream",
     "text": [
      "11 is prime\n",
      "12 equals 2 * 6.0\n",
      "13 is prime\n",
      "14 equals 2 * 7.0\n",
      "15 equals 3 * 5.0\n",
      "16 equals 2 * 8.0\n",
      "17 is prime\n",
      "18 equals 2 * 9.0\n",
      "19 is prime\n"
     ]
    }
   ],
   "source": [
    "#find prime numbers within a certain number range\n",
    "for n in range(11,20):\n",
    "    for x in range(2,n):\n",
    "        if n % x == 0:\n",
    "            print(f'{n} equals {x} * {n/x}')\n",
    "            break\n",
    "    else:\n",
    "        print(f'{n} is prime')\n",
    "            "
   ]
  },
  {
   "cell_type": "markdown",
   "id": "681a355d-7252-4fb3-a14b-694c61c2d2d1",
   "metadata": {},
   "source": [
    "# Targeting Python 2 & 3"
   ]
  },
  {
   "cell_type": "markdown",
   "id": "f5cfe746-1a6b-48f0-8f36-b9aca597b4d2",
   "metadata": {},
   "source": [
    "#Writing code compatible with both 2 & 3"
   ]
  },
  {
   "cell_type": "markdown",
   "id": "5beddd38-6ac2-406e-927d-0935cf280aaa",
   "metadata": {},
   "source": [
    "### Future Imports"
   ]
  },
  {
   "cell_type": "code",
   "execution_count": 24,
   "id": "a2715f73-23d1-46c3-9985-6367251dbe01",
   "metadata": {
    "tags": []
   },
   "outputs": [],
   "source": [
    "from __future__ import print_function"
   ]
  },
  {
   "cell_type": "code",
   "execution_count": 25,
   "id": "33ef17b1-034e-48c7-a32a-30f408c6489d",
   "metadata": {
    "tags": []
   },
   "outputs": [
    {
     "name": "stdout",
     "output_type": "stream",
     "text": [
      "<built-in function print>\n"
     ]
    }
   ],
   "source": [
    "print(print)"
   ]
  },
  {
   "cell_type": "markdown",
   "id": "16d93bd7-e076-446b-b774-92254b20628b",
   "metadata": {},
   "source": [
    "This allows you to use python 3 functionality within python 2"
   ]
  },
  {
   "cell_type": "markdown",
   "id": "9ba617ee-e980-41af-8573-7d849ad9a5d9",
   "metadata": {},
   "source": [
    "### Dealing with renaming modules"
   ]
  },
  {
   "cell_type": "code",
   "execution_count": 26,
   "id": "37c386a5-0979-450a-8e7c-152f1ff7d7c8",
   "metadata": {
    "tags": []
   },
   "outputs": [],
   "source": [
    "import math"
   ]
  },
  {
   "cell_type": "code",
   "execution_count": 27,
   "id": "4717a09c-733b-4904-a1fb-501df4f402e1",
   "metadata": {
    "tags": []
   },
   "outputs": [],
   "source": [
    "from math import pi"
   ]
  },
  {
   "cell_type": "code",
   "execution_count": 28,
   "id": "f912c483-ea9d-4ef7-bfcc-396b12c4593c",
   "metadata": {
    "tags": []
   },
   "outputs": [
    {
     "data": {
      "text/plain": [
       "3.141592653589793"
      ]
     },
     "execution_count": 28,
     "metadata": {},
     "output_type": "execute_result"
    }
   ],
   "source": [
    "pi"
   ]
  },
  {
   "cell_type": "markdown",
   "id": "47452d0b-9548-45f3-a683-e9683f513a95",
   "metadata": {},
   "source": [
    "urllib.request ===> python 3\n",
    "\n",
    "urllib2 ===> python 2\n",
    "\n",
    "Can use a try statement to avoid problems"
   ]
  },
  {
   "cell_type": "code",
   "execution_count": null,
   "id": "a4c4ed97-1ee2-48bf-9b00-200b01131f06",
   "metadata": {},
   "outputs": [],
   "source": [
    "try:\n",
    "    import urllib.request as urllib_request #would give an error in python 2\n",
    "except: ImportError:\n",
    "    import urllib2 as urllib_request"
   ]
  },
  {
   "cell_type": "markdown",
   "id": "3ea77ec9-9139-4324-8501-55b23de271e8",
   "metadata": {},
   "source": [
    "## Obsolete Python 2 Builtins"
   ]
  },
  {
   "cell_type": "code",
   "execution_count": 31,
   "id": "e7c97db1-c92c-45c4-a873-7dfcf5abddcd",
   "metadata": {
    "tags": []
   },
   "outputs": [],
   "source": [
    "from future.builtins.disabled import *"
   ]
  },
  {
   "cell_type": "code",
   "execution_count": 33,
   "id": "d2240b11-56f1-472a-bf0e-ff0a1a88c037",
   "metadata": {
    "tags": []
   },
   "outputs": [
    {
     "ename": "NameError",
     "evalue": "name 'apply' is not defined",
     "output_type": "error",
     "traceback": [
      "\u001b[0;31m---------------------------------------------------------------------------\u001b[0m",
      "\u001b[0;31mNameError\u001b[0m                                 Traceback (most recent call last)",
      "Cell \u001b[0;32mIn[33], line 1\u001b[0m\n\u001b[0;32m----> 1\u001b[0m apply()\n",
      "\u001b[0;31mNameError\u001b[0m: name 'apply' is not defined"
     ]
    }
   ],
   "source": [
    "apply()"
   ]
  },
  {
   "cell_type": "markdown",
   "id": "63268f20-cb6b-4dde-97af-d354d641f6de",
   "metadata": {},
   "source": [
    "### External standard library backports"
   ]
  },
  {
   "cell_type": "markdown",
   "id": "0ea2885d-efe1-4d8d-8a21-f100e371dd79",
   "metadata": {},
   "source": [
    "#### Singledispatch"
   ]
  },
  {
   "cell_type": "code",
   "execution_count": 34,
   "id": "da17134f-7195-4c91-aa40-6744df807aed",
   "metadata": {
    "tags": []
   },
   "outputs": [],
   "source": [
    "def my_func(arg):\n",
    "    print(arg)\n",
    "    \n",
    "    \n",
    "def main():\n",
    "    my_func('This is func')\n",
    "    my_func(7)\n",
    "    my_func(['Tom','Harry','Jerry'])"
   ]
  },
  {
   "cell_type": "code",
   "execution_count": 35,
   "id": "906d4801-e819-4ab9-8d42-f85a88dc651d",
   "metadata": {
    "tags": []
   },
   "outputs": [
    {
     "name": "stdout",
     "output_type": "stream",
     "text": [
      "This is func\n",
      "7\n",
      "['Tom', 'Harry', 'Jerry']\n"
     ]
    }
   ],
   "source": [
    "main()"
   ]
  },
  {
   "cell_type": "code",
   "execution_count": 42,
   "id": "c49d9423-caf1-40dd-9c8c-b0c703e08ae9",
   "metadata": {
    "tags": []
   },
   "outputs": [],
   "source": [
    "from functools import singledispatch\n",
    "\n",
    "@singledispatch\n",
    "def my_func(arg):\n",
    "    print(arg)\n",
    "\n",
    "@my_func.register\n",
    "def this_int_instead(arg: int):\n",
    "    print(f'This argument is an int: {arg}')\n",
    "\n",
    "@my_func.register\n",
    "def this_list_instead(arg: list):\n",
    "    print(f'this argument is a list: {arg}')\n",
    "    \n",
    "def main():\n",
    "    my_func('This is func')\n",
    "    my_func(7)\n",
    "    my_func(['Tom','Harry','Jerry'])"
   ]
  },
  {
   "cell_type": "code",
   "execution_count": 43,
   "id": "160512cf-554f-49d3-b0b5-c67a0c2641d3",
   "metadata": {
    "tags": []
   },
   "outputs": [
    {
     "name": "stdout",
     "output_type": "stream",
     "text": [
      "This is func\n",
      "This argument is an int: 7\n",
      "this argument is a list: ['Tom', 'Harry', 'Jerry']\n"
     ]
    }
   ],
   "source": [
    "main()"
   ]
  },
  {
   "cell_type": "markdown",
   "id": "2297898d-ea65-4d43-a8a7-26e12dec90c8",
   "metadata": {},
   "source": [
    "# Coroutines"
   ]
  },
  {
   "cell_type": "code",
   "execution_count": 61,
   "id": "fa45d2b3-5ac9-4dbd-8ee2-1a69178f3434",
   "metadata": {
    "tags": []
   },
   "outputs": [],
   "source": [
    "### Recap of generators\n",
    "\n",
    "def countdown(n):\n",
    "    while n >= 0:\n",
    "        yield n\n",
    "        n -= 1"
   ]
  },
  {
   "cell_type": "code",
   "execution_count": 75,
   "id": "7a620315-95d0-43de-854b-2eff4a505c03",
   "metadata": {
    "tags": []
   },
   "outputs": [],
   "source": [
    "x = countdown(10)"
   ]
  },
  {
   "cell_type": "code",
   "execution_count": 77,
   "id": "fa367a12-38dd-49c8-8c29-7c60b349e430",
   "metadata": {
    "tags": []
   },
   "outputs": [
    {
     "data": {
      "text/plain": [
       "9"
      ]
     },
     "execution_count": 77,
     "metadata": {},
     "output_type": "execute_result"
    }
   ],
   "source": [
    "next(x) #produces data (10 ==> 0)"
   ]
  },
  {
   "cell_type": "code",
   "execution_count": 107,
   "id": "efefcd40-7dfd-4986-99e7-5df5d8a9ca0a",
   "metadata": {
    "tags": []
   },
   "outputs": [],
   "source": [
    "def capture(pattern):\n",
    "    print('Searching for', pattern)\n",
    "    while True:\n",
    "        line = (yield) #data is \"consumed\" at this point\n",
    "        if pattern in line:\n",
    "            print(f'\"{pattern}\" found in: ({line})')"
   ]
  },
  {
   "cell_type": "code",
   "execution_count": 108,
   "id": "2cbcf29b-fcc9-4bf2-9cf1-a5fc035f2a65",
   "metadata": {
    "tags": []
   },
   "outputs": [],
   "source": [
    "search = capture('coroutine')"
   ]
  },
  {
   "cell_type": "code",
   "execution_count": 109,
   "id": "c30e809d-1441-46d8-a699-808d755dd4a8",
   "metadata": {
    "tags": []
   },
   "outputs": [
    {
     "name": "stdout",
     "output_type": "stream",
     "text": [
      "Searching for coroutine\n"
     ]
    }
   ],
   "source": [
    "next(search) #sets coroutine in motion, but still need to pass in data"
   ]
  },
  {
   "cell_type": "code",
   "execution_count": 110,
   "id": "af39f20e-d21c-488b-867b-563482f17762",
   "metadata": {
    "tags": []
   },
   "outputs": [],
   "source": [
    "search.send('What pattern are we searching for?')"
   ]
  },
  {
   "cell_type": "code",
   "execution_count": 105,
   "id": "769dd8eb-6c34-441f-89c8-4ba7d305d7e5",
   "metadata": {
    "tags": []
   },
   "outputs": [],
   "source": [
    "search.send('Do you love me?')"
   ]
  },
  {
   "cell_type": "code",
   "execution_count": 111,
   "id": "22c440f5-9f26-43d6-a399-336d633c9731",
   "metadata": {
    "tags": []
   },
   "outputs": [
    {
     "name": "stdout",
     "output_type": "stream",
     "text": [
      "\"coroutine\" found in: (No, I love coroutine instead)\n"
     ]
    }
   ],
   "source": [
    "search.send('No, I love coroutine instead')"
   ]
  },
  {
   "cell_type": "markdown",
   "id": "7ff6bfa3-12b9-46bf-9d91-a30006abb6e7",
   "metadata": {},
   "source": [
    "### Concurrent programming and Coroutines"
   ]
  },
  {
   "cell_type": "code",
   "execution_count": 112,
   "id": "8cc153c1-05b6-46ef-90eb-b4418d19dd08",
   "metadata": {
    "tags": []
   },
   "outputs": [],
   "source": [
    "#keyword is async\n",
    "async def coroutine_func():\n",
    "    print('This is a coroutinen')"
   ]
  },
  {
   "cell_type": "code",
   "execution_count": 113,
   "id": "58ade338-ff59-4f1b-b4d8-30eeaa77423e",
   "metadata": {
    "tags": []
   },
   "outputs": [
    {
     "name": "stderr",
     "output_type": "stream",
     "text": [
      "/var/folders/1k/3mrcqp5d4670v77qsx12xwmm0000gn/T/ipykernel_23115/2559291844.py:1: RuntimeWarning: coroutine 'coroutine_func' was never awaited\n",
      "  type(coroutine_func())\n",
      "RuntimeWarning: Enable tracemalloc to get the object allocation traceback\n"
     ]
    },
    {
     "data": {
      "text/plain": [
       "coroutine"
      ]
     },
     "execution_count": 113,
     "metadata": {},
     "output_type": "execute_result"
    }
   ],
   "source": [
    "type(coroutine_func())"
   ]
  },
  {
   "cell_type": "code",
   "execution_count": 114,
   "id": "9fbd25b7-165a-472f-bfeb-b10c863160f8",
   "metadata": {
    "tags": []
   },
   "outputs": [
    {
     "data": {
      "text/plain": [
       "<coroutine object coroutine_func at 0x106350b80>"
      ]
     },
     "execution_count": 114,
     "metadata": {},
     "output_type": "execute_result"
    }
   ],
   "source": [
    "coroutine_func()"
   ]
  },
  {
   "cell_type": "code",
   "execution_count": 123,
   "id": "2c1bd1aa-717f-416e-aaae-3e86c1ba8191",
   "metadata": {
    "tags": []
   },
   "outputs": [],
   "source": [
    "import asyncio\n",
    "\n",
    "async def coroutine_func():\n",
    "    print('This is a coroutine')"
   ]
  },
  {
   "cell_type": "code",
   "execution_count": 117,
   "id": "b26d8f20-9c95-4cf7-a198-1b8928805edc",
   "metadata": {
    "tags": []
   },
   "outputs": [
    {
     "ename": "RuntimeError",
     "evalue": "asyncio.run() cannot be called from a running event loop",
     "output_type": "error",
     "traceback": [
      "\u001b[0;31m---------------------------------------------------------------------------\u001b[0m",
      "\u001b[0;31mRuntimeError\u001b[0m                              Traceback (most recent call last)",
      "Cell \u001b[0;32mIn[117], line 1\u001b[0m\n\u001b[0;32m----> 1\u001b[0m asyncio\u001b[38;5;241m.\u001b[39mrun(coroutine_func())\n",
      "File \u001b[0;32m~/anaconda3/lib/python3.11/asyncio/runners.py:186\u001b[0m, in \u001b[0;36mrun\u001b[0;34m(main, debug)\u001b[0m\n\u001b[1;32m    161\u001b[0m \u001b[38;5;250m\u001b[39m\u001b[38;5;124;03m\"\"\"Execute the coroutine and return the result.\u001b[39;00m\n\u001b[1;32m    162\u001b[0m \n\u001b[1;32m    163\u001b[0m \u001b[38;5;124;03mThis function runs the passed coroutine, taking care of\u001b[39;00m\n\u001b[0;32m   (...)\u001b[0m\n\u001b[1;32m    182\u001b[0m \u001b[38;5;124;03m    asyncio.run(main())\u001b[39;00m\n\u001b[1;32m    183\u001b[0m \u001b[38;5;124;03m\"\"\"\u001b[39;00m\n\u001b[1;32m    184\u001b[0m \u001b[38;5;28;01mif\u001b[39;00m events\u001b[38;5;241m.\u001b[39m_get_running_loop() \u001b[38;5;129;01mis\u001b[39;00m \u001b[38;5;129;01mnot\u001b[39;00m \u001b[38;5;28;01mNone\u001b[39;00m:\n\u001b[1;32m    185\u001b[0m     \u001b[38;5;66;03m# fail fast with short traceback\u001b[39;00m\n\u001b[0;32m--> 186\u001b[0m     \u001b[38;5;28;01mraise\u001b[39;00m \u001b[38;5;167;01mRuntimeError\u001b[39;00m(\n\u001b[1;32m    187\u001b[0m         \u001b[38;5;124m\"\u001b[39m\u001b[38;5;124masyncio.run() cannot be called from a running event loop\u001b[39m\u001b[38;5;124m\"\u001b[39m)\n\u001b[1;32m    189\u001b[0m \u001b[38;5;28;01mwith\u001b[39;00m Runner(debug\u001b[38;5;241m=\u001b[39mdebug) \u001b[38;5;28;01mas\u001b[39;00m runner:\n\u001b[1;32m    190\u001b[0m     \u001b[38;5;28;01mreturn\u001b[39;00m runner\u001b[38;5;241m.\u001b[39mrun(main)\n",
      "\u001b[0;31mRuntimeError\u001b[0m: asyncio.run() cannot be called from a running event loop"
     ]
    }
   ],
   "source": [
    "asyncio.run(coroutine_func())"
   ]
  },
  {
   "cell_type": "code",
   "execution_count": 119,
   "id": "4decad8e-8bea-4881-a7ae-3122f8795f4e",
   "metadata": {
    "tags": []
   },
   "outputs": [
    {
     "data": {
      "text/plain": [
       "<_UnixSelectorEventLoop running=True closed=False debug=False>"
      ]
     },
     "execution_count": 119,
     "metadata": {},
     "output_type": "execute_result"
    }
   ],
   "source": [
    "asyncio.get_event_loop()"
   ]
  },
  {
   "cell_type": "code",
   "execution_count": 120,
   "id": "7b129a71-1918-4b23-be39-e9739f673320",
   "metadata": {
    "tags": []
   },
   "outputs": [],
   "source": [
    "import nest_asyncio"
   ]
  },
  {
   "cell_type": "code",
   "execution_count": 121,
   "id": "9d1ec669-8743-4906-b947-f4e0abf024be",
   "metadata": {
    "tags": []
   },
   "outputs": [],
   "source": [
    "nest_asyncio.apply()"
   ]
  },
  {
   "cell_type": "code",
   "execution_count": 124,
   "id": "47400a27-3426-4928-a31e-beec8f7692b4",
   "metadata": {
    "tags": []
   },
   "outputs": [
    {
     "name": "stdout",
     "output_type": "stream",
     "text": [
      "This is a coroutine\n"
     ]
    }
   ],
   "source": [
    "async def coroutine_func():\n",
    "    print('This is a coroutine')\n",
    "    \n",
    "asyncio.run(coroutine_func())"
   ]
  },
  {
   "cell_type": "code",
   "execution_count": 125,
   "id": "538c98bd-4d50-4045-9867-648ef1c97a1e",
   "metadata": {
    "tags": []
   },
   "outputs": [
    {
     "name": "stdout",
     "output_type": "stream",
     "text": [
      "This is a coroutine\n",
      "Yes it is\n"
     ]
    }
   ],
   "source": [
    "# Awaitables\n",
    "\n",
    "async def coroutine_func():\n",
    "    print('This is a coroutine')\n",
    "    \n",
    "    await asyncio.sleep(3)\n",
    "    \n",
    "    print('Yes it is')\n",
    "    \n",
    "asyncio.run(coroutine_func())"
   ]
  },
  {
   "cell_type": "code",
   "execution_count": 129,
   "id": "e6eab424-b00a-4ea7-991f-51832b75dd1c",
   "metadata": {
    "tags": []
   },
   "outputs": [
    {
     "name": "stdout",
     "output_type": "stream",
     "text": [
      "This is a coroutine Time now: 18:19:56\n",
      "Yes it is Time now: 18:19:59\n"
     ]
    }
   ],
   "source": [
    "import time\n",
    "\n",
    "async def coroutine_func():\n",
    "    print('This is a coroutine', f'Time now: {time.strftime(\"%X\")}')\n",
    "    \n",
    "    await asyncio.sleep(3)\n",
    "    \n",
    "    print('Yes it is', f'Time now: {time.strftime(\"%X\")}')\n",
    "    \n",
    "asyncio.run(coroutine_func())"
   ]
  },
  {
   "cell_type": "code",
   "execution_count": 131,
   "id": "aa241070-3ddd-4c00-94b3-9fa8359e8e41",
   "metadata": {
    "tags": []
   },
   "outputs": [
    {
     "name": "stdout",
     "output_type": "stream",
     "text": [
      "Start time: 18:23:56\n",
      "Turn on engine. Time now: 18:23:56\n",
      "Put the car in drive. Time now: 18:23:57\n",
      "End time: 18:23:59\n"
     ]
    }
   ],
   "source": [
    "async def drive(delay, action, time):\n",
    "    await asyncio.sleep(delay)\n",
    "    print(action, time)\n",
    "    \n",
    "async def main():\n",
    "    print(f'Start time: {time.strftime(\"%X\")}')\n",
    "    \n",
    "    await drive(1, \"Turn on engine.\", f'Time now: {time.strftime(\"%X\")}')\n",
    "    await drive(2, \"Put the car in drive.\", f'Time now: {time.strftime(\"%X\")}')\n",
    "    \n",
    "    print(f'End time: {time.strftime(\"%X\")}')\n",
    "    \n",
    "asyncio.run(main())"
   ]
  },
  {
   "cell_type": "code",
   "execution_count": 133,
   "id": "e6abc226-50d9-44a2-9f01-ad79b383dbe5",
   "metadata": {
    "tags": []
   },
   "outputs": [
    {
     "name": "stdout",
     "output_type": "stream",
     "text": [
      "Start time: 18:28:46\n",
      "Turn on engine. Time now: 18:28:46\n",
      "Put the car in drive. Time now: 18:28:46\n",
      "End time: 18:28:51\n"
     ]
    }
   ],
   "source": [
    "#async.create_task()\n",
    "\n",
    "\n",
    "async def main():\n",
    "    task1 = asyncio.create_task(\n",
    "    drive(1, \"Turn on engine.\", f'Time now: {time.strftime(\"%X\")}')\n",
    "    )\n",
    "    \n",
    "    task2 = asyncio.create_task(\n",
    "    drive(5, \"Put the car in drive.\", f'Time now: {time.strftime(\"%X\")}')\n",
    "    )\n",
    "    \n",
    "    print(f'Start time: {time.strftime(\"%X\")}')\n",
    "    \n",
    "    await task1\n",
    "    await task2\n",
    "    \n",
    "    print(f'End time: {time.strftime(\"%X\")}')\n",
    "    \n",
    "asyncio.run(main())"
   ]
  },
  {
   "cell_type": "markdown",
   "id": "046331ac-f03d-42db-81b1-438edbb15f2a",
   "metadata": {},
   "source": [
    "# Function Caching"
   ]
  },
  {
   "cell_type": "markdown",
   "id": "9c1d882a-fc69-43b0-95a3-0a6c6f72ef7f",
   "metadata": {},
   "source": [
    "### Memoization"
   ]
  },
  {
   "cell_type": "markdown",
   "id": "dbc403db-a721-44b3-8ebe-a1f1fbb0da97",
   "metadata": {},
   "source": [
    "#### Recursion\n",
    "\n",
    "#### Fibonacci Sequence\n",
    "\n",
    "1,1,2,3,5,8,13, ... \n",
    "\n"
   ]
  },
  {
   "cell_type": "code",
   "execution_count": 134,
   "id": "5295d6cf-bc4d-4b35-a24b-73a7401b7e70",
   "metadata": {
    "tags": []
   },
   "outputs": [],
   "source": [
    "def fib(n):\n",
    "    if n == 1 or n == 2:\n",
    "        return 1\n",
    "    \n",
    "    else:\n",
    "        return fib(n-1) + fib(n-2)"
   ]
  },
  {
   "cell_type": "code",
   "execution_count": 137,
   "id": "50c8ce2d-94ca-464b-b3d4-7f185783b2fe",
   "metadata": {
    "tags": []
   },
   "outputs": [
    {
     "data": {
      "text/plain": [
       "8"
      ]
     },
     "execution_count": 137,
     "metadata": {},
     "output_type": "execute_result"
    }
   ],
   "source": [
    "fib(6)"
   ]
  },
  {
   "cell_type": "code",
   "execution_count": 142,
   "id": "1af6f2be-6f17-4ab9-b202-452246aa73ab",
   "metadata": {
    "tags": []
   },
   "outputs": [
    {
     "ename": "KeyboardInterrupt",
     "evalue": "",
     "output_type": "error",
     "traceback": [
      "\u001b[0;31m---------------------------------------------------------------------------\u001b[0m",
      "\u001b[0;31mKeyboardInterrupt\u001b[0m                         Traceback (most recent call last)",
      "Cell \u001b[0;32mIn[142], line 1\u001b[0m\n\u001b[0;32m----> 1\u001b[0m fib(\u001b[38;5;241m40\u001b[39m)\n",
      "Cell \u001b[0;32mIn[134], line 6\u001b[0m, in \u001b[0;36mfib\u001b[0;34m(n)\u001b[0m\n\u001b[1;32m      3\u001b[0m     \u001b[38;5;28;01mreturn\u001b[39;00m \u001b[38;5;241m1\u001b[39m\n\u001b[1;32m      5\u001b[0m \u001b[38;5;28;01melse\u001b[39;00m:\n\u001b[0;32m----> 6\u001b[0m     \u001b[38;5;28;01mreturn\u001b[39;00m fib(n\u001b[38;5;241m-\u001b[39m\u001b[38;5;241m1\u001b[39m) \u001b[38;5;241m+\u001b[39m fib(n\u001b[38;5;241m-\u001b[39m\u001b[38;5;241m2\u001b[39m)\n",
      "Cell \u001b[0;32mIn[134], line 6\u001b[0m, in \u001b[0;36mfib\u001b[0;34m(n)\u001b[0m\n\u001b[1;32m      3\u001b[0m     \u001b[38;5;28;01mreturn\u001b[39;00m \u001b[38;5;241m1\u001b[39m\n\u001b[1;32m      5\u001b[0m \u001b[38;5;28;01melse\u001b[39;00m:\n\u001b[0;32m----> 6\u001b[0m     \u001b[38;5;28;01mreturn\u001b[39;00m fib(n\u001b[38;5;241m-\u001b[39m\u001b[38;5;241m1\u001b[39m) \u001b[38;5;241m+\u001b[39m fib(n\u001b[38;5;241m-\u001b[39m\u001b[38;5;241m2\u001b[39m)\n",
      "    \u001b[0;31m[... skipping similar frames: fib at line 6 (24 times)]\u001b[0m\n",
      "Cell \u001b[0;32mIn[134], line 6\u001b[0m, in \u001b[0;36mfib\u001b[0;34m(n)\u001b[0m\n\u001b[1;32m      3\u001b[0m     \u001b[38;5;28;01mreturn\u001b[39;00m \u001b[38;5;241m1\u001b[39m\n\u001b[1;32m      5\u001b[0m \u001b[38;5;28;01melse\u001b[39;00m:\n\u001b[0;32m----> 6\u001b[0m     \u001b[38;5;28;01mreturn\u001b[39;00m fib(n\u001b[38;5;241m-\u001b[39m\u001b[38;5;241m1\u001b[39m) \u001b[38;5;241m+\u001b[39m fib(n\u001b[38;5;241m-\u001b[39m\u001b[38;5;241m2\u001b[39m)\n",
      "Cell \u001b[0;32mIn[134], line 1\u001b[0m, in \u001b[0;36mfib\u001b[0;34m(n)\u001b[0m\n\u001b[0;32m----> 1\u001b[0m \u001b[38;5;28;01mdef\u001b[39;00m \u001b[38;5;21mfib\u001b[39m(n):\n\u001b[1;32m      2\u001b[0m     \u001b[38;5;28;01mif\u001b[39;00m n \u001b[38;5;241m==\u001b[39m \u001b[38;5;241m1\u001b[39m \u001b[38;5;129;01mor\u001b[39;00m n \u001b[38;5;241m==\u001b[39m \u001b[38;5;241m2\u001b[39m:\n\u001b[1;32m      3\u001b[0m         \u001b[38;5;28;01mreturn\u001b[39;00m \u001b[38;5;241m1\u001b[39m\n",
      "\u001b[0;31mKeyboardInterrupt\u001b[0m: "
     ]
    }
   ],
   "source": [
    "#fib(40) takes way too long, so we need to figure out how to make this process faster"
   ]
  },
  {
   "cell_type": "code",
   "execution_count": 146,
   "id": "23c19956-48b6-4b4b-bede-4678abc16a8e",
   "metadata": {
    "tags": []
   },
   "outputs": [],
   "source": [
    "### memoization\n",
    "\n",
    "def memoize(function):\n",
    "    memo = {}\n",
    "    \n",
    "    def wrapper(*args):\n",
    "        pass\n",
    "    \n",
    "    return wrapper\n",
    "\n",
    "@memoize\n",
    "def fib(n):\n",
    "    '''Finding the nth number in the fibonacci sequence''' #__doc__ string for fib\n",
    "    if n == 1 or n == 2:\n",
    "        return 1\n",
    "    \n",
    "    else:\n",
    "        return fib(n-1) + fib(n-2)"
   ]
  },
  {
   "cell_type": "code",
   "execution_count": 144,
   "id": "8acce197-b0cc-4267-8b85-c622dd37bc4d",
   "metadata": {
    "tags": []
   },
   "outputs": [
    {
     "data": {
      "text/plain": [
       "'wrapper'"
      ]
     },
     "execution_count": 144,
     "metadata": {},
     "output_type": "execute_result"
    }
   ],
   "source": [
    "fib.__name__"
   ]
  },
  {
   "cell_type": "code",
   "execution_count": 145,
   "id": "0701a286-446f-4168-8250-ae76c41f46af",
   "metadata": {
    "tags": []
   },
   "outputs": [],
   "source": [
    "fib.__doc__"
   ]
  },
  {
   "cell_type": "code",
   "execution_count": 148,
   "id": "afc2ca23-1f99-44a0-a68b-565fb5da5724",
   "metadata": {
    "tags": []
   },
   "outputs": [],
   "source": [
    "from functools import wraps\n",
    "\n",
    "def memoize(function):\n",
    "    memo = {}\n",
    "    \n",
    "    @wraps(function) #maintains attributes of function, instead of overwriting them with the attributes of wrapper\n",
    "    def wrapper(*args):\n",
    "        pass\n",
    "    \n",
    "    return wrapper\n",
    "\n",
    "@memoize\n",
    "def fib(n):\n",
    "    '''Finding the nth number in the fibonacci sequence''' #__doc__ string for fib\n",
    "    if n == 1 or n == 2:\n",
    "        return 1\n",
    "    \n",
    "    else:\n",
    "        return fib(n-1) + fib(n-2)"
   ]
  },
  {
   "cell_type": "code",
   "execution_count": 149,
   "id": "f8138efa-7632-434c-ae99-42b2ed71122d",
   "metadata": {
    "tags": []
   },
   "outputs": [
    {
     "data": {
      "text/plain": [
       "'fib'"
      ]
     },
     "execution_count": 149,
     "metadata": {},
     "output_type": "execute_result"
    }
   ],
   "source": [
    "fib.__name__"
   ]
  },
  {
   "cell_type": "code",
   "execution_count": 150,
   "id": "e0b1ed6e-db9c-435f-818a-d0f976cfda1f",
   "metadata": {
    "tags": []
   },
   "outputs": [
    {
     "data": {
      "text/plain": [
       "'Finding the nth number in the fibonacci sequence'"
      ]
     },
     "execution_count": 150,
     "metadata": {},
     "output_type": "execute_result"
    }
   ],
   "source": [
    "fib.__doc__"
   ]
  },
  {
   "cell_type": "code",
   "execution_count": 159,
   "id": "f5ea184d-618a-40a8-9c6c-34ca92716833",
   "metadata": {
    "tags": []
   },
   "outputs": [],
   "source": [
    "from functools import wraps\n",
    "\n",
    "def memoize(function):\n",
    "    memo = {}\n",
    "    \n",
    "    @wraps(function) #maintains attributes of function, instead of overwriting them with the attributes of wrapper\n",
    "    def wrapper(*args):\n",
    "        try:\n",
    "            return memo[args]\n",
    "        \n",
    "        except KeyError: \n",
    "            value = function(*args)\n",
    "            memo[args] = value\n",
    "            #print(memo)\n",
    "            return value\n",
    "    \n",
    "    return wrapper\n",
    "\n",
    "@memoize\n",
    "def fib(n):\n",
    "    '''Finding the nth number in the fibonacci sequence''' #__doc__ string for fib\n",
    "    if n == 1 or n == 2:\n",
    "        return 1\n",
    "    \n",
    "    else:\n",
    "        return fib(n-1) + fib(n-2)"
   ]
  },
  {
   "cell_type": "code",
   "execution_count": 155,
   "id": "391645fa-f867-465e-ab5c-8e6941db8f70",
   "metadata": {
    "tags": []
   },
   "outputs": [
    {
     "name": "stdout",
     "output_type": "stream",
     "text": [
      "{(2,): 1}\n"
     ]
    },
    {
     "data": {
      "text/plain": [
       "1"
      ]
     },
     "execution_count": 155,
     "metadata": {},
     "output_type": "execute_result"
    }
   ],
   "source": [
    "fib(2)"
   ]
  },
  {
   "cell_type": "code",
   "execution_count": 156,
   "id": "168d7847-6b06-463d-9eef-d98819ca11c9",
   "metadata": {
    "tags": []
   },
   "outputs": [
    {
     "name": "stdout",
     "output_type": "stream",
     "text": [
      "{(2,): 1, (1,): 1}\n",
      "{(2,): 1, (1,): 1, (3,): 2}\n",
      "{(2,): 1, (1,): 1, (3,): 2, (4,): 3}\n",
      "{(2,): 1, (1,): 1, (3,): 2, (4,): 3, (5,): 5}\n"
     ]
    },
    {
     "data": {
      "text/plain": [
       "5"
      ]
     },
     "execution_count": 156,
     "metadata": {},
     "output_type": "execute_result"
    }
   ],
   "source": [
    "fib(5)"
   ]
  },
  {
   "cell_type": "code",
   "execution_count": 157,
   "id": "6f5e5cda-04e1-48cc-996a-879a0b7d123f",
   "metadata": {
    "tags": []
   },
   "outputs": [
    {
     "name": "stdout",
     "output_type": "stream",
     "text": [
      "{(2,): 1, (1,): 1, (3,): 2, (4,): 3, (5,): 5, (6,): 8}\n",
      "{(2,): 1, (1,): 1, (3,): 2, (4,): 3, (5,): 5, (6,): 8, (7,): 13}\n",
      "{(2,): 1, (1,): 1, (3,): 2, (4,): 3, (5,): 5, (6,): 8, (7,): 13, (8,): 21}\n",
      "{(2,): 1, (1,): 1, (3,): 2, (4,): 3, (5,): 5, (6,): 8, (7,): 13, (8,): 21, (9,): 34}\n",
      "{(2,): 1, (1,): 1, (3,): 2, (4,): 3, (5,): 5, (6,): 8, (7,): 13, (8,): 21, (9,): 34, (10,): 55}\n",
      "{(2,): 1, (1,): 1, (3,): 2, (4,): 3, (5,): 5, (6,): 8, (7,): 13, (8,): 21, (9,): 34, (10,): 55, (11,): 89}\n",
      "{(2,): 1, (1,): 1, (3,): 2, (4,): 3, (5,): 5, (6,): 8, (7,): 13, (8,): 21, (9,): 34, (10,): 55, (11,): 89, (12,): 144}\n",
      "{(2,): 1, (1,): 1, (3,): 2, (4,): 3, (5,): 5, (6,): 8, (7,): 13, (8,): 21, (9,): 34, (10,): 55, (11,): 89, (12,): 144, (13,): 233}\n",
      "{(2,): 1, (1,): 1, (3,): 2, (4,): 3, (5,): 5, (6,): 8, (7,): 13, (8,): 21, (9,): 34, (10,): 55, (11,): 89, (12,): 144, (13,): 233, (14,): 377}\n",
      "{(2,): 1, (1,): 1, (3,): 2, (4,): 3, (5,): 5, (6,): 8, (7,): 13, (8,): 21, (9,): 34, (10,): 55, (11,): 89, (12,): 144, (13,): 233, (14,): 377, (15,): 610}\n",
      "{(2,): 1, (1,): 1, (3,): 2, (4,): 3, (5,): 5, (6,): 8, (7,): 13, (8,): 21, (9,): 34, (10,): 55, (11,): 89, (12,): 144, (13,): 233, (14,): 377, (15,): 610, (16,): 987}\n",
      "{(2,): 1, (1,): 1, (3,): 2, (4,): 3, (5,): 5, (6,): 8, (7,): 13, (8,): 21, (9,): 34, (10,): 55, (11,): 89, (12,): 144, (13,): 233, (14,): 377, (15,): 610, (16,): 987, (17,): 1597}\n",
      "{(2,): 1, (1,): 1, (3,): 2, (4,): 3, (5,): 5, (6,): 8, (7,): 13, (8,): 21, (9,): 34, (10,): 55, (11,): 89, (12,): 144, (13,): 233, (14,): 377, (15,): 610, (16,): 987, (17,): 1597, (18,): 2584}\n",
      "{(2,): 1, (1,): 1, (3,): 2, (4,): 3, (5,): 5, (6,): 8, (7,): 13, (8,): 21, (9,): 34, (10,): 55, (11,): 89, (12,): 144, (13,): 233, (14,): 377, (15,): 610, (16,): 987, (17,): 1597, (18,): 2584, (19,): 4181}\n",
      "{(2,): 1, (1,): 1, (3,): 2, (4,): 3, (5,): 5, (6,): 8, (7,): 13, (8,): 21, (9,): 34, (10,): 55, (11,): 89, (12,): 144, (13,): 233, (14,): 377, (15,): 610, (16,): 987, (17,): 1597, (18,): 2584, (19,): 4181, (20,): 6765}\n",
      "{(2,): 1, (1,): 1, (3,): 2, (4,): 3, (5,): 5, (6,): 8, (7,): 13, (8,): 21, (9,): 34, (10,): 55, (11,): 89, (12,): 144, (13,): 233, (14,): 377, (15,): 610, (16,): 987, (17,): 1597, (18,): 2584, (19,): 4181, (20,): 6765, (21,): 10946}\n",
      "{(2,): 1, (1,): 1, (3,): 2, (4,): 3, (5,): 5, (6,): 8, (7,): 13, (8,): 21, (9,): 34, (10,): 55, (11,): 89, (12,): 144, (13,): 233, (14,): 377, (15,): 610, (16,): 987, (17,): 1597, (18,): 2584, (19,): 4181, (20,): 6765, (21,): 10946, (22,): 17711}\n",
      "{(2,): 1, (1,): 1, (3,): 2, (4,): 3, (5,): 5, (6,): 8, (7,): 13, (8,): 21, (9,): 34, (10,): 55, (11,): 89, (12,): 144, (13,): 233, (14,): 377, (15,): 610, (16,): 987, (17,): 1597, (18,): 2584, (19,): 4181, (20,): 6765, (21,): 10946, (22,): 17711, (23,): 28657}\n",
      "{(2,): 1, (1,): 1, (3,): 2, (4,): 3, (5,): 5, (6,): 8, (7,): 13, (8,): 21, (9,): 34, (10,): 55, (11,): 89, (12,): 144, (13,): 233, (14,): 377, (15,): 610, (16,): 987, (17,): 1597, (18,): 2584, (19,): 4181, (20,): 6765, (21,): 10946, (22,): 17711, (23,): 28657, (24,): 46368}\n",
      "{(2,): 1, (1,): 1, (3,): 2, (4,): 3, (5,): 5, (6,): 8, (7,): 13, (8,): 21, (9,): 34, (10,): 55, (11,): 89, (12,): 144, (13,): 233, (14,): 377, (15,): 610, (16,): 987, (17,): 1597, (18,): 2584, (19,): 4181, (20,): 6765, (21,): 10946, (22,): 17711, (23,): 28657, (24,): 46368, (25,): 75025}\n",
      "{(2,): 1, (1,): 1, (3,): 2, (4,): 3, (5,): 5, (6,): 8, (7,): 13, (8,): 21, (9,): 34, (10,): 55, (11,): 89, (12,): 144, (13,): 233, (14,): 377, (15,): 610, (16,): 987, (17,): 1597, (18,): 2584, (19,): 4181, (20,): 6765, (21,): 10946, (22,): 17711, (23,): 28657, (24,): 46368, (25,): 75025, (26,): 121393}\n",
      "{(2,): 1, (1,): 1, (3,): 2, (4,): 3, (5,): 5, (6,): 8, (7,): 13, (8,): 21, (9,): 34, (10,): 55, (11,): 89, (12,): 144, (13,): 233, (14,): 377, (15,): 610, (16,): 987, (17,): 1597, (18,): 2584, (19,): 4181, (20,): 6765, (21,): 10946, (22,): 17711, (23,): 28657, (24,): 46368, (25,): 75025, (26,): 121393, (27,): 196418}\n",
      "{(2,): 1, (1,): 1, (3,): 2, (4,): 3, (5,): 5, (6,): 8, (7,): 13, (8,): 21, (9,): 34, (10,): 55, (11,): 89, (12,): 144, (13,): 233, (14,): 377, (15,): 610, (16,): 987, (17,): 1597, (18,): 2584, (19,): 4181, (20,): 6765, (21,): 10946, (22,): 17711, (23,): 28657, (24,): 46368, (25,): 75025, (26,): 121393, (27,): 196418, (28,): 317811}\n",
      "{(2,): 1, (1,): 1, (3,): 2, (4,): 3, (5,): 5, (6,): 8, (7,): 13, (8,): 21, (9,): 34, (10,): 55, (11,): 89, (12,): 144, (13,): 233, (14,): 377, (15,): 610, (16,): 987, (17,): 1597, (18,): 2584, (19,): 4181, (20,): 6765, (21,): 10946, (22,): 17711, (23,): 28657, (24,): 46368, (25,): 75025, (26,): 121393, (27,): 196418, (28,): 317811, (29,): 514229}\n",
      "{(2,): 1, (1,): 1, (3,): 2, (4,): 3, (5,): 5, (6,): 8, (7,): 13, (8,): 21, (9,): 34, (10,): 55, (11,): 89, (12,): 144, (13,): 233, (14,): 377, (15,): 610, (16,): 987, (17,): 1597, (18,): 2584, (19,): 4181, (20,): 6765, (21,): 10946, (22,): 17711, (23,): 28657, (24,): 46368, (25,): 75025, (26,): 121393, (27,): 196418, (28,): 317811, (29,): 514229, (30,): 832040}\n"
     ]
    },
    {
     "data": {
      "text/plain": [
       "832040"
      ]
     },
     "execution_count": 157,
     "metadata": {},
     "output_type": "execute_result"
    }
   ],
   "source": [
    "fib(30)"
   ]
  },
  {
   "cell_type": "code",
   "execution_count": 164,
   "id": "3b7bf7cf-dfe4-4aa3-84c6-f673dd58b083",
   "metadata": {
    "tags": []
   },
   "outputs": [
    {
     "data": {
      "text/plain": [
       "354224848179261915075"
      ]
     },
     "execution_count": 164,
     "metadata": {},
     "output_type": "execute_result"
    }
   ],
   "source": [
    "fib(100) #much much faster than if we calculated fib(100) it with recursion\n",
    "            #implementation of caching\n",
    "            ###Very common in technical interviews###"
   ]
  },
  {
   "cell_type": "code",
   "execution_count": 165,
   "id": "f4b1c34c-f3fa-405b-9bc3-619e50ea08b2",
   "metadata": {
    "tags": []
   },
   "outputs": [],
   "source": [
    "#Python 3 ===> lru_cache\n",
    "\n",
    "from functools import lru_cache"
   ]
  },
  {
   "cell_type": "code",
   "execution_count": 166,
   "id": "c348b893-154f-4517-862e-28d70d2e08c6",
   "metadata": {
    "tags": []
   },
   "outputs": [],
   "source": [
    "@lru_cache(maxsize=128) #maxsize determines max size of the number of most recent call (default is 128)\n",
    "def fib_1(n):\n",
    "    '''Finding the nth number in the fibonacci sequence''' #__doc__ string for fib\n",
    "    if n == 1 or n == 2:\n",
    "        return 1\n",
    "    \n",
    "    else:\n",
    "        return fib(n-1) + fib(n-2)"
   ]
  },
  {
   "cell_type": "code",
   "execution_count": 168,
   "id": "f357a241-a4e7-4f57-9cde-735c6c064c7e",
   "metadata": {
    "tags": []
   },
   "outputs": [
    {
     "data": {
      "text/plain": [
       "43466557686937456435688527675040625802564660517371780402481729089536555417949051890403879840079255169295922593080322634775209689623239873322471161642996440906533187938298969649928516003704476137795166849228875"
      ]
     },
     "execution_count": 168,
     "metadata": {},
     "output_type": "execute_result"
    }
   ],
   "source": [
    "fib_1(1000) #automatic caching/memoization"
   ]
  },
  {
   "cell_type": "code",
   "execution_count": 172,
   "id": "4c81f59e-674f-4bea-bcf2-eb821b2cd352",
   "metadata": {
    "tags": []
   },
   "outputs": [],
   "source": [
    "def fib_list(n):\n",
    "    if n < 2:\n",
    "        return n\n",
    "    print(f'Calculating fib({n})')\n",
    "    return fib_list(n-1) + fib_list(n-2)"
   ]
  },
  {
   "cell_type": "code",
   "execution_count": 175,
   "id": "023ca415-d66c-4f47-80a6-58ef1dcaab70",
   "metadata": {
    "tags": []
   },
   "outputs": [
    {
     "name": "stdout",
     "output_type": "stream",
     "text": [
      "Calculating fib(2)\n",
      "Calculating fib(3)\n",
      "Calculating fib(2)\n",
      "Calculating fib(4)\n",
      "Calculating fib(3)\n",
      "Calculating fib(2)\n",
      "Calculating fib(2)\n",
      "Calculating fib(5)\n",
      "Calculating fib(4)\n",
      "Calculating fib(3)\n",
      "Calculating fib(2)\n",
      "Calculating fib(2)\n",
      "Calculating fib(3)\n",
      "Calculating fib(2)\n",
      "[1, 1, 2, 3, 5]\n"
     ]
    }
   ],
   "source": [
    "print([fib_list(n) for n in range(1,6)]) #many repititions of the same task fib(2), fib(3), fib(4) ... etc."
   ]
  },
  {
   "cell_type": "code",
   "execution_count": 180,
   "id": "02923660-1eed-487e-aa25-b786b205a588",
   "metadata": {
    "tags": []
   },
   "outputs": [],
   "source": [
    "@lru_cache(maxsize = 32)\n",
    "def fib_list(n):\n",
    "    if n < 2:\n",
    "        return n\n",
    "    print(f'Calculating fib({n})')\n",
    "    return fib_list(n-1) + fib_list(n-2)"
   ]
  },
  {
   "cell_type": "code",
   "execution_count": 181,
   "id": "60bc074e-1312-4305-ae1b-077dda55ebe7",
   "metadata": {
    "tags": []
   },
   "outputs": [
    {
     "name": "stdout",
     "output_type": "stream",
     "text": [
      "Calculating fib(2)\n",
      "Calculating fib(3)\n",
      "Calculating fib(4)\n",
      "Calculating fib(5)\n",
      "Calculating fib(6)\n",
      "Calculating fib(7)\n",
      "Calculating fib(8)\n",
      "Calculating fib(9)\n",
      "[1, 1, 2, 3, 5, 8, 13, 21, 34]\n"
     ]
    }
   ],
   "source": [
    "print([fib_list(n) for n in range(1,10)])\n",
    "#Only calculates each fib(n) one time, and uses the same calculation for each n"
   ]
  },
  {
   "cell_type": "markdown",
   "id": "a28f8f8f-b156-4d6f-919e-8325649f84e8",
   "metadata": {},
   "source": [
    "# Context managers"
   ]
  },
  {
   "cell_type": "markdown",
   "id": "ccc65da2-d021-48e1-86af-ded16067daea",
   "metadata": {},
   "source": [
    "### Recap File Handling"
   ]
  },
  {
   "cell_type": "code",
   "execution_count": 182,
   "id": "bd8f1353-5dd8-4b1c-821b-32bc486f14f5",
   "metadata": {
    "tags": []
   },
   "outputs": [],
   "source": [
    "f = open('some_file.txt', 'w')\n",
    "\n",
    "f.write('Now we have some content.')\n",
    "\n",
    "f.close()"
   ]
  },
  {
   "cell_type": "code",
   "execution_count": 183,
   "id": "97d1c7c6-19ee-4cb9-b196-124f9049977f",
   "metadata": {
    "tags": []
   },
   "outputs": [
    {
     "name": "stdout",
     "output_type": "stream",
     "text": [
      "Now we have some content.\n"
     ]
    }
   ],
   "source": [
    "f = open('some_file.txt','r')\n",
    "\n",
    "print(f.read())"
   ]
  },
  {
   "cell_type": "code",
   "execution_count": 184,
   "id": "a49a6208-16e2-4a07-ab4e-fcc09b59c83d",
   "metadata": {
    "tags": []
   },
   "outputs": [],
   "source": [
    "f = open('some_file.txt', 'a') #'a' for append\n",
    "\n",
    "f.write('\\nThis is some additional content.')\n",
    "\n",
    "f.close()"
   ]
  },
  {
   "cell_type": "code",
   "execution_count": 185,
   "id": "0b6af5cc-49e0-4662-ad4c-5693a5492666",
   "metadata": {
    "tags": []
   },
   "outputs": [
    {
     "name": "stdout",
     "output_type": "stream",
     "text": [
      "Now we have some content.\n",
      "This is some additional content.\n"
     ]
    }
   ],
   "source": [
    "f = open('some_file.txt','r')\n",
    "\n",
    "print(f.read())"
   ]
  },
  {
   "cell_type": "code",
   "execution_count": 197,
   "id": "df46f78c-63a1-4096-a8ba-d6deb3813d60",
   "metadata": {
    "tags": []
   },
   "outputs": [
    {
     "name": "stdout",
     "output_type": "stream",
     "text": [
      "it is False that f is closed\n",
      "now it is True that f is closed\n"
     ]
    }
   ],
   "source": [
    "f = open('some_file.txt','w')\n",
    "\n",
    "f.write('oops, previous content was overwritten')\n",
    "\n",
    "print(f'it is {f.closed} that f is closed')\n",
    "\n",
    "f.close()\n",
    "\n",
    "print(f'now it is {f.closed} that f is closed')"
   ]
  },
  {
   "cell_type": "code",
   "execution_count": 187,
   "id": "35244520-8875-48c0-9ea0-5097b3938b8c",
   "metadata": {
    "tags": []
   },
   "outputs": [
    {
     "name": "stdout",
     "output_type": "stream",
     "text": [
      "oops, previous content was overwritten\n"
     ]
    }
   ],
   "source": [
    "f = open('some_file.txt','r')\n",
    "print(f.read())"
   ]
  },
  {
   "cell_type": "markdown",
   "id": "1c7f884e-059b-4e94-a026-87fbe817ca0c",
   "metadata": {},
   "source": [
    "### Back to context managers"
   ]
  },
  {
   "cell_type": "code",
   "execution_count": 207,
   "id": "07dcf167-ece4-41f9-9081-614f663fb31d",
   "metadata": {
    "tags": []
   },
   "outputs": [],
   "source": [
    "with open('some_file.txt','w') as open_file:\n",
    "    open_file.write('Hello, I am a context manager') #automatically closes file too"
   ]
  },
  {
   "cell_type": "code",
   "execution_count": 208,
   "id": "439569ba-f762-48e1-8a1c-872c44ae8d89",
   "metadata": {
    "tags": []
   },
   "outputs": [
    {
     "name": "stdout",
     "output_type": "stream",
     "text": [
      "Hello, I am a context manager\n"
     ]
    }
   ],
   "source": [
    "f = open('some_file.txt','r')\n",
    "\n",
    "print(f.read())\n"
   ]
  },
  {
   "cell_type": "markdown",
   "id": "78db4ff2-5874-4dea-8a40-a1b284a387e1",
   "metadata": {},
   "source": [
    "### Implementing a context manager as a class"
   ]
  },
  {
   "cell_type": "code",
   "execution_count": 215,
   "id": "4af60ce9-5945-483b-8ad0-12e18ed3da31",
   "metadata": {
    "tags": []
   },
   "outputs": [],
   "source": [
    "class open_file:\n",
    "    def __init__(self,filename,mode):\n",
    "        self.filename = filename\n",
    "        self.mode = mode\n",
    "    \n",
    "    def __enter__(self):\n",
    "        print(f'opened file: ({self.filename}).')\n",
    "        self.__file = open(self.filename, self.mode)\n",
    "        return self.__file\n",
    "    \n",
    "    def __exit__(self, exc_type, exc_value, exc_traceback):\n",
    "        print(f'closed file: ({self.filename}).')\n",
    "        if not self.__file.closed:\n",
    "            self.__file.close()\n",
    "            \n",
    "        return False"
   ]
  },
  {
   "cell_type": "code",
   "execution_count": 216,
   "id": "7eaddb75-d84a-4433-9164-cb64b942386d",
   "metadata": {
    "tags": []
   },
   "outputs": [
    {
     "name": "stdout",
     "output_type": "stream",
     "text": [
      "opened file: (some_file.txt).\n",
      "Hello, I am a context managerContext managers are very useful!\n",
      "Context managers are very useful!\n",
      "closed file: (some_file.txt).\n"
     ]
    }
   ],
   "source": [
    "with open_file('some_file.txt','r') as t:\n",
    "    print(t.read())"
   ]
  },
  {
   "cell_type": "code",
   "execution_count": 213,
   "id": "485b1bc5-c4fd-460d-b2ff-17658643b44b",
   "metadata": {
    "tags": []
   },
   "outputs": [
    {
     "name": "stdout",
     "output_type": "stream",
     "text": [
      "opened file: (some_file.txt).\n",
      "closed file: (some_file.txt).\n"
     ]
    }
   ],
   "source": [
    "with open_file('some_file.txt', 'a') as t:\n",
    "    t.write('\\nContext managers are very useful!')"
   ]
  },
  {
   "cell_type": "code",
   "execution_count": 214,
   "id": "9d4ee43b-3a8b-4fcc-b28d-cd63df60b52a",
   "metadata": {
    "tags": []
   },
   "outputs": [
    {
     "name": "stdout",
     "output_type": "stream",
     "text": [
      "opened file: (some_file.txt).\n",
      "Hello, I am a context managerContext managers are very useful!\n",
      "Context managers are very useful!\n",
      "closed file: (some_file.txt).\n"
     ]
    }
   ],
   "source": [
    "with open_file('some_file.txt','r') as t:\n",
    "    print(t.read())"
   ]
  },
  {
   "cell_type": "markdown",
   "id": "7d202c12-1a80-4302-93dc-8319b0785986",
   "metadata": {},
   "source": [
    "#### dealing with errors"
   ]
  },
  {
   "cell_type": "code",
   "execution_count": 217,
   "id": "0c15fb51-d15a-4204-95c2-5686ba7d843a",
   "metadata": {
    "tags": []
   },
   "outputs": [
    {
     "name": "stdout",
     "output_type": "stream",
     "text": [
      "opened file: (some_file.txt).\n",
      "closed file: (some_file.txt).\n"
     ]
    },
    {
     "ename": "AttributeError",
     "evalue": "'_io.TextIOWrapper' object has no attribute 'undefined_function'",
     "output_type": "error",
     "traceback": [
      "\u001b[0;31m---------------------------------------------------------------------------\u001b[0m",
      "\u001b[0;31mAttributeError\u001b[0m                            Traceback (most recent call last)",
      "Cell \u001b[0;32mIn[217], line 2\u001b[0m\n\u001b[1;32m      1\u001b[0m \u001b[38;5;28;01mwith\u001b[39;00m open_file(\u001b[38;5;124m'\u001b[39m\u001b[38;5;124msome_file.txt\u001b[39m\u001b[38;5;124m'\u001b[39m,\u001b[38;5;124m'\u001b[39m\u001b[38;5;124mr\u001b[39m\u001b[38;5;124m'\u001b[39m) \u001b[38;5;28;01mas\u001b[39;00m t:\n\u001b[0;32m----> 2\u001b[0m     t\u001b[38;5;241m.\u001b[39mundefined_function(\u001b[38;5;124m'\u001b[39m\u001b[38;5;124mHello!\u001b[39m\u001b[38;5;124m'\u001b[39m)\n",
      "\u001b[0;31mAttributeError\u001b[0m: '_io.TextIOWrapper' object has no attribute 'undefined_function'"
     ]
    }
   ],
   "source": [
    "with open_file('some_file.txt','r') as t:\n",
    "    t.undefined_function('Hello!')"
   ]
  },
  {
   "cell_type": "code",
   "execution_count": 222,
   "id": "0326c8de-506d-4ced-b9b9-7f7f8b707017",
   "metadata": {
    "tags": []
   },
   "outputs": [],
   "source": [
    "class open_file:\n",
    "    def __init__(self,filename,mode):\n",
    "        self.filename = filename\n",
    "        self.mode = mode\n",
    "    \n",
    "    def __enter__(self):\n",
    "        print(f'opened file: ({self.filename}).')\n",
    "        self.__file = open(self.filename, self.mode)\n",
    "        return self.__file\n",
    "    \n",
    "    def __exit__(self, exc_type, exc_value, exc_traceback):\n",
    "        print(f'closed file: ({self.filename}).')\n",
    "        if not self.__file.closed:\n",
    "            self.__file.close()\n",
    "            \n",
    "        return True #changed from true to false"
   ]
  },
  {
   "cell_type": "code",
   "execution_count": 223,
   "id": "054ca581-5190-431c-b740-9a4068f79a27",
   "metadata": {
    "tags": []
   },
   "outputs": [
    {
     "name": "stdout",
     "output_type": "stream",
     "text": [
      "opened file: (some_file.txt).\n",
      "closed file: (some_file.txt).\n"
     ]
    }
   ],
   "source": [
    "with open_file('some_file.txt','r') as t:\n",
    "    t.undefined_function('Hello!')"
   ]
  },
  {
   "cell_type": "code",
   "execution_count": 224,
   "id": "74fb0020-0d67-4996-b881-392049491436",
   "metadata": {
    "tags": []
   },
   "outputs": [
    {
     "name": "stdout",
     "output_type": "stream",
     "text": [
      "opened file: (some_file.txt).\n",
      "Hello, I am a context managerContext managers are very useful!\n",
      "Context managers are very useful!\n",
      "closed file: (some_file.txt).\n"
     ]
    }
   ],
   "source": [
    "with open_file('some_file.txt','r') as t:\n",
    "    print(t.read())"
   ]
  },
  {
   "cell_type": "markdown",
   "id": "bb801f65-7c6b-43d0-ac9b-0729b6cf7c2a",
   "metadata": {},
   "source": [
    "### Context managers as generators"
   ]
  },
  {
   "cell_type": "code",
   "execution_count": 226,
   "id": "eaba6c67-5755-42db-a80c-4ee9646d2e19",
   "metadata": {
    "tags": []
   },
   "outputs": [],
   "source": [
    "from contextlib import contextmanager"
   ]
  },
  {
   "cell_type": "code",
   "execution_count": 227,
   "id": "d4eef54a-df0e-449c-b526-387eef8e43d3",
   "metadata": {
    "tags": []
   },
   "outputs": [],
   "source": [
    "@contextmanager\n",
    "def open_file(filename, mode):\n",
    "    k = open(filename, mode)\n",
    "    try:\n",
    "        yield k\n",
    "        \n",
    "    finally:\n",
    "        k.close()"
   ]
  },
  {
   "cell_type": "code",
   "execution_count": 228,
   "id": "67545fc4-6bc5-4301-b401-785ab43e5c85",
   "metadata": {
    "tags": []
   },
   "outputs": [
    {
     "name": "stdout",
     "output_type": "stream",
     "text": [
      "Hello, I am a context managerContext managers are very useful!\n",
      "Context managers are very useful!\n"
     ]
    }
   ],
   "source": [
    "with open_file('some_file.txt','r') as t:\n",
    "    print(t.read())"
   ]
  },
  {
   "cell_type": "code",
   "execution_count": 229,
   "id": "a60c0be2-74a5-40e0-9d0d-62b6d717de52",
   "metadata": {
    "tags": []
   },
   "outputs": [],
   "source": [
    "with open_file('some_file.txt','w') as t:\n",
    "    t.write('12')"
   ]
  },
  {
   "cell_type": "code",
   "execution_count": 232,
   "id": "f49cdbd5-5dd5-47b5-9898-7b1bb8a23c64",
   "metadata": {
    "tags": []
   },
   "outputs": [
    {
     "name": "stdout",
     "output_type": "stream",
     "text": [
      "12\n"
     ]
    }
   ],
   "source": [
    "with open_file('some_file.txt','r') as t:\n",
    "    print(int(next(t)))"
   ]
  },
  {
   "cell_type": "markdown",
   "id": "90dd6d96-6b6b-49b6-ab89-9f91c205e95e",
   "metadata": {},
   "source": [
    "# Multithreading"
   ]
  },
  {
   "cell_type": "code",
   "execution_count": 233,
   "id": "056b870e-d656-4543-8580-bed1d3962a48",
   "metadata": {
    "tags": []
   },
   "outputs": [],
   "source": [
    "import time"
   ]
  },
  {
   "cell_type": "code",
   "execution_count": 237,
   "id": "72b1b278-5013-453f-8a37-101b39b46641",
   "metadata": {
    "tags": []
   },
   "outputs": [
    {
     "name": "stdout",
     "output_type": "stream",
     "text": [
      "sleep 1 second...\n",
      "Done sleeping...\n",
      "sleep 1 second...\n",
      "Done sleeping...\n",
      "finished in 2.0 seconds(s)\n"
     ]
    }
   ],
   "source": [
    "start = time.perf_counter()\n",
    "\n",
    "def some_task():\n",
    "    print('sleep 1 second...')\n",
    "    time.sleep(1)\n",
    "    print('Done sleeping...')\n",
    "    \n",
    "some_task()\n",
    "some_task()\n",
    "\n",
    "finish = time.perf_counter()\n",
    "\n",
    "print(f'finished in {round(finish - start, 1)} seconds(s)')\n",
    "\n",
    "#running in sychronous time (each task waits for the other to finish before the next task starts)"
   ]
  },
  {
   "cell_type": "code",
   "execution_count": 238,
   "id": "afa97631-3df8-44c0-a31d-c6a7789127c0",
   "metadata": {
    "tags": []
   },
   "outputs": [],
   "source": [
    "import threading"
   ]
  },
  {
   "cell_type": "code",
   "execution_count": 242,
   "id": "d057d461-8fdf-4f15-9d6f-8457219fd153",
   "metadata": {
    "tags": []
   },
   "outputs": [
    {
     "name": "stdout",
     "output_type": "stream",
     "text": [
      "sleep 1 second...sleep 1 second...\n",
      "finished in 0.0 seconds(s)\n",
      "\n",
      "Done sleeping...\n",
      "Done sleeping...\n"
     ]
    }
   ],
   "source": [
    "start = time.perf_counter()\n",
    "\n",
    "def some_task():\n",
    "    print('sleep 1 second...')\n",
    "    time.sleep(1)\n",
    "    print('Done sleeping...')\n",
    "    \n",
    "t1 = threading.Thread(target = some_task)\n",
    "t2 = threading.Thread(target = some_task)\n",
    "\n",
    "t1.start()\n",
    "t2.start()\n",
    "\n",
    "finish = time.perf_counter()\n",
    "\n",
    "print(f'finished in {round(finish - start, 2)} seconds(s)')\n",
    "\n",
    "#this code doesn't wait for t1 or t2 to finish before continueing with the rest of the script, so as soon as the threads\n",
    "# start, the next part of the script is started, which is why the finished in _.__ seconds shows before the end statement\n",
    "# of t1 and t2"
   ]
  },
  {
   "cell_type": "code",
   "execution_count": 244,
   "id": "33b4e964-3b09-4f3c-a62e-d25b2e86d1d9",
   "metadata": {
    "tags": []
   },
   "outputs": [
    {
     "name": "stdout",
     "output_type": "stream",
     "text": [
      "sleep 1 second...sleep 1 second...\n",
      "\n",
      "Done sleeping...\n",
      "Done sleeping...\n",
      "finished in 1.01 seconds(s)\n"
     ]
    }
   ],
   "source": [
    "start = time.perf_counter()\n",
    "\n",
    "def some_task():\n",
    "    print('sleep 1 second...')\n",
    "    time.sleep(1)\n",
    "    print('Done sleeping...')\n",
    "    \n",
    "t1 = threading.Thread(target = some_task)\n",
    "t2 = threading.Thread(target = some_task)\n",
    "\n",
    "t1.start()\n",
    "t2.start()\n",
    "\n",
    "t1.join() #forces the rest of the script to wait to execute until both threads have finished\n",
    "t2.join() #but because both threads are starting at the same time, the whole process only takes 1 second\n",
    "\n",
    "finish = time.perf_counter()\n",
    "\n",
    "print(f'finished in {round(finish - start, 2)} seconds(s)')"
   ]
  },
  {
   "cell_type": "code",
   "execution_count": 248,
   "id": "186cd8b2-ec28-4905-bddd-cd8727b760dd",
   "metadata": {
    "tags": []
   },
   "outputs": [
    {
     "name": "stdout",
     "output_type": "stream",
     "text": [
      "sleep 1 second...\n",
      "Done sleeping...\n",
      "sleep 1 second...\n",
      "Done sleeping...\n",
      "sleep 1 second...\n",
      "Done sleeping...\n",
      "sleep 1 second...\n",
      "Done sleeping...\n",
      "sleep 1 second...\n",
      "Done sleeping...\n",
      "sleep 1 second...\n",
      "Done sleeping...\n",
      "sleep 1 second...\n",
      "Done sleeping...\n",
      "sleep 1 second...\n",
      "Done sleeping...\n",
      "sleep 1 second...\n",
      "Done sleeping...\n",
      "sleep 1 second...\n",
      "Done sleeping...\n",
      "finished in 10.05 seconds(s)\n"
     ]
    }
   ],
   "source": [
    "start = time.perf_counter()\n",
    "\n",
    "def some_task():\n",
    "    print('sleep 1 second...')\n",
    "    time.sleep(1)\n",
    "    print('Done sleeping...')\n",
    "    \n",
    "t1 = threading.Thread(target = some_task)\n",
    "t2 = threading.Thread(target = some_task)\n",
    "\n",
    "\n",
    "for _ in range(10): # _ is a throwaway variable, its not being used for anything, we just need an iteration over the code 10 times\n",
    "    t = threading.Thread(target = some_task)\n",
    "    t.start()\n",
    "    t.join()\n",
    "\n",
    "\n",
    "finish = time.perf_counter()\n",
    "\n",
    "print(f'finished in {round(finish - start, 2)} seconds(s)')"
   ]
  },
  {
   "cell_type": "code",
   "execution_count": 249,
   "id": "70cfbd90-7745-4e3a-9c71-f4fe241327a2",
   "metadata": {
    "tags": []
   },
   "outputs": [
    {
     "name": "stdout",
     "output_type": "stream",
     "text": [
      "sleep 1 second...\n",
      "sleep 1 second...\n",
      "sleep 1 second...\n",
      "sleep 1 second...\n",
      "sleep 1 second...\n",
      "sleep 1 second...\n",
      "sleep 1 second...\n",
      "sleep 1 second...\n",
      "sleep 1 second...\n",
      "sleep 1 second...\n",
      "Done sleeping...Done sleeping...\n",
      "Done sleeping...\n",
      "Done sleeping...\n",
      "\n",
      "Done sleeping...\n",
      "Done sleeping...\n",
      "Done sleeping...\n",
      "Done sleeping...\n",
      "Done sleeping...\n",
      "Done sleeping...\n",
      "finished in 1.01 seconds(s)\n"
     ]
    }
   ],
   "source": [
    "start = time.perf_counter()\n",
    "\n",
    "def some_task():\n",
    "    print('sleep 1 second...')\n",
    "    time.sleep(1)\n",
    "    print('Done sleeping...')\n",
    "    \n",
    "t1 = threading.Thread(target = some_task)\n",
    "t2 = threading.Thread(target = some_task)\n",
    "\n",
    "threads = []\n",
    "for _ in range(10): # _ is a throwaway variable, its not being used for anything, we just need an iteration over the code 10 times\n",
    "    t = threading.Thread(target = some_task)\n",
    "    t.start()\n",
    "    threads.append(t)\n",
    "    \n",
    "for thread in threads:\n",
    "    thread.join()\n",
    "\n",
    "finish = time.perf_counter()\n",
    "\n",
    "print(f'finished in {round(finish - start, 2)} seconds(s)')"
   ]
  },
  {
   "cell_type": "code",
   "execution_count": 256,
   "id": "2af116e0-85d7-4ab6-ab51-7cfd9f6a3e03",
   "metadata": {
    "tags": []
   },
   "outputs": [
    {
     "name": "stdout",
     "output_type": "stream",
     "text": [
      "sleep 3 second...\n",
      "sleep 3 second...\n",
      "sleep 3 second...\n",
      "sleep 3 second...\n",
      "sleep 3 second...\n",
      "sleep 3 second...\n",
      "sleep 3 second...\n",
      "sleep 3 second...\n",
      "sleep 3 second...\n",
      "sleep 3 second...\n",
      "Done sleeping...Done sleeping...\n",
      "\n",
      "Done sleeping...\n",
      "Done sleeping...\n",
      "Done sleeping...\n",
      "Done sleeping...\n",
      "Done sleeping...\n",
      "Done sleeping...\n",
      "Done sleeping...\n",
      "Done sleeping...\n",
      "finished in 3.01 seconds(s)\n"
     ]
    }
   ],
   "source": [
    "# Passing args\n",
    "\n",
    "start = time.perf_counter()\n",
    "\n",
    "def some_task(seconds):\n",
    "    print(f'sleep {seconds} second...')\n",
    "    time.sleep(seconds)\n",
    "    print('Done sleeping...')\n",
    "    \n",
    "t1 = threading.Thread(target = some_task)\n",
    "t2 = threading.Thread(target = some_task)\n",
    "\n",
    "threads = []\n",
    "for _ in range(10): # _ is a throwaway variable, its not being used for anything, we just need an iteration over the code 10 times\n",
    "    t = threading.Thread(target = some_task, args = [3]) #arguments need to be contained in a list\n",
    "    t.start()\n",
    "    threads.append(t)\n",
    "    \n",
    "for thread in threads:\n",
    "    thread.join()\n",
    "\n",
    "finish = time.perf_counter()\n",
    "\n",
    "print(f'finished in {round(finish - start, 2)} seconds(s)')"
   ]
  },
  {
   "cell_type": "code",
   "execution_count": 263,
   "id": "1b5e080c-42b8-4c8f-94a4-a986912c3225",
   "metadata": {
    "tags": []
   },
   "outputs": [
    {
     "name": "stdout",
     "output_type": "stream",
     "text": [
      "sleep 1 second...sleep 1 second...\n",
      "\n",
      "Done sleeping...Done sleeping...\n",
      "\n",
      "finished in 1.0 seconds(s)\n"
     ]
    }
   ],
   "source": [
    "import concurrent.futures\n",
    "\n",
    "start = time.perf_counter()\n",
    "\n",
    "def some_task(seconds):\n",
    "    print(f'sleep {seconds} second...')\n",
    "    time.sleep(seconds)\n",
    "    print('Done sleeping...')\n",
    "    \n",
    "with concurrent.futures.ThreadPoolExecutor() as executor:\n",
    "    f1 = executor.submit(some_task,1)\n",
    "    f2 = executor.submit(some_task,1)\n",
    "    \n",
    "    #print(f1.result())\n",
    "\n",
    "finish = time.perf_counter()\n",
    "\n",
    "print(f'finished in {round(finish - start, 2)} seconds(s)')"
   ]
  }
 ],
 "metadata": {
  "kernelspec": {
   "display_name": "Python 3 (ipykernel)",
   "language": "python",
   "name": "python3"
  },
  "language_info": {
   "codemirror_mode": {
    "name": "ipython",
    "version": 3
   },
   "file_extension": ".py",
   "mimetype": "text/x-python",
   "name": "python",
   "nbconvert_exporter": "python",
   "pygments_lexer": "ipython3",
   "version": "3.11.5"
  }
 },
 "nbformat": 4,
 "nbformat_minor": 5
}

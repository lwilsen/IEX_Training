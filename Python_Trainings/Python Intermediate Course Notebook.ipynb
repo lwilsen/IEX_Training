{
 "cells": [
  {
   "cell_type": "markdown",
   "id": "e1478cb4",
   "metadata": {},
   "source": [
    "# Comprehension"
   ]
  },
  {
   "cell_type": "markdown",
   "id": "d3719ac8",
   "metadata": {},
   "source": [
    "### Simple List Comprehension"
   ]
  },
  {
   "cell_type": "code",
   "execution_count": null,
   "id": "8de1355d",
   "metadata": {},
   "outputs": [],
   "source": [
    "#blueprint\n",
    "\n",
    "variable = [out_expression for out_expression in input_list if out_expression == 2]"
   ]
  },
  {
   "cell_type": "code",
   "execution_count": 1,
   "id": "27b7cd5b",
   "metadata": {},
   "outputs": [],
   "source": [
    "## conventional approach (For Loop)\n",
    "\n",
    "multiples_three = []\n",
    "\n",
    "for number in range(30):\n",
    "    if number % 3 == 0:\n",
    "        multiples_three.append(number)"
   ]
  },
  {
   "cell_type": "code",
   "execution_count": 2,
   "id": "5277e1ac",
   "metadata": {},
   "outputs": [
    {
     "data": {
      "text/plain": [
       "[0, 3, 6, 9, 12, 15, 18, 21, 24, 27]"
      ]
     },
     "execution_count": 2,
     "metadata": {},
     "output_type": "execute_result"
    }
   ],
   "source": [
    "multiples_three"
   ]
  },
  {
   "cell_type": "code",
   "execution_count": 3,
   "id": "9ab68d3f",
   "metadata": {},
   "outputs": [],
   "source": [
    "multiples_3 = [number for number in range(30) if number % 3 == 0]\n",
    "\n"
   ]
  },
  {
   "cell_type": "code",
   "execution_count": 4,
   "id": "ebb5de72",
   "metadata": {},
   "outputs": [
    {
     "data": {
      "text/plain": [
       "[0, 3, 6, 9, 12, 15, 18, 21, 24, 27]"
      ]
     },
     "execution_count": 4,
     "metadata": {},
     "output_type": "execute_result"
    }
   ],
   "source": [
    "multiples_3"
   ]
  },
  {
   "cell_type": "code",
   "execution_count": null,
   "id": "0b41ab46",
   "metadata": {},
   "outputs": [],
   "source": []
  },
  {
   "cell_type": "markdown",
   "id": "dcdb21f0",
   "metadata": {},
   "source": [
    "### Nested list Comprehension."
   ]
  },
  {
   "cell_type": "code",
   "execution_count": 5,
   "id": "aa4e1dc2",
   "metadata": {},
   "outputs": [],
   "source": [
    "## conventional / naive approach\n",
    "\n",
    "# expected output:  [ [0,1,2,...,9], [0,1,2,...,9]]\n",
    "\n",
    "matrix_empty = []\n",
    "\n",
    "for i in range(2):\n",
    "    inner_list = []\n",
    "    \n",
    "    for j in range(10):\n",
    "        inner_list.append(j)\n",
    "        \n",
    "    matrix_empty.append(inner_list)"
   ]
  },
  {
   "cell_type": "code",
   "execution_count": 6,
   "id": "7c5ecbe1",
   "metadata": {},
   "outputs": [
    {
     "data": {
      "text/plain": [
       "[[0, 1, 2, 3, 4, 5, 6, 7, 8, 9], [0, 1, 2, 3, 4, 5, 6, 7, 8, 9]]"
      ]
     },
     "execution_count": 6,
     "metadata": {},
     "output_type": "execute_result"
    }
   ],
   "source": [
    "matrix_empty"
   ]
  },
  {
   "cell_type": "code",
   "execution_count": 7,
   "id": "bccff01b",
   "metadata": {},
   "outputs": [],
   "source": [
    "## nested list\n",
    "\n",
    "matrix = [[j for j in range(10)] for i in range(2)]"
   ]
  },
  {
   "cell_type": "code",
   "execution_count": 8,
   "id": "18669961",
   "metadata": {},
   "outputs": [
    {
     "data": {
      "text/plain": [
       "[[0, 1, 2, 3, 4, 5, 6, 7, 8, 9], [0, 1, 2, 3, 4, 5, 6, 7, 8, 9]]"
      ]
     },
     "execution_count": 8,
     "metadata": {},
     "output_type": "execute_result"
    }
   ],
   "source": [
    "matrix"
   ]
  },
  {
   "cell_type": "code",
   "execution_count": null,
   "id": "cd1e4a3f",
   "metadata": {},
   "outputs": [],
   "source": []
  },
  {
   "cell_type": "markdown",
   "id": "255638f7",
   "metadata": {},
   "source": [
    "### Multiple list example"
   ]
  },
  {
   "cell_type": "code",
   "execution_count": 10,
   "id": "0f99492d",
   "metadata": {},
   "outputs": [],
   "source": [
    "list_1 = ['A', 'B', 'C', 'D', 'E']\n",
    "\n",
    "list_2 = [10, 11, 12, 13, 14]\n",
    "\n",
    "list_3 = ['v', 'w', 'x', 'y', 'z']\n",
    "\n",
    "#expected output: [ ('A', 10, 'v'), ('B', 11, 'w'), ...... ('E', 14, 'z')]"
   ]
  },
  {
   "cell_type": "code",
   "execution_count": 14,
   "id": "5ba5b947",
   "metadata": {},
   "outputs": [
    {
     "data": {
      "text/plain": [
       "[['A', 10, 'v'],\n",
       " ['B', 11, 'w'],\n",
       " ['C', 12, 'x'],\n",
       " ['D', 13, 'y'],\n",
       " ['E', 14, 'z']]"
      ]
     },
     "execution_count": 14,
     "metadata": {},
     "output_type": "execute_result"
    }
   ],
   "source": [
    "# naive approach\n",
    "\n",
    "multi_list = []\n",
    "\n",
    "for a,b,c in zip(list_1, list_2, list_3):\n",
    "    multi_list.append([a,b,c])\n",
    "    \n",
    "multi_list"
   ]
  },
  {
   "cell_type": "code",
   "execution_count": 15,
   "id": "a333c926",
   "metadata": {},
   "outputs": [
    {
     "data": {
      "text/plain": [
       "[['A', 10, 'v'],\n",
       " ['B', 11, 'w'],\n",
       " ['C', 12, 'x'],\n",
       " ['D', 13, 'y'],\n",
       " ['E', 14, 'z']]"
      ]
     },
     "execution_count": 15,
     "metadata": {},
     "output_type": "execute_result"
    }
   ],
   "source": [
    "multiple_list = [[a,b,c] for a,b,c in zip(list_1, list_2, list_3)]\n",
    "\n",
    "multiple_list"
   ]
  },
  {
   "cell_type": "code",
   "execution_count": 20,
   "id": "81866108",
   "metadata": {},
   "outputs": [
    {
     "name": "stdout",
     "output_type": "stream",
     "text": [
      "(('A', 10, 'v'), ('B', 11, 'w'), ('C', 12, 'x'), ('D', 13, 'y'), ('E', 14, 'z'))\n"
     ]
    }
   ],
   "source": [
    "\n",
    "a = zip(list_1, list_2, list_3)\n",
    "\n",
    "print(tuple(a))"
   ]
  },
  {
   "cell_type": "code",
   "execution_count": null,
   "id": "e7a0c61d",
   "metadata": {},
   "outputs": [],
   "source": []
  },
  {
   "cell_type": "markdown",
   "id": "84a47b21",
   "metadata": {},
   "source": [
    "### Set Comprehension\n"
   ]
  },
  {
   "cell_type": "code",
   "execution_count": 21,
   "id": "b849581f",
   "metadata": {},
   "outputs": [
    {
     "data": {
      "text/plain": [
       "{3, 6, 9}"
      ]
     },
     "execution_count": 21,
     "metadata": {},
     "output_type": "execute_result"
    }
   ],
   "source": [
    "#Example\n",
    "\n",
    "\n",
    "input_list = [1,2,3,4,5,6,7,8,9]\n",
    "\n",
    "#naive approach\n",
    "\n",
    "empty_set = set()\n",
    "\n",
    "for var in input_list:\n",
    "    if var % 3 == 0:\n",
    "        empty_set.add(var)\n",
    "        \n",
    "empty_set"
   ]
  },
  {
   "cell_type": "code",
   "execution_count": 22,
   "id": "e71864a8",
   "metadata": {},
   "outputs": [
    {
     "data": {
      "text/plain": [
       "{3, 6, 9}"
      ]
     },
     "execution_count": 22,
     "metadata": {},
     "output_type": "execute_result"
    }
   ],
   "source": [
    "set_comp = {var for var in input_list if var % 3 == 0}\n",
    "\n",
    "set_comp"
   ]
  },
  {
   "cell_type": "markdown",
   "id": "f359497d",
   "metadata": {},
   "source": [
    "### Dictionary Comprehension"
   ]
  },
  {
   "cell_type": "code",
   "execution_count": 23,
   "id": "14a0350f",
   "metadata": {},
   "outputs": [],
   "source": [
    "input_list = [1,2,3,4,5,6,7]\n",
    "\n",
    "\n",
    "##expect output ==> {1: 1, 2:4, 3:9, 4:16 ...}"
   ]
  },
  {
   "cell_type": "code",
   "execution_count": 24,
   "id": "6e80307c",
   "metadata": {},
   "outputs": [
    {
     "data": {
      "text/plain": [
       "{1: 1, 2: 4, 3: 9, 4: 16, 5: 25, 6: 36, 7: 49}"
      ]
     },
     "execution_count": 24,
     "metadata": {},
     "output_type": "execute_result"
    }
   ],
   "source": [
    "#naive approach\n",
    "\n",
    "square = {}  \n",
    "\n",
    "for var in input_list:\n",
    "    square[var] = var**2\n",
    "    \n",
    "square"
   ]
  },
  {
   "cell_type": "code",
   "execution_count": 25,
   "id": "69802c0b",
   "metadata": {},
   "outputs": [
    {
     "data": {
      "text/plain": [
       "{1: 1, 2: 4, 3: 9, 4: 16, 5: 25, 6: 36, 7: 49}"
      ]
     },
     "execution_count": 25,
     "metadata": {},
     "output_type": "execute_result"
    }
   ],
   "source": [
    "#dict comprehension\n",
    "\n",
    "square_dict = {var:var**2 for var in input_list}\n",
    "\n",
    "square_dict"
   ]
  },
  {
   "cell_type": "code",
   "execution_count": null,
   "id": "1ffc420b",
   "metadata": {},
   "outputs": [],
   "source": []
  },
  {
   "cell_type": "code",
   "execution_count": 26,
   "id": "2c77d13f",
   "metadata": {},
   "outputs": [],
   "source": [
    "case = {'a':23, 'b':26, 'A':45, 'F':7}\n",
    "\n",
    "#expect output ==> {'a': 68, 'b':26, 'f':7}"
   ]
  },
  {
   "cell_type": "code",
   "execution_count": 27,
   "id": "849f28d4",
   "metadata": {},
   "outputs": [],
   "source": [
    "#naive approach\n",
    "\n",
    "empty_case = {}\n",
    "\n",
    "for k in case.keys():\n",
    "    empty_case[k.lower()] = case.get(k.lower(), 0) + case.get(k.upper(), 0)"
   ]
  },
  {
   "cell_type": "code",
   "execution_count": 28,
   "id": "d7df55e8",
   "metadata": {},
   "outputs": [
    {
     "data": {
      "text/plain": [
       "{'a': 68, 'b': 26, 'f': 7}"
      ]
     },
     "execution_count": 28,
     "metadata": {},
     "output_type": "execute_result"
    }
   ],
   "source": [
    "empty_case"
   ]
  },
  {
   "cell_type": "code",
   "execution_count": 29,
   "id": "f0745abf",
   "metadata": {},
   "outputs": [],
   "source": [
    "#comprehension\n",
    "\n",
    "case_freq = {k.lower(): case.get(k.lower(), 0) + case.get(k.upper(), 0) for k in case.keys()}"
   ]
  },
  {
   "cell_type": "code",
   "execution_count": 30,
   "id": "78557bd4",
   "metadata": {},
   "outputs": [
    {
     "data": {
      "text/plain": [
       "{'a': 68, 'b': 26, 'f': 7}"
      ]
     },
     "execution_count": 30,
     "metadata": {},
     "output_type": "execute_result"
    }
   ],
   "source": [
    "case_freq"
   ]
  },
  {
   "cell_type": "code",
   "execution_count": 32,
   "id": "ad72dfe6",
   "metadata": {},
   "outputs": [
    {
     "data": {
      "text/plain": [
       "{68: 'a', 26: 'b', 7: 'f'}"
      ]
     },
     "execution_count": 32,
     "metadata": {},
     "output_type": "execute_result"
    }
   ],
   "source": [
    "#swapping keys and values\n",
    "\n",
    "case_swap = {}\n",
    "\n",
    "for key, value in case_freq.items():\n",
    "    case_swap[value] = key\n",
    "    \n",
    "case_swap"
   ]
  },
  {
   "cell_type": "code",
   "execution_count": 34,
   "id": "9d959602",
   "metadata": {},
   "outputs": [],
   "source": [
    "case_swap_2 = {value:key for key, value in case_freq.items()}"
   ]
  },
  {
   "cell_type": "code",
   "execution_count": 35,
   "id": "d72828aa",
   "metadata": {},
   "outputs": [
    {
     "data": {
      "text/plain": [
       "{68: 'a', 26: 'b', 7: 'f'}"
      ]
     },
     "execution_count": 35,
     "metadata": {},
     "output_type": "execute_result"
    }
   ],
   "source": [
    "case_swap_2"
   ]
  },
  {
   "cell_type": "code",
   "execution_count": null,
   "id": "bae012a1",
   "metadata": {},
   "outputs": [],
   "source": []
  },
  {
   "cell_type": "markdown",
   "id": "0b6afc53",
   "metadata": {},
   "source": [
    "# Closures"
   ]
  },
  {
   "cell_type": "code",
   "execution_count": 36,
   "id": "c8d1a290",
   "metadata": {},
   "outputs": [],
   "source": [
    "def say_msg(msg):\n",
    "    # this is the outer function\n",
    "    \n",
    "    def printer():\n",
    "        #this is the inner function\n",
    "        print(msg)\n",
    "        \n",
    "    printer()\n",
    "    \n",
    "    \n"
   ]
  },
  {
   "cell_type": "code",
   "execution_count": 37,
   "id": "1e7226a6",
   "metadata": {},
   "outputs": [
    {
     "name": "stdout",
     "output_type": "stream",
     "text": [
      "Hello\n"
     ]
    }
   ],
   "source": [
    "say_msg(\"Hello\")"
   ]
  },
  {
   "cell_type": "code",
   "execution_count": 38,
   "id": "d9221ed5",
   "metadata": {},
   "outputs": [],
   "source": [
    "def say_msg_2(msg):\n",
    "    \n",
    "    def printer():\n",
    "        print(msg)\n",
    "        \n",
    "    return printer"
   ]
  },
  {
   "cell_type": "code",
   "execution_count": 39,
   "id": "c990eab8",
   "metadata": {},
   "outputs": [
    {
     "data": {
      "text/plain": [
       "<function __main__.say_msg_2.<locals>.printer()>"
      ]
     },
     "execution_count": 39,
     "metadata": {},
     "output_type": "execute_result"
    }
   ],
   "source": [
    "say_msg_2(\"Greetings\")"
   ]
  },
  {
   "cell_type": "code",
   "execution_count": 40,
   "id": "478be805",
   "metadata": {},
   "outputs": [],
   "source": [
    "greetings = say_msg_2(\"Greetings\")"
   ]
  },
  {
   "cell_type": "code",
   "execution_count": 41,
   "id": "b08573ce",
   "metadata": {},
   "outputs": [
    {
     "name": "stdout",
     "output_type": "stream",
     "text": [
      "Greetings\n"
     ]
    }
   ],
   "source": [
    "greetings()"
   ]
  },
  {
   "cell_type": "code",
   "execution_count": 42,
   "id": "854179e0",
   "metadata": {},
   "outputs": [],
   "source": [
    "del say_msg_2"
   ]
  },
  {
   "cell_type": "code",
   "execution_count": 43,
   "id": "ae768d3e",
   "metadata": {},
   "outputs": [
    {
     "ename": "NameError",
     "evalue": "name 'say_msg_2' is not defined",
     "output_type": "error",
     "traceback": [
      "\u001b[1;31m---------------------------------------------------------------------------\u001b[0m",
      "\u001b[1;31mNameError\u001b[0m                                 Traceback (most recent call last)",
      "\u001b[1;32m<ipython-input-43-34662ad8fc23>\u001b[0m in \u001b[0;36m<module>\u001b[1;34m\u001b[0m\n\u001b[1;32m----> 1\u001b[1;33m \u001b[0msay_msg_2\u001b[0m\u001b[1;33m(\u001b[0m\u001b[1;34m'Hello there'\u001b[0m\u001b[1;33m)\u001b[0m\u001b[1;33m\u001b[0m\u001b[1;33m\u001b[0m\u001b[0m\n\u001b[0m",
      "\u001b[1;31mNameError\u001b[0m: name 'say_msg_2' is not defined"
     ]
    }
   ],
   "source": [
    "say_msg_2('Hello there')"
   ]
  },
  {
   "cell_type": "code",
   "execution_count": 44,
   "id": "a4dac496",
   "metadata": {},
   "outputs": [
    {
     "name": "stdout",
     "output_type": "stream",
     "text": [
      "Greetings\n"
     ]
    }
   ],
   "source": [
    "greetings()"
   ]
  },
  {
   "cell_type": "markdown",
   "id": "bd141cbe",
   "metadata": {},
   "source": [
    "### Logging\n",
    "\n",
    "\n",
    "\n",
    "Levels\n",
    "\n",
    "DEBUG  ==> Detailed information, only of interest when diagnosing a problem.\n",
    "\n",
    "INFO   ==> Confirms that things are working as expected.\n",
    "\n",
    "WARNING ==> Indicated that something unexpected has happened, or that there would be a problem in the near future eg low disk space\n",
    "\n",
    "ERROR   ==> Due to a more serious problem.\n",
    "\n",
    "CRITICAL ==> A serious error has occurs and that the program itself may not be able to continue running"
   ]
  },
  {
   "cell_type": "code",
   "execution_count": 1,
   "id": "f6c19212",
   "metadata": {},
   "outputs": [],
   "source": [
    "import logging"
   ]
  },
  {
   "cell_type": "code",
   "execution_count": 2,
   "id": "8bf7946a",
   "metadata": {},
   "outputs": [],
   "source": [
    "logging.info('Things are working just fine.')"
   ]
  },
  {
   "cell_type": "code",
   "execution_count": 3,
   "id": "4b02afea",
   "metadata": {},
   "outputs": [
    {
     "name": "stderr",
     "output_type": "stream",
     "text": [
      "WARNING:root:Disk space is running low\n"
     ]
    }
   ],
   "source": [
    "logging.warning('Disk space is running low')"
   ]
  },
  {
   "cell_type": "code",
   "execution_count": 4,
   "id": "94124e12",
   "metadata": {},
   "outputs": [
    {
     "name": "stderr",
     "output_type": "stream",
     "text": [
      "ERROR:root:Something serious has happened\n"
     ]
    }
   ],
   "source": [
    "logging.error('Something serious has happened')"
   ]
  },
  {
   "cell_type": "code",
   "execution_count": 5,
   "id": "d19d9d0c",
   "metadata": {},
   "outputs": [
    {
     "name": "stderr",
     "output_type": "stream",
     "text": [
      "CRITICAL:root:You need to jump on this asap!\n"
     ]
    }
   ],
   "source": [
    "logging.critical('You need to jump on this asap!')"
   ]
  },
  {
   "cell_type": "code",
   "execution_count": 6,
   "id": "35e4b167",
   "metadata": {},
   "outputs": [],
   "source": [
    "logging.debug('This is detailed information about your program')"
   ]
  },
  {
   "cell_type": "code",
   "execution_count": null,
   "id": "3ff04143",
   "metadata": {},
   "outputs": [],
   "source": []
  },
  {
   "cell_type": "code",
   "execution_count": 12,
   "id": "ff0720a9",
   "metadata": {},
   "outputs": [],
   "source": [
    "#creating logging file\n",
    "\n",
    "import logging\n",
    "\n",
    "logging.basicConfig(filename = 'example.log', level = logging.DEBUG, force=True)\n",
    "\n",
    "logging.debug('This is detailed information about your program')\n",
    "logging.info('Things are working just fine.')\n",
    "logging.warning('Disk space is running low')\n",
    "logging.error('Something serious has happened')\n",
    "logging.critical('You need to jump on this asap!')"
   ]
  },
  {
   "cell_type": "code",
   "execution_count": 13,
   "id": "4c174e02",
   "metadata": {},
   "outputs": [],
   "source": [
    "def logger(func):\n",
    "    \n",
    "    def log_func(*args):\n",
    "        logging.info('Running \"{}\" with arguments {}'.format(func.__name__, args))\n",
    "        print(func(*args))\n",
    "    \n",
    "    return log_func\n",
    "\n",
    "def add(x, y):\n",
    "    return x+y\n",
    "\n",
    "def sub(x, y):\n",
    "    return x-y"
   ]
  },
  {
   "cell_type": "code",
   "execution_count": 14,
   "id": "cb187b87",
   "metadata": {},
   "outputs": [],
   "source": [
    "add_logger = logger(add)\n",
    "\n"
   ]
  },
  {
   "cell_type": "code",
   "execution_count": 15,
   "id": "ba754572",
   "metadata": {},
   "outputs": [
    {
     "name": "stdout",
     "output_type": "stream",
     "text": [
      "3\n"
     ]
    }
   ],
   "source": [
    "add_logger(2,1)"
   ]
  },
  {
   "cell_type": "code",
   "execution_count": 16,
   "id": "9425bf16",
   "metadata": {},
   "outputs": [],
   "source": [
    "sub_logger = logger(sub)"
   ]
  },
  {
   "cell_type": "code",
   "execution_count": 17,
   "id": "4b8b5afc",
   "metadata": {},
   "outputs": [
    {
     "name": "stdout",
     "output_type": "stream",
     "text": [
      "16\n"
     ]
    }
   ],
   "source": [
    "sub_logger(20, 4)"
   ]
  },
  {
   "cell_type": "code",
   "execution_count": 18,
   "id": "b41ac697",
   "metadata": {},
   "outputs": [
    {
     "name": "stdout",
     "output_type": "stream",
     "text": [
      "23\n",
      "-8\n"
     ]
    }
   ],
   "source": [
    "add_logger(11,12)\n",
    "\n",
    "sub_logger(8, 16)"
   ]
  },
  {
   "cell_type": "code",
   "execution_count": 19,
   "id": "54a58c8d",
   "metadata": {},
   "outputs": [],
   "source": [
    "del logger\n",
    "del add\n",
    "del sub"
   ]
  },
  {
   "cell_type": "code",
   "execution_count": 20,
   "id": "62796d00",
   "metadata": {},
   "outputs": [
    {
     "ename": "NameError",
     "evalue": "name 'logger' is not defined",
     "output_type": "error",
     "traceback": [
      "\u001b[1;31m---------------------------------------------------------------------------\u001b[0m",
      "\u001b[1;31mNameError\u001b[0m                                 Traceback (most recent call last)",
      "\u001b[1;32m<ipython-input-20-389295ab6bea>\u001b[0m in \u001b[0;36m<module>\u001b[1;34m\u001b[0m\n\u001b[1;32m----> 1\u001b[1;33m \u001b[0mlogger\u001b[0m\u001b[1;33m(\u001b[0m\u001b[0madd\u001b[0m\u001b[1;33m)\u001b[0m\u001b[1;33m\u001b[0m\u001b[1;33m\u001b[0m\u001b[0m\n\u001b[0m",
      "\u001b[1;31mNameError\u001b[0m: name 'logger' is not defined"
     ]
    }
   ],
   "source": [
    "logger(add)"
   ]
  },
  {
   "cell_type": "code",
   "execution_count": 21,
   "id": "b18c9829",
   "metadata": {},
   "outputs": [
    {
     "ename": "NameError",
     "evalue": "name 'add' is not defined",
     "output_type": "error",
     "traceback": [
      "\u001b[1;31m---------------------------------------------------------------------------\u001b[0m",
      "\u001b[1;31mNameError\u001b[0m                                 Traceback (most recent call last)",
      "\u001b[1;32m<ipython-input-21-2ba03cdee4ff>\u001b[0m in \u001b[0;36m<module>\u001b[1;34m\u001b[0m\n\u001b[1;32m----> 1\u001b[1;33m \u001b[0madd\u001b[0m\u001b[1;33m(\u001b[0m\u001b[1;36m2\u001b[0m\u001b[1;33m,\u001b[0m\u001b[1;36m1\u001b[0m\u001b[1;33m)\u001b[0m\u001b[1;33m\u001b[0m\u001b[1;33m\u001b[0m\u001b[0m\n\u001b[0m",
      "\u001b[1;31mNameError\u001b[0m: name 'add' is not defined"
     ]
    }
   ],
   "source": [
    "add(2,1)"
   ]
  },
  {
   "cell_type": "code",
   "execution_count": 22,
   "id": "608c2665",
   "metadata": {},
   "outputs": [
    {
     "ename": "NameError",
     "evalue": "name 'sub' is not defined",
     "output_type": "error",
     "traceback": [
      "\u001b[1;31m---------------------------------------------------------------------------\u001b[0m",
      "\u001b[1;31mNameError\u001b[0m                                 Traceback (most recent call last)",
      "\u001b[1;32m<ipython-input-22-8ada4e74a805>\u001b[0m in \u001b[0;36m<module>\u001b[1;34m\u001b[0m\n\u001b[1;32m----> 1\u001b[1;33m \u001b[0msub\u001b[0m\u001b[1;33m(\u001b[0m\u001b[1;36m29\u001b[0m\u001b[1;33m,\u001b[0m\u001b[1;36m1\u001b[0m\u001b[1;33m)\u001b[0m\u001b[1;33m\u001b[0m\u001b[1;33m\u001b[0m\u001b[0m\n\u001b[0m",
      "\u001b[1;31mNameError\u001b[0m: name 'sub' is not defined"
     ]
    }
   ],
   "source": [
    "sub(29,1)"
   ]
  },
  {
   "cell_type": "code",
   "execution_count": 23,
   "id": "294e0408",
   "metadata": {},
   "outputs": [
    {
     "name": "stdout",
     "output_type": "stream",
     "text": [
      "120\n",
      "800\n"
     ]
    }
   ],
   "source": [
    "add_logger(100, 20)\n",
    "\n",
    "sub_logger(1000, 200)"
   ]
  },
  {
   "cell_type": "markdown",
   "id": "6a0d0181",
   "metadata": {},
   "source": [
    "# Args and Kwargs (Extended Keyword Arguments)"
   ]
  },
  {
   "cell_type": "code",
   "execution_count": 24,
   "id": "bef50eef",
   "metadata": {},
   "outputs": [
    {
     "name": "stdout",
     "output_type": "stream",
     "text": [
      "St orm\n",
      "('W', 'I', 'N', 'D')\n"
     ]
    }
   ],
   "source": [
    "# *args\n",
    "\n",
    "t = ('St', 'orm', 'W', 'I', 'N', 'D')\n",
    "\n",
    "def print_args(arg1, arg2, *args):\n",
    "    print(arg1, arg2)\n",
    "    print(args)\n",
    "    \n",
    "    \n",
    "print_args(*t)"
   ]
  },
  {
   "cell_type": "code",
   "execution_count": 25,
   "id": "f1b324b8",
   "metadata": {},
   "outputs": [
    {
     "name": "stdout",
     "output_type": "stream",
     "text": [
      "First normal argument: Python\n",
      "another argument from args: Stormwind\n",
      "another argument from args: Eggs\n",
      "another argument from args: Bread\n"
     ]
    }
   ],
   "source": [
    "def test_var_args(f_arg, *args):\n",
    "    print('First normal argument:', f_arg)\n",
    "    \n",
    "    for arg in args:\n",
    "        print('another argument from args:', arg)\n",
    "        \n",
    "\n",
    "        \n",
    "test_var_args('Python', 'Stormwind', 'Eggs', 'Bread')\n"
   ]
  },
  {
   "cell_type": "code",
   "execution_count": 28,
   "id": "98e35dc0",
   "metadata": {},
   "outputs": [
    {
     "name": "stdout",
     "output_type": "stream",
     "text": [
      "From the start, v is set to 1\n",
      " \n",
      "v= 1 number = 2\n",
      "1 * 2\n",
      "2\n",
      " \n",
      "v= 2 number = 4\n",
      "2 * 4\n",
      "8\n",
      " \n",
      "v= 8 number = 8\n",
      "8 * 8\n",
      "64\n",
      " \n",
      "v= 64 number = 16\n",
      "64 * 16\n",
      "1024\n",
      " \n",
      "v= 1024 number = 32\n",
      "1024 * 32\n",
      "32768\n",
      " \n",
      "v= 32768 number = 98\n",
      "32768 * 98\n",
      "3211264\n",
      " \n",
      "v= 3211264 number = 87\n",
      "3211264 * 87\n",
      "279379968\n",
      " \n",
      "v= 279379968 number = 4\n",
      "279379968 * 4\n",
      "1117519872\n",
      " \n",
      "v= 1117519872 number = 8\n",
      "1117519872 * 8\n",
      "8940158976\n",
      " \n"
     ]
    },
    {
     "data": {
      "text/plain": [
       "8940158976"
      ]
     },
     "execution_count": 28,
     "metadata": {},
     "output_type": "execute_result"
    }
   ],
   "source": [
    "#a more complex example\n",
    "\n",
    "\n",
    "def multiply(*numbers):\n",
    "    i = iter(numbers) #the iter() creates an an object which can be iterated one element at a time\n",
    "    \n",
    "    v = next(i) #allows us to go through each iteration at a time\n",
    "    print('From the start, v is set to', v)\n",
    "    print(' ')\n",
    "    \n",
    "    for number in i:\n",
    "        print('v=',v, 'number =', number)\n",
    "        print(v,'*',number)\n",
    "        \n",
    "        v*=number # v = v*number \n",
    "        print(v)\n",
    "        print(' ')\n",
    "        \n",
    "    return v\n",
    "\n",
    "multiply(1,2,4,8,16,32,98, 87, 4, 8)"
   ]
  },
  {
   "cell_type": "code",
   "execution_count": 29,
   "id": "7aa86b18",
   "metadata": {},
   "outputs": [],
   "source": [
    "# **Kwargs\n",
    "\n",
    "\n",
    "def greet_me(**kwargs):\n",
    "    for key, value in kwargs.items():\n",
    "        print(\"{0} = {1}\".format(key, value))\n",
    "        "
   ]
  },
  {
   "cell_type": "code",
   "execution_count": 30,
   "id": "cdc57f3b",
   "metadata": {},
   "outputs": [
    {
     "name": "stdout",
     "output_type": "stream",
     "text": [
      "name = Stormwind\n"
     ]
    }
   ],
   "source": [
    "greet_me(name = 'Stormwind')"
   ]
  },
  {
   "cell_type": "code",
   "execution_count": 40,
   "id": "a81e7768",
   "metadata": {},
   "outputs": [],
   "source": [
    "def more_greetings(**names):\n",
    "    for key, value in names.items():\n",
    "        print(\"%s == %s\" %(key, value))\n",
    "    "
   ]
  },
  {
   "cell_type": "code",
   "execution_count": 41,
   "id": "40ea2cdf",
   "metadata": {},
   "outputs": [
    {
     "name": "stdout",
     "output_type": "stream",
     "text": [
      "first == Tom\n",
      "mid == Henry\n",
      "last == Robin\n"
     ]
    }
   ],
   "source": [
    "more_greetings(first = 'Tom', mid = 'Henry', last = 'Robin')"
   ]
  },
  {
   "cell_type": "code",
   "execution_count": 45,
   "id": "d2624b9d",
   "metadata": {},
   "outputs": [],
   "source": [
    "### USing args and kwargs to call a function\n",
    "\n",
    "def test_func(arg1, arg2, arg3):\n",
    "    print(\"arg1:\", arg1)\n",
    "    print(\"arg2:\", arg2)\n",
    "    print(\"arg3:\", arg3)"
   ]
  },
  {
   "cell_type": "code",
   "execution_count": 46,
   "id": "c09471b8",
   "metadata": {},
   "outputs": [
    {
     "name": "stdout",
     "output_type": "stream",
     "text": [
      "arg1: Dog\n",
      "arg2: 10\n",
      "arg3: 2\n"
     ]
    }
   ],
   "source": [
    "args = ('Dog', 10, 2)\n",
    "\n",
    "test_func(*args)"
   ]
  },
  {
   "cell_type": "code",
   "execution_count": 47,
   "id": "d0bd3d5a",
   "metadata": {},
   "outputs": [
    {
     "name": "stdout",
     "output_type": "stream",
     "text": [
      "arg1: 5\n",
      "arg2: two\n",
      "arg3: 3\n"
     ]
    }
   ],
   "source": [
    "kwargs = {'arg3': 3, \"arg2\": \"two\", \"arg1\": 5}\n",
    "\n",
    "test_func(**kwargs)"
   ]
  },
  {
   "cell_type": "code",
   "execution_count": null,
   "id": "9737b059",
   "metadata": {},
   "outputs": [],
   "source": []
  },
  {
   "cell_type": "code",
   "execution_count": null,
   "id": "e2e2edaf",
   "metadata": {},
   "outputs": [],
   "source": []
  },
  {
   "cell_type": "code",
   "execution_count": null,
   "id": "034c41b4",
   "metadata": {},
   "outputs": [],
   "source": []
  },
  {
   "cell_type": "code",
   "execution_count": null,
   "id": "cf1fabc3",
   "metadata": {},
   "outputs": [],
   "source": []
  },
  {
   "cell_type": "code",
   "execution_count": null,
   "id": "1486f05d",
   "metadata": {},
   "outputs": [],
   "source": []
  },
  {
   "cell_type": "code",
   "execution_count": null,
   "id": "54f039a6",
   "metadata": {},
   "outputs": [],
   "source": []
  },
  {
   "cell_type": "code",
   "execution_count": null,
   "id": "0e61a18b",
   "metadata": {},
   "outputs": [],
   "source": []
  },
  {
   "cell_type": "code",
   "execution_count": null,
   "id": "01c54415",
   "metadata": {},
   "outputs": [],
   "source": []
  },
  {
   "cell_type": "code",
   "execution_count": null,
   "id": "c47c85f5",
   "metadata": {},
   "outputs": [],
   "source": []
  },
  {
   "cell_type": "code",
   "execution_count": null,
   "id": "61fef66d",
   "metadata": {},
   "outputs": [],
   "source": []
  },
  {
   "cell_type": "code",
   "execution_count": null,
   "id": "5f0e852c",
   "metadata": {},
   "outputs": [],
   "source": []
  },
  {
   "cell_type": "code",
   "execution_count": null,
   "id": "723f6fd2",
   "metadata": {},
   "outputs": [],
   "source": []
  },
  {
   "cell_type": "code",
   "execution_count": null,
   "id": "63543abd",
   "metadata": {},
   "outputs": [],
   "source": []
  },
  {
   "cell_type": "code",
   "execution_count": null,
   "id": "db0a441e",
   "metadata": {},
   "outputs": [],
   "source": []
  },
  {
   "cell_type": "code",
   "execution_count": 3,
   "id": "e897c09a",
   "metadata": {},
   "outputs": [
    {
     "name": "stdout",
     "output_type": "stream",
     "text": [
      "Simple example list comprehensions: [2, 4, 8, 16]\n"
     ]
    }
   ],
   "source": [
    "input_list = [1, 2, 3, 4, 5, 7, 8, 11, 13, 16, 17, 19]\n",
    "\n",
    "comp_out_list = [var for var in input_list if var % 2 == 0]\n",
    "\n",
    "print(\"Simple example list comprehensions:\", comp_out_list)"
   ]
  },
  {
   "cell_type": "code",
   "execution_count": 4,
   "id": "70331caf",
   "metadata": {},
   "outputs": [
    {
     "data": {
      "text/plain": [
       "[2, 4, 8, 16]"
      ]
     },
     "execution_count": 4,
     "metadata": {},
     "output_type": "execute_result"
    }
   ],
   "source": [
    "comp_out_list_2 = []\n",
    "\n",
    "for var in input_list:\n",
    "    if var%2 == 0:\n",
    "        comp_out_list_2.append(var)\n",
    "        \n",
    "comp_out_list_2"
   ]
  },
  {
   "cell_type": "code",
   "execution_count": 7,
   "id": "c73f29bc",
   "metadata": {},
   "outputs": [],
   "source": [
    "multiples_3 = []\n",
    "\n",
    "for number in range(30):\n",
    "    if number % 3 == 0:\n",
    "        multiples_3.append(number)"
   ]
  },
  {
   "cell_type": "code",
   "execution_count": 8,
   "id": "d6452b54",
   "metadata": {},
   "outputs": [
    {
     "data": {
      "text/plain": [
       "[0, 3, 6, 9, 12, 15, 18, 21, 24, 27]"
      ]
     },
     "execution_count": 8,
     "metadata": {},
     "output_type": "execute_result"
    }
   ],
   "source": [
    "multiples_3"
   ]
  },
  {
   "cell_type": "code",
   "execution_count": 9,
   "id": "4a25d6e6",
   "metadata": {},
   "outputs": [
    {
     "data": {
      "text/plain": [
       "[0, 3, 6, 9, 12, 15, 18, 21, 24, 27]"
      ]
     },
     "execution_count": 9,
     "metadata": {},
     "output_type": "execute_result"
    }
   ],
   "source": [
    "multiple_three = [number for number in range(30) if number % 3 == 0]\n",
    "\n",
    "multiple_three"
   ]
  },
  {
   "cell_type": "markdown",
   "id": "3f4b9086",
   "metadata": {},
   "source": [
    "### Nested list Comprehension\n",
    "\n",
    "[\n",
    "[1,2,3,4,5],\n",
    "[a,b,c,d,e]\n",
    "]"
   ]
  },
  {
   "cell_type": "code",
   "execution_count": 11,
   "id": "96f26a3b",
   "metadata": {},
   "outputs": [],
   "source": [
    "out_matrix = []\n",
    "\n",
    "for i in range(2):\n",
    "    inner_matrix = []\n",
    "    for j in range(10):\n",
    "        inner_matrix.append(j)\n",
    "    out_matrix.append(inner_matrix)\n",
    "    "
   ]
  },
  {
   "cell_type": "markdown",
   "id": "8f5f421e",
   "metadata": {},
   "source": [
    "out_matrix"
   ]
  },
  {
   "cell_type": "code",
   "execution_count": 12,
   "id": "7efab3f8",
   "metadata": {},
   "outputs": [
    {
     "data": {
      "text/plain": [
       "[[0, 1, 2, 3, 4, 5, 6, 7, 8, 9], [0, 1, 2, 3, 4, 5, 6, 7, 8, 9]]"
      ]
     },
     "execution_count": 12,
     "metadata": {},
     "output_type": "execute_result"
    }
   ],
   "source": [
    "out_matrix"
   ]
  },
  {
   "cell_type": "code",
   "execution_count": 13,
   "id": "d1776203",
   "metadata": {},
   "outputs": [],
   "source": [
    "matrix = [[j for j in range(10)] for i in range(2)]"
   ]
  },
  {
   "cell_type": "code",
   "execution_count": 14,
   "id": "54853a69",
   "metadata": {},
   "outputs": [
    {
     "data": {
      "text/plain": [
       "[[0, 1, 2, 3, 4, 5, 6, 7, 8, 9], [0, 1, 2, 3, 4, 5, 6, 7, 8, 9]]"
      ]
     },
     "execution_count": 14,
     "metadata": {},
     "output_type": "execute_result"
    }
   ],
   "source": [
    "matrix"
   ]
  },
  {
   "cell_type": "markdown",
   "id": "ec6625d4",
   "metadata": {},
   "source": [
    "### Multiple list example"
   ]
  },
  {
   "cell_type": "code",
   "execution_count": 15,
   "id": "eb3a7bd4",
   "metadata": {},
   "outputs": [],
   "source": [
    "list_1 = ['A', 'B', 'C', 'D', 'E']\n",
    "list_2 = [10, 11, 12, 13, 14]\n",
    "list_3 = ['a', 'b', 'c', 'd', 'e']\n",
    "\n",
    "# Expected output\n",
    "#[\n",
    "#  ('A',10,'a'),\n",
    "#  ('B', 11,'b'),\n",
    "#     ...\n",
    "#  ('E', 14, 'e')\n",
    "# ]\n",
    " \n",
    "multi_list = []\n",
    "\n",
    "for a,b,c in zip(list_1, list_2, list_3):\n",
    "    multi_list.append((a,b,c))\n",
    "    \n",
    "    "
   ]
  },
  {
   "cell_type": "code",
   "execution_count": 16,
   "id": "ee5ca0ff",
   "metadata": {},
   "outputs": [
    {
     "data": {
      "text/plain": [
       "[('A', 10, 'a'),\n",
       " ('B', 11, 'b'),\n",
       " ('C', 12, 'c'),\n",
       " ('D', 13, 'd'),\n",
       " ('E', 14, 'e')]"
      ]
     },
     "execution_count": 16,
     "metadata": {},
     "output_type": "execute_result"
    }
   ],
   "source": [
    "multi_list"
   ]
  },
  {
   "cell_type": "code",
   "execution_count": 17,
   "id": "ddd5c219",
   "metadata": {},
   "outputs": [],
   "source": [
    "multi_list_2 = [(a,b,c) for a,b,c in zip(list_1, list_2, list_3)]"
   ]
  },
  {
   "cell_type": "code",
   "execution_count": 18,
   "id": "6af0ef36",
   "metadata": {},
   "outputs": [
    {
     "data": {
      "text/plain": [
       "[('A', 10, 'a'),\n",
       " ('B', 11, 'b'),\n",
       " ('C', 12, 'c'),\n",
       " ('D', 13, 'd'),\n",
       " ('E', 14, 'e')]"
      ]
     },
     "execution_count": 18,
     "metadata": {},
     "output_type": "execute_result"
    }
   ],
   "source": [
    "multi_list_2"
   ]
  },
  {
   "cell_type": "markdown",
   "id": "5d603a43",
   "metadata": {},
   "source": [
    "### Set Comprehension"
   ]
  },
  {
   "cell_type": "code",
   "execution_count": 19,
   "id": "b775e9f6",
   "metadata": {},
   "outputs": [
    {
     "data": {
      "text/plain": [
       "{3, 6, 9}"
      ]
     },
     "execution_count": 19,
     "metadata": {},
     "output_type": "execute_result"
    }
   ],
   "source": [
    "input_list = [1,2,3,4,5,6,7,8,9]\n",
    "\n",
    "set_comp_list = {var for var in input_list if var % 3 == 0}\n",
    "\n",
    "set_comp_list"
   ]
  },
  {
   "cell_type": "code",
   "execution_count": 20,
   "id": "e85dc2c9",
   "metadata": {},
   "outputs": [
    {
     "data": {
      "text/plain": [
       "{3, 6, 9}"
      ]
     },
     "execution_count": 20,
     "metadata": {},
     "output_type": "execute_result"
    }
   ],
   "source": [
    "empty_set = set()\n",
    "\n",
    "for var in input_list:\n",
    "    if var % 3 == 0:\n",
    "        empty_set.add(var)\n",
    "        \n",
    "empty_set\n",
    "\n"
   ]
  },
  {
   "cell_type": "code",
   "execution_count": 21,
   "id": "ab9e0c93",
   "metadata": {},
   "outputs": [],
   "source": [
    "list_a = [1,1,1,2,2,2,2,3,3,3,3]\n",
    "\n",
    "squared = set()\n",
    "\n",
    "for i in list_a:\n",
    "    squared.add(i**2)\n",
    "    \n"
   ]
  },
  {
   "cell_type": "code",
   "execution_count": 23,
   "id": "7b96a7e8",
   "metadata": {},
   "outputs": [
    {
     "data": {
      "text/plain": [
       "11"
      ]
     },
     "execution_count": 23,
     "metadata": {},
     "output_type": "execute_result"
    }
   ],
   "source": [
    "len(list_a)"
   ]
  },
  {
   "cell_type": "code",
   "execution_count": 22,
   "id": "4d5abe3f",
   "metadata": {},
   "outputs": [
    {
     "data": {
      "text/plain": [
       "{1, 4, 9}"
      ]
     },
     "execution_count": 22,
     "metadata": {},
     "output_type": "execute_result"
    }
   ],
   "source": [
    "squared"
   ]
  },
  {
   "cell_type": "code",
   "execution_count": 24,
   "id": "a6222f78",
   "metadata": {},
   "outputs": [
    {
     "data": {
      "text/plain": [
       "{1, 4, 9}"
      ]
     },
     "execution_count": 24,
     "metadata": {},
     "output_type": "execute_result"
    }
   ],
   "source": [
    "squared = {i**2 for i in list_a}\n",
    "\n",
    "squared"
   ]
  },
  {
   "cell_type": "markdown",
   "id": "09041b4a",
   "metadata": {},
   "source": [
    "### Dictionary Comprehension"
   ]
  },
  {
   "cell_type": "code",
   "execution_count": 25,
   "id": "e3648a61",
   "metadata": {},
   "outputs": [
    {
     "data": {
      "text/plain": [
       "{1: 1, 3: 9, 5: 25, 7: 49}"
      ]
     },
     "execution_count": 25,
     "metadata": {},
     "output_type": "execute_result"
    }
   ],
   "source": [
    "input_list = [1,2,3,4,5,6,7]\n",
    "\n",
    "\n",
    "#expected output\n",
    "#{1:1, 3:9, 5:25, 7:49}\n",
    "\n",
    "empty_dict = {}\n",
    "\n",
    "for var in input_list:\n",
    "    if var%2 != 0:\n",
    "        empty_dict[var] = var**2\n",
    "        \n",
    "empty_dict        \n"
   ]
  },
  {
   "cell_type": "code",
   "execution_count": 26,
   "id": "af917fdc",
   "metadata": {},
   "outputs": [
    {
     "data": {
      "text/plain": [
       "{1: 1, 3: 9, 5: 25, 7: 49}"
      ]
     },
     "execution_count": 26,
     "metadata": {},
     "output_type": "execute_result"
    }
   ],
   "source": [
    "dict_comp = {var:var**2 for var in input_list if var % 2 !=0 }\n",
    "\n",
    "dict_comp"
   ]
  },
  {
   "cell_type": "code",
   "execution_count": 27,
   "id": "796d2ea3",
   "metadata": {},
   "outputs": [],
   "source": [
    "case = {'a':23, 'b':26, 'A':45, 'F':7}\n",
    "\n",
    "#expect out ==> {a: 68, b:26, F:27 }\n",
    "\n",
    "empty_case = {}\n",
    "\n",
    "for k in case.keys():\n",
    "    empty_case[k.lower()] = case.get(k.lower(), 0) + case.get(k.upper(),0)"
   ]
  },
  {
   "cell_type": "code",
   "execution_count": 28,
   "id": "cd4fb478",
   "metadata": {},
   "outputs": [
    {
     "data": {
      "text/plain": [
       "{'a': 68, 'b': 26, 'f': 7}"
      ]
     },
     "execution_count": 28,
     "metadata": {},
     "output_type": "execute_result"
    }
   ],
   "source": [
    "empty_case"
   ]
  },
  {
   "cell_type": "code",
   "execution_count": 29,
   "id": "a0002214",
   "metadata": {},
   "outputs": [],
   "source": [
    "case_ferequency = {k.lower():case.get(k.lower(), 0) + case.get(k.upper(), 0) for k in case.keys()}"
   ]
  },
  {
   "cell_type": "code",
   "execution_count": 30,
   "id": "eda1042a",
   "metadata": {},
   "outputs": [
    {
     "data": {
      "text/plain": [
       "{'a': 68, 'b': 26, 'f': 7}"
      ]
     },
     "execution_count": 30,
     "metadata": {},
     "output_type": "execute_result"
    }
   ],
   "source": [
    "case_ferequency"
   ]
  },
  {
   "cell_type": "code",
   "execution_count": 31,
   "id": "a25f8862",
   "metadata": {},
   "outputs": [],
   "source": [
    "case = {'a':23, 'b':26, 'A':45, 'F':7}\n",
    "\n",
    "\n",
    "#Expected output ==> { 23:'a', 26:'b', 45:'A', 7:'F'}\n",
    "\n",
    "\n",
    "case_swap = {}\n",
    "for key, value in case.items():\n",
    "    case_swap[value] = key"
   ]
  },
  {
   "cell_type": "code",
   "execution_count": 32,
   "id": "95b5ce33",
   "metadata": {},
   "outputs": [
    {
     "data": {
      "text/plain": [
       "{23: 'a', 26: 'b', 45: 'A', 7: 'F'}"
      ]
     },
     "execution_count": 32,
     "metadata": {},
     "output_type": "execute_result"
    }
   ],
   "source": [
    "case_swap"
   ]
  },
  {
   "cell_type": "code",
   "execution_count": 33,
   "id": "dab1dc8d",
   "metadata": {},
   "outputs": [
    {
     "data": {
      "text/plain": [
       "{23: 'a', 26: 'b', 45: 'A', 7: 'F'}"
      ]
     },
     "execution_count": 33,
     "metadata": {},
     "output_type": "execute_result"
    }
   ],
   "source": [
    "case_swap2 = {value:key for key, value in case.items()}\n",
    "\n",
    "case_swap2"
   ]
  },
  {
   "cell_type": "markdown",
   "id": "ab2cb6fd",
   "metadata": {},
   "source": [
    "### Args and Kwargs"
   ]
  },
  {
   "cell_type": "markdown",
   "id": "dad70087",
   "metadata": {},
   "source": [
    "#### Args"
   ]
  },
  {
   "cell_type": "code",
   "execution_count": 36,
   "id": "1b1a8653",
   "metadata": {},
   "outputs": [
    {
     "name": "stdout",
     "output_type": "stream",
     "text": [
      "('St', 'orm', 'W', 'I', 'N', 'D')\n",
      "None\n"
     ]
    }
   ],
   "source": [
    "t = ('St', 'orm', 'W', 'I', 'N', 'D')\n",
    "\n",
    "def print_args(*strings):\n",
    "    #print(arg1,arg2)\n",
    "    print(strings)\n",
    "    \n",
    "    \n",
    "print(print_args(*t))"
   ]
  },
  {
   "cell_type": "code",
   "execution_count": 40,
   "id": "78f4ef8c",
   "metadata": {},
   "outputs": [
    {
     "name": "stdout",
     "output_type": "stream",
     "text": [
      "first conventional argument: python\n",
      "other arguments through *others: computer\n",
      "other arguments through *others: mouse\n",
      "other arguments through *others: keyboard\n"
     ]
    }
   ],
   "source": [
    "def test_var(first, *others):\n",
    "    print('first conventional argument:', first)\n",
    "    \n",
    "    for arguments in others:\n",
    "        print('other arguments through *others:', arguments)\n",
    "        \n",
    "test_var('python', 'computer', 'mouse', 'keyboard')"
   ]
  },
  {
   "cell_type": "markdown",
   "id": "4d7eb23a",
   "metadata": {},
   "source": [
    "#### Kwargs"
   ]
  },
  {
   "cell_type": "code",
   "execution_count": 41,
   "id": "942d776e",
   "metadata": {},
   "outputs": [
    {
     "name": "stdout",
     "output_type": "stream",
     "text": [
      "hello my name is Tom\n"
     ]
    }
   ],
   "source": [
    "def greet_me(**kwargs):\n",
    "    for key, value in kwargs.items():\n",
    "        print(\"hello my {0} is {1}\".format(key,value))\n",
    "        \n",
    "        \n",
    "greet_me(name='Tom')"
   ]
  },
  {
   "cell_type": "code",
   "execution_count": 42,
   "id": "4816f9d0",
   "metadata": {},
   "outputs": [
    {
     "name": "stdout",
     "output_type": "stream",
     "text": [
      "first_name == John\n",
      "middle_name == L\n",
      "last_name == Doe\n"
     ]
    }
   ],
   "source": [
    "def funGreeting(**parameters):\n",
    "    for key, value in parameters.items():\n",
    "        print(\"%s == %s\"%(key, value))\n",
    "        \n",
    "funGreeting(first_name = 'John', middle_name = 'L', last_name = 'Doe')"
   ]
  },
  {
   "cell_type": "markdown",
   "id": "44886b27",
   "metadata": {},
   "source": [
    "#### Using Args and Kwargs to call a function"
   ]
  },
  {
   "cell_type": "code",
   "execution_count": 47,
   "id": "48087930",
   "metadata": {},
   "outputs": [],
   "source": [
    "def test_args_kwargs(arg1, arg2, arg3):\n",
    "    print('arg1:', arg1)\n",
    "    print('arg2:', arg2)\n",
    "    print('arg3:', arg3)\n",
    "    \n",
    "    "
   ]
  },
  {
   "cell_type": "code",
   "execution_count": 48,
   "id": "488348dc",
   "metadata": {},
   "outputs": [],
   "source": [
    "args = ('five', 4,5 )"
   ]
  },
  {
   "cell_type": "code",
   "execution_count": 49,
   "id": "ea0f125c",
   "metadata": {},
   "outputs": [
    {
     "name": "stdout",
     "output_type": "stream",
     "text": [
      "arg1: five\n",
      "arg2: 4\n",
      "arg3: 5\n"
     ]
    }
   ],
   "source": [
    "test_args_kwargs(*args)"
   ]
  },
  {
   "cell_type": "code",
   "execution_count": 50,
   "id": "3f195ab6",
   "metadata": {},
   "outputs": [],
   "source": [
    "kwargs = {\"arg3\": 'Baseball', 'arg2': 'Basketball', 'arg1': 'Track'}"
   ]
  },
  {
   "cell_type": "code",
   "execution_count": 51,
   "id": "06eb229e",
   "metadata": {},
   "outputs": [
    {
     "name": "stdout",
     "output_type": "stream",
     "text": [
      "arg1: Track\n",
      "arg2: Basketball\n",
      "arg3: Baseball\n"
     ]
    }
   ],
   "source": [
    "test_args_kwargs(**kwargs)"
   ]
  },
  {
   "cell_type": "markdown",
   "id": "7ebb77a2",
   "metadata": {},
   "source": [
    "### Local Functions"
   ]
  },
  {
   "cell_type": "code",
   "execution_count": 52,
   "id": "e754b670",
   "metadata": {},
   "outputs": [],
   "source": [
    "#Encapsulation "
   ]
  },
  {
   "cell_type": "code",
   "execution_count": 56,
   "id": "644f78dd",
   "metadata": {},
   "outputs": [],
   "source": [
    "#local Variable\n",
    "\n",
    "total = 100\n",
    "\n",
    "def addition(a,b):\n",
    "    total = a+b\n",
    "    \n",
    "    return total"
   ]
  },
  {
   "cell_type": "code",
   "execution_count": 57,
   "id": "f4006e1c",
   "metadata": {},
   "outputs": [
    {
     "data": {
      "text/plain": [
       "8"
      ]
     },
     "execution_count": 57,
     "metadata": {},
     "output_type": "execute_result"
    }
   ],
   "source": [
    "addition(2, 6)"
   ]
  },
  {
   "cell_type": "code",
   "execution_count": 58,
   "id": "85097880",
   "metadata": {},
   "outputs": [
    {
     "data": {
      "text/plain": [
       "100"
      ]
     },
     "execution_count": 58,
     "metadata": {},
     "output_type": "execute_result"
    }
   ],
   "source": [
    "total"
   ]
  },
  {
   "cell_type": "code",
   "execution_count": 60,
   "id": "653a5abe",
   "metadata": {},
   "outputs": [],
   "source": [
    "## local function"
   ]
  },
  {
   "cell_type": "code",
   "execution_count": 61,
   "id": "d0aa9792",
   "metadata": {},
   "outputs": [],
   "source": [
    "def outer(num1):\n",
    "    def inner_increment(num1):\n",
    "        return num1 + 2\n",
    "    num2 = inner_increment(num1)\n",
    "    \n",
    "    print(num1, num2)"
   ]
  },
  {
   "cell_type": "code",
   "execution_count": 62,
   "id": "34cd4b4a",
   "metadata": {},
   "outputs": [
    {
     "name": "stdout",
     "output_type": "stream",
     "text": [
      "12 14\n"
     ]
    }
   ],
   "source": [
    "outer(12)"
   ]
  },
  {
   "cell_type": "code",
   "execution_count": 63,
   "id": "e131eb16",
   "metadata": {},
   "outputs": [
    {
     "ename": "NameError",
     "evalue": "name 'inner_increment' is not defined",
     "output_type": "error",
     "traceback": [
      "\u001b[1;31m---------------------------------------------------------------------------\u001b[0m",
      "\u001b[1;31mNameError\u001b[0m                                 Traceback (most recent call last)",
      "\u001b[1;32m<ipython-input-63-1cb92bacfdd5>\u001b[0m in \u001b[0;36m<module>\u001b[1;34m\u001b[0m\n\u001b[1;32m----> 1\u001b[1;33m \u001b[0minner_increment\u001b[0m\u001b[1;33m(\u001b[0m\u001b[1;36m12\u001b[0m\u001b[1;33m)\u001b[0m\u001b[1;33m\u001b[0m\u001b[1;33m\u001b[0m\u001b[0m\n\u001b[0m",
      "\u001b[1;31mNameError\u001b[0m: name 'inner_increment' is not defined"
     ]
    }
   ],
   "source": [
    "inner_increment(12)"
   ]
  },
  {
   "cell_type": "code",
   "execution_count": 64,
   "id": "58f4e7a9",
   "metadata": {},
   "outputs": [],
   "source": [
    "#encapsulation with classes"
   ]
  },
  {
   "cell_type": "code",
   "execution_count": 65,
   "id": "eaf5fcd1",
   "metadata": {},
   "outputs": [],
   "source": [
    "class Counter:\n",
    "    def __init__(self):\n",
    "        self.current = 0\n",
    "        \n",
    "    def increment(self):\n",
    "        self.current +=1\n",
    "        \n",
    "    def value(self):\n",
    "        return self.current\n",
    "    \n",
    "    def reset(self):\n",
    "        self.current = 0"
   ]
  },
  {
   "cell_type": "code",
   "execution_count": 66,
   "id": "d2bf18e8",
   "metadata": {},
   "outputs": [],
   "source": [
    "counter = Counter()"
   ]
  },
  {
   "cell_type": "code",
   "execution_count": 67,
   "id": "6d1782b6",
   "metadata": {},
   "outputs": [],
   "source": [
    "counter.increment()"
   ]
  },
  {
   "cell_type": "code",
   "execution_count": 68,
   "id": "c413ccb8",
   "metadata": {},
   "outputs": [],
   "source": [
    "counter.increment()"
   ]
  },
  {
   "cell_type": "code",
   "execution_count": 69,
   "id": "86b50c95",
   "metadata": {},
   "outputs": [
    {
     "name": "stdout",
     "output_type": "stream",
     "text": [
      "2\n"
     ]
    }
   ],
   "source": [
    "print(counter.value())"
   ]
  },
  {
   "cell_type": "code",
   "execution_count": 70,
   "id": "25c57c14",
   "metadata": {},
   "outputs": [],
   "source": [
    "counter.increment()"
   ]
  },
  {
   "cell_type": "code",
   "execution_count": 71,
   "id": "4907c5bd",
   "metadata": {},
   "outputs": [
    {
     "name": "stdout",
     "output_type": "stream",
     "text": [
      "3\n"
     ]
    }
   ],
   "source": [
    "print(counter.value())"
   ]
  },
  {
   "cell_type": "code",
   "execution_count": 72,
   "id": "95541ee5",
   "metadata": {},
   "outputs": [],
   "source": [
    "counter.current = 1000"
   ]
  },
  {
   "cell_type": "code",
   "execution_count": 73,
   "id": "bfd54546",
   "metadata": {},
   "outputs": [
    {
     "name": "stdout",
     "output_type": "stream",
     "text": [
      "1000\n"
     ]
    }
   ],
   "source": [
    "print(counter.value())"
   ]
  },
  {
   "cell_type": "markdown",
   "id": "b54a7e81",
   "metadata": {},
   "source": [
    "### Private Attribute"
   ]
  },
  {
   "cell_type": "code",
   "execution_count": null,
   "id": "3b3ff203",
   "metadata": {},
   "outputs": [],
   "source": [
    "#_attribute"
   ]
  },
  {
   "cell_type": "code",
   "execution_count": 74,
   "id": "6ca806de",
   "metadata": {},
   "outputs": [],
   "source": [
    "class Counter:\n",
    "    def __init__(self):\n",
    "        self._current = 0\n",
    "        \n",
    "    def increment(self):\n",
    "        self._current +=1\n",
    "        \n",
    "    def value(self):\n",
    "        return self._current\n",
    "    \n",
    "    def reset(self):\n",
    "        self._current = 0"
   ]
  },
  {
   "cell_type": "code",
   "execution_count": 75,
   "id": "27c557aa",
   "metadata": {},
   "outputs": [],
   "source": [
    "counter1 = Counter()"
   ]
  },
  {
   "cell_type": "code",
   "execution_count": 77,
   "id": "b57d7503",
   "metadata": {},
   "outputs": [
    {
     "data": {
      "text/plain": [
       "0"
      ]
     },
     "execution_count": 77,
     "metadata": {},
     "output_type": "execute_result"
    }
   ],
   "source": [
    "counter1.value()"
   ]
  },
  {
   "cell_type": "code",
   "execution_count": 78,
   "id": "e7525303",
   "metadata": {},
   "outputs": [],
   "source": [
    "counter1._current = 100"
   ]
  },
  {
   "cell_type": "code",
   "execution_count": 79,
   "id": "f665a032",
   "metadata": {},
   "outputs": [
    {
     "data": {
      "text/plain": [
       "100"
      ]
     },
     "execution_count": 79,
     "metadata": {},
     "output_type": "execute_result"
    }
   ],
   "source": [
    "counter1.value()"
   ]
  },
  {
   "cell_type": "markdown",
   "id": "909f4cb4",
   "metadata": {},
   "source": [
    "### Name Mangling"
   ]
  },
  {
   "cell_type": "code",
   "execution_count": 29,
   "id": "2a4d0f40",
   "metadata": {},
   "outputs": [],
   "source": [
    "#__attributes\n",
    "\n",
    "#_class__attribute\n",
    "\n",
    "#instance._class__attribute"
   ]
  },
  {
   "cell_type": "code",
   "execution_count": 30,
   "id": "277fb9f9",
   "metadata": {},
   "outputs": [],
   "source": [
    "class Counter:\n",
    "    def __init__(self):\n",
    "        self.__current = 0\n",
    "        \n",
    "    def increment(self):\n",
    "        self.__current +=1\n",
    "        \n",
    "    def value(self):\n",
    "        return self.__current\n",
    "    \n",
    "    def reset(self):\n",
    "        self.__current = 0"
   ]
  },
  {
   "cell_type": "code",
   "execution_count": 32,
   "id": "113f1579",
   "metadata": {},
   "outputs": [],
   "source": [
    "counter3 = Counter()"
   ]
  },
  {
   "cell_type": "code",
   "execution_count": 43,
   "id": "ce51191d",
   "metadata": {},
   "outputs": [
    {
     "data": {
      "text/plain": [
       "3"
      ]
     },
     "execution_count": 43,
     "metadata": {},
     "output_type": "execute_result"
    }
   ],
   "source": [
    "counter3.value()"
   ]
  },
  {
   "cell_type": "code",
   "execution_count": 48,
   "id": "27f526b5",
   "metadata": {},
   "outputs": [],
   "source": [
    "counter3.increment()"
   ]
  },
  {
   "cell_type": "code",
   "execution_count": 51,
   "id": "178a4baa",
   "metadata": {},
   "outputs": [],
   "source": [
    "counter3.current = 100"
   ]
  },
  {
   "cell_type": "code",
   "execution_count": 52,
   "id": "b4fbbdc1",
   "metadata": {},
   "outputs": [
    {
     "data": {
      "text/plain": [
       "5"
      ]
     },
     "execution_count": 52,
     "metadata": {},
     "output_type": "execute_result"
    }
   ],
   "source": [
    "counter3.value()"
   ]
  },
  {
   "cell_type": "code",
   "execution_count": 53,
   "id": "0a150f3c",
   "metadata": {},
   "outputs": [],
   "source": [
    "counter3._Counter__current = 100"
   ]
  },
  {
   "cell_type": "code",
   "execution_count": 54,
   "id": "ce027048",
   "metadata": {},
   "outputs": [
    {
     "data": {
      "text/plain": [
       "100"
      ]
     },
     "execution_count": 54,
     "metadata": {},
     "output_type": "execute_result"
    }
   ],
   "source": [
    "counter3.value()"
   ]
  },
  {
   "cell_type": "markdown",
   "id": "14c7d0ba",
   "metadata": {},
   "source": [
    "### Closure"
   ]
  },
  {
   "cell_type": "code",
   "execution_count": 55,
   "id": "a778933e",
   "metadata": {},
   "outputs": [],
   "source": [
    "def greetings(msg): #enclosing function\n",
    "    \n",
    "    def print_msg():  #nested function\n",
    "        print(msg)\n",
    "        \n",
    "    print_msg()\n",
    "    \n",
    "    \n",
    "    "
   ]
  },
  {
   "cell_type": "code",
   "execution_count": 56,
   "id": "f10a875d",
   "metadata": {},
   "outputs": [
    {
     "name": "stdout",
     "output_type": "stream",
     "text": [
      "Hello There\n"
     ]
    }
   ],
   "source": [
    "greetings('Hello There')"
   ]
  },
  {
   "cell_type": "code",
   "execution_count": 62,
   "id": "d97a558e",
   "metadata": {},
   "outputs": [],
   "source": [
    "def greetings1(msg): #enclosing function\n",
    "    \n",
    "    def print_msg():  #nested function\n",
    "        print(msg)\n",
    "        \n",
    "    return print_msg   # returning the nested function"
   ]
  },
  {
   "cell_type": "code",
   "execution_count": 63,
   "id": "1e8fdc1d",
   "metadata": {},
   "outputs": [],
   "source": [
    "salut = greetings1('This is hello in French')"
   ]
  },
  {
   "cell_type": "code",
   "execution_count": 64,
   "id": "bd167f30",
   "metadata": {},
   "outputs": [
    {
     "name": "stdout",
     "output_type": "stream",
     "text": [
      "This is hello in French\n"
     ]
    }
   ],
   "source": [
    "salut()"
   ]
  },
  {
   "cell_type": "code",
   "execution_count": 65,
   "id": "f6034000",
   "metadata": {},
   "outputs": [],
   "source": [
    "del greetings1"
   ]
  },
  {
   "cell_type": "code",
   "execution_count": 66,
   "id": "501b3df5",
   "metadata": {},
   "outputs": [
    {
     "ename": "NameError",
     "evalue": "name 'greeting1' is not defined",
     "output_type": "error",
     "traceback": [
      "\u001b[1;31m---------------------------------------------------------------------------\u001b[0m",
      "\u001b[1;31mNameError\u001b[0m                                 Traceback (most recent call last)",
      "\u001b[1;32m<ipython-input-66-68817fa6845d>\u001b[0m in \u001b[0;36m<module>\u001b[1;34m\u001b[0m\n\u001b[1;32m----> 1\u001b[1;33m \u001b[0mgreeting1\u001b[0m\u001b[1;33m(\u001b[0m\u001b[1;34m'Hello'\u001b[0m\u001b[1;33m)\u001b[0m\u001b[1;33m\u001b[0m\u001b[1;33m\u001b[0m\u001b[0m\n\u001b[0m",
      "\u001b[1;31mNameError\u001b[0m: name 'greeting1' is not defined"
     ]
    }
   ],
   "source": [
    "greeting1('Hello')"
   ]
  },
  {
   "cell_type": "code",
   "execution_count": 67,
   "id": "28eab926",
   "metadata": {},
   "outputs": [
    {
     "name": "stdout",
     "output_type": "stream",
     "text": [
      "This is hello in French\n"
     ]
    }
   ],
   "source": [
    "salut()"
   ]
  },
  {
   "cell_type": "markdown",
   "id": "bd52acf4",
   "metadata": {},
   "source": [
    "### Levels of Logging\n",
    "\n",
    "\n",
    "DEBUG ===> Detailed information, typicall of interest only when diagnosing problems\n",
    "\n",
    "INFO ===> Confirmation that things are working as expected\n",
    "\n",
    "WARNING ===> An indication that something unexpected happened, or indicative of some problem in the near future (eg low disk space)\n",
    "\n",
    "ERROR ===> Due to a more serious problem\n",
    "\n",
    "CRITICAL ===> A serious error, indicating that the program itself may be unable to continue running"
   ]
  },
  {
   "cell_type": "code",
   "execution_count": 1,
   "id": "c08849ae",
   "metadata": {},
   "outputs": [
    {
     "name": "stderr",
     "output_type": "stream",
     "text": [
      "WARNING:root:Watch out!\n"
     ]
    }
   ],
   "source": [
    "import logging\n",
    "\n",
    "logging.warning('Watch out!')\n",
    "logging.info('This stay as is')\n"
   ]
  },
  {
   "cell_type": "markdown",
   "id": "97288078",
   "metadata": {},
   "source": [
    "# Need to redo Logging as it pertains to Closures!!!"
   ]
  },
  {
   "cell_type": "code",
   "execution_count": 2,
   "id": "7254a4dd",
   "metadata": {},
   "outputs": [
    {
     "name": "stderr",
     "output_type": "stream",
     "text": [
      "WARNING:root:Be careful\n",
      "ERROR:root:This are beginning to heat up\n",
      "CRITICAL:root:This is very serious\n"
     ]
    }
   ],
   "source": [
    "#logging file, changing the level of logging\n",
    "\n",
    "logging.basicConfig(filename='example.log', level=logging.DEBUG)\n",
    "\n",
    "\n",
    "logging.debug('This is should go to the log file')\n",
    "logging.info('This should print a simple message')\n",
    "logging.warning('Be careful')\n",
    "logging.error('This are beginning to heat up')\n",
    "logging.critical('This is very serious')"
   ]
  },
  {
   "cell_type": "code",
   "execution_count": null,
   "id": "e9dc8d99",
   "metadata": {},
   "outputs": [],
   "source": []
  },
  {
   "cell_type": "markdown",
   "id": "0afa2e2a",
   "metadata": {},
   "source": [
    "### Decorators"
   ]
  },
  {
   "cell_type": "code",
   "execution_count": 3,
   "id": "ba0a6f5b",
   "metadata": {},
   "outputs": [],
   "source": [
    "def StormExample_decorator(func): \n",
    "    \n",
    "    def wrapperfunc(*args):\n",
    "        print('Pre Func Execution')\n",
    "        func()\n",
    "        print('Post Func Execution')\n",
    "    return wrapperfunc\n",
    "\n",
    "\n",
    "\n",
    " \n"
   ]
  },
  {
   "cell_type": "code",
   "execution_count": 4,
   "id": "7e043471",
   "metadata": {},
   "outputs": [],
   "source": [
    "def function_add():\n",
    "    print('Inside Func')"
   ]
  },
  {
   "cell_type": "code",
   "execution_count": 5,
   "id": "9124d70a",
   "metadata": {},
   "outputs": [],
   "source": [
    "function_add = StormExample_decorator(function_add)"
   ]
  },
  {
   "cell_type": "code",
   "execution_count": 6,
   "id": "ad64ca2f",
   "metadata": {},
   "outputs": [
    {
     "name": "stdout",
     "output_type": "stream",
     "text": [
      "Pre Func Execution\n",
      "Inside Func\n",
      "Post Func Execution\n"
     ]
    }
   ],
   "source": [
    "function_add()"
   ]
  },
  {
   "cell_type": "code",
   "execution_count": null,
   "id": "189eeb9b",
   "metadata": {},
   "outputs": [],
   "source": []
  },
  {
   "cell_type": "code",
   "execution_count": 7,
   "id": "3d772240",
   "metadata": {},
   "outputs": [],
   "source": [
    "def make_extraordinary(func):\n",
    "    \n",
    "    def inner():\n",
    "        func()\n",
    "        print('but now, I am extra-ordinary!')\n",
    "        \n",
    "    return inner"
   ]
  },
  {
   "cell_type": "code",
   "execution_count": 8,
   "id": "c7b20513",
   "metadata": {},
   "outputs": [],
   "source": [
    "def ordinary():\n",
    "    print('I am ordinary')"
   ]
  },
  {
   "cell_type": "code",
   "execution_count": 9,
   "id": "aff9e25c",
   "metadata": {},
   "outputs": [],
   "source": [
    "ordinary = make_extraordinary(ordinary)"
   ]
  },
  {
   "cell_type": "code",
   "execution_count": 11,
   "id": "74793836",
   "metadata": {},
   "outputs": [
    {
     "name": "stdout",
     "output_type": "stream",
     "text": [
      "I am ordinary\n",
      "but now, I am extra-ordinary!\n"
     ]
    }
   ],
   "source": [
    "ordinary()"
   ]
  },
  {
   "cell_type": "code",
   "execution_count": 12,
   "id": "904cbc2e",
   "metadata": {},
   "outputs": [],
   "source": [
    "@make_extraordinary\n",
    "def another_ordinary_func():\n",
    "    print('I too used to be ordinary')"
   ]
  },
  {
   "cell_type": "code",
   "execution_count": 13,
   "id": "a58477e1",
   "metadata": {},
   "outputs": [
    {
     "name": "stdout",
     "output_type": "stream",
     "text": [
      "I too used to be ordinary\n",
      "but now, I am extra-ordinary!\n"
     ]
    }
   ],
   "source": [
    "another_ordinary_func()"
   ]
  },
  {
   "cell_type": "code",
   "execution_count": null,
   "id": "052ba69d",
   "metadata": {},
   "outputs": [],
   "source": []
  },
  {
   "cell_type": "markdown",
   "id": "bb4e2180",
   "metadata": {},
   "source": [
    "### decorating functions with parameters"
   ]
  },
  {
   "cell_type": "code",
   "execution_count": 14,
   "id": "b4b592d3",
   "metadata": {},
   "outputs": [],
   "source": [
    "def divide(x,y):\n",
    "    return x/y"
   ]
  },
  {
   "cell_type": "code",
   "execution_count": 15,
   "id": "eeeb39db",
   "metadata": {},
   "outputs": [
    {
     "data": {
      "text/plain": [
       "2.0"
      ]
     },
     "execution_count": 15,
     "metadata": {},
     "output_type": "execute_result"
    }
   ],
   "source": [
    "divide(20, 10)"
   ]
  },
  {
   "cell_type": "code",
   "execution_count": 16,
   "id": "4b184ede",
   "metadata": {},
   "outputs": [
    {
     "ename": "ZeroDivisionError",
     "evalue": "division by zero",
     "output_type": "error",
     "traceback": [
      "\u001b[1;31m---------------------------------------------------------------------------\u001b[0m",
      "\u001b[1;31mZeroDivisionError\u001b[0m                         Traceback (most recent call last)",
      "\u001b[1;32m<ipython-input-16-45e818b2b9c5>\u001b[0m in \u001b[0;36m<module>\u001b[1;34m\u001b[0m\n\u001b[1;32m----> 1\u001b[1;33m \u001b[0mdivide\u001b[0m\u001b[1;33m(\u001b[0m\u001b[1;36m2\u001b[0m\u001b[1;33m,\u001b[0m \u001b[1;36m0\u001b[0m\u001b[1;33m)\u001b[0m\u001b[1;33m\u001b[0m\u001b[1;33m\u001b[0m\u001b[0m\n\u001b[0m",
      "\u001b[1;32m<ipython-input-14-cde09cc5b8ef>\u001b[0m in \u001b[0;36mdivide\u001b[1;34m(x, y)\u001b[0m\n\u001b[0;32m      1\u001b[0m \u001b[1;32mdef\u001b[0m \u001b[0mdivide\u001b[0m\u001b[1;33m(\u001b[0m\u001b[0mx\u001b[0m\u001b[1;33m,\u001b[0m\u001b[0my\u001b[0m\u001b[1;33m)\u001b[0m\u001b[1;33m:\u001b[0m\u001b[1;33m\u001b[0m\u001b[1;33m\u001b[0m\u001b[0m\n\u001b[1;32m----> 2\u001b[1;33m     \u001b[1;32mreturn\u001b[0m \u001b[0mx\u001b[0m\u001b[1;33m/\u001b[0m\u001b[0my\u001b[0m\u001b[1;33m\u001b[0m\u001b[1;33m\u001b[0m\u001b[0m\n\u001b[0m",
      "\u001b[1;31mZeroDivisionError\u001b[0m: division by zero"
     ]
    }
   ],
   "source": [
    "divide(2, 0)"
   ]
  },
  {
   "cell_type": "code",
   "execution_count": 17,
   "id": "debafc7c",
   "metadata": {},
   "outputs": [],
   "source": [
    "def proper_division(func):\n",
    "    \n",
    "    def inner(a, b):\n",
    "        print('I will divide',a, 'and', b)\n",
    "        if b == 0:\n",
    "            print('Ooh Noo! Cannot divide')\n",
    "            return\n",
    "        \n",
    "        return func(a,b)\n",
    "    \n",
    "    return inner\n",
    "\n",
    "        \n",
    "    "
   ]
  },
  {
   "cell_type": "code",
   "execution_count": 18,
   "id": "2888e03a",
   "metadata": {},
   "outputs": [],
   "source": [
    "@proper_division\n",
    "def division(a,b):\n",
    "    print(a/b)\n"
   ]
  },
  {
   "cell_type": "code",
   "execution_count": 20,
   "id": "a9f8f6ae",
   "metadata": {},
   "outputs": [
    {
     "name": "stdout",
     "output_type": "stream",
     "text": [
      "I will divide 25 and 0\n",
      "Ooh Noo! Cannot divide\n"
     ]
    }
   ],
   "source": [
    "division(25, 0)"
   ]
  },
  {
   "cell_type": "code",
   "execution_count": null,
   "id": "378f6b15",
   "metadata": {},
   "outputs": [],
   "source": []
  },
  {
   "cell_type": "code",
   "execution_count": 31,
   "id": "8d09f4ff",
   "metadata": {},
   "outputs": [],
   "source": [
    "def decorator_many_parameters(func):\n",
    "    \n",
    "    def inner(*args, **kwargs):\n",
    "        print('I can decorate functions with any number of parameters')\n",
    "        return func(*args, **kwargs)\n",
    "    \n",
    "    return inner"
   ]
  },
  {
   "cell_type": "code",
   "execution_count": 32,
   "id": "ecaa2c93",
   "metadata": {},
   "outputs": [],
   "source": []
  },
  {
   "cell_type": "markdown",
   "id": "83bbfc7a",
   "metadata": {},
   "source": [
    "### Chaining Decorators"
   ]
  },
  {
   "cell_type": "code",
   "execution_count": 35,
   "id": "a47f2f0a",
   "metadata": {},
   "outputs": [],
   "source": [
    "def star_func(func):\n",
    "    \n",
    "    def inner(*args, **kwargs):\n",
    "        print('*'*30)\n",
    "        func(*args, **kwargs)\n",
    "        print('*'*30)\n",
    "    \n",
    "    return inner\n",
    "\n",
    "\n",
    "def dollar_func(func):\n",
    "    def inner(*args, **kwargs):\n",
    "        print('$'*30)\n",
    "        func(*args, **kwargs)\n",
    "        print('$'*30)\n",
    "        \n",
    "    return inner"
   ]
  },
  {
   "cell_type": "code",
   "execution_count": 36,
   "id": "be3e3df2",
   "metadata": {},
   "outputs": [],
   "source": [
    "@star_func\n",
    "@dollar_func\n",
    "def message(msg):\n",
    "    print(msg)"
   ]
  },
  {
   "cell_type": "code",
   "execution_count": 38,
   "id": "00b1619c",
   "metadata": {},
   "outputs": [
    {
     "name": "stdout",
     "output_type": "stream",
     "text": [
      "******************************\n",
      "$$$$$$$$$$$$$$$$$$$$$$$$$$$$$$\n",
      "I am a star and I am rich!\n",
      "$$$$$$$$$$$$$$$$$$$$$$$$$$$$$$\n",
      "******************************\n"
     ]
    }
   ],
   "source": [
    "message('I am a star and I am rich!')"
   ]
  },
  {
   "cell_type": "code",
   "execution_count": null,
   "id": "15f18207",
   "metadata": {},
   "outputs": [],
   "source": [
    "message = star_func(dollar_func(message))"
   ]
  },
  {
   "cell_type": "code",
   "execution_count": 39,
   "id": "4cb5a8e1",
   "metadata": {},
   "outputs": [],
   "source": [
    "@dollar_func\n",
    "@star_func\n",
    "def message(msg):\n",
    "    print(msg)"
   ]
  },
  {
   "cell_type": "code",
   "execution_count": 40,
   "id": "bfcfb1b9",
   "metadata": {},
   "outputs": [
    {
     "name": "stdout",
     "output_type": "stream",
     "text": [
      "$$$$$$$$$$$$$$$$$$$$$$$$$$$$$$\n",
      "******************************\n",
      "I am a star and I am rich!\n",
      "******************************\n",
      "$$$$$$$$$$$$$$$$$$$$$$$$$$$$$$\n"
     ]
    }
   ],
   "source": [
    "message('I am a star and I am rich!')"
   ]
  },
  {
   "cell_type": "markdown",
   "id": "69c31d06",
   "metadata": {},
   "source": [
    "### Local, Enclosing, Global, Builtin"
   ]
  },
  {
   "cell_type": "code",
   "execution_count": 41,
   "id": "e216125e",
   "metadata": {},
   "outputs": [],
   "source": [
    "StormExample = 'StormWind Python' #global variable (found in the global scope of our program)\n",
    "\n",
    "def print_pi():\n",
    "    StormExample = 'StormWind Python Intermediate' ###local variable (local scope of this function)\n",
    "    print(StormExample)\n",
    "\n",
    "\n"
   ]
  },
  {
   "cell_type": "code",
   "execution_count": 43,
   "id": "4ddb8dda",
   "metadata": {},
   "outputs": [
    {
     "name": "stdout",
     "output_type": "stream",
     "text": [
      "StormWind Python Intermediate\n"
     ]
    }
   ],
   "source": [
    "print_pi()\n"
   ]
  },
  {
   "cell_type": "code",
   "execution_count": 44,
   "id": "b774ca31",
   "metadata": {},
   "outputs": [
    {
     "name": "stdout",
     "output_type": "stream",
     "text": [
      "StormWind Python\n"
     ]
    }
   ],
   "source": [
    "print(StormExample)"
   ]
  },
  {
   "cell_type": "code",
   "execution_count": 49,
   "id": "c60f0e1e",
   "metadata": {},
   "outputs": [],
   "source": [
    "x = 'this is the global x'\n",
    "\n",
    "\n",
    "def my_func():\n",
    "    y = 'This is the local y'\n",
    "    print(y)"
   ]
  },
  {
   "cell_type": "code",
   "execution_count": 46,
   "id": "d87357e9",
   "metadata": {},
   "outputs": [
    {
     "name": "stdout",
     "output_type": "stream",
     "text": [
      "this is the global x\n"
     ]
    }
   ],
   "source": [
    "print(x)"
   ]
  },
  {
   "cell_type": "code",
   "execution_count": 47,
   "id": "275d659a",
   "metadata": {},
   "outputs": [
    {
     "name": "stdout",
     "output_type": "stream",
     "text": [
      "This is the local x\n"
     ]
    }
   ],
   "source": [
    "my_func()"
   ]
  },
  {
   "cell_type": "code",
   "execution_count": 50,
   "id": "884d7b2f",
   "metadata": {},
   "outputs": [
    {
     "ename": "NameError",
     "evalue": "name 'y' is not defined",
     "output_type": "error",
     "traceback": [
      "\u001b[1;31m---------------------------------------------------------------------------\u001b[0m",
      "\u001b[1;31mNameError\u001b[0m                                 Traceback (most recent call last)",
      "\u001b[1;32m<ipython-input-50-d9183e048de3>\u001b[0m in \u001b[0;36m<module>\u001b[1;34m\u001b[0m\n\u001b[1;32m----> 1\u001b[1;33m \u001b[0mprint\u001b[0m\u001b[1;33m(\u001b[0m\u001b[0my\u001b[0m\u001b[1;33m)\u001b[0m\u001b[1;33m\u001b[0m\u001b[1;33m\u001b[0m\u001b[0m\n\u001b[0m",
      "\u001b[1;31mNameError\u001b[0m: name 'y' is not defined"
     ]
    }
   ],
   "source": [
    "print(y)"
   ]
  },
  {
   "cell_type": "code",
   "execution_count": 58,
   "id": "4c3d16eb",
   "metadata": {},
   "outputs": [],
   "source": [
    "x = 'this is the global x'\n",
    "\n",
    "\n",
    "def outer_func():   #the enclosing function\n",
    "    x = 'this is the enclosing x'  #the enclosing variable\n",
    "    \n",
    "    def inner_func(): #nested function\n",
    "        x = 'this is the local x'\n",
    "        print(x)\n",
    "    \n",
    "    print(x) \n",
    "    return inner_func()\n",
    "    \n",
    "    \n",
    "    "
   ]
  },
  {
   "cell_type": "code",
   "execution_count": 60,
   "id": "bdf9b32b",
   "metadata": {},
   "outputs": [
    {
     "name": "stdout",
     "output_type": "stream",
     "text": [
      "this is the global x\n",
      "this is the enclosing x\n",
      "this is the local x\n"
     ]
    }
   ],
   "source": [
    "print(x)\n",
    "outer_func()"
   ]
  },
  {
   "cell_type": "code",
   "execution_count": 61,
   "id": "3cea74ba",
   "metadata": {},
   "outputs": [
    {
     "ename": "NameError",
     "evalue": "name 'inner_func' is not defined",
     "output_type": "error",
     "traceback": [
      "\u001b[1;31m---------------------------------------------------------------------------\u001b[0m",
      "\u001b[1;31mNameError\u001b[0m                                 Traceback (most recent call last)",
      "\u001b[1;32m<ipython-input-61-1d4cd1e06103>\u001b[0m in \u001b[0;36m<module>\u001b[1;34m\u001b[0m\n\u001b[1;32m----> 1\u001b[1;33m \u001b[0minner_func\u001b[0m\u001b[1;33m(\u001b[0m\u001b[1;33m)\u001b[0m\u001b[1;33m\u001b[0m\u001b[1;33m\u001b[0m\u001b[0m\n\u001b[0m",
      "\u001b[1;31mNameError\u001b[0m: name 'inner_func' is not defined"
     ]
    }
   ],
   "source": [
    "inner_func()"
   ]
  },
  {
   "cell_type": "markdown",
   "id": "cd301b90",
   "metadata": {},
   "source": [
    "### Local Scope"
   ]
  },
  {
   "cell_type": "code",
   "execution_count": 62,
   "id": "38f9b86b",
   "metadata": {},
   "outputs": [],
   "source": [
    "def squared(base):\n",
    "    result = base**2\n",
    "    print(f'The square of {base} is: {result}')"
   ]
  },
  {
   "cell_type": "code",
   "execution_count": 63,
   "id": "a31dde73",
   "metadata": {},
   "outputs": [
    {
     "name": "stdout",
     "output_type": "stream",
     "text": [
      "The square of 10 is: 100\n"
     ]
    }
   ],
   "source": [
    "squared(10)"
   ]
  },
  {
   "cell_type": "code",
   "execution_count": 65,
   "id": "5fc77c55",
   "metadata": {},
   "outputs": [],
   "source": [
    "def cube(base):\n",
    "    result = base**3\n",
    "    print(f'The cube of {base} is: {result}')"
   ]
  },
  {
   "cell_type": "code",
   "execution_count": 66,
   "id": "bf36ba5b",
   "metadata": {},
   "outputs": [
    {
     "name": "stdout",
     "output_type": "stream",
     "text": [
      "The cube of 3 is: 27\n"
     ]
    }
   ],
   "source": [
    "cube(3)"
   ]
  },
  {
   "cell_type": "code",
   "execution_count": 67,
   "id": "c866cdc7",
   "metadata": {},
   "outputs": [
    {
     "ename": "NameError",
     "evalue": "name 'result' is not defined",
     "output_type": "error",
     "traceback": [
      "\u001b[1;31m---------------------------------------------------------------------------\u001b[0m",
      "\u001b[1;31mNameError\u001b[0m                                 Traceback (most recent call last)",
      "\u001b[1;32m<ipython-input-67-0ac921c19f1a>\u001b[0m in \u001b[0;36m<module>\u001b[1;34m\u001b[0m\n\u001b[1;32m----> 1\u001b[1;33m \u001b[0mresult\u001b[0m\u001b[1;33m\u001b[0m\u001b[1;33m\u001b[0m\u001b[0m\n\u001b[0m",
      "\u001b[1;31mNameError\u001b[0m: name 'result' is not defined"
     ]
    }
   ],
   "source": [
    "result"
   ]
  },
  {
   "cell_type": "code",
   "execution_count": 68,
   "id": "dd9db56c",
   "metadata": {},
   "outputs": [
    {
     "data": {
      "text/plain": [
       "('base', 'result')"
      ]
     },
     "execution_count": 68,
     "metadata": {},
     "output_type": "execute_result"
    }
   ],
   "source": [
    "squared.__code__.co_varnames"
   ]
  },
  {
   "cell_type": "markdown",
   "id": "ab354375",
   "metadata": {},
   "source": [
    "### Enclosing scope"
   ]
  },
  {
   "cell_type": "code",
   "execution_count": 73,
   "id": "ee5a13ea",
   "metadata": {},
   "outputs": [],
   "source": [
    "def outer_func():\n",
    "    \n",
    "    var = 100\n",
    "    \n",
    "    def inner_func():\n",
    "        #var = 100\n",
    "        print(f'We are printing from inner_func(): {var}')\n",
    "        \n",
    "    inner_func()\n",
    "    print(f'We are printing from outer_func(): {var}')"
   ]
  },
  {
   "cell_type": "code",
   "execution_count": 74,
   "id": "67491169",
   "metadata": {},
   "outputs": [
    {
     "name": "stdout",
     "output_type": "stream",
     "text": [
      "We are printing from inner_func(): 100\n",
      "We are printing from outer_func(): 100\n"
     ]
    }
   ],
   "source": [
    "outer_func()"
   ]
  },
  {
   "cell_type": "code",
   "execution_count": 78,
   "id": "2728d503",
   "metadata": {},
   "outputs": [
    {
     "name": "stdout",
     "output_type": "stream",
     "text": [
      "The square of 2 is: 4\n"
     ]
    }
   ],
   "source": [
    "squared()"
   ]
  },
  {
   "cell_type": "code",
   "execution_count": 82,
   "id": "7280da3c",
   "metadata": {},
   "outputs": [],
   "source": [
    "def outer_func_2():\n",
    "    \n",
    "    var = 100\n",
    "    \n",
    "    def inner_func():\n",
    "        #var = 100\n",
    "        print(f'We are printing from inner_func(): {var}')\n",
    "        \n",
    "    inner_func()\n",
    "    another_var = 200\n",
    "    print(f'We are printing from outer_func_2(): {another_var}')"
   ]
  },
  {
   "cell_type": "code",
   "execution_count": 83,
   "id": "05698a02",
   "metadata": {},
   "outputs": [
    {
     "name": "stdout",
     "output_type": "stream",
     "text": [
      "We are printing from inner_func(): 100\n",
      "We are printing from outer_func_2(): 200\n"
     ]
    }
   ],
   "source": [
    "outer_func_2()"
   ]
  },
  {
   "cell_type": "markdown",
   "id": "4cd33e17",
   "metadata": {},
   "source": [
    "### Global Scope (Module scope)"
   ]
  },
  {
   "cell_type": "code",
   "execution_count": 85,
   "id": "7899adf0",
   "metadata": {},
   "outputs": [],
   "source": [
    "var = 20 \n",
    "\n",
    "def func():\n",
    "    return var\n",
    "    "
   ]
  },
  {
   "cell_type": "code",
   "execution_count": 86,
   "id": "a6a335e1",
   "metadata": {},
   "outputs": [
    {
     "data": {
      "text/plain": [
       "20"
      ]
     },
     "execution_count": 86,
     "metadata": {},
     "output_type": "execute_result"
    }
   ],
   "source": [
    "func()"
   ]
  },
  {
   "cell_type": "code",
   "execution_count": 87,
   "id": "df6a48f0",
   "metadata": {},
   "outputs": [
    {
     "data": {
      "text/plain": [
       "['In',\n",
       " 'Out',\n",
       " 'StormExample',\n",
       " 'StormExample_decorator',\n",
       " '_',\n",
       " '_10',\n",
       " '_15',\n",
       " '_48',\n",
       " '_52',\n",
       " '_68',\n",
       " '_86',\n",
       " '__',\n",
       " '___',\n",
       " '__builtin__',\n",
       " '__builtins__',\n",
       " '__doc__',\n",
       " '__loader__',\n",
       " '__name__',\n",
       " '__package__',\n",
       " '__spec__',\n",
       " '_dh',\n",
       " '_i',\n",
       " '_i1',\n",
       " '_i10',\n",
       " '_i11',\n",
       " '_i12',\n",
       " '_i13',\n",
       " '_i14',\n",
       " '_i15',\n",
       " '_i16',\n",
       " '_i17',\n",
       " '_i18',\n",
       " '_i19',\n",
       " '_i2',\n",
       " '_i20',\n",
       " '_i21',\n",
       " '_i22',\n",
       " '_i23',\n",
       " '_i24',\n",
       " '_i25',\n",
       " '_i26',\n",
       " '_i27',\n",
       " '_i28',\n",
       " '_i29',\n",
       " '_i3',\n",
       " '_i30',\n",
       " '_i31',\n",
       " '_i32',\n",
       " '_i33',\n",
       " '_i34',\n",
       " '_i35',\n",
       " '_i36',\n",
       " '_i37',\n",
       " '_i38',\n",
       " '_i39',\n",
       " '_i4',\n",
       " '_i40',\n",
       " '_i41',\n",
       " '_i42',\n",
       " '_i43',\n",
       " '_i44',\n",
       " '_i45',\n",
       " '_i46',\n",
       " '_i47',\n",
       " '_i48',\n",
       " '_i49',\n",
       " '_i5',\n",
       " '_i50',\n",
       " '_i51',\n",
       " '_i52',\n",
       " '_i53',\n",
       " '_i54',\n",
       " '_i55',\n",
       " '_i56',\n",
       " '_i57',\n",
       " '_i58',\n",
       " '_i59',\n",
       " '_i6',\n",
       " '_i60',\n",
       " '_i61',\n",
       " '_i62',\n",
       " '_i63',\n",
       " '_i64',\n",
       " '_i65',\n",
       " '_i66',\n",
       " '_i67',\n",
       " '_i68',\n",
       " '_i69',\n",
       " '_i7',\n",
       " '_i70',\n",
       " '_i71',\n",
       " '_i72',\n",
       " '_i73',\n",
       " '_i74',\n",
       " '_i75',\n",
       " '_i76',\n",
       " '_i77',\n",
       " '_i78',\n",
       " '_i79',\n",
       " '_i8',\n",
       " '_i80',\n",
       " '_i81',\n",
       " '_i82',\n",
       " '_i83',\n",
       " '_i84',\n",
       " '_i85',\n",
       " '_i86',\n",
       " '_i87',\n",
       " '_i9',\n",
       " '_ih',\n",
       " '_ii',\n",
       " '_iii',\n",
       " '_oh',\n",
       " 'another_ordinary_func',\n",
       " 'base',\n",
       " 'cube',\n",
       " 'divide',\n",
       " 'divide_1',\n",
       " 'division',\n",
       " 'dollar_func',\n",
       " 'exit',\n",
       " 'func',\n",
       " 'function_add',\n",
       " 'get_ipython',\n",
       " 'logging',\n",
       " 'make_extraordinary',\n",
       " 'message',\n",
       " 'my_func',\n",
       " 'ordinary',\n",
       " 'outer_func',\n",
       " 'outer_func_2',\n",
       " 'print_pi',\n",
       " 'proper_division',\n",
       " 'proper_division_2',\n",
       " 'quit',\n",
       " 'squared',\n",
       " 'star_func',\n",
       " 'var',\n",
       " 'x']"
      ]
     },
     "execution_count": 87,
     "metadata": {},
     "output_type": "execute_result"
    }
   ],
   "source": [
    "dir()"
   ]
  },
  {
   "cell_type": "code",
   "execution_count": 88,
   "id": "927d2243",
   "metadata": {},
   "outputs": [],
   "source": [
    "var = 20 \n",
    "\n",
    "def func():\n",
    "    return var"
   ]
  },
  {
   "cell_type": "code",
   "execution_count": 89,
   "id": "258f65bc",
   "metadata": {},
   "outputs": [],
   "source": [
    "var = var + 1"
   ]
  },
  {
   "cell_type": "code",
   "execution_count": 90,
   "id": "6c0eabda",
   "metadata": {},
   "outputs": [
    {
     "data": {
      "text/plain": [
       "21"
      ]
     },
     "execution_count": 90,
     "metadata": {},
     "output_type": "execute_result"
    }
   ],
   "source": [
    "var"
   ]
  },
  {
   "cell_type": "code",
   "execution_count": 95,
   "id": "96542792",
   "metadata": {},
   "outputs": [],
   "source": [
    "def some_function():\n",
    "    #print(var)  #python recognises global variable 'var'\n",
    "    var = var + 1 #python overrides global variable 'var' and assumes all occurences of 'var' to be in local scope of function\n",
    "    print(var)\n"
   ]
  },
  {
   "cell_type": "code",
   "execution_count": 96,
   "id": "934f3a11",
   "metadata": {},
   "outputs": [
    {
     "ename": "UnboundLocalError",
     "evalue": "local variable 'var' referenced before assignment",
     "output_type": "error",
     "traceback": [
      "\u001b[1;31m---------------------------------------------------------------------------\u001b[0m",
      "\u001b[1;31mUnboundLocalError\u001b[0m                         Traceback (most recent call last)",
      "\u001b[1;32m<ipython-input-96-6a01c81cb036>\u001b[0m in \u001b[0;36m<module>\u001b[1;34m\u001b[0m\n\u001b[1;32m----> 1\u001b[1;33m \u001b[0msome_function\u001b[0m\u001b[1;33m(\u001b[0m\u001b[1;33m)\u001b[0m\u001b[1;33m\u001b[0m\u001b[1;33m\u001b[0m\u001b[0m\n\u001b[0m",
      "\u001b[1;32m<ipython-input-95-79b1983aeabe>\u001b[0m in \u001b[0;36msome_function\u001b[1;34m()\u001b[0m\n\u001b[0;32m      1\u001b[0m \u001b[1;32mdef\u001b[0m \u001b[0msome_function\u001b[0m\u001b[1;33m(\u001b[0m\u001b[1;33m)\u001b[0m\u001b[1;33m:\u001b[0m\u001b[1;33m\u001b[0m\u001b[1;33m\u001b[0m\u001b[0m\n\u001b[1;32m----> 2\u001b[1;33m     \u001b[0mprint\u001b[0m\u001b[1;33m(\u001b[0m\u001b[0mvar\u001b[0m\u001b[1;33m)\u001b[0m\u001b[1;33m\u001b[0m\u001b[1;33m\u001b[0m\u001b[0m\n\u001b[0m\u001b[0;32m      3\u001b[0m     \u001b[0mvar\u001b[0m \u001b[1;33m=\u001b[0m \u001b[0mvar\u001b[0m \u001b[1;33m+\u001b[0m \u001b[1;36m1\u001b[0m\u001b[1;33m\u001b[0m\u001b[1;33m\u001b[0m\u001b[0m\n\u001b[0;32m      4\u001b[0m     \u001b[0mprint\u001b[0m\u001b[1;33m(\u001b[0m\u001b[0mvar\u001b[0m\u001b[1;33m)\u001b[0m\u001b[1;33m\u001b[0m\u001b[1;33m\u001b[0m\u001b[0m\n",
      "\u001b[1;31mUnboundLocalError\u001b[0m: local variable 'var' referenced before assignment"
     ]
    }
   ],
   "source": [
    "some_function()"
   ]
  },
  {
   "cell_type": "code",
   "execution_count": 99,
   "id": "e20a6058",
   "metadata": {},
   "outputs": [
    {
     "data": {
      "text/plain": [
       "21"
      ]
     },
     "execution_count": 99,
     "metadata": {},
     "output_type": "execute_result"
    }
   ],
   "source": [
    "var"
   ]
  },
  {
   "cell_type": "code",
   "execution_count": 100,
   "id": "30868e26",
   "metadata": {},
   "outputs": [],
   "source": [
    "def some_function_1():\n",
    "    \n",
    "    #var = 10\n",
    "    #var = var + 1\n",
    "    print(var)"
   ]
  },
  {
   "cell_type": "code",
   "execution_count": 101,
   "id": "9f5d3bc7",
   "metadata": {},
   "outputs": [
    {
     "name": "stdout",
     "output_type": "stream",
     "text": [
      "11\n"
     ]
    }
   ],
   "source": [
    "some_function_1()"
   ]
  },
  {
   "cell_type": "code",
   "execution_count": 107,
   "id": "9f2f927e",
   "metadata": {},
   "outputs": [],
   "source": [
    "var = 20\n",
    "\n",
    "def print_var():\n",
    "    print(var)\n",
    "    var = 100\n",
    "    "
   ]
  },
  {
   "cell_type": "code",
   "execution_count": 108,
   "id": "4366250b",
   "metadata": {},
   "outputs": [
    {
     "ename": "UnboundLocalError",
     "evalue": "local variable 'var' referenced before assignment",
     "output_type": "error",
     "traceback": [
      "\u001b[1;31m---------------------------------------------------------------------------\u001b[0m",
      "\u001b[1;31mUnboundLocalError\u001b[0m                         Traceback (most recent call last)",
      "\u001b[1;32m<ipython-input-108-423999581127>\u001b[0m in \u001b[0;36m<module>\u001b[1;34m\u001b[0m\n\u001b[1;32m----> 1\u001b[1;33m \u001b[0mprint_var\u001b[0m\u001b[1;33m(\u001b[0m\u001b[1;33m)\u001b[0m\u001b[1;33m\u001b[0m\u001b[1;33m\u001b[0m\u001b[0m\n\u001b[0m",
      "\u001b[1;32m<ipython-input-107-b2e98c76b1ba>\u001b[0m in \u001b[0;36mprint_var\u001b[1;34m()\u001b[0m\n\u001b[0;32m      2\u001b[0m \u001b[1;33m\u001b[0m\u001b[0m\n\u001b[0;32m      3\u001b[0m \u001b[1;32mdef\u001b[0m \u001b[0mprint_var\u001b[0m\u001b[1;33m(\u001b[0m\u001b[1;33m)\u001b[0m\u001b[1;33m:\u001b[0m\u001b[1;33m\u001b[0m\u001b[1;33m\u001b[0m\u001b[0m\n\u001b[1;32m----> 4\u001b[1;33m     \u001b[0mprint\u001b[0m\u001b[1;33m(\u001b[0m\u001b[0mvar\u001b[0m\u001b[1;33m)\u001b[0m\u001b[1;33m\u001b[0m\u001b[1;33m\u001b[0m\u001b[0m\n\u001b[0m\u001b[0;32m      5\u001b[0m     \u001b[0mvar\u001b[0m \u001b[1;33m=\u001b[0m \u001b[1;36m100\u001b[0m\u001b[1;33m\u001b[0m\u001b[1;33m\u001b[0m\u001b[0m\n\u001b[0;32m      6\u001b[0m \u001b[1;33m\u001b[0m\u001b[0m\n",
      "\u001b[1;31mUnboundLocalError\u001b[0m: local variable 'var' referenced before assignment"
     ]
    }
   ],
   "source": [
    "print_var()"
   ]
  },
  {
   "cell_type": "markdown",
   "id": "c4f48e42",
   "metadata": {},
   "source": [
    "### LEGB Rule"
   ]
  },
  {
   "cell_type": "code",
   "execution_count": 109,
   "id": "01bdf64d",
   "metadata": {},
   "outputs": [],
   "source": [
    "num = 100 #global scope\n",
    "\n",
    "def outer_function():\n",
    "    '''This is the local scope of the outer_function()'''\n",
    "    \n",
    "    '''This is also the enclosing scope for inner_function()'''\n",
    "    \n",
    "    def inner_function():\n",
    "        '''This is the local scope of inner_function()'''\n",
    "        \n",
    "        print(num)\n",
    "    \n",
    "    return inner_function()"
   ]
  },
  {
   "cell_type": "code",
   "execution_count": 110,
   "id": "c07c4244",
   "metadata": {},
   "outputs": [
    {
     "name": "stdout",
     "output_type": "stream",
     "text": [
      "100\n"
     ]
    }
   ],
   "source": [
    "outer_function()"
   ]
  },
  {
   "cell_type": "markdown",
   "id": "6306cc21",
   "metadata": {},
   "source": [
    "### Builtin Scope"
   ]
  },
  {
   "cell_type": "code",
   "execution_count": 111,
   "id": "985f6d9e",
   "metadata": {},
   "outputs": [
    {
     "data": {
      "text/plain": [
       "['ArithmeticError',\n",
       " 'AssertionError',\n",
       " 'AttributeError',\n",
       " 'BaseException',\n",
       " 'BlockingIOError',\n",
       " 'BrokenPipeError',\n",
       " 'BufferError',\n",
       " 'BytesWarning',\n",
       " 'ChildProcessError',\n",
       " 'ConnectionAbortedError',\n",
       " 'ConnectionError',\n",
       " 'ConnectionRefusedError',\n",
       " 'ConnectionResetError',\n",
       " 'DeprecationWarning',\n",
       " 'EOFError',\n",
       " 'Ellipsis',\n",
       " 'EnvironmentError',\n",
       " 'Exception',\n",
       " 'False',\n",
       " 'FileExistsError',\n",
       " 'FileNotFoundError',\n",
       " 'FloatingPointError',\n",
       " 'FutureWarning',\n",
       " 'GeneratorExit',\n",
       " 'IOError',\n",
       " 'ImportError',\n",
       " 'ImportWarning',\n",
       " 'IndentationError',\n",
       " 'IndexError',\n",
       " 'InterruptedError',\n",
       " 'IsADirectoryError',\n",
       " 'KeyError',\n",
       " 'KeyboardInterrupt',\n",
       " 'LookupError',\n",
       " 'MemoryError',\n",
       " 'ModuleNotFoundError',\n",
       " 'NameError',\n",
       " 'None',\n",
       " 'NotADirectoryError',\n",
       " 'NotImplemented',\n",
       " 'NotImplementedError',\n",
       " 'OSError',\n",
       " 'OverflowError',\n",
       " 'PendingDeprecationWarning',\n",
       " 'PermissionError',\n",
       " 'ProcessLookupError',\n",
       " 'RecursionError',\n",
       " 'ReferenceError',\n",
       " 'ResourceWarning',\n",
       " 'RuntimeError',\n",
       " 'RuntimeWarning',\n",
       " 'StopAsyncIteration',\n",
       " 'StopIteration',\n",
       " 'SyntaxError',\n",
       " 'SyntaxWarning',\n",
       " 'SystemError',\n",
       " 'SystemExit',\n",
       " 'TabError',\n",
       " 'TimeoutError',\n",
       " 'True',\n",
       " 'TypeError',\n",
       " 'UnboundLocalError',\n",
       " 'UnicodeDecodeError',\n",
       " 'UnicodeEncodeError',\n",
       " 'UnicodeError',\n",
       " 'UnicodeTranslateError',\n",
       " 'UnicodeWarning',\n",
       " 'UserWarning',\n",
       " 'ValueError',\n",
       " 'Warning',\n",
       " 'WindowsError',\n",
       " 'ZeroDivisionError',\n",
       " '__IPYTHON__',\n",
       " '__build_class__',\n",
       " '__debug__',\n",
       " '__doc__',\n",
       " '__import__',\n",
       " '__loader__',\n",
       " '__name__',\n",
       " '__package__',\n",
       " '__spec__',\n",
       " 'abs',\n",
       " 'all',\n",
       " 'any',\n",
       " 'ascii',\n",
       " 'bin',\n",
       " 'bool',\n",
       " 'breakpoint',\n",
       " 'bytearray',\n",
       " 'bytes',\n",
       " 'callable',\n",
       " 'chr',\n",
       " 'classmethod',\n",
       " 'compile',\n",
       " 'complex',\n",
       " 'copyright',\n",
       " 'credits',\n",
       " 'delattr',\n",
       " 'dict',\n",
       " 'dir',\n",
       " 'display',\n",
       " 'divmod',\n",
       " 'enumerate',\n",
       " 'eval',\n",
       " 'exec',\n",
       " 'filter',\n",
       " 'float',\n",
       " 'format',\n",
       " 'frozenset',\n",
       " 'get_ipython',\n",
       " 'getattr',\n",
       " 'globals',\n",
       " 'hasattr',\n",
       " 'hash',\n",
       " 'help',\n",
       " 'hex',\n",
       " 'id',\n",
       " 'input',\n",
       " 'int',\n",
       " 'isinstance',\n",
       " 'issubclass',\n",
       " 'iter',\n",
       " 'len',\n",
       " 'license',\n",
       " 'list',\n",
       " 'locals',\n",
       " 'map',\n",
       " 'max',\n",
       " 'memoryview',\n",
       " 'min',\n",
       " 'next',\n",
       " 'object',\n",
       " 'oct',\n",
       " 'open',\n",
       " 'ord',\n",
       " 'pow',\n",
       " 'print',\n",
       " 'property',\n",
       " 'range',\n",
       " 'repr',\n",
       " 'reversed',\n",
       " 'round',\n",
       " 'set',\n",
       " 'setattr',\n",
       " 'slice',\n",
       " 'sorted',\n",
       " 'staticmethod',\n",
       " 'str',\n",
       " 'sum',\n",
       " 'super',\n",
       " 'tuple',\n",
       " 'type',\n",
       " 'vars',\n",
       " 'zip']"
      ]
     },
     "execution_count": 111,
     "metadata": {},
     "output_type": "execute_result"
    }
   ],
   "source": [
    "dir(__builtins__)"
   ]
  },
  {
   "cell_type": "code",
   "execution_count": 112,
   "id": "6c3f1f73",
   "metadata": {},
   "outputs": [
    {
     "data": {
      "text/plain": [
       "333"
      ]
     },
     "execution_count": 112,
     "metadata": {},
     "output_type": "execute_result"
    }
   ],
   "source": [
    "sum([1,2,4,5,7,34,234,46])"
   ]
  },
  {
   "cell_type": "code",
   "execution_count": 113,
   "id": "c83030fb",
   "metadata": {},
   "outputs": [
    {
     "data": {
      "text/plain": [
       "[1, 3, 5, 7, 42, 64, 234]"
      ]
     },
     "execution_count": 113,
     "metadata": {},
     "output_type": "execute_result"
    }
   ],
   "source": [
    "sorted([42,234,64,3,1,5,7])"
   ]
  },
  {
   "cell_type": "code",
   "execution_count": 114,
   "id": "c54b0cdb",
   "metadata": {},
   "outputs": [
    {
     "data": {
      "text/plain": [
       "1000"
      ]
     },
     "execution_count": 114,
     "metadata": {},
     "output_type": "execute_result"
    }
   ],
   "source": [
    "max([23,523,534,75,1,1000])"
   ]
  },
  {
   "cell_type": "code",
   "execution_count": 115,
   "id": "2719ee5e",
   "metadata": {},
   "outputs": [
    {
     "data": {
      "text/plain": [
       "1"
      ]
     },
     "execution_count": 115,
     "metadata": {},
     "output_type": "execute_result"
    }
   ],
   "source": [
    "min([23,523,534,75,1,1000])"
   ]
  },
  {
   "cell_type": "code",
   "execution_count": 116,
   "id": "99c46b0d",
   "metadata": {},
   "outputs": [],
   "source": [
    "import builtins\n",
    "\n",
    "\n"
   ]
  },
  {
   "cell_type": "code",
   "execution_count": 117,
   "id": "84aab96e",
   "metadata": {},
   "outputs": [
    {
     "data": {
      "text/plain": [
       "333"
      ]
     },
     "execution_count": 117,
     "metadata": {},
     "output_type": "execute_result"
    }
   ],
   "source": [
    "builtins.sum([1,2,4,5,7,34,234,46])"
   ]
  },
  {
   "cell_type": "code",
   "execution_count": 118,
   "id": "e712ac8a",
   "metadata": {},
   "outputs": [
    {
     "data": {
      "text/plain": [
       "[1, 3, 5, 7, 42, 64, 234]"
      ]
     },
     "execution_count": 118,
     "metadata": {},
     "output_type": "execute_result"
    }
   ],
   "source": [
    "builtins.sorted([42,234,64,3,1,5,7])"
   ]
  },
  {
   "cell_type": "code",
   "execution_count": 119,
   "id": "c88beb6d",
   "metadata": {},
   "outputs": [
    {
     "data": {
      "text/plain": [
       "1000"
      ]
     },
     "execution_count": 119,
     "metadata": {},
     "output_type": "execute_result"
    }
   ],
   "source": [
    "builtins.max([23,523,534,75,1,1000])"
   ]
  },
  {
   "cell_type": "code",
   "execution_count": 120,
   "id": "2bb9343f",
   "metadata": {},
   "outputs": [
    {
     "data": {
      "text/plain": [
       "1"
      ]
     },
     "execution_count": 120,
     "metadata": {},
     "output_type": "execute_result"
    }
   ],
   "source": [
    "builtins.min([23,523,534,75,1,1000])"
   ]
  },
  {
   "cell_type": "markdown",
   "id": "988696ed",
   "metadata": {},
   "source": [
    "### Overriding builtins"
   ]
  },
  {
   "cell_type": "code",
   "execution_count": 121,
   "id": "50edea50",
   "metadata": {},
   "outputs": [
    {
     "data": {
      "text/plain": [
       "100"
      ]
     },
     "execution_count": 121,
     "metadata": {},
     "output_type": "execute_result"
    }
   ],
   "source": [
    "abs(-100)"
   ]
  },
  {
   "cell_type": "code",
   "execution_count": 124,
   "id": "7d27cd88",
   "metadata": {},
   "outputs": [],
   "source": [
    "abs = 200"
   ]
  },
  {
   "cell_type": "code",
   "execution_count": 126,
   "id": "37e604bb",
   "metadata": {},
   "outputs": [
    {
     "data": {
      "text/plain": [
       "200"
      ]
     },
     "execution_count": 126,
     "metadata": {},
     "output_type": "execute_result"
    }
   ],
   "source": [
    "abs"
   ]
  },
  {
   "cell_type": "code",
   "execution_count": null,
   "id": "d1c23aa0",
   "metadata": {},
   "outputs": [],
   "source": []
  },
  {
   "cell_type": "code",
   "execution_count": null,
   "id": "a5244dd2",
   "metadata": {},
   "outputs": [],
   "source": []
  },
  {
   "cell_type": "code",
   "execution_count": null,
   "id": "4f32742f",
   "metadata": {},
   "outputs": [],
   "source": []
  },
  {
   "cell_type": "code",
   "execution_count": 125,
   "id": "884f9d46",
   "metadata": {},
   "outputs": [
    {
     "ename": "TypeError",
     "evalue": "'int' object is not callable",
     "output_type": "error",
     "traceback": [
      "\u001b[1;31m---------------------------------------------------------------------------\u001b[0m",
      "\u001b[1;31mTypeError\u001b[0m                                 Traceback (most recent call last)",
      "\u001b[1;32m<ipython-input-125-d5adcf0d837a>\u001b[0m in \u001b[0;36m<module>\u001b[1;34m\u001b[0m\n\u001b[1;32m----> 1\u001b[1;33m \u001b[0mabs\u001b[0m\u001b[1;33m(\u001b[0m\u001b[1;33m-\u001b[0m\u001b[1;36m100\u001b[0m\u001b[1;33m)\u001b[0m\u001b[1;33m\u001b[0m\u001b[1;33m\u001b[0m\u001b[0m\n\u001b[0m",
      "\u001b[1;31mTypeError\u001b[0m: 'int' object is not callable"
     ]
    }
   ],
   "source": [
    "abs(-100)\n"
   ]
  },
  {
   "cell_type": "code",
   "execution_count": 127,
   "id": "86c3aed0",
   "metadata": {},
   "outputs": [
    {
     "name": "stderr",
     "output_type": "stream",
     "text": [
      "<>:1: SyntaxWarning: 'int' object is not callable; perhaps you missed a comma?\n",
      "<>:1: SyntaxWarning: 'int' object is not callable; perhaps you missed a comma?\n",
      "<ipython-input-127-97fb2820edc5>:1: SyntaxWarning: 'int' object is not callable; perhaps you missed a comma?\n",
      "  23(2)\n"
     ]
    },
    {
     "ename": "TypeError",
     "evalue": "'int' object is not callable",
     "output_type": "error",
     "traceback": [
      "\u001b[1;31m---------------------------------------------------------------------------\u001b[0m",
      "\u001b[1;31mTypeError\u001b[0m                                 Traceback (most recent call last)",
      "\u001b[1;32m<ipython-input-127-97fb2820edc5>\u001b[0m in \u001b[0;36m<module>\u001b[1;34m\u001b[0m\n\u001b[1;32m----> 1\u001b[1;33m \u001b[1;36m23\u001b[0m\u001b[1;33m(\u001b[0m\u001b[1;36m2\u001b[0m\u001b[1;33m)\u001b[0m\u001b[1;33m\u001b[0m\u001b[1;33m\u001b[0m\u001b[0m\n\u001b[0m",
      "\u001b[1;31mTypeError\u001b[0m: 'int' object is not callable"
     ]
    }
   ],
   "source": [
    "23(2)"
   ]
  },
  {
   "cell_type": "code",
   "execution_count": 128,
   "id": "b42622dc",
   "metadata": {},
   "outputs": [
    {
     "data": {
      "text/plain": [
       "200"
      ]
     },
     "execution_count": 128,
     "metadata": {},
     "output_type": "execute_result"
    }
   ],
   "source": [
    "abs"
   ]
  },
  {
   "cell_type": "code",
   "execution_count": 129,
   "id": "11da5304",
   "metadata": {},
   "outputs": [],
   "source": [
    "del abs"
   ]
  },
  {
   "cell_type": "code",
   "execution_count": 130,
   "id": "5094fdce",
   "metadata": {},
   "outputs": [
    {
     "data": {
      "text/plain": [
       "100"
      ]
     },
     "execution_count": 130,
     "metadata": {},
     "output_type": "execute_result"
    }
   ],
   "source": [
    "abs(-100)"
   ]
  },
  {
   "cell_type": "markdown",
   "id": "732e7608",
   "metadata": {},
   "source": [
    "### Modifying The behavior of a python scope"
   ]
  },
  {
   "cell_type": "code",
   "execution_count": null,
   "id": "0c70b1f5",
   "metadata": {},
   "outputs": [],
   "source": [
    "#global\n",
    "#nonlocal"
   ]
  },
  {
   "cell_type": "code",
   "execution_count": 131,
   "id": "16850e40",
   "metadata": {},
   "outputs": [],
   "source": [
    "counter = 0\n",
    "\n",
    "def increment_counter():\n",
    "    counter = counter + 1"
   ]
  },
  {
   "cell_type": "code",
   "execution_count": 132,
   "id": "0fa00d3c",
   "metadata": {},
   "outputs": [
    {
     "ename": "UnboundLocalError",
     "evalue": "local variable 'counter' referenced before assignment",
     "output_type": "error",
     "traceback": [
      "\u001b[1;31m---------------------------------------------------------------------------\u001b[0m",
      "\u001b[1;31mUnboundLocalError\u001b[0m                         Traceback (most recent call last)",
      "\u001b[1;32m<ipython-input-132-9918843b5dad>\u001b[0m in \u001b[0;36m<module>\u001b[1;34m\u001b[0m\n\u001b[1;32m----> 1\u001b[1;33m \u001b[0mincrement_counter\u001b[0m\u001b[1;33m(\u001b[0m\u001b[1;33m)\u001b[0m\u001b[1;33m\u001b[0m\u001b[1;33m\u001b[0m\u001b[0m\n\u001b[0m",
      "\u001b[1;32m<ipython-input-131-ca1534685159>\u001b[0m in \u001b[0;36mincrement_counter\u001b[1;34m()\u001b[0m\n\u001b[0;32m      2\u001b[0m \u001b[1;33m\u001b[0m\u001b[0m\n\u001b[0;32m      3\u001b[0m \u001b[1;32mdef\u001b[0m \u001b[0mincrement_counter\u001b[0m\u001b[1;33m(\u001b[0m\u001b[1;33m)\u001b[0m\u001b[1;33m:\u001b[0m\u001b[1;33m\u001b[0m\u001b[1;33m\u001b[0m\u001b[0m\n\u001b[1;32m----> 4\u001b[1;33m     \u001b[0mcounter\u001b[0m \u001b[1;33m=\u001b[0m \u001b[0mcounter\u001b[0m \u001b[1;33m+\u001b[0m \u001b[1;36m1\u001b[0m\u001b[1;33m\u001b[0m\u001b[1;33m\u001b[0m\u001b[0m\n\u001b[0m",
      "\u001b[1;31mUnboundLocalError\u001b[0m: local variable 'counter' referenced before assignment"
     ]
    }
   ],
   "source": [
    "increment_counter()"
   ]
  },
  {
   "cell_type": "code",
   "execution_count": 133,
   "id": "c64d1d6e",
   "metadata": {},
   "outputs": [],
   "source": [
    "def increment_counter():\n",
    "    global counter\n",
    "    counter = counter +1"
   ]
  },
  {
   "cell_type": "code",
   "execution_count": 134,
   "id": "16f2346f",
   "metadata": {},
   "outputs": [],
   "source": [
    "increment_counter()"
   ]
  },
  {
   "cell_type": "code",
   "execution_count": 135,
   "id": "ab33b9ce",
   "metadata": {},
   "outputs": [
    {
     "data": {
      "text/plain": [
       "1"
      ]
     },
     "execution_count": 135,
     "metadata": {},
     "output_type": "execute_result"
    }
   ],
   "source": [
    "counter"
   ]
  },
  {
   "cell_type": "code",
   "execution_count": 189,
   "id": "d1162bbb",
   "metadata": {},
   "outputs": [
    {
     "data": {
      "text/plain": [
       "55"
      ]
     },
     "execution_count": 189,
     "metadata": {},
     "output_type": "execute_result"
    }
   ],
   "source": [
    "increment_counter()\n",
    "counter"
   ]
  },
  {
   "cell_type": "code",
   "execution_count": 247,
   "id": "bc074f92",
   "metadata": {},
   "outputs": [],
   "source": [
    "global_counter = 0\n",
    "\n",
    "def increment_global_counter(counter):\n",
    "    return counter + 1 "
   ]
  },
  {
   "cell_type": "code",
   "execution_count": 248,
   "id": "9c000d95",
   "metadata": {},
   "outputs": [],
   "source": [
    "global_counter = increment_global_counter(global_counter)"
   ]
  },
  {
   "cell_type": "code",
   "execution_count": 249,
   "id": "26508fea",
   "metadata": {},
   "outputs": [
    {
     "data": {
      "text/plain": [
       "1"
      ]
     },
     "execution_count": 249,
     "metadata": {},
     "output_type": "execute_result"
    }
   ],
   "source": [
    "global_counter"
   ]
  },
  {
   "cell_type": "code",
   "execution_count": 271,
   "id": "e3d0fafd",
   "metadata": {},
   "outputs": [
    {
     "data": {
      "text/plain": [
       "23"
      ]
     },
     "execution_count": 271,
     "metadata": {},
     "output_type": "execute_result"
    }
   ],
   "source": [
    "global_counter = increment_global_counter(global_counter)\n",
    "global_counter"
   ]
  },
  {
   "cell_type": "code",
   "execution_count": 272,
   "id": "844ff48a",
   "metadata": {},
   "outputs": [],
   "source": [
    "def lazy_name_creation():\n",
    "    global lazy\n",
    "    lazy = 'I did this in the local scope'\n",
    "    return lazy"
   ]
  },
  {
   "cell_type": "code",
   "execution_count": 273,
   "id": "95c160d3",
   "metadata": {},
   "outputs": [
    {
     "data": {
      "text/plain": [
       "'I did this in the local scope'"
      ]
     },
     "execution_count": 273,
     "metadata": {},
     "output_type": "execute_result"
    }
   ],
   "source": [
    "lazy_name_creation()"
   ]
  },
  {
   "cell_type": "code",
   "execution_count": 274,
   "id": "b9017daa",
   "metadata": {},
   "outputs": [
    {
     "data": {
      "text/plain": [
       "'I did this in the local scope'"
      ]
     },
     "execution_count": 274,
     "metadata": {},
     "output_type": "execute_result"
    }
   ],
   "source": [
    "lazy"
   ]
  },
  {
   "cell_type": "code",
   "execution_count": 275,
   "id": "ba4835f3",
   "metadata": {},
   "outputs": [
    {
     "data": {
      "text/plain": [
       "['In',\n",
       " 'Out',\n",
       " 'StormExample',\n",
       " 'StormExample_decorator',\n",
       " '_',\n",
       " '_10',\n",
       " '_111',\n",
       " '_112',\n",
       " '_113',\n",
       " '_114',\n",
       " '_115',\n",
       " '_117',\n",
       " '_118',\n",
       " '_119',\n",
       " '_120',\n",
       " '_121',\n",
       " '_122',\n",
       " '_123',\n",
       " '_126',\n",
       " '_128',\n",
       " '_130',\n",
       " '_135',\n",
       " '_136',\n",
       " '_137',\n",
       " '_138',\n",
       " '_139',\n",
       " '_140',\n",
       " '_141',\n",
       " '_142',\n",
       " '_143',\n",
       " '_144',\n",
       " '_145',\n",
       " '_146',\n",
       " '_147',\n",
       " '_148',\n",
       " '_149',\n",
       " '_15',\n",
       " '_150',\n",
       " '_151',\n",
       " '_152',\n",
       " '_153',\n",
       " '_154',\n",
       " '_155',\n",
       " '_156',\n",
       " '_157',\n",
       " '_158',\n",
       " '_159',\n",
       " '_160',\n",
       " '_161',\n",
       " '_162',\n",
       " '_163',\n",
       " '_164',\n",
       " '_165',\n",
       " '_166',\n",
       " '_167',\n",
       " '_168',\n",
       " '_169',\n",
       " '_170',\n",
       " '_171',\n",
       " '_172',\n",
       " '_173',\n",
       " '_174',\n",
       " '_175',\n",
       " '_176',\n",
       " '_177',\n",
       " '_178',\n",
       " '_179',\n",
       " '_180',\n",
       " '_181',\n",
       " '_182',\n",
       " '_183',\n",
       " '_184',\n",
       " '_185',\n",
       " '_186',\n",
       " '_187',\n",
       " '_188',\n",
       " '_189',\n",
       " '_192',\n",
       " '_193',\n",
       " '_194',\n",
       " '_195',\n",
       " '_196',\n",
       " '_197',\n",
       " '_198',\n",
       " '_199',\n",
       " '_200',\n",
       " '_201',\n",
       " '_202',\n",
       " '_203',\n",
       " '_204',\n",
       " '_205',\n",
       " '_206',\n",
       " '_208',\n",
       " '_210',\n",
       " '_211',\n",
       " '_212',\n",
       " '_213',\n",
       " '_214',\n",
       " '_215',\n",
       " '_216',\n",
       " '_217',\n",
       " '_218',\n",
       " '_219',\n",
       " '_220',\n",
       " '_221',\n",
       " '_222',\n",
       " '_223',\n",
       " '_224',\n",
       " '_225',\n",
       " '_226',\n",
       " '_227',\n",
       " '_228',\n",
       " '_229',\n",
       " '_230',\n",
       " '_231',\n",
       " '_232',\n",
       " '_233',\n",
       " '_234',\n",
       " '_235',\n",
       " '_236',\n",
       " '_237',\n",
       " '_238',\n",
       " '_239',\n",
       " '_240',\n",
       " '_241',\n",
       " '_242',\n",
       " '_243',\n",
       " '_244',\n",
       " '_245',\n",
       " '_246',\n",
       " '_249',\n",
       " '_250',\n",
       " '_251',\n",
       " '_252',\n",
       " '_253',\n",
       " '_254',\n",
       " '_255',\n",
       " '_256',\n",
       " '_257',\n",
       " '_258',\n",
       " '_259',\n",
       " '_260',\n",
       " '_261',\n",
       " '_262',\n",
       " '_263',\n",
       " '_264',\n",
       " '_265',\n",
       " '_266',\n",
       " '_267',\n",
       " '_268',\n",
       " '_269',\n",
       " '_270',\n",
       " '_271',\n",
       " '_273',\n",
       " '_274',\n",
       " '_48',\n",
       " '_52',\n",
       " '_68',\n",
       " '_86',\n",
       " '_87',\n",
       " '_90',\n",
       " '_99',\n",
       " '__',\n",
       " '___',\n",
       " '__builtin__',\n",
       " '__builtins__',\n",
       " '__doc__',\n",
       " '__loader__',\n",
       " '__name__',\n",
       " '__package__',\n",
       " '__spec__',\n",
       " '_dh',\n",
       " '_i',\n",
       " '_i1',\n",
       " '_i10',\n",
       " '_i100',\n",
       " '_i101',\n",
       " '_i102',\n",
       " '_i103',\n",
       " '_i104',\n",
       " '_i105',\n",
       " '_i106',\n",
       " '_i107',\n",
       " '_i108',\n",
       " '_i109',\n",
       " '_i11',\n",
       " '_i110',\n",
       " '_i111',\n",
       " '_i112',\n",
       " '_i113',\n",
       " '_i114',\n",
       " '_i115',\n",
       " '_i116',\n",
       " '_i117',\n",
       " '_i118',\n",
       " '_i119',\n",
       " '_i12',\n",
       " '_i120',\n",
       " '_i121',\n",
       " '_i122',\n",
       " '_i123',\n",
       " '_i124',\n",
       " '_i125',\n",
       " '_i126',\n",
       " '_i127',\n",
       " '_i128',\n",
       " '_i129',\n",
       " '_i13',\n",
       " '_i130',\n",
       " '_i131',\n",
       " '_i132',\n",
       " '_i133',\n",
       " '_i134',\n",
       " '_i135',\n",
       " '_i136',\n",
       " '_i137',\n",
       " '_i138',\n",
       " '_i139',\n",
       " '_i14',\n",
       " '_i140',\n",
       " '_i141',\n",
       " '_i142',\n",
       " '_i143',\n",
       " '_i144',\n",
       " '_i145',\n",
       " '_i146',\n",
       " '_i147',\n",
       " '_i148',\n",
       " '_i149',\n",
       " '_i15',\n",
       " '_i150',\n",
       " '_i151',\n",
       " '_i152',\n",
       " '_i153',\n",
       " '_i154',\n",
       " '_i155',\n",
       " '_i156',\n",
       " '_i157',\n",
       " '_i158',\n",
       " '_i159',\n",
       " '_i16',\n",
       " '_i160',\n",
       " '_i161',\n",
       " '_i162',\n",
       " '_i163',\n",
       " '_i164',\n",
       " '_i165',\n",
       " '_i166',\n",
       " '_i167',\n",
       " '_i168',\n",
       " '_i169',\n",
       " '_i17',\n",
       " '_i170',\n",
       " '_i171',\n",
       " '_i172',\n",
       " '_i173',\n",
       " '_i174',\n",
       " '_i175',\n",
       " '_i176',\n",
       " '_i177',\n",
       " '_i178',\n",
       " '_i179',\n",
       " '_i18',\n",
       " '_i180',\n",
       " '_i181',\n",
       " '_i182',\n",
       " '_i183',\n",
       " '_i184',\n",
       " '_i185',\n",
       " '_i186',\n",
       " '_i187',\n",
       " '_i188',\n",
       " '_i189',\n",
       " '_i19',\n",
       " '_i190',\n",
       " '_i191',\n",
       " '_i192',\n",
       " '_i193',\n",
       " '_i194',\n",
       " '_i195',\n",
       " '_i196',\n",
       " '_i197',\n",
       " '_i198',\n",
       " '_i199',\n",
       " '_i2',\n",
       " '_i20',\n",
       " '_i200',\n",
       " '_i201',\n",
       " '_i202',\n",
       " '_i203',\n",
       " '_i204',\n",
       " '_i205',\n",
       " '_i206',\n",
       " '_i207',\n",
       " '_i208',\n",
       " '_i209',\n",
       " '_i21',\n",
       " '_i210',\n",
       " '_i211',\n",
       " '_i212',\n",
       " '_i213',\n",
       " '_i214',\n",
       " '_i215',\n",
       " '_i216',\n",
       " '_i217',\n",
       " '_i218',\n",
       " '_i219',\n",
       " '_i22',\n",
       " '_i220',\n",
       " '_i221',\n",
       " '_i222',\n",
       " '_i223',\n",
       " '_i224',\n",
       " '_i225',\n",
       " '_i226',\n",
       " '_i227',\n",
       " '_i228',\n",
       " '_i229',\n",
       " '_i23',\n",
       " '_i230',\n",
       " '_i231',\n",
       " '_i232',\n",
       " '_i233',\n",
       " '_i234',\n",
       " '_i235',\n",
       " '_i236',\n",
       " '_i237',\n",
       " '_i238',\n",
       " '_i239',\n",
       " '_i24',\n",
       " '_i240',\n",
       " '_i241',\n",
       " '_i242',\n",
       " '_i243',\n",
       " '_i244',\n",
       " '_i245',\n",
       " '_i246',\n",
       " '_i247',\n",
       " '_i248',\n",
       " '_i249',\n",
       " '_i25',\n",
       " '_i250',\n",
       " '_i251',\n",
       " '_i252',\n",
       " '_i253',\n",
       " '_i254',\n",
       " '_i255',\n",
       " '_i256',\n",
       " '_i257',\n",
       " '_i258',\n",
       " '_i259',\n",
       " '_i26',\n",
       " '_i260',\n",
       " '_i261',\n",
       " '_i262',\n",
       " '_i263',\n",
       " '_i264',\n",
       " '_i265',\n",
       " '_i266',\n",
       " '_i267',\n",
       " '_i268',\n",
       " '_i269',\n",
       " '_i27',\n",
       " '_i270',\n",
       " '_i271',\n",
       " '_i272',\n",
       " '_i273',\n",
       " '_i274',\n",
       " '_i275',\n",
       " '_i28',\n",
       " '_i29',\n",
       " '_i3',\n",
       " '_i30',\n",
       " '_i31',\n",
       " '_i32',\n",
       " '_i33',\n",
       " '_i34',\n",
       " '_i35',\n",
       " '_i36',\n",
       " '_i37',\n",
       " '_i38',\n",
       " '_i39',\n",
       " '_i4',\n",
       " '_i40',\n",
       " '_i41',\n",
       " '_i42',\n",
       " '_i43',\n",
       " '_i44',\n",
       " '_i45',\n",
       " '_i46',\n",
       " '_i47',\n",
       " '_i48',\n",
       " '_i49',\n",
       " '_i5',\n",
       " '_i50',\n",
       " '_i51',\n",
       " '_i52',\n",
       " '_i53',\n",
       " '_i54',\n",
       " '_i55',\n",
       " '_i56',\n",
       " '_i57',\n",
       " '_i58',\n",
       " '_i59',\n",
       " '_i6',\n",
       " '_i60',\n",
       " '_i61',\n",
       " '_i62',\n",
       " '_i63',\n",
       " '_i64',\n",
       " '_i65',\n",
       " '_i66',\n",
       " '_i67',\n",
       " '_i68',\n",
       " '_i69',\n",
       " '_i7',\n",
       " '_i70',\n",
       " '_i71',\n",
       " '_i72',\n",
       " '_i73',\n",
       " '_i74',\n",
       " '_i75',\n",
       " '_i76',\n",
       " '_i77',\n",
       " '_i78',\n",
       " '_i79',\n",
       " '_i8',\n",
       " '_i80',\n",
       " '_i81',\n",
       " '_i82',\n",
       " '_i83',\n",
       " '_i84',\n",
       " '_i85',\n",
       " '_i86',\n",
       " '_i87',\n",
       " '_i88',\n",
       " '_i89',\n",
       " '_i9',\n",
       " '_i90',\n",
       " '_i91',\n",
       " '_i92',\n",
       " '_i93',\n",
       " '_i94',\n",
       " '_i95',\n",
       " '_i96',\n",
       " '_i97',\n",
       " '_i98',\n",
       " '_i99',\n",
       " '_ih',\n",
       " '_ii',\n",
       " '_iii',\n",
       " '_oh',\n",
       " 'another_ordinary_func',\n",
       " 'base',\n",
       " 'builtins',\n",
       " 'counter',\n",
       " 'cube',\n",
       " 'divide',\n",
       " 'divide_1',\n",
       " 'division',\n",
       " 'dollar_func',\n",
       " 'exit',\n",
       " 'func',\n",
       " 'function_add',\n",
       " 'get_ipython',\n",
       " 'global_counter',\n",
       " 'increment_counter',\n",
       " 'increment_global_counter',\n",
       " 'lazy',\n",
       " 'lazy_name_creation',\n",
       " 'logging',\n",
       " 'make_extraordinary',\n",
       " 'message',\n",
       " 'my_func',\n",
       " 'num',\n",
       " 'ordinary',\n",
       " 'outer_func',\n",
       " 'outer_func_2',\n",
       " 'outer_function',\n",
       " 'print_pi',\n",
       " 'print_var',\n",
       " 'proper_division',\n",
       " 'proper_division_2',\n",
       " 'quit',\n",
       " 'some_function',\n",
       " 'some_function_1',\n",
       " 'squared',\n",
       " 'star_func',\n",
       " 'var',\n",
       " 'x']"
      ]
     },
     "execution_count": 275,
     "metadata": {},
     "output_type": "execute_result"
    }
   ],
   "source": [
    "dir()"
   ]
  },
  {
   "cell_type": "markdown",
   "id": "a42bf457",
   "metadata": {},
   "source": [
    "### nonlocal keyword"
   ]
  },
  {
   "cell_type": "code",
   "execution_count": 294,
   "id": "6aa1634e",
   "metadata": {},
   "outputs": [],
   "source": [
    "def my_function():\n",
    "    \n",
    "    my_var = 100\n",
    "    \n",
    "    def nested():\n",
    "        nonlocal my_var\n",
    "        my_var += 100    # same as ---->  my_var = my_var + 100\n",
    "        print(my_var)\n",
    "        \n",
    "    nested()\n",
    "    print(my_var)"
   ]
  },
  {
   "cell_type": "code",
   "execution_count": 295,
   "id": "e9f4e594",
   "metadata": {},
   "outputs": [
    {
     "name": "stdout",
     "output_type": "stream",
     "text": [
      "200\n",
      "200\n"
     ]
    }
   ],
   "source": [
    "my_function()"
   ]
  },
  {
   "cell_type": "code",
   "execution_count": 296,
   "id": "eb6cd8f9",
   "metadata": {},
   "outputs": [
    {
     "ename": "NameError",
     "evalue": "name 'my_var' is not defined",
     "output_type": "error",
     "traceback": [
      "\u001b[1;31m---------------------------------------------------------------------------\u001b[0m",
      "\u001b[1;31mNameError\u001b[0m                                 Traceback (most recent call last)",
      "\u001b[1;32m<ipython-input-296-bb54b744e6f3>\u001b[0m in \u001b[0;36m<module>\u001b[1;34m\u001b[0m\n\u001b[1;32m----> 1\u001b[1;33m \u001b[0mmy_var\u001b[0m\u001b[1;33m\u001b[0m\u001b[1;33m\u001b[0m\u001b[0m\n\u001b[0m",
      "\u001b[1;31mNameError\u001b[0m: name 'my_var' is not defined"
     ]
    }
   ],
   "source": [
    "my_var "
   ]
  },
  {
   "cell_type": "code",
   "execution_count": 297,
   "id": "22cbdcaa",
   "metadata": {},
   "outputs": [
    {
     "ename": "SyntaxError",
     "evalue": "nonlocal declaration not allowed at module level (<ipython-input-297-423a77258dfd>, line 1)",
     "output_type": "error",
     "traceback": [
      "\u001b[1;36m  File \u001b[1;32m\"<ipython-input-297-423a77258dfd>\"\u001b[1;36m, line \u001b[1;32m1\u001b[0m\n\u001b[1;33m    nonlocal my_var\u001b[0m\n\u001b[1;37m    ^\u001b[0m\n\u001b[1;31mSyntaxError\u001b[0m\u001b[1;31m:\u001b[0m nonlocal declaration not allowed at module level\n"
     ]
    }
   ],
   "source": [
    "nonlocal my_var"
   ]
  },
  {
   "cell_type": "code",
   "execution_count": 298,
   "id": "7b396e71",
   "metadata": {},
   "outputs": [
    {
     "ename": "SyntaxError",
     "evalue": "no binding for nonlocal 'var' found (<ipython-input-298-4ac2bd3ce113>, line 2)",
     "output_type": "error",
     "traceback": [
      "\u001b[1;36m  File \u001b[1;32m\"<ipython-input-298-4ac2bd3ce113>\"\u001b[1;36m, line \u001b[1;32m2\u001b[0m\n\u001b[1;33m    nonlocal var\u001b[0m\n\u001b[1;37m    ^\u001b[0m\n\u001b[1;31mSyntaxError\u001b[0m\u001b[1;31m:\u001b[0m no binding for nonlocal 'var' found\n"
     ]
    }
   ],
   "source": [
    "def a_function():\n",
    "    nonlocal var\n",
    "    print(var)"
   ]
  },
  {
   "cell_type": "code",
   "execution_count": 299,
   "id": "965ebaa3",
   "metadata": {},
   "outputs": [
    {
     "ename": "SyntaxError",
     "evalue": "no binding for nonlocal 'lazy_var' found (<ipython-input-299-28f61784f6bb>, line 5)",
     "output_type": "error",
     "traceback": [
      "\u001b[1;36m  File \u001b[1;32m\"<ipython-input-299-28f61784f6bb>\"\u001b[1;36m, line \u001b[1;32m5\u001b[0m\n\u001b[1;33m    nonlocal lazy_var\u001b[0m\n\u001b[1;37m    ^\u001b[0m\n\u001b[1;31mSyntaxError\u001b[0m\u001b[1;31m:\u001b[0m no binding for nonlocal 'lazy_var' found\n"
     ]
    }
   ],
   "source": [
    "def an_function():\n",
    "    \n",
    "    \n",
    "    def nested():\n",
    "        nonlocal lazy_var\n",
    "        lazy_var = 10"
   ]
  },
  {
   "cell_type": "markdown",
   "id": "8806e440",
   "metadata": {},
   "source": [
    "### Functions"
   ]
  },
  {
   "cell_type": "code",
   "execution_count": 12,
   "id": "b52289e0",
   "metadata": {},
   "outputs": [],
   "source": [
    "def square(x):\n",
    "    '''square of x'''\n",
    "    return x**2\n",
    "\n",
    "\n",
    "def cube(x):\n",
    "    '''cube of x'''\n",
    "    return x**3\n",
    "\n",
    "#create a dictionary of functions\n",
    "\n",
    "functions = {\n",
    "    'square': square,\n",
    "    'cube': cube\n",
    "}"
   ]
  },
  {
   "cell_type": "code",
   "execution_count": 14,
   "id": "6aa6804c",
   "metadata": {},
   "outputs": [
    {
     "data": {
      "text/plain": [
       "['cube', 'square']"
      ]
     },
     "execution_count": 14,
     "metadata": {},
     "output_type": "execute_result"
    }
   ],
   "source": [
    "sorted(functions)"
   ]
  },
  {
   "cell_type": "code",
   "execution_count": 17,
   "id": "cfc5fce1",
   "metadata": {},
   "outputs": [
    {
     "data": {
      "text/plain": [
       "<function __main__.cube(x)>"
      ]
     },
     "execution_count": 17,
     "metadata": {},
     "output_type": "execute_result"
    }
   ],
   "source": [
    "functions['cube']"
   ]
  },
  {
   "cell_type": "code",
   "execution_count": 18,
   "id": "929e5ee3",
   "metadata": {},
   "outputs": [
    {
     "data": {
      "text/plain": [
       "<function __main__.square(x)>"
      ]
     },
     "execution_count": 18,
     "metadata": {},
     "output_type": "execute_result"
    }
   ],
   "source": [
    "functions['square']"
   ]
  },
  {
   "cell_type": "code",
   "execution_count": 13,
   "id": "eaf45fca",
   "metadata": {},
   "outputs": [
    {
     "name": "stdout",
     "output_type": "stream",
     "text": [
      "4\n",
      "8\n"
     ]
    }
   ],
   "source": [
    "x = 2\n",
    "\n",
    "print(square(x))\n",
    "print(cube(x))"
   ]
  },
  {
   "cell_type": "code",
   "execution_count": 19,
   "id": "85f038cf",
   "metadata": {},
   "outputs": [
    {
     "name": "stdout",
     "output_type": "stream",
     "text": [
      "cube 8\n",
      "square 4\n"
     ]
    }
   ],
   "source": [
    "for func in sorted(functions):\n",
    "    print(func, functions[func](x))"
   ]
  },
  {
   "cell_type": "code",
   "execution_count": null,
   "id": "bd0c61a5",
   "metadata": {},
   "outputs": [],
   "source": []
  },
  {
   "cell_type": "code",
   "execution_count": 9,
   "id": "5eae3ca4",
   "metadata": {},
   "outputs": [],
   "source": [
    "#Getting a function from another function\n",
    "\n",
    "def registeredStudents(x):\n",
    "    \n",
    "    def absent(y):\n",
    "        return x-y\n",
    "    \n",
    "    return absent"
   ]
  },
  {
   "cell_type": "code",
   "execution_count": 10,
   "id": "a6ce0dfa",
   "metadata": {},
   "outputs": [],
   "source": [
    "absent = registeredStudents(15)"
   ]
  },
  {
   "cell_type": "code",
   "execution_count": 11,
   "id": "da2cc45f",
   "metadata": {},
   "outputs": [
    {
     "name": "stdout",
     "output_type": "stream",
     "text": [
      "Number of actual students for day 1, absent(3)\n"
     ]
    }
   ],
   "source": [
    "print('Number of actual students for day 1, absent(3)')"
   ]
  },
  {
   "cell_type": "code",
   "execution_count": null,
   "id": "87caffdf",
   "metadata": {},
   "outputs": [],
   "source": []
  },
  {
   "cell_type": "markdown",
   "id": "36eb3a58",
   "metadata": {},
   "source": [
    "### Defining a Function in a Function"
   ]
  },
  {
   "cell_type": "code",
   "execution_count": 4,
   "id": "2198c9b0",
   "metadata": {},
   "outputs": [],
   "source": [
    "def learning_company():\n",
    "    '''outer function'''\n",
    "    print('Stormwind')\n",
    "    \n",
    "    def course():\n",
    "        '''inner function/nested function'''\n",
    "        print('Python Intermediate')\n",
    "        \n",
    "    course()"
   ]
  },
  {
   "cell_type": "code",
   "execution_count": 5,
   "id": "f556580e",
   "metadata": {},
   "outputs": [
    {
     "name": "stdout",
     "output_type": "stream",
     "text": [
      "Stormwind\n",
      "Python Intermediate\n"
     ]
    }
   ],
   "source": [
    "learning_company()"
   ]
  },
  {
   "cell_type": "markdown",
   "id": "91d19572",
   "metadata": {},
   "source": [
    "### Passing Function in an Argument"
   ]
  },
  {
   "cell_type": "code",
   "execution_count": 6,
   "id": "36c2d443",
   "metadata": {},
   "outputs": [],
   "source": [
    "def stormScreaming(text):\n",
    "    return text.upper()\n",
    "\n",
    "def stormWhispering(text):\n",
    "    return text.lower()\n",
    "\n",
    "def stormSqueeling(text):\n",
    "    return text.swapcase()\n",
    "\n",
    "def stormSpeak(func):\n",
    "    greeting = func('Welcome to Stormwind, enjoy your course!')\n",
    "    print(greeting)"
   ]
  },
  {
   "cell_type": "code",
   "execution_count": 7,
   "id": "23750352",
   "metadata": {},
   "outputs": [
    {
     "name": "stdout",
     "output_type": "stream",
     "text": [
      "WELCOME TO STORMWIND, ENJOY YOUR COURSE!\n",
      "welcome to stormwind, enjoy your course!\n",
      "wELCOME TO sTORMWIND, ENJOY YOUR COURSE!\n"
     ]
    }
   ],
   "source": [
    "stormSpeak(stormScreaming)\n",
    "\n",
    "stormSpeak(stormWhispering)\n",
    "\n",
    "stormSpeak(stormSqueeling)"
   ]
  },
  {
   "cell_type": "code",
   "execution_count": null,
   "id": "3ae43cd3",
   "metadata": {},
   "outputs": [],
   "source": []
  },
  {
   "cell_type": "markdown",
   "id": "d95192ee",
   "metadata": {},
   "source": [
    "### Higher Order Function\n",
    "\n",
    "Function that operate with another function is known as a higher order function"
   ]
  },
  {
   "cell_type": "code",
   "execution_count": null,
   "id": "b94e9c80",
   "metadata": {},
   "outputs": [],
   "source": [
    "#map, filter, reduce"
   ]
  },
  {
   "cell_type": "code",
   "execution_count": 32,
   "id": "07b4c1fa",
   "metadata": {},
   "outputs": [
    {
     "data": {
      "text/plain": [
       "[0, 1, 4, 9, 16]"
      ]
     },
     "execution_count": 32,
     "metadata": {},
     "output_type": "execute_result"
    }
   ],
   "source": [
    "#map:  applies a function to each member of a collection\n",
    "\n",
    "\n",
    "[i for i in map(square, [i for i in range(5)])]"
   ]
  },
  {
   "cell_type": "code",
   "execution_count": 21,
   "id": "90cc2d3a",
   "metadata": {},
   "outputs": [
    {
     "data": {
      "text/plain": [
       "[0, 1, 2, 3, 4]"
      ]
     },
     "execution_count": 21,
     "metadata": {},
     "output_type": "execute_result"
    }
   ],
   "source": [
    "[i for i in range(5)]"
   ]
  },
  {
   "cell_type": "code",
   "execution_count": null,
   "id": "ed7a4036",
   "metadata": {},
   "outputs": [],
   "source": []
  },
  {
   "cell_type": "code",
   "execution_count": 33,
   "id": "8d27c586",
   "metadata": {},
   "outputs": [],
   "source": [
    "#filter: applies a predicate to each member of a collection, it retains only members where the predicate is True.\n",
    "\n",
    "def is_even(x):\n",
    "    return x%2==0"
   ]
  },
  {
   "cell_type": "code",
   "execution_count": 39,
   "id": "af70f982",
   "metadata": {},
   "outputs": [],
   "source": [
    "def is_odd(x):\n",
    "    return x%2==1"
   ]
  },
  {
   "cell_type": "code",
   "execution_count": 35,
   "id": "4ecbd575",
   "metadata": {},
   "outputs": [
    {
     "data": {
      "text/plain": [
       "True"
      ]
     },
     "execution_count": 35,
     "metadata": {},
     "output_type": "execute_result"
    }
   ],
   "source": [
    "is_even(10000)"
   ]
  },
  {
   "cell_type": "code",
   "execution_count": 36,
   "id": "52ff15fd",
   "metadata": {},
   "outputs": [
    {
     "data": {
      "text/plain": [
       "<filter at 0x1ec7dfb5610>"
      ]
     },
     "execution_count": 36,
     "metadata": {},
     "output_type": "execute_result"
    }
   ],
   "source": [
    "filter(is_even, range(16))"
   ]
  },
  {
   "cell_type": "code",
   "execution_count": 38,
   "id": "dea04ec5",
   "metadata": {},
   "outputs": [
    {
     "data": {
      "text/plain": [
       "[0, 2, 4, 6, 8, 10, 12, 14]"
      ]
     },
     "execution_count": 38,
     "metadata": {},
     "output_type": "execute_result"
    }
   ],
   "source": [
    "[i for i in filter(is_even,[i for i in range(16)])]"
   ]
  },
  {
   "cell_type": "code",
   "execution_count": 40,
   "id": "6ae18b97",
   "metadata": {},
   "outputs": [
    {
     "data": {
      "text/plain": [
       "[1, 3, 5, 7, 9, 11, 13, 15]"
      ]
     },
     "execution_count": 40,
     "metadata": {},
     "output_type": "execute_result"
    }
   ],
   "source": [
    "[i for i in filter(is_odd,[i for i in range(16)])]"
   ]
  },
  {
   "cell_type": "code",
   "execution_count": null,
   "id": "36d19ea1",
   "metadata": {},
   "outputs": [],
   "source": []
  },
  {
   "cell_type": "code",
   "execution_count": null,
   "id": "dcbd3ff4",
   "metadata": {},
   "outputs": [],
   "source": [
    "map(square, filter(is_even, range(16)))"
   ]
  },
  {
   "cell_type": "code",
   "execution_count": 45,
   "id": "c5e12518",
   "metadata": {},
   "outputs": [
    {
     "data": {
      "text/plain": [
       "[0, 4, 16, 36, 64, 100, 144, 196]"
      ]
     },
     "execution_count": 45,
     "metadata": {},
     "output_type": "execute_result"
    }
   ],
   "source": [
    "[i for i in map(square, [i for i in filter(is_even,[i for i in range(16)])])]"
   ]
  },
  {
   "cell_type": "code",
   "execution_count": null,
   "id": "7a774d46",
   "metadata": {},
   "outputs": [],
   "source": []
  },
  {
   "cell_type": "code",
   "execution_count": 47,
   "id": "d5c8a92b",
   "metadata": {},
   "outputs": [],
   "source": [
    "##custom HOF\n",
    "\n",
    "def custom_sum(my_list, function):\n",
    "    \n",
    "    return sum(map(function, my_list))"
   ]
  },
  {
   "cell_type": "code",
   "execution_count": 48,
   "id": "6c3a1e9e",
   "metadata": {},
   "outputs": [
    {
     "data": {
      "text/plain": [
       "2470"
      ]
     },
     "execution_count": 48,
     "metadata": {},
     "output_type": "execute_result"
    }
   ],
   "source": [
    "custom_sum(range(20), square)"
   ]
  },
  {
   "cell_type": "markdown",
   "id": "211113ea",
   "metadata": {},
   "source": [
    "### Anonymous Functions (lambda functions)"
   ]
  },
  {
   "cell_type": "code",
   "execution_count": 49,
   "id": "f749f3e2",
   "metadata": {},
   "outputs": [],
   "source": [
    "def square(x):\n",
    "    return x**2"
   ]
  },
  {
   "cell_type": "code",
   "execution_count": 50,
   "id": "fa29f1b4",
   "metadata": {},
   "outputs": [
    {
     "data": {
      "text/plain": [
       "100"
      ]
     },
     "execution_count": 50,
     "metadata": {},
     "output_type": "execute_result"
    }
   ],
   "source": [
    "square(10)"
   ]
  },
  {
   "cell_type": "code",
   "execution_count": null,
   "id": "1e233c0d",
   "metadata": {},
   "outputs": [],
   "source": [
    "lambda x: x**2"
   ]
  },
  {
   "cell_type": "code",
   "execution_count": 51,
   "id": "28b083b3",
   "metadata": {},
   "outputs": [
    {
     "data": {
      "text/plain": [
       "[0, 1, 4, 9, 16]"
      ]
     },
     "execution_count": 51,
     "metadata": {},
     "output_type": "execute_result"
    }
   ],
   "source": [
    "[i for i in map(square, [i for i in range(5)])]"
   ]
  },
  {
   "cell_type": "code",
   "execution_count": 52,
   "id": "673f6bcb",
   "metadata": {},
   "outputs": [
    {
     "data": {
      "text/plain": [
       "[0, 1, 4, 9, 16]"
      ]
     },
     "execution_count": 52,
     "metadata": {},
     "output_type": "execute_result"
    }
   ],
   "source": [
    "[i for i in map(lambda x: x**2, range(5))]"
   ]
  },
  {
   "cell_type": "code",
   "execution_count": null,
   "id": "49e88b35",
   "metadata": {},
   "outputs": [],
   "source": []
  },
  {
   "cell_type": "code",
   "execution_count": null,
   "id": "ecadff7b",
   "metadata": {},
   "outputs": [],
   "source": [
    "##reduce "
   ]
  },
  {
   "cell_type": "code",
   "execution_count": 59,
   "id": "2617f846",
   "metadata": {},
   "outputs": [],
   "source": [
    "from functools import reduce"
   ]
  },
  {
   "cell_type": "code",
   "execution_count": 67,
   "id": "c5429f91",
   "metadata": {},
   "outputs": [],
   "source": [
    "a_list = [i for i in range(1,10)]"
   ]
  },
  {
   "cell_type": "code",
   "execution_count": 68,
   "id": "6521e8cb",
   "metadata": {},
   "outputs": [
    {
     "data": {
      "text/plain": [
       "[1, 2, 3, 4, 5, 6, 7, 8, 9]"
      ]
     },
     "execution_count": 68,
     "metadata": {},
     "output_type": "execute_result"
    }
   ],
   "source": [
    "a_list"
   ]
  },
  {
   "cell_type": "code",
   "execution_count": 69,
   "id": "1eadb969",
   "metadata": {},
   "outputs": [
    {
     "data": {
      "text/plain": [
       "362880"
      ]
     },
     "execution_count": 69,
     "metadata": {},
     "output_type": "execute_result"
    }
   ],
   "source": [
    "product = 1\n",
    "\n",
    "\n",
    "for i in a_list:\n",
    "    product = product * i\n",
    "    \n",
    "    \n",
    "product"
   ]
  },
  {
   "cell_type": "code",
   "execution_count": 70,
   "id": "0666e5d8",
   "metadata": {},
   "outputs": [
    {
     "data": {
      "text/plain": [
       "362880"
      ]
     },
     "execution_count": 70,
     "metadata": {},
     "output_type": "execute_result"
    }
   ],
   "source": [
    "reduce(lambda x,y: x*y, a_list)"
   ]
  },
  {
   "cell_type": "code",
   "execution_count": 71,
   "id": "2d10c862",
   "metadata": {},
   "outputs": [],
   "source": [
    "some_variable = reduce(lambda x, y: x+y, map(lambda x: x**2, range(1,10)))"
   ]
  },
  {
   "cell_type": "code",
   "execution_count": 73,
   "id": "363a4ddc",
   "metadata": {},
   "outputs": [
    {
     "data": {
      "text/plain": [
       "285"
      ]
     },
     "execution_count": 73,
     "metadata": {},
     "output_type": "execute_result"
    }
   ],
   "source": [
    "sum(map(lambda x: x**2, range(1,10)))"
   ]
  },
  {
   "cell_type": "code",
   "execution_count": 72,
   "id": "f78443b7",
   "metadata": {},
   "outputs": [
    {
     "data": {
      "text/plain": [
       "285"
      ]
     },
     "execution_count": 72,
     "metadata": {},
     "output_type": "execute_result"
    }
   ],
   "source": [
    "some_variable"
   ]
  },
  {
   "cell_type": "markdown",
   "id": "408d0ef0",
   "metadata": {},
   "source": [
    "### Iterables"
   ]
  },
  {
   "cell_type": "code",
   "execution_count": 74,
   "id": "555222f7",
   "metadata": {},
   "outputs": [
    {
     "name": "stdout",
     "output_type": "stream",
     "text": [
      "1\n",
      "2\n",
      "34\n",
      "5\n",
      "67\n",
      "4\n"
     ]
    }
   ],
   "source": [
    "#list example\n",
    "\n",
    "my_list = [1,2,34,5,67,4]\n",
    "\n",
    "for x in my_list:\n",
    "    print(x)"
   ]
  },
  {
   "cell_type": "code",
   "execution_count": 75,
   "id": "1dcf98a9",
   "metadata": {},
   "outputs": [
    {
     "name": "stdout",
     "output_type": "stream",
     "text": [
      "S\n",
      "t\n",
      "o\n",
      "r\n",
      "m\n",
      "w\n",
      "i\n",
      "n\n",
      "d\n",
      " \n",
      "P\n",
      "y\n",
      "t\n",
      "h\n",
      "o\n",
      "n\n",
      " \n",
      "I\n",
      "n\n",
      "t\n",
      "e\n",
      "r\n",
      "m\n",
      "e\n",
      "d\n",
      "i\n",
      "a\n",
      "t\n",
      "e\n"
     ]
    }
   ],
   "source": [
    "#string example\n",
    "\n",
    "\n",
    "my_string = 'Stormwind Python Intermediate'\n",
    "\n",
    "for letter in my_string:\n",
    "    print(letter)"
   ]
  },
  {
   "cell_type": "code",
   "execution_count": 76,
   "id": "e3396935",
   "metadata": {},
   "outputs": [
    {
     "name": "stdout",
     "output_type": "stream",
     "text": [
      "1\n",
      "2\n",
      "4\n",
      "5\n",
      "6\n",
      "7\n",
      "8\n"
     ]
    }
   ],
   "source": [
    "#tuples example\n",
    "\n",
    "my_tup = (1,2,4,5,6,7,8)\n",
    "\n",
    "for i in my_tup:\n",
    "    print(i)"
   ]
  },
  {
   "cell_type": "markdown",
   "id": "11aeeff1",
   "metadata": {},
   "source": [
    "#dictionary example\n",
    "\n",
    "my_dict = {'storm': 1, 'wind': 2, 'labs':3}\n",
    "\n",
    "\n",
    "for key, value in my_dict.items():\n",
    "    print(key, ':',value)\n"
   ]
  },
  {
   "cell_type": "markdown",
   "id": "470416df",
   "metadata": {},
   "source": [
    "### Iterators"
   ]
  },
  {
   "cell_type": "code",
   "execution_count": 79,
   "id": "7c8ba730",
   "metadata": {},
   "outputs": [
    {
     "name": "stdout",
     "output_type": "stream",
     "text": [
      "<list_iterator object at 0x000001EC7DEADD90>\n",
      "<tuple_iterator object at 0x000001EC7DEAD910>\n",
      "<str_iterator object at 0x000001EC7DEADD90>\n"
     ]
    }
   ],
   "source": [
    "#iter()\n",
    "\n",
    "my_list_1 = [1,2,3,4,5,6,7]\n",
    "\n",
    "my_tuple = (1,2,3,45,6,56,7)\n",
    "\n",
    "my_string = 'Stormwind is awesome!'\n",
    "\n",
    "\n",
    "print(iter(my_list_1))\n",
    "print(iter(my_tuple))\n",
    "print(iter(my_string))"
   ]
  },
  {
   "cell_type": "code",
   "execution_count": 94,
   "id": "613c5a5e",
   "metadata": {},
   "outputs": [],
   "source": [
    "#next()\n",
    "\n",
    "my_iter_list = iter(my_list_1)"
   ]
  },
  {
   "cell_type": "code",
   "execution_count": 102,
   "id": "f8720728",
   "metadata": {},
   "outputs": [
    {
     "ename": "StopIteration",
     "evalue": "",
     "output_type": "error",
     "traceback": [
      "\u001b[1;31m---------------------------------------------------------------------------\u001b[0m",
      "\u001b[1;31mStopIteration\u001b[0m                             Traceback (most recent call last)",
      "\u001b[1;32m<ipython-input-102-600541f607e2>\u001b[0m in \u001b[0;36m<module>\u001b[1;34m\u001b[0m\n\u001b[1;32m----> 1\u001b[1;33m \u001b[0mnext\u001b[0m\u001b[1;33m(\u001b[0m\u001b[0mmy_iter_list\u001b[0m\u001b[1;33m)\u001b[0m\u001b[1;33m\u001b[0m\u001b[1;33m\u001b[0m\u001b[0m\n\u001b[0m",
      "\u001b[1;31mStopIteration\u001b[0m: "
     ]
    }
   ],
   "source": [
    "next(my_iter_list)"
   ]
  },
  {
   "cell_type": "code",
   "execution_count": 103,
   "id": "d6287b84",
   "metadata": {},
   "outputs": [
    {
     "name": "stdout",
     "output_type": "stream",
     "text": [
      "1\n",
      "2\n",
      "3\n",
      "4\n",
      "5\n",
      "6\n",
      "7\n"
     ]
    }
   ],
   "source": [
    "for i in my_list_1:\n",
    "    print(i)"
   ]
  },
  {
   "cell_type": "code",
   "execution_count": 118,
   "id": "0f03880a",
   "metadata": {},
   "outputs": [],
   "source": [
    "def custom_forloop(collection):\n",
    "    '''This is a custom for loop function'''\n",
    "    \n",
    "    iterator = iter(collection)\n",
    "    \n",
    "    completed_iteration = False\n",
    "    \n",
    "    while not completed_iteration:\n",
    "        try:\n",
    "            print(next(iterator))\n",
    "        except StopIteration:\n",
    "            completed_iteration = True\n",
    "    \n",
    "    \n",
    "    "
   ]
  },
  {
   "cell_type": "code",
   "execution_count": 119,
   "id": "8280f450",
   "metadata": {},
   "outputs": [
    {
     "name": "stdout",
     "output_type": "stream",
     "text": [
      "S\n",
      "t\n",
      "o\n",
      "r\n",
      "m\n",
      "w\n",
      "i\n",
      "n\n",
      "d\n",
      " \n",
      "i\n",
      "s\n",
      " \n",
      "a\n",
      "w\n",
      "e\n",
      "s\n",
      "o\n",
      "m\n",
      "e\n",
      "!\n"
     ]
    }
   ],
   "source": [
    "custom_forloop(my_string)"
   ]
  },
  {
   "cell_type": "code",
   "execution_count": 120,
   "id": "515be6d1",
   "metadata": {},
   "outputs": [
    {
     "name": "stdout",
     "output_type": "stream",
     "text": [
      "S\n",
      "t\n",
      "o\n",
      "r\n",
      "m\n",
      "w\n",
      "i\n",
      "n\n",
      "d\n",
      " \n",
      "i\n",
      "s\n",
      " \n",
      "a\n",
      "w\n",
      "e\n",
      "s\n",
      "o\n",
      "m\n",
      "e\n",
      "!\n"
     ]
    }
   ],
   "source": [
    "for i in my_string:\n",
    "    print(i)"
   ]
  },
  {
   "cell_type": "markdown",
   "id": "3885a969",
   "metadata": {},
   "source": [
    "### Unpacking"
   ]
  },
  {
   "cell_type": "code",
   "execution_count": 121,
   "id": "afa56804",
   "metadata": {},
   "outputs": [],
   "source": [
    "x,y,z = (8,9,10)"
   ]
  },
  {
   "cell_type": "code",
   "execution_count": 122,
   "id": "8fe53edc",
   "metadata": {},
   "outputs": [
    {
     "name": "stdout",
     "output_type": "stream",
     "text": [
      "8\n",
      "9\n",
      "10\n"
     ]
    }
   ],
   "source": [
    "print(x)\n",
    "print(y)\n",
    "print(z)"
   ]
  },
  {
   "cell_type": "code",
   "execution_count": 123,
   "id": "8b6be442",
   "metadata": {},
   "outputs": [],
   "source": [
    "stormdictionary = {'storm': 1, 'wind': 2, 'labs':3}"
   ]
  },
  {
   "cell_type": "code",
   "execution_count": 124,
   "id": "30021f69",
   "metadata": {},
   "outputs": [],
   "source": [
    "a,b,c = stormdictionary"
   ]
  },
  {
   "cell_type": "code",
   "execution_count": 125,
   "id": "1b6f4f75",
   "metadata": {},
   "outputs": [
    {
     "name": "stdout",
     "output_type": "stream",
     "text": [
      "storm\n",
      "wind\n",
      "labs\n"
     ]
    }
   ],
   "source": [
    "print(a)\n",
    "print(b)\n",
    "print(c)"
   ]
  },
  {
   "cell_type": "code",
   "execution_count": 128,
   "id": "c7473b66",
   "metadata": {},
   "outputs": [
    {
     "data": {
      "text/plain": [
       "3"
      ]
     },
     "execution_count": 128,
     "metadata": {},
     "output_type": "execute_result"
    }
   ],
   "source": [
    "stormdictionary[c]"
   ]
  },
  {
   "cell_type": "markdown",
   "id": "c47c1d98",
   "metadata": {},
   "source": [
    "### Enumerate"
   ]
  },
  {
   "cell_type": "code",
   "execution_count": 129,
   "id": "ed85d4f6",
   "metadata": {},
   "outputs": [
    {
     "name": "stdout",
     "output_type": "stream",
     "text": [
      "(0, 'Study')\n",
      "(1, 'Learn')\n",
      "(2, 'Pass!')\n"
     ]
    }
   ],
   "source": [
    "stormList = ['Study', 'Learn', 'Pass!']\n",
    "\n",
    "\n",
    "for elements in enumerate(stormList):\n",
    "    print(elements)"
   ]
  },
  {
   "cell_type": "code",
   "execution_count": 130,
   "id": "67bcb8fd",
   "metadata": {},
   "outputs": [
    {
     "name": "stdout",
     "output_type": "stream",
     "text": [
      "100 Study\n",
      "101 Learn\n",
      "102 Pass!\n"
     ]
    }
   ],
   "source": [
    "for count, element in enumerate(stormList, 100):\n",
    "    print(count,element)"
   ]
  },
  {
   "cell_type": "markdown",
   "id": "5a506d6c",
   "metadata": {},
   "source": [
    "### Generators"
   ]
  },
  {
   "cell_type": "code",
   "execution_count": 131,
   "id": "bea72dd3",
   "metadata": {},
   "outputs": [],
   "source": [
    "def my_generator():\n",
    "    \n",
    "    n = 1\n",
    "    print('this is printed first')\n",
    "    yield n\n",
    "    \n",
    "    n += 1\n",
    "    print('this is print second')\n",
    "    yield n\n",
    "    \n",
    "    n += 1\n",
    "    print('This is print last')\n",
    "    yield n"
   ]
  },
  {
   "cell_type": "code",
   "execution_count": 132,
   "id": "7d23a2d9",
   "metadata": {},
   "outputs": [
    {
     "data": {
      "text/plain": [
       "generator"
      ]
     },
     "execution_count": 132,
     "metadata": {},
     "output_type": "execute_result"
    }
   ],
   "source": [
    "type(my_generator())"
   ]
  },
  {
   "cell_type": "code",
   "execution_count": 133,
   "id": "22f599a9",
   "metadata": {},
   "outputs": [
    {
     "data": {
      "text/plain": [
       "<generator object my_generator at 0x000001EC7E090740>"
      ]
     },
     "execution_count": 133,
     "metadata": {},
     "output_type": "execute_result"
    }
   ],
   "source": [
    "my_generator()"
   ]
  },
  {
   "cell_type": "code",
   "execution_count": 134,
   "id": "bbb2d923",
   "metadata": {},
   "outputs": [],
   "source": [
    "my_gen = my_generator()"
   ]
  },
  {
   "cell_type": "code",
   "execution_count": 135,
   "id": "d81202ff",
   "metadata": {},
   "outputs": [
    {
     "name": "stdout",
     "output_type": "stream",
     "text": [
      "this is printed first\n"
     ]
    },
    {
     "data": {
      "text/plain": [
       "1"
      ]
     },
     "execution_count": 135,
     "metadata": {},
     "output_type": "execute_result"
    }
   ],
   "source": [
    "next(my_gen)"
   ]
  },
  {
   "cell_type": "code",
   "execution_count": 136,
   "id": "3299b296",
   "metadata": {},
   "outputs": [
    {
     "name": "stdout",
     "output_type": "stream",
     "text": [
      "this is print second\n"
     ]
    },
    {
     "data": {
      "text/plain": [
       "2"
      ]
     },
     "execution_count": 136,
     "metadata": {},
     "output_type": "execute_result"
    }
   ],
   "source": [
    "next(my_gen)"
   ]
  },
  {
   "cell_type": "code",
   "execution_count": 137,
   "id": "ccd1f868",
   "metadata": {},
   "outputs": [
    {
     "name": "stdout",
     "output_type": "stream",
     "text": [
      "This is print last\n"
     ]
    },
    {
     "data": {
      "text/plain": [
       "3"
      ]
     },
     "execution_count": 137,
     "metadata": {},
     "output_type": "execute_result"
    }
   ],
   "source": [
    "next(my_gen)"
   ]
  },
  {
   "cell_type": "code",
   "execution_count": 138,
   "id": "f511f772",
   "metadata": {},
   "outputs": [
    {
     "ename": "StopIteration",
     "evalue": "",
     "output_type": "error",
     "traceback": [
      "\u001b[1;31m---------------------------------------------------------------------------\u001b[0m",
      "\u001b[1;31mStopIteration\u001b[0m                             Traceback (most recent call last)",
      "\u001b[1;32m<ipython-input-138-78dc05d55b31>\u001b[0m in \u001b[0;36m<module>\u001b[1;34m\u001b[0m\n\u001b[1;32m----> 1\u001b[1;33m \u001b[0mnext\u001b[0m\u001b[1;33m(\u001b[0m\u001b[0mmy_gen\u001b[0m\u001b[1;33m)\u001b[0m\u001b[1;33m\u001b[0m\u001b[1;33m\u001b[0m\u001b[0m\n\u001b[0m",
      "\u001b[1;31mStopIteration\u001b[0m: "
     ]
    }
   ],
   "source": [
    "next(my_gen)"
   ]
  },
  {
   "cell_type": "code",
   "execution_count": 148,
   "id": "ac76ee5e",
   "metadata": {},
   "outputs": [],
   "source": [
    "def my_func():\n",
    "    \n",
    "    n = 1\n",
    "    print('this is printed first',n)\n",
    "    \n",
    "    \n",
    "    n += 1\n",
    "    print('this is printed second', n)\n",
    "    \n",
    "    n += 1\n",
    "    print('This is printed last', n)\n",
    "    return n"
   ]
  },
  {
   "cell_type": "code",
   "execution_count": 149,
   "id": "b4cceb70",
   "metadata": {},
   "outputs": [
    {
     "name": "stdout",
     "output_type": "stream",
     "text": [
      "this is printed first 1\n",
      "this is printed second 2\n",
      "This is printed last 3\n"
     ]
    },
    {
     "data": {
      "text/plain": [
       "3"
      ]
     },
     "execution_count": 149,
     "metadata": {},
     "output_type": "execute_result"
    }
   ],
   "source": [
    "my_func()"
   ]
  },
  {
   "cell_type": "code",
   "execution_count": 150,
   "id": "5a825067",
   "metadata": {},
   "outputs": [],
   "source": [
    "### infinite stream\n",
    "\n",
    "def all_even():\n",
    "    n = 0\n",
    "    while True:\n",
    "        yield n\n",
    "        n += 2"
   ]
  },
  {
   "cell_type": "code",
   "execution_count": 151,
   "id": "4a579696",
   "metadata": {},
   "outputs": [],
   "source": [
    "even = all_even()"
   ]
  },
  {
   "cell_type": "code",
   "execution_count": 201,
   "id": "3e0b30f5",
   "metadata": {},
   "outputs": [
    {
     "data": {
      "text/plain": [
       "98"
      ]
     },
     "execution_count": 201,
     "metadata": {},
     "output_type": "execute_result"
    }
   ],
   "source": [
    "next(even)"
   ]
  },
  {
   "cell_type": "markdown",
   "id": "e2fba286",
   "metadata": {},
   "source": [
    "### Comprehension with Generators"
   ]
  },
  {
   "cell_type": "code",
   "execution_count": 235,
   "id": "af3033a1",
   "metadata": {},
   "outputs": [],
   "source": [
    "input_list = [1,2,3,4,5,6,7,8,9,10,11,12,13,14,15,16]"
   ]
  },
  {
   "cell_type": "code",
   "execution_count": 236,
   "id": "567002f1",
   "metadata": {},
   "outputs": [],
   "source": [
    "multiples_four = (var for var in input_list if var % 4 ==0)"
   ]
  },
  {
   "cell_type": "code",
   "execution_count": 222,
   "id": "2a727f45",
   "metadata": {},
   "outputs": [
    {
     "data": {
      "text/plain": [
       "generator"
      ]
     },
     "execution_count": 222,
     "metadata": {},
     "output_type": "execute_result"
    }
   ],
   "source": [
    "type(multiples_four)"
   ]
  },
  {
   "cell_type": "code",
   "execution_count": 223,
   "id": "00a703f4",
   "metadata": {},
   "outputs": [],
   "source": [
    "my_tuple = tuple(multiples_four)"
   ]
  },
  {
   "cell_type": "code",
   "execution_count": 224,
   "id": "dbba8561",
   "metadata": {},
   "outputs": [
    {
     "data": {
      "text/plain": [
       "tuple"
      ]
     },
     "execution_count": 224,
     "metadata": {},
     "output_type": "execute_result"
    }
   ],
   "source": [
    "type(my_tuple)"
   ]
  },
  {
   "cell_type": "code",
   "execution_count": 225,
   "id": "a00631de",
   "metadata": {},
   "outputs": [
    {
     "data": {
      "text/plain": [
       "(4, 8, 12, 16)"
      ]
     },
     "execution_count": 225,
     "metadata": {},
     "output_type": "execute_result"
    }
   ],
   "source": [
    "my_tuple"
   ]
  },
  {
   "cell_type": "code",
   "execution_count": 226,
   "id": "17b99546",
   "metadata": {},
   "outputs": [
    {
     "data": {
      "text/plain": [
       "<generator object <genexpr> at 0x000001EC7E096900>"
      ]
     },
     "execution_count": 226,
     "metadata": {},
     "output_type": "execute_result"
    }
   ],
   "source": [
    "multiples_four"
   ]
  },
  {
   "cell_type": "code",
   "execution_count": 234,
   "id": "65711b98",
   "metadata": {},
   "outputs": [
    {
     "ename": "StopIteration",
     "evalue": "",
     "output_type": "error",
     "traceback": [
      "\u001b[1;31m---------------------------------------------------------------------------\u001b[0m",
      "\u001b[1;31mStopIteration\u001b[0m                             Traceback (most recent call last)",
      "\u001b[1;32m<ipython-input-234-354a261aeac7>\u001b[0m in \u001b[0;36m<module>\u001b[1;34m\u001b[0m\n\u001b[1;32m----> 1\u001b[1;33m \u001b[0mnext\u001b[0m\u001b[1;33m(\u001b[0m\u001b[0mmultiples_four\u001b[0m\u001b[1;33m)\u001b[0m\u001b[1;33m\u001b[0m\u001b[1;33m\u001b[0m\u001b[0m\n\u001b[0m",
      "\u001b[1;31mStopIteration\u001b[0m: "
     ]
    }
   ],
   "source": [
    "next(multiples_four)"
   ]
  },
  {
   "cell_type": "code",
   "execution_count": 238,
   "id": "cb3239e5",
   "metadata": {},
   "outputs": [
    {
     "name": "stdout",
     "output_type": "stream",
     "text": [
      "using generator comprehension: "
     ]
    }
   ],
   "source": [
    "print('using generator comprehension:', end=' ')\n",
    "\n",
    "for var in multiples_four:\n",
    "    print(var, end=' ')"
   ]
  },
  {
   "cell_type": "code",
   "execution_count": null,
   "id": "a37743c9",
   "metadata": {},
   "outputs": [],
   "source": []
  },
  {
   "cell_type": "code",
   "execution_count": 23,
   "id": "18b9dc26",
   "metadata": {},
   "outputs": [],
   "source": [
    "import mysql.connector as sql"
   ]
  },
  {
   "cell_type": "markdown",
   "id": "4080fea4",
   "metadata": {},
   "source": [
    "### Creating a Connection with MySQL"
   ]
  },
  {
   "cell_type": "code",
   "execution_count": 26,
   "id": "572cda7d",
   "metadata": {},
   "outputs": [],
   "source": [
    "connection = sql.connect(\n",
    "    host='localhost',\n",
    "    user='demo_computer',\n",
    "    password='Stormwind1',\n",
    "    #database='mydatabase'\n",
    ")"
   ]
  },
  {
   "cell_type": "code",
   "execution_count": 27,
   "id": "4a0972da",
   "metadata": {},
   "outputs": [
    {
     "name": "stdout",
     "output_type": "stream",
     "text": [
      "Connected to MySql Server version 8.0.27\n"
     ]
    }
   ],
   "source": [
    "print('Connected to MySql Server version', connection.get_server_info())"
   ]
  },
  {
   "cell_type": "markdown",
   "id": "08d7f370",
   "metadata": {},
   "source": [
    "### Created a Database"
   ]
  },
  {
   "cell_type": "code",
   "execution_count": 28,
   "id": "39c0e2b1",
   "metadata": {},
   "outputs": [],
   "source": [
    "mycursor=connection.cursor()\n",
    "\n",
    "mycursor.execute(\"CREATE DATABASE newdb\")"
   ]
  },
  {
   "cell_type": "code",
   "execution_count": 31,
   "id": "be8042aa",
   "metadata": {},
   "outputs": [
    {
     "name": "stdout",
     "output_type": "stream",
     "text": [
      "('information_schema',)\n",
      "('mysql',)\n",
      "('newdatabase',)\n",
      "('newdb',)\n",
      "('performance_schema',)\n",
      "('sys',)\n"
     ]
    }
   ],
   "source": [
    "connection = sql.connect(\n",
    "    host='localhost',\n",
    "    user='demo_computer',\n",
    "    password='Stormwind1',\n",
    "    database='newdb'\n",
    ")\n",
    "\n",
    "mycursor=connection.cursor()\n",
    "\n",
    "mycursor.execute(\"SHOW DATABASES\")\n",
    "\n",
    "for x in mycursor:\n",
    "    print(x)"
   ]
  },
  {
   "cell_type": "markdown",
   "id": "60ce1db9",
   "metadata": {},
   "source": [
    "### Create a Table within the Database"
   ]
  },
  {
   "cell_type": "code",
   "execution_count": 36,
   "id": "69d90e6e",
   "metadata": {},
   "outputs": [],
   "source": [
    "mycursor.execute('''CREATE TABLE customers(id INT(11) NOT NULL PRIMARY KEY, \n",
    "                 Name VARCHAR(255) NOT NULL, \n",
    "                 Address VARCHAR(2000) NOT NULL)''')"
   ]
  },
  {
   "cell_type": "code",
   "execution_count": 37,
   "id": "1b66f167",
   "metadata": {},
   "outputs": [
    {
     "name": "stdout",
     "output_type": "stream",
     "text": [
      "('customers',)\n"
     ]
    }
   ],
   "source": [
    "mycursor.execute(\"SHOW TABLES\")\n",
    "\n",
    "for tables in mycursor:\n",
    "    print(tables)"
   ]
  },
  {
   "cell_type": "markdown",
   "id": "7ed8f970",
   "metadata": {},
   "source": [
    "### Insert data in table"
   ]
  },
  {
   "cell_type": "code",
   "execution_count": 40,
   "id": "fe3bd3dd",
   "metadata": {},
   "outputs": [
    {
     "name": "stdout",
     "output_type": "stream",
     "text": [
      "1 Records inserted\n"
     ]
    }
   ],
   "source": [
    "query = \"INSERT INTO customers(id, Name, Address) VALUES(%s, %s, %s)\"\n",
    "val = ('10000', 'John', 'Highway 21')\n",
    "\n",
    "mycursor.execute(query, val)\n",
    "\n",
    "connection.commit() #without commmit, no changes/updates will be saved\n",
    "\n",
    "print(mycursor.rowcount, 'Records inserted')"
   ]
  },
  {
   "cell_type": "code",
   "execution_count": 41,
   "id": "18c0854c",
   "metadata": {},
   "outputs": [
    {
     "name": "stdout",
     "output_type": "stream",
     "text": [
      "(1000, 'John', 'Highway 21')\n",
      "(10000, 'John', 'Highway 21')\n"
     ]
    }
   ],
   "source": [
    "mycursor.execute('SELECT * FROM customers')\n",
    "\n",
    "result = mycursor.fetchall()\n",
    "\n",
    "for x in result:\n",
    "    print(x)"
   ]
  },
  {
   "cell_type": "code",
   "execution_count": 42,
   "id": "0d35d9d3",
   "metadata": {},
   "outputs": [
    {
     "name": "stdout",
     "output_type": "stream",
     "text": [
      "14 Records inserted\n"
     ]
    }
   ],
   "source": [
    "query = \"INSERT INTO customers(id, Name, Address) VALUES(%s, %s, %s)\"\n",
    "\n",
    "val = [\n",
    "    ('10001','Peter', 'Lowstreet 4'),\n",
    "    ('10002','Peter', 'Lowstreet 4'),\n",
    "    ('10003','Amy', 'Apple st 652'),\n",
    "    ('10004','Hannah', 'Mountain 21'),\n",
    "    ('10005','Michael', 'Valley 345'),\n",
    "    ('10006','Sandy', 'Ocean blvd 2'),\n",
    "    ('10007','Betty', 'Green Grass 1'),\n",
    "    ('10008','Richard', 'Sky st 331'),\n",
    "    ('10009','Susan', 'One way 98'),\n",
    "    ('10010','icky', 'Yellow Garden,2'),\n",
    "    ('10011','Ben', 'Park Lane 38'),\n",
    "    ('10012','William', 'Central st 954'),\n",
    "    ('10013','uck', 'Main Road 989'),\n",
    "    ('10014','Viola', 'Sideway 1633')\n",
    "]\n",
    "\n",
    "mycursor.executemany(query, val)\n",
    "\n",
    "connection.commit()\n",
    "print(mycursor.rowcount, 'Records inserted')"
   ]
  },
  {
   "cell_type": "code",
   "execution_count": 43,
   "id": "acacae1e",
   "metadata": {},
   "outputs": [
    {
     "name": "stdout",
     "output_type": "stream",
     "text": [
      "(1000, 'John', 'Highway 21')\n",
      "(10000, 'John', 'Highway 21')\n",
      "(10001, 'Peter', 'Lowstreet 4')\n",
      "(10002, 'Peter', 'Lowstreet 4')\n",
      "(10003, 'Amy', 'Apple st 652')\n",
      "(10004, 'Hannah', 'Mountain 21')\n",
      "(10005, 'Michael', 'Valley 345')\n",
      "(10006, 'Sandy', 'Ocean blvd 2')\n",
      "(10007, 'Betty', 'Green Grass 1')\n",
      "(10008, 'Richard', 'Sky st 331')\n",
      "(10009, 'Susan', 'One way 98')\n",
      "(10010, 'icky', 'Yellow Garden,2')\n",
      "(10011, 'Ben', 'Park Lane 38')\n",
      "(10012, 'William', 'Central st 954')\n",
      "(10013, 'uck', 'Main Road 989')\n",
      "(10014, 'Viola', 'Sideway 1633')\n"
     ]
    }
   ],
   "source": [
    "mycursor.execute('SELECT * FROM customers')\n",
    "\n",
    "result = mycursor.fetchall()\n",
    "\n",
    "for x in result:\n",
    "    print(x)"
   ]
  },
  {
   "cell_type": "code",
   "execution_count": 44,
   "id": "6f288bed",
   "metadata": {},
   "outputs": [],
   "source": [
    "query = '''\n",
    "    CREATE TABLE product (p_id INT(11) NOT NULL PRIMARY KEY,\n",
    "    P_name VARCHAR(2000) NOT NULL,\n",
    "    Category VARCHAR(2000) NOT NULL,\n",
    "    customer_id INT(11) NOT NULL,\n",
    "    FOREIGN KEY(customer_id) REFERENCES customers(id))\n",
    "'''\n",
    "\n",
    "mycursor.execute(query)"
   ]
  },
  {
   "cell_type": "code",
   "execution_count": 45,
   "id": "56bf0525",
   "metadata": {},
   "outputs": [
    {
     "name": "stdout",
     "output_type": "stream",
     "text": [
      "('customers',)\n",
      "('product',)\n"
     ]
    }
   ],
   "source": [
    "mycursor.execute(\"SHOW TABLES\")\n",
    "\n",
    "for tables in mycursor:\n",
    "    print(tables)"
   ]
  },
  {
   "cell_type": "code",
   "execution_count": 49,
   "id": "d9598bf2",
   "metadata": {},
   "outputs": [],
   "source": [
    "query = '''\n",
    "    INSERT INTO product(p_id, P_name, Category, customer_id) VALUES(%s,%s,%s,%s)'''\n",
    "\n",
    "val = [\n",
    "    ('19', 'Gizmo', 'Gadgets', '10001'),\n",
    "    ('29','Powergizmo', 'Gadgets','10002'),\n",
    "    ('1490','SingleTouch', 'Photography', '10010'),\n",
    "    ('230','MultiTouch', 'Household', '10011')\n",
    "]"
   ]
  },
  {
   "cell_type": "code",
   "execution_count": 50,
   "id": "90fe2e0a",
   "metadata": {},
   "outputs": [
    {
     "name": "stdout",
     "output_type": "stream",
     "text": [
      "4 Records inserted\n"
     ]
    }
   ],
   "source": [
    "mycursor.executemany(query, val)\n",
    "\n",
    "connection.commit()\n",
    "print(mycursor.rowcount, 'Records inserted')"
   ]
  },
  {
   "cell_type": "code",
   "execution_count": 51,
   "id": "272a6cc5",
   "metadata": {},
   "outputs": [
    {
     "name": "stdout",
     "output_type": "stream",
     "text": [
      "(19, 'Gizmo', 'Gadgets', 10001)\n",
      "(29, 'Powergizmo', 'Gadgets', 10002)\n",
      "(230, 'MultiTouch', 'Household', 10011)\n",
      "(1490, 'SingleTouch', 'Photography', 10010)\n"
     ]
    }
   ],
   "source": [
    "mycursor.execute('SELECT * FROM product')\n",
    "\n",
    "result = mycursor.fetchall()\n",
    "\n",
    "for x in result:\n",
    "    print(x)"
   ]
  },
  {
   "cell_type": "code",
   "execution_count": 52,
   "id": "4ad62c38",
   "metadata": {},
   "outputs": [
    {
     "name": "stdout",
     "output_type": "stream",
     "text": [
      "('Peter', 'Gizmo')\n",
      "('Peter', 'Powergizmo')\n",
      "('Ben', 'MultiTouch')\n",
      "('icky', 'SingleTouch')\n"
     ]
    }
   ],
   "source": [
    "query = '''\n",
    "    SELECT customers.Name AS user, product.P_name as favorite\n",
    "    FROM customers\n",
    "    INNER JOIN product ON customers.id = product.customer_id\n",
    "    '''\n",
    "\n",
    "mycursor.execute(query)\n",
    "\n",
    "result=mycursor.fetchall()\n",
    "\n",
    "for x in result:\n",
    "    print(x)"
   ]
  },
  {
   "cell_type": "code",
   "execution_count": 53,
   "id": "0fe505ed",
   "metadata": {},
   "outputs": [
    {
     "data": {
      "text/plain": [
       "True"
      ]
     },
     "execution_count": 53,
     "metadata": {},
     "output_type": "execute_result"
    }
   ],
   "source": [
    "mycursor.close()"
   ]
  },
  {
   "cell_type": "code",
   "execution_count": 56,
   "id": "f4bd7854",
   "metadata": {},
   "outputs": [],
   "source": [
    "connection.close()"
   ]
  },
  {
   "cell_type": "code",
   "execution_count": null,
   "id": "358f4a8d",
   "metadata": {},
   "outputs": [],
   "source": []
  },
  {
   "cell_type": "markdown",
   "id": "8c5690de",
   "metadata": {},
   "source": [
    "### Regular Expressions"
   ]
  },
  {
   "cell_type": "code",
   "execution_count": 58,
   "id": "e1c3c301",
   "metadata": {},
   "outputs": [
    {
     "name": "stdout",
     "output_type": "stream",
     "text": [
      "hello\tKitty\n",
      "Hello\\tKitty\n"
     ]
    }
   ],
   "source": [
    "print('hello\\tKitty')\n",
    "\n",
    "print(r'Hello\\tKitty')"
   ]
  },
  {
   "cell_type": "code",
   "execution_count": 59,
   "id": "cb615175",
   "metadata": {},
   "outputs": [
    {
     "name": "stdout",
     "output_type": "stream",
     "text": [
      "hi\n",
      "Tom\n",
      "hi\\nTom\n"
     ]
    }
   ],
   "source": [
    "print('hi\\nTom')\n",
    "\n",
    "print(r'hi\\nTom')\n"
   ]
  },
  {
   "cell_type": "markdown",
   "id": "0ebc17c3",
   "metadata": {},
   "source": [
    "### Match Function()"
   ]
  },
  {
   "cell_type": "code",
   "execution_count": 60,
   "id": "2d46dc67",
   "metadata": {},
   "outputs": [],
   "source": [
    "import re"
   ]
  },
  {
   "cell_type": "code",
   "execution_count": null,
   "id": "c7df7c26",
   "metadata": {},
   "outputs": [],
   "source": [
    "#syntax====> re.match(pattern, string, flags=0)"
   ]
  },
  {
   "cell_type": "code",
   "execution_count": 61,
   "id": "17401190",
   "metadata": {},
   "outputs": [
    {
     "data": {
      "text/plain": [
       "<re.Match object; span=(0, 3), match='Tom'>"
      ]
     },
     "execution_count": 61,
     "metadata": {},
     "output_type": "execute_result"
    }
   ],
   "source": [
    "re.match('Tom', 'Tom Henry')"
   ]
  },
  {
   "cell_type": "code",
   "execution_count": 62,
   "id": "d264d299",
   "metadata": {},
   "outputs": [],
   "source": [
    "re.match('Hen', 'Tom Henry')"
   ]
  },
  {
   "cell_type": "code",
   "execution_count": null,
   "id": "2e9f146f",
   "metadata": {},
   "outputs": [],
   "source": []
  },
  {
   "cell_type": "markdown",
   "id": "a25b448f",
   "metadata": {},
   "source": [
    "### Compile()"
   ]
  },
  {
   "cell_type": "code",
   "execution_count": null,
   "id": "71170c51",
   "metadata": {},
   "outputs": [],
   "source": [
    "## syntax====> re.compile(pattern, flags=0)"
   ]
  },
  {
   "cell_type": "code",
   "execution_count": 63,
   "id": "780f8029",
   "metadata": {},
   "outputs": [],
   "source": [
    "pattern = 'Li'\n",
    "\n",
    "comp = re.compile(pattern)\n",
    "\n",
    "string = 'Liam Thomas'"
   ]
  },
  {
   "cell_type": "code",
   "execution_count": 64,
   "id": "52b1f54f",
   "metadata": {},
   "outputs": [],
   "source": [
    "first_match = comp.match(string)"
   ]
  },
  {
   "cell_type": "code",
   "execution_count": 65,
   "id": "2869059b",
   "metadata": {},
   "outputs": [
    {
     "data": {
      "text/plain": [
       "<re.Match object; span=(0, 2), match='Li'>"
      ]
     },
     "execution_count": 65,
     "metadata": {},
     "output_type": "execute_result"
    }
   ],
   "source": [
    "first_match"
   ]
  },
  {
   "cell_type": "code",
   "execution_count": 66,
   "id": "254e26ae",
   "metadata": {},
   "outputs": [
    {
     "data": {
      "text/plain": [
       "<re.Match object; span=(0, 2), match='Li'>"
      ]
     },
     "execution_count": 66,
     "metadata": {},
     "output_type": "execute_result"
    }
   ],
   "source": [
    "re.match('Li', 'Liam Thomas')"
   ]
  },
  {
   "cell_type": "code",
   "execution_count": 67,
   "id": "0c9f6a1e",
   "metadata": {},
   "outputs": [],
   "source": [
    "string_2 = 'This is fun, Liam'"
   ]
  },
  {
   "cell_type": "code",
   "execution_count": 68,
   "id": "cf275700",
   "metadata": {},
   "outputs": [],
   "source": [
    "second_match = comp.match(string_2)"
   ]
  },
  {
   "cell_type": "code",
   "execution_count": 69,
   "id": "af8cccd7",
   "metadata": {},
   "outputs": [],
   "source": [
    "second_match"
   ]
  },
  {
   "cell_type": "markdown",
   "id": "07e75d28",
   "metadata": {},
   "source": [
    "### finditer() Method"
   ]
  },
  {
   "cell_type": "code",
   "execution_count": 75,
   "id": "1658217e",
   "metadata": {},
   "outputs": [],
   "source": [
    "sentence =  'Start a sentence and bring it to an end'\n",
    "\n",
    "pattern = re.compile('Art')\n",
    "\n",
    "matches = pattern.finditer(sentence)"
   ]
  },
  {
   "cell_type": "code",
   "execution_count": 71,
   "id": "ff164d4a",
   "metadata": {},
   "outputs": [
    {
     "data": {
      "text/plain": [
       "<callable_iterator at 0x168aa198910>"
      ]
     },
     "execution_count": 71,
     "metadata": {},
     "output_type": "execute_result"
    }
   ],
   "source": [
    "matches"
   ]
  },
  {
   "cell_type": "code",
   "execution_count": 72,
   "id": "f36542f0",
   "metadata": {},
   "outputs": [
    {
     "name": "stdout",
     "output_type": "stream",
     "text": [
      "<re.Match object; span=(2, 5), match='art'>\n"
     ]
    }
   ],
   "source": [
    "for match in matches:\n",
    "    print(match)"
   ]
  },
  {
   "cell_type": "markdown",
   "id": "d87be464",
   "metadata": {},
   "source": [
    "### search() function"
   ]
  },
  {
   "cell_type": "code",
   "execution_count": 76,
   "id": "e61f7b34",
   "metadata": {},
   "outputs": [],
   "source": [
    "#syntax ===> re.search(pattern, string)\n",
    "\n",
    "result = re.search(pattern, sentence)\n"
   ]
  },
  {
   "cell_type": "code",
   "execution_count": 77,
   "id": "bb0f0d66",
   "metadata": {},
   "outputs": [],
   "source": [
    "result"
   ]
  },
  {
   "cell_type": "markdown",
   "id": "0c094428",
   "metadata": {},
   "source": [
    "### modifiers\n",
    "\n",
    "\n",
    "\n",
    "\n",
    "\n",
    "\n",
    "\n",
    "\n",
    "\n",
    "\n"
   ]
  },
  {
   "cell_type": "code",
   "execution_count": null,
   "id": "2173fb8b",
   "metadata": {},
   "outputs": [],
   "source": [
    "modifier = '''\n",
    "    .     -   Any Character Except New Line\n",
    "\\d  -   Digit (0-9) \n",
    "\\D  -   Not a Digit (0-9) \n",
    "\\w  -   Word Character (a-z, A-Z, 0-9, _) \n",
    "\\W -   Not a Word Character \n",
    "\\s   -   Whitespace (space, tab, newline) \n",
    "\\S   -   Not Whitespace (space, tab, newline) \n",
    "\\b   -   Word Boundary \n",
    "\\B   -   Not a Word Boundary\n",
    "^     -   Beginning of a String \n",
    "$     -   End of a String \n",
    "[]     -   Matches Characters in brackets \n",
    "[^ ]  -   Matches Characters NOT in brackets\n",
    "|   -   Either Or \n",
    "( )  -  Group \n",
    "\n",
    "*  -  0 or More \n",
    "+  -  1 or More \n",
    "?   -  0 or One \n",
    "{3} -  Exact Number \n",
    "{3,4} - Range of Numbers (Minimum, Maximum) \n",
    "\n",
    "'''"
   ]
  },
  {
   "cell_type": "code",
   "execution_count": 79,
   "id": "8a383ed5",
   "metadata": {},
   "outputs": [],
   "source": [
    "m = re.match(r\"(\\w+) (\\w+)\", \"Isaac Newton, physicist\")"
   ]
  },
  {
   "cell_type": "code",
   "execution_count": 80,
   "id": "20231080",
   "metadata": {},
   "outputs": [
    {
     "data": {
      "text/plain": [
       "'Isaac Newton'"
      ]
     },
     "execution_count": 80,
     "metadata": {},
     "output_type": "execute_result"
    }
   ],
   "source": [
    "m.group(0)"
   ]
  },
  {
   "cell_type": "code",
   "execution_count": 81,
   "id": "ce8cfb7e",
   "metadata": {},
   "outputs": [
    {
     "data": {
      "text/plain": [
       "'Isaac'"
      ]
     },
     "execution_count": 81,
     "metadata": {},
     "output_type": "execute_result"
    }
   ],
   "source": [
    "m.group(1)"
   ]
  },
  {
   "cell_type": "code",
   "execution_count": 82,
   "id": "92b7f60d",
   "metadata": {},
   "outputs": [
    {
     "data": {
      "text/plain": [
       "'Newton'"
      ]
     },
     "execution_count": 82,
     "metadata": {},
     "output_type": "execute_result"
    }
   ],
   "source": [
    "m.group(2)"
   ]
  },
  {
   "cell_type": "code",
   "execution_count": null,
   "id": "00cbbce6",
   "metadata": {},
   "outputs": [],
   "source": []
  },
  {
   "cell_type": "markdown",
   "id": "6b31cdf4",
   "metadata": {},
   "source": [
    "### Greedy Repetitions"
   ]
  },
  {
   "cell_type": "code",
   "execution_count": null,
   "id": "e5876891",
   "metadata": {},
   "outputs": [],
   "source": [
    "#greedy modifier=======> '?' , '*', '+' and {m,n}"
   ]
  },
  {
   "cell_type": "code",
   "execution_count": 83,
   "id": "729719ae",
   "metadata": {},
   "outputs": [
    {
     "data": {
      "text/plain": [
       "['aaaa', '']"
      ]
     },
     "execution_count": 83,
     "metadata": {},
     "output_type": "execute_result"
    }
   ],
   "source": [
    "re.findall('a*', 'aaaa')"
   ]
  },
  {
   "cell_type": "code",
   "execution_count": 84,
   "id": "71e086cf",
   "metadata": {},
   "outputs": [
    {
     "data": {
      "text/plain": [
       "['a', 'a', 'a', 'a', '']"
      ]
     },
     "execution_count": 84,
     "metadata": {},
     "output_type": "execute_result"
    }
   ],
   "source": [
    "re.findall('a?', 'aaaa')"
   ]
  },
  {
   "cell_type": "code",
   "execution_count": 85,
   "id": "9b03037f",
   "metadata": {},
   "outputs": [
    {
     "data": {
      "text/plain": [
       "['aaaa']"
      ]
     },
     "execution_count": 85,
     "metadata": {},
     "output_type": "execute_result"
    }
   ],
   "source": [
    "re.findall('a+', 'aaaa')"
   ]
  },
  {
   "cell_type": "code",
   "execution_count": 90,
   "id": "efae97e4",
   "metadata": {},
   "outputs": [
    {
     "data": {
      "text/plain": [
       "['aaaa']"
      ]
     },
     "execution_count": 90,
     "metadata": {},
     "output_type": "execute_result"
    }
   ],
   "source": [
    "re.findall('a{3,4}', 'aaaa')"
   ]
  },
  {
   "cell_type": "code",
   "execution_count": null,
   "id": "f365327b",
   "metadata": {},
   "outputs": [],
   "source": []
  },
  {
   "cell_type": "markdown",
   "id": "21446bd9",
   "metadata": {},
   "source": [
    "### Non Greedy Repetitions"
   ]
  },
  {
   "cell_type": "code",
   "execution_count": null,
   "id": "96dba686",
   "metadata": {},
   "outputs": [],
   "source": [
    "##non-greedy modifier======> '??', '*?', '+?' and {m,n}?"
   ]
  },
  {
   "cell_type": "code",
   "execution_count": 91,
   "id": "44649a61",
   "metadata": {},
   "outputs": [
    {
     "data": {
      "text/plain": [
       "['', 'a', '', 'a', '', 'a', '', 'a', '']"
      ]
     },
     "execution_count": 91,
     "metadata": {},
     "output_type": "execute_result"
    }
   ],
   "source": [
    "re.findall('a*?', 'aaaa')"
   ]
  },
  {
   "cell_type": "code",
   "execution_count": 92,
   "id": "dcaf922c",
   "metadata": {},
   "outputs": [
    {
     "data": {
      "text/plain": [
       "['', 'a', '', 'a', '', 'a', '', 'a', '']"
      ]
     },
     "execution_count": 92,
     "metadata": {},
     "output_type": "execute_result"
    }
   ],
   "source": [
    "re.findall('a??', 'aaaa')"
   ]
  },
  {
   "cell_type": "code",
   "execution_count": 93,
   "id": "651abd07",
   "metadata": {},
   "outputs": [
    {
     "data": {
      "text/plain": [
       "['a', 'a', 'a', 'a']"
      ]
     },
     "execution_count": 93,
     "metadata": {},
     "output_type": "execute_result"
    }
   ],
   "source": [
    "re.findall('a+?', 'aaaa')"
   ]
  },
  {
   "cell_type": "code",
   "execution_count": 94,
   "id": "a371e641",
   "metadata": {},
   "outputs": [
    {
     "data": {
      "text/plain": [
       "['aaa']"
      ]
     },
     "execution_count": 94,
     "metadata": {},
     "output_type": "execute_result"
    }
   ],
   "source": [
    "re.findall('a{3,4}?', 'aaaa')"
   ]
  },
  {
   "cell_type": "markdown",
   "id": "64595289",
   "metadata": {},
   "source": [
    "### Groups"
   ]
  },
  {
   "cell_type": "code",
   "execution_count": 2,
   "id": "c483dc7a",
   "metadata": {},
   "outputs": [],
   "source": [
    "import re"
   ]
  },
  {
   "cell_type": "code",
   "execution_count": 11,
   "id": "69eb15da",
   "metadata": {},
   "outputs": [],
   "source": [
    "target_string = \"the price of VANILLA icecream is 20 dollars\"\n",
    "\n"
   ]
  },
  {
   "cell_type": "code",
   "execution_count": 12,
   "id": "2875fc6c",
   "metadata": {},
   "outputs": [],
   "source": [
    "result = re.search(r'(\\b[A-Z]+\\b).+(\\b\\d+)', target_string)"
   ]
  },
  {
   "cell_type": "code",
   "execution_count": 13,
   "id": "c08442aa",
   "metadata": {},
   "outputs": [
    {
     "data": {
      "text/plain": [
       "('VANILLA', '20')"
      ]
     },
     "execution_count": 13,
     "metadata": {},
     "output_type": "execute_result"
    }
   ],
   "source": [
    "result.groups()"
   ]
  },
  {
   "cell_type": "code",
   "execution_count": 14,
   "id": "03b43723",
   "metadata": {},
   "outputs": [
    {
     "data": {
      "text/plain": [
       "'VANILLA'"
      ]
     },
     "execution_count": 14,
     "metadata": {},
     "output_type": "execute_result"
    }
   ],
   "source": [
    "result.group(1)"
   ]
  },
  {
   "cell_type": "code",
   "execution_count": 15,
   "id": "e62d2e78",
   "metadata": {},
   "outputs": [
    {
     "data": {
      "text/plain": [
       "'20'"
      ]
     },
     "execution_count": 15,
     "metadata": {},
     "output_type": "execute_result"
    }
   ],
   "source": [
    "result.group(2)"
   ]
  },
  {
   "cell_type": "code",
   "execution_count": 18,
   "id": "d7e95a0e",
   "metadata": {},
   "outputs": [
    {
     "data": {
      "text/plain": [
       "'VANILLA icecream is 20'"
      ]
     },
     "execution_count": 18,
     "metadata": {},
     "output_type": "execute_result"
    }
   ],
   "source": [
    "result.group()"
   ]
  },
  {
   "cell_type": "code",
   "execution_count": 19,
   "id": "e035892a",
   "metadata": {},
   "outputs": [
    {
     "data": {
      "text/plain": [
       "'VANILLA icecream is 20'"
      ]
     },
     "execution_count": 19,
     "metadata": {},
     "output_type": "execute_result"
    }
   ],
   "source": [
    "result.group(0)"
   ]
  },
  {
   "cell_type": "code",
   "execution_count": 20,
   "id": "672c9113",
   "metadata": {},
   "outputs": [],
   "source": [
    "ph_number = '416-444-2356 is a phone number'"
   ]
  },
  {
   "cell_type": "code",
   "execution_count": 21,
   "id": "bb74c3a3",
   "metadata": {},
   "outputs": [],
   "source": [
    "ph_regex = re.compile(r'\\d\\d\\d-\\d\\d\\d-\\d\\d\\d\\d')"
   ]
  },
  {
   "cell_type": "code",
   "execution_count": 22,
   "id": "a536c4ad",
   "metadata": {},
   "outputs": [],
   "source": [
    "match = ph_regex.search(ph_number)"
   ]
  },
  {
   "cell_type": "code",
   "execution_count": 23,
   "id": "b4fe81f8",
   "metadata": {},
   "outputs": [
    {
     "data": {
      "text/plain": [
       "'416-444-2356'"
      ]
     },
     "execution_count": 23,
     "metadata": {},
     "output_type": "execute_result"
    }
   ],
   "source": [
    "match.group()"
   ]
  },
  {
   "cell_type": "code",
   "execution_count": 24,
   "id": "dc7ca8bb",
   "metadata": {},
   "outputs": [],
   "source": [
    "ph_regex_group = re.compile(r'(\\d\\d\\d)-(\\d\\d\\d-\\d\\d\\d\\d)')"
   ]
  },
  {
   "cell_type": "code",
   "execution_count": 25,
   "id": "ca44d578",
   "metadata": {},
   "outputs": [],
   "source": [
    "match_2 = ph_regex_group.search(ph_number)"
   ]
  },
  {
   "cell_type": "code",
   "execution_count": 26,
   "id": "5e4705a7",
   "metadata": {},
   "outputs": [
    {
     "data": {
      "text/plain": [
       "('416', '444-2356')"
      ]
     },
     "execution_count": 26,
     "metadata": {},
     "output_type": "execute_result"
    }
   ],
   "source": [
    "match_2.groups()"
   ]
  },
  {
   "cell_type": "code",
   "execution_count": 27,
   "id": "fe6a6f70",
   "metadata": {},
   "outputs": [
    {
     "data": {
      "text/plain": [
       "'416'"
      ]
     },
     "execution_count": 27,
     "metadata": {},
     "output_type": "execute_result"
    }
   ],
   "source": [
    "match_2.group(1)"
   ]
  },
  {
   "cell_type": "code",
   "execution_count": 28,
   "id": "e0518471",
   "metadata": {},
   "outputs": [
    {
     "data": {
      "text/plain": [
       "'444-2356'"
      ]
     },
     "execution_count": 28,
     "metadata": {},
     "output_type": "execute_result"
    }
   ],
   "source": [
    "match_2.group(2)"
   ]
  },
  {
   "cell_type": "code",
   "execution_count": 30,
   "id": "8dba0eb6",
   "metadata": {},
   "outputs": [],
   "source": [
    "ph_number_2 = '(416)-444-2356 is a phone number'\n",
    "\n",
    "ph_regex_group_2 = re.compile(r'(\\(\\d\\d\\d\\))-(\\d\\d\\d-\\d\\d\\d\\d)')\n"
   ]
  },
  {
   "cell_type": "code",
   "execution_count": 31,
   "id": "7ba4fe7e",
   "metadata": {},
   "outputs": [],
   "source": [
    "match_3 = ph_regex_group_2.search(ph_number_2)"
   ]
  },
  {
   "cell_type": "code",
   "execution_count": 32,
   "id": "8a19e110",
   "metadata": {},
   "outputs": [
    {
     "data": {
      "text/plain": [
       "('(416)', '444-2356')"
      ]
     },
     "execution_count": 32,
     "metadata": {},
     "output_type": "execute_result"
    }
   ],
   "source": [
    "match_3.groups()"
   ]
  },
  {
   "cell_type": "code",
   "execution_count": 33,
   "id": "139c317d",
   "metadata": {},
   "outputs": [],
   "source": [
    "### Alternatively\n",
    "\n",
    "ph_regex_alt = re.compile(r'(\\d{3})-(\\d{3}-\\d{4})')\n"
   ]
  },
  {
   "cell_type": "code",
   "execution_count": 34,
   "id": "3f15f230",
   "metadata": {},
   "outputs": [],
   "source": [
    "match_2 = ph_regex_alt.search(ph_number)"
   ]
  },
  {
   "cell_type": "code",
   "execution_count": 35,
   "id": "76d4e6fb",
   "metadata": {},
   "outputs": [
    {
     "data": {
      "text/plain": [
       "('416', '444-2356')"
      ]
     },
     "execution_count": 35,
     "metadata": {},
     "output_type": "execute_result"
    }
   ],
   "source": [
    "match_2.groups()"
   ]
  },
  {
   "cell_type": "code",
   "execution_count": 36,
   "id": "2f18d59d",
   "metadata": {},
   "outputs": [],
   "source": [
    "ph_regex_group_2 = re.compile(r'(\\(\\d{3}\\))-(\\d{3}-\\d{4})')\n"
   ]
  },
  {
   "cell_type": "code",
   "execution_count": 37,
   "id": "8a50d438",
   "metadata": {},
   "outputs": [],
   "source": [
    "match_3 = ph_regex_group_2.search(ph_number_2)"
   ]
  },
  {
   "cell_type": "code",
   "execution_count": 38,
   "id": "e0e1cda4",
   "metadata": {},
   "outputs": [
    {
     "data": {
      "text/plain": [
       "('(416)', '444-2356')"
      ]
     },
     "execution_count": 38,
     "metadata": {},
     "output_type": "execute_result"
    }
   ],
   "source": [
    "match_3.groups()"
   ]
  },
  {
   "cell_type": "code",
   "execution_count": null,
   "id": "1ad5f194",
   "metadata": {},
   "outputs": [],
   "source": []
  },
  {
   "cell_type": "markdown",
   "id": "ab63d294",
   "metadata": {},
   "source": [
    "# Backreferences"
   ]
  },
  {
   "cell_type": "code",
   "execution_count": 57,
   "id": "ea1ba502",
   "metadata": {},
   "outputs": [],
   "source": [
    "some_string = 'Python Python is awesome awesome to learn! I I can do with all all day'"
   ]
  },
  {
   "cell_type": "code",
   "execution_count": 58,
   "id": "0a31dd06",
   "metadata": {},
   "outputs": [],
   "source": [
    "back_ref = re.compile(r'(\\w+)\\s+\\1\\b')"
   ]
  },
  {
   "cell_type": "code",
   "execution_count": 60,
   "id": "1b5452bf",
   "metadata": {},
   "outputs": [
    {
     "data": {
      "text/plain": [
       "['Python', 'awesome', 'I', 'all']"
      ]
     },
     "execution_count": 60,
     "metadata": {},
     "output_type": "execute_result"
    }
   ],
   "source": [
    "back_ref.findall(some_string)"
   ]
  },
  {
   "cell_type": "code",
   "execution_count": 61,
   "id": "a6636901",
   "metadata": {},
   "outputs": [],
   "source": [
    "### hightlight function\n",
    "\n",
    "import re\n",
    "from colorama import Back, Style\n",
    "\n",
    "\n",
    "def highlight_regex_matches(pattern, text, print_output=True):\n",
    "    output = text\n",
    "    len_inc = 0\n",
    "    for match in pattern.finditer(text):\n",
    "        start, end = match.start() + len_inc, match.end() + len_inc\n",
    "        output = output[:start] + Back.YELLOW + Style.BRIGHT + output[start:end] + Style.RESET_ALL + output[end:]\n",
    "        len_inc = len(output) - len(text)  \n",
    "\n",
    "    if print_output:\n",
    "        print(output)\n",
    "    else:\n",
    "        return output"
   ]
  },
  {
   "cell_type": "code",
   "execution_count": 62,
   "id": "565d2eb3",
   "metadata": {},
   "outputs": [
    {
     "name": "stdout",
     "output_type": "stream",
     "text": [
      "\u001b[43m\u001b[1mPython Python\u001b[0m is \u001b[43m\u001b[1mawesome awesome\u001b[0m to learn! \u001b[43m\u001b[1mI I\u001b[0m can do with \u001b[43m\u001b[1mall all\u001b[0m day\n"
     ]
    }
   ],
   "source": [
    "highlight_regex_matches(back_ref, some_string)"
   ]
  },
  {
   "cell_type": "code",
   "execution_count": 65,
   "id": "2fd811df",
   "metadata": {},
   "outputs": [],
   "source": [
    "correction = re.sub(r'(\\w+)\\s+\\1\\b', r'\\1', some_string)"
   ]
  },
  {
   "cell_type": "code",
   "execution_count": 66,
   "id": "3a558854",
   "metadata": {},
   "outputs": [
    {
     "name": "stdout",
     "output_type": "stream",
     "text": [
      "Python is awesome to learn! I can do with all day\n"
     ]
    }
   ],
   "source": [
    "print(correction)"
   ]
  },
  {
   "cell_type": "code",
   "execution_count": null,
   "id": "ee6b7692",
   "metadata": {},
   "outputs": [],
   "source": []
  },
  {
   "cell_type": "markdown",
   "id": "52c9434b",
   "metadata": {},
   "source": [
    "# Alternations"
   ]
  },
  {
   "cell_type": "code",
   "execution_count": 67,
   "id": "b4415278",
   "metadata": {},
   "outputs": [],
   "source": [
    "german_proverb = 'Fear makes the wolf bigger than he is.'"
   ]
  },
  {
   "cell_type": "code",
   "execution_count": 73,
   "id": "ddb0f949",
   "metadata": {},
   "outputs": [],
   "source": [
    "# Finding 'Fear' and 'wolf'\n",
    "\n",
    "pattern = re.compile('Fear|wolf')\n",
    "\n",
    "\n"
   ]
  },
  {
   "cell_type": "code",
   "execution_count": 74,
   "id": "eb4f9d68",
   "metadata": {},
   "outputs": [
    {
     "data": {
      "text/plain": [
       "['Fear', 'wolf']"
      ]
     },
     "execution_count": 74,
     "metadata": {},
     "output_type": "execute_result"
    }
   ],
   "source": [
    "pattern.findall(german_proverb)"
   ]
  },
  {
   "cell_type": "code",
   "execution_count": 75,
   "id": "cfcc2a5d",
   "metadata": {},
   "outputs": [
    {
     "name": "stdout",
     "output_type": "stream",
     "text": [
      "\u001b[43m\u001b[1mFear\u001b[0m makes the \u001b[43m\u001b[1mwolf\u001b[0m bigger than he is.\n"
     ]
    }
   ],
   "source": [
    "highlight_regex_matches(pattern, german_proverb)"
   ]
  },
  {
   "cell_type": "code",
   "execution_count": 76,
   "id": "c1e45650",
   "metadata": {},
   "outputs": [],
   "source": [
    "african_proverb = 'No matter how hot your anger is, it cannot cook yams.'"
   ]
  },
  {
   "cell_type": "code",
   "execution_count": 77,
   "id": "d991ad0c",
   "metadata": {},
   "outputs": [],
   "source": [
    "#finding 'hot', 'anger', 'cook', 'yams'\n",
    "\n",
    "word_match = re.compile('hot|anger|cook|yams')"
   ]
  },
  {
   "cell_type": "code",
   "execution_count": 78,
   "id": "d4601b0a",
   "metadata": {},
   "outputs": [
    {
     "name": "stdout",
     "output_type": "stream",
     "text": [
      "No matter how \u001b[43m\u001b[1mhot\u001b[0m your \u001b[43m\u001b[1manger\u001b[0m is, it cannot \u001b[43m\u001b[1mcook\u001b[0m \u001b[43m\u001b[1myams\u001b[0m.\n"
     ]
    }
   ],
   "source": [
    "highlight_regex_matches(word_match, african_proverb)"
   ]
  },
  {
   "cell_type": "code",
   "execution_count": null,
   "id": "f5f666eb",
   "metadata": {},
   "outputs": [],
   "source": []
  },
  {
   "cell_type": "markdown",
   "id": "be9a8251",
   "metadata": {},
   "source": [
    "# Anchors"
   ]
  },
  {
   "cell_type": "code",
   "execution_count": null,
   "id": "0c6ee91d",
   "metadata": {},
   "outputs": [],
   "source": [
    "# '^' '$'"
   ]
  },
  {
   "cell_type": "code",
   "execution_count": 79,
   "id": "f6480f17",
   "metadata": {},
   "outputs": [],
   "source": [
    "african_proverb_2 = 'Only a fool tests the depth of a river with both feet'\n",
    "\n",
    "match = re.search(r'^\\w+', african_proverb_2)"
   ]
  },
  {
   "cell_type": "code",
   "execution_count": 80,
   "id": "040dcdf7",
   "metadata": {},
   "outputs": [
    {
     "data": {
      "text/plain": [
       "'Only'"
      ]
     },
     "execution_count": 80,
     "metadata": {},
     "output_type": "execute_result"
    }
   ],
   "source": [
    "match.group()"
   ]
  },
  {
   "cell_type": "code",
   "execution_count": 81,
   "id": "b274e706",
   "metadata": {},
   "outputs": [],
   "source": [
    "match_2 = re.search(r'\\w+$', african_proverb_2)"
   ]
  },
  {
   "cell_type": "code",
   "execution_count": 82,
   "id": "fadfa612",
   "metadata": {},
   "outputs": [
    {
     "data": {
      "text/plain": [
       "'feet'"
      ]
     },
     "execution_count": 82,
     "metadata": {},
     "output_type": "execute_result"
    }
   ],
   "source": [
    "match_2.group()"
   ]
  },
  {
   "cell_type": "code",
   "execution_count": 89,
   "id": "ac3f4018",
   "metadata": {},
   "outputs": [],
   "source": [
    "pop_proverb = 'barking dogs, seldom bite'\n",
    "\n",
    "match = re.search(r'^dogs', pop_proverb)"
   ]
  },
  {
   "cell_type": "code",
   "execution_count": 90,
   "id": "efd2624c",
   "metadata": {},
   "outputs": [
    {
     "ename": "AttributeError",
     "evalue": "'NoneType' object has no attribute 'group'",
     "output_type": "error",
     "traceback": [
      "\u001b[1;31m---------------------------------------------------------------------------\u001b[0m",
      "\u001b[1;31mAttributeError\u001b[0m                            Traceback (most recent call last)",
      "\u001b[1;32m<ipython-input-90-bf08e9dfb841>\u001b[0m in \u001b[0;36m<module>\u001b[1;34m\u001b[0m\n\u001b[1;32m----> 1\u001b[1;33m \u001b[0mmatch\u001b[0m\u001b[1;33m.\u001b[0m\u001b[0mgroup\u001b[0m\u001b[1;33m(\u001b[0m\u001b[1;33m)\u001b[0m\u001b[1;33m\u001b[0m\u001b[1;33m\u001b[0m\u001b[0m\n\u001b[0m",
      "\u001b[1;31mAttributeError\u001b[0m: 'NoneType' object has no attribute 'group'"
     ]
    }
   ],
   "source": [
    "match.group()"
   ]
  },
  {
   "cell_type": "markdown",
   "id": "74ea1ae6",
   "metadata": {},
   "source": [
    "# Global and Return"
   ]
  },
  {
   "cell_type": "code",
   "execution_count": 1,
   "id": "2091eb9d",
   "metadata": {},
   "outputs": [
    {
     "name": "stdout",
     "output_type": "stream",
     "text": [
      "Inside add(): 6\n",
      "In main:  6\n"
     ]
    }
   ],
   "source": [
    "c = 2 #global variable\n",
    "\n",
    "def add():\n",
    "    global c\n",
    "    \n",
    "    c = c+4 \n",
    "    print('Inside add():', c)\n",
    "    \n",
    "add()\n",
    "print('In main: ', c)"
   ]
  },
  {
   "cell_type": "markdown",
   "id": "74a9316e",
   "metadata": {},
   "source": [
    "# Multiple Return Values"
   ]
  },
  {
   "cell_type": "code",
   "execution_count": 2,
   "id": "88f17829",
   "metadata": {},
   "outputs": [],
   "source": [
    "def customer():\n",
    "    name='Boris'\n",
    "    cell=8146589\n",
    "    state='FL'\n",
    "    \n",
    "    return (name, cell, state)"
   ]
  },
  {
   "cell_type": "code",
   "execution_count": 3,
   "id": "a113bb1b",
   "metadata": {},
   "outputs": [],
   "source": [
    "customer_name, customer_cell, customer_state = customer()"
   ]
  },
  {
   "cell_type": "code",
   "execution_count": 4,
   "id": "afe01e6c",
   "metadata": {},
   "outputs": [
    {
     "data": {
      "text/plain": [
       "('Boris', 8146589, 'FL')"
      ]
     },
     "execution_count": 4,
     "metadata": {},
     "output_type": "execute_result"
    }
   ],
   "source": [
    "customer()"
   ]
  },
  {
   "cell_type": "code",
   "execution_count": 5,
   "id": "1a7ba4a6",
   "metadata": {},
   "outputs": [
    {
     "data": {
      "text/plain": [
       "'Boris'"
      ]
     },
     "execution_count": 5,
     "metadata": {},
     "output_type": "execute_result"
    }
   ],
   "source": [
    "customer_name"
   ]
  },
  {
   "cell_type": "code",
   "execution_count": 6,
   "id": "4bd2e463",
   "metadata": {},
   "outputs": [
    {
     "data": {
      "text/plain": [
       "8146589"
      ]
     },
     "execution_count": 6,
     "metadata": {},
     "output_type": "execute_result"
    }
   ],
   "source": [
    "customer_cell"
   ]
  },
  {
   "cell_type": "code",
   "execution_count": 7,
   "id": "1178404c",
   "metadata": {},
   "outputs": [
    {
     "data": {
      "text/plain": [
       "'FL'"
      ]
     },
     "execution_count": 7,
     "metadata": {},
     "output_type": "execute_result"
    }
   ],
   "source": [
    "customer_state"
   ]
  },
  {
   "cell_type": "markdown",
   "id": "32d0ec9b",
   "metadata": {},
   "source": [
    "# Mutation "
   ]
  },
  {
   "cell_type": "code",
   "execution_count": 8,
   "id": "37dfbfb6",
   "metadata": {},
   "outputs": [],
   "source": [
    "tuple1 = (1,3,5,7)"
   ]
  },
  {
   "cell_type": "code",
   "execution_count": 9,
   "id": "3425441e",
   "metadata": {},
   "outputs": [
    {
     "data": {
      "text/plain": [
       "(1, 3, 5, 7)"
      ]
     },
     "execution_count": 9,
     "metadata": {},
     "output_type": "execute_result"
    }
   ],
   "source": [
    "tuple1"
   ]
  },
  {
   "cell_type": "code",
   "execution_count": 10,
   "id": "164deabe",
   "metadata": {},
   "outputs": [
    {
     "ename": "TypeError",
     "evalue": "'type' object does not support item assignment",
     "output_type": "error",
     "traceback": [
      "\u001b[1;31m---------------------------------------------------------------------------\u001b[0m",
      "\u001b[1;31mTypeError\u001b[0m                                 Traceback (most recent call last)",
      "\u001b[1;32m<ipython-input-10-bcf9423fc70e>\u001b[0m in \u001b[0;36m<module>\u001b[1;34m\u001b[0m\n\u001b[1;32m----> 1\u001b[1;33m \u001b[0mtuple\u001b[0m\u001b[1;33m[\u001b[0m\u001b[1;36m4\u001b[0m\u001b[1;33m]\u001b[0m \u001b[1;33m=\u001b[0m \u001b[1;36m9\u001b[0m\u001b[1;33m\u001b[0m\u001b[1;33m\u001b[0m\u001b[0m\n\u001b[0m",
      "\u001b[1;31mTypeError\u001b[0m: 'type' object does not support item assignment"
     ]
    }
   ],
   "source": [
    "tuple[4] = 9"
   ]
  },
  {
   "cell_type": "code",
   "execution_count": 11,
   "id": "233b4f75",
   "metadata": {},
   "outputs": [
    {
     "ename": "TypeError",
     "evalue": "'type' object does not support item assignment",
     "output_type": "error",
     "traceback": [
      "\u001b[1;31m---------------------------------------------------------------------------\u001b[0m",
      "\u001b[1;31mTypeError\u001b[0m                                 Traceback (most recent call last)",
      "\u001b[1;32m<ipython-input-11-26cbfdf7ca86>\u001b[0m in \u001b[0;36m<module>\u001b[1;34m\u001b[0m\n\u001b[1;32m----> 1\u001b[1;33m \u001b[0mtuple\u001b[0m\u001b[1;33m[\u001b[0m\u001b[1;36m1\u001b[0m\u001b[1;33m]\u001b[0m \u001b[1;33m=\u001b[0m \u001b[1;36m4\u001b[0m\u001b[1;33m\u001b[0m\u001b[1;33m\u001b[0m\u001b[0m\n\u001b[0m",
      "\u001b[1;31mTypeError\u001b[0m: 'type' object does not support item assignment"
     ]
    }
   ],
   "source": [
    "tuple[1] = 4 "
   ]
  },
  {
   "cell_type": "code",
   "execution_count": 12,
   "id": "8afde6ce",
   "metadata": {},
   "outputs": [],
   "source": [
    "#lists \n",
    "\n",
    "my_list = [2,4,6,8]"
   ]
  },
  {
   "cell_type": "code",
   "execution_count": 13,
   "id": "57fba158",
   "metadata": {},
   "outputs": [],
   "source": [
    "my_list.append(10)"
   ]
  },
  {
   "cell_type": "code",
   "execution_count": 14,
   "id": "b2ccd751",
   "metadata": {},
   "outputs": [
    {
     "data": {
      "text/plain": [
       "[2, 4, 6, 8, 10]"
      ]
     },
     "execution_count": 14,
     "metadata": {},
     "output_type": "execute_result"
    }
   ],
   "source": [
    "my_list"
   ]
  },
  {
   "cell_type": "code",
   "execution_count": 15,
   "id": "3542f9d8",
   "metadata": {},
   "outputs": [],
   "source": [
    "my_list[1] = 11"
   ]
  },
  {
   "cell_type": "code",
   "execution_count": 16,
   "id": "7d2d3e4c",
   "metadata": {},
   "outputs": [
    {
     "data": {
      "text/plain": [
       "[2, 11, 6, 8, 10]"
      ]
     },
     "execution_count": 16,
     "metadata": {},
     "output_type": "execute_result"
    }
   ],
   "source": [
    "my_list"
   ]
  },
  {
   "cell_type": "markdown",
   "id": "00865484",
   "metadata": {},
   "source": [
    "# Slots"
   ]
  },
  {
   "cell_type": "code",
   "execution_count": 38,
   "id": "ccda78d0",
   "metadata": {},
   "outputs": [],
   "source": [
    "#normal class\n",
    "\n",
    "class Ford:\n",
    "    pass\n"
   ]
  },
  {
   "cell_type": "code",
   "execution_count": 39,
   "id": "44d40e4a",
   "metadata": {},
   "outputs": [],
   "source": [
    "edge = Ford()"
   ]
  },
  {
   "cell_type": "code",
   "execution_count": 40,
   "id": "41c89c63",
   "metadata": {},
   "outputs": [
    {
     "data": {
      "text/plain": [
       "{}"
      ]
     },
     "execution_count": 40,
     "metadata": {},
     "output_type": "execute_result"
    }
   ],
   "source": [
    "edge.__dict__"
   ]
  },
  {
   "cell_type": "code",
   "execution_count": 41,
   "id": "50210a25",
   "metadata": {},
   "outputs": [],
   "source": [
    "edge.top_speed = 260\n",
    "edge.color = 'Red'"
   ]
  },
  {
   "cell_type": "code",
   "execution_count": 42,
   "id": "a72af8a4",
   "metadata": {},
   "outputs": [
    {
     "data": {
      "text/plain": [
       "260"
      ]
     },
     "execution_count": 42,
     "metadata": {},
     "output_type": "execute_result"
    }
   ],
   "source": [
    "edge.top_speed"
   ]
  },
  {
   "cell_type": "code",
   "execution_count": 43,
   "id": "dedf937d",
   "metadata": {},
   "outputs": [
    {
     "data": {
      "text/plain": [
       "'Red'"
      ]
     },
     "execution_count": 43,
     "metadata": {},
     "output_type": "execute_result"
    }
   ],
   "source": [
    "edge.color"
   ]
  },
  {
   "cell_type": "code",
   "execution_count": 44,
   "id": "0a4f25b7",
   "metadata": {},
   "outputs": [
    {
     "data": {
      "text/plain": [
       "{'top_speed': 260, 'color': 'Red'}"
      ]
     },
     "execution_count": 44,
     "metadata": {},
     "output_type": "execute_result"
    }
   ],
   "source": [
    "edge.__dict__"
   ]
  },
  {
   "cell_type": "code",
   "execution_count": 52,
   "id": "a62d00f3",
   "metadata": {},
   "outputs": [],
   "source": [
    "edge.transmission = 'automatic'"
   ]
  },
  {
   "cell_type": "code",
   "execution_count": 53,
   "id": "4b0d7832",
   "metadata": {},
   "outputs": [
    {
     "data": {
      "text/plain": [
       "{'top_speed': 260, 'color': 'Red', 'transmission': 'automatic'}"
      ]
     },
     "execution_count": 53,
     "metadata": {},
     "output_type": "execute_result"
    }
   ],
   "source": [
    "edge.__dict__"
   ]
  },
  {
   "cell_type": "code",
   "execution_count": 45,
   "id": "9c531e8b",
   "metadata": {},
   "outputs": [],
   "source": [
    "# slots\n",
    "\n",
    "class Toyota:\n",
    "    __slots__ = ('Transmission', 'Number_of_doors')"
   ]
  },
  {
   "cell_type": "code",
   "execution_count": 46,
   "id": "4c535995",
   "metadata": {},
   "outputs": [],
   "source": [
    "corolla = Toyota()"
   ]
  },
  {
   "cell_type": "code",
   "execution_count": 47,
   "id": "797267fb",
   "metadata": {},
   "outputs": [
    {
     "data": {
      "text/plain": [
       "('Transmission', 'Number_of_doors')"
      ]
     },
     "execution_count": 47,
     "metadata": {},
     "output_type": "execute_result"
    }
   ],
   "source": [
    "corolla.__slots__"
   ]
  },
  {
   "cell_type": "code",
   "execution_count": 58,
   "id": "11ef68f6",
   "metadata": {},
   "outputs": [
    {
     "ename": "AttributeError",
     "evalue": "'Toyota' object has no attribute '__dict__'",
     "output_type": "error",
     "traceback": [
      "\u001b[1;31m---------------------------------------------------------------------------\u001b[0m",
      "\u001b[1;31mAttributeError\u001b[0m                            Traceback (most recent call last)",
      "\u001b[1;32m<ipython-input-58-c722a79f89a5>\u001b[0m in \u001b[0;36m<module>\u001b[1;34m\u001b[0m\n\u001b[1;32m----> 1\u001b[1;33m \u001b[0mcorolla\u001b[0m\u001b[1;33m.\u001b[0m\u001b[0m__dict__\u001b[0m\u001b[1;33m\u001b[0m\u001b[1;33m\u001b[0m\u001b[0m\n\u001b[0m",
      "\u001b[1;31mAttributeError\u001b[0m: 'Toyota' object has no attribute '__dict__'"
     ]
    }
   ],
   "source": [
    "corolla.__dict__"
   ]
  },
  {
   "cell_type": "code",
   "execution_count": 48,
   "id": "3272a4e7",
   "metadata": {},
   "outputs": [],
   "source": [
    "corolla.Transmission = 'Automatic'\n",
    "corolla.Number_of_doors = 4"
   ]
  },
  {
   "cell_type": "code",
   "execution_count": 49,
   "id": "adbf775f",
   "metadata": {},
   "outputs": [
    {
     "data": {
      "text/plain": [
       "'Automatic'"
      ]
     },
     "execution_count": 49,
     "metadata": {},
     "output_type": "execute_result"
    }
   ],
   "source": [
    "corolla.Transmission"
   ]
  },
  {
   "cell_type": "code",
   "execution_count": 50,
   "id": "e88b6f7f",
   "metadata": {},
   "outputs": [
    {
     "data": {
      "text/plain": [
       "4"
      ]
     },
     "execution_count": 50,
     "metadata": {},
     "output_type": "execute_result"
    }
   ],
   "source": [
    "corolla.Number_of_doors"
   ]
  },
  {
   "cell_type": "code",
   "execution_count": 51,
   "id": "fe02524b",
   "metadata": {},
   "outputs": [
    {
     "ename": "AttributeError",
     "evalue": "'Toyota' object has no attribute 'air_conditioning'",
     "output_type": "error",
     "traceback": [
      "\u001b[1;31m---------------------------------------------------------------------------\u001b[0m",
      "\u001b[1;31mAttributeError\u001b[0m                            Traceback (most recent call last)",
      "\u001b[1;32m<ipython-input-51-2cc5e95c4152>\u001b[0m in \u001b[0;36m<module>\u001b[1;34m\u001b[0m\n\u001b[1;32m----> 1\u001b[1;33m \u001b[0mcorolla\u001b[0m\u001b[1;33m.\u001b[0m\u001b[0mair_conditioning\u001b[0m \u001b[1;33m=\u001b[0m \u001b[1;34m'Yes'\u001b[0m\u001b[1;33m\u001b[0m\u001b[1;33m\u001b[0m\u001b[0m\n\u001b[0m",
      "\u001b[1;31mAttributeError\u001b[0m: 'Toyota' object has no attribute 'air_conditioning'"
     ]
    }
   ],
   "source": [
    "corolla.air_conditioning = 'Yes'"
   ]
  },
  {
   "cell_type": "code",
   "execution_count": 54,
   "id": "f6d5dd62",
   "metadata": {},
   "outputs": [],
   "source": [
    "class Kia:\n",
    "    __slots__ = ('Transmission','number_of_door', '__dict__')"
   ]
  },
  {
   "cell_type": "code",
   "execution_count": 55,
   "id": "1d38a6f2",
   "metadata": {},
   "outputs": [],
   "source": [
    "optima = Kia()"
   ]
  },
  {
   "cell_type": "code",
   "execution_count": 56,
   "id": "b5fe0091",
   "metadata": {},
   "outputs": [
    {
     "data": {
      "text/plain": [
       "('Transmission', 'number_of_door', '__dict__')"
      ]
     },
     "execution_count": 56,
     "metadata": {},
     "output_type": "execute_result"
    }
   ],
   "source": [
    "optima.__slots__"
   ]
  },
  {
   "cell_type": "code",
   "execution_count": 57,
   "id": "cd4988ba",
   "metadata": {},
   "outputs": [
    {
     "data": {
      "text/plain": [
       "{}"
      ]
     },
     "execution_count": 57,
     "metadata": {},
     "output_type": "execute_result"
    }
   ],
   "source": [
    "optima.__dict__"
   ]
  },
  {
   "cell_type": "code",
   "execution_count": 59,
   "id": "f564fc9e",
   "metadata": {},
   "outputs": [],
   "source": [
    "# Inheritance"
   ]
  },
  {
   "cell_type": "code",
   "execution_count": 60,
   "id": "e4169f51",
   "metadata": {},
   "outputs": [],
   "source": [
    "class Lexus(Toyota):\n",
    "    pass"
   ]
  },
  {
   "cell_type": "code",
   "execution_count": 61,
   "id": "12cad673",
   "metadata": {},
   "outputs": [],
   "source": [
    "is_250 = Lexus()"
   ]
  },
  {
   "cell_type": "code",
   "execution_count": 62,
   "id": "38435787",
   "metadata": {},
   "outputs": [
    {
     "data": {
      "text/plain": [
       "('Transmission', 'Number_of_doors')"
      ]
     },
     "execution_count": 62,
     "metadata": {},
     "output_type": "execute_result"
    }
   ],
   "source": [
    "is_250.__slots__"
   ]
  },
  {
   "cell_type": "code",
   "execution_count": 63,
   "id": "93bec0bc",
   "metadata": {},
   "outputs": [
    {
     "data": {
      "text/plain": [
       "{}"
      ]
     },
     "execution_count": 63,
     "metadata": {},
     "output_type": "execute_result"
    }
   ],
   "source": [
    "is_250.__dict__"
   ]
  },
  {
   "cell_type": "code",
   "execution_count": 64,
   "id": "086c5bbf",
   "metadata": {},
   "outputs": [],
   "source": [
    "is_250.Transmission = 'Manual'\n",
    "is_250.Number_of_doors = 2"
   ]
  },
  {
   "cell_type": "code",
   "execution_count": 66,
   "id": "95f20648",
   "metadata": {},
   "outputs": [
    {
     "data": {
      "text/plain": [
       "'Manual'"
      ]
     },
     "execution_count": 66,
     "metadata": {},
     "output_type": "execute_result"
    }
   ],
   "source": [
    "is_250.Transmission"
   ]
  },
  {
   "cell_type": "code",
   "execution_count": 67,
   "id": "1fc8df35",
   "metadata": {},
   "outputs": [
    {
     "data": {
      "text/plain": [
       "2"
      ]
     },
     "execution_count": 67,
     "metadata": {},
     "output_type": "execute_result"
    }
   ],
   "source": [
    "is_250.Number_of_doors"
   ]
  },
  {
   "cell_type": "code",
   "execution_count": 69,
   "id": "08ce2fff",
   "metadata": {},
   "outputs": [],
   "source": [
    "is_250.air_conditioning = 'Yes'"
   ]
  },
  {
   "cell_type": "code",
   "execution_count": 70,
   "id": "d26da923",
   "metadata": {},
   "outputs": [
    {
     "data": {
      "text/plain": [
       "{'air_conditioning': 'Yes'}"
      ]
     },
     "execution_count": 70,
     "metadata": {},
     "output_type": "execute_result"
    }
   ],
   "source": [
    "is_250.__dict__"
   ]
  },
  {
   "cell_type": "markdown",
   "id": "d743f463",
   "metadata": {},
   "source": [
    "# Virtual Environments"
   ]
  },
  {
   "cell_type": "code",
   "execution_count": 74,
   "id": "6eee9833",
   "metadata": {},
   "outputs": [],
   "source": [
    "import pandas as pd"
   ]
  },
  {
   "cell_type": "code",
   "execution_count": 75,
   "id": "582d2980",
   "metadata": {},
   "outputs": [
    {
     "data": {
      "text/plain": [
       "'1.2.4'"
      ]
     },
     "execution_count": 75,
     "metadata": {},
     "output_type": "execute_result"
    }
   ],
   "source": [
    "pd.__version__"
   ]
  },
  {
   "cell_type": "code",
   "execution_count": null,
   "id": "84b16f72",
   "metadata": {},
   "outputs": [],
   "source": []
  },
  {
   "cell_type": "markdown",
   "id": "c3ba2437",
   "metadata": {},
   "source": [
    "# Collections"
   ]
  },
  {
   "cell_type": "markdown",
   "id": "163ef13f",
   "metadata": {},
   "source": [
    "### Default Dictionaries"
   ]
  },
  {
   "cell_type": "code",
   "execution_count": 76,
   "id": "dc1ed74d",
   "metadata": {},
   "outputs": [],
   "source": [
    "normal_dict = {}"
   ]
  },
  {
   "cell_type": "code",
   "execution_count": 77,
   "id": "0e2c835a",
   "metadata": {},
   "outputs": [
    {
     "data": {
      "text/plain": [
       "{}"
      ]
     },
     "execution_count": 77,
     "metadata": {},
     "output_type": "execute_result"
    }
   ],
   "source": [
    "normal_dict"
   ]
  },
  {
   "cell_type": "code",
   "execution_count": 78,
   "id": "2d39ef0e",
   "metadata": {},
   "outputs": [
    {
     "ename": "KeyError",
     "evalue": "'key'",
     "output_type": "error",
     "traceback": [
      "\u001b[1;31m---------------------------------------------------------------------------\u001b[0m",
      "\u001b[1;31mKeyError\u001b[0m                                  Traceback (most recent call last)",
      "\u001b[1;32m<ipython-input-78-b752ee25dd27>\u001b[0m in \u001b[0;36m<module>\u001b[1;34m\u001b[0m\n\u001b[1;32m----> 1\u001b[1;33m \u001b[0mnormal_dict\u001b[0m\u001b[1;33m[\u001b[0m\u001b[1;34m'key'\u001b[0m\u001b[1;33m]\u001b[0m\u001b[1;33m\u001b[0m\u001b[1;33m\u001b[0m\u001b[0m\n\u001b[0m",
      "\u001b[1;31mKeyError\u001b[0m: 'key'"
     ]
    }
   ],
   "source": [
    "normal_dict['key']"
   ]
  },
  {
   "cell_type": "code",
   "execution_count": 79,
   "id": "02df7a4e",
   "metadata": {},
   "outputs": [],
   "source": [
    "from collections import defaultdict"
   ]
  },
  {
   "cell_type": "code",
   "execution_count": 81,
   "id": "72b6cd57",
   "metadata": {},
   "outputs": [],
   "source": [
    "dd_dict = defaultdict(lambda:100)"
   ]
  },
  {
   "cell_type": "code",
   "execution_count": 82,
   "id": "d4e0a0a2",
   "metadata": {},
   "outputs": [
    {
     "data": {
      "text/plain": [
       "defaultdict(<function __main__.<lambda>()>, {})"
      ]
     },
     "execution_count": 82,
     "metadata": {},
     "output_type": "execute_result"
    }
   ],
   "source": [
    "dd_dict"
   ]
  },
  {
   "cell_type": "code",
   "execution_count": 83,
   "id": "efc85f60",
   "metadata": {},
   "outputs": [
    {
     "data": {
      "text/plain": [
       "100"
      ]
     },
     "execution_count": 83,
     "metadata": {},
     "output_type": "execute_result"
    }
   ],
   "source": [
    "dd_dict['key']"
   ]
  },
  {
   "cell_type": "code",
   "execution_count": 84,
   "id": "756e631a",
   "metadata": {},
   "outputs": [
    {
     "data": {
      "text/plain": [
       "100"
      ]
     },
     "execution_count": 84,
     "metadata": {},
     "output_type": "execute_result"
    }
   ],
   "source": [
    "dd_dict['key_1']"
   ]
  },
  {
   "cell_type": "code",
   "execution_count": 85,
   "id": "3fd501ea",
   "metadata": {},
   "outputs": [
    {
     "data": {
      "text/plain": [
       "defaultdict(<function __main__.<lambda>()>, {'key': 100, 'key_1': 100})"
      ]
     },
     "execution_count": 85,
     "metadata": {},
     "output_type": "execute_result"
    }
   ],
   "source": [
    "dd_dict"
   ]
  },
  {
   "cell_type": "code",
   "execution_count": null,
   "id": "8495a08d",
   "metadata": {},
   "outputs": [],
   "source": [
    "## passing builtin types"
   ]
  },
  {
   "cell_type": "code",
   "execution_count": 86,
   "id": "e8c11457",
   "metadata": {},
   "outputs": [],
   "source": [
    "int_dict = defaultdict(int)\n",
    "\n",
    "f_dict = defaultdict(float)\n",
    "\n",
    "str_dict = defaultdict(str)"
   ]
  },
  {
   "cell_type": "code",
   "execution_count": 87,
   "id": "0a18249b",
   "metadata": {},
   "outputs": [
    {
     "data": {
      "text/plain": [
       "defaultdict(int, {})"
      ]
     },
     "execution_count": 87,
     "metadata": {},
     "output_type": "execute_result"
    }
   ],
   "source": [
    "int_dict"
   ]
  },
  {
   "cell_type": "code",
   "execution_count": 88,
   "id": "95613dc0",
   "metadata": {},
   "outputs": [
    {
     "data": {
      "text/plain": [
       "0"
      ]
     },
     "execution_count": 88,
     "metadata": {},
     "output_type": "execute_result"
    }
   ],
   "source": [
    "int_dict['first']"
   ]
  },
  {
   "cell_type": "code",
   "execution_count": 89,
   "id": "18f67511",
   "metadata": {},
   "outputs": [
    {
     "data": {
      "text/plain": [
       "defaultdict(int, {'first': 0})"
      ]
     },
     "execution_count": 89,
     "metadata": {},
     "output_type": "execute_result"
    }
   ],
   "source": [
    "int_dict"
   ]
  },
  {
   "cell_type": "code",
   "execution_count": 90,
   "id": "d8030e6e",
   "metadata": {},
   "outputs": [
    {
     "data": {
      "text/plain": [
       "0"
      ]
     },
     "execution_count": 90,
     "metadata": {},
     "output_type": "execute_result"
    }
   ],
   "source": [
    "int_dict['second']"
   ]
  },
  {
   "cell_type": "code",
   "execution_count": 91,
   "id": "0c45289a",
   "metadata": {},
   "outputs": [
    {
     "data": {
      "text/plain": [
       "defaultdict(int, {'first': 0, 'second': 0})"
      ]
     },
     "execution_count": 91,
     "metadata": {},
     "output_type": "execute_result"
    }
   ],
   "source": [
    "int_dict"
   ]
  },
  {
   "cell_type": "code",
   "execution_count": 92,
   "id": "28bdab27",
   "metadata": {},
   "outputs": [
    {
     "data": {
      "text/plain": [
       "defaultdict(float, {})"
      ]
     },
     "execution_count": 92,
     "metadata": {},
     "output_type": "execute_result"
    }
   ],
   "source": [
    "f_dict"
   ]
  },
  {
   "cell_type": "code",
   "execution_count": 93,
   "id": "efdc049f",
   "metadata": {},
   "outputs": [
    {
     "data": {
      "text/plain": [
       "0.0"
      ]
     },
     "execution_count": 93,
     "metadata": {},
     "output_type": "execute_result"
    }
   ],
   "source": [
    "f_dict['first']"
   ]
  },
  {
   "cell_type": "code",
   "execution_count": 94,
   "id": "9160370e",
   "metadata": {},
   "outputs": [
    {
     "data": {
      "text/plain": [
       "0.0"
      ]
     },
     "execution_count": 94,
     "metadata": {},
     "output_type": "execute_result"
    }
   ],
   "source": [
    "f_dict['second']"
   ]
  },
  {
   "cell_type": "code",
   "execution_count": 95,
   "id": "7cb0f9a2",
   "metadata": {},
   "outputs": [
    {
     "data": {
      "text/plain": [
       "defaultdict(float, {'first': 0.0, 'second': 0.0})"
      ]
     },
     "execution_count": 95,
     "metadata": {},
     "output_type": "execute_result"
    }
   ],
   "source": [
    "f_dict"
   ]
  },
  {
   "cell_type": "code",
   "execution_count": 96,
   "id": "d7f163e2",
   "metadata": {},
   "outputs": [
    {
     "data": {
      "text/plain": [
       "defaultdict(str, {})"
      ]
     },
     "execution_count": 96,
     "metadata": {},
     "output_type": "execute_result"
    }
   ],
   "source": [
    "str_dict"
   ]
  },
  {
   "cell_type": "code",
   "execution_count": 97,
   "id": "2197e450",
   "metadata": {},
   "outputs": [
    {
     "data": {
      "text/plain": [
       "''"
      ]
     },
     "execution_count": 97,
     "metadata": {},
     "output_type": "execute_result"
    }
   ],
   "source": [
    "str_dict['first']"
   ]
  },
  {
   "cell_type": "code",
   "execution_count": 98,
   "id": "b00aca9f",
   "metadata": {},
   "outputs": [
    {
     "data": {
      "text/plain": [
       "''"
      ]
     },
     "execution_count": 98,
     "metadata": {},
     "output_type": "execute_result"
    }
   ],
   "source": [
    "str_dict['second']"
   ]
  },
  {
   "cell_type": "code",
   "execution_count": 99,
   "id": "1eee3bad",
   "metadata": {},
   "outputs": [
    {
     "data": {
      "text/plain": [
       "defaultdict(str, {'first': '', 'second': ''})"
      ]
     },
     "execution_count": 99,
     "metadata": {},
     "output_type": "execute_result"
    }
   ],
   "source": [
    "str_dict"
   ]
  },
  {
   "cell_type": "code",
   "execution_count": 100,
   "id": "7430aac2",
   "metadata": {},
   "outputs": [],
   "source": [
    "## list defaultdict"
   ]
  },
  {
   "cell_type": "code",
   "execution_count": 101,
   "id": "5152d1d8",
   "metadata": {},
   "outputs": [],
   "source": [
    "list_dict = defaultdict(list)"
   ]
  },
  {
   "cell_type": "code",
   "execution_count": 102,
   "id": "bee4b0f3",
   "metadata": {},
   "outputs": [
    {
     "data": {
      "text/plain": [
       "defaultdict(list, {})"
      ]
     },
     "execution_count": 102,
     "metadata": {},
     "output_type": "execute_result"
    }
   ],
   "source": [
    "list_dict"
   ]
  },
  {
   "cell_type": "code",
   "execution_count": 103,
   "id": "66539fc1",
   "metadata": {},
   "outputs": [
    {
     "data": {
      "text/plain": [
       "[]"
      ]
     },
     "execution_count": 103,
     "metadata": {},
     "output_type": "execute_result"
    }
   ],
   "source": [
    "list_dict['key']"
   ]
  },
  {
   "cell_type": "code",
   "execution_count": 104,
   "id": "0395f0c1",
   "metadata": {},
   "outputs": [
    {
     "data": {
      "text/plain": [
       "defaultdict(list, {'key': []})"
      ]
     },
     "execution_count": 104,
     "metadata": {},
     "output_type": "execute_result"
    }
   ],
   "source": [
    "list_dict"
   ]
  },
  {
   "cell_type": "code",
   "execution_count": 105,
   "id": "89530851",
   "metadata": {},
   "outputs": [],
   "source": [
    "list_dict['key'].append('Value 1')"
   ]
  },
  {
   "cell_type": "code",
   "execution_count": 106,
   "id": "e9f9b3c0",
   "metadata": {},
   "outputs": [
    {
     "data": {
      "text/plain": [
       "defaultdict(list, {'key': ['Value 1']})"
      ]
     },
     "execution_count": 106,
     "metadata": {},
     "output_type": "execute_result"
    }
   ],
   "source": [
    "list_dict"
   ]
  },
  {
   "cell_type": "code",
   "execution_count": 107,
   "id": "2ebd4a70",
   "metadata": {},
   "outputs": [],
   "source": [
    "list_dict['key 2'].append('Value 2')"
   ]
  },
  {
   "cell_type": "code",
   "execution_count": 108,
   "id": "98e2107b",
   "metadata": {},
   "outputs": [
    {
     "data": {
      "text/plain": [
       "defaultdict(list, {'key': ['Value 1'], 'key 2': ['Value 2']})"
      ]
     },
     "execution_count": 108,
     "metadata": {},
     "output_type": "execute_result"
    }
   ],
   "source": [
    "list_dict"
   ]
  },
  {
   "cell_type": "code",
   "execution_count": 109,
   "id": "9be2826f",
   "metadata": {},
   "outputs": [],
   "source": [
    "colours = (\n",
    "    ('Anne', 'Blue'),\n",
    "    ('Becky', 'Red'),\n",
    "    ('Charles', 'Green'),\n",
    "    ('Doug', 'Yellow'),\n",
    ")"
   ]
  },
  {
   "cell_type": "code",
   "execution_count": 110,
   "id": "bc9c97ec",
   "metadata": {},
   "outputs": [],
   "source": [
    "fav_color = defaultdict(list)"
   ]
  },
  {
   "cell_type": "code",
   "execution_count": 111,
   "id": "6d79c958",
   "metadata": {},
   "outputs": [
    {
     "data": {
      "text/plain": [
       "defaultdict(list, {})"
      ]
     },
     "execution_count": 111,
     "metadata": {},
     "output_type": "execute_result"
    }
   ],
   "source": [
    "fav_color"
   ]
  },
  {
   "cell_type": "code",
   "execution_count": 112,
   "id": "6b89b619",
   "metadata": {},
   "outputs": [],
   "source": [
    "for name, color in colours:\n",
    "    fav_color[name].append(color)"
   ]
  },
  {
   "cell_type": "code",
   "execution_count": 113,
   "id": "9042bc31",
   "metadata": {},
   "outputs": [
    {
     "data": {
      "text/plain": [
       "defaultdict(list,\n",
       "            {'Anne': ['Blue'],\n",
       "             'Becky': ['Red'],\n",
       "             'Charles': ['Green'],\n",
       "             'Doug': ['Yellow']})"
      ]
     },
     "execution_count": 113,
     "metadata": {},
     "output_type": "execute_result"
    }
   ],
   "source": [
    "fav_color"
   ]
  },
  {
   "cell_type": "code",
   "execution_count": 114,
   "id": "7d054a54",
   "metadata": {},
   "outputs": [],
   "source": [
    "## tuples\n",
    "\n",
    "tup_dict = defaultdict(tuple)"
   ]
  },
  {
   "cell_type": "code",
   "execution_count": 115,
   "id": "335105cc",
   "metadata": {},
   "outputs": [
    {
     "data": {
      "text/plain": [
       "defaultdict(tuple, {})"
      ]
     },
     "execution_count": 115,
     "metadata": {},
     "output_type": "execute_result"
    }
   ],
   "source": [
    "tup_dict"
   ]
  },
  {
   "cell_type": "code",
   "execution_count": 116,
   "id": "5b8980ef",
   "metadata": {},
   "outputs": [
    {
     "data": {
      "text/plain": [
       "()"
      ]
     },
     "execution_count": 116,
     "metadata": {},
     "output_type": "execute_result"
    }
   ],
   "source": [
    "tup_dict['key']"
   ]
  },
  {
   "cell_type": "code",
   "execution_count": 117,
   "id": "94cb47f4",
   "metadata": {},
   "outputs": [
    {
     "data": {
      "text/plain": [
       "defaultdict(tuple, {'key': ()})"
      ]
     },
     "execution_count": 117,
     "metadata": {},
     "output_type": "execute_result"
    }
   ],
   "source": [
    "tup_dict"
   ]
  },
  {
   "cell_type": "code",
   "execution_count": 118,
   "id": "04304e65",
   "metadata": {},
   "outputs": [],
   "source": [
    "tup_dict['key'] = (1,2,3,4,5)"
   ]
  },
  {
   "cell_type": "code",
   "execution_count": 119,
   "id": "399111b8",
   "metadata": {},
   "outputs": [
    {
     "data": {
      "text/plain": [
       "defaultdict(tuple, {'key': (1, 2, 3, 4, 5)})"
      ]
     },
     "execution_count": 119,
     "metadata": {},
     "output_type": "execute_result"
    }
   ],
   "source": [
    "tup_dict"
   ]
  },
  {
   "cell_type": "code",
   "execution_count": 120,
   "id": "f0296534",
   "metadata": {},
   "outputs": [],
   "source": [
    "## dictionary"
   ]
  },
  {
   "cell_type": "code",
   "execution_count": 121,
   "id": "23ae9ea0",
   "metadata": {},
   "outputs": [],
   "source": [
    "d_dict = defaultdict(dict)"
   ]
  },
  {
   "cell_type": "code",
   "execution_count": 122,
   "id": "30156b27",
   "metadata": {},
   "outputs": [
    {
     "data": {
      "text/plain": [
       "defaultdict(dict, {})"
      ]
     },
     "execution_count": 122,
     "metadata": {},
     "output_type": "execute_result"
    }
   ],
   "source": [
    "d_dict"
   ]
  },
  {
   "cell_type": "code",
   "execution_count": 123,
   "id": "850dc561",
   "metadata": {},
   "outputs": [
    {
     "data": {
      "text/plain": [
       "{}"
      ]
     },
     "execution_count": 123,
     "metadata": {},
     "output_type": "execute_result"
    }
   ],
   "source": [
    "d_dict['key']"
   ]
  },
  {
   "cell_type": "code",
   "execution_count": 124,
   "id": "1558c18b",
   "metadata": {},
   "outputs": [
    {
     "data": {
      "text/plain": [
       "defaultdict(dict, {'key': {}})"
      ]
     },
     "execution_count": 124,
     "metadata": {},
     "output_type": "execute_result"
    }
   ],
   "source": [
    "d_dict"
   ]
  },
  {
   "cell_type": "code",
   "execution_count": 125,
   "id": "6ceec528",
   "metadata": {},
   "outputs": [],
   "source": [
    "d_dict['key']= ({'Sam : Hello'})"
   ]
  },
  {
   "cell_type": "code",
   "execution_count": 126,
   "id": "473f29fb",
   "metadata": {},
   "outputs": [
    {
     "data": {
      "text/plain": [
       "defaultdict(dict, {'key': {'Sam : Hello'}})"
      ]
     },
     "execution_count": 126,
     "metadata": {},
     "output_type": "execute_result"
    }
   ],
   "source": [
    "d_dict"
   ]
  },
  {
   "cell_type": "markdown",
   "id": "e6f4aa58",
   "metadata": {},
   "source": [
    "# Ordered Dictionaries"
   ]
  },
  {
   "cell_type": "code",
   "execution_count": 131,
   "id": "7e25d216",
   "metadata": {},
   "outputs": [],
   "source": [
    "colours = {'Red': 100, 'Blue': 200, 'Green': 300}"
   ]
  },
  {
   "cell_type": "code",
   "execution_count": 132,
   "id": "cc45fe11",
   "metadata": {},
   "outputs": [
    {
     "name": "stdout",
     "output_type": "stream",
     "text": [
      "Red 100\n",
      "Blue 200\n",
      "Green 300\n"
     ]
    }
   ],
   "source": [
    "for key, value in colours.items():\n",
    "    print(key, value)"
   ]
  },
  {
   "cell_type": "code",
   "execution_count": 133,
   "id": "09acd703",
   "metadata": {},
   "outputs": [
    {
     "name": "stdout",
     "output_type": "stream",
     "text": [
      "This is a Dict:\n",
      "\n",
      "a 1\n",
      "b 2\n",
      "c 3\n",
      "d 4\n",
      "\n",
      "This is an Ordered Dict:\n",
      "\n",
      "a 1\n",
      "b 2\n",
      "c 3\n",
      "d 4\n"
     ]
    }
   ],
   "source": [
    "# A Python program to demonstrate working of OrderedDict\n",
    "from collections import OrderedDict\n",
    " \n",
    "print(\"This is a Dict:\\n\")\n",
    "d = {}\n",
    "d['a'] = 1\n",
    "d['b'] = 2\n",
    "d['c'] = 3\n",
    "d['d'] = 4\n",
    " \n",
    "for key, value in d.items():\n",
    "    print(key, value)\n",
    " \n",
    "print(\"\\nThis is an Ordered Dict:\\n\")\n",
    "od = OrderedDict()\n",
    "od['a'] = 1\n",
    "od['b'] = 2\n",
    "od['c'] = 3\n",
    "od['d'] = 4\n",
    " \n",
    "for key, value in od.items():\n",
    "    print(key, value)"
   ]
  },
  {
   "cell_type": "markdown",
   "id": "a96997a4",
   "metadata": {},
   "source": [
    "# Counter"
   ]
  },
  {
   "cell_type": "code",
   "execution_count": 135,
   "id": "571a5d29",
   "metadata": {},
   "outputs": [],
   "source": [
    "from collections import Counter"
   ]
  },
  {
   "cell_type": "code",
   "execution_count": 136,
   "id": "f85b0342",
   "metadata": {},
   "outputs": [],
   "source": [
    "colours = (\n",
    "    ('Anne', 'Blue'),\n",
    "    ('Becky', 'Red'),\n",
    "    ('Charles', 'Green'),\n",
    "    ('Doug', 'Yellow'),\n",
    "    ('Anne', 'Indigo'),\n",
    "    ('Doug', 'Purple')\n",
    ")"
   ]
  },
  {
   "cell_type": "code",
   "execution_count": 140,
   "id": "4f2aa090",
   "metadata": {},
   "outputs": [],
   "source": [
    "fav = [name for name, colour in colours]"
   ]
  },
  {
   "cell_type": "code",
   "execution_count": 141,
   "id": "57c47f83",
   "metadata": {},
   "outputs": [
    {
     "data": {
      "text/plain": [
       "['Anne', 'Becky', 'Charles', 'Doug', 'Anne', 'Doug']"
      ]
     },
     "execution_count": 141,
     "metadata": {},
     "output_type": "execute_result"
    }
   ],
   "source": [
    "fav"
   ]
  },
  {
   "cell_type": "code",
   "execution_count": 142,
   "id": "9f629775",
   "metadata": {},
   "outputs": [
    {
     "data": {
      "text/plain": [
       "Counter({'Anne': 2, 'Becky': 1, 'Charles': 1, 'Doug': 2})"
      ]
     },
     "execution_count": 142,
     "metadata": {},
     "output_type": "execute_result"
    }
   ],
   "source": [
    "Counter(fav)"
   ]
  },
  {
   "cell_type": "markdown",
   "id": "fc41c84f",
   "metadata": {},
   "source": [
    "# Deque"
   ]
  },
  {
   "cell_type": "code",
   "execution_count": 1,
   "id": "d511059a",
   "metadata": {},
   "outputs": [],
   "source": [
    "from collections import deque"
   ]
  },
  {
   "cell_type": "code",
   "execution_count": 2,
   "id": "62c55e34",
   "metadata": {},
   "outputs": [],
   "source": [
    "deq = deque('Hello')"
   ]
  },
  {
   "cell_type": "code",
   "execution_count": 3,
   "id": "e8e4920b",
   "metadata": {},
   "outputs": [
    {
     "data": {
      "text/plain": [
       "deque(['H', 'e', 'l', 'l', 'o'])"
      ]
     },
     "execution_count": 3,
     "metadata": {},
     "output_type": "execute_result"
    }
   ],
   "source": [
    "deq"
   ]
  },
  {
   "cell_type": "code",
   "execution_count": 4,
   "id": "35ccde3c",
   "metadata": {},
   "outputs": [],
   "source": [
    "#append()\n",
    "\n",
    "deq.append(4)"
   ]
  },
  {
   "cell_type": "code",
   "execution_count": 5,
   "id": "af47f683",
   "metadata": {},
   "outputs": [
    {
     "data": {
      "text/plain": [
       "deque(['H', 'e', 'l', 'l', 'o', 4])"
      ]
     },
     "execution_count": 5,
     "metadata": {},
     "output_type": "execute_result"
    }
   ],
   "source": [
    "deq"
   ]
  },
  {
   "cell_type": "code",
   "execution_count": 6,
   "id": "c316485d",
   "metadata": {},
   "outputs": [],
   "source": [
    "#appendleft()\n",
    "deq.appendleft(5)"
   ]
  },
  {
   "cell_type": "code",
   "execution_count": 7,
   "id": "fd014a95",
   "metadata": {},
   "outputs": [
    {
     "data": {
      "text/plain": [
       "deque([5, 'H', 'e', 'l', 'l', 'o', 4])"
      ]
     },
     "execution_count": 7,
     "metadata": {},
     "output_type": "execute_result"
    }
   ],
   "source": [
    "deq"
   ]
  },
  {
   "cell_type": "code",
   "execution_count": 8,
   "id": "5eed1656",
   "metadata": {},
   "outputs": [
    {
     "data": {
      "text/plain": [
       "4"
      ]
     },
     "execution_count": 8,
     "metadata": {},
     "output_type": "execute_result"
    }
   ],
   "source": [
    "#pop()\n",
    "\n",
    "deq.pop()"
   ]
  },
  {
   "cell_type": "code",
   "execution_count": 9,
   "id": "801da713",
   "metadata": {},
   "outputs": [
    {
     "data": {
      "text/plain": [
       "deque([5, 'H', 'e', 'l', 'l', 'o'])"
      ]
     },
     "execution_count": 9,
     "metadata": {},
     "output_type": "execute_result"
    }
   ],
   "source": [
    "deq"
   ]
  },
  {
   "cell_type": "code",
   "execution_count": 10,
   "id": "069bc044",
   "metadata": {},
   "outputs": [
    {
     "data": {
      "text/plain": [
       "deque([5, 'H', 'e', 'l', 'l'])"
      ]
     },
     "execution_count": 10,
     "metadata": {},
     "output_type": "execute_result"
    }
   ],
   "source": [
    "deq.pop()\n",
    "\n",
    "deq"
   ]
  },
  {
   "cell_type": "code",
   "execution_count": 11,
   "id": "6fd796fe",
   "metadata": {},
   "outputs": [
    {
     "data": {
      "text/plain": [
       "5"
      ]
     },
     "execution_count": 11,
     "metadata": {},
     "output_type": "execute_result"
    }
   ],
   "source": [
    "#popleft()\n",
    "\n",
    "deq.popleft()"
   ]
  },
  {
   "cell_type": "code",
   "execution_count": 12,
   "id": "0cd364a8",
   "metadata": {},
   "outputs": [
    {
     "data": {
      "text/plain": [
       "deque(['H', 'e', 'l', 'l'])"
      ]
     },
     "execution_count": 12,
     "metadata": {},
     "output_type": "execute_result"
    }
   ],
   "source": [
    "deq"
   ]
  },
  {
   "cell_type": "code",
   "execution_count": 13,
   "id": "f35e093e",
   "metadata": {},
   "outputs": [],
   "source": [
    "#extend()\n",
    "\n",
    "\n",
    "deq.extend([4,6,7,8,100])"
   ]
  },
  {
   "cell_type": "code",
   "execution_count": 14,
   "id": "bc260d23",
   "metadata": {},
   "outputs": [
    {
     "data": {
      "text/plain": [
       "deque(['H', 'e', 'l', 'l', 4, 6, 7, 8, 100])"
      ]
     },
     "execution_count": 14,
     "metadata": {},
     "output_type": "execute_result"
    }
   ],
   "source": [
    "deq"
   ]
  },
  {
   "cell_type": "code",
   "execution_count": 15,
   "id": "fedb9232",
   "metadata": {},
   "outputs": [
    {
     "data": {
      "text/plain": [
       "deque(['H', 'e', 'l', 'l', 4, 6, 7, 8, 100, 'H', 'e', 'y'])"
      ]
     },
     "execution_count": 15,
     "metadata": {},
     "output_type": "execute_result"
    }
   ],
   "source": [
    "deq.extend('Hey')\n",
    "\n",
    "deq"
   ]
  },
  {
   "cell_type": "code",
   "execution_count": 16,
   "id": "692086ab",
   "metadata": {},
   "outputs": [
    {
     "data": {
      "text/plain": [
       "deque(['Hi', 'H', 'e', 'l', 'l', 4, 6, 7, 8, 100, 'H', 'e', 'y'])"
      ]
     },
     "execution_count": 16,
     "metadata": {},
     "output_type": "execute_result"
    }
   ],
   "source": [
    "#extendleft()\n",
    "\n",
    "deq.extendleft(['Hi'])\n",
    "\n",
    "deq"
   ]
  },
  {
   "cell_type": "code",
   "execution_count": 17,
   "id": "1e03f791",
   "metadata": {},
   "outputs": [
    {
     "data": {
      "text/plain": [
       "'Hi'"
      ]
     },
     "execution_count": 17,
     "metadata": {},
     "output_type": "execute_result"
    }
   ],
   "source": [
    "deq.popleft()"
   ]
  },
  {
   "cell_type": "code",
   "execution_count": 18,
   "id": "01ef49bc",
   "metadata": {},
   "outputs": [
    {
     "data": {
      "text/plain": [
       "deque(['H', 'e', 'l', 'l', 4, 6, 7, 8, 100, 'H', 'e', 'y'])"
      ]
     },
     "execution_count": 18,
     "metadata": {},
     "output_type": "execute_result"
    }
   ],
   "source": [
    "deq"
   ]
  },
  {
   "cell_type": "code",
   "execution_count": 19,
   "id": "1bb61ca8",
   "metadata": {},
   "outputs": [
    {
     "data": {
      "text/plain": [
       "deque(['i', 'H', 'H', 'e', 'l', 'l', 4, 6, 7, 8, 100, 'H', 'e', 'y'])"
      ]
     },
     "execution_count": 19,
     "metadata": {},
     "output_type": "execute_result"
    }
   ],
   "source": [
    "deq.extendleft('Hi')\n",
    "\n",
    "deq"
   ]
  },
  {
   "cell_type": "code",
   "execution_count": 20,
   "id": "2a265911",
   "metadata": {},
   "outputs": [],
   "source": [
    "dq = deque([1,2,3,4,5,6,7,8,9,10])"
   ]
  },
  {
   "cell_type": "code",
   "execution_count": 21,
   "id": "b30ae2f6",
   "metadata": {},
   "outputs": [
    {
     "data": {
      "text/plain": [
       "deque([1, 2, 3, 4, 5, 6, 7, 8, 9, 10])"
      ]
     },
     "execution_count": 21,
     "metadata": {},
     "output_type": "execute_result"
    }
   ],
   "source": [
    "dq"
   ]
  },
  {
   "cell_type": "code",
   "execution_count": 22,
   "id": "414732a1",
   "metadata": {},
   "outputs": [
    {
     "data": {
      "text/plain": [
       "deque([10, 1, 2, 3, 4, 5, 6, 7, 8, 9])"
      ]
     },
     "execution_count": 22,
     "metadata": {},
     "output_type": "execute_result"
    }
   ],
   "source": [
    "#rotate()\n",
    "\n",
    "dq.rotate()\n",
    "\n",
    "dq"
   ]
  },
  {
   "cell_type": "code",
   "execution_count": 23,
   "id": "fbac0c02",
   "metadata": {},
   "outputs": [
    {
     "data": {
      "text/plain": [
       "deque([8, 9, 10, 1, 2, 3, 4, 5, 6, 7])"
      ]
     },
     "execution_count": 23,
     "metadata": {},
     "output_type": "execute_result"
    }
   ],
   "source": [
    "dq.rotate(2)\n",
    "\n",
    "dq"
   ]
  },
  {
   "cell_type": "code",
   "execution_count": 24,
   "id": "d3712c3e",
   "metadata": {},
   "outputs": [
    {
     "data": {
      "text/plain": [
       "deque([9, 10, 1, 2, 3, 4, 5, 6, 7, 8])"
      ]
     },
     "execution_count": 24,
     "metadata": {},
     "output_type": "execute_result"
    }
   ],
   "source": [
    "dq.rotate(-1)\n",
    "\n",
    "dq"
   ]
  },
  {
   "cell_type": "code",
   "execution_count": 25,
   "id": "fcadd99c",
   "metadata": {},
   "outputs": [
    {
     "data": {
      "text/plain": [
       "deque([1, 2, 3, 4, 5, 6, 7, 8, 9, 10])"
      ]
     },
     "execution_count": 25,
     "metadata": {},
     "output_type": "execute_result"
    }
   ],
   "source": [
    "dq.rotate(-2)\n",
    "\n",
    "dq"
   ]
  },
  {
   "cell_type": "code",
   "execution_count": 26,
   "id": "e7d3e328",
   "metadata": {},
   "outputs": [
    {
     "data": {
      "text/plain": [
       "deque([10, 9, 8, 7, 6, 5, 4, 3, 2, 1])"
      ]
     },
     "execution_count": 26,
     "metadata": {},
     "output_type": "execute_result"
    }
   ],
   "source": [
    "#reverse()\n",
    "\n",
    "dq.reverse()\n",
    "\n",
    "dq"
   ]
  },
  {
   "cell_type": "code",
   "execution_count": null,
   "id": "58ef6538",
   "metadata": {},
   "outputs": [],
   "source": []
  },
  {
   "cell_type": "markdown",
   "id": "89a104bf",
   "metadata": {},
   "source": [
    "# Named Tuple"
   ]
  },
  {
   "cell_type": "code",
   "execution_count": 27,
   "id": "bf099f13",
   "metadata": {},
   "outputs": [],
   "source": [
    "colour = (55, 100, 8)\n",
    "\n"
   ]
  },
  {
   "cell_type": "code",
   "execution_count": 28,
   "id": "407c4273",
   "metadata": {},
   "outputs": [
    {
     "data": {
      "text/plain": [
       "55"
      ]
     },
     "execution_count": 28,
     "metadata": {},
     "output_type": "execute_result"
    }
   ],
   "source": [
    "colour[0]"
   ]
  },
  {
   "cell_type": "code",
   "execution_count": 30,
   "id": "64726e29",
   "metadata": {},
   "outputs": [
    {
     "data": {
      "text/plain": [
       "55"
      ]
     },
     "execution_count": 30,
     "metadata": {},
     "output_type": "execute_result"
    }
   ],
   "source": [
    "colour_dict = {'red': 55, 'green': 100, 'blue': 8}\n",
    "\n",
    "colour_dict['red']"
   ]
  },
  {
   "cell_type": "code",
   "execution_count": 31,
   "id": "ab5ee956",
   "metadata": {},
   "outputs": [],
   "source": [
    "from collections import namedtuple"
   ]
  },
  {
   "cell_type": "code",
   "execution_count": 32,
   "id": "c7a34a2b",
   "metadata": {},
   "outputs": [],
   "source": [
    "Color = namedtuple('Color', 'red green blue')"
   ]
  },
  {
   "cell_type": "code",
   "execution_count": 33,
   "id": "2853cc4c",
   "metadata": {},
   "outputs": [],
   "source": [
    "Color_1 = namedtuple('Color', ['red', 'green', 'blue'])"
   ]
  },
  {
   "cell_type": "code",
   "execution_count": 34,
   "id": "bff21c75",
   "metadata": {},
   "outputs": [],
   "source": [
    "color = Color(55, 100, 8)"
   ]
  },
  {
   "cell_type": "code",
   "execution_count": 35,
   "id": "f7c89ded",
   "metadata": {},
   "outputs": [
    {
     "data": {
      "text/plain": [
       "55"
      ]
     },
     "execution_count": 35,
     "metadata": {},
     "output_type": "execute_result"
    }
   ],
   "source": [
    "color[0]"
   ]
  },
  {
   "cell_type": "code",
   "execution_count": 36,
   "id": "30db2269",
   "metadata": {},
   "outputs": [
    {
     "data": {
      "text/plain": [
       "55"
      ]
     },
     "execution_count": 36,
     "metadata": {},
     "output_type": "execute_result"
    }
   ],
   "source": [
    "color.red"
   ]
  },
  {
   "cell_type": "code",
   "execution_count": 37,
   "id": "44185d5c",
   "metadata": {},
   "outputs": [],
   "source": [
    "color_1 = Color_1(55, 100, 8)"
   ]
  },
  {
   "cell_type": "code",
   "execution_count": 38,
   "id": "73514e79",
   "metadata": {},
   "outputs": [
    {
     "data": {
      "text/plain": [
       "55"
      ]
     },
     "execution_count": 38,
     "metadata": {},
     "output_type": "execute_result"
    }
   ],
   "source": [
    "color_1[0]"
   ]
  },
  {
   "cell_type": "code",
   "execution_count": 39,
   "id": "40dbcc0d",
   "metadata": {},
   "outputs": [
    {
     "data": {
      "text/plain": [
       "55"
      ]
     },
     "execution_count": 39,
     "metadata": {},
     "output_type": "execute_result"
    }
   ],
   "source": [
    "color_1.red"
   ]
  },
  {
   "cell_type": "code",
   "execution_count": 40,
   "id": "13f44696",
   "metadata": {},
   "outputs": [],
   "source": [
    "color = Color(red=55, green=100, blue=8)"
   ]
  },
  {
   "cell_type": "code",
   "execution_count": 41,
   "id": "acd6a055",
   "metadata": {},
   "outputs": [
    {
     "data": {
      "text/plain": [
       "55"
      ]
     },
     "execution_count": 41,
     "metadata": {},
     "output_type": "execute_result"
    }
   ],
   "source": [
    "color.red"
   ]
  },
  {
   "cell_type": "code",
   "execution_count": 42,
   "id": "060b8407",
   "metadata": {},
   "outputs": [],
   "source": [
    "Customer  = namedtuple('Customer', 'Name, Age, ZipCode')\n",
    "\n",
    "c1 = Customer('Chris', '29', '32828')"
   ]
  },
  {
   "cell_type": "code",
   "execution_count": 43,
   "id": "b19c791f",
   "metadata": {},
   "outputs": [
    {
     "data": {
      "text/plain": [
       "'Chris'"
      ]
     },
     "execution_count": 43,
     "metadata": {},
     "output_type": "execute_result"
    }
   ],
   "source": [
    "c1.Name"
   ]
  },
  {
   "cell_type": "code",
   "execution_count": 44,
   "id": "8f5014a4",
   "metadata": {},
   "outputs": [
    {
     "data": {
      "text/plain": [
       "'Chris'"
      ]
     },
     "execution_count": 44,
     "metadata": {},
     "output_type": "execute_result"
    }
   ],
   "source": [
    "c1[0]"
   ]
  },
  {
   "cell_type": "markdown",
   "id": "05093727",
   "metadata": {},
   "source": [
    "# Enum"
   ]
  },
  {
   "cell_type": "code",
   "execution_count": 45,
   "id": "b00c40e6",
   "metadata": {},
   "outputs": [],
   "source": [
    "from enum import Enum"
   ]
  },
  {
   "cell_type": "code",
   "execution_count": 46,
   "id": "3089b48a",
   "metadata": {},
   "outputs": [],
   "source": [
    "class Part(Enum):\n",
    "    engine = 1\n",
    "    transmission = 2\n",
    "    clutch = 3\n",
    "    \n",
    "    motor = 1\n",
    "    trans = 2\n",
    "    \n",
    "\n",
    "PartNeeds = namedtuple('PartNeeds', 'price, type')\n",
    "\n",
    "Nissan = PartNeeds(price=100, type=Part.clutch)\n",
    "Chevrolet = PartNeeds(price=4000, type=Part.motor)\n",
    "Ford = PartNeeds(price=3000,  type=Part.engine)\n",
    "    "
   ]
  },
  {
   "cell_type": "code",
   "execution_count": 47,
   "id": "2be184b0",
   "metadata": {},
   "outputs": [
    {
     "data": {
      "text/plain": [
       "True"
      ]
     },
     "execution_count": 47,
     "metadata": {},
     "output_type": "execute_result"
    }
   ],
   "source": [
    "Chevrolet.type == Ford.type"
   ]
  },
  {
   "cell_type": "code",
   "execution_count": 48,
   "id": "30c38763",
   "metadata": {},
   "outputs": [
    {
     "data": {
      "text/plain": [
       "<Part.engine: 1>"
      ]
     },
     "execution_count": 48,
     "metadata": {},
     "output_type": "execute_result"
    }
   ],
   "source": [
    "Chevrolet.type"
   ]
  },
  {
   "cell_type": "code",
   "execution_count": 49,
   "id": "0910237c",
   "metadata": {},
   "outputs": [
    {
     "ename": "TypeError",
     "evalue": "Attempted to reuse key: 'clutch'",
     "output_type": "error",
     "traceback": [
      "\u001b[1;31m---------------------------------------------------------------------------\u001b[0m",
      "\u001b[1;31mTypeError\u001b[0m                                 Traceback (most recent call last)",
      "\u001b[1;32m<ipython-input-49-93ea56e9d4c1>\u001b[0m in \u001b[0;36m<module>\u001b[1;34m\u001b[0m\n\u001b[1;32m----> 1\u001b[1;33m \u001b[1;32mclass\u001b[0m \u001b[0mPart\u001b[0m\u001b[1;33m(\u001b[0m\u001b[0mEnum\u001b[0m\u001b[1;33m)\u001b[0m\u001b[1;33m:\u001b[0m\u001b[1;33m\u001b[0m\u001b[1;33m\u001b[0m\u001b[0m\n\u001b[0m\u001b[0;32m      2\u001b[0m     \u001b[0mengine\u001b[0m \u001b[1;33m=\u001b[0m \u001b[1;36m1\u001b[0m\u001b[1;33m\u001b[0m\u001b[1;33m\u001b[0m\u001b[0m\n\u001b[0;32m      3\u001b[0m     \u001b[0mtransmission\u001b[0m \u001b[1;33m=\u001b[0m \u001b[1;36m2\u001b[0m\u001b[1;33m\u001b[0m\u001b[1;33m\u001b[0m\u001b[0m\n\u001b[0;32m      4\u001b[0m     \u001b[0mclutch\u001b[0m \u001b[1;33m=\u001b[0m \u001b[1;36m3\u001b[0m\u001b[1;33m\u001b[0m\u001b[1;33m\u001b[0m\u001b[0m\n\u001b[0;32m      5\u001b[0m \u001b[1;33m\u001b[0m\u001b[0m\n",
      "\u001b[1;32m<ipython-input-49-93ea56e9d4c1>\u001b[0m in \u001b[0;36mPart\u001b[1;34m()\u001b[0m\n\u001b[0;32m      6\u001b[0m     \u001b[0mmotor\u001b[0m \u001b[1;33m=\u001b[0m \u001b[1;36m1\u001b[0m\u001b[1;33m\u001b[0m\u001b[1;33m\u001b[0m\u001b[0m\n\u001b[0;32m      7\u001b[0m     \u001b[0mtrans\u001b[0m \u001b[1;33m=\u001b[0m \u001b[1;36m2\u001b[0m\u001b[1;33m\u001b[0m\u001b[1;33m\u001b[0m\u001b[0m\n\u001b[1;32m----> 8\u001b[1;33m     \u001b[0mclutch\u001b[0m \u001b[1;33m=\u001b[0m \u001b[1;36m3\u001b[0m\u001b[1;33m\u001b[0m\u001b[1;33m\u001b[0m\u001b[0m\n\u001b[0m\u001b[0;32m      9\u001b[0m \u001b[1;33m\u001b[0m\u001b[0m\n\u001b[0;32m     10\u001b[0m \u001b[1;33m\u001b[0m\u001b[0m\n",
      "\u001b[1;32mC:\\ProgramData\\Anaconda3\\lib\\enum.py\u001b[0m in \u001b[0;36m__setitem__\u001b[1;34m(self, key, value)\u001b[0m\n\u001b[0;32m    110\u001b[0m         \u001b[1;32melif\u001b[0m \u001b[0mkey\u001b[0m \u001b[1;32min\u001b[0m \u001b[0mself\u001b[0m\u001b[1;33m.\u001b[0m\u001b[0m_member_names\u001b[0m\u001b[1;33m:\u001b[0m\u001b[1;33m\u001b[0m\u001b[1;33m\u001b[0m\u001b[0m\n\u001b[0;32m    111\u001b[0m             \u001b[1;31m# descriptor overwriting an enum?\u001b[0m\u001b[1;33m\u001b[0m\u001b[1;33m\u001b[0m\u001b[1;33m\u001b[0m\u001b[0m\n\u001b[1;32m--> 112\u001b[1;33m             \u001b[1;32mraise\u001b[0m \u001b[0mTypeError\u001b[0m\u001b[1;33m(\u001b[0m\u001b[1;34m'Attempted to reuse key: %r'\u001b[0m \u001b[1;33m%\u001b[0m \u001b[0mkey\u001b[0m\u001b[1;33m)\u001b[0m\u001b[1;33m\u001b[0m\u001b[1;33m\u001b[0m\u001b[0m\n\u001b[0m\u001b[0;32m    113\u001b[0m         \u001b[1;32melif\u001b[0m \u001b[0mkey\u001b[0m \u001b[1;32min\u001b[0m \u001b[0mself\u001b[0m\u001b[1;33m.\u001b[0m\u001b[0m_ignore\u001b[0m\u001b[1;33m:\u001b[0m\u001b[1;33m\u001b[0m\u001b[1;33m\u001b[0m\u001b[0m\n\u001b[0;32m    114\u001b[0m             \u001b[1;32mpass\u001b[0m\u001b[1;33m\u001b[0m\u001b[1;33m\u001b[0m\u001b[0m\n",
      "\u001b[1;31mTypeError\u001b[0m: Attempted to reuse key: 'clutch'"
     ]
    }
   ],
   "source": [
    "class Part(Enum):\n",
    "    engine = 1\n",
    "    transmission = 2\n",
    "    clutch = 3\n",
    "    \n",
    "    motor = 1\n",
    "    trans = 2\n",
    "    clutch = 3\n",
    "    \n",
    "\n",
    "PartNeeds = namedtuple('PartNeeds', 'price, type')\n",
    "\n",
    "Nissan = PartNeeds(price=100, type=Part.clutch)\n",
    "Chevrolet = PartNeeds(price=4000, type=Part.motor)\n",
    "Ford = PartNeeds(price=3000,  type=Part.engine)"
   ]
  },
  {
   "cell_type": "code",
   "execution_count": 50,
   "id": "4ba10d3e",
   "metadata": {},
   "outputs": [],
   "source": [
    "from enum import Enum, unique"
   ]
  },
  {
   "cell_type": "code",
   "execution_count": 51,
   "id": "90a1c906",
   "metadata": {},
   "outputs": [
    {
     "ename": "ValueError",
     "evalue": "duplicate values found in <enum 'Part'>: motor -> engine, trans -> transmission",
     "output_type": "error",
     "traceback": [
      "\u001b[1;31m---------------------------------------------------------------------------\u001b[0m",
      "\u001b[1;31mValueError\u001b[0m                                Traceback (most recent call last)",
      "\u001b[1;32m<ipython-input-51-f8b0b770e00e>\u001b[0m in \u001b[0;36m<module>\u001b[1;34m\u001b[0m\n\u001b[0;32m      1\u001b[0m \u001b[1;33m@\u001b[0m\u001b[0munique\u001b[0m\u001b[1;33m\u001b[0m\u001b[1;33m\u001b[0m\u001b[0m\n\u001b[1;32m----> 2\u001b[1;33m \u001b[1;32mclass\u001b[0m \u001b[0mPart\u001b[0m\u001b[1;33m(\u001b[0m\u001b[0mEnum\u001b[0m\u001b[1;33m)\u001b[0m\u001b[1;33m:\u001b[0m\u001b[1;33m\u001b[0m\u001b[1;33m\u001b[0m\u001b[0m\n\u001b[0m\u001b[0;32m      3\u001b[0m     \u001b[0mengine\u001b[0m \u001b[1;33m=\u001b[0m \u001b[1;36m1\u001b[0m\u001b[1;33m\u001b[0m\u001b[1;33m\u001b[0m\u001b[0m\n\u001b[0;32m      4\u001b[0m     \u001b[0mtransmission\u001b[0m \u001b[1;33m=\u001b[0m \u001b[1;36m2\u001b[0m\u001b[1;33m\u001b[0m\u001b[1;33m\u001b[0m\u001b[0m\n\u001b[0;32m      5\u001b[0m     \u001b[0mclutch\u001b[0m \u001b[1;33m=\u001b[0m \u001b[1;36m3\u001b[0m\u001b[1;33m\u001b[0m\u001b[1;33m\u001b[0m\u001b[0m\n",
      "\u001b[1;32mC:\\ProgramData\\Anaconda3\\lib\\enum.py\u001b[0m in \u001b[0;36munique\u001b[1;34m(enumeration)\u001b[0m\n\u001b[0;32m    967\u001b[0m         alias_details = ', '.join(\n\u001b[0;32m    968\u001b[0m                 [\"%s -> %s\" % (alias, name) for (alias, name) in duplicates])\n\u001b[1;32m--> 969\u001b[1;33m         raise ValueError('duplicate values found in %r: %s' %\n\u001b[0m\u001b[0;32m    970\u001b[0m                 (enumeration, alias_details))\n\u001b[0;32m    971\u001b[0m     \u001b[1;32mreturn\u001b[0m \u001b[0menumeration\u001b[0m\u001b[1;33m\u001b[0m\u001b[1;33m\u001b[0m\u001b[0m\n",
      "\u001b[1;31mValueError\u001b[0m: duplicate values found in <enum 'Part'>: motor -> engine, trans -> transmission"
     ]
    }
   ],
   "source": [
    "@unique\n",
    "class Part(Enum):\n",
    "    engine = 1\n",
    "    transmission = 2\n",
    "    clutch = 3\n",
    "    \n",
    "    motor = 1\n",
    "    trans = 2\n",
    "    \n",
    "\n",
    "PartNeeds = namedtuple('PartNeeds', 'price, type')\n",
    "\n",
    "Nissan = PartNeeds(price=100, type=Part.clutch)\n",
    "Chevrolet = PartNeeds(price=4000, type=Part.motor)\n",
    "Ford = PartNeeds(price=3000,  type=Part.engine)"
   ]
  },
  {
   "cell_type": "markdown",
   "id": "790f1776",
   "metadata": {},
   "source": [
    "# Zip & Unzip"
   ]
  },
  {
   "cell_type": "code",
   "execution_count": 52,
   "id": "b3b79bb8",
   "metadata": {},
   "outputs": [
    {
     "name": "stdout",
     "output_type": "stream",
     "text": [
      "[('Porsche', 'Cayman', 'Black', 2021), ('Mazda', 'Miata', 'Green', 2020), ('Toyota', 'Supra', 'Black', 1994), ('BMW', 'M5', 'Blue', 2006)]\n"
     ]
    }
   ],
   "source": [
    "Make = ['Porsche', 'Mazda', 'Toyota', 'BMW']\n",
    "\n",
    "Model = ['Cayman', 'Miata', 'Supra', 'M5']\n",
    "\n",
    "Color = ['Black','Green', 'Black', 'Blue']\n",
    "\n",
    "Year = [2021, 2020, 1994, 2006]\n",
    "\n",
    "\n",
    "print(list(zip(Make, Model, Color, Year)))"
   ]
  },
  {
   "cell_type": "code",
   "execution_count": 53,
   "id": "d3a85a42",
   "metadata": {},
   "outputs": [],
   "source": [
    "Car_list = list(zip(Make, Model, Color, Year))"
   ]
  },
  {
   "cell_type": "code",
   "execution_count": 54,
   "id": "258b91dd",
   "metadata": {},
   "outputs": [
    {
     "data": {
      "text/plain": [
       "[('Porsche', 'Cayman', 'Black', 2021),\n",
       " ('Mazda', 'Miata', 'Green', 2020),\n",
       " ('Toyota', 'Supra', 'Black', 1994),\n",
       " ('BMW', 'M5', 'Blue', 2006)]"
      ]
     },
     "execution_count": 54,
     "metadata": {},
     "output_type": "execute_result"
    }
   ],
   "source": [
    "Car_list"
   ]
  },
  {
   "cell_type": "code",
   "execution_count": 55,
   "id": "f9b57062",
   "metadata": {},
   "outputs": [],
   "source": [
    "Make, Model, Color, Year = list(zip(*Car_list))"
   ]
  },
  {
   "cell_type": "code",
   "execution_count": 56,
   "id": "2b366931",
   "metadata": {},
   "outputs": [
    {
     "name": "stdout",
     "output_type": "stream",
     "text": [
      "('Porsche', 'Mazda', 'Toyota', 'BMW')\n",
      "('Cayman', 'Miata', 'Supra', 'M5')\n",
      "('Black', 'Green', 'Black', 'Blue')\n",
      "(2021, 2020, 1994, 2006)\n"
     ]
    }
   ],
   "source": [
    "print(Make)\n",
    "print(Model)\n",
    "print(Color)\n",
    "print(Year)"
   ]
  },
  {
   "cell_type": "markdown",
   "id": "01840ff0",
   "metadata": {},
   "source": [
    "# Object Intropection\n",
    "\n",
    "### dir"
   ]
  },
  {
   "cell_type": "code",
   "execution_count": 1,
   "id": "ab57f9cf",
   "metadata": {},
   "outputs": [
    {
     "data": {
      "text/plain": [
       "['__add__',\n",
       " '__class__',\n",
       " '__contains__',\n",
       " '__delattr__',\n",
       " '__delitem__',\n",
       " '__dir__',\n",
       " '__doc__',\n",
       " '__eq__',\n",
       " '__format__',\n",
       " '__ge__',\n",
       " '__getattribute__',\n",
       " '__getitem__',\n",
       " '__gt__',\n",
       " '__hash__',\n",
       " '__iadd__',\n",
       " '__imul__',\n",
       " '__init__',\n",
       " '__init_subclass__',\n",
       " '__iter__',\n",
       " '__le__',\n",
       " '__len__',\n",
       " '__lt__',\n",
       " '__mul__',\n",
       " '__ne__',\n",
       " '__new__',\n",
       " '__reduce__',\n",
       " '__reduce_ex__',\n",
       " '__repr__',\n",
       " '__reversed__',\n",
       " '__rmul__',\n",
       " '__setattr__',\n",
       " '__setitem__',\n",
       " '__sizeof__',\n",
       " '__str__',\n",
       " '__subclasshook__',\n",
       " 'append',\n",
       " 'clear',\n",
       " 'copy',\n",
       " 'count',\n",
       " 'extend',\n",
       " 'index',\n",
       " 'insert',\n",
       " 'pop',\n",
       " 'remove',\n",
       " 'reverse',\n",
       " 'sort']"
      ]
     },
     "execution_count": 1,
     "metadata": {},
     "output_type": "execute_result"
    }
   ],
   "source": [
    "my_list = [1,2,3,4,5]\n",
    "\n",
    "dir(my_list)"
   ]
  },
  {
   "cell_type": "code",
   "execution_count": 2,
   "id": "caabb81d",
   "metadata": {},
   "outputs": [
    {
     "data": {
      "text/plain": [
       "['__class__',\n",
       " '__contains__',\n",
       " '__delattr__',\n",
       " '__delitem__',\n",
       " '__dir__',\n",
       " '__doc__',\n",
       " '__eq__',\n",
       " '__format__',\n",
       " '__ge__',\n",
       " '__getattribute__',\n",
       " '__getitem__',\n",
       " '__gt__',\n",
       " '__hash__',\n",
       " '__init__',\n",
       " '__init_subclass__',\n",
       " '__iter__',\n",
       " '__le__',\n",
       " '__len__',\n",
       " '__lt__',\n",
       " '__ne__',\n",
       " '__new__',\n",
       " '__reduce__',\n",
       " '__reduce_ex__',\n",
       " '__repr__',\n",
       " '__reversed__',\n",
       " '__setattr__',\n",
       " '__setitem__',\n",
       " '__sizeof__',\n",
       " '__str__',\n",
       " '__subclasshook__',\n",
       " 'clear',\n",
       " 'copy',\n",
       " 'fromkeys',\n",
       " 'get',\n",
       " 'items',\n",
       " 'keys',\n",
       " 'pop',\n",
       " 'popitem',\n",
       " 'setdefault',\n",
       " 'update',\n",
       " 'values']"
      ]
     },
     "execution_count": 2,
     "metadata": {},
     "output_type": "execute_result"
    }
   ],
   "source": [
    "my_dict = {}\n",
    "\n",
    "dir(my_dict)"
   ]
  },
  {
   "cell_type": "code",
   "execution_count": 3,
   "id": "fe11f810",
   "metadata": {},
   "outputs": [
    {
     "data": {
      "text/plain": [
       "['__add__',\n",
       " '__class__',\n",
       " '__contains__',\n",
       " '__delattr__',\n",
       " '__dir__',\n",
       " '__doc__',\n",
       " '__eq__',\n",
       " '__format__',\n",
       " '__ge__',\n",
       " '__getattribute__',\n",
       " '__getitem__',\n",
       " '__getnewargs__',\n",
       " '__gt__',\n",
       " '__hash__',\n",
       " '__init__',\n",
       " '__init_subclass__',\n",
       " '__iter__',\n",
       " '__le__',\n",
       " '__len__',\n",
       " '__lt__',\n",
       " '__mul__',\n",
       " '__ne__',\n",
       " '__new__',\n",
       " '__reduce__',\n",
       " '__reduce_ex__',\n",
       " '__repr__',\n",
       " '__rmul__',\n",
       " '__setattr__',\n",
       " '__sizeof__',\n",
       " '__str__',\n",
       " '__subclasshook__',\n",
       " 'count',\n",
       " 'index']"
      ]
     },
     "execution_count": 3,
     "metadata": {},
     "output_type": "execute_result"
    }
   ],
   "source": [
    "my_tup = ()\n",
    "\n",
    "dir(my_tup)"
   ]
  },
  {
   "cell_type": "code",
   "execution_count": 4,
   "id": "19cda010",
   "metadata": {},
   "outputs": [
    {
     "data": {
      "text/plain": [
       "['In',\n",
       " 'Out',\n",
       " '_',\n",
       " '_1',\n",
       " '_2',\n",
       " '_3',\n",
       " '__',\n",
       " '___',\n",
       " '__builtin__',\n",
       " '__builtins__',\n",
       " '__doc__',\n",
       " '__loader__',\n",
       " '__name__',\n",
       " '__package__',\n",
       " '__spec__',\n",
       " '_dh',\n",
       " '_i',\n",
       " '_i1',\n",
       " '_i2',\n",
       " '_i3',\n",
       " '_i4',\n",
       " '_ih',\n",
       " '_ii',\n",
       " '_iii',\n",
       " '_oh',\n",
       " 'exit',\n",
       " 'get_ipython',\n",
       " 'my_dict',\n",
       " 'my_list',\n",
       " 'my_tup',\n",
       " 'quit']"
      ]
     },
     "execution_count": 4,
     "metadata": {},
     "output_type": "execute_result"
    }
   ],
   "source": [
    "dir()"
   ]
  },
  {
   "cell_type": "markdown",
   "id": "e213b462",
   "metadata": {},
   "source": [
    "### type & id"
   ]
  },
  {
   "cell_type": "code",
   "execution_count": 5,
   "id": "d2554bca",
   "metadata": {},
   "outputs": [
    {
     "data": {
      "text/plain": [
       "str"
      ]
     },
     "execution_count": 5,
     "metadata": {},
     "output_type": "execute_result"
    }
   ],
   "source": [
    "type('')"
   ]
  },
  {
   "cell_type": "code",
   "execution_count": 6,
   "id": "5cdbc071",
   "metadata": {},
   "outputs": [
    {
     "data": {
      "text/plain": [
       "list"
      ]
     },
     "execution_count": 6,
     "metadata": {},
     "output_type": "execute_result"
    }
   ],
   "source": [
    "type([])"
   ]
  },
  {
   "cell_type": "code",
   "execution_count": 7,
   "id": "abb27ba6",
   "metadata": {},
   "outputs": [
    {
     "data": {
      "text/plain": [
       "dict"
      ]
     },
     "execution_count": 7,
     "metadata": {},
     "output_type": "execute_result"
    }
   ],
   "source": [
    "type({})"
   ]
  },
  {
   "cell_type": "code",
   "execution_count": 8,
   "id": "301717ef",
   "metadata": {},
   "outputs": [
    {
     "data": {
      "text/plain": [
       "tuple"
      ]
     },
     "execution_count": 8,
     "metadata": {},
     "output_type": "execute_result"
    }
   ],
   "source": [
    "type(())"
   ]
  },
  {
   "cell_type": "code",
   "execution_count": 9,
   "id": "5e270e8f",
   "metadata": {},
   "outputs": [
    {
     "data": {
      "text/plain": [
       "int"
      ]
     },
     "execution_count": 9,
     "metadata": {},
     "output_type": "execute_result"
    }
   ],
   "source": [
    "type(7)"
   ]
  },
  {
   "cell_type": "code",
   "execution_count": 10,
   "id": "c45f7d5b",
   "metadata": {},
   "outputs": [
    {
     "data": {
      "text/plain": [
       "2188480211888"
      ]
     },
     "execution_count": 10,
     "metadata": {},
     "output_type": "execute_result"
    }
   ],
   "source": [
    "## id\n",
    "\n",
    "name = 'John'\n",
    "\n",
    "id(name)"
   ]
  },
  {
   "cell_type": "code",
   "execution_count": 11,
   "id": "bfed5f0a",
   "metadata": {},
   "outputs": [],
   "source": [
    "my_pets = ['dog', 'cat', 'parrot']"
   ]
  },
  {
   "cell_type": "code",
   "execution_count": 12,
   "id": "dfdc8317",
   "metadata": {},
   "outputs": [
    {
     "data": {
      "text/plain": [
       "2188479654912"
      ]
     },
     "execution_count": 12,
     "metadata": {},
     "output_type": "execute_result"
    }
   ],
   "source": [
    "id(my_pets)"
   ]
  },
  {
   "cell_type": "markdown",
   "id": "d0e3025c",
   "metadata": {},
   "source": [
    "### Inspect Module"
   ]
  },
  {
   "cell_type": "code",
   "execution_count": 14,
   "id": "5f177ec3",
   "metadata": {},
   "outputs": [],
   "source": [
    "import inspect"
   ]
  },
  {
   "cell_type": "code",
   "execution_count": 15,
   "id": "df6dfcc7",
   "metadata": {},
   "outputs": [],
   "source": [
    "class Car:\n",
    "    pass\n",
    "\n"
   ]
  },
  {
   "cell_type": "code",
   "execution_count": 16,
   "id": "550edfe0",
   "metadata": {},
   "outputs": [
    {
     "data": {
      "text/plain": [
       "True"
      ]
     },
     "execution_count": 16,
     "metadata": {},
     "output_type": "execute_result"
    }
   ],
   "source": [
    "inspect.isclass(Car)"
   ]
  },
  {
   "cell_type": "code",
   "execution_count": 17,
   "id": "018363e9",
   "metadata": {},
   "outputs": [],
   "source": [
    "def some_function():\n",
    "    pass"
   ]
  },
  {
   "cell_type": "code",
   "execution_count": 20,
   "id": "3b836937",
   "metadata": {},
   "outputs": [
    {
     "data": {
      "text/plain": [
       "False"
      ]
     },
     "execution_count": 20,
     "metadata": {},
     "output_type": "execute_result"
    }
   ],
   "source": [
    "inspect.isfunction(Car)"
   ]
  },
  {
   "cell_type": "code",
   "execution_count": 21,
   "id": "381c250f",
   "metadata": {},
   "outputs": [
    {
     "data": {
      "text/plain": [
       "True"
      ]
     },
     "execution_count": 21,
     "metadata": {},
     "output_type": "execute_result"
    }
   ],
   "source": [
    "inspect.ismodule(inspect)"
   ]
  },
  {
   "cell_type": "markdown",
   "id": "2dca8659",
   "metadata": {},
   "source": [
    "# Handling multiple exceptions"
   ]
  },
  {
   "cell_type": "code",
   "execution_count": 23,
   "id": "80d88f08",
   "metadata": {},
   "outputs": [
    {
     "ename": "ZeroDivisionError",
     "evalue": "division by zero",
     "output_type": "error",
     "traceback": [
      "\u001b[1;31m---------------------------------------------------------------------------\u001b[0m",
      "\u001b[1;31mZeroDivisionError\u001b[0m                         Traceback (most recent call last)",
      "\u001b[1;32m<ipython-input-23-9ab73e148374>\u001b[0m in \u001b[0;36m<module>\u001b[1;34m\u001b[0m\n\u001b[1;32m----> 1\u001b[1;33m \u001b[1;36m0\u001b[0m\u001b[1;33m/\u001b[0m\u001b[1;36m0\u001b[0m\u001b[1;33m\u001b[0m\u001b[1;33m\u001b[0m\u001b[0m\n\u001b[0m",
      "\u001b[1;31mZeroDivisionError\u001b[0m: division by zero"
     ]
    }
   ],
   "source": [
    "0/0"
   ]
  },
  {
   "cell_type": "code",
   "execution_count": 24,
   "id": "6d95a5d6",
   "metadata": {},
   "outputs": [
    {
     "name": "stdout",
     "output_type": "stream",
     "text": [
      "Go back to kindergarten\n"
     ]
    }
   ],
   "source": [
    "try:\n",
    "    0/0\n",
    "    \n",
    "except Exception as e:\n",
    "    print('Go back to kindergarten')"
   ]
  },
  {
   "cell_type": "code",
   "execution_count": 25,
   "id": "54320b8e",
   "metadata": {},
   "outputs": [
    {
     "ename": "FileNotFoundError",
     "evalue": "[Errno 2] No such file or directory: 'try.txt'",
     "output_type": "error",
     "traceback": [
      "\u001b[1;31m---------------------------------------------------------------------------\u001b[0m",
      "\u001b[1;31mFileNotFoundError\u001b[0m                         Traceback (most recent call last)",
      "\u001b[1;32m<ipython-input-25-96da9883d1f5>\u001b[0m in \u001b[0;36m<module>\u001b[1;34m\u001b[0m\n\u001b[1;32m----> 1\u001b[1;33m \u001b[0mfile\u001b[0m \u001b[1;33m=\u001b[0m \u001b[0mopen\u001b[0m\u001b[1;33m(\u001b[0m\u001b[1;34m'try.txt'\u001b[0m\u001b[1;33m,\u001b[0m \u001b[1;34m'rb'\u001b[0m\u001b[1;33m)\u001b[0m\u001b[1;33m\u001b[0m\u001b[1;33m\u001b[0m\u001b[0m\n\u001b[0m",
      "\u001b[1;31mFileNotFoundError\u001b[0m: [Errno 2] No such file or directory: 'try.txt'"
     ]
    }
   ],
   "source": [
    "file = open('try.txt', 'rb')"
   ]
  },
  {
   "cell_type": "code",
   "execution_count": 26,
   "id": "6ae8df0f",
   "metadata": {},
   "outputs": [
    {
     "name": "stdout",
     "output_type": "stream",
     "text": [
      "An IO Error has occured\n"
     ]
    }
   ],
   "source": [
    "try:\n",
    "    file = open('try.txt', 'rb')\n",
    "except IOError as e:\n",
    "    print('An IO Error has occured')\n",
    "except EOFerror as e:\n",
    "    print('This is the end of ze world')"
   ]
  },
  {
   "cell_type": "code",
   "execution_count": 28,
   "id": "f45c472c",
   "metadata": {},
   "outputs": [
    {
     "name": "stdout",
     "output_type": "stream",
     "text": [
      "This is the correct error we are trying to capture\n"
     ]
    }
   ],
   "source": [
    "try:\n",
    "    0/0\n",
    "    \n",
    "except IOError as e:\n",
    "    print('Go back to kindergarten')\n",
    "    \n",
    "except ZeroDivisionError as e:\n",
    "    print('This is the correct error we are trying to capture')"
   ]
  },
  {
   "cell_type": "code",
   "execution_count": 29,
   "id": "77cf2e62",
   "metadata": {},
   "outputs": [
    {
     "name": "stdout",
     "output_type": "stream",
     "text": [
      "An IO Error has occured\n",
      "Don't you just love errors\n"
     ]
    }
   ],
   "source": [
    "\n",
    "#finally\n",
    "\n",
    "try:\n",
    "    file = open('try.txt', 'rb')\n",
    "except IOError as e:\n",
    "    print('An IO Error has occured')\n",
    "except EOFerror as e:\n",
    "    print('This is the end of ze world')\n",
    "finally:\n",
    "    print(\"Don't you just love errors\")"
   ]
  },
  {
   "cell_type": "code",
   "execution_count": 30,
   "id": "38cc0183",
   "metadata": {},
   "outputs": [
    {
     "name": "stdout",
     "output_type": "stream",
     "text": [
      "This is a valid operation\n",
      "Don't you just love errors\n"
     ]
    }
   ],
   "source": [
    "#else:\n",
    "\n",
    "try:\n",
    "    0/2\n",
    "    \n",
    "except IOError as e:\n",
    "    print('Go back to kindergarten')\n",
    "    \n",
    "except ZeroDivisionError as e:\n",
    "    print('This is the correct error we are trying to capture')\n",
    "\n",
    "else:\n",
    "    print('This is a valid operation')\n",
    "\n",
    "finally:\n",
    "    print(\"Don't you just love errors\")\n",
    "\n"
   ]
  },
  {
   "cell_type": "markdown",
   "id": "170fd7d1",
   "metadata": {},
   "source": [
    "# Oneliner\n",
    "\n",
    "### Simpler Web Server\n",
    "\n",
    "python -m http.server"
   ]
  },
  {
   "cell_type": "markdown",
   "id": "58a56010",
   "metadata": {},
   "source": [
    "### Pretty printing"
   ]
  },
  {
   "cell_type": "code",
   "execution_count": 32,
   "id": "6325f9de",
   "metadata": {},
   "outputs": [],
   "source": [
    "from pprint import pprint"
   ]
  },
  {
   "cell_type": "code",
   "execution_count": 33,
   "id": "ff86f169",
   "metadata": {},
   "outputs": [],
   "source": [
    "my_dict = {'name', 'age', 'height'}"
   ]
  },
  {
   "cell_type": "code",
   "execution_count": 34,
   "id": "be5e98a9",
   "metadata": {},
   "outputs": [
    {
     "name": "stdout",
     "output_type": "stream",
     "text": [
      "['__and__', '__class__', '__contains__', '__delattr__', '__dir__', '__doc__', '__eq__', '__format__', '__ge__', '__getattribute__', '__gt__', '__hash__', '__iand__', '__init__', '__init_subclass__', '__ior__', '__isub__', '__iter__', '__ixor__', '__le__', '__len__', '__lt__', '__ne__', '__new__', '__or__', '__rand__', '__reduce__', '__reduce_ex__', '__repr__', '__ror__', '__rsub__', '__rxor__', '__setattr__', '__sizeof__', '__str__', '__sub__', '__subclasshook__', '__xor__', 'add', 'clear', 'copy', 'difference', 'difference_update', 'discard', 'intersection', 'intersection_update', 'isdisjoint', 'issubset', 'issuperset', 'pop', 'remove', 'symmetric_difference', 'symmetric_difference_update', 'union', 'update']\n"
     ]
    }
   ],
   "source": [
    "print(dir(my_dict))"
   ]
  },
  {
   "cell_type": "code",
   "execution_count": 35,
   "id": "58f6af13",
   "metadata": {},
   "outputs": [
    {
     "name": "stdout",
     "output_type": "stream",
     "text": [
      "['__and__',\n",
      " '__class__',\n",
      " '__contains__',\n",
      " '__delattr__',\n",
      " '__dir__',\n",
      " '__doc__',\n",
      " '__eq__',\n",
      " '__format__',\n",
      " '__ge__',\n",
      " '__getattribute__',\n",
      " '__gt__',\n",
      " '__hash__',\n",
      " '__iand__',\n",
      " '__init__',\n",
      " '__init_subclass__',\n",
      " '__ior__',\n",
      " '__isub__',\n",
      " '__iter__',\n",
      " '__ixor__',\n",
      " '__le__',\n",
      " '__len__',\n",
      " '__lt__',\n",
      " '__ne__',\n",
      " '__new__',\n",
      " '__or__',\n",
      " '__rand__',\n",
      " '__reduce__',\n",
      " '__reduce_ex__',\n",
      " '__repr__',\n",
      " '__ror__',\n",
      " '__rsub__',\n",
      " '__rxor__',\n",
      " '__setattr__',\n",
      " '__sizeof__',\n",
      " '__str__',\n",
      " '__sub__',\n",
      " '__subclasshook__',\n",
      " '__xor__',\n",
      " 'add',\n",
      " 'clear',\n",
      " 'copy',\n",
      " 'difference',\n",
      " 'difference_update',\n",
      " 'discard',\n",
      " 'intersection',\n",
      " 'intersection_update',\n",
      " 'isdisjoint',\n",
      " 'issubset',\n",
      " 'issuperset',\n",
      " 'pop',\n",
      " 'remove',\n",
      " 'symmetric_difference',\n",
      " 'symmetric_difference_update',\n",
      " 'union',\n",
      " 'update']\n"
     ]
    }
   ],
   "source": [
    "pprint(dir(my_dict))"
   ]
  },
  {
   "cell_type": "markdown",
   "id": "c34977b9",
   "metadata": {},
   "source": [
    "### Profiling a script\n",
    "\n",
    "python -m cProfile Calculator_program.p"
   ]
  },
  {
   "cell_type": "markdown",
   "id": "135e4b2b",
   "metadata": {},
   "source": [
    "# List Flattening"
   ]
  },
  {
   "cell_type": "code",
   "execution_count": 37,
   "id": "7aee6eee",
   "metadata": {},
   "outputs": [
    {
     "name": "stdout",
     "output_type": "stream",
     "text": [
      "[4, 7, 9, 2, 3, 6]\n"
     ]
    }
   ],
   "source": [
    "import itertools\n",
    "\n",
    "TList = [[4,7],[9,2],[3,6]]\n",
    "\n",
    "print(list(itertools.chain(*TList)))"
   ]
  },
  {
   "cell_type": "markdown",
   "id": "6d32707e",
   "metadata": {},
   "source": [
    "# One-line Constructors"
   ]
  },
  {
   "cell_type": "code",
   "execution_count": 38,
   "id": "d0f731e3",
   "metadata": {},
   "outputs": [],
   "source": [
    "Porsche = type('Car', (object,), {'TopSpeed': 199, 'HP': 572, 'Color': 'Black'})"
   ]
  },
  {
   "cell_type": "code",
   "execution_count": 39,
   "id": "b3bb8412",
   "metadata": {},
   "outputs": [
    {
     "name": "stdout",
     "output_type": "stream",
     "text": [
      "572\n"
     ]
    }
   ],
   "source": [
    "print(Porsche.HP)"
   ]
  },
  {
   "cell_type": "markdown",
   "id": "4f765c1b",
   "metadata": {},
   "source": [
    "# For / Else\n",
    "    "
   ]
  },
  {
   "cell_type": "code",
   "execution_count": 45,
   "id": "28e083c8",
   "metadata": {},
   "outputs": [
    {
     "name": "stdout",
     "output_type": "stream",
     "text": [
      "Well there is no Jim-Bob\n",
      "Well there is no Jim-Bob\n",
      "Well there is no Jim-Bob\n",
      "Well there is no Jim-Bob\n",
      "Well there is no Jim-Bob\n"
     ]
    }
   ],
   "source": [
    "names = ['Steve', 'James', 'Stephanie', ' Brittany', 'Jumbo']\n",
    "\n",
    "for x in names:\n",
    "    if x == 'Jim-Bob':\n",
    "        print('Jim-Bob is hiding at position',names.index('Jim-Bob'))\n",
    "        \n",
    "    else:\n",
    "        print('Well there is no Jim-Bob')\n",
    "        "
   ]
  },
  {
   "cell_type": "code",
   "execution_count": 47,
   "id": "5ce453b3",
   "metadata": {},
   "outputs": [
    {
     "name": "stdout",
     "output_type": "stream",
     "text": [
      "11 is prime\n",
      "12 equals 2 * 6.0\n",
      "13 is prime\n",
      "14 equals 2 * 7.0\n",
      "15 equals 3 * 5.0\n",
      "16 equals 2 * 8.0\n",
      "17 is prime\n",
      "18 equals 2 * 9.0\n",
      "19 is prime\n"
     ]
    }
   ],
   "source": [
    "for n in range(11,20):\n",
    "    for x in range(2,n):\n",
    "        if n % x==0:\n",
    "            print(n, 'equals',x, '*', n/x)\n",
    "            break\n",
    "            \n",
    "    else:\n",
    "        print(n, 'is prime')\n"
   ]
  },
  {
   "cell_type": "code",
   "execution_count": 48,
   "id": "cc98f50d",
   "metadata": {},
   "outputs": [
    {
     "name": "stdout",
     "output_type": "stream",
     "text": [
      "2\n",
      "3\n",
      "4\n",
      "5\n",
      "6\n",
      "7\n",
      "8\n",
      "9\n",
      "10\n"
     ]
    }
   ],
   "source": [
    "for i in range(2,11):\n",
    "    print(i)"
   ]
  },
  {
   "cell_type": "markdown",
   "id": "1df503ec",
   "metadata": {},
   "source": [
    "# Targetting Python 2 & 3"
   ]
  },
  {
   "cell_type": "markdown",
   "id": "bdddf39b",
   "metadata": {},
   "source": [
    "### Future imports"
   ]
  },
  {
   "cell_type": "code",
   "execution_count": 49,
   "id": "dc3a3bdf",
   "metadata": {},
   "outputs": [],
   "source": [
    "from __future__ import print_function"
   ]
  },
  {
   "cell_type": "code",
   "execution_count": 50,
   "id": "7bdf74d3",
   "metadata": {},
   "outputs": [
    {
     "name": "stdout",
     "output_type": "stream",
     "text": [
      "<built-in function print>\n"
     ]
    }
   ],
   "source": [
    "print(print)"
   ]
  },
  {
   "cell_type": "markdown",
   "id": "4c45b1d8",
   "metadata": {},
   "source": [
    "### Dealing with renaming modules"
   ]
  },
  {
   "cell_type": "code",
   "execution_count": 51,
   "id": "334ad3b5",
   "metadata": {},
   "outputs": [],
   "source": [
    "import math"
   ]
  },
  {
   "cell_type": "code",
   "execution_count": 52,
   "id": "7d739f03",
   "metadata": {},
   "outputs": [],
   "source": [
    "from math import pi"
   ]
  },
  {
   "cell_type": "code",
   "execution_count": 53,
   "id": "f559bc5b",
   "metadata": {},
   "outputs": [
    {
     "data": {
      "text/plain": [
       "3.141592653589793"
      ]
     },
     "execution_count": 53,
     "metadata": {},
     "output_type": "execute_result"
    }
   ],
   "source": [
    "pi"
   ]
  },
  {
   "cell_type": "code",
   "execution_count": 54,
   "id": "2e0592a7",
   "metadata": {},
   "outputs": [
    {
     "data": {
      "text/plain": [
       "6.283185307179586"
      ]
     },
     "execution_count": 54,
     "metadata": {},
     "output_type": "execute_result"
    }
   ],
   "source": [
    "2*pi"
   ]
  },
  {
   "cell_type": "code",
   "execution_count": 55,
   "id": "0edf08ca",
   "metadata": {},
   "outputs": [],
   "source": [
    "import math as mth"
   ]
  },
  {
   "cell_type": "code",
   "execution_count": null,
   "id": "ec8c7f5a",
   "metadata": {},
   "outputs": [],
   "source": [
    "# urllib.request ===> Python 3\n",
    "\n",
    "# urllib2  ===> Python 2"
   ]
  },
  {
   "cell_type": "code",
   "execution_count": 56,
   "id": "ff129eab",
   "metadata": {},
   "outputs": [],
   "source": [
    "try:\n",
    "    import urllib.request as urllib_request\n",
    "except ImportError:\n",
    "    import urllib2 as urllib_request"
   ]
  },
  {
   "cell_type": "markdown",
   "id": "7a256fcf",
   "metadata": {},
   "source": [
    "### Obsolete Python 2 Builtins"
   ]
  },
  {
   "cell_type": "code",
   "execution_count": 57,
   "id": "269d1425",
   "metadata": {},
   "outputs": [],
   "source": [
    "from future.builtins.disabled import *"
   ]
  },
  {
   "cell_type": "code",
   "execution_count": 58,
   "id": "fad7279c",
   "metadata": {},
   "outputs": [
    {
     "ename": "NameError",
     "evalue": "name 'apply' is not defined",
     "output_type": "error",
     "traceback": [
      "\u001b[1;31m---------------------------------------------------------------------------\u001b[0m",
      "\u001b[1;31mNameError\u001b[0m                                 Traceback (most recent call last)",
      "\u001b[1;32m<ipython-input-58-2c7687b90a1e>\u001b[0m in \u001b[0;36m<module>\u001b[1;34m\u001b[0m\n\u001b[1;32m----> 1\u001b[1;33m \u001b[0mapply\u001b[0m\u001b[1;33m(\u001b[0m\u001b[1;33m)\u001b[0m\u001b[1;33m\u001b[0m\u001b[1;33m\u001b[0m\u001b[0m\n\u001b[0m",
      "\u001b[1;31mNameError\u001b[0m: name 'apply' is not defined"
     ]
    }
   ],
   "source": [
    "apply()"
   ]
  },
  {
   "cell_type": "markdown",
   "id": "04eb005b",
   "metadata": {},
   "source": [
    "### External standard library backports"
   ]
  },
  {
   "cell_type": "markdown",
   "id": "caa7d504",
   "metadata": {},
   "source": [
    "### Singledispatch"
   ]
  },
  {
   "cell_type": "code",
   "execution_count": 59,
   "id": "d517bcc2",
   "metadata": {},
   "outputs": [],
   "source": [
    "def my_func(arg):\n",
    "    print(arg)\n",
    "    \n",
    "    \n",
    "def main():\n",
    "    my_func('This is the default function')\n",
    "    my_func(23)\n",
    "    my_func(['Tom', 'Harry', 'Jerry'])"
   ]
  },
  {
   "cell_type": "code",
   "execution_count": 60,
   "id": "152bfc7c",
   "metadata": {},
   "outputs": [
    {
     "name": "stdout",
     "output_type": "stream",
     "text": [
      "This is the default function\n",
      "23\n",
      "['Tom', 'Harry', 'Jerry']\n"
     ]
    }
   ],
   "source": [
    "main()"
   ]
  },
  {
   "cell_type": "code",
   "execution_count": 64,
   "id": "8e67c0e6",
   "metadata": {},
   "outputs": [],
   "source": [
    "from functools import singledispatch\n",
    "\n",
    "@singledispatch\n",
    "def my_func(arg):\n",
    "    print(arg)\n",
    "    \n",
    "@my_func.register\n",
    "def this_int_instead(arg: int):\n",
    "    print('this argument is an int ==>', arg)\n",
    "\n",
    "@my_func.register\n",
    "def this_list_instead(arg: list):\n",
    "    print('this argument is a list ===>', arg)\n",
    "    \n",
    "def main():\n",
    "    my_func('This is the default function')\n",
    "    my_func(23)\n",
    "    my_func(['Tom', 'Harry', 'Jerry'])"
   ]
  },
  {
   "cell_type": "code",
   "execution_count": 65,
   "id": "861504e6",
   "metadata": {},
   "outputs": [
    {
     "name": "stdout",
     "output_type": "stream",
     "text": [
      "This is the default function\n",
      "this argument is an int ==> 23\n",
      "this argument is a list ===> ['Tom', 'Harry', 'Jerry']\n"
     ]
    }
   ],
   "source": [
    "main()"
   ]
  },
  {
   "cell_type": "markdown",
   "id": "26e626fa",
   "metadata": {},
   "source": [
    "# Coroutines"
   ]
  },
  {
   "cell_type": "code",
   "execution_count": 1,
   "id": "026b4f69",
   "metadata": {},
   "outputs": [],
   "source": [
    "## recap of generators\n",
    "\n",
    "def countdown(n):\n",
    "    while n > 0:\n",
    "        yield n\n",
    "        n -= 1  # n = n - 1"
   ]
  },
  {
   "cell_type": "code",
   "execution_count": 2,
   "id": "a85e8dfc",
   "metadata": {},
   "outputs": [],
   "source": [
    "x = countdown(10)"
   ]
  },
  {
   "cell_type": "code",
   "execution_count": 13,
   "id": "6d73c309",
   "metadata": {},
   "outputs": [
    {
     "ename": "StopIteration",
     "evalue": "",
     "output_type": "error",
     "traceback": [
      "\u001b[1;31m---------------------------------------------------------------------------\u001b[0m",
      "\u001b[1;31mStopIteration\u001b[0m                             Traceback (most recent call last)",
      "\u001b[1;32m<ipython-input-13-92de4e9f6b1e>\u001b[0m in \u001b[0;36m<module>\u001b[1;34m\u001b[0m\n\u001b[1;32m----> 1\u001b[1;33m \u001b[0mnext\u001b[0m\u001b[1;33m(\u001b[0m\u001b[0mx\u001b[0m\u001b[1;33m)\u001b[0m\u001b[1;33m\u001b[0m\u001b[1;33m\u001b[0m\u001b[0m\n\u001b[0m",
      "\u001b[1;31mStopIteration\u001b[0m: "
     ]
    }
   ],
   "source": [
    "next(x)"
   ]
  },
  {
   "cell_type": "code",
   "execution_count": 17,
   "id": "63009439",
   "metadata": {},
   "outputs": [],
   "source": [
    "def capture(pattern):\n",
    "    print('Searching for', pattern)\n",
    "    while True:\n",
    "        line = (yield) #data is consumed at this point\n",
    "        if pattern in line:\n",
    "            print(\"We found\", pattern, 'in', '('+line+')')"
   ]
  },
  {
   "cell_type": "code",
   "execution_count": 18,
   "id": "642251f6",
   "metadata": {},
   "outputs": [],
   "source": [
    "search = capture('coroutine')"
   ]
  },
  {
   "cell_type": "code",
   "execution_count": 19,
   "id": "083c72a7",
   "metadata": {},
   "outputs": [
    {
     "name": "stdout",
     "output_type": "stream",
     "text": [
      "Searching for coroutine\n"
     ]
    }
   ],
   "source": [
    "next(search)"
   ]
  },
  {
   "cell_type": "code",
   "execution_count": 20,
   "id": "fc5a5f77",
   "metadata": {},
   "outputs": [],
   "source": [
    "search.send('What pattern are we searching for?')"
   ]
  },
  {
   "cell_type": "code",
   "execution_count": 21,
   "id": "1f4602f4",
   "metadata": {},
   "outputs": [],
   "source": [
    "search.send('Do you love me?')"
   ]
  },
  {
   "cell_type": "code",
   "execution_count": 22,
   "id": "66f84aef",
   "metadata": {},
   "outputs": [
    {
     "name": "stdout",
     "output_type": "stream",
     "text": [
      "We found coroutine in (NO, I love coroutine instead!)\n"
     ]
    }
   ],
   "source": [
    "search.send('NO, I love coroutine instead!')"
   ]
  },
  {
   "cell_type": "code",
   "execution_count": 23,
   "id": "058a367a",
   "metadata": {},
   "outputs": [],
   "source": [
    "search.close()"
   ]
  },
  {
   "cell_type": "markdown",
   "id": "ff625384",
   "metadata": {},
   "source": [
    "# Concurrent programming and Coroutines"
   ]
  },
  {
   "cell_type": "code",
   "execution_count": 24,
   "id": "a720bfb0",
   "metadata": {},
   "outputs": [],
   "source": [
    "async def coroutine_func():\n",
    "    print('This is a coroutine')"
   ]
  },
  {
   "cell_type": "code",
   "execution_count": 26,
   "id": "38e00d6e",
   "metadata": {},
   "outputs": [
    {
     "data": {
      "text/plain": [
       "<coroutine object coroutine_func at 0x0000022B4659DBC0>"
      ]
     },
     "execution_count": 26,
     "metadata": {},
     "output_type": "execute_result"
    }
   ],
   "source": [
    "coroutine_func()"
   ]
  },
  {
   "cell_type": "code",
   "execution_count": 27,
   "id": "e931c8f3",
   "metadata": {},
   "outputs": [],
   "source": [
    "import asyncio\n",
    "\n"
   ]
  },
  {
   "cell_type": "code",
   "execution_count": 28,
   "id": "4a711507",
   "metadata": {},
   "outputs": [
    {
     "ename": "RuntimeError",
     "evalue": "asyncio.run() cannot be called from a running event loop",
     "output_type": "error",
     "traceback": [
      "\u001b[1;31m---------------------------------------------------------------------------\u001b[0m",
      "\u001b[1;31mRuntimeError\u001b[0m                              Traceback (most recent call last)",
      "\u001b[1;32m<ipython-input-28-76282e39c6fa>\u001b[0m in \u001b[0;36m<module>\u001b[1;34m\u001b[0m\n\u001b[0;32m      3\u001b[0m \u001b[1;33m\u001b[0m\u001b[0m\n\u001b[0;32m      4\u001b[0m \u001b[1;33m\u001b[0m\u001b[0m\n\u001b[1;32m----> 5\u001b[1;33m \u001b[0masyncio\u001b[0m\u001b[1;33m.\u001b[0m\u001b[0mrun\u001b[0m\u001b[1;33m(\u001b[0m\u001b[0mcoroutine_func\u001b[0m\u001b[1;33m(\u001b[0m\u001b[1;33m)\u001b[0m\u001b[1;33m)\u001b[0m\u001b[1;33m\u001b[0m\u001b[1;33m\u001b[0m\u001b[0m\n\u001b[0m",
      "\u001b[1;32mC:\\ProgramData\\Anaconda3\\lib\\asyncio\\runners.py\u001b[0m in \u001b[0;36mrun\u001b[1;34m(main, debug)\u001b[0m\n\u001b[0;32m     31\u001b[0m     \"\"\"\n\u001b[0;32m     32\u001b[0m     \u001b[1;32mif\u001b[0m \u001b[0mevents\u001b[0m\u001b[1;33m.\u001b[0m\u001b[0m_get_running_loop\u001b[0m\u001b[1;33m(\u001b[0m\u001b[1;33m)\u001b[0m \u001b[1;32mis\u001b[0m \u001b[1;32mnot\u001b[0m \u001b[1;32mNone\u001b[0m\u001b[1;33m:\u001b[0m\u001b[1;33m\u001b[0m\u001b[1;33m\u001b[0m\u001b[0m\n\u001b[1;32m---> 33\u001b[1;33m         raise RuntimeError(\n\u001b[0m\u001b[0;32m     34\u001b[0m             \"asyncio.run() cannot be called from a running event loop\")\n\u001b[0;32m     35\u001b[0m \u001b[1;33m\u001b[0m\u001b[0m\n",
      "\u001b[1;31mRuntimeError\u001b[0m: asyncio.run() cannot be called from a running event loop"
     ]
    }
   ],
   "source": [
    "async def coroutine_func():\n",
    "    print('This is a coroutine')\n",
    "    \n",
    "    \n",
    "asyncio.run(coroutine_func())"
   ]
  },
  {
   "cell_type": "code",
   "execution_count": 29,
   "id": "af78c8bf",
   "metadata": {},
   "outputs": [
    {
     "data": {
      "text/plain": [
       "<_WindowsSelectorEventLoop running=True closed=False debug=False>"
      ]
     },
     "execution_count": 29,
     "metadata": {},
     "output_type": "execute_result"
    }
   ],
   "source": [
    "asyncio.get_event_loop()"
   ]
  },
  {
   "cell_type": "code",
   "execution_count": 30,
   "id": "d08bcb92",
   "metadata": {},
   "outputs": [],
   "source": [
    "import nest_asyncio"
   ]
  },
  {
   "cell_type": "code",
   "execution_count": 31,
   "id": "a0c6d54b",
   "metadata": {},
   "outputs": [],
   "source": [
    "nest_asyncio.apply()"
   ]
  },
  {
   "cell_type": "code",
   "execution_count": 32,
   "id": "8e6cb4be",
   "metadata": {},
   "outputs": [
    {
     "name": "stdout",
     "output_type": "stream",
     "text": [
      "This is a coroutine\n"
     ]
    }
   ],
   "source": [
    "async def coroutine_func():\n",
    "    print('This is a coroutine')\n",
    "    \n",
    "    \n",
    "asyncio.run(coroutine_func())"
   ]
  },
  {
   "cell_type": "code",
   "execution_count": 33,
   "id": "3bfda35d",
   "metadata": {},
   "outputs": [
    {
     "name": "stdout",
     "output_type": "stream",
     "text": [
      "This is a coroutine\n",
      "Yes it is\n"
     ]
    }
   ],
   "source": [
    "#Awaitables\n",
    "\n",
    "async def coroutine_func():\n",
    "    print('This is a coroutine')\n",
    "    \n",
    "    await asyncio.sleep(3)\n",
    "    \n",
    "    print('Yes it is')\n",
    "    \n",
    "    \n",
    "asyncio.run(coroutine_func())"
   ]
  },
  {
   "cell_type": "code",
   "execution_count": 36,
   "id": "3613ec52",
   "metadata": {},
   "outputs": [
    {
     "name": "stdout",
     "output_type": "stream",
     "text": [
      "This is a coroutine time now: 20:21:55\n",
      "Yes it is time now: 20:21:58\n"
     ]
    }
   ],
   "source": [
    "import time\n",
    "\n",
    "async def coroutine_func():\n",
    "    print('This is a coroutine', f\"time now: {time.strftime('%X')}\")\n",
    "    \n",
    "    await asyncio.sleep(3)\n",
    "    \n",
    "    print('Yes it is', f\"time now: {time.strftime('%X')}\")\n",
    "    \n",
    "    \n",
    "asyncio.run(coroutine_func())"
   ]
  },
  {
   "cell_type": "code",
   "execution_count": 37,
   "id": "4e0cb6ed",
   "metadata": {},
   "outputs": [
    {
     "name": "stdout",
     "output_type": "stream",
     "text": [
      "Start time 20:29:33\n",
      "Turn on ignition, time now: 20:29:33\n",
      "Set gear in drive, time now: 20:29:34\n",
      "End time: 20:29:36\n"
     ]
    }
   ],
   "source": [
    "async def drive(delay, action, time):\n",
    "    await asyncio.sleep(delay)\n",
    "    print(action, time)\n",
    "    \n",
    "async def main():\n",
    "    print(f\"Start time {time.strftime('%X')}\")\n",
    "    \n",
    "    await drive(1, \"Turn on ignition,\", f\"time now: {time.strftime('%X')}\" )\n",
    "    await drive(2, \"Set gear in drive,\", f\"time now: {time.strftime('%X')}\" )\n",
    "    \n",
    "    print(f\"End time: {time.strftime('%X')}\")\n",
    "    \n",
    "asyncio.run(main())"
   ]
  },
  {
   "cell_type": "code",
   "execution_count": 41,
   "id": "ab428698",
   "metadata": {},
   "outputs": [
    {
     "name": "stdout",
     "output_type": "stream",
     "text": [
      "Start time 20:39:11\n",
      "Set gear in drive, time now: 20:39:11\n",
      "Turn on ignition, time now: 20:39:11\n",
      "End time: 20:39:16\n"
     ]
    }
   ],
   "source": [
    "#async.create_task()\n",
    "\n",
    "\n",
    "async def main():\n",
    "    task1 = asyncio.create_task(drive(5, \"Turn on ignition,\", f\"time now: {time.strftime('%X')}\" ))\n",
    "    \n",
    "    task2 = asyncio.create_task(drive(1, \"Set gear in drive,\", f\"time now: {time.strftime('%X')}\" ))\n",
    "    \n",
    "    print(f\"Start time {time.strftime('%X')}\")\n",
    "\n",
    "    await task1\n",
    "    await task2\n",
    "    \n",
    "    print(f\"End time: {time.strftime('%X')}\")\n",
    "    \n",
    "asyncio.run(main())"
   ]
  },
  {
   "cell_type": "markdown",
   "id": "02e82dec",
   "metadata": {},
   "source": [
    "# Function Caching"
   ]
  },
  {
   "cell_type": "markdown",
   "id": "16bc96bd",
   "metadata": {},
   "source": [
    "### Memoization"
   ]
  },
  {
   "cell_type": "markdown",
   "id": "fdb54b54",
   "metadata": {},
   "source": [
    "#### Recursion\n",
    "\n",
    "#### Fibonacci Sequence\n",
    "\n",
    " 1, 1, 2, 3, 5, 8, ...\n",
    "\n"
   ]
  },
  {
   "cell_type": "code",
   "execution_count": 46,
   "id": "c2aa712d",
   "metadata": {},
   "outputs": [],
   "source": [
    "def fib(n):\n",
    "    if n==1 or n==2:\n",
    "        return 1\n",
    "    \n",
    "    else:\n",
    "        return fib(n-1) + fib(n-2)\n",
    "    "
   ]
  },
  {
   "cell_type": "code",
   "execution_count": 47,
   "id": "4a7b7084",
   "metadata": {},
   "outputs": [
    {
     "data": {
      "text/plain": [
       "5"
      ]
     },
     "execution_count": 47,
     "metadata": {},
     "output_type": "execute_result"
    }
   ],
   "source": [
    "fib(5)"
   ]
  },
  {
   "cell_type": "code",
   "execution_count": null,
   "id": "1019722a",
   "metadata": {},
   "outputs": [],
   "source": [
    "                    fib(5)\n",
    "                    /    \\\n",
    "                fib(4) +   fib(3)\n",
    "                 /   \\       /    \\\n",
    "              fib(3) fib(2) fib(2) fib(1)\n",
    "              /  \\       \\     \\     \\\n",
    "          fib(2)  fib(1)  1    1      1\n",
    "            /      \\\n",
    "            1      1"
   ]
  },
  {
   "cell_type": "code",
   "execution_count": 48,
   "id": "c673ec91",
   "metadata": {},
   "outputs": [
    {
     "data": {
      "text/plain": [
       "75025"
      ]
     },
     "execution_count": 48,
     "metadata": {},
     "output_type": "execute_result"
    }
   ],
   "source": [
    "fib(25)"
   ]
  },
  {
   "cell_type": "code",
   "execution_count": 50,
   "id": "a104a6d2",
   "metadata": {},
   "outputs": [],
   "source": [
    "#fib(50)"
   ]
  },
  {
   "cell_type": "code",
   "execution_count": 51,
   "id": "95882cd5",
   "metadata": {},
   "outputs": [],
   "source": [
    "##Memoization\n",
    "\n",
    "def memoize(function):\n",
    "    memo = {}\n",
    "    \n",
    "    def wrapper(*args):\n",
    "        pass\n",
    "    \n",
    "    return wrapper\n",
    "\n",
    "@memoize\n",
    "def fib(n):\n",
    "    '''Finding the nth number in the fibonacci sequence'''\n",
    "    if n==1 or n==2:\n",
    "        return 1\n",
    "    \n",
    "    else:\n",
    "        return fib(n-1) + fib(n-2)"
   ]
  },
  {
   "cell_type": "code",
   "execution_count": 52,
   "id": "5518fd15",
   "metadata": {},
   "outputs": [
    {
     "data": {
      "text/plain": [
       "'wrapper'"
      ]
     },
     "execution_count": 52,
     "metadata": {},
     "output_type": "execute_result"
    }
   ],
   "source": [
    "fib.__name__"
   ]
  },
  {
   "cell_type": "code",
   "execution_count": 53,
   "id": "5197322a",
   "metadata": {},
   "outputs": [],
   "source": [
    "fib.__doc__"
   ]
  },
  {
   "cell_type": "code",
   "execution_count": 54,
   "id": "dbf63f86",
   "metadata": {},
   "outputs": [],
   "source": [
    "from functools import wraps\n",
    "\n",
    "def memoize(function):\n",
    "    memo = {}\n",
    "    \n",
    "    @wraps(function)\n",
    "    def wrapper(*args):\n",
    "        pass\n",
    "    \n",
    "    return wrapper\n",
    "\n",
    "@memoize\n",
    "def fib(n):\n",
    "    '''Finding the nth number in the fibonacci sequence'''\n",
    "    if n==1 or n==2:\n",
    "        return 1\n",
    "    \n",
    "    else:\n",
    "        return fib(n-1) + fib(n-2)"
   ]
  },
  {
   "cell_type": "code",
   "execution_count": 55,
   "id": "c8e0ed27",
   "metadata": {},
   "outputs": [
    {
     "data": {
      "text/plain": [
       "'fib'"
      ]
     },
     "execution_count": 55,
     "metadata": {},
     "output_type": "execute_result"
    }
   ],
   "source": [
    "fib.__name__"
   ]
  },
  {
   "cell_type": "code",
   "execution_count": 56,
   "id": "e5000f76",
   "metadata": {},
   "outputs": [
    {
     "data": {
      "text/plain": [
       "'Finding the nth number in the fibonacci sequence'"
      ]
     },
     "execution_count": 56,
     "metadata": {},
     "output_type": "execute_result"
    }
   ],
   "source": [
    "fib.__doc__"
   ]
  },
  {
   "cell_type": "code",
   "execution_count": 62,
   "id": "c33315c8",
   "metadata": {},
   "outputs": [],
   "source": [
    "from functools import wraps\n",
    "\n",
    "def memoize(function):\n",
    "    memo = {}\n",
    "    \n",
    "    @wraps(function)\n",
    "    def wrapper(*args):\n",
    "        try:\n",
    "            return memo[args]\n",
    "        \n",
    "        except KeyError:\n",
    "            value = function(*args)\n",
    "            memo[args]=value\n",
    "            #print(memo)\n",
    "            \n",
    "            return value\n",
    "        \n",
    "    return wrapper\n",
    "        \n",
    "        \n",
    "@memoize\n",
    "def fib(n):\n",
    "    '''Finding the nth number in the fibonacci sequence'''\n",
    "    if n==1 or n==2:\n",
    "        return 1\n",
    "    \n",
    "    else:\n",
    "        return fib(n-1) + fib(n-2)"
   ]
  },
  {
   "cell_type": "code",
   "execution_count": 63,
   "id": "1b2af304",
   "metadata": {},
   "outputs": [
    {
     "data": {
      "text/plain": [
       "5"
      ]
     },
     "execution_count": 63,
     "metadata": {},
     "output_type": "execute_result"
    }
   ],
   "source": [
    "fib(5)"
   ]
  },
  {
   "cell_type": "code",
   "execution_count": 64,
   "id": "3d9bb932",
   "metadata": {},
   "outputs": [
    {
     "data": {
      "text/plain": [
       "75025"
      ]
     },
     "execution_count": 64,
     "metadata": {},
     "output_type": "execute_result"
    }
   ],
   "source": [
    "fib(25)"
   ]
  },
  {
   "cell_type": "code",
   "execution_count": 65,
   "id": "20b4b3cf",
   "metadata": {},
   "outputs": [
    {
     "data": {
      "text/plain": [
       "12586269025"
      ]
     },
     "execution_count": 65,
     "metadata": {},
     "output_type": "execute_result"
    }
   ],
   "source": [
    "fib(50)"
   ]
  },
  {
   "cell_type": "code",
   "execution_count": 66,
   "id": "c78a8a9f",
   "metadata": {},
   "outputs": [
    {
     "data": {
      "text/plain": [
       "43466557686937456435688527675040625802564660517371780402481729089536555417949051890403879840079255169295922593080322634775209689623239873322471161642996440906533187938298969649928516003704476137795166849228875"
      ]
     },
     "execution_count": 66,
     "metadata": {},
     "output_type": "execute_result"
    }
   ],
   "source": [
    "fib(1000)"
   ]
  },
  {
   "cell_type": "code",
   "execution_count": 67,
   "id": "f719cac3",
   "metadata": {},
   "outputs": [],
   "source": [
    "#Python 3 ===> lru_cache\n",
    "\n",
    "\n",
    "from functools import lru_cache"
   ]
  },
  {
   "cell_type": "code",
   "execution_count": 69,
   "id": "493ce13d",
   "metadata": {},
   "outputs": [],
   "source": [
    "@lru_cache\n",
    "def fib_1(n):\n",
    "    '''Finding the nth number in the fibonacci sequence'''\n",
    "    if n==1 or n==2:\n",
    "        return 1\n",
    "    \n",
    "    else:\n",
    "        return fib(n-1) + fib(n-2)"
   ]
  },
  {
   "cell_type": "code",
   "execution_count": 70,
   "id": "51138262",
   "metadata": {},
   "outputs": [
    {
     "data": {
      "text/plain": [
       "43466557686937456435688527675040625802564660517371780402481729089536555417949051890403879840079255169295922593080322634775209689623239873322471161642996440906533187938298969649928516003704476137795166849228875"
      ]
     },
     "execution_count": 70,
     "metadata": {},
     "output_type": "execute_result"
    }
   ],
   "source": [
    "fib_1(1000)"
   ]
  },
  {
   "cell_type": "code",
   "execution_count": 75,
   "id": "ebd6097b",
   "metadata": {},
   "outputs": [],
   "source": [
    "@lru_cache(maxsize = 32)\n",
    "def fib_list(n):\n",
    "    if n < 2:\n",
    "        return n\n",
    "    print(f'Calculating the fib{n}')\n",
    "    return fib_list(n-1) + fib_list(n-2)\n",
    "    "
   ]
  },
  {
   "cell_type": "code",
   "execution_count": 76,
   "id": "f98fef22",
   "metadata": {},
   "outputs": [
    {
     "name": "stdout",
     "output_type": "stream",
     "text": [
      "Calculating the fib2\n",
      "Calculating the fib3\n",
      "Calculating the fib4\n",
      "Calculating the fib5\n",
      "Calculating the fib6\n",
      "Calculating the fib7\n",
      "Calculating the fib8\n",
      "Calculating the fib9\n",
      "[1, 1, 2, 3, 5, 8, 13, 21, 34]\n"
     ]
    }
   ],
   "source": [
    "print([fib_list(n) for n in range(1,10)])"
   ]
  },
  {
   "cell_type": "markdown",
   "id": "9308af17",
   "metadata": {},
   "source": [
    "# Context Managers"
   ]
  },
  {
   "cell_type": "markdown",
   "id": "488deb49",
   "metadata": {},
   "source": [
    "### Recap File Handling"
   ]
  },
  {
   "cell_type": "code",
   "execution_count": 93,
   "id": "89c1a54a",
   "metadata": {},
   "outputs": [],
   "source": [
    "f = open('some_file.txt', 'w')\n",
    "\n",
    "f.write('Now we have some content')\n",
    "\n",
    "f.close()"
   ]
  },
  {
   "cell_type": "code",
   "execution_count": 94,
   "id": "add04422",
   "metadata": {},
   "outputs": [
    {
     "name": "stdout",
     "output_type": "stream",
     "text": [
      "Now we have some content\n"
     ]
    }
   ],
   "source": [
    "f = open('some_file.txt', 'r')\n",
    "\n",
    "print(f.read())"
   ]
  },
  {
   "cell_type": "code",
   "execution_count": 96,
   "id": "69928a6d",
   "metadata": {},
   "outputs": [],
   "source": [
    "f = open('some_file.txt', 'a')\n",
    "\n",
    "f.write('This some additional content being added to our file')\n",
    "\n",
    "f.close()"
   ]
  },
  {
   "cell_type": "code",
   "execution_count": 98,
   "id": "73efad1c",
   "metadata": {},
   "outputs": [
    {
     "name": "stdout",
     "output_type": "stream",
     "text": [
      "Now we have some contentThis some additional content being added to our fileThis some additional content being added to our file\n"
     ]
    }
   ],
   "source": [
    "f = open('some_file.txt', 'r')\n",
    "\n",
    "print(f.read())"
   ]
  },
  {
   "cell_type": "code",
   "execution_count": 99,
   "id": "3e3c54de",
   "metadata": {},
   "outputs": [],
   "source": [
    "f = open('some_file.txt', 'w')\n",
    "\n",
    "f.write('Oops! The content of the file has been overwritten.')\n",
    "\n",
    "f.close()"
   ]
  },
  {
   "cell_type": "code",
   "execution_count": 100,
   "id": "3fefd670",
   "metadata": {},
   "outputs": [
    {
     "name": "stdout",
     "output_type": "stream",
     "text": [
      "Oops! The content of the file has been overwritten.\n"
     ]
    }
   ],
   "source": [
    "f = open('some_file.txt', 'r')\n",
    "\n",
    "print(f.read())"
   ]
  },
  {
   "cell_type": "code",
   "execution_count": 101,
   "id": "14de6b85",
   "metadata": {},
   "outputs": [],
   "source": [
    "## Back to Context managers\n",
    "\n",
    "with open('some_file.txt', 'w') as opened_file:\n",
    "    opened_file.write('Hello I am a context manager!')"
   ]
  },
  {
   "cell_type": "code",
   "execution_count": 102,
   "id": "54b4d8fa",
   "metadata": {},
   "outputs": [
    {
     "name": "stdout",
     "output_type": "stream",
     "text": [
      "Hello I am a context manager!\n"
     ]
    }
   ],
   "source": [
    "f = open('some_file.txt', 'r')\n",
    "\n",
    "print(f.read())"
   ]
  },
  {
   "cell_type": "code",
   "execution_count": null,
   "id": "acd37246",
   "metadata": {},
   "outputs": [],
   "source": [
    "# Alternatively ==> many lines of code\n",
    "f = open('some_file.txt', 'w')\n",
    "\n",
    "try:\n",
    "    f.write('Hola!')\n",
    "\n",
    "finally:\n",
    "    f.close()"
   ]
  },
  {
   "cell_type": "markdown",
   "id": "5cafd175",
   "metadata": {},
   "source": [
    "### Implementing a Context Manager as a Class"
   ]
  },
  {
   "cell_type": "code",
   "execution_count": 103,
   "id": "5ea9e88a",
   "metadata": {},
   "outputs": [],
   "source": [
    "class OpenFile:\n",
    "    def __init__(self, filename, mode):\n",
    "        self.filename = filename\n",
    "        self.mode = mode\n",
    "        \n",
    "    def __enter__(self):\n",
    "        print(f'Opened file {self.filename}.')\n",
    "        self.__file = open(self.filename, self.mode)\n",
    "        return self.__file\n",
    "    \n",
    "    def __exit__(self, exc_type, exc_value, exc_traceback):\n",
    "        print(f'Closed file {self.filename}.')\n",
    "        if not self.__file.closed:\n",
    "            self.__file.close()\n",
    "            \n",
    "        return False\n",
    "    "
   ]
  },
  {
   "cell_type": "code",
   "execution_count": 104,
   "id": "d17238ac",
   "metadata": {},
   "outputs": [
    {
     "name": "stdout",
     "output_type": "stream",
     "text": [
      "Opened file some_file.txt.\n",
      "Hello I am a context manager!\n",
      "Closed file some_file.txt.\n"
     ]
    }
   ],
   "source": [
    "with OpenFile('some_file.txt', 'r') as t:\n",
    "    print(t.read())"
   ]
  },
  {
   "cell_type": "code",
   "execution_count": 105,
   "id": "6f2e93b0",
   "metadata": {},
   "outputs": [
    {
     "name": "stdout",
     "output_type": "stream",
     "text": [
      "Opened file some_file.txt.\n",
      "Closed file some_file.txt.\n"
     ]
    }
   ],
   "source": [
    "with OpenFile('some_file.txt', 'a') as t:\n",
    "    t.write('Context managers are very useful!')"
   ]
  },
  {
   "cell_type": "code",
   "execution_count": 106,
   "id": "09484b4d",
   "metadata": {},
   "outputs": [
    {
     "name": "stdout",
     "output_type": "stream",
     "text": [
      "Opened file some_file.txt.\n",
      "Hello I am a context manager!Context managers are very useful!\n",
      "Closed file some_file.txt.\n"
     ]
    }
   ],
   "source": [
    "with OpenFile('some_file.txt', 'r') as t:\n",
    "    print(t.read())"
   ]
  },
  {
   "cell_type": "code",
   "execution_count": 107,
   "id": "83a18e98",
   "metadata": {},
   "outputs": [
    {
     "name": "stdout",
     "output_type": "stream",
     "text": [
      "Opened file some_file.txt.\n",
      "Closed file some_file.txt.\n"
     ]
    },
    {
     "ename": "AttributeError",
     "evalue": "'_io.TextIOWrapper' object has no attribute 'undefined_function'",
     "output_type": "error",
     "traceback": [
      "\u001b[1;31m---------------------------------------------------------------------------\u001b[0m",
      "\u001b[1;31mAttributeError\u001b[0m                            Traceback (most recent call last)",
      "\u001b[1;32m<ipython-input-107-89f560399e0b>\u001b[0m in \u001b[0;36m<module>\u001b[1;34m\u001b[0m\n\u001b[0;32m      2\u001b[0m \u001b[1;33m\u001b[0m\u001b[0m\n\u001b[0;32m      3\u001b[0m \u001b[1;32mwith\u001b[0m \u001b[0mOpenFile\u001b[0m\u001b[1;33m(\u001b[0m\u001b[1;34m'some_file.txt'\u001b[0m\u001b[1;33m,\u001b[0m \u001b[1;34m'r'\u001b[0m\u001b[1;33m)\u001b[0m \u001b[1;32mas\u001b[0m \u001b[0mt\u001b[0m\u001b[1;33m:\u001b[0m\u001b[1;33m\u001b[0m\u001b[1;33m\u001b[0m\u001b[0m\n\u001b[1;32m----> 4\u001b[1;33m     \u001b[0mt\u001b[0m\u001b[1;33m.\u001b[0m\u001b[0mundefined_function\u001b[0m\u001b[1;33m(\u001b[0m\u001b[1;34m'Hello!'\u001b[0m\u001b[1;33m)\u001b[0m\u001b[1;33m\u001b[0m\u001b[1;33m\u001b[0m\u001b[0m\n\u001b[0m",
      "\u001b[1;31mAttributeError\u001b[0m: '_io.TextIOWrapper' object has no attribute 'undefined_function'"
     ]
    }
   ],
   "source": [
    "#dealing with errors\n",
    "\n",
    "with OpenFile('some_file.txt', 'r') as t:\n",
    "    t.undefined_function('Hello!')"
   ]
  },
  {
   "cell_type": "code",
   "execution_count": 108,
   "id": "d92a5523",
   "metadata": {},
   "outputs": [],
   "source": [
    "class OpenFile:\n",
    "    def __init__(self, filename, mode):\n",
    "        self.filename = filename\n",
    "        self.mode = mode\n",
    "        \n",
    "    def __enter__(self):\n",
    "        print(f'Opened file {self.filename}.')\n",
    "        self.__file = open(self.filename, self.mode)\n",
    "        return self.__file\n",
    "    \n",
    "    def __exit__(self, exc_type, exc_value, exc_traceback):\n",
    "        print(f'Closed file {self.filename}.')\n",
    "        if not self.__file.closed:\n",
    "            self.__file.close()\n",
    "            \n",
    "        return True"
   ]
  },
  {
   "cell_type": "code",
   "execution_count": 109,
   "id": "55212007",
   "metadata": {},
   "outputs": [
    {
     "name": "stdout",
     "output_type": "stream",
     "text": [
      "Opened file some_file.txt.\n",
      "Closed file some_file.txt.\n"
     ]
    }
   ],
   "source": [
    "with OpenFile('some_file.txt', 'r') as t:\n",
    "    t.undefined_function('Hello!')"
   ]
  },
  {
   "cell_type": "code",
   "execution_count": 110,
   "id": "35594d4d",
   "metadata": {},
   "outputs": [
    {
     "name": "stdout",
     "output_type": "stream",
     "text": [
      "Opened file some_file.txt.\n",
      "Hello I am a context manager!Context managers are very useful!\n",
      "Closed file some_file.txt.\n"
     ]
    }
   ],
   "source": [
    "with OpenFile('some_file.txt', 'r') as t:\n",
    "    print(t.read())"
   ]
  },
  {
   "cell_type": "markdown",
   "id": "325195e4",
   "metadata": {},
   "source": [
    "### Context managers as generators"
   ]
  },
  {
   "cell_type": "code",
   "execution_count": 111,
   "id": "7a652df0",
   "metadata": {},
   "outputs": [],
   "source": [
    "from contextlib import contextmanager\n",
    "\n",
    "@contextmanager\n",
    "def open_file(filename, mode):\n",
    "    k = open(filename, mode)\n",
    "    try:\n",
    "        yield k\n",
    "        \n",
    "    finally:\n",
    "        k.close()"
   ]
  },
  {
   "cell_type": "code",
   "execution_count": 112,
   "id": "eeef278a",
   "metadata": {},
   "outputs": [
    {
     "name": "stdout",
     "output_type": "stream",
     "text": [
      "Hello I am a context manager!Context managers are very useful!\n"
     ]
    }
   ],
   "source": [
    "with open_file('some_file.txt', 'r') as t:\n",
    "    print(t.read())"
   ]
  },
  {
   "cell_type": "code",
   "execution_count": 113,
   "id": "5826337c",
   "metadata": {},
   "outputs": [],
   "source": [
    "with open_file('some_file.txt', 'w') as t:\n",
    "    t.write('12')"
   ]
  },
  {
   "cell_type": "code",
   "execution_count": 115,
   "id": "cd8a2b6e",
   "metadata": {},
   "outputs": [
    {
     "name": "stdout",
     "output_type": "stream",
     "text": [
      "Opened file some_file.txt.\n",
      "12\n",
      "Closed file some_file.txt.\n"
     ]
    }
   ],
   "source": [
    "with OpenFile('some_file.txt', 'r') as t:\n",
    "    print(int(next(t)))"
   ]
  },
  {
   "cell_type": "markdown",
   "id": "f0cec877",
   "metadata": {},
   "source": [
    "# Multithreading"
   ]
  },
  {
   "cell_type": "code",
   "execution_count": 117,
   "id": "b94b9843",
   "metadata": {},
   "outputs": [
    {
     "name": "stdout",
     "output_type": "stream",
     "text": [
      "Sleep 1 second...\n",
      "Done sleeping...\n",
      "Sleep 1 second...\n",
      "Done sleeping...\n",
      "Finished in 2.0 second(s)\n"
     ]
    }
   ],
   "source": [
    "import time\n",
    "\n",
    "start = time.perf_counter()\n",
    "\n",
    "def some_task():\n",
    "    print('Sleep 1 second...')\n",
    "    time.sleep(1)\n",
    "    print('Done sleeping...')\n",
    "    \n",
    "some_task()\n",
    "some_task()\n",
    "\n",
    "\n",
    "finish = time.perf_counter()\n",
    "\n",
    "print(f'Finished in {round(finish - start, 2)} second(s)')"
   ]
  },
  {
   "cell_type": "code",
   "execution_count": 120,
   "id": "22aa7c09",
   "metadata": {},
   "outputs": [
    {
     "name": "stdout",
     "output_type": "stream",
     "text": [
      "Sleep 1 second...\n",
      "Sleep 1 second...\n",
      "Done sleeping...Done sleeping...\n",
      "\n",
      "Finished in 1.01 second(s)\n"
     ]
    }
   ],
   "source": [
    "import time\n",
    "import threading\n",
    "\n",
    "start = time.perf_counter()\n",
    "\n",
    "def some_task():\n",
    "    print('Sleep 1 second...')\n",
    "    time.sleep(1)\n",
    "    print('Done sleeping...')\n",
    "    \n",
    "t1 = threading.Thread(target=some_task)\n",
    "t2 = threading.Thread(target=some_task)\n",
    "\n",
    "t1.start()\n",
    "t2.start()\n",
    "\n",
    "t1.join()\n",
    "t2.join()\n",
    "\n",
    "finish = time.perf_counter()\n",
    "\n",
    "print(f'Finished in {round(finish - start, 2)} second(s)')"
   ]
  },
  {
   "cell_type": "code",
   "execution_count": 124,
   "id": "2c9d8ce8",
   "metadata": {},
   "outputs": [
    {
     "name": "stdout",
     "output_type": "stream",
     "text": [
      "Start sleeping for 1 second...\n",
      "Start sleeping for 1 second...\n",
      "Start sleeping for 1 second...\n",
      "Start sleeping for 1 second...\n",
      "Start sleeping for 1 second...\n",
      "Start sleeping for 1 second...\n",
      "Start sleeping for 1 second...\n",
      "Start sleeping for 1 second...\n",
      "Start sleeping for 1 second...\n",
      "Start sleeping for 1 second...\n",
      "Done sleeping...\n",
      "Done sleeping...Done sleeping...Done sleeping...Done sleeping...\n",
      "\n",
      "\n",
      "\n",
      "Done sleeping...\n",
      "Done sleeping...Done sleeping...Done sleeping...Done sleeping...\n",
      "\n",
      "\n",
      "\n",
      "Finished in 1.04 second(s)\n"
     ]
    }
   ],
   "source": [
    "start = time.perf_counter()\n",
    "\n",
    "def some_task():\n",
    "    print('Start sleeping for 1 second...')\n",
    "    time.sleep(1)\n",
    "    print('Done sleeping...')\n",
    "    \n",
    "t1 = threading.Thread(target=some_task)\n",
    "t2 = threading.Thread(target=some_task)\n",
    "\n",
    "threads = []\n",
    "for _ in range(10):\n",
    "    t = threading.Thread(target=some_task)\n",
    "    t.start()\n",
    "    threads.append(t)\n",
    "    \n",
    "for thread in threads:\n",
    "    thread.join()\n",
    "\n",
    "finish = time.perf_counter()\n",
    "\n",
    "print(f'Finished in {round(finish - start, 2)} second(s)')"
   ]
  },
  {
   "cell_type": "code",
   "execution_count": 127,
   "id": "416c360e",
   "metadata": {},
   "outputs": [
    {
     "name": "stdout",
     "output_type": "stream",
     "text": [
      "Start sleeping for 1.5 second(s)...\n",
      "Start sleeping for 1.5 second(s)...\n",
      "Start sleeping for 1.5 second(s)...Start sleeping for 1.5 second(s)...\n",
      "Start sleeping for 1.5 second(s)...\n",
      "\n",
      "Start sleeping for 1.5 second(s)...\n",
      "Start sleeping for 1.5 second(s)...Start sleeping for 1.5 second(s)...\n",
      "\n",
      "Start sleeping for 1.5 second(s)...\n",
      "Start sleeping for 1.5 second(s)...\n",
      "Done sleeping...Done sleeping...\n",
      "\n",
      "Done sleeping...\n",
      "Done sleeping...Done sleeping...\n",
      "\n",
      "Done sleeping...\n",
      "Done sleeping...\n",
      "Done sleeping...\n",
      "Done sleeping...Done sleeping...\n",
      "\n",
      "Finished in 1.54 second(s)\n"
     ]
    }
   ],
   "source": [
    "#passing args\n",
    "\n",
    "start = time.perf_counter()\n",
    "\n",
    "def some_task(seconds):\n",
    "    print(f'Start sleeping for {seconds} second(s)...')\n",
    "    time.sleep(seconds)\n",
    "    print('Done sleeping...')\n",
    "    \n",
    "t1 = threading.Thread(target=some_task)\n",
    "t2 = threading.Thread(target=some_task)\n",
    "\n",
    "threads = []\n",
    "for _ in range(10):\n",
    "    t = threading.Thread(target=some_task, args = [1.5])\n",
    "    t.start()\n",
    "    threads.append(t)\n",
    "    \n",
    "for thread in threads:\n",
    "    thread.join()\n",
    "\n",
    "finish = time.perf_counter()\n",
    "\n",
    "print(f'Finished in {round(finish - start, 2)} second(s)')"
   ]
  },
  {
   "cell_type": "code",
   "execution_count": 129,
   "id": "777debed",
   "metadata": {},
   "outputs": [
    {
     "name": "stdout",
     "output_type": "stream",
     "text": [
      "Start sleeping for 1 second(s)...\n",
      "Start sleeping for 1 second(s)...\n",
      "Done sleeping...\n",
      "Finished in 1.02 second(s)\n"
     ]
    }
   ],
   "source": [
    "import concurrent.futures\n",
    "\n",
    "\n",
    "start = time.perf_counter()\n",
    "\n",
    "def some_task(seconds):\n",
    "    print(f'Start sleeping for {seconds} second(s)...')\n",
    "    time.sleep(seconds)\n",
    "    return 'Done sleeping...'\n",
    "    \n",
    "with concurrent.futures.ThreadPoolExecutor() as executor:\n",
    "    f1 = executor.submit(some_task, 1)\n",
    "    f2 = executor.submit(some_task, 1)\n",
    "    \n",
    "    \n",
    "    print(f1.result())\n",
    "    \n",
    "\n",
    "\n",
    "finish = time.perf_counter()\n",
    "\n",
    "print(f'Finished in {round(finish - start, 2)} second(s)')"
   ]
  },
  {
   "cell_type": "code",
   "execution_count": 2,
   "id": "94d1e426",
   "metadata": {},
   "outputs": [
    {
     "name": "stdout",
     "output_type": "stream",
     "text": [
      "Start sleeping for 1 second(s)...\n",
      "Start sleeping for 1 second(s)...\n",
      "Start sleeping for 1 second(s)...Start sleeping for 1 second(s)...\n",
      "Start sleeping for 1 second(s)...\n",
      "\n",
      "Start sleeping for 1 second(s)...\n",
      "Start sleeping for 1 second(s)...\n",
      "Start sleeping for 1 second(s)...\n",
      "Start sleeping for 1 second(s)...Start sleeping for 1 second(s)...Done sleeping...\n",
      "\n",
      "\n",
      "Done sleeping...\n",
      "Done sleeping...\n",
      "Done sleeping...\n",
      "Done sleeping...\n",
      "Done sleeping...\n",
      "Done sleeping...\n",
      "Done sleeping...\n",
      "Done sleeping...\n",
      "Done sleeping...\n",
      "Finished in 2.04 second(s)\n"
     ]
    }
   ],
   "source": [
    "import concurrent.futures\n",
    "import time\n",
    "\n",
    "\n",
    "start = time.perf_counter()\n",
    "\n",
    "def some_task(seconds):\n",
    "    print(f'Start sleeping for {seconds} second(s)...')\n",
    "    time.sleep(seconds)\n",
    "    return 'Done sleeping...'\n",
    "    \n",
    "with concurrent.futures.ThreadPoolExecutor() as executor:\n",
    "    results = [executor.submit(some_task, 1) for _ in range(10)]\n",
    "    \n",
    "    for future in concurrent.futures.as_completed(results):\n",
    "        print(future.result())    \n",
    "\n",
    "\n",
    "finish = time.perf_counter()\n",
    "\n",
    "print(f'Finished in {round(finish - start, 2)} second(s)')"
   ]
  },
  {
   "cell_type": "code",
   "execution_count": 4,
   "id": "0e7c3142",
   "metadata": {},
   "outputs": [
    {
     "name": "stdout",
     "output_type": "stream",
     "text": [
      "Start sleeping for 5 second(s)...\n",
      "Start sleeping for 4 second(s)...\n",
      "Start sleeping for 3 second(s)...\n",
      "Start sleeping for 2 second(s)...\n",
      "Start sleeping for 1 second(s)...\n",
      "Done sleeping...1\n",
      "Done sleeping...2\n",
      "Done sleeping...3\n",
      "Done sleeping...4\n",
      "Done sleeping...5\n",
      "Finished in 5.01 second(s)\n"
     ]
    }
   ],
   "source": [
    "\n",
    "start = time.perf_counter()\n",
    "\n",
    "def some_task(seconds):\n",
    "    print(f'Start sleeping for {seconds} second(s)...')\n",
    "    time.sleep(seconds)\n",
    "    return f'Done sleeping...{seconds}'\n",
    "    \n",
    "with concurrent.futures.ThreadPoolExecutor() as executor:\n",
    "    secs = [5,4,3,2,1]\n",
    "    results = [executor.submit(some_task, sec) for sec in secs]\n",
    "    \n",
    "    for future in concurrent.futures.as_completed(results):\n",
    "        print(future.result())    \n",
    "\n",
    "\n",
    "finish = time.perf_counter()\n",
    "\n",
    "print(f'Finished in {round(finish - start, 2)} second(s)')"
   ]
  },
  {
   "cell_type": "code",
   "execution_count": 6,
   "id": "2744d0dd",
   "metadata": {},
   "outputs": [
    {
     "name": "stdout",
     "output_type": "stream",
     "text": [
      "Start sleeping for 5 second(s)...\n",
      "Start sleeping for 4 second(s)...\n",
      "Start sleeping for 3 second(s)...\n",
      "Start sleeping for 2 second(s)...\n",
      "Start sleeping for 1 second(s)...\n",
      "Done sleeping...5\n",
      "Done sleeping...4\n",
      "Done sleeping...3\n",
      "Done sleeping...2\n",
      "Done sleeping...1\n",
      "Finished in 5.01 second(s)\n"
     ]
    }
   ],
   "source": [
    "start = time.perf_counter()\n",
    "\n",
    "def some_task(seconds):\n",
    "    print(f'Start sleeping for {seconds} second(s)...')\n",
    "    time.sleep(seconds)\n",
    "    return f'Done sleeping...{seconds}'\n",
    "    \n",
    "with concurrent.futures.ThreadPoolExecutor() as executor:\n",
    "    secs = [5,4,3,2,1]\n",
    "    results = executor.map(some_task, secs)\n",
    "    \n",
    "    for result in results:\n",
    "        print(result)\n",
    "      \n",
    "\n",
    "\n",
    "finish = time.perf_counter()\n",
    "\n",
    "print(f'Finished in {round(finish - start, 2)} second(s)')"
   ]
  },
  {
   "cell_type": "code",
   "execution_count": 7,
   "id": "0c7dd382",
   "metadata": {},
   "outputs": [
    {
     "name": "stdout",
     "output_type": "stream",
     "text": [
      "photo-1516117172878-fd2c41f4a759.jpg was downloaded...\n",
      "photo-1532009324734-20a7a5813719.jpg was downloaded...\n",
      "photo-1524429656589-6633a470097c.jpg was downloaded...\n",
      "photo-1530224264768-7ff8c1789d79.jpg was downloaded...\n",
      "photo-1564135624576-c5c88640f235.jpg was downloaded...\n",
      "photo-1541698444083-023c97d3f4b6.jpg was downloaded...\n",
      "photo-1522364723953-452d3431c267.jpg was downloaded...\n",
      "photo-1513938709626-033611b8cc03.jpg was downloaded...\n",
      "photo-1507143550189-fed454f93097.jpg was downloaded...\n",
      "photo-1493976040374-85c8e12f0c0e.jpg was downloaded...\n",
      "photo-1504198453319-5ce911bafcde.jpg was downloaded...\n",
      "photo-1530122037265-a5f1f91d3b99.jpg was downloaded...\n",
      "photo-1516972810927-80185027ca84.jpg was downloaded...\n",
      "photo-1550439062-609e1531270e.jpg was downloaded...\n",
      "photo-1549692520-acc6669e2f0c.jpg was downloaded...\n",
      "Finished in 6.66045680000002 seconds\n"
     ]
    }
   ],
   "source": [
    "import requests\n",
    "import time\n",
    "\n",
    "\n",
    "img_urls = [\n",
    "    'https://images.unsplash.com/photo-1516117172878-fd2c41f4a759',\n",
    "    'https://images.unsplash.com/photo-1532009324734-20a7a5813719',\n",
    "    'https://images.unsplash.com/photo-1524429656589-6633a470097c',\n",
    "    'https://images.unsplash.com/photo-1530224264768-7ff8c1789d79',\n",
    "    'https://images.unsplash.com/photo-1564135624576-c5c88640f235',\n",
    "    'https://images.unsplash.com/photo-1541698444083-023c97d3f4b6',\n",
    "    'https://images.unsplash.com/photo-1522364723953-452d3431c267',\n",
    "    'https://images.unsplash.com/photo-1513938709626-033611b8cc03',\n",
    "    'https://images.unsplash.com/photo-1507143550189-fed454f93097',\n",
    "    'https://images.unsplash.com/photo-1493976040374-85c8e12f0c0e',\n",
    "    'https://images.unsplash.com/photo-1504198453319-5ce911bafcde',\n",
    "    'https://images.unsplash.com/photo-1530122037265-a5f1f91d3b99',\n",
    "    'https://images.unsplash.com/photo-1516972810927-80185027ca84',\n",
    "    'https://images.unsplash.com/photo-1550439062-609e1531270e',\n",
    "    'https://images.unsplash.com/photo-1549692520-acc6669e2f0c'\n",
    "]\n",
    "\n",
    "t1 = time.perf_counter()\n",
    "\n",
    "for img_url in img_urls:\n",
    "    img_bytes = requests.get(img_url).content\n",
    "    img_name = img_url.split('/')[3]\n",
    "    img_name = f'{img_name}.jpg'\n",
    "    \n",
    "    with open(img_name, 'wb') as img_file:\n",
    "        img_file.write(img_bytes)\n",
    "        print(f'{img_name} was downloaded...')\n",
    "        \n",
    "        \n",
    "t2 = time.perf_counter()\n",
    "\n",
    "print(f'Finished in {t2-t1} seconds')"
   ]
  },
  {
   "cell_type": "code",
   "execution_count": 8,
   "id": "8f6adf2e",
   "metadata": {},
   "outputs": [
    {
     "name": "stdout",
     "output_type": "stream",
     "text": [
      "photo-1516117172878-fd2c41f4a759.jpg was downloaded...\n",
      "photo-1564135624576-c5c88640f235.jpg was downloaded...\n",
      "photo-1524429656589-6633a470097c.jpg was downloaded...\n",
      "photo-1530224264768-7ff8c1789d79.jpg was downloaded...\n",
      "photo-1532009324734-20a7a5813719.jpg was downloaded...\n",
      "photo-1507143550189-fed454f93097.jpg was downloaded...\n",
      "photo-1504198453319-5ce911bafcde.jpg was downloaded...\n",
      "photo-1530122037265-a5f1f91d3b99.jpg was downloaded...\n",
      "photo-1549692520-acc6669e2f0c.jpg was downloaded...\n",
      "photo-1522364723953-452d3431c267.jpg was downloaded...\n",
      "photo-1516972810927-80185027ca84.jpg was downloaded...\n",
      "photo-1550439062-609e1531270e.jpg was downloaded...\n",
      "photo-1493976040374-85c8e12f0c0e.jpg was downloaded...\n",
      "photo-1541698444083-023c97d3f4b6.jpg was downloaded...\n",
      "photo-1513938709626-033611b8cc03.jpg was downloaded...\n",
      "Finished in 2.8767609999999877 seconds\n"
     ]
    }
   ],
   "source": [
    "import requests\n",
    "import time\n",
    "import concurrent.futures\n",
    "\n",
    "\n",
    "img_urls = [\n",
    "    'https://images.unsplash.com/photo-1516117172878-fd2c41f4a759',\n",
    "    'https://images.unsplash.com/photo-1532009324734-20a7a5813719',\n",
    "    'https://images.unsplash.com/photo-1524429656589-6633a470097c',\n",
    "    'https://images.unsplash.com/photo-1530224264768-7ff8c1789d79',\n",
    "    'https://images.unsplash.com/photo-1564135624576-c5c88640f235',\n",
    "    'https://images.unsplash.com/photo-1541698444083-023c97d3f4b6',\n",
    "    'https://images.unsplash.com/photo-1522364723953-452d3431c267',\n",
    "    'https://images.unsplash.com/photo-1513938709626-033611b8cc03',\n",
    "    'https://images.unsplash.com/photo-1507143550189-fed454f93097',\n",
    "    'https://images.unsplash.com/photo-1493976040374-85c8e12f0c0e',\n",
    "    'https://images.unsplash.com/photo-1504198453319-5ce911bafcde',\n",
    "    'https://images.unsplash.com/photo-1530122037265-a5f1f91d3b99',\n",
    "    'https://images.unsplash.com/photo-1516972810927-80185027ca84',\n",
    "    'https://images.unsplash.com/photo-1550439062-609e1531270e',\n",
    "    'https://images.unsplash.com/photo-1549692520-acc6669e2f0c'\n",
    "]\n",
    "\n",
    "t1 = time.perf_counter()\n",
    "\n",
    "def download_img(img_url):\n",
    "    img_bytes = requests.get(img_url).content\n",
    "    img_name = img_url.split('/')[3]\n",
    "    img_name = f'{img_name}.jpg'\n",
    "    \n",
    "    with open(img_name, 'wb') as img_file:\n",
    "        img_file.write(img_bytes)\n",
    "        print(f'{img_name} was downloaded...')\n",
    "        \n",
    "        \n",
    "with concurrent.futures.ThreadPoolExecutor() as executor:\n",
    "    executor.map(download_img, img_urls)\n",
    "        \n",
    "t2 = time.perf_counter()\n",
    "\n",
    "print(f'Finished in {t2-t1} seconds')"
   ]
  },
  {
   "cell_type": "markdown",
   "id": "44eec4c4",
   "metadata": {},
   "source": [
    "### Synchronization"
   ]
  },
  {
   "cell_type": "code",
   "execution_count": 10,
   "id": "262ac071",
   "metadata": {},
   "outputs": [],
   "source": [
    "import threading\n",
    "\n",
    "x = 0  #global variable\n",
    "\n",
    "def increment():\n",
    "    '''\n",
    "    incrementing the global variable x\n",
    "    '''\n",
    "    global x\n",
    "    x += 1\n",
    "    \n",
    "\n",
    "def thread_task():\n",
    "    '''\n",
    "    task threads to call increment function 100000 times\n",
    "    '''\n",
    "    for _ in range(100000):\n",
    "        increment()\n",
    "\n",
    "        \n",
    "def main_task():\n",
    "    global x\n",
    "    \n",
    "    x = 0\n",
    "    \n",
    "    #creating threads\n",
    "    t1 = threading.Thread(target = thread_task)\n",
    "    t2 = threading.Thread(target = thread_task)\n",
    "    \n",
    "    #start thread\n",
    "    t1.start()\n",
    "    t2.start()\n",
    "    \n",
    "    t1.join()\n",
    "    t2.join()"
   ]
  },
  {
   "cell_type": "code",
   "execution_count": 11,
   "id": "c23b64f5",
   "metadata": {},
   "outputs": [
    {
     "name": "stdout",
     "output_type": "stream",
     "text": [
      "Iteration 0: x = 200000\n",
      "Iteration 1: x = 200000\n",
      "Iteration 2: x = 163882\n",
      "Iteration 3: x = 200000\n",
      "Iteration 4: x = 158265\n",
      "Iteration 5: x = 200000\n",
      "Iteration 6: x = 151974\n",
      "Iteration 7: x = 200000\n",
      "Iteration 8: x = 200000\n",
      "Iteration 9: x = 155974\n"
     ]
    }
   ],
   "source": [
    "for i in range(10):\n",
    "    main_task()\n",
    "    print(f'Iteration {i}: x = {x}')\n",
    "    "
   ]
  },
  {
   "cell_type": "code",
   "execution_count": 12,
   "id": "7b7d7688",
   "metadata": {},
   "outputs": [],
   "source": [
    "x = 0  #global variable\n",
    "\n",
    "def increment():\n",
    "    '''\n",
    "    incrementing the global variable x\n",
    "    '''\n",
    "    global x\n",
    "    x += 1\n",
    "    \n",
    "\n",
    "def thread_task(lock):\n",
    "    '''\n",
    "    task threads to call increment function 100000 times\n",
    "    '''\n",
    "    for _ in range(100000):\n",
    "        lock.acquire()\n",
    "        increment()\n",
    "        lock.release()\n",
    "        \n",
    "\n",
    "        \n",
    "def main_task():\n",
    "    global x\n",
    "    \n",
    "    x = 0\n",
    "    \n",
    "    lock = threading.Lock()\n",
    "    \n",
    "    #creating threads\n",
    "    t1 = threading.Thread(target = thread_task, args = [lock,])\n",
    "    t2 = threading.Thread(target = thread_task, args = [lock,])\n",
    "    \n",
    "    #start thread\n",
    "    t1.start()\n",
    "    t2.start()\n",
    "    \n",
    "    t1.join()\n",
    "    t2.join()"
   ]
  },
  {
   "cell_type": "code",
   "execution_count": 13,
   "id": "2096c655",
   "metadata": {},
   "outputs": [
    {
     "name": "stdout",
     "output_type": "stream",
     "text": [
      "Iteration 0: x = 200000\n",
      "Iteration 1: x = 200000\n",
      "Iteration 2: x = 200000\n",
      "Iteration 3: x = 200000\n",
      "Iteration 4: x = 200000\n",
      "Iteration 5: x = 200000\n",
      "Iteration 6: x = 200000\n",
      "Iteration 7: x = 200000\n",
      "Iteration 8: x = 200000\n",
      "Iteration 9: x = 200000\n"
     ]
    }
   ],
   "source": [
    "for i in range(10):\n",
    "    main_task()\n",
    "    print(f'Iteration {i}: x = {x}')"
   ]
  },
  {
   "cell_type": "code",
   "execution_count": 14,
   "id": "eef67e0f",
   "metadata": {},
   "outputs": [
    {
     "name": "stdout",
     "output_type": "stream",
     "text": [
      "hello\n"
     ]
    }
   ],
   "source": [
    "print('hello')"
   ]
  },
  {
   "cell_type": "code",
   "execution_count": 43,
   "id": "4191b514",
   "metadata": {},
   "outputs": [
    {
     "ename": "OSError",
     "evalue": "[WinError 193] %1 is not a valid Win32 application",
     "output_type": "error",
     "traceback": [
      "\u001b[1;31m---------------------------------------------------------------------------\u001b[0m",
      "\u001b[1;31mOSError\u001b[0m                                   Traceback (most recent call last)",
      "\u001b[1;32m<ipython-input-43-cb47db0871bc>\u001b[0m in \u001b[0;36m<module>\u001b[1;34m\u001b[0m\n\u001b[0;32m      1\u001b[0m \u001b[1;32mimport\u001b[0m \u001b[0mctypes\u001b[0m\u001b[1;33m\u001b[0m\u001b[1;33m\u001b[0m\u001b[0m\n\u001b[0;32m      2\u001b[0m \u001b[1;33m\u001b[0m\u001b[0m\n\u001b[1;32m----> 3\u001b[1;33m \u001b[0madder\u001b[0m \u001b[1;33m=\u001b[0m \u001b[0mctypes\u001b[0m\u001b[1;33m.\u001b[0m\u001b[0mCDLL\u001b[0m\u001b[1;33m(\u001b[0m\u001b[1;34m\"add\"\u001b[0m\u001b[1;33m)\u001b[0m\u001b[1;33m\u001b[0m\u001b[1;33m\u001b[0m\u001b[0m\n\u001b[0m\u001b[0;32m      4\u001b[0m \u001b[1;33m\u001b[0m\u001b[0m\n\u001b[0;32m      5\u001b[0m \u001b[0mres_int\u001b[0m \u001b[1;33m=\u001b[0m \u001b[0madder\u001b[0m\u001b[1;33m.\u001b[0m\u001b[0madd_int\u001b[0m\u001b[1;33m(\u001b[0m\u001b[1;36m4\u001b[0m\u001b[1;33m,\u001b[0m\u001b[1;36m5\u001b[0m\u001b[1;33m)\u001b[0m\u001b[1;33m\u001b[0m\u001b[1;33m\u001b[0m\u001b[0m\n",
      "\u001b[1;32mC:\\ProgramData\\Anaconda3\\lib\\ctypes\\__init__.py\u001b[0m in \u001b[0;36m__init__\u001b[1;34m(self, name, mode, handle, use_errno, use_last_error, winmode)\u001b[0m\n\u001b[0;32m    379\u001b[0m \u001b[1;33m\u001b[0m\u001b[0m\n\u001b[0;32m    380\u001b[0m         \u001b[1;32mif\u001b[0m \u001b[0mhandle\u001b[0m \u001b[1;32mis\u001b[0m \u001b[1;32mNone\u001b[0m\u001b[1;33m:\u001b[0m\u001b[1;33m\u001b[0m\u001b[1;33m\u001b[0m\u001b[0m\n\u001b[1;32m--> 381\u001b[1;33m             \u001b[0mself\u001b[0m\u001b[1;33m.\u001b[0m\u001b[0m_handle\u001b[0m \u001b[1;33m=\u001b[0m \u001b[0m_dlopen\u001b[0m\u001b[1;33m(\u001b[0m\u001b[0mself\u001b[0m\u001b[1;33m.\u001b[0m\u001b[0m_name\u001b[0m\u001b[1;33m,\u001b[0m \u001b[0mmode\u001b[0m\u001b[1;33m)\u001b[0m\u001b[1;33m\u001b[0m\u001b[1;33m\u001b[0m\u001b[0m\n\u001b[0m\u001b[0;32m    382\u001b[0m         \u001b[1;32melse\u001b[0m\u001b[1;33m:\u001b[0m\u001b[1;33m\u001b[0m\u001b[1;33m\u001b[0m\u001b[0m\n\u001b[0;32m    383\u001b[0m             \u001b[0mself\u001b[0m\u001b[1;33m.\u001b[0m\u001b[0m_handle\u001b[0m \u001b[1;33m=\u001b[0m \u001b[0mhandle\u001b[0m\u001b[1;33m\u001b[0m\u001b[1;33m\u001b[0m\u001b[0m\n",
      "\u001b[1;31mOSError\u001b[0m: [WinError 193] %1 is not a valid Win32 application"
     ]
    }
   ],
   "source": [
    "import ctypes\n",
    "\n",
    "adder = ctypes.CDLL(\"add\")\n",
    "\n",
    "res_int = adder.add_int(4,5)\n",
    "print(\"sum of 4 and 5 = \" + str(res_int))\n",
    "\n",
    "a = c_float(5.5)\n",
    "b = c_float(4.1)\n",
    "\n",
    "\n",
    "add_float = adder.add_float\n",
    "add_float.restype = c_float\n",
    "print(\"sum of 5.5 and 4.1 = \", str(add_float(a,b)))"
   ]
  },
  {
   "cell_type": "code",
   "execution_count": 45,
   "id": "e15d8e94",
   "metadata": {},
   "outputs": [
    {
     "name": "stdout",
     "output_type": "stream",
     "text": [
      "1653459488\n"
     ]
    }
   ],
   "source": [
    "from ctypes import *\n",
    "libc = cdll.msvcrt\n",
    "print(libc.time(None))\n"
   ]
  },
  {
   "cell_type": "code",
   "execution_count": null,
   "id": "eca5bf1a",
   "metadata": {},
   "outputs": [],
   "source": []
  }
 ],
 "metadata": {
  "kernelspec": {
   "display_name": "Python 3 (ipykernel)",
   "language": "python",
   "name": "python3"
  },
  "language_info": {
   "codemirror_mode": {
    "name": "ipython",
    "version": 3
   },
   "file_extension": ".py",
   "mimetype": "text/x-python",
   "name": "python",
   "nbconvert_exporter": "python",
   "pygments_lexer": "ipython3",
   "version": "3.11.5"
  }
 },
 "nbformat": 4,
 "nbformat_minor": 5
}

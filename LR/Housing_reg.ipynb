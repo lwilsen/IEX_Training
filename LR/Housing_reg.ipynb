{
 "cells": [
  {
   "cell_type": "code",
   "execution_count": 6,
   "id": "14d3bef2-bba6-439c-9b4f-f8fe2d21c238",
   "metadata": {
    "tags": []
   },
   "outputs": [],
   "source": [
    "#Importing Necessary libraries\n",
    "\n",
    "import matplotlib.pyplot as plt\n",
    "from mlxtend.plotting import scatterplotmatrix\n",
    "import numpy as np\n",
    "import seaborn as sns\n",
    "from sklearn.linear_model import LinearRegression\n",
    "from sklearn.linear_model import RANSACRegressor\n",
    "from sklearn.model_selection import train_test_split\n",
    "from sklearn.metrics import mean_squared_error\n",
    "from sklearn.metrics import mean_absolute_error\n",
    "from sklearn.metrics import r2_score\n",
    "from sklearn.linear_model import Lasso\n",
    "from sklearn.linear_model import Ridge\n",
    "from sklearn.linear_model import ElasticNet\n",
    "from sklearn.preprocessing import PolynomialFeatures\n",
    "from sklearn.tree import DecisionTreeRegressor\n",
    "from sklearn.ensemble import RandomForestRegressor\n",
    "import pandas as pd"
   ]
  },
  {
   "cell_type": "code",
   "execution_count": null,
   "id": "132fc9c0-03a3-4ac7-9b4d-be7c647f49cc",
   "metadata": {
    "tags": []
   },
   "outputs": [],
   "source": [
    "columns = ['Overall Qual', 'Overall Cond', 'Gr Liv Area',\n",
    "           'Central Air', 'Total Bsmt SF', 'SalePrice','Fireplaces', 'Neighborhood']\n",
    "\n",
    "\n",
    "\n",
    "df = pd.read_csv('http://jse.amstat.org/v19n3/decock/AmesHousing.txt', \n",
    "                 sep='\\t',\n",
    "                usecols = columns)\n",
    "\n",
    "df.head()"
   ]
  }
 ],
 "metadata": {
  "kernelspec": {
   "display_name": "Python 3 (ipykernel)",
   "language": "python",
   "name": "python3"
  },
  "language_info": {
   "codemirror_mode": {
    "name": "ipython",
    "version": 3
   },
   "file_extension": ".py",
   "mimetype": "text/x-python",
   "name": "python",
   "nbconvert_exporter": "python",
   "pygments_lexer": "ipython3",
   "version": "3.11.5"
  }
 },
 "nbformat": 4,
 "nbformat_minor": 5
}

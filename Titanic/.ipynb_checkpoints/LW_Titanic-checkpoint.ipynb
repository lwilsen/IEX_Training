{
 "cells": [
  {
   "cell_type": "markdown",
   "id": "7465fa8c-8747-4029-9625-bbe09c96034b",
   "metadata": {},
   "source": [
    "# Reading in intial dataset"
   ]
  },
  {
   "cell_type": "code",
   "execution_count": 86,
   "id": "344ff259-d9d9-402b-af7d-5c3df93be782",
   "metadata": {
    "tags": []
   },
   "outputs": [
    {
     "data": {
      "text/html": [
       "<div>\n",
       "<style scoped>\n",
       "    .dataframe tbody tr th:only-of-type {\n",
       "        vertical-align: middle;\n",
       "    }\n",
       "\n",
       "    .dataframe tbody tr th {\n",
       "        vertical-align: top;\n",
       "    }\n",
       "\n",
       "    .dataframe thead th {\n",
       "        text-align: right;\n",
       "    }\n",
       "</style>\n",
       "<table border=\"1\" class=\"dataframe\">\n",
       "  <thead>\n",
       "    <tr style=\"text-align: right;\">\n",
       "      <th></th>\n",
       "      <th>PassengerId</th>\n",
       "      <th>Survived</th>\n",
       "      <th>Pclass</th>\n",
       "      <th>Name</th>\n",
       "      <th>Sex</th>\n",
       "      <th>Age</th>\n",
       "      <th>SibSp</th>\n",
       "      <th>Parch</th>\n",
       "      <th>Ticket</th>\n",
       "      <th>Fare</th>\n",
       "      <th>Cabin</th>\n",
       "      <th>Embarked</th>\n",
       "    </tr>\n",
       "  </thead>\n",
       "  <tbody>\n",
       "    <tr>\n",
       "      <th>0</th>\n",
       "      <td>1</td>\n",
       "      <td>0</td>\n",
       "      <td>3</td>\n",
       "      <td>Braund, Mr. Owen Harris</td>\n",
       "      <td>male</td>\n",
       "      <td>22.0</td>\n",
       "      <td>1</td>\n",
       "      <td>0</td>\n",
       "      <td>A/5 21171</td>\n",
       "      <td>7.2500</td>\n",
       "      <td>NaN</td>\n",
       "      <td>S</td>\n",
       "    </tr>\n",
       "    <tr>\n",
       "      <th>1</th>\n",
       "      <td>2</td>\n",
       "      <td>1</td>\n",
       "      <td>1</td>\n",
       "      <td>Cumings, Mrs. John Bradley (Florence Briggs Th...</td>\n",
       "      <td>female</td>\n",
       "      <td>38.0</td>\n",
       "      <td>1</td>\n",
       "      <td>0</td>\n",
       "      <td>PC 17599</td>\n",
       "      <td>71.2833</td>\n",
       "      <td>C85</td>\n",
       "      <td>C</td>\n",
       "    </tr>\n",
       "    <tr>\n",
       "      <th>2</th>\n",
       "      <td>3</td>\n",
       "      <td>1</td>\n",
       "      <td>3</td>\n",
       "      <td>Heikkinen, Miss. Laina</td>\n",
       "      <td>female</td>\n",
       "      <td>26.0</td>\n",
       "      <td>0</td>\n",
       "      <td>0</td>\n",
       "      <td>STON/O2. 3101282</td>\n",
       "      <td>7.9250</td>\n",
       "      <td>NaN</td>\n",
       "      <td>S</td>\n",
       "    </tr>\n",
       "    <tr>\n",
       "      <th>3</th>\n",
       "      <td>4</td>\n",
       "      <td>1</td>\n",
       "      <td>1</td>\n",
       "      <td>Futrelle, Mrs. Jacques Heath (Lily May Peel)</td>\n",
       "      <td>female</td>\n",
       "      <td>35.0</td>\n",
       "      <td>1</td>\n",
       "      <td>0</td>\n",
       "      <td>113803</td>\n",
       "      <td>53.1000</td>\n",
       "      <td>C123</td>\n",
       "      <td>S</td>\n",
       "    </tr>\n",
       "    <tr>\n",
       "      <th>4</th>\n",
       "      <td>5</td>\n",
       "      <td>0</td>\n",
       "      <td>3</td>\n",
       "      <td>Allen, Mr. William Henry</td>\n",
       "      <td>male</td>\n",
       "      <td>35.0</td>\n",
       "      <td>0</td>\n",
       "      <td>0</td>\n",
       "      <td>373450</td>\n",
       "      <td>8.0500</td>\n",
       "      <td>NaN</td>\n",
       "      <td>S</td>\n",
       "    </tr>\n",
       "  </tbody>\n",
       "</table>\n",
       "</div>"
      ],
      "text/plain": [
       "   PassengerId  Survived  Pclass  \\\n",
       "0            1         0       3   \n",
       "1            2         1       1   \n",
       "2            3         1       3   \n",
       "3            4         1       1   \n",
       "4            5         0       3   \n",
       "\n",
       "                                                Name     Sex   Age  SibSp  \\\n",
       "0                            Braund, Mr. Owen Harris    male  22.0      1   \n",
       "1  Cumings, Mrs. John Bradley (Florence Briggs Th...  female  38.0      1   \n",
       "2                             Heikkinen, Miss. Laina  female  26.0      0   \n",
       "3       Futrelle, Mrs. Jacques Heath (Lily May Peel)  female  35.0      1   \n",
       "4                           Allen, Mr. William Henry    male  35.0      0   \n",
       "\n",
       "   Parch            Ticket     Fare Cabin Embarked  \n",
       "0      0         A/5 21171   7.2500   NaN        S  \n",
       "1      0          PC 17599  71.2833   C85        C  \n",
       "2      0  STON/O2. 3101282   7.9250   NaN        S  \n",
       "3      0            113803  53.1000  C123        S  \n",
       "4      0            373450   8.0500   NaN        S  "
      ]
     },
     "execution_count": 86,
     "metadata": {},
     "output_type": "execute_result"
    }
   ],
   "source": [
    "import pandas as pd\n",
    "import numpy as np\n",
    "import sklearn as sk\n",
    "import matplotlib.pyplot as plt\n",
    "\n",
    "train = pd.read_csv('titanic_train.csv')\n",
    "final_test = pd.read_csv('titanic_test.csv')\n",
    "\n",
    "train.head()"
   ]
  },
  {
   "cell_type": "code",
   "execution_count": 87,
   "id": "b7f40ebb-c8ab-40c8-9b7d-c75afcd32cfc",
   "metadata": {
    "tags": []
   },
   "outputs": [
    {
     "name": "stdout",
     "output_type": "stream",
     "text": [
      "PassengerId has 0 na values\n",
      "Survived has 0 na values\n",
      "Pclass has 0 na values\n",
      "Name has 0 na values\n",
      "Sex has 0 na values\n",
      "Age has 177 na values\n",
      "SibSp has 0 na values\n",
      "Parch has 0 na values\n",
      "Ticket has 0 na values\n",
      "Fare has 0 na values\n",
      "Cabin has 687 na values\n",
      "Embarked has 2 na values\n"
     ]
    },
    {
     "data": {
      "text/plain": [
       "29.69911764705882"
      ]
     },
     "execution_count": 87,
     "metadata": {},
     "output_type": "execute_result"
    }
   ],
   "source": [
    "for col in train:\n",
    "    print(f'{col} has {train[col].isna().sum()} na values')\n",
    "    \n",
    "train['Age'].mean()"
   ]
  },
  {
   "cell_type": "code",
   "execution_count": 89,
   "id": "bd0f4971-e895-411f-8f55-e15af7b77b03",
   "metadata": {
    "tags": []
   },
   "outputs": [
    {
     "data": {
      "image/png": "[encoded data removed]",
      "text/plain": [
       "<Figure size 640x480 with 1 Axes>"
      ]
     },
     "metadata": {},
     "output_type": "display_data"
    }
   ],
   "source": [
    "plt.hist(train['Age'], bins=20, color='skyblue', edgecolor='black')\n",
    "\n",
    "# Add labels and title\n",
    "plt.xlabel('Age')\n",
    "plt.ylabel('Frequency')\n",
    "plt.title('Histogram of Age')\n",
    "\n",
    "# Show plot\n",
    "plt.show()"
   ]
  },
  {
   "cell_type": "code",
   "execution_count": 90,
   "id": "bda33016-7696-4ba1-9f9b-a505f38b45dd",
   "metadata": {
    "tags": []
   },
   "outputs": [
    {
     "data": {
      "image/png": "[encoded data removed]",
      "text/plain": [
       "<Figure size 640x480 with 1 Axes>"
      ]
     },
     "metadata": {},
     "output_type": "display_data"
    }
   ],
   "source": [
    "train[\"Age\"] = train[\"Age\"].fillna(round(train[\"Age\"].mean()))\n",
    "\n",
    "plt.hist(train['Age'], bins=20, color='skyblue', edgecolor='black')\n",
    "\n",
    "# Add labels and title\n",
    "plt.xlabel('Age')\n",
    "plt.ylabel('Frequency')\n",
    "plt.title('Histogram of Age')\n",
    "\n",
    "# Show plot\n",
    "plt.show()"
   ]
  },
  {
   "cell_type": "code",
   "execution_count": 101,
   "id": "cf8792a2-d3fc-4f86-a026-e10f3fda529d",
   "metadata": {
    "tags": []
   },
   "outputs": [
    {
     "ename": "KeyError",
     "evalue": "'Embarked'",
     "output_type": "error",
     "traceback": [
      "\u001b[0;31m---------------------------------------------------------------------------\u001b[0m",
      "\u001b[0;31mKeyError\u001b[0m                                  Traceback (most recent call last)",
      "File \u001b[0;32m~/anaconda3/lib/python3.11/site-packages/pandas/core/indexes/base.py:3653\u001b[0m, in \u001b[0;36mIndex.get_loc\u001b[0;34m(self, key)\u001b[0m\n\u001b[1;32m   3652\u001b[0m \u001b[38;5;28;01mtry\u001b[39;00m:\n\u001b[0;32m-> 3653\u001b[0m     \u001b[38;5;28;01mreturn\u001b[39;00m \u001b[38;5;28mself\u001b[39m\u001b[38;5;241m.\u001b[39m_engine\u001b[38;5;241m.\u001b[39mget_loc(casted_key)\n\u001b[1;32m   3654\u001b[0m \u001b[38;5;28;01mexcept\u001b[39;00m \u001b[38;5;167;01mKeyError\u001b[39;00m \u001b[38;5;28;01mas\u001b[39;00m err:\n",
      "File \u001b[0;32m~/anaconda3/lib/python3.11/site-packages/pandas/_libs/index.pyx:147\u001b[0m, in \u001b[0;36mpandas._libs.index.IndexEngine.get_loc\u001b[0;34m()\u001b[0m\n",
      "File \u001b[0;32m~/anaconda3/lib/python3.11/site-packages/pandas/_libs/index.pyx:176\u001b[0m, in \u001b[0;36mpandas._libs.index.IndexEngine.get_loc\u001b[0;34m()\u001b[0m\n",
      "File \u001b[0;32mpandas/_libs/hashtable_class_helper.pxi:7080\u001b[0m, in \u001b[0;36mpandas._libs.hashtable.PyObjectHashTable.get_item\u001b[0;34m()\u001b[0m\n",
      "File \u001b[0;32mpandas/_libs/hashtable_class_helper.pxi:7088\u001b[0m, in \u001b[0;36mpandas._libs.hashtable.PyObjectHashTable.get_item\u001b[0;34m()\u001b[0m\n",
      "\u001b[0;31mKeyError\u001b[0m: 'Embarked'",
      "\nThe above exception was the direct cause of the following exception:\n",
      "\u001b[0;31mKeyError\u001b[0m                                  Traceback (most recent call last)",
      "Cell \u001b[0;32mIn[101], line 3\u001b[0m\n\u001b[1;32m      1\u001b[0m train[\u001b[38;5;124m\"\u001b[39m\u001b[38;5;124mSex\u001b[39m\u001b[38;5;124m\"\u001b[39m] \u001b[38;5;241m=\u001b[39m pd\u001b[38;5;241m.\u001b[39mget_dummies(train[[\u001b[38;5;124m\"\u001b[39m\u001b[38;5;124mSex\u001b[39m\u001b[38;5;124m\"\u001b[39m]], drop_first \u001b[38;5;241m=\u001b[39m \u001b[38;5;28;01mTrue\u001b[39;00m)\n\u001b[0;32m----> 3\u001b[0m train[\u001b[38;5;124m\"\u001b[39m\u001b[38;5;124mEmbarked\u001b[39m\u001b[38;5;124m\"\u001b[39m]\u001b[38;5;241m.\u001b[39mvalue_counts()\n\u001b[1;32m      5\u001b[0m train[\u001b[38;5;124m\"\u001b[39m\u001b[38;5;124mEmbarked\u001b[39m\u001b[38;5;124m\"\u001b[39m] \u001b[38;5;241m=\u001b[39m train[\u001b[38;5;124m\"\u001b[39m\u001b[38;5;124mEmbarked\u001b[39m\u001b[38;5;124m\"\u001b[39m]\u001b[38;5;241m.\u001b[39mfillna(\u001b[38;5;124m\"\u001b[39m\u001b[38;5;124mS\u001b[39m\u001b[38;5;124m\"\u001b[39m)\n\u001b[1;32m      8\u001b[0m train[\u001b[38;5;124m\"\u001b[39m\u001b[38;5;124mEmbarked_C\u001b[39m\u001b[38;5;124m\"\u001b[39m] \u001b[38;5;241m=\u001b[39m pd\u001b[38;5;241m.\u001b[39mget_dummies(train[[\u001b[38;5;124m\"\u001b[39m\u001b[38;5;124mEmbarked\u001b[39m\u001b[38;5;124m\"\u001b[39m]])[[\u001b[38;5;124m\"\u001b[39m\u001b[38;5;124mEmbarked_C\u001b[39m\u001b[38;5;124m\"\u001b[39m]]\n",
      "File \u001b[0;32m~/anaconda3/lib/python3.11/site-packages/pandas/core/frame.py:3761\u001b[0m, in \u001b[0;36mDataFrame.__getitem__\u001b[0;34m(self, key)\u001b[0m\n\u001b[1;32m   3759\u001b[0m \u001b[38;5;28;01mif\u001b[39;00m \u001b[38;5;28mself\u001b[39m\u001b[38;5;241m.\u001b[39mcolumns\u001b[38;5;241m.\u001b[39mnlevels \u001b[38;5;241m>\u001b[39m \u001b[38;5;241m1\u001b[39m:\n\u001b[1;32m   3760\u001b[0m     \u001b[38;5;28;01mreturn\u001b[39;00m \u001b[38;5;28mself\u001b[39m\u001b[38;5;241m.\u001b[39m_getitem_multilevel(key)\n\u001b[0;32m-> 3761\u001b[0m indexer \u001b[38;5;241m=\u001b[39m \u001b[38;5;28mself\u001b[39m\u001b[38;5;241m.\u001b[39mcolumns\u001b[38;5;241m.\u001b[39mget_loc(key)\n\u001b[1;32m   3762\u001b[0m \u001b[38;5;28;01mif\u001b[39;00m is_integer(indexer):\n\u001b[1;32m   3763\u001b[0m     indexer \u001b[38;5;241m=\u001b[39m [indexer]\n",
      "File \u001b[0;32m~/anaconda3/lib/python3.11/site-packages/pandas/core/indexes/base.py:3655\u001b[0m, in \u001b[0;36mIndex.get_loc\u001b[0;34m(self, key)\u001b[0m\n\u001b[1;32m   3653\u001b[0m     \u001b[38;5;28;01mreturn\u001b[39;00m \u001b[38;5;28mself\u001b[39m\u001b[38;5;241m.\u001b[39m_engine\u001b[38;5;241m.\u001b[39mget_loc(casted_key)\n\u001b[1;32m   3654\u001b[0m \u001b[38;5;28;01mexcept\u001b[39;00m \u001b[38;5;167;01mKeyError\u001b[39;00m \u001b[38;5;28;01mas\u001b[39;00m err:\n\u001b[0;32m-> 3655\u001b[0m     \u001b[38;5;28;01mraise\u001b[39;00m \u001b[38;5;167;01mKeyError\u001b[39;00m(key) \u001b[38;5;28;01mfrom\u001b[39;00m \u001b[38;5;21;01merr\u001b[39;00m\n\u001b[1;32m   3656\u001b[0m \u001b[38;5;28;01mexcept\u001b[39;00m \u001b[38;5;167;01mTypeError\u001b[39;00m:\n\u001b[1;32m   3657\u001b[0m     \u001b[38;5;66;03m# If we have a listlike key, _check_indexing_error will raise\u001b[39;00m\n\u001b[1;32m   3658\u001b[0m     \u001b[38;5;66;03m#  InvalidIndexError. Otherwise we fall through and re-raise\u001b[39;00m\n\u001b[1;32m   3659\u001b[0m     \u001b[38;5;66;03m#  the TypeError.\u001b[39;00m\n\u001b[1;32m   3660\u001b[0m     \u001b[38;5;28mself\u001b[39m\u001b[38;5;241m.\u001b[39m_check_indexing_error(key)\n",
      "\u001b[0;31mKeyError\u001b[0m: 'Embarked'"
     ]
    }
   ],
   "source": [
    "train[\"Sex\"] = pd.get_dummies(train[[\"Sex\"]], drop_first = True)\n",
    "\n",
    "train[\"Embarked\"].value_counts()\n",
    "\n",
    "train[\"Embarked\"] = train[\"Embarked\"].fillna(\"S\")\n",
    "        \n",
    "\n",
    "train[\"Embarked_C\"] = pd.get_dummies(train[[\"Embarked\"]])[[\"Embarked_C\"]]\n",
    "train[\"Embarked_S\"] = pd.get_dummies(train[[\"Embarked\"]])[[\"Embarked_S\"]]\n",
    "train[\"Embarked_Q\"] = pd.get_dummies(train[[\"Embarked\"]])[[\"Embarked_Q\"]]\n",
    "\n",
    "train = train.drop([\"Name\", \"Ticket\", \"Embarked\", \"Cabin\", \"PassengerId\"], axis = 1)\n",
    "\n",
    "#Talk about dropping these columns; especially about PassengerId, because of how much worse the models got after dropping it.\n",
    "\n",
    "train"
   ]
  },
  {
   "cell_type": "code",
   "execution_count": 93,
   "id": "e2bab170-317c-48ab-9ee3-1670106bde85",
   "metadata": {
    "tags": []
   },
   "outputs": [
    {
     "name": "stdout",
     "output_type": "stream",
     "text": [
      "623 623\n"
     ]
    }
   ],
   "source": [
    "from sklearn.model_selection import train_test_split\n",
    "\n",
    "x,y = train.iloc[:,np.r_[1:9]], train.iloc[:,0]\n",
    "\n",
    "x_train, x_test, y_train, y_test = train_test_split(x, y, test_size =0.3,\n",
    "                                                    random_state = 0,\n",
    "                                                    stratify=y)\n",
    "\n",
    "print(len(x_train),len(y_train))"
   ]
  },
  {
   "cell_type": "code",
   "execution_count": 95,
   "id": "57803b61-120c-445d-ba1b-d967e25153c4",
   "metadata": {
    "tags": []
   },
   "outputs": [],
   "source": [
    "from sklearn.preprocessing import StandardScaler\n",
    "stdsc = StandardScaler()\n",
    "x_train_std = stdsc.fit_transform(x_train)\n",
    "x_test_std = stdsc.transform(x_test)"
   ]
  },
  {
   "cell_type": "markdown",
   "id": "ed7bd30d-2c53-4de6-b19b-8be5fab3ca8e",
   "metadata": {},
   "source": [
    "## Sequential Backward selection (SBS) feature selection"
   ]
  },
  {
   "cell_type": "markdown",
   "id": "7ce24e16-db0a-4ca3-a840-226018818223",
   "metadata": {},
   "source": [
    "### Code"
   ]
  },
  {
   "cell_type": "code",
   "execution_count": 96,
   "id": "6eafd56e-a463-4685-b374-bad2a915b999",
   "metadata": {
    "tags": []
   },
   "outputs": [
    {
     "name": "stdout",
     "output_type": "stream",
     "text": [
      "(0, 1, 2, 3, 4, 5, 6)\n",
      "(0, 1, 2, 3, 4, 5, 7)\n",
      "(0, 1, 2, 3, 4, 6, 7)\n",
      "(0, 1, 2, 3, 5, 6, 7)\n",
      "(0, 1, 2, 4, 5, 6, 7)\n",
      "(0, 1, 3, 4, 5, 6, 7)\n",
      "(0, 2, 3, 4, 5, 6, 7)\n",
      "(1, 2, 3, 4, 5, 6, 7)\n"
     ]
    }
   ],
   "source": [
    "from sklearn.base import clone\n",
    "from itertools import combinations\n",
    "from sklearn.metrics import accuracy_score\n",
    "from sklearn.model_selection import train_test_split\n",
    "\n",
    "dim = x_train_std.shape[1]\n",
    "\n",
    "for p in combinations(tuple(range(dim)), r=dim -1):\n",
    "                      print(p)"
   ]
  },
  {
   "cell_type": "code",
   "execution_count": 97,
   "id": "02916cb2-5343-401a-8200-83f0a395e25f",
   "metadata": {
    "tags": []
   },
   "outputs": [],
   "source": [
    "class SBS:\n",
    "    def __init__(self, estimator, k_features, scoring = accuracy_score, test_size = 0.25, random_state = 1):\n",
    "        self.scoring = scoring\n",
    "        self.estimator = estimator\n",
    "        self.k_features = k_features\n",
    "        self.test_size = test_size\n",
    "        self.random_state = random_state\n",
    "        \n",
    "    def fit(self, x,y):\n",
    "        x_train,x_test,y_train,y_test = train_test_split(x,y,test_size = self.test_size,\n",
    "                                                        random_state = self.random_state)\n",
    "        dim = x_train.shape[1]\n",
    "        self.indices_ = tuple(range(dim))\n",
    "        self.subsets = [self.indices_]\n",
    "        score = self._calc_score(x_train,y_train,x_test,y_test,self.indices_)\n",
    "        self.scores_ = [score]\n",
    "        while dim > self.k_features:\n",
    "            scores = []\n",
    "            subsets = []\n",
    "            \n",
    "            for p in combinations(self.indices_, r=dim - 1):\n",
    "                score = self._calc_score(x_train,y_train,x_test,y_test, p)\n",
    "                scores.append(scores)\n",
    "                subsets.append(p)\n",
    "                \n",
    "            best = np.argmax(scores)\n",
    "            self.indices_ = subsets[best]\n",
    "            self.subsets_.append(self.indices_)\n",
    "            dim -= 1\n",
    "            \n",
    "            self.scores_.append(scores[best])\n",
    "        self.k_score_ = self.scores_[-1]\n",
    "        \n",
    "        return self\n",
    "    \n",
    "    def transform(self, x,y):\n",
    "        return x[:,self.indices_]\n",
    "    \n",
    "    def _calc_score(self, x_train,y_train,x_test,y_test, indices):\n",
    "        self.estimator.fit(x_train[:,indices],y_train)\n",
    "        y_pred = self.estimator.predict(x_test[:,indices])\n",
    "        score = self.scoring(y_test,y_pred)\n",
    "        return score"
   ]
  },
  {
   "cell_type": "markdown",
   "id": "bbcd9e43-34f1-471e-98c0-65b6812dd18c",
   "metadata": {},
   "source": [
    "## Use rf for feature selection"
   ]
  },
  {
   "cell_type": "markdown",
   "id": "ad28290a-99b5-4800-96d6-a56bbe4b3c74",
   "metadata": {},
   "source": [
    "Import feature selection function and combine with an rf to find the 5 most important features, and then use those features with other models. Compare those models to general rf, as well as models that don't use different methods of feature selection (SBS, manual) or no feature selection at all."
   ]
  },
  {
   "cell_type": "code",
   "execution_count": 98,
   "id": "8970b983-a30d-48f7-9935-0166639ee708",
   "metadata": {
    "tags": []
   },
   "outputs": [
    {
     "name": "stdout",
     "output_type": "stream",
     "text": [
      "21) Fare                           0.279459\n",
      "22) Sex                            0.251627\n",
      "23) Age                            0.251433\n",
      "24) Pclass                         0.087468\n",
      "25) SibSp                          0.054057\n",
      "26) Parch                          0.043381\n",
      "27) Embarked_S                     0.016794\n",
      "28) Embarked_C                     0.015780\n"
     ]
    }
   ],
   "source": [
    "from sklearn.ensemble import RandomForestClassifier\n",
    "feat_labels = x_train.columns\n",
    "forest = RandomForestClassifier(n_estimators = 500,\n",
    "                               random_state = 1,\n",
    "                               n_jobs = 2)\n",
    "forest.fit(x_train,y_train)\n",
    "importances = forest.feature_importances_\n",
    "indices = np.argsort(importances)[::-1]\n",
    "for f in range(x_train.shape[1]):\n",
    "    print(\"2%d) %-*s %f\" % (f + 1, 30, feat_labels[indices[f]], importances[indices[f]]))"
   ]
  },
  {
   "cell_type": "markdown",
   "id": "b9576d5a-aef0-4444-aa35-adc67f3899d6",
   "metadata": {
    "tags": []
   },
   "source": [
    "It looks like Fare, Sex, and Age are the most important. I have a feeling that Fare and Pclass are highly correlated."
   ]
  },
  {
   "cell_type": "markdown",
   "id": "bb897159-58a7-4149-a818-72e5be35c614",
   "metadata": {},
   "source": [
    "# Logistic Regression"
   ]
  },
  {
   "cell_type": "code",
   "execution_count": 102,
   "id": "471a00b8-533c-48db-a465-33f92b174324",
   "metadata": {},
   "outputs": [
    {
     "name": "stdout",
     "output_type": "stream",
     "text": [
      "Accuracy: 0.806\n",
      "New Highscore: 0.806\n"
     ]
    }
   ],
   "source": [
    "highscore = 0\n",
    "from sklearn.linear_model import LogisticRegression\n",
    "lr = LogisticRegression(C = 100, solver = 'newton-cg', multi_class = 'multinomial')\n",
    "lr.fit(x_train_std,y_train)\n",
    "\n",
    "y_pred = lr.predict(x_test_std)\n",
    "\n",
    "print(\"Accuracy: %0.3f\" % accuracy_score(y_test,y_pred))\n",
    "if highscore > accuracy_score(y_test,y_pred):\n",
    "    print(f\"Highscore: {highscore.round(3)}\")\n",
    "elif highscore < accuracy_score(y_test,y_pred):\n",
    "    highscore = accuracy_score(y_test,y_pred)\n",
    "    print(f\"New Highscore: {highscore.round(3)}\")\n",
    "else:\n",
    "    print(\"Score = Highscore\")"
   ]
  },
  {
   "cell_type": "code",
   "execution_count": 103,
   "id": "8509e2ca-7a54-47b6-a03a-afddf4fff909",
   "metadata": {
    "tags": []
   },
   "outputs": [
    {
     "name": "stdout",
     "output_type": "stream",
     "text": [
      "C = 1\n",
      "Accuracy for model 1: 0.8059701492537313\n",
      "C = 6\n",
      "Accuracy for model 6: 0.8059701492537313\n",
      "C = 11\n",
      "Accuracy for model 11: 0.8059701492537313\n",
      "C = 16\n",
      "Accuracy for model 16: 0.8059701492537313\n",
      "C = 21\n",
      "Accuracy for model 21: 0.8059701492537313\n",
      "C = 26\n",
      "Accuracy for model 26: 0.8059701492537313\n",
      "C = 31\n",
      "Accuracy for model 31: 0.8059701492537313\n",
      "C = 36\n",
      "Accuracy for model 36: 0.8059701492537313\n",
      "C = 41\n",
      "Accuracy for model 41: 0.8059701492537313\n",
      "C = 46\n",
      "Accuracy for model 46: 0.8059701492537313\n",
      "C = 51\n",
      "Accuracy for model 51: 0.8059701492537313\n",
      "C = 56\n",
      "Accuracy for model 56: 0.8059701492537313\n",
      "C = 61\n",
      "Accuracy for model 61: 0.8059701492537313\n",
      "C = 66\n",
      "Accuracy for model 66: 0.8059701492537313\n",
      "C = 71\n",
      "Accuracy for model 71: 0.8059701492537313\n",
      "C = 76\n",
      "Accuracy for model 76: 0.8059701492537313\n",
      "C = 81\n",
      "Accuracy for model 81: 0.8059701492537313\n",
      "C = 86\n",
      "Accuracy for model 86: 0.8059701492537313\n",
      "C = 91\n",
      "Accuracy for model 91: 0.8059701492537313\n",
      "C = 96\n",
      "Accuracy for model 96: 0.8059701492537313\n"
     ]
    }
   ],
   "source": [
    "for i in range(1,100,5):\n",
    "    lr_i = LogisticRegression(C = i, solver = 'newton-cg', multi_class = 'multinomial')\n",
    "    print(f\"C = {i}\")\n",
    "    lr_i.fit(x_train_std,y_train)\n",
    "\n",
    "    y_pred = lr_i.predict(x_test_std)\n",
    "    print(f'Accuracy for model {i}: {accuracy_score(y_test,y_pred)}')"
   ]
  },
  {
   "cell_type": "markdown",
   "id": "10387e21-f3ba-4a4a-9635-6e4db23fef6d",
   "metadata": {},
   "source": [
    "## SBS + LR"
   ]
  },
  {
   "cell_type": "code",
   "execution_count": 104,
   "id": "f78daabb-86b6-42a6-a0c8-e14481c67389",
   "metadata": {
    "tags": []
   },
   "outputs": [
    {
     "name": "stdout",
     "output_type": "stream",
     "text": [
      "Index(['Pclass', 'Sex', 'SibSp', 'Parch', 'Fare'], dtype='object')\n",
      "Accuracy: 0.795\n",
      "Highscore: 0.806\n"
     ]
    }
   ],
   "source": [
    "from sklearn.feature_selection import SequentialFeatureSelector\n",
    "\n",
    "sbs5 = SequentialFeatureSelector(lr, n_features_to_select = 5)\n",
    "sbs.fit(x_train_std, y_train)\n",
    "\n",
    "print(x_train.columns[list(np.where(sbs.get_support())[0])])\n",
    "\n",
    "x_train_sbs = x_train_std[:,list(np.where(sbs.get_support())[0])]\n",
    "\n",
    "lr_sbs = LogisticRegression(C = 100, solver = 'newton-cg', multi_class = 'multinomial')\n",
    "lr_sbs.fit(x_train_sbs,y_train)\n",
    "\n",
    "y_pred = lr_sbs.predict(x_test_std[:,list(np.where(sbs.get_support())[0])])\n",
    "\n",
    "print(\"Accuracy: %0.3f\" % accuracy_score(y_test,y_pred))\n",
    "if highscore > accuracy_score(y_test,y_pred):\n",
    "    print(f\"Highscore: {highscore.round(3)}\")\n",
    "elif highscore < accuracy_score(y_test,y_pred):\n",
    "    highscore = accuracy_score(y_test,y_pred)\n",
    "    print(f\"New Highscore: {highscore.round(3)}\")\n",
    "else:\n",
    "    print(\"Score = Highscore\")"
   ]
  },
  {
   "cell_type": "markdown",
   "id": "b6705e54-ab86-413d-bb5d-0b309ece5e68",
   "metadata": {},
   "source": [
    "Interesting that the accuracy went down a little bit after feature selection"
   ]
  },
  {
   "cell_type": "code",
   "execution_count": 105,
   "id": "78c26030-d54e-4e56-9223-ce3ee6e44782",
   "metadata": {
    "tags": []
   },
   "outputs": [
    {
     "name": "stdout",
     "output_type": "stream",
     "text": [
      "Index(['Sex', 'SibSp'], dtype='object')\n",
      "Accuracy: 0.799\n",
      "Highscore: 0.806\n"
     ]
    }
   ],
   "source": [
    "sbs2 = SequentialFeatureSelector(lr, n_features_to_select = 2)\n",
    "sbs2.fit(x_train_std, y_train)\n",
    "\n",
    "print(x_train.columns[list(np.where(sbs2.get_support())[0])])\n",
    "\n",
    "x_train_sbs2 = x_train_std[:,list(np.where(sbs2.get_support())[0])]\n",
    "\n",
    "lr_sbs2 = LogisticRegression(C = 100, solver = 'newton-cg', multi_class = 'multinomial')\n",
    "lr_sbs2.fit(x_train_sbs2,y_train)\n",
    "\n",
    "y_pred = lr_sbs2.predict(x_test_std[:,list(np.where(sbs2.get_support())[0])])\n",
    "\n",
    "print(\"Accuracy: %0.3f\" % accuracy_score(y_test,y_pred))\n",
    "if highscore > accuracy_score(y_test,y_pred):\n",
    "    print(f\"Highscore: {highscore.round(3)}\")\n",
    "elif highscore < accuracy_score(y_test,y_pred):\n",
    "    highscore = accuracy_score(y_test,y_pred)\n",
    "    print(f\"New Highscore: {highscore.round(3)}\")\n",
    "else:\n",
    "    print(\"Score = Highscore\")"
   ]
  },
  {
   "cell_type": "markdown",
   "id": "f5146f79-4b86-4e1c-ae84-8df2cc6ac33f",
   "metadata": {},
   "source": [
    "Looks like you get a max of ~80% accuracy with the logistic regression models no matter how many variables you use, or what regularization coefficients you use."
   ]
  },
  {
   "cell_type": "markdown",
   "id": "709e6aa8-77f6-4086-b8b7-2d8775cdc9a4",
   "metadata": {},
   "source": [
    "# RF"
   ]
  },
  {
   "cell_type": "code",
   "execution_count": 106,
   "id": "672e76ba-9ccc-4dd0-8720-c6ebcb889793",
   "metadata": {
    "tags": []
   },
   "outputs": [
    {
     "name": "stdout",
     "output_type": "stream",
     "text": [
      "Accuracy: 0.784\n",
      "Highscore: 0.806\n"
     ]
    }
   ],
   "source": [
    "from sklearn.ensemble import RandomForestClassifier\n",
    "forest = RandomForestClassifier(n_estimators = 25,\n",
    "                               random_state=1,\n",
    "                               n_jobs = 2)\n",
    "forest.fit(x_train,y_train)\n",
    "y_pred = forest.predict(x_test)\n",
    "\n",
    "print(\"Accuracy: %0.3f\" % accuracy_score(y_test,y_pred))\n",
    "if highscore > accuracy_score(y_test,y_pred):\n",
    "    print(f\"Highscore: {highscore.round(3)}\")\n",
    "elif highscore < accuracy_score(y_test,y_pred):\n",
    "    highscore = accuracy_score(y_test,y_pred)\n",
    "    print(f\"New Highscore!: {highscore.round(3)}\")\n",
    "else:\n",
    "    print(\"Score = Highscore\")"
   ]
  },
  {
   "cell_type": "code",
   "execution_count": 107,
   "id": "6cebac11-7e8a-4c67-bf6c-26c9a20f3826",
   "metadata": {
    "tags": []
   },
   "outputs": [
    {
     "name": "stdout",
     "output_type": "stream",
     "text": [
      "Accuracy: 0.806\n",
      "Score = Highscore\n"
     ]
    }
   ],
   "source": [
    "from sklearn.ensemble import RandomForestClassifier\n",
    "forest = RandomForestClassifier(n_estimators = 50,\n",
    "                               random_state=1,\n",
    "                               n_jobs = 2)\n",
    "forest.fit(x_train,y_train)\n",
    "y_pred = forest.predict(x_test)\n",
    "\n",
    "print(\"Accuracy: %0.3f\" % accuracy_score(y_test,y_pred))\n",
    "if highscore > accuracy_score(y_test,y_pred):\n",
    "    print(f\"Highscore: {highscore.round(3)}\")\n",
    "elif highscore < accuracy_score(y_test,y_pred):\n",
    "    highscore = accuracy_score(y_test,y_pred)\n",
    "    print(f\"New Highscore!: {highscore.round(3)}\")\n",
    "else:\n",
    "    print(\"Score = Highscore\")"
   ]
  },
  {
   "cell_type": "code",
   "execution_count": null,
   "id": "51032f7e-9241-42ee-aefa-fd9fb5fc9dab",
   "metadata": {
    "tags": []
   },
   "outputs": [],
   "source": [
    "score_list = []\n",
    "for i in list(range(1,500,5)):\n",
    "    forest = RandomForestClassifier(n_estimators = i,\n",
    "                               random_state=1,\n",
    "                               n_jobs = 2)\n",
    "    forest.fit(x_train,y_train)\n",
    "    y_pred = forest.predict(x_test)\n",
    "    score_list.append([accuracy_score(y_test,y_pred), f\"n_estimators = {i}\"])\n",
    "    \n",
    "\n",
    "max(score_list)"
   ]
  },
  {
   "cell_type": "code",
   "execution_count": null,
   "id": "4f310bc7-8b59-488c-91dc-ee0a7296fdef",
   "metadata": {
    "tags": []
   },
   "outputs": [],
   "source": [
    "from sklearn.ensemble import RandomForestClassifier\n",
    "forest = RandomForestClassifier(n_estimators = 31,\n",
    "                               random_state=1,\n",
    "                               n_jobs = 2)\n",
    "forest.fit(x_train,y_train)\n",
    "y_pred = forest.predict(x_test)\n",
    "\n",
    "print(\"Accuracy: %0.3f\" % accuracy_score(y_test,y_pred))\n",
    "if highscore > accuracy_score(y_test,y_pred):\n",
    "    print(f\"Highscore: {highscore.round(3)}\")\n",
    "elif highscore < accuracy_score(y_test,y_pred):\n",
    "    highscore = accuracy_score(y_test,y_pred)\n",
    "    print(f\"New Highscore!: {highscore.round(3)}\")\n",
    "else:\n",
    "    print(\"Score = Highscore\")"
   ]
  },
  {
   "cell_type": "markdown",
   "id": "07b4a5cc-f208-4b9e-b549-e7af943e015c",
   "metadata": {},
   "source": [
    "# Perceptron"
   ]
  }
 ],
 "metadata": {
  "kernelspec": {
   "display_name": "Python 3 (ipykernel)",
   "language": "python",
   "name": "python3"
  },
  "language_info": {
   "codemirror_mode": {
    "name": "ipython",
    "version": 3
   },
   "file_extension": ".py",
   "mimetype": "text/x-python",
   "name": "python",
   "nbconvert_exporter": "python",
   "pygments_lexer": "ipython3",
   "version": "3.11.5"
  }
 },
 "nbformat": 4,
 "nbformat_minor": 5
}

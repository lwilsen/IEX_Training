{
 "cells": [
  {
   "cell_type": "markdown",
   "id": "7465fa8c-8747-4029-9625-bbe09c96034b",
   "metadata": {},
   "source": [
    "# Reading in intial dataset"
   ]
  },
  {
   "cell_type": "code",
   "execution_count": 1,
   "id": "344ff259-d9d9-402b-af7d-5c3df93be782",
   "metadata": {
    "tags": []
   },
   "outputs": [
    {
     "data": {
      "text/html": [
       "<div>\n",
       "<style scoped>\n",
       "    .dataframe tbody tr th:only-of-type {\n",
       "        vertical-align: middle;\n",
       "    }\n",
       "\n",
       "    .dataframe tbody tr th {\n",
       "        vertical-align: top;\n",
       "    }\n",
       "\n",
       "    .dataframe thead th {\n",
       "        text-align: right;\n",
       "    }\n",
       "</style>\n",
       "<table border=\"1\" class=\"dataframe\">\n",
       "  <thead>\n",
       "    <tr style=\"text-align: right;\">\n",
       "      <th></th>\n",
       "      <th>PassengerId</th>\n",
       "      <th>Survived</th>\n",
       "      <th>Pclass</th>\n",
       "      <th>Name</th>\n",
       "      <th>Sex</th>\n",
       "      <th>Age</th>\n",
       "      <th>SibSp</th>\n",
       "      <th>Parch</th>\n",
       "      <th>Ticket</th>\n",
       "      <th>Fare</th>\n",
       "      <th>Cabin</th>\n",
       "      <th>Embarked</th>\n",
       "    </tr>\n",
       "  </thead>\n",
       "  <tbody>\n",
       "    <tr>\n",
       "      <th>885</th>\n",
       "      <td>886</td>\n",
       "      <td>0.0</td>\n",
       "      <td>3</td>\n",
       "      <td>Rice, Mrs. William (Margaret Norton)</td>\n",
       "      <td>female</td>\n",
       "      <td>39.0</td>\n",
       "      <td>0</td>\n",
       "      <td>5</td>\n",
       "      <td>382652</td>\n",
       "      <td>29.1250</td>\n",
       "      <td>NaN</td>\n",
       "      <td>Q</td>\n",
       "    </tr>\n",
       "    <tr>\n",
       "      <th>886</th>\n",
       "      <td>887</td>\n",
       "      <td>0.0</td>\n",
       "      <td>2</td>\n",
       "      <td>Montvila, Rev. Juozas</td>\n",
       "      <td>male</td>\n",
       "      <td>27.0</td>\n",
       "      <td>0</td>\n",
       "      <td>0</td>\n",
       "      <td>211536</td>\n",
       "      <td>13.0000</td>\n",
       "      <td>NaN</td>\n",
       "      <td>S</td>\n",
       "    </tr>\n",
       "    <tr>\n",
       "      <th>887</th>\n",
       "      <td>888</td>\n",
       "      <td>1.0</td>\n",
       "      <td>1</td>\n",
       "      <td>Graham, Miss. Margaret Edith</td>\n",
       "      <td>female</td>\n",
       "      <td>19.0</td>\n",
       "      <td>0</td>\n",
       "      <td>0</td>\n",
       "      <td>112053</td>\n",
       "      <td>30.0000</td>\n",
       "      <td>B42</td>\n",
       "      <td>S</td>\n",
       "    </tr>\n",
       "    <tr>\n",
       "      <th>888</th>\n",
       "      <td>889</td>\n",
       "      <td>0.0</td>\n",
       "      <td>3</td>\n",
       "      <td>Johnston, Miss. Catherine Helen \"Carrie\"</td>\n",
       "      <td>female</td>\n",
       "      <td>NaN</td>\n",
       "      <td>1</td>\n",
       "      <td>2</td>\n",
       "      <td>W./C. 6607</td>\n",
       "      <td>23.4500</td>\n",
       "      <td>NaN</td>\n",
       "      <td>S</td>\n",
       "    </tr>\n",
       "    <tr>\n",
       "      <th>889</th>\n",
       "      <td>890</td>\n",
       "      <td>1.0</td>\n",
       "      <td>1</td>\n",
       "      <td>Behr, Mr. Karl Howell</td>\n",
       "      <td>male</td>\n",
       "      <td>26.0</td>\n",
       "      <td>0</td>\n",
       "      <td>0</td>\n",
       "      <td>111369</td>\n",
       "      <td>30.0000</td>\n",
       "      <td>C148</td>\n",
       "      <td>C</td>\n",
       "    </tr>\n",
       "    <tr>\n",
       "      <th>890</th>\n",
       "      <td>891</td>\n",
       "      <td>0.0</td>\n",
       "      <td>3</td>\n",
       "      <td>Dooley, Mr. Patrick</td>\n",
       "      <td>male</td>\n",
       "      <td>32.0</td>\n",
       "      <td>0</td>\n",
       "      <td>0</td>\n",
       "      <td>370376</td>\n",
       "      <td>7.7500</td>\n",
       "      <td>NaN</td>\n",
       "      <td>Q</td>\n",
       "    </tr>\n",
       "    <tr>\n",
       "      <th>0</th>\n",
       "      <td>892</td>\n",
       "      <td>NaN</td>\n",
       "      <td>3</td>\n",
       "      <td>Kelly, Mr. James</td>\n",
       "      <td>male</td>\n",
       "      <td>34.5</td>\n",
       "      <td>0</td>\n",
       "      <td>0</td>\n",
       "      <td>330911</td>\n",
       "      <td>7.8292</td>\n",
       "      <td>NaN</td>\n",
       "      <td>Q</td>\n",
       "    </tr>\n",
       "    <tr>\n",
       "      <th>1</th>\n",
       "      <td>893</td>\n",
       "      <td>NaN</td>\n",
       "      <td>3</td>\n",
       "      <td>Wilkes, Mrs. James (Ellen Needs)</td>\n",
       "      <td>female</td>\n",
       "      <td>47.0</td>\n",
       "      <td>1</td>\n",
       "      <td>0</td>\n",
       "      <td>363272</td>\n",
       "      <td>7.0000</td>\n",
       "      <td>NaN</td>\n",
       "      <td>S</td>\n",
       "    </tr>\n",
       "    <tr>\n",
       "      <th>2</th>\n",
       "      <td>894</td>\n",
       "      <td>NaN</td>\n",
       "      <td>2</td>\n",
       "      <td>Myles, Mr. Thomas Francis</td>\n",
       "      <td>male</td>\n",
       "      <td>62.0</td>\n",
       "      <td>0</td>\n",
       "      <td>0</td>\n",
       "      <td>240276</td>\n",
       "      <td>9.6875</td>\n",
       "      <td>NaN</td>\n",
       "      <td>Q</td>\n",
       "    </tr>\n",
       "    <tr>\n",
       "      <th>3</th>\n",
       "      <td>895</td>\n",
       "      <td>NaN</td>\n",
       "      <td>3</td>\n",
       "      <td>Wirz, Mr. Albert</td>\n",
       "      <td>male</td>\n",
       "      <td>27.0</td>\n",
       "      <td>0</td>\n",
       "      <td>0</td>\n",
       "      <td>315154</td>\n",
       "      <td>8.6625</td>\n",
       "      <td>NaN</td>\n",
       "      <td>S</td>\n",
       "    </tr>\n",
       "  </tbody>\n",
       "</table>\n",
       "</div>"
      ],
      "text/plain": [
       "     PassengerId  Survived  Pclass                                      Name  \\\n",
       "885          886       0.0       3      Rice, Mrs. William (Margaret Norton)   \n",
       "886          887       0.0       2                     Montvila, Rev. Juozas   \n",
       "887          888       1.0       1              Graham, Miss. Margaret Edith   \n",
       "888          889       0.0       3  Johnston, Miss. Catherine Helen \"Carrie\"   \n",
       "889          890       1.0       1                     Behr, Mr. Karl Howell   \n",
       "890          891       0.0       3                       Dooley, Mr. Patrick   \n",
       "0            892       NaN       3                          Kelly, Mr. James   \n",
       "1            893       NaN       3          Wilkes, Mrs. James (Ellen Needs)   \n",
       "2            894       NaN       2                 Myles, Mr. Thomas Francis   \n",
       "3            895       NaN       3                          Wirz, Mr. Albert   \n",
       "\n",
       "        Sex   Age  SibSp  Parch      Ticket     Fare Cabin Embarked  \n",
       "885  female  39.0      0      5      382652  29.1250   NaN        Q  \n",
       "886    male  27.0      0      0      211536  13.0000   NaN        S  \n",
       "887  female  19.0      0      0      112053  30.0000   B42        S  \n",
       "888  female   NaN      1      2  W./C. 6607  23.4500   NaN        S  \n",
       "889    male  26.0      0      0      111369  30.0000  C148        C  \n",
       "890    male  32.0      0      0      370376   7.7500   NaN        Q  \n",
       "0      male  34.5      0      0      330911   7.8292   NaN        Q  \n",
       "1    female  47.0      1      0      363272   7.0000   NaN        S  \n",
       "2      male  62.0      0      0      240276   9.6875   NaN        Q  \n",
       "3      male  27.0      0      0      315154   8.6625   NaN        S  "
      ]
     },
     "execution_count": 1,
     "metadata": {},
     "output_type": "execute_result"
    }
   ],
   "source": [
    "import pandas as pd\n",
    "from sklearn.preprocessing import MinMaxScaler\n",
    "from sklearn.ensemble import RandomForestClassifier\n",
    "from sklearn.linear_model import LogisticRegression\n",
    "from sklearn.neighbors import KNeighborsClassifier\n",
    "from sklearn.svm import SVC\n",
    "from sklearn.metrics import accuracy_score\n",
    "from sklearn.pipeline import Pipeline\n",
    "from sklearn.ensemble import (\n",
    "    BaggingClassifier,\n",
    "    GradientBoostingClassifier,\n",
    "    StackingClassifier,\n",
    "    VotingClassifier,\n",
    ")\n",
    "import pickle\n",
    "\n",
    "train = pd.read_csv(\"titanic_train.csv\")\n",
    "test = pd.read_csv(\"titanic_test.csv\")\n",
    "gender_submission = pd.read_csv(\"gender_submission.csv\")\n",
    "\n",
    "df_data = pd.concat([train, test])\n",
    "df_data[885:895]"
   ]
  },
  {
   "cell_type": "markdown",
   "id": "4a8d8781-f67d-4134-af30-b56c7abe8eb3",
   "metadata": {},
   "source": [
    "## Title Variable Extraction (Only for replacing the age with title median)"
   ]
  },
  {
   "cell_type": "code",
   "execution_count": 2,
   "id": "2c0490a0-3a58-49e2-896d-0910df29cd5b",
   "metadata": {
    "tags": []
   },
   "outputs": [
    {
     "name": "stdout",
     "output_type": "stream",
     "text": [
      "Index(['PassengerId', 'Survived', 'Pclass', 'Name', 'Sex', 'Age', 'SibSp',\n",
      "       'Parch', 'Ticket', 'Fare', 'Cabin', 'Embarked', 'Title', 'Title_Honor',\n",
      "       'Title_Master', 'Title_Military', 'Title_Miss', 'Title_Mr',\n",
      "       'Title_Mrs'],\n",
      "      dtype='object') Index(['PassengerId', 'Pclass', 'Name', 'Sex', 'Age', 'SibSp', 'Parch',\n",
      "       'Ticket', 'Fare', 'Cabin', 'Embarked', 'Title', 'Title_Master',\n",
      "       'Title_Military', 'Title_Miss', 'Title_Mr', 'Title_Mrs'],\n",
      "      dtype='object')\n"
     ]
    }
   ],
   "source": [
    "df_data[\"Title\"] = df_data.Name.str.extract(\" ([A-Za-z]+)\\.\", expand=False)\n",
    "\n",
    "df_data[\"Title\"] = df_data[\"Title\"].replace(\"Master\", \"Master\")\n",
    "df_data[\"Title\"] = df_data[\"Title\"].replace(\"Mlle\", \"Miss\")\n",
    "df_data[\"Title\"] = df_data[\"Title\"].replace([\"Mme\", \"Dona\", \"Ms\"], \"Mrs\")\n",
    "df_data[\"Title\"] = df_data[\"Title\"].replace([\"Don\", \"Jonkheer\"], \"Mr\")\n",
    "df_data[\"Title\"] = df_data[\"Title\"].replace(\n",
    "    [\"Capt\", \"Rev\", \"Major\", \"Col\", \"Dr\"], \"Military\"\n",
    ")\n",
    "df_data[\"Title\"] = df_data[\"Title\"].replace([\"Lady\", \"Countess\", \"Sir\"], \"Honor\")\n",
    "\n",
    "train[\"Title\"] = df_data[\"Title\"][:891]\n",
    "test[\"Title\"] = df_data[\"Title\"][891:]\n",
    "\n",
    "# convert Title categories to Columns\n",
    "titledummies = pd.get_dummies(train[[\"Title\"]], prefix_sep=\"_\")  # Title\n",
    "train = pd.concat([train, titledummies], axis=1)\n",
    "ttitledummies = pd.get_dummies(test[[\"Title\"]], prefix_sep=\"_\")  # Title\n",
    "test = pd.concat([test, ttitledummies], axis=1)\n",
    "\n",
    "print(train.columns, test.columns)\n",
    "\n",
    "# Imputes age by median based on specific title\n",
    "titles = [\"Master\", \"Miss\", \"Mr\", \"Mrs\", \"Military\", \"Honor\"]\n",
    "for title in titles:\n",
    "    age_to_impute = df_data.groupby(\"Title\")[\"Age\"].median()[title]\n",
    "    df_data.loc[(df_data[\"Age\"].isnull()) & (df_data[\"Title\"] == title), \"Age\"] = (\n",
    "        age_to_impute\n",
    "    )\n",
    "train[\"Age\"] = df_data[\"Age\"][:891]\n",
    "test[\"Age\"] = df_data[\"Age\"][891:]"
   ]
  },
  {
   "cell_type": "markdown",
   "id": "2d8e1d44-93dd-45f2-8439-e9eb532e3856",
   "metadata": {},
   "source": [
    "## Dummies and Drops"
   ]
  },
  {
   "cell_type": "code",
   "execution_count": 3,
   "id": "cf8792a2-d3fc-4f86-a026-e10f3fda529d",
   "metadata": {
    "tags": []
   },
   "outputs": [
    {
     "name": "stdout",
     "output_type": "stream",
     "text": [
      "Index(['PassengerId', 'Survived', 'Male', 'Age', 'SibSp', 'Parch', 'Fare',\n",
      "       'class_1', 'class_2', 'class_3'],\n",
      "      dtype='object') Index(['PassengerId', 'Male', 'Age', 'SibSp', 'Parch', 'Fare', 'class_1',\n",
      "       'class_2', 'class_3'],\n",
      "      dtype='object')\n"
     ]
    },
    {
     "name": "stderr",
     "output_type": "stream",
     "text": [
      "/var/folders/1k/3mrcqp5d4670v77qsx12xwmm0000gn/T/ipykernel_71524/3203438251.py:26: FutureWarning: A value is trying to be set on a copy of a DataFrame or Series through chained assignment using an inplace method.\n",
      "The behavior will change in pandas 3.0. This inplace method will never work because the intermediate object on which we are setting values always behaves as a copy.\n",
      "\n",
      "For example, when doing 'df[col].method(value, inplace=True)', try using 'df.method({col: value}, inplace=True)' or df[col] = df[col].method(value) instead, to perform the operation inplace on the original object.\n",
      "\n",
      "\n",
      "  test['Fare'].fillna(value = round(test['Fare'].mean()), inplace = True)\n"
     ]
    }
   ],
   "source": [
    "train = pd.get_dummies(train, columns=[\"Pclass\"], prefix=[\"class\"])\n",
    "test = pd.get_dummies(test, columns=[\"Pclass\"], prefix=[\"class\"])\n",
    "train[[\"class_1\", \"class_2\", \"class_3\"]] = train[\n",
    "    [\"class_1\", \"class_2\", \"class_3\"]\n",
    "].astype(int)\n",
    "test[[\"class_1\", \"class_2\", \"class_3\"]] = test[\n",
    "    [\"class_1\", \"class_2\", \"class_3\"]\n",
    "].astype(int)\n",
    "\n",
    "train[\"Sex\"] = pd.get_dummies(train[[\"Sex\"]], drop_first=True)\n",
    "train.rename(columns={\"Sex\": \"Male\"}, inplace=True)\n",
    "test[\"Sex\"] = pd.get_dummies(test[[\"Sex\"]], drop_first=True)\n",
    "test.rename(columns={\"Sex\": \"Male\"}, inplace=True)\n",
    "\n",
    "\n",
    "train = train.drop([\"Name\", \"Ticket\", \"Embarked\", \"Cabin\"], axis=1)\n",
    "train = train.drop([\"Title\"], axis=1)\n",
    "\n",
    "title_list = [\n",
    "    \"Title_Honor\",\n",
    "    \"Title_Master\",\n",
    "    \"Title_Military\",\n",
    "    \"Title_Miss\",\n",
    "    \"Title_Mr\",\n",
    "    \"Title_Mrs\",\n",
    "]\n",
    "\n",
    "train = train.drop(title_list, axis=1)\n",
    "\n",
    "test = test.drop([\"Name\", \"Ticket\", \"Embarked\", \"Cabin\"], axis=1)\n",
    "test = test.drop([\"Title\"], axis=1)\n",
    "\n",
    "test_title_list = [\n",
    "    \"Title_Master\",\n",
    "    \"Title_Military\",\n",
    "    \"Title_Miss\",\n",
    "    \"Title_Mr\",\n",
    "    \"Title_Mrs\",\n",
    "]\n",
    "\n",
    "test = test.drop(test_title_list, axis=1)\n",
    "\n",
    "test[\"Fare\"].fillna(value=round(test[\"Fare\"].mean()), inplace=True)\n",
    "\n",
    "print(train.columns, test.columns)"
   ]
  },
  {
   "cell_type": "code",
   "execution_count": 6,
   "id": "e18cd78a",
   "metadata": {},
   "outputs": [
    {
     "name": "stdout",
     "output_type": "stream",
     "text": [
      "PassengerId      893\n",
      "Male           False\n",
      "Age             47.0\n",
      "SibSp              1\n",
      "Parch              0\n",
      "Fare             7.0\n",
      "class_1            0\n",
      "class_2            0\n",
      "class_3            1\n",
      "Name: 1, dtype: object\n"
     ]
    }
   ],
   "source": [
    "with open(\"train.pkl\", \"wb\") as file:\n",
    "    pickle.dump(train, file)\n",
    "\n",
    "with open(\"test.pkl\", \"wb\") as file:\n",
    "    pickle.dump(test, file)\n",
    "\n",
    "print(test.iloc[1,])"
   ]
  },
  {
   "cell_type": "markdown",
   "id": "b87bc7fd-764f-49ad-bbff-52e4136f0f93",
   "metadata": {
    "tags": []
   },
   "source": [
    "# x_train, y_train, x_test, y_test"
   ]
  },
  {
   "cell_type": "code",
   "execution_count": 13,
   "id": "6299cf2c-40f1-4504-b9ff-f0a71ace9960",
   "metadata": {
    "tags": []
   },
   "outputs": [],
   "source": [
    "x_train = train[\n",
    "    [\"Male\", \"Age\", \"SibSp\", \"Parch\", \"Fare\", \"class_1\", \"class_2\", \"class_3\"]\n",
    "]\n",
    "y_train = train[[\"Survived\"]]\n",
    "\n",
    "x_test = test[\n",
    "    [\"Male\", \"Age\", \"SibSp\", \"Parch\", \"Fare\", \"class_1\", \"class_2\", \"class_3\"]\n",
    "]\n",
    "y_test = gender_submission[[\"Survived\"]]"
   ]
  },
  {
   "cell_type": "code",
   "execution_count": 14,
   "id": "07ce03a8",
   "metadata": {},
   "outputs": [],
   "source": [
    "# define the scaler\n",
    "scaler = MinMaxScaler()\n",
    "\n",
    "# define models\n",
    "lr_mod = LogisticRegression()\n",
    "svc_model = SVC()\n",
    "rf_model = RandomForestClassifier()\n",
    "knn_mod = KNeighborsClassifier(n_neighbors=5)\n",
    "\n",
    "# pipelines\n",
    "pipeline_lr = Pipeline([(\"scaler\", scaler), (\"lr\", lr_mod)])\n",
    "\n",
    "pipeline_svc = Pipeline([(\"scaler\", scaler), (\"svc\", svc_model)])\n",
    "\n",
    "pipeline_rf = Pipeline([(\"scaler\", scaler), (\"rfc\", rf_model)])\n",
    "\n",
    "pipeline_knn = Pipeline([(\"scaler\", scaler), (\"knn\", knn_mod)])"
   ]
  },
  {
   "cell_type": "code",
   "execution_count": 15,
   "id": "b2819e9d",
   "metadata": {},
   "outputs": [
    {
     "name": "stderr",
     "output_type": "stream",
     "text": [
      "/Users/lukewilsen/anaconda3/lib/python3.11/site-packages/sklearn/utils/validation.py:1339: DataConversionWarning: A column-vector y was passed when a 1d array was expected. Please change the shape of y to (n_samples, ), for example using ravel().\n",
      "  y = column_or_1d(y, warn=True)\n",
      "/Users/lukewilsen/anaconda3/lib/python3.11/site-packages/sklearn/utils/validation.py:1339: DataConversionWarning: A column-vector y was passed when a 1d array was expected. Please change the shape of y to (n_samples, ), for example using ravel().\n",
      "  y = column_or_1d(y, warn=True)\n",
      "/Users/lukewilsen/anaconda3/lib/python3.11/site-packages/sklearn/base.py:1473: DataConversionWarning: A column-vector y was passed when a 1d array was expected. Please change the shape of y to (n_samples,), for example using ravel().\n",
      "  return fit_method(estimator, *args, **kwargs)\n"
     ]
    },
    {
     "name": "stdout",
     "output_type": "stream",
     "text": [
      "lr accuracy = 0.9593301435406698\n",
      "svc accuracy = 0.9832535885167464\n",
      "rf accuracy = 0.8157894736842105\n",
      "knn accuracy = 0.8373205741626795\n"
     ]
    },
    {
     "name": "stderr",
     "output_type": "stream",
     "text": [
      "/Users/lukewilsen/anaconda3/lib/python3.11/site-packages/sklearn/neighbors/_classification.py:238: DataConversionWarning: A column-vector y was passed when a 1d array was expected. Please change the shape of y to (n_samples,), for example using ravel().\n",
      "  return self._fit(X, y)\n"
     ]
    }
   ],
   "source": [
    "# Fit pipelines\n",
    "pipeline_lr.fit(x_train, y_train)\n",
    "y_pred_lr = pipeline_lr.predict(x_test)\n",
    "pipeline_lr_acc = accuracy_score(y_pred_lr, y_test)\n",
    "print(f\"lr accuracy = {pipeline_lr_acc}\")\n",
    "\n",
    "pipeline_svc.fit(x_train, y_train)\n",
    "y_pred_svc = pipeline_svc.predict(x_test)\n",
    "pipeline_svc_acc = accuracy_score(y_pred_svc, y_test)\n",
    "print(f\"svc accuracy = {pipeline_svc_acc}\")\n",
    "\n",
    "pipeline_rf.fit(x_train, y_train)\n",
    "y_pred_rf = pipeline_rf.predict(x_test)\n",
    "pipeline_rf_acc = accuracy_score(y_pred_rf, y_test)\n",
    "print(f\"rf accuracy = {pipeline_rf_acc}\")\n",
    "\n",
    "pipeline_knn.fit(x_train, y_train)\n",
    "y_pred_knn = pipeline_knn.predict(x_test)\n",
    "pipeline_knn_acc = accuracy_score(y_pred_knn, y_test)\n",
    "print(f\"knn accuracy = {pipeline_knn_acc}\")"
   ]
  },
  {
   "cell_type": "code",
   "execution_count": 16,
   "id": "f0245c20",
   "metadata": {},
   "outputs": [
    {
     "name": "stdout",
     "output_type": "stream",
     "text": [
      "svc2 acc = 0.9832535885167464\n"
     ]
    },
    {
     "name": "stderr",
     "output_type": "stream",
     "text": [
      "/Users/lukewilsen/anaconda3/lib/python3.11/site-packages/sklearn/utils/validation.py:1339: DataConversionWarning: A column-vector y was passed when a 1d array was expected. Please change the shape of y to (n_samples, ), for example using ravel().\n",
      "  y = column_or_1d(y, warn=True)\n"
     ]
    }
   ],
   "source": [
    "with open(\"svc_pipeline.pkl\", \"wb\") as file:\n",
    "    pickle.dump(pipeline_svc, file)\n",
    "\n",
    "with open(\"svc_pipeline.pkl\", \"rb\") as file:\n",
    "    svc_pipeline2 = pickle.load(file)\n",
    "\n",
    "svc_pipeline2.fit(x_train, y_train)\n",
    "y_pred_svc2 = svc_pipeline2.predict(x_test)\n",
    "svc_pipeline2_acc = accuracy_score(y_pred_svc2, y_test)\n",
    "print(f\"svc2 acc = {svc_pipeline2_acc}\")"
   ]
  },
  {
   "cell_type": "code",
   "execution_count": 7,
   "id": "b7442add",
   "metadata": {},
   "outputs": [
    {
     "name": "stderr",
     "output_type": "stream",
     "text": [
      "/Users/lukewilsen/anaconda3/lib/python3.11/site-packages/sklearn/ensemble/_bagging.py:888: DataConversionWarning: A column-vector y was passed when a 1d array was expected. Please change the shape of y to (n_samples, ), for example using ravel().\n",
      "  y = column_or_1d(y, warn=True)\n",
      "/Users/lukewilsen/anaconda3/lib/python3.11/site-packages/sklearn/preprocessing/_label.py:114: DataConversionWarning: A column-vector y was passed when a 1d array was expected. Please change the shape of y to (n_samples, ), for example using ravel().\n",
      "  y = column_or_1d(y, warn=True)\n"
     ]
    },
    {
     "name": "stdout",
     "output_type": "stream",
     "text": [
      "lr_model: 0.9665071770334929\n",
      "Boosting Model Accuracy: 0.88\n"
     ]
    },
    {
     "name": "stderr",
     "output_type": "stream",
     "text": [
      "/Users/lukewilsen/anaconda3/lib/python3.11/site-packages/sklearn/preprocessing/_label.py:97: DataConversionWarning: A column-vector y was passed when a 1d array was expected. Please change the shape of y to (n_samples, ), for example using ravel().\n",
      "  y = column_or_1d(y, warn=True)\n",
      "/Users/lukewilsen/anaconda3/lib/python3.11/site-packages/sklearn/preprocessing/_label.py:132: DataConversionWarning: A column-vector y was passed when a 1d array was expected. Please change the shape of y to (n_samples, ), for example using ravel().\n",
      "  y = column_or_1d(y, dtype=self.classes_.dtype, warn=True)\n"
     ]
    },
    {
     "name": "stdout",
     "output_type": "stream",
     "text": [
      "Stacking Model Accuracy: 0.81\n"
     ]
    },
    {
     "name": "stderr",
     "output_type": "stream",
     "text": [
      "/Users/lukewilsen/anaconda3/lib/python3.11/site-packages/sklearn/preprocessing/_label.py:97: DataConversionWarning: A column-vector y was passed when a 1d array was expected. Please change the shape of y to (n_samples, ), for example using ravel().\n",
      "  y = column_or_1d(y, warn=True)\n",
      "/Users/lukewilsen/anaconda3/lib/python3.11/site-packages/sklearn/preprocessing/_label.py:132: DataConversionWarning: A column-vector y was passed when a 1d array was expected. Please change the shape of y to (n_samples, ), for example using ravel().\n",
      "  y = column_or_1d(y, dtype=self.classes_.dtype, warn=True)\n"
     ]
    },
    {
     "name": "stdout",
     "output_type": "stream",
     "text": [
      "Majority Voting Model Accuracy: 0.73\n"
     ]
    }
   ],
   "source": [
    "# Bagging\n",
    "bagging_model = BaggingClassifier(\n",
    "    estimator=pipeline_lr, n_estimators=10, random_state=42\n",
    ")\n",
    "bagging_model.fit(x_train, y_train)\n",
    "y_pred = bagging_model.predict(x_test)\n",
    "accuracy = accuracy_score(y_test, y_pred)\n",
    "\n",
    "print(f\"lr_model: {accuracy}\")\n",
    "\n",
    "# Boosting\n",
    "boosting_model = GradientBoostingClassifier(\n",
    "    n_estimators=100, learning_rate=0.1, random_state=42\n",
    ")\n",
    "boosting_model.fit(x_train, y_train)\n",
    "y_pred = boosting_model.predict(x_test)\n",
    "accuracy = accuracy_score(y_test, y_pred)\n",
    "\n",
    "print(f\"Boosting Model Accuracy: {accuracy:.2f}\")\n",
    "\n",
    "# Stacking\n",
    "level1_models = [(\"svc\", svc_model), (\"rf\", rf_model), (\"knn\", knn_mod)]\n",
    "# Define the final estimator\n",
    "final_estimator = lr_mod\n",
    "\n",
    "stacking_model = StackingClassifier(\n",
    "    estimators=level1_models, final_estimator=final_estimator, cv=5\n",
    ")\n",
    "stacking_model.fit(x_train, y_train)\n",
    "y_pred = stacking_model.predict(x_test)\n",
    "accuracy = accuracy_score(y_test, y_pred)\n",
    "\n",
    "print(f\"Stacking Model Accuracy: {accuracy:.2f}\")\n",
    "\n",
    "# Majority\n",
    "voting_model = VotingClassifier(\n",
    "    estimators=level1_models, voting=\"hard\"\n",
    ")  # Hard voting for classification - SOFT is regression\n",
    "voting_model.fit(x_train, y_train)\n",
    "y_pred = voting_model.predict(x_test)\n",
    "accuracy = accuracy_score(y_test, y_pred)\n",
    "\n",
    "print(f\"Majority Voting Model Accuracy: {accuracy:.2f}\")"
   ]
  },
  {
   "cell_type": "code",
   "execution_count": 8,
   "id": "f4f88929",
   "metadata": {},
   "outputs": [
    {
     "name": "stdout",
     "output_type": "stream",
     "text": [
      "VotingClassifier\n"
     ]
    }
   ],
   "source": [
    "print(voting_model.__class__.__name__)\n",
    "\n",
    "dict = {\"a\": 1, \"b\": 2, \"c\": 3}"
   ]
  },
  {
   "cell_type": "code",
   "execution_count": 9,
   "id": "d73dda17",
   "metadata": {},
   "outputs": [
    {
     "name": "stdout",
     "output_type": "stream",
     "text": [
      "3\n"
     ]
    }
   ],
   "source": []
  }
 ],
 "metadata": {
  "kernelspec": {
   "display_name": "base",
   "language": "python",
   "name": "python3"
  },
  "language_info": {
   "codemirror_mode": {
    "name": "ipython",
    "version": 3
   },
   "file_extension": ".py",
   "mimetype": "text/x-python",
   "name": "python",
   "nbconvert_exporter": "python",
   "pygments_lexer": "ipython3",
   "version": "3.11.9"
  }
 },
 "nbformat": 4,
 "nbformat_minor": 5
}
